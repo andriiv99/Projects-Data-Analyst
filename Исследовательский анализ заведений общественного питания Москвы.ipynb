{
 "cells": [
  {
   "cell_type": "markdown",
   "id": "e06910dd",
   "metadata": {
    "id": "e06910dd"
   },
   "source": [
    "# Исследовательский анализ заведений общественного питания Москвы\n",
    "\n",
    "- Автор: Андриив Ирина\n",
    "- Дата: 26.05.2025"
   ]
  },
  {
   "cell_type": "markdown",
   "id": "4149134c",
   "metadata": {
    "id": "4149134c"
   },
   "source": [
    "### Цели и задачи проекта\n",
    "\n",
    "<font color='#777778'>***Цель проекта:*** провести исследовательский анализ заведений общественного питания Москвы с целью определения наиболее подходящего инвесторам места.  \n",
    "***Задачи:***  \n",
    "1.Загрузить данные и познакомиться с их содержимым.  \n",
    "2.Провести предобработку данных.  \n",
    "3.Провести исследовательский анализ данных.   \n",
    "4.Сформулировать выводы по проведённому анализу.  </font>"
   ]
  },
  {
   "cell_type": "markdown",
   "id": "728986ea",
   "metadata": {
    "id": "728986ea"
   },
   "source": [
    "### Описание данных\n",
    "\n",
    "<font color='#777778'> В качестве исходных данных представлены 2 датасета: первый содержит информацию о заведениях общественного питания, второй содержит информацию о среднем чеке в заведениях общественного питания."
   ]
  },
  {
   "cell_type": "markdown",
   "id": "4fecaf95",
   "metadata": {
    "id": "4fecaf95"
   },
   "source": [
    "### Содержимое проекта\n",
    "\n",
    "<font color='#777778'>1. Загрузка данных и знакомство с ними  \n",
    "2. Предобработка данных  \n",
    "3. Исследовательский анализ данных  \n",
    "4. Итоговый вывод и рекомендации  </font>\n",
    "\n",
    "---"
   ]
  },
  {
   "cell_type": "markdown",
   "id": "6f7d21d6",
   "metadata": {
    "id": "6f7d21d6"
   },
   "source": [
    "## 1. Загрузка данных и знакомство с ними"
   ]
  },
  {
   "cell_type": "code",
   "execution_count": 1,
   "id": "637573fb",
   "metadata": {},
   "outputs": [
    {
     "name": "stdout",
     "output_type": "stream",
     "text": [
      "Requirement already satisfied: phik in /opt/conda/lib/python3.9/site-packages (0.12.4)\r\n",
      "Requirement already satisfied: numpy>=1.18.0 in /opt/conda/lib/python3.9/site-packages (from phik) (1.21.1)\r\n",
      "Requirement already satisfied: pandas>=0.25.1 in /opt/conda/lib/python3.9/site-packages (from phik) (1.2.4)\r\n",
      "Requirement already satisfied: scipy>=1.5.2 in /opt/conda/lib/python3.9/site-packages (from phik) (1.9.1)\r\n",
      "Requirement already satisfied: matplotlib>=2.2.3 in /opt/conda/lib/python3.9/site-packages (from phik) (3.3.4)\r\n",
      "Requirement already satisfied: joblib>=0.14.1 in /opt/conda/lib/python3.9/site-packages (from phik) (1.1.0)\r\n",
      "Requirement already satisfied: pyparsing!=2.0.4,!=2.1.2,!=2.1.6,>=2.0.3 in /opt/conda/lib/python3.9/site-packages (from matplotlib>=2.2.3->phik) (2.4.7)\r\n",
      "Requirement already satisfied: pillow>=6.2.0 in /opt/conda/lib/python3.9/site-packages (from matplotlib>=2.2.3->phik) (8.4.0)\r\n",
      "Requirement already satisfied: kiwisolver>=1.0.1 in /opt/conda/lib/python3.9/site-packages (from matplotlib>=2.2.3->phik) (1.4.4)\r\n",
      "Requirement already satisfied: cycler>=0.10 in /opt/conda/lib/python3.9/site-packages (from matplotlib>=2.2.3->phik) (0.11.0)\r\n",
      "Requirement already satisfied: python-dateutil>=2.1 in /opt/conda/lib/python3.9/site-packages (from matplotlib>=2.2.3->phik) (2.8.1)\r\n",
      "Requirement already satisfied: pytz>=2017.3 in /opt/conda/lib/python3.9/site-packages (from pandas>=0.25.1->phik) (2021.1)\r\n",
      "Requirement already satisfied: six>=1.5 in /opt/conda/lib/python3.9/site-packages (from python-dateutil>=2.1->matplotlib>=2.2.3->phik) (1.16.0)\r\n"
     ]
    }
   ],
   "source": [
    "# Установим библиотеку phik\n",
    "!pip install phik"
   ]
  },
  {
   "cell_type": "code",
   "execution_count": 2,
   "id": "05faf34b",
   "metadata": {
    "id": "05faf34b"
   },
   "outputs": [],
   "source": [
    "# Вызывем необходимые библиотеки\n",
    "import pandas as pd\n",
    "import matplotlib.pyplot as plt\n",
    "import seaborn as sns\n",
    "import phik"
   ]
  },
  {
   "cell_type": "code",
   "execution_count": 3,
   "id": "ce87c1db",
   "metadata": {
    "id": "ce87c1db"
   },
   "outputs": [],
   "source": [
    "# Загрузим первый датасет rest_info\n",
    "rest_info = pd.read_csv(...)"
   ]
  },
  {
   "cell_type": "code",
   "execution_count": 4,
   "id": "90fee493",
   "metadata": {
    "id": "90fee493"
   },
   "outputs": [],
   "source": [
    "# Загрузим второй датасет rest_price\n",
    "rest_price = pd.read_csv(...)"
   ]
  },
  {
   "cell_type": "markdown",
   "id": "18b5dfff",
   "metadata": {
    "id": "18b5dfff"
   },
   "source": [
    "- Познакомьтесь с данными и изучите общую информацию о них."
   ]
  },
  {
   "cell_type": "code",
   "execution_count": 5,
   "id": "f68a7419",
   "metadata": {
    "id": "f68a7419"
   },
   "outputs": [
    {
     "data": {
      "text/html": [
       "<div>\n",
       "<style scoped>\n",
       "    .dataframe tbody tr th:only-of-type {\n",
       "        vertical-align: middle;\n",
       "    }\n",
       "\n",
       "    .dataframe tbody tr th {\n",
       "        vertical-align: top;\n",
       "    }\n",
       "\n",
       "    .dataframe thead th {\n",
       "        text-align: right;\n",
       "    }\n",
       "</style>\n",
       "<table border=\"1\" class=\"dataframe\">\n",
       "  <thead>\n",
       "    <tr style=\"text-align: right;\">\n",
       "      <th></th>\n",
       "      <th>id</th>\n",
       "      <th>name</th>\n",
       "      <th>category</th>\n",
       "      <th>address</th>\n",
       "      <th>district</th>\n",
       "      <th>hours</th>\n",
       "      <th>rating</th>\n",
       "      <th>chain</th>\n",
       "      <th>seats</th>\n",
       "    </tr>\n",
       "  </thead>\n",
       "  <tbody>\n",
       "    <tr>\n",
       "      <th>0</th>\n",
       "      <td>0c3e3439a8c64ea5bf6ecd6ca6ae19f0</td>\n",
       "      <td>WoWфли</td>\n",
       "      <td>кафе</td>\n",
       "      <td>Москва, улица Дыбенко, 7/1</td>\n",
       "      <td>Северный административный округ</td>\n",
       "      <td>ежедневно, 10:00–22:00</td>\n",
       "      <td>5.0</td>\n",
       "      <td>0</td>\n",
       "      <td>NaN</td>\n",
       "    </tr>\n",
       "    <tr>\n",
       "      <th>1</th>\n",
       "      <td>045780ada3474c57a2112e505d74b633</td>\n",
       "      <td>Четыре комнаты</td>\n",
       "      <td>ресторан</td>\n",
       "      <td>Москва, улица Дыбенко, 36, корп. 1</td>\n",
       "      <td>Северный административный округ</td>\n",
       "      <td>ежедневно, 10:00–22:00</td>\n",
       "      <td>4.5</td>\n",
       "      <td>0</td>\n",
       "      <td>4.0</td>\n",
       "    </tr>\n",
       "    <tr>\n",
       "      <th>2</th>\n",
       "      <td>1070b6b59144425896c65889347fcff6</td>\n",
       "      <td>Хазри</td>\n",
       "      <td>кафе</td>\n",
       "      <td>Москва, Клязьминская улица, 15</td>\n",
       "      <td>Северный административный округ</td>\n",
       "      <td>пн-чт 11:00–02:00; пт,сб 11:00–05:00; вс 11:00...</td>\n",
       "      <td>4.6</td>\n",
       "      <td>0</td>\n",
       "      <td>45.0</td>\n",
       "    </tr>\n",
       "    <tr>\n",
       "      <th>3</th>\n",
       "      <td>03ac7cd772104f65b58b349dc59f03ee</td>\n",
       "      <td>Dormouse Coffee Shop</td>\n",
       "      <td>кофейня</td>\n",
       "      <td>Москва, улица Маршала Федоренко, 12</td>\n",
       "      <td>Северный административный округ</td>\n",
       "      <td>ежедневно, 09:00–22:00</td>\n",
       "      <td>5.0</td>\n",
       "      <td>0</td>\n",
       "      <td>NaN</td>\n",
       "    </tr>\n",
       "    <tr>\n",
       "      <th>4</th>\n",
       "      <td>a163aada139c4c7f87b0b1c0b466a50f</td>\n",
       "      <td>Иль Марко</td>\n",
       "      <td>пиццерия</td>\n",
       "      <td>Москва, Правобережная улица, 1Б</td>\n",
       "      <td>Северный административный округ</td>\n",
       "      <td>ежедневно, 10:00–22:00</td>\n",
       "      <td>5.0</td>\n",
       "      <td>1</td>\n",
       "      <td>148.0</td>\n",
       "    </tr>\n",
       "  </tbody>\n",
       "</table>\n",
       "</div>"
      ],
      "text/plain": [
       "                                 id                  name  category  \\\n",
       "0  0c3e3439a8c64ea5bf6ecd6ca6ae19f0                WoWфли      кафе   \n",
       "1  045780ada3474c57a2112e505d74b633        Четыре комнаты  ресторан   \n",
       "2  1070b6b59144425896c65889347fcff6                 Хазри      кафе   \n",
       "3  03ac7cd772104f65b58b349dc59f03ee  Dormouse Coffee Shop   кофейня   \n",
       "4  a163aada139c4c7f87b0b1c0b466a50f             Иль Марко  пиццерия   \n",
       "\n",
       "                               address                         district  \\\n",
       "0           Москва, улица Дыбенко, 7/1  Северный административный округ   \n",
       "1   Москва, улица Дыбенко, 36, корп. 1  Северный административный округ   \n",
       "2       Москва, Клязьминская улица, 15  Северный административный округ   \n",
       "3  Москва, улица Маршала Федоренко, 12  Северный административный округ   \n",
       "4      Москва, Правобережная улица, 1Б  Северный административный округ   \n",
       "\n",
       "                                               hours  rating  chain  seats  \n",
       "0                             ежедневно, 10:00–22:00     5.0      0    NaN  \n",
       "1                             ежедневно, 10:00–22:00     4.5      0    4.0  \n",
       "2  пн-чт 11:00–02:00; пт,сб 11:00–05:00; вс 11:00...     4.6      0   45.0  \n",
       "3                             ежедневно, 09:00–22:00     5.0      0    NaN  \n",
       "4                             ежедневно, 10:00–22:00     5.0      1  148.0  "
      ]
     },
     "metadata": {},
     "output_type": "display_data"
    },
    {
     "name": "stdout",
     "output_type": "stream",
     "text": [
      "<class 'pandas.core.frame.DataFrame'>\n",
      "RangeIndex: 8406 entries, 0 to 8405\n",
      "Data columns (total 9 columns):\n",
      " #   Column    Non-Null Count  Dtype  \n",
      "---  ------    --------------  -----  \n",
      " 0   id        8406 non-null   object \n",
      " 1   name      8406 non-null   object \n",
      " 2   category  8406 non-null   object \n",
      " 3   address   8406 non-null   object \n",
      " 4   district  8406 non-null   object \n",
      " 5   hours     7870 non-null   object \n",
      " 6   rating    8406 non-null   float64\n",
      " 7   chain     8406 non-null   int64  \n",
      " 8   seats     4795 non-null   float64\n",
      "dtypes: float64(2), int64(1), object(6)\n",
      "memory usage: 591.2+ KB\n"
     ]
    },
    {
     "data": {
      "text/plain": [
       "None"
      ]
     },
     "metadata": {},
     "output_type": "display_data"
    }
   ],
   "source": [
    "#Выведем первые 5 строк и инфо о датасете rest_info\n",
    "display(rest_info.head())\n",
    "display(rest_info.info())"
   ]
  },
  {
   "cell_type": "code",
   "execution_count": 6,
   "id": "3158ad37",
   "metadata": {
    "id": "3158ad37"
   },
   "outputs": [
    {
     "data": {
      "text/html": [
       "<div>\n",
       "<style scoped>\n",
       "    .dataframe tbody tr th:only-of-type {\n",
       "        vertical-align: middle;\n",
       "    }\n",
       "\n",
       "    .dataframe tbody tr th {\n",
       "        vertical-align: top;\n",
       "    }\n",
       "\n",
       "    .dataframe thead th {\n",
       "        text-align: right;\n",
       "    }\n",
       "</style>\n",
       "<table border=\"1\" class=\"dataframe\">\n",
       "  <thead>\n",
       "    <tr style=\"text-align: right;\">\n",
       "      <th></th>\n",
       "      <th>id</th>\n",
       "      <th>price</th>\n",
       "      <th>avg_bill</th>\n",
       "      <th>middle_avg_bill</th>\n",
       "      <th>middle_coffee_cup</th>\n",
       "    </tr>\n",
       "  </thead>\n",
       "  <tbody>\n",
       "    <tr>\n",
       "      <th>0</th>\n",
       "      <td>045780ada3474c57a2112e505d74b633</td>\n",
       "      <td>выше среднего</td>\n",
       "      <td>Средний счёт:1500–1600 ₽</td>\n",
       "      <td>1550.0</td>\n",
       "      <td>NaN</td>\n",
       "    </tr>\n",
       "    <tr>\n",
       "      <th>1</th>\n",
       "      <td>1070b6b59144425896c65889347fcff6</td>\n",
       "      <td>средние</td>\n",
       "      <td>Средний счёт:от 1000 ₽</td>\n",
       "      <td>1000.0</td>\n",
       "      <td>NaN</td>\n",
       "    </tr>\n",
       "    <tr>\n",
       "      <th>2</th>\n",
       "      <td>03ac7cd772104f65b58b349dc59f03ee</td>\n",
       "      <td>NaN</td>\n",
       "      <td>Цена чашки капучино:155–185 ₽</td>\n",
       "      <td>NaN</td>\n",
       "      <td>170.0</td>\n",
       "    </tr>\n",
       "    <tr>\n",
       "      <th>3</th>\n",
       "      <td>a163aada139c4c7f87b0b1c0b466a50f</td>\n",
       "      <td>средние</td>\n",
       "      <td>Средний счёт:400–600 ₽</td>\n",
       "      <td>500.0</td>\n",
       "      <td>NaN</td>\n",
       "    </tr>\n",
       "    <tr>\n",
       "      <th>4</th>\n",
       "      <td>8a343546b24e4a499ad96eb7d0797a8a</td>\n",
       "      <td>средние</td>\n",
       "      <td>NaN</td>\n",
       "      <td>NaN</td>\n",
       "      <td>NaN</td>\n",
       "    </tr>\n",
       "  </tbody>\n",
       "</table>\n",
       "</div>"
      ],
      "text/plain": [
       "                                 id          price  \\\n",
       "0  045780ada3474c57a2112e505d74b633  выше среднего   \n",
       "1  1070b6b59144425896c65889347fcff6        средние   \n",
       "2  03ac7cd772104f65b58b349dc59f03ee            NaN   \n",
       "3  a163aada139c4c7f87b0b1c0b466a50f        средние   \n",
       "4  8a343546b24e4a499ad96eb7d0797a8a        средние   \n",
       "\n",
       "                        avg_bill  middle_avg_bill  middle_coffee_cup  \n",
       "0       Средний счёт:1500–1600 ₽           1550.0                NaN  \n",
       "1         Средний счёт:от 1000 ₽           1000.0                NaN  \n",
       "2  Цена чашки капучино:155–185 ₽              NaN              170.0  \n",
       "3         Средний счёт:400–600 ₽            500.0                NaN  \n",
       "4                            NaN              NaN                NaN  "
      ]
     },
     "metadata": {},
     "output_type": "display_data"
    },
    {
     "name": "stdout",
     "output_type": "stream",
     "text": [
      "<class 'pandas.core.frame.DataFrame'>\n",
      "RangeIndex: 4058 entries, 0 to 4057\n",
      "Data columns (total 5 columns):\n",
      " #   Column             Non-Null Count  Dtype  \n",
      "---  ------             --------------  -----  \n",
      " 0   id                 4058 non-null   object \n",
      " 1   price              3315 non-null   object \n",
      " 2   avg_bill           3816 non-null   object \n",
      " 3   middle_avg_bill    3149 non-null   float64\n",
      " 4   middle_coffee_cup  535 non-null    float64\n",
      "dtypes: float64(2), object(3)\n",
      "memory usage: 158.6+ KB\n"
     ]
    },
    {
     "data": {
      "text/plain": [
       "None"
      ]
     },
     "metadata": {},
     "output_type": "display_data"
    }
   ],
   "source": [
    "# Выведем первые 5 строк и инфо о датасете rest_price\n",
    "display(rest_price.head())\n",
    "display(rest_price.info())"
   ]
  },
  {
   "cell_type": "markdown",
   "id": "2c614a62",
   "metadata": {
    "id": "2c614a62"
   },
   "source": [
    "---\n",
    "\n",
    "### Промежуточный вывод\n",
    "\n",
    "Сделайте промежуточный вывод о полученных данных: данные какого объёма вам предоставили, соответствуют ли данные описанию, встречаются ли в них пропуски, используются ли верные типы данных. Отметьте другие особенности данных, которые вы обнаружите на этой стадии и на которые стоит обратить внимание при предобработке."
   ]
  },
  {
   "cell_type": "markdown",
   "id": "71712ad5",
   "metadata": {
    "id": "3593b7d5"
   },
   "source": [
    "Согласно полученной информации, датасет rest_info включает 8406 строк и 9 столбцов. В столбцах hours и seats присутствуют пропущенные данные.  \n",
    "Датасет rest_price включает 4058 строк и 5 столбцов. Датасет содержит пропуски в каждом столбце, кроме столбца id. Тип данных столбца price в датасете - object, должен быть заменен на тип данных category."
   ]
  },
  {
   "cell_type": "markdown",
   "id": "8a8d1491",
   "metadata": {
    "id": "8a8d1491"
   },
   "source": [
    "### Подготовка единого датафрейма\n",
    "\n",
    "- Объедините данные двух датасетов в один, с которым вы и продолжите работу."
   ]
  },
  {
   "cell_type": "code",
   "execution_count": 7,
   "id": "3408e303",
   "metadata": {
    "id": "3408e303"
   },
   "outputs": [],
   "source": [
    "# Объединяем два датасета в один:\n",
    "df = rest_info.merge(rest_price, on='id', how='left')"
   ]
  },
  {
   "cell_type": "code",
   "execution_count": 8,
   "id": "5695950b",
   "metadata": {
    "id": "5695950b"
   },
   "outputs": [
    {
     "name": "stdout",
     "output_type": "stream",
     "text": [
      "<class 'pandas.core.frame.DataFrame'>\n",
      "Int64Index: 8406 entries, 0 to 8405\n",
      "Data columns (total 13 columns):\n",
      " #   Column             Non-Null Count  Dtype  \n",
      "---  ------             --------------  -----  \n",
      " 0   id                 8406 non-null   object \n",
      " 1   name               8406 non-null   object \n",
      " 2   category           8406 non-null   object \n",
      " 3   address            8406 non-null   object \n",
      " 4   district           8406 non-null   object \n",
      " 5   hours              7870 non-null   object \n",
      " 6   rating             8406 non-null   float64\n",
      " 7   chain              8406 non-null   int64  \n",
      " 8   seats              4795 non-null   float64\n",
      " 9   price              3315 non-null   object \n",
      " 10  avg_bill           3816 non-null   object \n",
      " 11  middle_avg_bill    3149 non-null   float64\n",
      " 12  middle_coffee_cup  535 non-null    float64\n",
      "dtypes: float64(4), int64(1), object(8)\n",
      "memory usage: 919.4+ KB\n"
     ]
    },
    {
     "data": {
      "text/plain": [
       "None"
      ]
     },
     "metadata": {},
     "output_type": "display_data"
    }
   ],
   "source": [
    "# Выведем инфо об объединенном датасете\n",
    "display(df.info())"
   ]
  },
  {
   "cell_type": "code",
   "execution_count": 9,
   "id": "8cc8d86e",
   "metadata": {},
   "outputs": [],
   "source": [
    "# Сохраним изначальное количество строк в датасете\n",
    "df_rows = df.shape[0]"
   ]
  },
  {
   "cell_type": "code",
   "execution_count": 10,
   "id": "3a408d4a",
   "metadata": {},
   "outputs": [],
   "source": [
    "# Сохраним изначальное количество столбцов в датасете\n",
    "df_columns = df.shape[1]"
   ]
  },
  {
   "cell_type": "markdown",
   "id": "956e82e2",
   "metadata": {
    "id": "956e82e2"
   },
   "source": [
    "## 2. Предобработка данных\n"
   ]
  },
  {
   "cell_type": "markdown",
   "id": "49e8cc67",
   "metadata": {},
   "source": [
    "Анализ датасета показал, что тип данных столбца price в датасете - object, должен быть заменен на тип данных category"
   ]
  },
  {
   "cell_type": "code",
   "execution_count": 12,
   "id": "67956690",
   "metadata": {
    "id": "67956690"
   },
   "outputs": [],
   "source": [
    "# Преобразуем тип данных столбца price\n",
    "df['price'] = df['price'].astype('category')"
   ]
  },
  {
   "cell_type": "code",
   "execution_count": 13,
   "id": "b5f2a94d",
   "metadata": {
    "id": "b5f2a94d"
   },
   "outputs": [
    {
     "data": {
      "text/plain": [
       "CategoricalDtype(categories=['высокие', 'выше среднего', 'низкие', 'средние'], ordered=False)"
      ]
     },
     "execution_count": 13,
     "metadata": {},
     "output_type": "execute_result"
    }
   ],
   "source": [
    "# Проверим обновленный тип данных\n",
    "df['price'].dtypes"
   ]
  },
  {
   "cell_type": "code",
   "execution_count": 14,
   "id": "3d8840ca",
   "metadata": {
    "id": "3d8840ca"
   },
   "outputs": [
    {
     "data": {
      "text/plain": [
       "id                      0\n",
       "name                    0\n",
       "category                0\n",
       "address                 0\n",
       "district                0\n",
       "hours                 536\n",
       "rating                  0\n",
       "chain                   0\n",
       "seats                3611\n",
       "price                5091\n",
       "avg_bill             4590\n",
       "middle_avg_bill      5257\n",
       "middle_coffee_cup    7871\n",
       "dtype: int64"
      ]
     },
     "execution_count": 14,
     "metadata": {},
     "output_type": "execute_result"
    }
   ],
   "source": [
    "# Выведем количество пропущенных значений в датафрейме в абсолютном выражении\n",
    "df.isna().sum()"
   ]
  },
  {
   "cell_type": "code",
   "execution_count": 15,
   "id": "2ea145ca",
   "metadata": {
    "id": "2ea145ca"
   },
   "outputs": [
    {
     "data": {
      "text/plain": [
       "id                    0.000000\n",
       "name                  0.000000\n",
       "category              0.000000\n",
       "address               0.000000\n",
       "district              0.000000\n",
       "hours                 6.376398\n",
       "rating                0.000000\n",
       "chain                 0.000000\n",
       "seats                42.957411\n",
       "price                60.563883\n",
       "avg_bill             54.603854\n",
       "middle_avg_bill      62.538663\n",
       "middle_coffee_cup    93.635498\n",
       "dtype: float64"
      ]
     },
     "execution_count": 15,
     "metadata": {},
     "output_type": "execute_result"
    }
   ],
   "source": [
    "# Выведем количество пропущенных значений в датафрейме в относительном выражении\n",
    "df.isna().mean() *100"
   ]
  },
  {
   "cell_type": "markdown",
   "id": "51fea633",
   "metadata": {
    "id": "d9e7c358"
   },
   "source": [
    "Согласно полученным результатам, пропущенные значения содержатся в столбцах hours, seats, price, avg_bill, middle_avg_bill, middle_coffee_cup. Пропущенные значения в столбцах невозможно получить путем расчета, также удалять строки с пропущенными значениями нецелесообразно, так как они составляют высокий процент от общего количества строк. Предлагается оставить строки с пропущенными значениями без изменений и не учитывать их в дальнейших расчетах. Для столбцов с категориальными данными (hours, avg_bill) пропущенные значения предлагается заменить на категории-индикаторы для подсчета доли пропущенных значений "
   ]
  },
  {
   "cell_type": "code",
   "execution_count": 17,
   "id": "0652595e",
   "metadata": {},
   "outputs": [],
   "source": [
    "# Заменим пропуски на категории-индикаторы\n",
    "df['hours'] = df['hours'].fillna('нет данных')"
   ]
  },
  {
   "cell_type": "code",
   "execution_count": 18,
   "id": "fb6fa8f5",
   "metadata": {},
   "outputs": [],
   "source": [
    "# Заменим пропуски на категории-индикаторы\n",
    "df['avg_bill'] = df['avg_bill'].fillna('нет данных')"
   ]
  },
  {
   "cell_type": "code",
   "execution_count": 19,
   "id": "0769b681",
   "metadata": {
    "id": "0769b681"
   },
   "outputs": [
    {
     "data": {
      "text/html": [
       "<div>\n",
       "<style scoped>\n",
       "    .dataframe tbody tr th:only-of-type {\n",
       "        vertical-align: middle;\n",
       "    }\n",
       "\n",
       "    .dataframe tbody tr th {\n",
       "        vertical-align: top;\n",
       "    }\n",
       "\n",
       "    .dataframe thead th {\n",
       "        text-align: right;\n",
       "    }\n",
       "</style>\n",
       "<table border=\"1\" class=\"dataframe\">\n",
       "  <thead>\n",
       "    <tr style=\"text-align: right;\">\n",
       "      <th></th>\n",
       "      <th>id</th>\n",
       "      <th>name</th>\n",
       "      <th>category</th>\n",
       "      <th>address</th>\n",
       "      <th>district</th>\n",
       "      <th>hours</th>\n",
       "      <th>rating</th>\n",
       "      <th>chain</th>\n",
       "      <th>seats</th>\n",
       "      <th>price</th>\n",
       "      <th>avg_bill</th>\n",
       "      <th>middle_avg_bill</th>\n",
       "      <th>middle_coffee_cup</th>\n",
       "    </tr>\n",
       "  </thead>\n",
       "  <tbody>\n",
       "  </tbody>\n",
       "</table>\n",
       "</div>"
      ],
      "text/plain": [
       "Empty DataFrame\n",
       "Columns: [id, name, category, address, district, hours, rating, chain, seats, price, avg_bill, middle_avg_bill, middle_coffee_cup]\n",
       "Index: []"
      ]
     },
     "metadata": {},
     "output_type": "display_data"
    }
   ],
   "source": [
    "# Проверим датасет на явные дубликаты \n",
    "display(df[df.duplicated()])"
   ]
  },
  {
   "cell_type": "markdown",
   "id": "5c62f0c6",
   "metadata": {
    "id": "95b15cd0"
   },
   "source": [
    "Явных дубликатов не обнаружено"
   ]
  },
  {
   "cell_type": "code",
   "execution_count": 20,
   "id": "230e7e91",
   "metadata": {},
   "outputs": [],
   "source": [
    "# Приведем строковые данные в столбце name к единому виду\n",
    "df['name'] = df['name'].str.lower()\n",
    "df['name'] = df['name'].str.replace(' ', '_')"
   ]
  },
  {
   "cell_type": "code",
   "execution_count": 21,
   "id": "17fc2bc8",
   "metadata": {},
   "outputs": [],
   "source": [
    "# Приведем строковые данные в столбце address к единому виду\n",
    "df['address'] = df['address'].str.lower()\n",
    "df['address'] = df['address'].str.replace(' ', '_')"
   ]
  },
  {
   "cell_type": "code",
   "execution_count": 22,
   "id": "b52bae9a",
   "metadata": {
    "id": "b52bae9a"
   },
   "outputs": [
    {
     "data": {
      "text/html": [
       "<div>\n",
       "<style scoped>\n",
       "    .dataframe tbody tr th:only-of-type {\n",
       "        vertical-align: middle;\n",
       "    }\n",
       "\n",
       "    .dataframe tbody tr th {\n",
       "        vertical-align: top;\n",
       "    }\n",
       "\n",
       "    .dataframe thead th {\n",
       "        text-align: right;\n",
       "    }\n",
       "</style>\n",
       "<table border=\"1\" class=\"dataframe\">\n",
       "  <thead>\n",
       "    <tr style=\"text-align: right;\">\n",
       "      <th></th>\n",
       "      <th>id</th>\n",
       "      <th>name</th>\n",
       "      <th>category</th>\n",
       "      <th>address</th>\n",
       "      <th>district</th>\n",
       "      <th>hours</th>\n",
       "      <th>rating</th>\n",
       "      <th>chain</th>\n",
       "      <th>seats</th>\n",
       "      <th>price</th>\n",
       "      <th>avg_bill</th>\n",
       "      <th>middle_avg_bill</th>\n",
       "      <th>middle_coffee_cup</th>\n",
       "    </tr>\n",
       "  </thead>\n",
       "  <tbody>\n",
       "    <tr>\n",
       "      <th>189</th>\n",
       "      <td>072032ce16dc47bfbc63b672c75bd371</td>\n",
       "      <td>кафе</td>\n",
       "      <td>кафе</td>\n",
       "      <td>москва,_парк_ангарские_пруды</td>\n",
       "      <td>Северный административный округ</td>\n",
       "      <td>ежедневно, 09:00–23:00</td>\n",
       "      <td>3.2</td>\n",
       "      <td>0</td>\n",
       "      <td>NaN</td>\n",
       "      <td>NaN</td>\n",
       "      <td>нет данных</td>\n",
       "      <td>NaN</td>\n",
       "      <td>NaN</td>\n",
       "    </tr>\n",
       "    <tr>\n",
       "      <th>215</th>\n",
       "      <td>897ddbc6746c4388b19dc8a9fcdbb488</td>\n",
       "      <td>кафе</td>\n",
       "      <td>кафе</td>\n",
       "      <td>москва,_парк_ангарские_пруды</td>\n",
       "      <td>Северный административный округ</td>\n",
       "      <td>ежедневно, 10:00–22:00</td>\n",
       "      <td>3.2</td>\n",
       "      <td>0</td>\n",
       "      <td>NaN</td>\n",
       "      <td>NaN</td>\n",
       "      <td>нет данных</td>\n",
       "      <td>NaN</td>\n",
       "      <td>NaN</td>\n",
       "    </tr>\n",
       "    <tr>\n",
       "      <th>1430</th>\n",
       "      <td>62608690e9cc464fbcd980cfd552e334</td>\n",
       "      <td>more_poke</td>\n",
       "      <td>ресторан</td>\n",
       "      <td>москва,_волоколамское_шоссе,_11,_стр._2</td>\n",
       "      <td>Северный административный округ</td>\n",
       "      <td>ежедневно, 09:00–21:00</td>\n",
       "      <td>4.2</td>\n",
       "      <td>0</td>\n",
       "      <td>188.0</td>\n",
       "      <td>NaN</td>\n",
       "      <td>нет данных</td>\n",
       "      <td>NaN</td>\n",
       "      <td>NaN</td>\n",
       "    </tr>\n",
       "    <tr>\n",
       "      <th>1511</th>\n",
       "      <td>a69f018d5c064873a3b491b0121bc1b4</td>\n",
       "      <td>more_poke</td>\n",
       "      <td>ресторан</td>\n",
       "      <td>москва,_волоколамское_шоссе,_11,_стр._2</td>\n",
       "      <td>Северный административный округ</td>\n",
       "      <td>пн-чт 09:00–18:00; пт,сб 09:00–21:00; вс 09:00...</td>\n",
       "      <td>4.2</td>\n",
       "      <td>1</td>\n",
       "      <td>188.0</td>\n",
       "      <td>NaN</td>\n",
       "      <td>нет данных</td>\n",
       "      <td>NaN</td>\n",
       "      <td>NaN</td>\n",
       "    </tr>\n",
       "    <tr>\n",
       "      <th>2211</th>\n",
       "      <td>c6ef39ae8a8c483d8f9a6531bc386a2c</td>\n",
       "      <td>раковарня_клешни_и_хвосты</td>\n",
       "      <td>ресторан</td>\n",
       "      <td>москва,_проспект_мира,_118</td>\n",
       "      <td>Северо-Восточный административный округ</td>\n",
       "      <td>ежедневно, 12:00–00:00</td>\n",
       "      <td>4.4</td>\n",
       "      <td>0</td>\n",
       "      <td>150.0</td>\n",
       "      <td>NaN</td>\n",
       "      <td>нет данных</td>\n",
       "      <td>NaN</td>\n",
       "      <td>NaN</td>\n",
       "    </tr>\n",
       "    <tr>\n",
       "      <th>2420</th>\n",
       "      <td>aba1de7ad7d64ac0a3f8684bda29d905</td>\n",
       "      <td>раковарня_клешни_и_хвосты</td>\n",
       "      <td>бар,паб</td>\n",
       "      <td>москва,_проспект_мира,_118</td>\n",
       "      <td>Северо-Восточный административный округ</td>\n",
       "      <td>пн-чт 12:00–00:00; пт,сб 12:00–01:00; вс 12:00...</td>\n",
       "      <td>4.4</td>\n",
       "      <td>1</td>\n",
       "      <td>150.0</td>\n",
       "      <td>NaN</td>\n",
       "      <td>нет данных</td>\n",
       "      <td>NaN</td>\n",
       "      <td>NaN</td>\n",
       "    </tr>\n",
       "    <tr>\n",
       "      <th>3091</th>\n",
       "      <td>3c2a73ea79a04be48858fab3685f2f37</td>\n",
       "      <td>хлеб_да_выпечка</td>\n",
       "      <td>булочная</td>\n",
       "      <td>москва,_ярцевская_улица,_19</td>\n",
       "      <td>Западный административный округ</td>\n",
       "      <td>ежедневно, 09:00–22:00</td>\n",
       "      <td>4.1</td>\n",
       "      <td>1</td>\n",
       "      <td>276.0</td>\n",
       "      <td>NaN</td>\n",
       "      <td>нет данных</td>\n",
       "      <td>NaN</td>\n",
       "      <td>NaN</td>\n",
       "    </tr>\n",
       "    <tr>\n",
       "      <th>3109</th>\n",
       "      <td>d3116844e4e048f99614eb30be3214e0</td>\n",
       "      <td>хлеб_да_выпечка</td>\n",
       "      <td>кафе</td>\n",
       "      <td>москва,_ярцевская_улица,_19</td>\n",
       "      <td>Западный административный округ</td>\n",
       "      <td>нет данных</td>\n",
       "      <td>4.1</td>\n",
       "      <td>0</td>\n",
       "      <td>276.0</td>\n",
       "      <td>NaN</td>\n",
       "      <td>нет данных</td>\n",
       "      <td>NaN</td>\n",
       "      <td>NaN</td>\n",
       "    </tr>\n",
       "  </tbody>\n",
       "</table>\n",
       "</div>"
      ],
      "text/plain": [
       "                                    id                       name  category  \\\n",
       "189   072032ce16dc47bfbc63b672c75bd371                       кафе      кафе   \n",
       "215   897ddbc6746c4388b19dc8a9fcdbb488                       кафе      кафе   \n",
       "1430  62608690e9cc464fbcd980cfd552e334                  more_poke  ресторан   \n",
       "1511  a69f018d5c064873a3b491b0121bc1b4                  more_poke  ресторан   \n",
       "2211  c6ef39ae8a8c483d8f9a6531bc386a2c  раковарня_клешни_и_хвосты  ресторан   \n",
       "2420  aba1de7ad7d64ac0a3f8684bda29d905  раковарня_клешни_и_хвосты   бар,паб   \n",
       "3091  3c2a73ea79a04be48858fab3685f2f37            хлеб_да_выпечка  булочная   \n",
       "3109  d3116844e4e048f99614eb30be3214e0            хлеб_да_выпечка      кафе   \n",
       "\n",
       "                                      address  \\\n",
       "189              москва,_парк_ангарские_пруды   \n",
       "215              москва,_парк_ангарские_пруды   \n",
       "1430  москва,_волоколамское_шоссе,_11,_стр._2   \n",
       "1511  москва,_волоколамское_шоссе,_11,_стр._2   \n",
       "2211               москва,_проспект_мира,_118   \n",
       "2420               москва,_проспект_мира,_118   \n",
       "3091              москва,_ярцевская_улица,_19   \n",
       "3109              москва,_ярцевская_улица,_19   \n",
       "\n",
       "                                     district  \\\n",
       "189           Северный административный округ   \n",
       "215           Северный административный округ   \n",
       "1430          Северный административный округ   \n",
       "1511          Северный административный округ   \n",
       "2211  Северо-Восточный административный округ   \n",
       "2420  Северо-Восточный административный округ   \n",
       "3091          Западный административный округ   \n",
       "3109          Западный административный округ   \n",
       "\n",
       "                                                  hours  rating  chain  seats  \\\n",
       "189                              ежедневно, 09:00–23:00     3.2      0    NaN   \n",
       "215                              ежедневно, 10:00–22:00     3.2      0    NaN   \n",
       "1430                             ежедневно, 09:00–21:00     4.2      0  188.0   \n",
       "1511  пн-чт 09:00–18:00; пт,сб 09:00–21:00; вс 09:00...     4.2      1  188.0   \n",
       "2211                             ежедневно, 12:00–00:00     4.4      0  150.0   \n",
       "2420  пн-чт 12:00–00:00; пт,сб 12:00–01:00; вс 12:00...     4.4      1  150.0   \n",
       "3091                             ежедневно, 09:00–22:00     4.1      1  276.0   \n",
       "3109                                         нет данных     4.1      0  276.0   \n",
       "\n",
       "     price    avg_bill  middle_avg_bill  middle_coffee_cup  \n",
       "189    NaN  нет данных              NaN                NaN  \n",
       "215    NaN  нет данных              NaN                NaN  \n",
       "1430   NaN  нет данных              NaN                NaN  \n",
       "1511   NaN  нет данных              NaN                NaN  \n",
       "2211   NaN  нет данных              NaN                NaN  \n",
       "2420   NaN  нет данных              NaN                NaN  \n",
       "3091   NaN  нет данных              NaN                NaN  \n",
       "3109   NaN  нет данных              NaN                NaN  "
      ]
     },
     "metadata": {},
     "output_type": "display_data"
    }
   ],
   "source": [
    "# Проверим наличие дубликатов в столбцах, выведем эти дубликаты\n",
    "dupl = df[df.duplicated(subset = ['name', 'address'], keep = False)]\n",
    "display(dupl)"
   ]
  },
  {
   "cell_type": "code",
   "execution_count": 23,
   "id": "01d3adbc",
   "metadata": {},
   "outputs": [],
   "source": [
    "# Удалим найденные дубликаты, создадим новый датафрейм без дубликатов\n",
    "new_df = df.drop_duplicates(subset = ['name', 'address'], inplace = False).copy()"
   ]
  },
  {
   "cell_type": "markdown",
   "id": "4c0563f2",
   "metadata": {
    "id": "4c0563f2"
   },
   "source": [
    "- Для дальнейшей работы создайте столбец `is_24_7` с обозначением того, что заведение работает ежедневно и круглосуточно, то есть 24/7:\n",
    "  - логическое значение `True` — если заведение работает ежедневно и круглосуточно;\n",
    "  - логическое значение `False` — в противоположном случае."
   ]
  },
  {
   "cell_type": "code",
   "execution_count": 24,
   "id": "42d1e685",
   "metadata": {
    "id": "42d1e685"
   },
   "outputs": [
    {
     "data": {
      "text/html": [
       "<div>\n",
       "<style scoped>\n",
       "    .dataframe tbody tr th:only-of-type {\n",
       "        vertical-align: middle;\n",
       "    }\n",
       "\n",
       "    .dataframe tbody tr th {\n",
       "        vertical-align: top;\n",
       "    }\n",
       "\n",
       "    .dataframe thead th {\n",
       "        text-align: right;\n",
       "    }\n",
       "</style>\n",
       "<table border=\"1\" class=\"dataframe\">\n",
       "  <thead>\n",
       "    <tr style=\"text-align: right;\">\n",
       "      <th></th>\n",
       "      <th>id</th>\n",
       "      <th>name</th>\n",
       "      <th>category</th>\n",
       "      <th>address</th>\n",
       "      <th>district</th>\n",
       "      <th>hours</th>\n",
       "      <th>rating</th>\n",
       "      <th>chain</th>\n",
       "      <th>seats</th>\n",
       "      <th>price</th>\n",
       "      <th>avg_bill</th>\n",
       "      <th>middle_avg_bill</th>\n",
       "      <th>middle_coffee_cup</th>\n",
       "      <th>is_24_7</th>\n",
       "    </tr>\n",
       "  </thead>\n",
       "  <tbody>\n",
       "    <tr>\n",
       "      <th>0</th>\n",
       "      <td>0c3e3439a8c64ea5bf6ecd6ca6ae19f0</td>\n",
       "      <td>wowфли</td>\n",
       "      <td>кафе</td>\n",
       "      <td>москва,_улица_дыбенко,_7/1</td>\n",
       "      <td>Северный административный округ</td>\n",
       "      <td>ежедневно, 10:00–22:00</td>\n",
       "      <td>5.0</td>\n",
       "      <td>0</td>\n",
       "      <td>NaN</td>\n",
       "      <td>NaN</td>\n",
       "      <td>нет данных</td>\n",
       "      <td>NaN</td>\n",
       "      <td>NaN</td>\n",
       "      <td>False</td>\n",
       "    </tr>\n",
       "    <tr>\n",
       "      <th>1</th>\n",
       "      <td>045780ada3474c57a2112e505d74b633</td>\n",
       "      <td>четыре_комнаты</td>\n",
       "      <td>ресторан</td>\n",
       "      <td>москва,_улица_дыбенко,_36,_корп._1</td>\n",
       "      <td>Северный административный округ</td>\n",
       "      <td>ежедневно, 10:00–22:00</td>\n",
       "      <td>4.5</td>\n",
       "      <td>0</td>\n",
       "      <td>4.0</td>\n",
       "      <td>выше среднего</td>\n",
       "      <td>Средний счёт:1500–1600 ₽</td>\n",
       "      <td>1550.0</td>\n",
       "      <td>NaN</td>\n",
       "      <td>False</td>\n",
       "    </tr>\n",
       "    <tr>\n",
       "      <th>2</th>\n",
       "      <td>1070b6b59144425896c65889347fcff6</td>\n",
       "      <td>хазри</td>\n",
       "      <td>кафе</td>\n",
       "      <td>москва,_клязьминская_улица,_15</td>\n",
       "      <td>Северный административный округ</td>\n",
       "      <td>пн-чт 11:00–02:00; пт,сб 11:00–05:00; вс 11:00...</td>\n",
       "      <td>4.6</td>\n",
       "      <td>0</td>\n",
       "      <td>45.0</td>\n",
       "      <td>средние</td>\n",
       "      <td>Средний счёт:от 1000 ₽</td>\n",
       "      <td>1000.0</td>\n",
       "      <td>NaN</td>\n",
       "      <td>False</td>\n",
       "    </tr>\n",
       "    <tr>\n",
       "      <th>3</th>\n",
       "      <td>03ac7cd772104f65b58b349dc59f03ee</td>\n",
       "      <td>dormouse_coffee_shop</td>\n",
       "      <td>кофейня</td>\n",
       "      <td>москва,_улица_маршала_федоренко,_12</td>\n",
       "      <td>Северный административный округ</td>\n",
       "      <td>ежедневно, 09:00–22:00</td>\n",
       "      <td>5.0</td>\n",
       "      <td>0</td>\n",
       "      <td>NaN</td>\n",
       "      <td>NaN</td>\n",
       "      <td>Цена чашки капучино:155–185 ₽</td>\n",
       "      <td>NaN</td>\n",
       "      <td>170.0</td>\n",
       "      <td>False</td>\n",
       "    </tr>\n",
       "    <tr>\n",
       "      <th>4</th>\n",
       "      <td>a163aada139c4c7f87b0b1c0b466a50f</td>\n",
       "      <td>иль_марко</td>\n",
       "      <td>пиццерия</td>\n",
       "      <td>москва,_правобережная_улица,_1б</td>\n",
       "      <td>Северный административный округ</td>\n",
       "      <td>ежедневно, 10:00–22:00</td>\n",
       "      <td>5.0</td>\n",
       "      <td>1</td>\n",
       "      <td>148.0</td>\n",
       "      <td>средние</td>\n",
       "      <td>Средний счёт:400–600 ₽</td>\n",
       "      <td>500.0</td>\n",
       "      <td>NaN</td>\n",
       "      <td>False</td>\n",
       "    </tr>\n",
       "  </tbody>\n",
       "</table>\n",
       "</div>"
      ],
      "text/plain": [
       "                                 id                  name  category  \\\n",
       "0  0c3e3439a8c64ea5bf6ecd6ca6ae19f0                wowфли      кафе   \n",
       "1  045780ada3474c57a2112e505d74b633        четыре_комнаты  ресторан   \n",
       "2  1070b6b59144425896c65889347fcff6                 хазри      кафе   \n",
       "3  03ac7cd772104f65b58b349dc59f03ee  dormouse_coffee_shop   кофейня   \n",
       "4  a163aada139c4c7f87b0b1c0b466a50f             иль_марко  пиццерия   \n",
       "\n",
       "                               address                         district  \\\n",
       "0           москва,_улица_дыбенко,_7/1  Северный административный округ   \n",
       "1   москва,_улица_дыбенко,_36,_корп._1  Северный административный округ   \n",
       "2       москва,_клязьминская_улица,_15  Северный административный округ   \n",
       "3  москва,_улица_маршала_федоренко,_12  Северный административный округ   \n",
       "4      москва,_правобережная_улица,_1б  Северный административный округ   \n",
       "\n",
       "                                               hours  rating  chain  seats  \\\n",
       "0                             ежедневно, 10:00–22:00     5.0      0    NaN   \n",
       "1                             ежедневно, 10:00–22:00     4.5      0    4.0   \n",
       "2  пн-чт 11:00–02:00; пт,сб 11:00–05:00; вс 11:00...     4.6      0   45.0   \n",
       "3                             ежедневно, 09:00–22:00     5.0      0    NaN   \n",
       "4                             ежедневно, 10:00–22:00     5.0      1  148.0   \n",
       "\n",
       "           price                       avg_bill  middle_avg_bill  \\\n",
       "0            NaN                     нет данных              NaN   \n",
       "1  выше среднего       Средний счёт:1500–1600 ₽           1550.0   \n",
       "2        средние         Средний счёт:от 1000 ₽           1000.0   \n",
       "3            NaN  Цена чашки капучино:155–185 ₽              NaN   \n",
       "4        средние         Средний счёт:400–600 ₽            500.0   \n",
       "\n",
       "   middle_coffee_cup  is_24_7  \n",
       "0                NaN    False  \n",
       "1                NaN    False  \n",
       "2                NaN    False  \n",
       "3              170.0    False  \n",
       "4                NaN    False  "
      ]
     },
     "metadata": {},
     "output_type": "display_data"
    }
   ],
   "source": [
    "# Создадим столбец для определения заведений, работающих круглосуточно и ежедневно\n",
    "new_df['is_24_7'] = (new_df['hours'].str.contains('круглосуточно', case=False, na=False))&(new_df['hours'].str.contains('ежедневно', case=False, na=False))\n",
    "display(new_df.head())"
   ]
  },
  {
   "cell_type": "markdown",
   "id": "562f30ab",
   "metadata": {
    "id": "562f30ab"
   },
   "source": [
    "---\n",
    "\n",
    "### Промежуточный вывод\n"
   ]
  },
  {
   "cell_type": "markdown",
   "id": "5d77a6b0",
   "metadata": {
    "id": "4e587ce1"
   },
   "source": [
    "В ходе предобработки датасетов rest_info, rest_price:  \n",
    "1. Были проанализированы объемы датасетов   \n",
    "2. Датасеты были объединены в один для удобства дальнейшей обработки  \n",
    "3. В столбце price был изменен тип данных  \n",
    "4. В столбцах hours, price, avg_bill пропуски были заменены на категории-индикаторы  \n",
    "5. Были обнаружены и удалены из датасета неявные дубли  \n",
    "6. Был добавлен новый столбец is_24_7, позволяющий выделить заведения, работающие круглосуточно и ежедневно"
   ]
  },
  {
   "cell_type": "code",
   "execution_count": 27,
   "id": "e3388762",
   "metadata": {
    "id": "e3388762"
   },
   "outputs": [
    {
     "name": "stdout",
     "output_type": "stream",
     "text": [
      "Количество строк в изначальном датасете: 8406\n",
      "Количество строк в датасете после предобработки: 8402\n",
      "Количество удаленных строк составило 4 в абсолютном выражении, 0.0005% в относительном выражении\n",
      "Количество столбцов до предобработки: 13\n",
      "Количество столбцов после предобработки: 14\n"
     ]
    }
   ],
   "source": [
    "print(f'Количество строк в изначальном датасете: {df_rows}')\n",
    "print(f'Количество строк в датасете после предобработки: {new_df.shape[0]}')\n",
    "print(f'Количество удаленных строк составило {df_rows - new_df.shape[0]} в абсолютном выражении, {round((df_rows - new_df.shape[0])/df_rows, 4)}% в относительном выражении')\n",
    "print(f'Количество столбцов до предобработки: {df_columns}')\n",
    "print(f'Количество столбцов после предобработки: {new_df.shape[1]}')"
   ]
  },
  {
   "cell_type": "markdown",
   "id": "6953e84c",
   "metadata": {
    "id": "6953e84c"
   },
   "source": [
    "## 3. Исследовательский анализ данных\n"
   ]
  },
  {
   "cell_type": "markdown",
   "id": "8555d840",
   "metadata": {
    "id": "8555d840"
   },
   "source": [
    "---\n",
    "\n",
    "### Задача 1\n",
    "\n",
    "Какие категории заведений представлены в данных? Исследуйте количество объектов общественного питания по каждой категории. Результат сопроводите подходящей визуализацией."
   ]
  },
  {
   "cell_type": "code",
   "execution_count": 28,
   "id": "63360b97",
   "metadata": {
    "id": "63360b97"
   },
   "outputs": [
    {
     "data": {
      "text/plain": [
       "category\n",
       "булочная            256\n",
       "столовая            315\n",
       "быстрое питание     603\n",
       "пиццерия            633\n",
       "бар,паб             764\n",
       "кофейня            1413\n",
       "ресторан           2042\n",
       "кафе               2376\n",
       "Name: id, dtype: int64"
      ]
     },
     "metadata": {},
     "output_type": "display_data"
    }
   ],
   "source": [
    "# Основные категории заведений в датасете\n",
    "category_grouped = new_df.groupby('category')['id'].count().sort_values()\n",
    "display(category_grouped)"
   ]
  },
  {
   "cell_type": "code",
   "execution_count": 29,
   "id": "c1e0cd30",
   "metadata": {},
   "outputs": [
    {
     "data": {
      "text/plain": [
       "булочная           0.030469\n",
       "столовая           0.037491\n",
       "быстрое питание    0.071769\n",
       "пиццерия           0.075339\n",
       "бар,паб            0.090931\n",
       "кофейня            0.168174\n",
       "ресторан           0.243037\n",
       "кафе               0.282790\n",
       "Name: category, dtype: float64"
      ]
     },
     "metadata": {},
     "output_type": "display_data"
    }
   ],
   "source": [
    "# Проверим распределение заведений в относительных значениях\n",
    "category_proportion = new_df['category'].value_counts(normalize=True).sort_values()\n",
    "display(category_proportion)"
   ]
  },
  {
   "cell_type": "code",
   "execution_count": 30,
   "id": "98de8ff8",
   "metadata": {},
   "outputs": [
    {
     "data": {
      "image/png": "[encoded data removed]",
      "text/plain": [
       "<Figure size 720x432 with 1 Axes>"
      ]
     },
     "metadata": {
      "needs_background": "light"
     },
     "output_type": "display_data"
    }
   ],
   "source": [
    "# Визуализируем полученные данные\n",
    "category_grouped.plot(kind='barh', figsize=(10, 6))\n",
    "plt.ylabel('Категория')\n",
    "plt.xlabel('Количество заведений')\n",
    "plt.title('Категории заведений общественного питания Москвы');"
   ]
  },
  {
   "cell_type": "markdown",
   "id": "cbe3b4fd",
   "metadata": {},
   "source": [
    "В датасете представлены следующие категории данных: булочная, столовая, быстрое питание, пиццерия, бар,паб, кофейня, ресторан, кафе. Наиболее представленными категориями являются ***кафе*** *(2377)*, ***ресторан*** *(2042)*, ***кофейня*** *(1413)*; наименее представленными - ***столовая*** *(315)*, ***булочная*** *(256)*"
   ]
  },
  {
   "cell_type": "markdown",
   "id": "6821e1d0",
   "metadata": {
    "id": "6821e1d0"
   },
   "source": [
    "---\n",
    "\n",
    "### Задача 2\n",
    "\n",
    "Какие административные районы Москвы присутствуют в данных? Исследуйте распределение количества заведений по административным районам Москвы, а также отдельно распределение заведений каждой категории в Центральном административном округе Москвы. Результат сопроводите подходящими визуализациями."
   ]
  },
  {
   "cell_type": "code",
   "execution_count": 31,
   "id": "e62f31be",
   "metadata": {
    "id": "e62f31be"
   },
   "outputs": [
    {
     "data": {
      "text/plain": [
       "district\n",
       "Северо-Западный административный округ      409\n",
       "Юго-Западный административный округ         709\n",
       "Юго-Восточный административный округ        714\n",
       "Восточный административный округ            798\n",
       "Западный административный округ             850\n",
       "Северо-Восточный административный округ     890\n",
       "Южный административный округ                892\n",
       "Северный административный округ             898\n",
       "Центральный административный округ         2242\n",
       "Name: id, dtype: int64"
      ]
     },
     "metadata": {},
     "output_type": "display_data"
    }
   ],
   "source": [
    "# Выведем административные районы Москвы\n",
    "district_grouped = new_df.groupby('district')['id'].count().sort_values()\n",
    "display(district_grouped)"
   ]
  },
  {
   "cell_type": "code",
   "execution_count": 32,
   "id": "44d15a34",
   "metadata": {},
   "outputs": [
    {
     "data": {
      "text/plain": [
       "Северо-Западный административный округ     0.048679\n",
       "Юго-Западный административный округ        0.084385\n",
       "Юго-Восточный административный округ       0.084980\n",
       "Восточный административный округ           0.094977\n",
       "Западный административный округ            0.101166\n",
       "Северо-Восточный административный округ    0.105927\n",
       "Южный административный округ               0.106165\n",
       "Северный административный округ            0.106879\n",
       "Центральный административный округ         0.266841\n",
       "Name: district, dtype: float64"
      ]
     },
     "metadata": {},
     "output_type": "display_data"
    }
   ],
   "source": [
    "# Проверим распределение заведений в относительных значениях\n",
    "district_proportion = new_df['district'].value_counts(normalize=True).sort_values()\n",
    "display(district_proportion)"
   ]
  },
  {
   "cell_type": "code",
   "execution_count": 33,
   "id": "41f1654a",
   "metadata": {
    "id": "41f1654a"
   },
   "outputs": [
    {
     "data": {
      "image/png": "[encoded data removed]",
      "text/plain": [
       "<Figure size 720x432 with 1 Axes>"
      ]
     },
     "metadata": {
      "needs_background": "light"
     },
     "output_type": "display_data"
    }
   ],
   "source": [
    "# Визуализируем полученные данные\n",
    "district_grouped.plot(kind='barh', figsize=(10, 6))\n",
    "plt.ylabel('Административные районы')\n",
    "plt.xlabel('Количество заведений')\n",
    "plt.title('Количество заведений по административным районам Москвы');"
   ]
  },
  {
   "cell_type": "markdown",
   "id": "b6651937",
   "metadata": {},
   "source": [
    "Согласно полученным данным, наибольшее количество заведений приходится на Центральный административный округ - 2242 заведения, что примерно в 2,5 раза больше количества заведений в следующем по порядку административном округе - Северном административном округе.  \n",
    "Лидерами по количеству заведений являются ***Центральный*** *(2242 заведения)*, ***Северный*** *(899 заведений)* и ***Южный*** *(892 заведения)* ***административные округа***. Наименьшее количество заведений представлено в ***Юго-Восточном*** *(714 заведений)*, ***Юго-западном*** *(709 заведений)* и ***Северо-Западном*** *(409 заведений)* ***административных округах***."
   ]
  },
  {
   "cell_type": "code",
   "execution_count": 34,
   "id": "a9069b6e",
   "metadata": {},
   "outputs": [
    {
     "data": {
      "text/plain": [
       "category\n",
       "булочная            50\n",
       "столовая            66\n",
       "быстрое питание     87\n",
       "пиццерия           113\n",
       "бар,паб            364\n",
       "кофейня            428\n",
       "кафе               464\n",
       "ресторан           670\n",
       "Name: id, dtype: int64"
      ]
     },
     "metadata": {},
     "output_type": "display_data"
    }
   ],
   "source": [
    "# Отфильтруем данные для Центрального административного округа\n",
    "central_administrative_district = new_df[(new_df['district']=='Центральный административный округ')]\n",
    "# Проверим распределение заведений по категориям для Центрального дминистративного округа\n",
    "category_cad = central_administrative_district.groupby('category')['id'].count().sort_values()\n",
    "display(category_cad)"
   ]
  },
  {
   "cell_type": "code",
   "execution_count": 35,
   "id": "682764e5",
   "metadata": {},
   "outputs": [
    {
     "data": {
      "text/plain": [
       "булочная           0.022302\n",
       "столовая           0.029438\n",
       "быстрое питание    0.038805\n",
       "пиццерия           0.050401\n",
       "бар,паб            0.162355\n",
       "кофейня            0.190901\n",
       "кафе               0.206958\n",
       "ресторан           0.298840\n",
       "Name: category, dtype: float64"
      ]
     },
     "metadata": {},
     "output_type": "display_data"
    }
   ],
   "source": [
    "# Проверим распределение заведений в относительных значениях\n",
    "cad_proportion = central_administrative_district['category'].value_counts(normalize=True).sort_values()\n",
    "display(cad_proportion)"
   ]
  },
  {
   "cell_type": "code",
   "execution_count": 36,
   "id": "6a55ebd1",
   "metadata": {},
   "outputs": [
    {
     "data": {
      "image/png": "[encoded data removed]",
      "text/plain": [
       "<Figure size 720x432 with 1 Axes>"
      ]
     },
     "metadata": {
      "needs_background": "light"
     },
     "output_type": "display_data"
    }
   ],
   "source": [
    "# Визуализируем полученные данные \n",
    "category_cad.plot(kind='barh', figsize=(10, 6))\n",
    "plt.ylabel('Категория')\n",
    "plt.xlabel('Количество заведений')\n",
    "plt.title('Количество заведений в Центральном административном округе Москвы');"
   ]
  },
  {
   "cell_type": "markdown",
   "id": "6fd79326",
   "metadata": {},
   "source": [
    "Распределение заведений по категориям в Центральном административном округе в целом соответствует распределению по всем округам: наиболее популярными категориями заведений в Центральном административном округе являются ***рестораны*** *(670)*, ***кафе*** *(464)* и ***кофейни*** *(428)*. Однако важно отметить отличие от распределения по всем округам: в Центральном административном округе в наибольшем количестве представлены заведения категории ресторан, в то время как для всех округов наибольшее количество заведений представлено в категории кафе. Это связано с тем, что в Центральном административном округе представлены заведения наиболее высокого ценового сегмента. Наименее популярными также являются заведения категорий ***столовая*** *(66)*, ***булочная*** *(50)*"
   ]
  },
  {
   "cell_type": "markdown",
   "id": "7c824f58",
   "metadata": {
    "id": "7c824f58"
   },
   "source": [
    "---\n",
    "\n",
    "### Задача 3\n",
    "\n",
    "Изучите соотношение сетевых и несетевых заведений в целом по всем данным и в разрезе категорий заведения. Каких заведений больше — сетевых или несетевых? Какие категории заведений чаще являются сетевыми? Исследуйте данные, ответьте на вопросы и постройте необходимые визуализации."
   ]
  },
  {
   "cell_type": "code",
   "execution_count": 37,
   "id": "42916f19",
   "metadata": {},
   "outputs": [
    {
     "data": {
      "text/plain": [
       "chain\n",
       "1    3203\n",
       "0    5199\n",
       "Name: id, dtype: int64"
      ]
     },
     "metadata": {},
     "output_type": "display_data"
    }
   ],
   "source": [
    "# Проверим распределение заведений по типу сетевое/несетевое\n",
    "chain_grouped = new_df.groupby('chain')['id'].count().sort_values()\n",
    "display(chain_grouped)"
   ]
  },
  {
   "cell_type": "code",
   "execution_count": 39,
   "id": "5ef51c5b",
   "metadata": {},
   "outputs": [
    {
     "data": {
      "text/plain": [
       "1    0.38\n",
       "0    0.62\n",
       "Name: chain, dtype: float64"
      ]
     },
     "metadata": {},
     "output_type": "display_data"
    }
   ],
   "source": [
    "# Проверим распределение заведений в относительных значениях\n",
    "chain_proportion = round(new_df['chain'].value_counts(normalize=True).sort_values(), 2)\n",
    "display(chain_proportion)"
   ]
  },
  {
   "cell_type": "code",
   "execution_count": 40,
   "id": "0c06e341",
   "metadata": {},
   "outputs": [
    {
     "data": {
      "image/png": "[encoded data removed]",
      "text/plain": [
       "<Figure size 720x432 with 1 Axes>"
      ]
     },
     "metadata": {
      "needs_background": "light"
     },
     "output_type": "display_data"
    }
   ],
   "source": [
    "# Построим график распределения сетевых и несетевых заведений в относительных значениях\n",
    "ax = chain_proportion.plot(kind = 'bar', figsize=(10, 6))\n",
    "plt.xlabel('Тип заведения: 1- сетевое, 0 - не сетевое')\n",
    "plt.ylabel('Доля заведений')\n",
    "plt.title('Соотношение сетевых и несетевых заведений')\n",
    "ax.set_xticklabels(ax.get_xticklabels(), rotation=0);"
   ]
  },
  {
   "cell_type": "markdown",
   "id": "36fc7d8b",
   "metadata": {},
   "source": [
    "Согласно полученным данным, несетевых заведений представлено практически в 2 раза больше, чем сетевых (5200 несетевых, 3203 сетевых, что составляет 62% и 38% соответственно)."
   ]
  },
  {
   "cell_type": "code",
   "execution_count": 41,
   "id": "ef442d1a",
   "metadata": {
    "id": "ef442d1a"
   },
   "outputs": [
    {
     "data": {
      "text/html": [
       "<div>\n",
       "<style scoped>\n",
       "    .dataframe tbody tr th:only-of-type {\n",
       "        vertical-align: middle;\n",
       "    }\n",
       "\n",
       "    .dataframe tbody tr th {\n",
       "        vertical-align: top;\n",
       "    }\n",
       "\n",
       "    .dataframe thead th {\n",
       "        text-align: right;\n",
       "    }\n",
       "</style>\n",
       "<table border=\"1\" class=\"dataframe\">\n",
       "  <thead>\n",
       "    <tr style=\"text-align: right;\">\n",
       "      <th>chain</th>\n",
       "      <th>0</th>\n",
       "      <th>1</th>\n",
       "    </tr>\n",
       "    <tr>\n",
       "      <th>category</th>\n",
       "      <th></th>\n",
       "      <th></th>\n",
       "    </tr>\n",
       "  </thead>\n",
       "  <tbody>\n",
       "    <tr>\n",
       "      <th>бар,паб</th>\n",
       "      <td>596</td>\n",
       "      <td>168</td>\n",
       "    </tr>\n",
       "    <tr>\n",
       "      <th>булочная</th>\n",
       "      <td>99</td>\n",
       "      <td>157</td>\n",
       "    </tr>\n",
       "    <tr>\n",
       "      <th>быстрое питание</th>\n",
       "      <td>371</td>\n",
       "      <td>232</td>\n",
       "    </tr>\n",
       "    <tr>\n",
       "      <th>кафе</th>\n",
       "      <td>1597</td>\n",
       "      <td>779</td>\n",
       "    </tr>\n",
       "    <tr>\n",
       "      <th>кофейня</th>\n",
       "      <td>693</td>\n",
       "      <td>720</td>\n",
       "    </tr>\n",
       "    <tr>\n",
       "      <th>пиццерия</th>\n",
       "      <td>303</td>\n",
       "      <td>330</td>\n",
       "    </tr>\n",
       "    <tr>\n",
       "      <th>ресторан</th>\n",
       "      <td>1313</td>\n",
       "      <td>729</td>\n",
       "    </tr>\n",
       "    <tr>\n",
       "      <th>столовая</th>\n",
       "      <td>227</td>\n",
       "      <td>88</td>\n",
       "    </tr>\n",
       "  </tbody>\n",
       "</table>\n",
       "</div>"
      ],
      "text/plain": [
       "chain               0    1\n",
       "category                  \n",
       "бар,паб           596  168\n",
       "булочная           99  157\n",
       "быстрое питание   371  232\n",
       "кафе             1597  779\n",
       "кофейня           693  720\n",
       "пиццерия          303  330\n",
       "ресторан         1313  729\n",
       "столовая          227   88"
      ]
     },
     "metadata": {},
     "output_type": "display_data"
    }
   ],
   "source": [
    "# Построим сводную таблицу для расчета распределения заведений по категориям\n",
    "pivot_category = pd.pivot_table(new_df,\n",
    "              index = 'category',\n",
    "              columns = 'chain',\n",
    "              values = 'id',\n",
    "              aggfunc = 'count')\n",
    "# Выведем сводную таблицу\n",
    "display(pivot_category)"
   ]
  },
  {
   "cell_type": "code",
   "execution_count": 42,
   "id": "0de29fa2",
   "metadata": {
    "id": "0de29fa2"
   },
   "outputs": [
    {
     "data": {
      "image/png": "[encoded data removed]",
      "text/plain": [
       "<Figure size 720x432 with 1 Axes>"
      ]
     },
     "metadata": {
      "needs_background": "light"
     },
     "output_type": "display_data"
    }
   ],
   "source": [
    "# Построим график распределения сетевых и несетевых заведений в разрезе категорий заведения\n",
    "pivot_category.plot(kind = 'barh', figsize=(10, 6))\n",
    "plt.ylabel('Категория')\n",
    "plt.xlabel('Количество заведений')\n",
    "plt.title('Распределение сетевых и несетевых заведений в разрезе категорий заведения');"
   ]
  },
  {
   "cell_type": "code",
   "execution_count": 43,
   "id": "cd111542",
   "metadata": {},
   "outputs": [
    {
     "data": {
      "text/html": [
       "<div>\n",
       "<style scoped>\n",
       "    .dataframe tbody tr th:only-of-type {\n",
       "        vertical-align: middle;\n",
       "    }\n",
       "\n",
       "    .dataframe tbody tr th {\n",
       "        vertical-align: top;\n",
       "    }\n",
       "\n",
       "    .dataframe thead th {\n",
       "        text-align: right;\n",
       "    }\n",
       "</style>\n",
       "<table border=\"1\" class=\"dataframe\">\n",
       "  <thead>\n",
       "    <tr style=\"text-align: right;\">\n",
       "      <th>chain</th>\n",
       "      <th>0</th>\n",
       "      <th>1</th>\n",
       "      <th>total</th>\n",
       "      <th>percent_0</th>\n",
       "      <th>percent_1</th>\n",
       "    </tr>\n",
       "    <tr>\n",
       "      <th>category</th>\n",
       "      <th></th>\n",
       "      <th></th>\n",
       "      <th></th>\n",
       "      <th></th>\n",
       "      <th></th>\n",
       "    </tr>\n",
       "  </thead>\n",
       "  <tbody>\n",
       "    <tr>\n",
       "      <th>бар,паб</th>\n",
       "      <td>596</td>\n",
       "      <td>168</td>\n",
       "      <td>764</td>\n",
       "      <td>78.0</td>\n",
       "      <td>22.0</td>\n",
       "    </tr>\n",
       "    <tr>\n",
       "      <th>булочная</th>\n",
       "      <td>99</td>\n",
       "      <td>157</td>\n",
       "      <td>256</td>\n",
       "      <td>39.0</td>\n",
       "      <td>61.0</td>\n",
       "    </tr>\n",
       "    <tr>\n",
       "      <th>быстрое питание</th>\n",
       "      <td>371</td>\n",
       "      <td>232</td>\n",
       "      <td>603</td>\n",
       "      <td>62.0</td>\n",
       "      <td>38.0</td>\n",
       "    </tr>\n",
       "    <tr>\n",
       "      <th>кафе</th>\n",
       "      <td>1597</td>\n",
       "      <td>779</td>\n",
       "      <td>2376</td>\n",
       "      <td>67.0</td>\n",
       "      <td>33.0</td>\n",
       "    </tr>\n",
       "    <tr>\n",
       "      <th>кофейня</th>\n",
       "      <td>693</td>\n",
       "      <td>720</td>\n",
       "      <td>1413</td>\n",
       "      <td>49.0</td>\n",
       "      <td>51.0</td>\n",
       "    </tr>\n",
       "    <tr>\n",
       "      <th>пиццерия</th>\n",
       "      <td>303</td>\n",
       "      <td>330</td>\n",
       "      <td>633</td>\n",
       "      <td>48.0</td>\n",
       "      <td>52.0</td>\n",
       "    </tr>\n",
       "    <tr>\n",
       "      <th>ресторан</th>\n",
       "      <td>1313</td>\n",
       "      <td>729</td>\n",
       "      <td>2042</td>\n",
       "      <td>64.0</td>\n",
       "      <td>36.0</td>\n",
       "    </tr>\n",
       "    <tr>\n",
       "      <th>столовая</th>\n",
       "      <td>227</td>\n",
       "      <td>88</td>\n",
       "      <td>315</td>\n",
       "      <td>72.0</td>\n",
       "      <td>28.0</td>\n",
       "    </tr>\n",
       "  </tbody>\n",
       "</table>\n",
       "</div>"
      ],
      "text/plain": [
       "chain               0    1  total  percent_0  percent_1\n",
       "category                                               \n",
       "бар,паб           596  168    764       78.0       22.0\n",
       "булочная           99  157    256       39.0       61.0\n",
       "быстрое питание   371  232    603       62.0       38.0\n",
       "кафе             1597  779   2376       67.0       33.0\n",
       "кофейня           693  720   1413       49.0       51.0\n",
       "пиццерия          303  330    633       48.0       52.0\n",
       "ресторан         1313  729   2042       64.0       36.0\n",
       "столовая          227   88    315       72.0       28.0"
      ]
     },
     "metadata": {},
     "output_type": "display_data"
    }
   ],
   "source": [
    "# Добавим информацию о процентном соотношении показателей относительно общего количества\n",
    "pivot_category['total'] = pivot_category[0] + pivot_category[1]\n",
    "pivot_category['percent_0'] = round(pivot_category[0]/pivot_category['total']*100, 0)\n",
    "pivot_category['percent_1'] = round(pivot_category[1]/pivot_category['total']*100, 0)\n",
    "# Выведем сводную таблицу\n",
    "display(pivot_category)"
   ]
  },
  {
   "cell_type": "markdown",
   "id": "06641496",
   "metadata": {
    "id": "a139bd72"
   },
   "source": [
    "Анализ распределения сетевых и несетевых заведений в разрезе категорий позволяет выделить категории заведений, для которых наиболее характерны сети заведений: ***кофейня, пиццерия, булочная***. Важно отметить, что разница в количестве сетевых и несетевых заведений по данным категориям небольшая и составляет от 3% до 22%. Среди несетевых заведений в большинстве представлены ***столовые, рестораны, кафе, заведения быстрого питания, бары,пабы***. Для данных категорий характерно значительное преобладание несетевых заведений: количество несетевых заведений превосходит количество сетевых на 24%-56%."
   ]
  },
  {
   "cell_type": "code",
   "execution_count": 44,
   "id": "e2827004",
   "metadata": {},
   "outputs": [
    {
     "data": {
      "text/html": [
       "<div>\n",
       "<style scoped>\n",
       "    .dataframe tbody tr th:only-of-type {\n",
       "        vertical-align: middle;\n",
       "    }\n",
       "\n",
       "    .dataframe tbody tr th {\n",
       "        vertical-align: top;\n",
       "    }\n",
       "\n",
       "    .dataframe thead th {\n",
       "        text-align: right;\n",
       "    }\n",
       "</style>\n",
       "<table border=\"1\" class=\"dataframe\">\n",
       "  <thead>\n",
       "    <tr style=\"text-align: right;\">\n",
       "      <th>chain</th>\n",
       "      <th>0</th>\n",
       "      <th>1</th>\n",
       "    </tr>\n",
       "    <tr>\n",
       "      <th>district</th>\n",
       "      <th></th>\n",
       "      <th></th>\n",
       "    </tr>\n",
       "  </thead>\n",
       "  <tbody>\n",
       "    <tr>\n",
       "      <th>Восточный административный округ</th>\n",
       "      <td>515</td>\n",
       "      <td>283</td>\n",
       "    </tr>\n",
       "    <tr>\n",
       "      <th>Западный административный округ</th>\n",
       "      <td>474</td>\n",
       "      <td>376</td>\n",
       "    </tr>\n",
       "    <tr>\n",
       "      <th>Северный административный округ</th>\n",
       "      <td>552</td>\n",
       "      <td>346</td>\n",
       "    </tr>\n",
       "    <tr>\n",
       "      <th>Северо-Восточный административный округ</th>\n",
       "      <td>557</td>\n",
       "      <td>333</td>\n",
       "    </tr>\n",
       "    <tr>\n",
       "      <th>Северо-Западный административный округ</th>\n",
       "      <td>253</td>\n",
       "      <td>156</td>\n",
       "    </tr>\n",
       "    <tr>\n",
       "      <th>Центральный административный округ</th>\n",
       "      <td>1367</td>\n",
       "      <td>875</td>\n",
       "    </tr>\n",
       "    <tr>\n",
       "      <th>Юго-Восточный административный округ</th>\n",
       "      <td>494</td>\n",
       "      <td>220</td>\n",
       "    </tr>\n",
       "    <tr>\n",
       "      <th>Юго-Западный административный округ</th>\n",
       "      <td>407</td>\n",
       "      <td>302</td>\n",
       "    </tr>\n",
       "    <tr>\n",
       "      <th>Южный административный округ</th>\n",
       "      <td>580</td>\n",
       "      <td>312</td>\n",
       "    </tr>\n",
       "  </tbody>\n",
       "</table>\n",
       "</div>"
      ],
      "text/plain": [
       "chain                                       0    1\n",
       "district                                          \n",
       "Восточный административный округ          515  283\n",
       "Западный административный округ           474  376\n",
       "Северный административный округ           552  346\n",
       "Северо-Восточный административный округ   557  333\n",
       "Северо-Западный административный округ    253  156\n",
       "Центральный административный округ       1367  875\n",
       "Юго-Восточный административный округ      494  220\n",
       "Юго-Западный административный округ       407  302\n",
       "Южный административный округ              580  312"
      ]
     },
     "metadata": {},
     "output_type": "display_data"
    }
   ],
   "source": [
    "# Построим сводную таблицу для расчета распределения заведений по административным округам\n",
    "chain_pivot = pd.pivot_table(new_df,\n",
    "                            index = 'district',\n",
    "                            columns = 'chain',\n",
    "                            values = 'id',\n",
    "                            aggfunc = 'count')\n",
    "display(chain_pivot)"
   ]
  },
  {
   "cell_type": "code",
   "execution_count": 45,
   "id": "a47e0620",
   "metadata": {},
   "outputs": [
    {
     "data": {
      "image/png": "[encoded data removed]",
      "text/plain": [
       "<Figure size 720x432 with 1 Axes>"
      ]
     },
     "metadata": {
      "needs_background": "light"
     },
     "output_type": "display_data"
    }
   ],
   "source": [
    "# Построим график распределения сетевых и несетевых заведений в разрезе административных округов\n",
    "chain_pivot.plot(kind = 'barh', figsize=(10, 6))\n",
    "plt.ylabel('Категория')\n",
    "plt.xlabel('Админстративный округ')\n",
    "plt.title('Распределение сетевых и несетевых заведений в разрезе административных округов');"
   ]
  },
  {
   "cell_type": "code",
   "execution_count": 46,
   "id": "b53e037f",
   "metadata": {},
   "outputs": [
    {
     "data": {
      "text/html": [
       "<div>\n",
       "<style scoped>\n",
       "    .dataframe tbody tr th:only-of-type {\n",
       "        vertical-align: middle;\n",
       "    }\n",
       "\n",
       "    .dataframe tbody tr th {\n",
       "        vertical-align: top;\n",
       "    }\n",
       "\n",
       "    .dataframe thead th {\n",
       "        text-align: right;\n",
       "    }\n",
       "</style>\n",
       "<table border=\"1\" class=\"dataframe\">\n",
       "  <thead>\n",
       "    <tr style=\"text-align: right;\">\n",
       "      <th>chain</th>\n",
       "      <th>0</th>\n",
       "      <th>1</th>\n",
       "      <th>total</th>\n",
       "      <th>percent_0</th>\n",
       "      <th>percent_1</th>\n",
       "    </tr>\n",
       "    <tr>\n",
       "      <th>district</th>\n",
       "      <th></th>\n",
       "      <th></th>\n",
       "      <th></th>\n",
       "      <th></th>\n",
       "      <th></th>\n",
       "    </tr>\n",
       "  </thead>\n",
       "  <tbody>\n",
       "    <tr>\n",
       "      <th>Восточный административный округ</th>\n",
       "      <td>515</td>\n",
       "      <td>283</td>\n",
       "      <td>798</td>\n",
       "      <td>65.0</td>\n",
       "      <td>35.0</td>\n",
       "    </tr>\n",
       "    <tr>\n",
       "      <th>Западный административный округ</th>\n",
       "      <td>474</td>\n",
       "      <td>376</td>\n",
       "      <td>850</td>\n",
       "      <td>56.0</td>\n",
       "      <td>44.0</td>\n",
       "    </tr>\n",
       "    <tr>\n",
       "      <th>Северный административный округ</th>\n",
       "      <td>552</td>\n",
       "      <td>346</td>\n",
       "      <td>898</td>\n",
       "      <td>61.0</td>\n",
       "      <td>39.0</td>\n",
       "    </tr>\n",
       "    <tr>\n",
       "      <th>Северо-Восточный административный округ</th>\n",
       "      <td>557</td>\n",
       "      <td>333</td>\n",
       "      <td>890</td>\n",
       "      <td>63.0</td>\n",
       "      <td>37.0</td>\n",
       "    </tr>\n",
       "    <tr>\n",
       "      <th>Северо-Западный административный округ</th>\n",
       "      <td>253</td>\n",
       "      <td>156</td>\n",
       "      <td>409</td>\n",
       "      <td>62.0</td>\n",
       "      <td>38.0</td>\n",
       "    </tr>\n",
       "    <tr>\n",
       "      <th>Центральный административный округ</th>\n",
       "      <td>1367</td>\n",
       "      <td>875</td>\n",
       "      <td>2242</td>\n",
       "      <td>61.0</td>\n",
       "      <td>39.0</td>\n",
       "    </tr>\n",
       "    <tr>\n",
       "      <th>Юго-Восточный административный округ</th>\n",
       "      <td>494</td>\n",
       "      <td>220</td>\n",
       "      <td>714</td>\n",
       "      <td>69.0</td>\n",
       "      <td>31.0</td>\n",
       "    </tr>\n",
       "    <tr>\n",
       "      <th>Юго-Западный административный округ</th>\n",
       "      <td>407</td>\n",
       "      <td>302</td>\n",
       "      <td>709</td>\n",
       "      <td>57.0</td>\n",
       "      <td>43.0</td>\n",
       "    </tr>\n",
       "    <tr>\n",
       "      <th>Южный административный округ</th>\n",
       "      <td>580</td>\n",
       "      <td>312</td>\n",
       "      <td>892</td>\n",
       "      <td>65.0</td>\n",
       "      <td>35.0</td>\n",
       "    </tr>\n",
       "  </tbody>\n",
       "</table>\n",
       "</div>"
      ],
      "text/plain": [
       "chain                                       0    1  total  percent_0  \\\n",
       "district                                                               \n",
       "Восточный административный округ          515  283    798       65.0   \n",
       "Западный административный округ           474  376    850       56.0   \n",
       "Северный административный округ           552  346    898       61.0   \n",
       "Северо-Восточный административный округ   557  333    890       63.0   \n",
       "Северо-Западный административный округ    253  156    409       62.0   \n",
       "Центральный административный округ       1367  875   2242       61.0   \n",
       "Юго-Восточный административный округ      494  220    714       69.0   \n",
       "Юго-Западный административный округ       407  302    709       57.0   \n",
       "Южный административный округ              580  312    892       65.0   \n",
       "\n",
       "chain                                    percent_1  \n",
       "district                                            \n",
       "Восточный административный округ              35.0  \n",
       "Западный административный округ               44.0  \n",
       "Северный административный округ               39.0  \n",
       "Северо-Восточный административный округ       37.0  \n",
       "Северо-Западный административный округ        38.0  \n",
       "Центральный административный округ            39.0  \n",
       "Юго-Восточный административный округ          31.0  \n",
       "Юго-Западный административный округ           43.0  \n",
       "Южный административный округ                  35.0  "
      ]
     },
     "metadata": {},
     "output_type": "display_data"
    }
   ],
   "source": [
    "# Добавим информацию о процентном соотношении показателей относительно общего количества\n",
    "chain_pivot['total'] = chain_pivot[0] + chain_pivot[1]\n",
    "chain_pivot['percent_0'] = round(chain_pivot[0]/chain_pivot['total']*100, 0)\n",
    "chain_pivot['percent_1'] = round(chain_pivot[1]/chain_pivot['total']*100, 0)\n",
    "# Выведем сводную таблицу\n",
    "display(chain_pivot)"
   ]
  },
  {
   "cell_type": "markdown",
   "id": "b23e67a0",
   "metadata": {},
   "source": [
    "Согласно полученным данным, для всех административных округов сохраняется единая тенденция: количество сетевых заведений в округе превышает количество несетевых. При этом максимальное количество сетевых и несетевых заведений отмечается в Центральном административном округе (875 и 1367 соответственно), тогда как наибольшая концентрация сетевых заведений относительно несетевых наблюдается в Западном, Юго-Западном административных округах. Наибольшая концентрация несетевых заведений относительно сетевых наблюдается в Юго-Восточном, Южном, Восточном административных округах."
   ]
  },
  {
   "cell_type": "markdown",
   "id": "5913c3e3",
   "metadata": {
    "id": "5913c3e3"
   },
   "source": [
    "---\n",
    "\n",
    "### Задача 4\n",
    "\n",
    "Исследуйте количество посадочных мест в заведениях. Встречаются ли в данных аномальные значения или выбросы? Если да, то с чем они могут быть связаны? Приведите для каждой категории заведений наиболее типичное для него количество посадочных мест. Результат сопроводите подходящими визуализациями.\n"
   ]
  },
  {
   "cell_type": "code",
   "execution_count": 47,
   "id": "062b55d8",
   "metadata": {
    "id": "062b55d8"
   },
   "outputs": [
    {
     "data": {
      "text/plain": [
       "count    4792.000000\n",
       "mean      108.361436\n",
       "std       122.841130\n",
       "min         0.000000\n",
       "25%        40.000000\n",
       "50%        75.000000\n",
       "75%       140.000000\n",
       "max      1288.000000\n",
       "Name: seats, dtype: float64"
      ]
     },
     "execution_count": 47,
     "metadata": {},
     "output_type": "execute_result"
    }
   ],
   "source": [
    "# Выведем описательную статистику для столбца seats \n",
    "new_df['seats'].describe()"
   ]
  },
  {
   "cell_type": "markdown",
   "id": "2a5a5f8f",
   "metadata": {},
   "source": [
    "Всего в датасете представлена информация о посадочных местах для 4792 заведений. Минимальное количество посадочных мест равно 0. Данное значение может не являться выбросом и быть реальным для заведений без посадочных мест (кофейня, булочная). Максимальное значение посадочных мест равно 1288, что может являться выбросом, а может являться реальным значением (например, для фудкортов). Далее предлагается построить диаграммы распределения значаний для определения выбросов.  \n",
    "Среднее количество мест примерно равно 108, медианное значение равно 75, что говорит о неравномерном распределении данных с перекосом значений в правую сторону (\"правый хвост\").   "
   ]
  },
  {
   "cell_type": "code",
   "execution_count": 48,
   "id": "d1a7015c",
   "metadata": {},
   "outputs": [
    {
     "data": {
      "image/png": "[encoded data removed]",
      "text/plain": [
       "<Figure size 720x432 with 1 Axes>"
      ]
     },
     "metadata": {
      "needs_background": "light"
     },
     "output_type": "display_data"
    }
   ],
   "source": [
    "# Построим гистограмму\n",
    "plt.figure(figsize=(10, 6))\n",
    "sns.histplot(data=new_df, x='seats', kde=True)\n",
    "plt.ylabel('Количество значений')\n",
    "plt.xlabel('Количество посадочных мест')\n",
    "plt.title('Гистограмма распределения посадочных мест');"
   ]
  },
  {
   "cell_type": "code",
   "execution_count": 49,
   "id": "6cb238d2",
   "metadata": {
    "id": "6cb238d2"
   },
   "outputs": [
    {
     "data": {
      "image/png": "[encoded data removed]",
      "text/plain": [
       "<Figure size 720x432 with 1 Axes>"
      ]
     },
     "metadata": {
      "needs_background": "light"
     },
     "output_type": "display_data"
    }
   ],
   "source": [
    "# Построим \"ящик с усами\"\n",
    "plt.figure(figsize=(10, 6))\n",
    "sns.boxplot(data=new_df, x='seats')\n",
    "plt.xlabel('Количество посадочных места')\n",
    "plt.title('Распределение посадочных мест в виде \"ящика с усами\"');"
   ]
  },
  {
   "cell_type": "markdown",
   "id": "5d0edb66",
   "metadata": {
    "id": "ceadf25b"
   },
   "source": [
    "Согласно диаграмме \"ящик с усами\", выбросами следует считать все значения после 300 (после правого \"уса\"). Однако, согласно гистрограмме выше, некоторые значения после 300 еще неоднократно встречаются в данных, что может говорить о реальности данных. В связи с этим, согласно полученным графикам, с одной стороны, возможно преположить, что значения до 500 могут являться реальными значениями, отражающими количество посадочных мест. Значения после 500 представлены в единичных количествах, что может говорить о том, что данные значения являются выбросами. С другой стороны, данные с большим количеством посадочных мест могут относиться к фуд-кортам в крупных ТЦ, в связи с этим могут не являться выбросами."
   ]
  },
  {
   "cell_type": "code",
   "execution_count": 50,
   "id": "01776e1d",
   "metadata": {},
   "outputs": [
    {
     "data": {
      "image/png": "[encoded data removed]",
      "text/plain": [
       "<Figure size 864x864 with 8 Axes>"
      ]
     },
     "metadata": {
      "needs_background": "light"
     },
     "output_type": "display_data"
    }
   ],
   "source": [
    "# Визуализируем распределение данных о посадочных местах заведения в зависимости от категории заведения\n",
    "# Создадим сетку графиков\n",
    "seats_facetgrid = sns.FacetGrid(\n",
    "    data = new_df,\n",
    "    col ='category',\n",
    "    col_wrap=3,\n",
    "    height=4,\n",
    "    sharex=False\n",
    ")\n",
    "# Добавим инфо для графиков в сетки\n",
    "seats_facetgrid.map(sns.histplot, 'seats', kde=True)\n",
    "\n",
    "# Добавим заголовки графиков\n",
    "seats_facetgrid.set_titles(\"{col_name}\")\n",
    "seats_facetgrid.set_axis_labels(\"Количество мест\", \"Количество заведений\")\n",
    "plt.show()"
   ]
  },
  {
   "cell_type": "markdown",
   "id": "572e5116",
   "metadata": {},
   "source": [
    "Гистограммы распределения данных демонстрируют неравномерное распределение данных по категориям, имеется перекос вправо, крание правые значения по оси x представлены в единичном количестве.  \n",
    "Чтобы минимизировать влияние возмонжых выбросов, в дальнейших расчетах используем расчет медианы."
   ]
  },
  {
   "cell_type": "code",
   "execution_count": 51,
   "id": "3a07a63b",
   "metadata": {},
   "outputs": [
    {
     "data": {
      "text/plain": [
       "category\n",
       "бар,паб            82.0\n",
       "булочная           50.0\n",
       "быстрое питание    65.0\n",
       "кафе               60.0\n",
       "кофейня            80.0\n",
       "пиццерия           55.0\n",
       "ресторан           86.0\n",
       "столовая           76.0\n",
       "Name: seats, dtype: float64"
      ]
     },
     "metadata": {},
     "output_type": "display_data"
    }
   ],
   "source": [
    "# Выведем наиболее типичное (медианное) количество посадочных мест для каждой категории\n",
    "median_seats = pd.pivot_table(new_df, \n",
    "                           index = 'category',\n",
    "                           values = 'seats',\n",
    "                           aggfunc = 'median')\n",
    "display(round(median_seats['seats'], 0))"
   ]
  },
  {
   "cell_type": "code",
   "execution_count": 52,
   "id": "998dd0c8",
   "metadata": {},
   "outputs": [
    {
     "data": {
      "image/png": "[encoded data removed]",
      "text/plain": [
       "<Figure size 720x432 with 1 Axes>"
      ]
     },
     "metadata": {
      "needs_background": "light"
     },
     "output_type": "display_data"
    }
   ],
   "source": [
    "# Визуализируем данные \n",
    "median_seats.sort_values(by = 'seats').plot(kind = 'barh', figsize=(10, 6))\n",
    "plt.ylabel('Категория')\n",
    "plt.xlabel('Количество посадочных мест')\n",
    "plt.title('Медианное количество посадочных мест для каждой категории');"
   ]
  },
  {
   "cell_type": "markdown",
   "id": "4b45f74f",
   "metadata": {},
   "source": [
    "Согласно полученным данным, количество посадочных мест варьируется в зависимости от категории заведения: наибольшее среднее количество посадочных мест в заведениях ***ресторан, бар, паб***, наименьшее среднее количество посадочных мест представлено в заведениях ***пиццерия, кафе, булочная***, что может объясняться форматом работы данных заведений \"навынос\" (часто этот формат в заведениях данных категорий преобладает)."
   ]
  },
  {
   "cell_type": "markdown",
   "id": "8ed065ea",
   "metadata": {
    "id": "8ed065ea"
   },
   "source": [
    "---\n",
    "\n",
    "### Задача 5\n",
    "\n",
    "Исследуйте рейтинг заведений. Визуализируйте распределение средних рейтингов по категориям заведений. Сильно ли различаются усреднённые рейтинги для разных типов общепита?"
   ]
  },
  {
   "cell_type": "code",
   "execution_count": 54,
   "id": "3e0ec5d7",
   "metadata": {
    "id": "3e0ec5d7"
   },
   "outputs": [
    {
     "data": {
      "text/plain": [
       "count    8402.000000\n",
       "mean        4.230017\n",
       "std         0.470320\n",
       "min         1.000000\n",
       "25%         4.100000\n",
       "50%         4.300000\n",
       "75%         4.400000\n",
       "max         5.000000\n",
       "Name: rating, dtype: float64"
      ]
     },
     "execution_count": 54,
     "metadata": {},
     "output_type": "execute_result"
    }
   ],
   "source": [
    "# Выведем инфомацию о рейтинге заведений\n",
    "new_df['rating'].describe()"
   ]
  },
  {
   "cell_type": "markdown",
   "id": "fbc43624",
   "metadata": {},
   "source": [
    "Рейтинг заведений представлен значениями в диапазоне от 1 до 5, средняя оценка для всех заведений = 4,23."
   ]
  },
  {
   "cell_type": "code",
   "execution_count": 55,
   "id": "cc5206f8",
   "metadata": {
    "id": "cc5206f8"
   },
   "outputs": [
    {
     "data": {
      "text/plain": [
       "category\n",
       "быстрое питание    4.050249\n",
       "кафе               4.124285\n",
       "столовая           4.211429\n",
       "булочная           4.268359\n",
       "кофейня            4.277282\n",
       "ресторан           4.290402\n",
       "пиццерия           4.301264\n",
       "бар,паб            4.387696\n",
       "Name: rating, dtype: float64"
      ]
     },
     "metadata": {},
     "output_type": "display_data"
    }
   ],
   "source": [
    "# Выведем средний рейтинг заведений в зависимости от категорий\n",
    "rating_mean = new_df.groupby('category')['rating'].mean().sort_values()\n",
    "display(rating_mean)"
   ]
  },
  {
   "cell_type": "code",
   "execution_count": 56,
   "id": "e4c3a7aa",
   "metadata": {},
   "outputs": [
    {
     "data": {
      "text/html": [
       "<div>\n",
       "<style scoped>\n",
       "    .dataframe tbody tr th:only-of-type {\n",
       "        vertical-align: middle;\n",
       "    }\n",
       "\n",
       "    .dataframe tbody tr th {\n",
       "        vertical-align: top;\n",
       "    }\n",
       "\n",
       "    .dataframe thead th {\n",
       "        text-align: right;\n",
       "    }\n",
       "</style>\n",
       "<table border=\"1\" class=\"dataframe\">\n",
       "  <thead>\n",
       "    <tr style=\"text-align: right;\">\n",
       "      <th></th>\n",
       "      <th>count</th>\n",
       "      <th>mean</th>\n",
       "      <th>std</th>\n",
       "      <th>min</th>\n",
       "      <th>25%</th>\n",
       "      <th>50%</th>\n",
       "      <th>75%</th>\n",
       "      <th>max</th>\n",
       "    </tr>\n",
       "    <tr>\n",
       "      <th>category</th>\n",
       "      <th></th>\n",
       "      <th></th>\n",
       "      <th></th>\n",
       "      <th></th>\n",
       "      <th></th>\n",
       "      <th></th>\n",
       "      <th></th>\n",
       "      <th></th>\n",
       "    </tr>\n",
       "  </thead>\n",
       "  <tbody>\n",
       "    <tr>\n",
       "      <th>быстрое питание</th>\n",
       "      <td>603.0</td>\n",
       "      <td>4.050249</td>\n",
       "      <td>0.560949</td>\n",
       "      <td>1.1</td>\n",
       "      <td>3.9</td>\n",
       "      <td>4.2</td>\n",
       "      <td>4.3</td>\n",
       "      <td>5.0</td>\n",
       "    </tr>\n",
       "    <tr>\n",
       "      <th>кафе</th>\n",
       "      <td>2376.0</td>\n",
       "      <td>4.124285</td>\n",
       "      <td>0.566001</td>\n",
       "      <td>1.0</td>\n",
       "      <td>4.0</td>\n",
       "      <td>4.2</td>\n",
       "      <td>4.4</td>\n",
       "      <td>5.0</td>\n",
       "    </tr>\n",
       "    <tr>\n",
       "      <th>столовая</th>\n",
       "      <td>315.0</td>\n",
       "      <td>4.211429</td>\n",
       "      <td>0.454205</td>\n",
       "      <td>1.0</td>\n",
       "      <td>4.1</td>\n",
       "      <td>4.3</td>\n",
       "      <td>4.4</td>\n",
       "      <td>5.0</td>\n",
       "    </tr>\n",
       "    <tr>\n",
       "      <th>булочная</th>\n",
       "      <td>256.0</td>\n",
       "      <td>4.268359</td>\n",
       "      <td>0.386303</td>\n",
       "      <td>1.3</td>\n",
       "      <td>4.2</td>\n",
       "      <td>4.3</td>\n",
       "      <td>4.4</td>\n",
       "      <td>5.0</td>\n",
       "    </tr>\n",
       "    <tr>\n",
       "      <th>кофейня</th>\n",
       "      <td>1413.0</td>\n",
       "      <td>4.277282</td>\n",
       "      <td>0.372250</td>\n",
       "      <td>1.4</td>\n",
       "      <td>4.1</td>\n",
       "      <td>4.3</td>\n",
       "      <td>4.4</td>\n",
       "      <td>5.0</td>\n",
       "    </tr>\n",
       "    <tr>\n",
       "      <th>ресторан</th>\n",
       "      <td>2042.0</td>\n",
       "      <td>4.290402</td>\n",
       "      <td>0.413143</td>\n",
       "      <td>1.0</td>\n",
       "      <td>4.2</td>\n",
       "      <td>4.3</td>\n",
       "      <td>4.5</td>\n",
       "      <td>5.0</td>\n",
       "    </tr>\n",
       "    <tr>\n",
       "      <th>пиццерия</th>\n",
       "      <td>633.0</td>\n",
       "      <td>4.301264</td>\n",
       "      <td>0.336162</td>\n",
       "      <td>1.0</td>\n",
       "      <td>4.2</td>\n",
       "      <td>4.3</td>\n",
       "      <td>4.4</td>\n",
       "      <td>5.0</td>\n",
       "    </tr>\n",
       "    <tr>\n",
       "      <th>бар,паб</th>\n",
       "      <td>764.0</td>\n",
       "      <td>4.387696</td>\n",
       "      <td>0.380392</td>\n",
       "      <td>1.1</td>\n",
       "      <td>4.3</td>\n",
       "      <td>4.4</td>\n",
       "      <td>4.6</td>\n",
       "      <td>5.0</td>\n",
       "    </tr>\n",
       "  </tbody>\n",
       "</table>\n",
       "</div>"
      ],
      "text/plain": [
       "                  count      mean       std  min  25%  50%  75%  max\n",
       "category                                                            \n",
       "быстрое питание   603.0  4.050249  0.560949  1.1  3.9  4.2  4.3  5.0\n",
       "кафе             2376.0  4.124285  0.566001  1.0  4.0  4.2  4.4  5.0\n",
       "столовая          315.0  4.211429  0.454205  1.0  4.1  4.3  4.4  5.0\n",
       "булочная          256.0  4.268359  0.386303  1.3  4.2  4.3  4.4  5.0\n",
       "кофейня          1413.0  4.277282  0.372250  1.4  4.1  4.3  4.4  5.0\n",
       "ресторан         2042.0  4.290402  0.413143  1.0  4.2  4.3  4.5  5.0\n",
       "пиццерия          633.0  4.301264  0.336162  1.0  4.2  4.3  4.4  5.0\n",
       "бар,паб           764.0  4.387696  0.380392  1.1  4.3  4.4  4.6  5.0"
      ]
     },
     "metadata": {},
     "output_type": "display_data"
    }
   ],
   "source": [
    "# Выведем описательную статистику для значений рейтинга по категориям\n",
    "rating_describe = new_df.groupby('category')['rating'].describe().sort_values(by='mean')\n",
    "display(rating_describe)"
   ]
  },
  {
   "cell_type": "code",
   "execution_count": 57,
   "id": "766c86cb",
   "metadata": {
    "id": "766c86cb"
   },
   "outputs": [
    {
     "data": {
      "image/png": "[encoded data removed]",
      "text/plain": [
       "<Figure size 720x432 with 1 Axes>"
      ]
     },
     "metadata": {
      "needs_background": "light"
     },
     "output_type": "display_data"
    }
   ],
   "source": [
    "# Визуализируем полученные данные \n",
    "rating_mean.plot(kind='barh', figsize=(10, 6))\n",
    "plt.ylabel('Категория')\n",
    "plt.xlabel('Средний рейтинг')\n",
    "plt.title('Средний рейтинг заведений общественного питания Москвы');"
   ]
  },
  {
   "cell_type": "markdown",
   "id": "fca983a0",
   "metadata": {},
   "source": [
    "В целом рейтинг заведений не сильно отличнается в зависимости от категории заведения: минимальное значение рейтинга - 4,05 для заведений быстрого питания; 4,39 - максимальное значение рейтинга для баров, пабов."
   ]
  },
  {
   "cell_type": "markdown",
   "id": "dd9702d9",
   "metadata": {
    "id": "dd9702d9"
   },
   "source": [
    "---\n",
    "\n",
    "### Задача 6\n",
    "\n",
    "Изучите, с какими данными показывают самую сильную корреляцию рейтинги заведений? Постройте и визуализируйте матрицу корреляции рейтинга заведения с разными данными: его категория, положение (административный район Москвы), статус сетевого заведения, количество мест, ценовая категория и признак, является ли заведения круглосуточным. Выберите самую сильную связь и проверьте её."
   ]
  },
  {
   "cell_type": "code",
   "execution_count": 58,
   "id": "ac34bb48",
   "metadata": {},
   "outputs": [],
   "source": [
    "cols = ['rating', 'category', 'district', 'seats', 'chain', 'price', 'is_24_7']\n",
    "df_subset = new_df[cols]\n",
    "\n",
    "# Вычисляем матрицу корреляции phi_k\n",
    "corr_matrix = df_subset.phik_matrix(interval_cols=['rating', 'seats'])"
   ]
  },
  {
   "cell_type": "code",
   "execution_count": 59,
   "id": "15400eb9",
   "metadata": {
    "id": "15400eb9"
   },
   "outputs": [
    {
     "data": {
      "image/png": "[encoded data removed]",
      "text/plain": [
       "<Figure size 720x432 with 2 Axes>"
      ]
     },
     "metadata": {
      "needs_background": "light"
     },
     "output_type": "display_data"
    }
   ],
   "source": [
    "# Построим матрицу корреляций\n",
    "cols = ['rating', 'category', 'district', 'seats', 'chain', 'price', 'is_24_7']\n",
    "df_subset = new_df[cols]\n",
    "\n",
    "# Вычисляем матрицу корреляции phi_k\n",
    "corr_matrix = df_subset.phik_matrix(interval_cols=['rating', 'seats'])\n",
    "\n",
    "\n",
    "# Визулизируем матрицу\n",
    "plt.figure(figsize=(10, 6))\n",
    "sns.heatmap(data = corr_matrix,\n",
    "           annot = True,\n",
    "           vmin = -1,\n",
    "           vmax = 1,\n",
    "           fmt = '.2f',\n",
    "           linewidths = 1,\n",
    "           cmap = 'coolwarm')\n",
    "plt.title('Матрица корреляции признаков');"
   ]
  },
  {
   "cell_type": "markdown",
   "id": "327aaf12",
   "metadata": {},
   "source": [
    "Наиболее высокие значения коэффициентов корреляции наблюдаются среди следующих пар признаков:  \n",
    "категория - ценовой сегмент (0.57)  \n",
    "административный округ - количество посадочных мест (0.35)  \n",
    "категория - сетевое/несетевое заведение (0.27)  \n",
    "категория - режим работы заведения (0.24)  \n",
    "рейтинг - ценовой сегмент (0.22)  \n",
    "рейтинг - административный округ (0.20)  \n",
    "Остальные коэффициенты корреляции соответствуют значениям < 0.2, что может говорить об очень слабой связи между признаками. Наибольшее количество высоких коэффициентов корреляции соответствует признакам категория, рейтинг, административный округ, данные признаки следует рассмотреть более детально."
   ]
  },
  {
   "cell_type": "code",
   "execution_count": 60,
   "id": "ac825ffe",
   "metadata": {},
   "outputs": [
    {
     "data": {
      "text/html": [
       "<div>\n",
       "<style scoped>\n",
       "    .dataframe tbody tr th:only-of-type {\n",
       "        vertical-align: middle;\n",
       "    }\n",
       "\n",
       "    .dataframe tbody tr th {\n",
       "        vertical-align: top;\n",
       "    }\n",
       "\n",
       "    .dataframe thead th {\n",
       "        text-align: right;\n",
       "    }\n",
       "</style>\n",
       "<table border=\"1\" class=\"dataframe\">\n",
       "  <thead>\n",
       "    <tr style=\"text-align: right;\">\n",
       "      <th></th>\n",
       "      <th>rating</th>\n",
       "    </tr>\n",
       "  </thead>\n",
       "  <tbody>\n",
       "    <tr>\n",
       "      <th>price</th>\n",
       "      <td>0.220295</td>\n",
       "    </tr>\n",
       "    <tr>\n",
       "      <th>district</th>\n",
       "      <td>0.200761</td>\n",
       "    </tr>\n",
       "    <tr>\n",
       "      <th>category</th>\n",
       "      <td>0.189716</td>\n",
       "    </tr>\n",
       "    <tr>\n",
       "      <th>is_24_7</th>\n",
       "      <td>0.150365</td>\n",
       "    </tr>\n",
       "    <tr>\n",
       "      <th>chain</th>\n",
       "      <td>0.107833</td>\n",
       "    </tr>\n",
       "    <tr>\n",
       "      <th>seats</th>\n",
       "      <td>0.000000</td>\n",
       "    </tr>\n",
       "  </tbody>\n",
       "</table>\n",
       "</div>"
      ],
      "text/plain": [
       "            rating\n",
       "price     0.220295\n",
       "district  0.200761\n",
       "category  0.189716\n",
       "is_24_7   0.150365\n",
       "chain     0.107833\n",
       "seats     0.000000"
      ]
     },
     "metadata": {},
     "output_type": "display_data"
    }
   ],
   "source": [
    "# Построим матрицу корреляций для признака rating\n",
    "cols = ['rating', 'category', 'district', 'seats', 'chain', 'price', 'is_24_7']\n",
    "df_subset = new_df[cols]\n",
    "\n",
    "# Вычисляем матрицу корреляции phi_k\n",
    "corr_matrix = df_subset.phik_matrix(interval_cols=['rating', 'seats'])\n",
    "\n",
    "rating_corr = corr_matrix[['rating']].drop('rating').sort_values(by = 'rating', ascending = False)\n",
    "display(rating_corr)"
   ]
  },
  {
   "cell_type": "code",
   "execution_count": 61,
   "id": "adf468ee",
   "metadata": {},
   "outputs": [
    {
     "data": {
      "image/png": "[encoded data removed]",
      "text/plain": [
       "<Figure size 720x432 with 2 Axes>"
      ]
     },
     "metadata": {
      "needs_background": "light"
     },
     "output_type": "display_data"
    }
   ],
   "source": [
    "# Визулизируем матрицу\n",
    "plt.figure(figsize=(10, 6))\n",
    "sns.heatmap(data = rating_corr,\n",
    "           annot = True,\n",
    "           vmin = -1,\n",
    "           vmax = 1,\n",
    "           fmt = '.2f',\n",
    "           linewidths = 1,\n",
    "           cmap = 'coolwarm')\n",
    "plt.title('Матрица корреляции рейтинга заведений');"
   ]
  },
  {
   "cell_type": "markdown",
   "id": "17d34b89",
   "metadata": {
    "id": "8f0379af"
   },
   "source": [
    "Наиболее сильная связь признака rating отмечается с признаками административного округа (district, коэффициент 0,2) и ценовой категории (price, коэффициент 0,22). Остальные признаки имеют слабую связь с признаком rating (коэффициент < 0,2) Также важно отметить, что с признаком количества посадочных мест заведения (seats) связь полностью отсутствует (коэффициент 0). Возможно, такой результат может быть связан с недостаточным количеством данных о посадочных местах"
   ]
  },
  {
   "cell_type": "code",
   "execution_count": 62,
   "id": "1a65a84d",
   "metadata": {
    "id": "1a65a84d",
    "scrolled": true
   },
   "outputs": [
    {
     "data": {
      "text/plain": [
       "district\n",
       "Юго-Восточный административный округ       4.101120\n",
       "Северо-Восточный административный округ    4.147978\n",
       "Юго-Западный административный округ        4.172920\n",
       "Восточный административный округ           4.174185\n",
       "Западный административный округ            4.181647\n",
       "Южный административный округ               4.184417\n",
       "Северо-Западный административный округ     4.208802\n",
       "Северный административный округ            4.240980\n",
       "Центральный административный округ         4.377520\n",
       "Name: rating, dtype: float64"
      ]
     },
     "metadata": {},
     "output_type": "display_data"
    }
   ],
   "source": [
    "# Проверим связь rating с признаком district\n",
    "# Расчитаем средний рейтинг заведений по административным округам\n",
    "grouped_dist = new_df.groupby('district')['rating'].mean().sort_values()\n",
    "display(grouped_dist)"
   ]
  },
  {
   "cell_type": "code",
   "execution_count": 63,
   "id": "c5f30392",
   "metadata": {},
   "outputs": [
    {
     "data": {
      "text/plain": [
       "4.23"
      ]
     },
     "metadata": {},
     "output_type": "display_data"
    }
   ],
   "source": [
    "# Расчитаем средний рейтинг заведений по всему датафрейму\n",
    "mean_rating = round(new_df['rating'].mean(), 2)\n",
    "display(mean_rating)"
   ]
  },
  {
   "cell_type": "code",
   "execution_count": 64,
   "id": "e45fbfad",
   "metadata": {},
   "outputs": [
    {
     "data": {
      "image/png": "[encoded data removed]",
      "text/plain": [
       "<Figure size 720x432 with 1 Axes>"
      ]
     },
     "metadata": {
      "needs_background": "light"
     },
     "output_type": "display_data"
    }
   ],
   "source": [
    "# Построим диаграмму распределения среднего рейтинга в зависимости от административного центра\n",
    "plt.figure(figsize=(10, 6))\n",
    "mean_rating_dist = grouped_dist.plot(kind='barh')\n",
    "plt.ylabel('Административный округ')\n",
    "plt.xlabel('Средний рейтинг')\n",
    "plt.title('Средний рейтинг заведений по административным округам')\n",
    "plt.axvline(mean_rating);\n"
   ]
  },
  {
   "cell_type": "markdown",
   "id": "19b5e14d",
   "metadata": {},
   "source": [
    "Согласно полученной диаграмме, средний рейтинг заведения незначительно изменяется в зависимости от административного округа (диапазон изменений от 4.1 до 4.38). ***Наиболее высокий средний рейтинг фиксируется в Центральном административном округе (4.38)***, средний рейтинг заведений в этом административном округе выше среднего рейтинга заведений во всем датасете. Также для ***Северного административного округа (4.24)*** средний рейтинг заведений находится на уровне среднего рейтинга заведений во всем датасете. Для остальных административных округов фиксируется рейтинг ниже среднего по всем заведениям. ***Наиболее низкий - в Юго-Восточном административном округе (4.1)***. Учитывая малый разброс показателей рейтинга, можно сделать вывод о том, что административный округ может быть связан с рейтингом заведения напрямую или опосредованно (через третью переменную), однако связь не является сильной."
   ]
  },
  {
   "cell_type": "code",
   "execution_count": 65,
   "id": "f3772113",
   "metadata": {},
   "outputs": [
    {
     "data": {
      "text/plain": [
       "price\n",
       "низкие           4.173077\n",
       "средние          4.297874\n",
       "выше среднего    4.386348\n",
       "высокие          4.436611\n",
       "Name: rating, dtype: float64"
      ]
     },
     "metadata": {},
     "output_type": "display_data"
    }
   ],
   "source": [
    "# Проверим связь rating с признаком price\n",
    "# Расчитаем средний рейтинг заведений по ценовым категориям\n",
    "grouped_price = new_df.groupby('price')['rating'].mean().sort_values()\n",
    "display(grouped_price)"
   ]
  },
  {
   "cell_type": "code",
   "execution_count": 66,
   "id": "4f96f6b0",
   "metadata": {},
   "outputs": [
    {
     "data": {
      "image/png": "[encoded data removed]",
      "text/plain": [
       "<Figure size 720x432 with 1 Axes>"
      ]
     },
     "metadata": {
      "needs_background": "light"
     },
     "output_type": "display_data"
    }
   ],
   "source": [
    "# Построим диаграмму распределения среднего рейтинга в зависимости от ценового сегмента заведения \n",
    "plt.figure(figsize=(10, 6))\n",
    "mean_rating_price = grouped_price.plot(kind='barh')\n",
    "plt.ylabel('Цена')\n",
    "plt.xlabel('Средний рейтинг')\n",
    "plt.title('Средний рейтинг заведений по ценовым сегментам')\n",
    "plt.axvline(mean_rating);"
   ]
  },
  {
   "cell_type": "markdown",
   "id": "ef34ca5d",
   "metadata": {},
   "source": [
    "Согласно полученным результатам, возможно отметить связь среднего рейтинга заведений с распределением заведений по ценовым сегментам: чем выше ценовой сегмент, тем выше рейтинг заведения. ***Наиболее высокий средний рейтинг имеют заведения, ценовая категория которых соответствует высокой (4.44)***. Также средний рейтинг выше среднего по всему датасету имеют заведения, соответствующие ценовой категории \"выше среднего\" и \"средние\" (4.39 и 4.3 соответственно). ***Самый низкий средний рейтинг фиксируется у заведений ценовой категории \"низкие\" (4.17)***. Таким образом, следует отметить наличие связи между рейтингом и ценовым сегментом заведения. "
   ]
  },
  {
   "cell_type": "markdown",
   "id": "370de703",
   "metadata": {
    "id": "370de703"
   },
   "source": [
    "---\n",
    "\n",
    "### Задача 7\n",
    "\n",
    "Сгруппируйте данные по названиям заведений и найдите топ-15 популярных сетей в Москве. Для них посчитайте значения среднего рейтинга. Под популярностью понимается количество заведений этой сети в регионе. К какой категории заведений они относятся? Результат сопроводите подходящими визуализациями."
   ]
  },
  {
   "cell_type": "code",
   "execution_count": 69,
   "id": "b15bdc45",
   "metadata": {},
   "outputs": [
    {
     "data": {
      "text/html": [
       "<div>\n",
       "<style scoped>\n",
       "    .dataframe tbody tr th:only-of-type {\n",
       "        vertical-align: middle;\n",
       "    }\n",
       "\n",
       "    .dataframe tbody tr th {\n",
       "        vertical-align: top;\n",
       "    }\n",
       "\n",
       "    .dataframe thead th {\n",
       "        text-align: right;\n",
       "    }\n",
       "</style>\n",
       "<table border=\"1\" class=\"dataframe\">\n",
       "  <thead>\n",
       "    <tr style=\"text-align: right;\">\n",
       "      <th></th>\n",
       "      <th>name</th>\n",
       "      <th>category</th>\n",
       "      <th>id</th>\n",
       "      <th>rating</th>\n",
       "    </tr>\n",
       "  </thead>\n",
       "  <tbody>\n",
       "    <tr>\n",
       "      <th>0</th>\n",
       "      <td>шоколадница</td>\n",
       "      <td>кофейня</td>\n",
       "      <td>119</td>\n",
       "      <td>4.178151</td>\n",
       "    </tr>\n",
       "    <tr>\n",
       "      <th>1</th>\n",
       "      <td>домино'с_пицца</td>\n",
       "      <td>пиццерия</td>\n",
       "      <td>76</td>\n",
       "      <td>4.169737</td>\n",
       "    </tr>\n",
       "    <tr>\n",
       "      <th>2</th>\n",
       "      <td>додо_пицца</td>\n",
       "      <td>пиццерия</td>\n",
       "      <td>74</td>\n",
       "      <td>4.286486</td>\n",
       "    </tr>\n",
       "    <tr>\n",
       "      <th>3</th>\n",
       "      <td>one_price_coffee</td>\n",
       "      <td>кофейня</td>\n",
       "      <td>71</td>\n",
       "      <td>4.064789</td>\n",
       "    </tr>\n",
       "    <tr>\n",
       "      <th>4</th>\n",
       "      <td>яндекс_лавка</td>\n",
       "      <td>ресторан</td>\n",
       "      <td>69</td>\n",
       "      <td>3.872464</td>\n",
       "    </tr>\n",
       "    <tr>\n",
       "      <th>5</th>\n",
       "      <td>cofix</td>\n",
       "      <td>кофейня</td>\n",
       "      <td>65</td>\n",
       "      <td>4.075385</td>\n",
       "    </tr>\n",
       "    <tr>\n",
       "      <th>6</th>\n",
       "      <td>prime</td>\n",
       "      <td>ресторан</td>\n",
       "      <td>49</td>\n",
       "      <td>4.114286</td>\n",
       "    </tr>\n",
       "    <tr>\n",
       "      <th>7</th>\n",
       "      <td>кофепорт</td>\n",
       "      <td>кофейня</td>\n",
       "      <td>42</td>\n",
       "      <td>4.147619</td>\n",
       "    </tr>\n",
       "    <tr>\n",
       "      <th>8</th>\n",
       "      <td>кулинарная_лавка_братьев_караваевых</td>\n",
       "      <td>кафе</td>\n",
       "      <td>39</td>\n",
       "      <td>4.394872</td>\n",
       "    </tr>\n",
       "    <tr>\n",
       "      <th>9</th>\n",
       "      <td>теремок</td>\n",
       "      <td>ресторан</td>\n",
       "      <td>36</td>\n",
       "      <td>4.105556</td>\n",
       "    </tr>\n",
       "    <tr>\n",
       "      <th>10</th>\n",
       "      <td>cofefest</td>\n",
       "      <td>кофейня</td>\n",
       "      <td>31</td>\n",
       "      <td>3.977419</td>\n",
       "    </tr>\n",
       "    <tr>\n",
       "      <th>11</th>\n",
       "      <td>чайхана</td>\n",
       "      <td>кафе</td>\n",
       "      <td>26</td>\n",
       "      <td>3.946154</td>\n",
       "    </tr>\n",
       "    <tr>\n",
       "      <th>12</th>\n",
       "      <td>буханка</td>\n",
       "      <td>булочная</td>\n",
       "      <td>25</td>\n",
       "      <td>4.416000</td>\n",
       "    </tr>\n",
       "    <tr>\n",
       "      <th>13</th>\n",
       "      <td>drive_café</td>\n",
       "      <td>кафе</td>\n",
       "      <td>24</td>\n",
       "      <td>4.025000</td>\n",
       "    </tr>\n",
       "    <tr>\n",
       "      <th>14</th>\n",
       "      <td>кофемания</td>\n",
       "      <td>кофейня</td>\n",
       "      <td>22</td>\n",
       "      <td>4.463636</td>\n",
       "    </tr>\n",
       "  </tbody>\n",
       "</table>\n",
       "</div>"
      ],
      "text/plain": [
       "                                   name  category   id    rating\n",
       "0                           шоколадница   кофейня  119  4.178151\n",
       "1                        домино'с_пицца  пиццерия   76  4.169737\n",
       "2                            додо_пицца  пиццерия   74  4.286486\n",
       "3                      one_price_coffee   кофейня   71  4.064789\n",
       "4                          яндекс_лавка  ресторан   69  3.872464\n",
       "5                                 cofix   кофейня   65  4.075385\n",
       "6                                 prime  ресторан   49  4.114286\n",
       "7                              кофепорт   кофейня   42  4.147619\n",
       "8   кулинарная_лавка_братьев_караваевых      кафе   39  4.394872\n",
       "9                               теремок  ресторан   36  4.105556\n",
       "10                             cofefest   кофейня   31  3.977419\n",
       "11                              чайхана      кафе   26  3.946154\n",
       "12                              буханка  булочная   25  4.416000\n",
       "13                           drive_café      кафе   24  4.025000\n",
       "14                            кофемания   кофейня   22  4.463636"
      ]
     },
     "metadata": {},
     "output_type": "display_data"
    }
   ],
   "source": [
    "# Выведем топ-15 популярных сетей в Москве\n",
    "top_15 = new_df[new_df['chain'] == 1].groupby(['name', 'category']).agg({'id':'count', \n",
    "                                                           'rating':'mean'}).sort_values('id', ascending=False).head(15)\n",
    "top_15_reset = top_15.reset_index()\n",
    "display(top_15_reset)"
   ]
  },
  {
   "cell_type": "code",
   "execution_count": 70,
   "id": "d013c598",
   "metadata": {
    "id": "d013c598"
   },
   "outputs": [
    {
     "data": {
      "text/plain": [
       "<Figure size 720x432 with 0 Axes>"
      ]
     },
     "metadata": {},
     "output_type": "display_data"
    },
    {
     "data": {
      "image/png": "[encoded data removed]",
      "text/plain": [
       "<Figure size 432x288 with 1 Axes>"
      ]
     },
     "metadata": {
      "needs_background": "light"
     },
     "output_type": "display_data"
    }
   ],
   "source": [
    "# Визуализируем полученные данные\n",
    "top_15_sort = top_15_reset.sort_values('id', ascending=True)\n",
    "plt.figure(figsize=(10, 6))\n",
    "top_15_sort.plot(kind='barh', x = 'name', y='id')\n",
    "plt.ylabel('Название заведения')\n",
    "plt.xlabel('Количество заведений')\n",
    "plt.title('Топ-15 популярных сетей в Москве')\n",
    "plt.show()"
   ]
  },
  {
   "cell_type": "code",
   "execution_count": 71,
   "id": "774348d5",
   "metadata": {
    "id": "774348d5"
   },
   "outputs": [
    {
     "data": {
      "text/plain": [
       "<Figure size 720x432 with 0 Axes>"
      ]
     },
     "metadata": {},
     "output_type": "display_data"
    },
    {
     "data": {
      "image/png": "[encoded data removed]",
      "text/plain": [
       "<Figure size 432x288 with 1 Axes>"
      ]
     },
     "metadata": {
      "needs_background": "light"
     },
     "output_type": "display_data"
    }
   ],
   "source": [
    "# Изучим рейтинги заведений\n",
    "top_15_sorted = top_15_reset.sort_values('rating', ascending=True)\n",
    "plt.figure(figsize=(10, 6))\n",
    "top_15_sorted.plot(kind='barh', x = 'name', y='rating')\n",
    "plt.ylabel('Название заведения')\n",
    "plt.xlabel('Количество заведений')\n",
    "plt.title('Рейтинг сетей топ-15')\n",
    "plt.show()"
   ]
  },
  {
   "cell_type": "code",
   "execution_count": 72,
   "id": "9f77272f",
   "metadata": {},
   "outputs": [
    {
     "data": {
      "text/plain": [
       "category\n",
       "булочная     25\n",
       "кафе         89\n",
       "кофейня     350\n",
       "пиццерия    150\n",
       "ресторан    154\n",
       "Name: id, dtype: int64"
      ]
     },
     "metadata": {},
     "output_type": "display_data"
    }
   ],
   "source": [
    "# Сгруппируем топ-15 сетевых заведений по категориям\n",
    "top_15_category = top_15.groupby('category')['id'].sum()\n",
    "display(top_15_category)"
   ]
  },
  {
   "cell_type": "code",
   "execution_count": 73,
   "id": "df6afe6c",
   "metadata": {},
   "outputs": [
    {
     "data": {
      "image/png": "[encoded data removed]",
      "text/plain": [
       "<Figure size 720x432 with 1 Axes>"
      ]
     },
     "metadata": {
      "needs_background": "light"
     },
     "output_type": "display_data"
    }
   ],
   "source": [
    "# Визуализируем полученные данные\n",
    "plt.figure(figsize=(10, 6))\n",
    "bx = top_15_category.sort_values(ascending = False).plot(kind = 'bar')\n",
    "plt.xlabel('Категория')\n",
    "plt.ylabel('Количество заведений')\n",
    "plt.title('Категории топ-15 сетевых заведений Москвы')\n",
    "bx.set_xticklabels(bx.get_xticklabels(), rotation=0);"
   ]
  },
  {
   "cell_type": "markdown",
   "id": "5a711684",
   "metadata": {},
   "source": [
    "В число топ-15 сетей Москвы по количеству заведений вошли следующие сетевые заведения:  \n",
    "шоколадница  \n",
    "домино'с_пицца  \n",
    "додо_пицца  \n",
    "one_price_coffee  \n",
    "яндекс_лавка  \n",
    "cofix  \n",
    "prime  \n",
    "кофепорт  \n",
    "кулинарная_лавка_братьев_караваевых  \n",
    "теремок  \n",
    "cofefest  \n",
    "чайхана  \n",
    "буханка  \n",
    "drive_café  \n",
    "кофемания  \n",
    "Среди списка топ-15 сетевых заведений Москвы наиболее популярной категорией является ***кофейня*** - в данной категории представлено больше всего заведений (330). Практически в половину меньшее количество заведений представлено в категориях ***ресторан*** (157) и ***пиццерия*** (150)"
   ]
  },
  {
   "cell_type": "markdown",
   "id": "85a90a94",
   "metadata": {
    "id": "85a90a94"
   },
   "source": [
    "---\n",
    "\n",
    "### Задача 8\n",
    "\n",
    "Изучите вариацию среднего чека заведения (столбец `middle_avg_bill`) в зависимости от района Москвы. Проанализируйте цены в Центральном административном округе и других. Как удалённость от центра влияет на цены в заведениях? Результат сопроводите подходящими визуализациями.\n"
   ]
  },
  {
   "cell_type": "code",
   "execution_count": 74,
   "id": "f8af107a",
   "metadata": {},
   "outputs": [
    {
     "data": {
      "text/plain": [
       "count     3149.000000\n",
       "mean       958.053668\n",
       "std       1009.732845\n",
       "min          0.000000\n",
       "25%        375.000000\n",
       "50%        750.000000\n",
       "75%       1250.000000\n",
       "max      35000.000000\n",
       "Name: middle_avg_bill, dtype: float64"
      ]
     },
     "execution_count": 74,
     "metadata": {},
     "output_type": "execute_result"
    }
   ],
   "source": [
    "# Изучим данные в столбце middle_avg_bill\n",
    "new_df['middle_avg_bill'].describe()"
   ]
  },
  {
   "cell_type": "code",
   "execution_count": 75,
   "id": "ecf55596",
   "metadata": {},
   "outputs": [
    {
     "data": {
      "image/png": "[encoded data removed]",
      "text/plain": [
       "<Figure size 720x432 with 1 Axes>"
      ]
     },
     "metadata": {
      "needs_background": "light"
     },
     "output_type": "display_data"
    }
   ],
   "source": [
    "# Построим гистограмму\n",
    "plt.figure(figsize=(10, 6))\n",
    "sns.histplot(data=new_df, x='middle_avg_bill', kde=True)\n",
    "plt.ylabel('Количество значений')\n",
    "plt.xlabel('Средний чек')\n",
    "plt.title('Гистограмма распределения значений среднего чека');"
   ]
  },
  {
   "cell_type": "code",
   "execution_count": 76,
   "id": "c1edcca7",
   "metadata": {},
   "outputs": [
    {
     "data": {
      "image/png": "[encoded data removed]",
      "text/plain": [
       "<Figure size 720x432 with 1 Axes>"
      ]
     },
     "metadata": {
      "needs_background": "light"
     },
     "output_type": "display_data"
    }
   ],
   "source": [
    "# Построим \"ящик с усами\"\n",
    "plt.figure(figsize=(10, 6))\n",
    "sns.boxplot(data=new_df, x='middle_avg_bill')\n",
    "plt.xlabel('Средний чек')\n",
    "plt.title('Распределение значений среднего чека');"
   ]
  },
  {
   "cell_type": "markdown",
   "id": "7f67b20d",
   "metadata": {},
   "source": [
    "Графики позволяют сделать вывод о том, что среди значений среднего чека присутствуют экстремально высокие значения (выбросы)."
   ]
  },
  {
   "cell_type": "code",
   "execution_count": 77,
   "id": "5fb4ffc6",
   "metadata": {
    "id": "5fb4ffc6"
   },
   "outputs": [
    {
     "data": {
      "text/html": [
       "<div>\n",
       "<style scoped>\n",
       "    .dataframe tbody tr th:only-of-type {\n",
       "        vertical-align: middle;\n",
       "    }\n",
       "\n",
       "    .dataframe tbody tr th {\n",
       "        vertical-align: top;\n",
       "    }\n",
       "\n",
       "    .dataframe thead th {\n",
       "        text-align: right;\n",
       "    }\n",
       "</style>\n",
       "<table border=\"1\" class=\"dataframe\">\n",
       "  <thead>\n",
       "    <tr style=\"text-align: right;\">\n",
       "      <th></th>\n",
       "      <th>avg_bill</th>\n",
       "      <th>median_bill</th>\n",
       "    </tr>\n",
       "    <tr>\n",
       "      <th>district</th>\n",
       "      <th></th>\n",
       "      <th></th>\n",
       "    </tr>\n",
       "  </thead>\n",
       "  <tbody>\n",
       "    <tr>\n",
       "      <th>Юго-Восточный административный округ</th>\n",
       "      <td>654.097938</td>\n",
       "      <td>450.0</td>\n",
       "    </tr>\n",
       "    <tr>\n",
       "      <th>Северо-Восточный административный округ</th>\n",
       "      <td>716.611296</td>\n",
       "      <td>500.0</td>\n",
       "    </tr>\n",
       "    <tr>\n",
       "      <th>Юго-Западный административный округ</th>\n",
       "      <td>792.561702</td>\n",
       "      <td>600.0</td>\n",
       "    </tr>\n",
       "    <tr>\n",
       "      <th>Восточный административный округ</th>\n",
       "      <td>820.626923</td>\n",
       "      <td>575.0</td>\n",
       "    </tr>\n",
       "    <tr>\n",
       "      <th>Северо-Западный административный округ</th>\n",
       "      <td>822.222930</td>\n",
       "      <td>700.0</td>\n",
       "    </tr>\n",
       "    <tr>\n",
       "      <th>Южный административный округ</th>\n",
       "      <td>834.398089</td>\n",
       "      <td>500.0</td>\n",
       "    </tr>\n",
       "    <tr>\n",
       "      <th>Северный административный округ</th>\n",
       "      <td>927.959627</td>\n",
       "      <td>650.0</td>\n",
       "    </tr>\n",
       "    <tr>\n",
       "      <th>Западный административный округ</th>\n",
       "      <td>1053.225490</td>\n",
       "      <td>1000.0</td>\n",
       "    </tr>\n",
       "    <tr>\n",
       "      <th>Центральный административный округ</th>\n",
       "      <td>1191.057547</td>\n",
       "      <td>1000.0</td>\n",
       "    </tr>\n",
       "  </tbody>\n",
       "</table>\n",
       "</div>"
      ],
      "text/plain": [
       "                                            avg_bill  median_bill\n",
       "district                                                         \n",
       "Юго-Восточный административный округ      654.097938        450.0\n",
       "Северо-Восточный административный округ   716.611296        500.0\n",
       "Юго-Западный административный округ       792.561702        600.0\n",
       "Восточный административный округ          820.626923        575.0\n",
       "Северо-Западный административный округ    822.222930        700.0\n",
       "Южный административный округ              834.398089        500.0\n",
       "Северный административный округ           927.959627        650.0\n",
       "Западный административный округ          1053.225490       1000.0\n",
       "Центральный административный округ       1191.057547       1000.0"
      ]
     },
     "metadata": {},
     "output_type": "display_data"
    }
   ],
   "source": [
    "# Изучим распределение среднего чека заведения в зависимости от района Москвы\n",
    "middle_avg_bill_grouped = new_df.groupby('district').agg(avg_bill=('middle_avg_bill', 'mean'), median_bill=('middle_avg_bill', 'median')).sort_values('avg_bill')\n",
    "display(middle_avg_bill_grouped)"
   ]
  },
  {
   "cell_type": "markdown",
   "id": "31d7e2fe",
   "metadata": {},
   "source": [
    "Среднее значение и медиана по среднему чеку отличаются: среднее значение выше медианы. Также, согласно описательной статистике, максимальное значение среднего чека равно 35000, что подтверждает неравномерное распределение данных и наличие выбросов."
   ]
  },
  {
   "cell_type": "code",
   "execution_count": 78,
   "id": "51102531",
   "metadata": {},
   "outputs": [
    {
     "data": {
      "text/html": [
       "<div>\n",
       "<style scoped>\n",
       "    .dataframe tbody tr th:only-of-type {\n",
       "        vertical-align: middle;\n",
       "    }\n",
       "\n",
       "    .dataframe tbody tr th {\n",
       "        vertical-align: top;\n",
       "    }\n",
       "\n",
       "    .dataframe thead th {\n",
       "        text-align: right;\n",
       "    }\n",
       "</style>\n",
       "<table border=\"1\" class=\"dataframe\">\n",
       "  <thead>\n",
       "    <tr style=\"text-align: right;\">\n",
       "      <th></th>\n",
       "      <th>avg_bill</th>\n",
       "      <th>median_bill</th>\n",
       "      <th>avg_bill_category</th>\n",
       "    </tr>\n",
       "    <tr>\n",
       "      <th>district</th>\n",
       "      <th></th>\n",
       "      <th></th>\n",
       "      <th></th>\n",
       "    </tr>\n",
       "  </thead>\n",
       "  <tbody>\n",
       "    <tr>\n",
       "      <th>Юго-Восточный административный округ</th>\n",
       "      <td>654.097938</td>\n",
       "      <td>450.0</td>\n",
       "      <td>низкий средний чек</td>\n",
       "    </tr>\n",
       "    <tr>\n",
       "      <th>Северо-Восточный административный округ</th>\n",
       "      <td>716.611296</td>\n",
       "      <td>500.0</td>\n",
       "      <td>низкий средний чек</td>\n",
       "    </tr>\n",
       "    <tr>\n",
       "      <th>Юго-Западный административный округ</th>\n",
       "      <td>792.561702</td>\n",
       "      <td>600.0</td>\n",
       "      <td>низкий средний чек</td>\n",
       "    </tr>\n",
       "    <tr>\n",
       "      <th>Восточный административный округ</th>\n",
       "      <td>820.626923</td>\n",
       "      <td>575.0</td>\n",
       "      <td>низкий средний чек</td>\n",
       "    </tr>\n",
       "    <tr>\n",
       "      <th>Северо-Западный административный округ</th>\n",
       "      <td>822.222930</td>\n",
       "      <td>700.0</td>\n",
       "      <td>средний средний чек</td>\n",
       "    </tr>\n",
       "    <tr>\n",
       "      <th>Южный административный округ</th>\n",
       "      <td>834.398089</td>\n",
       "      <td>500.0</td>\n",
       "      <td>низкий средний чек</td>\n",
       "    </tr>\n",
       "    <tr>\n",
       "      <th>Северный административный округ</th>\n",
       "      <td>927.959627</td>\n",
       "      <td>650.0</td>\n",
       "      <td>средний средний чек</td>\n",
       "    </tr>\n",
       "    <tr>\n",
       "      <th>Западный административный округ</th>\n",
       "      <td>1053.225490</td>\n",
       "      <td>1000.0</td>\n",
       "      <td>высокий средний чек</td>\n",
       "    </tr>\n",
       "    <tr>\n",
       "      <th>Центральный административный округ</th>\n",
       "      <td>1191.057547</td>\n",
       "      <td>1000.0</td>\n",
       "      <td>высокий средний чек</td>\n",
       "    </tr>\n",
       "  </tbody>\n",
       "</table>\n",
       "</div>"
      ],
      "text/plain": [
       "                                            avg_bill  median_bill  \\\n",
       "district                                                            \n",
       "Юго-Восточный административный округ      654.097938        450.0   \n",
       "Северо-Восточный административный округ   716.611296        500.0   \n",
       "Юго-Западный административный округ       792.561702        600.0   \n",
       "Восточный административный округ          820.626923        575.0   \n",
       "Северо-Западный административный округ    822.222930        700.0   \n",
       "Южный административный округ              834.398089        500.0   \n",
       "Северный административный округ           927.959627        650.0   \n",
       "Западный административный округ          1053.225490       1000.0   \n",
       "Центральный административный округ       1191.057547       1000.0   \n",
       "\n",
       "                                           avg_bill_category  \n",
       "district                                                      \n",
       "Юго-Восточный административный округ      низкий средний чек  \n",
       "Северо-Восточный административный округ   низкий средний чек  \n",
       "Юго-Западный административный округ       низкий средний чек  \n",
       "Восточный административный округ          низкий средний чек  \n",
       "Северо-Западный административный округ   средний средний чек  \n",
       "Южный административный округ              низкий средний чек  \n",
       "Северный административный округ          средний средний чек  \n",
       "Западный административный округ          высокий средний чек  \n",
       "Центральный административный округ       высокий средний чек  "
      ]
     },
     "metadata": {},
     "output_type": "display_data"
    }
   ],
   "source": [
    "# Разделим полученные данные на 3 категории в зависимости от медианы среднего чека (чтобы исключить возможное влияние выбросов)\n",
    "middle_avg_bill_grouped['avg_bill_category'] = pd.cut(middle_avg_bill_grouped['median_bill'], bins = 3, labels = ['низкий средний чек', 'средний средний чек', 'высокий средний чек'])\n",
    "display(middle_avg_bill_grouped)"
   ]
  },
  {
   "cell_type": "code",
   "execution_count": 79,
   "id": "9b5e00a5",
   "metadata": {
    "id": "9b5e00a5"
   },
   "outputs": [
    {
     "data": {
      "image/png": "[encoded data removed]",
      "text/plain": [
       "<Figure size 864x864 with 9 Axes>"
      ]
     },
     "metadata": {
      "needs_background": "light"
     },
     "output_type": "display_data"
    }
   ],
   "source": [
    "# Визуализируем распределение данных о среднем чеке заведения в зависимости от района Москвы\n",
    "# Создадим сетку графиков\n",
    "bill_facetgrid = sns.FacetGrid(\n",
    "    data = new_df,\n",
    "    col ='district',\n",
    "    col_wrap=3,\n",
    "    height=4,\n",
    "    sharex=False\n",
    ")\n",
    "#Добавим инфо для графиков в сетки\n",
    "bill_facetgrid.map(sns.histplot, 'middle_avg_bill', kde=True)\n",
    "\n",
    "# Добавим заголовки графиков\n",
    "bill_facetgrid.set_titles(\"{col_name}\")\n",
    "bill_facetgrid.set_axis_labels(\"Средний чек\", \"Количество заведений\")\n",
    "plt.show()\n"
   ]
  },
  {
   "cell_type": "code",
   "execution_count": 80,
   "id": "2c0acd3f",
   "metadata": {},
   "outputs": [
    {
     "data": {
      "image/png": "[encoded data removed]",
      "text/plain": [
       "<Figure size 720x432 with 1 Axes>"
      ]
     },
     "metadata": {
      "needs_background": "light"
     },
     "output_type": "display_data"
    }
   ],
   "source": [
    "# Построим график распределения среднего чека и медианы заведений в разрезе административных округов\n",
    "middle_avg_bill_grouped.plot(kind = 'barh', figsize=(10, 6))\n",
    "plt.ylabel('Административный округ')\n",
    "plt.xlabel('Значение чека')\n",
    "plt.title('Типичные значения среднего чека в разрезе административных округов');"
   ]
  },
  {
   "cell_type": "markdown",
   "id": "a9df95d7",
   "metadata": {
    "id": "5ee8b279"
   },
   "source": [
    "Согласно полученным данным, ***наиболее высокий средний чек*** наблюдается ***в Западном и Центральном административном округе*** (значения среднего чека равны 1053.22 и 1191.1 соответственно). В категорию заведений ***со средним размером среднего чека*** вошли ***Северо-Западный и Северный административные округа*** (834.4 и 928 соответственно). В категорию заведений ***с низким средним чеком*** вошли ***заведения в Юго-Восточном, Северо-Восточном, Юго-Западном, Восточном, Южном административных округах.***  Такое распределение может быть связано, во-первых, с высокой концентрацией заведений соответствующей ценовой категории, а также заведений с высоким рейтингом в обозначенных районах, во-вторых, с уровнем престижности районов.\n",
    "\n",
    "В ряде округов фиксируются неестественно высокие значения, выбивающиеся из общего распределения данных, предположительно, являющиеся выбросами: в Южном административном округе максимальное значение среднего чека равно 35000, в Восточном и Северном административных округах максимальные значения средних чеков около 10000. Появление таких высоких значений может быть связано, в первую очередь, с техническими ошибками ввода данных. Кроме того, медианные значения средних чеков во всех административных округах ниже средних показателей, что подтверждает неравномерное распределение данных и наличие выбросов. \n",
    "\n",
    "В целом анализ данных показывает, что наиболее высокие средний чеки территориально встречаются в центре, на севере, западе и северо-западе Москвы."
   ]
  },
  {
   "cell_type": "markdown",
   "id": "f2c54e9a",
   "metadata": {
    "id": "f2c54e9a"
   },
   "source": [
    "---\n",
    "\n",
    "### Промежуточный вывод\n"
   ]
  },
  {
   "cell_type": "markdown",
   "id": "ddf2417f",
   "metadata": {
    "id": "c8869609"
   },
   "source": [
    "Проведенный исследовательский анализ данных позволяет сделать следующие выводы:  \n",
    "1. В датасете представлены следующие категории данных: булочная, столовая, быстрое питание, пиццерия, бар,паб, кофейня, ресторан, кафе. Наиболее представленными категориями являются кафе (2377), ресторан (2042), кофейня (1413); наименее представленными - столовая (315), булочная (256)  \n",
    "2. Лидером по количеству заведений являются Центральный - 2242 заведения, примерно в 2,5 раза больше количества заведений в следующем по количеству заведений административном округе. Наиболее популярными категориями заведений в Центральном административном округе являются ***рестораны*** *(670)*, ***кафе*** *(464)* и ***кофейни*** *(428)*. Наименее популярными также являются заведения категорий ***столовая*** *(66)*, ***булочная*** *(50)*.  \n",
    "3. Несетевых заведений представлено практически в 2 раза больше, чем сетевых (5200 несетевых, 3203 сетевых). ***Кофейня, пиццерия, булочная*** - категории, которые в большинстве представлены сетевыми заведениями. Среди несетевых заведений в большинстве представлены ***столовые, рестораны, кафе, заведения быстрого питания, бары,пабы***. \n",
    "4. Минимальное количество посадочных мест равно 0, что может быть реальным значением для заведений без посадочных мест, работающих в формате \"навынос\" (кофейня, булочная). Медианное количество посадочных мест равно 75. Количество посадочных мест варьируется в зависимости от категории заведения: ***наибольшее количество посадочных мест в заведениях бар, паб, ресторан, наименьшее количество посадочных мест представлено в заведениях пиццерия, кафе, булочная***.\n",
    "5. Рейтинги заведений по категориям варьируются в диапазоне от 4,05 до 4,39. ***Минимальное значение среднего рейтинга у заведений категории быстрого питания. Максимальное значение среднего рейтинга характерно для баров, пабов.***  \n",
    "6. ***Наиболее высокий средний рейтинг фиксируется в Центральном (4.38) и Северном административных округах (4.24)***. Для остальных административных округов фиксируется рейтинг ниже среднего по всем заведениям. Наиболее низкий - в Юго-Восточном административном округе (4.1). Средний рейтинг заведений также связан с распределением заведений по ценовым сегментам: чем выше ценовой сегмент, тем выше рейтинг заведения. ***Наиболее высокий средний рейтинг имеют заведения, ценовая категория которых соответствует \"высокой\" (4.44), \"выше среднего\"(4.39) и \"средней\" (4.3). Самый низкий средний рейтинг фиксируется у заведений ценовой категории \"низкие\" (4.17).***  \n",
    "7. ***Среди списка топ-15 сетевых заведений Москвы наиболее популярной категорией является кофейня*** - в данной категории представлено больше всего заведений (330).  \n",
    "8. Наиболее высокие средний чеки территориально встречаются в заведениях районах центра, севера, запада и северо-запада Москвы, наиболее низкие значения среднего чека характерны для заведений южных, восточных, юго-восточных районов.\n"
   ]
  },
  {
   "cell_type": "markdown",
   "id": "480f3422",
   "metadata": {
    "id": "480f3422"
   },
   "source": [
    "## 4. Итоговый вывод и рекомендации\n"
   ]
  },
  {
   "cell_type": "markdown",
   "id": "aef55e72",
   "metadata": {},
   "source": [
    "### Общий обзор проделанной работы"
   ]
  },
  {
   "cell_type": "markdown",
   "id": "7dc346ad",
   "metadata": {},
   "source": [
    "В работу были взяты 2 датасета: rest_info (8406 строк, 9 столбцов), rest_price (4058 строк, 5 столбцов). Датасеты были объединены в один для удобства дальнейшей обработки (new_df). В столбце price был изменен тип данных. В столбцах hours, avg_bill пропуски были заменены на категории-индикаторы. В датасете были обнаружены и удалены неявные дубли. Также был добавлен новый столбец is_24_7, позволяющий выделить заведения, работающие круглосуточно и ежедневно. Итоговый датасет new_df включает 8402 строки и 14 столбцов.  \n",
    "После предобработки был проведен исследовательский анализ данных, включающий статистический и корреляционный анализ данных с созданием соответствующих визулизаций.   "
   ]
  },
  {
   "cell_type": "markdown",
   "id": "07d9724f",
   "metadata": {},
   "source": [
    "### Ответы на исследовательские вопросы. Главные выводы"
   ]
  },
  {
   "cell_type": "markdown",
   "id": "7a911eb5",
   "metadata": {},
   "source": [
    "По итогам проведенного исследовательского анализа данных представляется возможным отметить следующие результаты:  \n",
    "1. **Наибольшее количество заведений представлено в категориях**:  \n",
    "- кафе (2377), \n",
    "- ресторан (2042), \n",
    "- кофейня (1413);  \n",
    "\n",
    "**наименее представленными являются категории**: \n",
    "- столовая (315), \n",
    "- булочная (256)  \n",
    "\n",
    "2. **Лидером по количеству заведений является Центральный административный округ** - 2242 заведения, примерно в 2,5 раза больше количества заведений в следующем по количеству заведений административном округе. **Наиболее популярными категориями заведений в Центральном административном округе являются:**  \n",
    "- рестораны (670),  \n",
    "- кафе (464),  \n",
    "- кофейни (428).  \n",
    "\n",
    "**Наименее популярными являются заведения категорий:**\n",
    "- столовая (66),  \n",
    "- булочная (50).  \n",
    "\n",
    "Вероятнее всего, это связано с тем, что в Центральном административном округе представлены заведения наиболее высокого ценового сегмента. Следующими по количеству заведений после Центрального административного округа явлюятся Северный (899 заведений) и Южный (892 заведения) административные округа. Наименьшее количество заведений представлено в Юго-Восточном (714 заведений), Юго-западном (709 заведений) и Северо-Западном (409 заведений) административных округах.  \n",
    "\n",
    "\n",
    "3. **Несетевых заведений представлено практически в 2 раза больше, чем сетевых** (5200 несетевых, 3203 сетевых, что в процентном выражении составляет 62% и 38% соответственно). Кофейня, пиццерия, булочная - категории, которые в большинстве представлены сетевыми заведениями. Важно отметить, что разница в количестве сетевых и несетевых заведений по данным категориям небольшая и составляет от 3% до 22%. Среди несетевых заведений в большинстве представлены столовые, рестораны, кафе, заведения быстрого питания, бары,пабы. Для данных категорий характерно значительное преобладание несетевых заведений: количество несетевых заведений превосходит количество сетевых на 24%-56%. Количество сетевых заведений в округе также превышает количество несетевых. Это может говорить о том, что **в целом для заведений общепита Москвы наиболее распространен несетевой формат**. При этом максимальное количество сетевых и несетевых заведений отмечается в Центральном административном округе (875 и 1367 соответственно), тогда как наибольшая концентрация сетевых заведений относительно несетевых наблюдается в Западном, Юго-Западном административных округах. Наибольшая концентрация несетевых заведений относительно сетевых наблюдается в Юго-Восточном, Южном, Восточном административных округах.\n",
    "\n",
    "\n",
    "4. Минимальное количество посадочных мест равно 0, что может быть реальным значением для заведений без посадочных мест, работающих в формате \"навынос\". Медианное количество посадочных мест равно 75. Количество посадочных мест варьируется в зависимости от категории заведения: **наибольшее количество посадочных мест в заведениях бар, паб, ресторан, наименьшее количество посадочных мест представлено в заведениях пиццерия, кафе, булочная**, что может объясняться форматом работы данных заведений (часто в формате \"навынос\"). Максимальное количество посадоных мест равно 1288, что может яявляться реальным значением для фуд-кортов. \n",
    "\n",
    "\n",
    "5. Рейтинги заведений по категориям варьируются в диапазоне от 4,05 до 4,39. **Минимальное значение среднего рейтинга у заведений категории быстрого питания. Максимальное значение среднего рейтинга характерно для баров, пабов. Наиболее высокий средний рейтинг фиксируется в Центральном (4.38) и Северном административных округах (4.24).** Для остальных административных округов фиксируется рейтинг ниже среднего по всем заведениям. **Наиболее низкий - в Юго-Восточном административном округе (4.1).** Средний рейтинг заведений также связан с распределением заведений по ценовым сегментам: чем выше ценовой сегмент, тем выше рейтинг заведения. **Наиболее высокий средний рейтинг имеют заведения, ценовая категория которых соответствует \"высокой\" (4.44), \"выше среднего\"(4.39) и \"средней\" (4.3). Самый низкий средний рейтинг фиксируется у заведений ценовой категории \"низкие\" (4.17).**  \n",
    "\n",
    "\n",
    "6. В ходе исследования был составлен список топ-15 сетевых заведений Москвы:  \n",
    "шоколадница  \n",
    "домино'с_пицца  \n",
    "додо_пицца  \n",
    "one_price_coffee  \n",
    "яндекс_лавка  \n",
    "cofix  \n",
    "prime  \n",
    "кофепорт  \n",
    "кулинарная_лавка_братьев_караваевых  \n",
    "теремок  \n",
    "cofefest  \n",
    "чайхана  \n",
    "буханка  \n",
    "drive_café  \n",
    "кофемания  \n",
    "**Среди списка топ-15 сетевых заведений Москвы наиболее популярной категорией является кофейня** - в данной категории представлено больше всего заведений (330).  \n",
    "\n",
    "\n",
    "7. В целом наиболее высокие средний чеки территориально встречаются в заведениях районах центра, севера, запада и северо-запада Москвы, наиболее низкие значения среднего чека характерны для заведений южных, восточных, юго-восточных районов. Такое распределение может быть связано, во-первых, с высокой концентрацией заведений соответствующей ценовой категории, а также заведений с высоким рейтингом в обозначенных районах, во-вторых, с уровнем престижности районов. \n"
   ]
  },
  {
   "cell_type": "markdown",
   "id": "a0b615b5",
   "metadata": {},
   "source": [
    "### Рекомендации на основе анализа данных"
   ]
  },
  {
   "cell_type": "markdown",
   "id": "61aada94",
   "metadata": {},
   "source": [
    "Резюмируя полученные результаты, можно выделить некоторые характеристики наиболее популярных моделей заведений общественного питания Москвы:\n",
    "1. Несетевое заведение с высоким средним чеком в Центральном, Северном или Западном административном округе. Заведение в Центральном административном округе может соответствовать категории ресторан, бар, паб с наличием посадочных мест.  \n",
    "2. Сетевое заведение в Центральном или Западном административном округе категории кофейня (сети Шоколадница, one_price_coffee, cofix) с наличием или без наличия посадочных мест (в формате \"навынос\").  \n",
    "\n",
    "Такие заведения имеют наиболее высокие рейтинги, однако, учитывая популярность обозначенных моделей, при реализации подобных  проектов следует учитывать высокий уровень конкуренции среди аналогичных заведений в обозначенных административных округах.  \n",
    "\n",
    "Перспективным направлением является реализация проектов в Северо-Западном, Западном и Северном административных округах: в данных административных округах количество заведений меньше, при этом данный округ относится к районам с наиболее высокими средними чеками в Москве, а также средний рейтинг заведений округа находится на 3 месте среди всех округов Москвы и составляет 4.2. Рекомендуется провести более детальное исследование.  \n",
    "Также рекомендуется обратить более детальное внимание на сетевые заведения: количество сетевых заведений уступает количеству несетевых заведений во всех рассмотренных округах."
   ]
  }
 ],
 "metadata": {
  "ExecuteTimeLog": [
   {
    "duration": 423,
    "start_time": "2025-05-26T12:32:32.875Z"
   },
   {
    "duration": 492,
    "start_time": "2025-05-26T12:34:01.852Z"
   },
   {
    "duration": 590,
    "start_time": "2025-05-26T12:34:47.053Z"
   },
   {
    "duration": 3,
    "start_time": "2025-05-26T12:36:52.394Z"
   },
   {
    "duration": 3,
    "start_time": "2025-05-26T12:37:10.751Z"
   },
   {
    "duration": 141,
    "start_time": "2025-05-26T12:38:41.186Z"
   },
   {
    "duration": 365,
    "start_time": "2025-05-26T12:38:52.581Z"
   },
   {
    "duration": 119,
    "start_time": "2025-05-26T12:39:18.816Z"
   },
   {
    "duration": 17,
    "start_time": "2025-05-26T12:39:40.850Z"
   },
   {
    "duration": 21,
    "start_time": "2025-05-26T12:39:59.813Z"
   },
   {
    "duration": 10,
    "start_time": "2025-05-26T12:40:23.312Z"
   },
   {
    "duration": 13,
    "start_time": "2025-05-26T12:40:46.659Z"
   },
   {
    "duration": 25,
    "start_time": "2025-05-26T12:41:40.419Z"
   },
   {
    "duration": 21,
    "start_time": "2025-05-26T12:42:16.311Z"
   },
   {
    "duration": 445,
    "start_time": "2025-05-26T12:48:55.823Z"
   },
   {
    "duration": 51,
    "start_time": "2025-05-26T12:49:08.778Z"
   },
   {
    "duration": 13,
    "start_time": "2025-05-26T13:30:02.602Z"
   },
   {
    "duration": 16,
    "start_time": "2025-05-26T13:30:18.884Z"
   },
   {
    "duration": 18,
    "start_time": "2025-05-26T13:30:31.267Z"
   },
   {
    "duration": 18,
    "start_time": "2025-05-26T13:32:36.306Z"
   },
   {
    "duration": 23,
    "start_time": "2025-05-26T13:32:55.835Z"
   },
   {
    "duration": 127,
    "start_time": "2025-05-26T13:33:14.914Z"
   },
   {
    "duration": 94,
    "start_time": "2025-05-26T13:33:30.501Z"
   },
   {
    "duration": 88,
    "start_time": "2025-05-26T13:33:41.197Z"
   },
   {
    "duration": 119,
    "start_time": "2025-05-26T13:34:49.215Z"
   },
   {
    "duration": 14,
    "start_time": "2025-05-26T13:35:41.387Z"
   },
   {
    "duration": 14,
    "start_time": "2025-05-26T13:35:43.578Z"
   },
   {
    "duration": 20,
    "start_time": "2025-05-26T13:36:05.532Z"
   },
   {
    "duration": 16,
    "start_time": "2025-05-26T13:37:30.010Z"
   },
   {
    "duration": 21,
    "start_time": "2025-05-26T13:37:36.769Z"
   },
   {
    "duration": 18,
    "start_time": "2025-05-26T13:38:07.139Z"
   },
   {
    "duration": 20,
    "start_time": "2025-05-26T13:38:23.223Z"
   },
   {
    "duration": 5,
    "start_time": "2025-05-26T13:41:01.361Z"
   },
   {
    "duration": 7,
    "start_time": "2025-05-26T13:41:19.731Z"
   },
   {
    "duration": 8,
    "start_time": "2025-05-26T13:41:42.579Z"
   },
   {
    "duration": 5,
    "start_time": "2025-05-26T13:42:11.745Z"
   },
   {
    "duration": 22,
    "start_time": "2025-05-26T14:13:26.834Z"
   },
   {
    "duration": 9,
    "start_time": "2025-05-26T14:13:39.359Z"
   },
   {
    "duration": 10,
    "start_time": "2025-05-26T14:14:16.948Z"
   },
   {
    "duration": 10,
    "start_time": "2025-05-26T14:14:57.741Z"
   },
   {
    "duration": 10,
    "start_time": "2025-05-26T14:15:07.352Z"
   },
   {
    "duration": 12,
    "start_time": "2025-05-26T14:15:25.715Z"
   },
   {
    "duration": 10,
    "start_time": "2025-05-26T14:25:02.755Z"
   },
   {
    "duration": 5,
    "start_time": "2025-05-26T14:26:30.214Z"
   },
   {
    "duration": 5,
    "start_time": "2025-05-26T14:27:32.326Z"
   },
   {
    "duration": 25,
    "start_time": "2025-05-26T14:29:48.177Z"
   },
   {
    "duration": 10,
    "start_time": "2025-05-26T14:30:39.637Z"
   },
   {
    "duration": 7,
    "start_time": "2025-05-26T14:30:45.350Z"
   },
   {
    "duration": 5,
    "start_time": "2025-05-26T14:31:13.384Z"
   },
   {
    "duration": 4,
    "start_time": "2025-05-26T14:31:18.640Z"
   },
   {
    "duration": 146,
    "start_time": "2025-05-26T14:31:39.974Z"
   },
   {
    "duration": 176,
    "start_time": "2025-05-26T14:32:37.464Z"
   },
   {
    "duration": 148,
    "start_time": "2025-05-26T14:34:15.898Z"
   },
   {
    "duration": 150,
    "start_time": "2025-05-26T14:34:59.114Z"
   },
   {
    "duration": 120,
    "start_time": "2025-05-26T14:39:07.711Z"
   },
   {
    "duration": 154,
    "start_time": "2025-05-26T14:39:19.242Z"
   },
   {
    "duration": 150,
    "start_time": "2025-05-26T14:45:38.836Z"
   },
   {
    "duration": 144,
    "start_time": "2025-05-26T14:45:49.997Z"
   },
   {
    "duration": 7,
    "start_time": "2025-05-26T14:46:51.796Z"
   },
   {
    "duration": 96,
    "start_time": "2025-05-26T14:47:33.026Z"
   },
   {
    "duration": 7,
    "start_time": "2025-05-26T14:47:44.009Z"
   },
   {
    "duration": 87,
    "start_time": "2025-05-26T14:47:58.683Z"
   },
   {
    "duration": 82,
    "start_time": "2025-05-26T14:48:06.051Z"
   },
   {
    "duration": 7,
    "start_time": "2025-05-26T14:48:17.414Z"
   },
   {
    "duration": 14,
    "start_time": "2025-05-26T14:49:36.664Z"
   },
   {
    "duration": 10,
    "start_time": "2025-05-26T14:49:46.722Z"
   },
   {
    "duration": 12,
    "start_time": "2025-05-26T14:50:01.728Z"
   },
   {
    "duration": 14,
    "start_time": "2025-05-26T14:50:06.779Z"
   },
   {
    "duration": 7,
    "start_time": "2025-05-26T14:50:09.758Z"
   },
   {
    "duration": 6,
    "start_time": "2025-05-26T14:50:21.107Z"
   },
   {
    "duration": 7,
    "start_time": "2025-05-26T14:50:30.234Z"
   },
   {
    "duration": 7,
    "start_time": "2025-05-26T14:51:19.263Z"
   },
   {
    "duration": 230,
    "start_time": "2025-05-26T14:51:23.160Z"
   },
   {
    "duration": 5,
    "start_time": "2025-05-26T14:55:14.348Z"
   },
   {
    "duration": 5,
    "start_time": "2025-05-26T14:56:38.928Z"
   },
   {
    "duration": 10,
    "start_time": "2025-05-26T14:57:27.193Z"
   },
   {
    "duration": 12,
    "start_time": "2025-05-26T14:57:43.097Z"
   },
   {
    "duration": 7,
    "start_time": "2025-05-26T14:57:49.146Z"
   },
   {
    "duration": 12,
    "start_time": "2025-05-26T14:57:54.512Z"
   },
   {
    "duration": 19,
    "start_time": "2025-05-26T14:58:02.403Z"
   },
   {
    "duration": 1333,
    "start_time": "2025-05-26T15:05:49.515Z"
   },
   {
    "duration": 11,
    "start_time": "2025-05-26T15:06:02.698Z"
   },
   {
    "duration": 9,
    "start_time": "2025-05-26T15:06:22.383Z"
   },
   {
    "duration": 15,
    "start_time": "2025-05-26T15:08:01.499Z"
   },
   {
    "duration": 9,
    "start_time": "2025-05-26T15:08:17.389Z"
   },
   {
    "duration": 9,
    "start_time": "2025-05-26T15:08:20.510Z"
   },
   {
    "duration": 15,
    "start_time": "2025-05-26T15:08:36.018Z"
   },
   {
    "duration": 10,
    "start_time": "2025-05-26T15:08:49.942Z"
   },
   {
    "duration": 12,
    "start_time": "2025-05-26T15:08:57.286Z"
   },
   {
    "duration": 9,
    "start_time": "2025-05-26T15:09:00.174Z"
   },
   {
    "duration": 1205,
    "start_time": "2025-05-26T15:11:39.600Z"
   },
   {
    "duration": 196,
    "start_time": "2025-05-26T15:11:40.807Z"
   },
   {
    "duration": 64,
    "start_time": "2025-05-26T15:11:41.005Z"
   },
   {
    "duration": 34,
    "start_time": "2025-05-26T15:11:41.073Z"
   },
   {
    "duration": 18,
    "start_time": "2025-05-26T15:11:41.108Z"
   },
   {
    "duration": 42,
    "start_time": "2025-05-26T15:11:41.127Z"
   },
   {
    "duration": 17,
    "start_time": "2025-05-26T15:11:41.171Z"
   },
   {
    "duration": 19,
    "start_time": "2025-05-26T15:11:41.190Z"
   },
   {
    "duration": 20,
    "start_time": "2025-05-26T15:11:41.210Z"
   },
   {
    "duration": 45,
    "start_time": "2025-05-26T15:11:41.232Z"
   },
   {
    "duration": 11,
    "start_time": "2025-05-26T15:11:41.279Z"
   },
   {
    "duration": 12,
    "start_time": "2025-05-26T15:11:41.292Z"
   },
   {
    "duration": 11,
    "start_time": "2025-05-26T15:11:41.305Z"
   },
   {
    "duration": 4,
    "start_time": "2025-05-26T15:11:41.317Z"
   },
   {
    "duration": 39,
    "start_time": "2025-05-26T15:11:41.323Z"
   },
   {
    "duration": 185,
    "start_time": "2025-05-26T15:11:41.363Z"
   },
   {
    "duration": 8,
    "start_time": "2025-05-26T15:14:16.487Z"
   },
   {
    "duration": 107,
    "start_time": "2025-05-26T15:16:03.031Z"
   },
   {
    "duration": 11,
    "start_time": "2025-05-26T15:16:11.667Z"
   },
   {
    "duration": 11,
    "start_time": "2025-05-26T15:16:30.222Z"
   },
   {
    "duration": 13,
    "start_time": "2025-05-26T15:16:48.698Z"
   },
   {
    "duration": 8,
    "start_time": "2025-05-26T15:16:52.811Z"
   },
   {
    "duration": 9,
    "start_time": "2025-05-26T15:17:40.738Z"
   },
   {
    "duration": 28,
    "start_time": "2025-05-26T15:19:43.439Z"
   },
   {
    "duration": 8,
    "start_time": "2025-05-26T15:19:56.373Z"
   },
   {
    "duration": 11,
    "start_time": "2025-05-26T15:20:01.340Z"
   },
   {
    "duration": 8,
    "start_time": "2025-05-26T15:20:20.942Z"
   },
   {
    "duration": 12,
    "start_time": "2025-05-26T15:20:46.005Z"
   },
   {
    "duration": 17,
    "start_time": "2025-05-26T15:21:05.230Z"
   },
   {
    "duration": 11,
    "start_time": "2025-05-26T15:21:13.833Z"
   },
   {
    "duration": 12,
    "start_time": "2025-05-26T15:21:22.473Z"
   },
   {
    "duration": 16,
    "start_time": "2025-05-26T15:21:42.714Z"
   },
   {
    "duration": 17,
    "start_time": "2025-05-26T15:21:57.640Z"
   },
   {
    "duration": 11,
    "start_time": "2025-05-26T15:22:08.586Z"
   },
   {
    "duration": 9,
    "start_time": "2025-05-26T15:23:08.406Z"
   },
   {
    "duration": 18,
    "start_time": "2025-05-26T15:23:41.701Z"
   },
   {
    "duration": 19,
    "start_time": "2025-05-26T15:24:40.119Z"
   },
   {
    "duration": 21,
    "start_time": "2025-05-26T15:35:39.644Z"
   },
   {
    "duration": 12,
    "start_time": "2025-05-26T15:35:50.060Z"
   },
   {
    "duration": 22,
    "start_time": "2025-05-26T15:35:54.004Z"
   },
   {
    "duration": 1265,
    "start_time": "2025-05-26T15:36:17.834Z"
   },
   {
    "duration": 104,
    "start_time": "2025-05-26T15:36:19.101Z"
   },
   {
    "duration": 40,
    "start_time": "2025-05-26T15:36:19.207Z"
   },
   {
    "duration": 28,
    "start_time": "2025-05-26T15:36:19.249Z"
   },
   {
    "duration": 19,
    "start_time": "2025-05-26T15:36:19.279Z"
   },
   {
    "duration": 12,
    "start_time": "2025-05-26T15:36:19.299Z"
   },
   {
    "duration": 17,
    "start_time": "2025-05-26T15:36:19.312Z"
   },
   {
    "duration": 37,
    "start_time": "2025-05-26T15:36:19.330Z"
   },
   {
    "duration": 12,
    "start_time": "2025-05-26T15:36:19.368Z"
   },
   {
    "duration": 22,
    "start_time": "2025-05-26T15:36:19.382Z"
   },
   {
    "duration": 12,
    "start_time": "2025-05-26T15:36:19.406Z"
   },
   {
    "duration": 51,
    "start_time": "2025-05-26T15:36:19.420Z"
   },
   {
    "duration": 2,
    "start_time": "2025-05-26T15:36:19.473Z"
   },
   {
    "duration": 19,
    "start_time": "2025-05-26T15:36:19.477Z"
   },
   {
    "duration": 167,
    "start_time": "2025-05-26T15:36:19.498Z"
   },
   {
    "duration": 31,
    "start_time": "2025-05-26T15:36:49.913Z"
   },
   {
    "duration": 23,
    "start_time": "2025-05-26T15:36:55.543Z"
   },
   {
    "duration": 19,
    "start_time": "2025-05-26T15:37:43.918Z"
   },
   {
    "duration": 1181,
    "start_time": "2025-05-26T15:37:53.520Z"
   },
   {
    "duration": 172,
    "start_time": "2025-05-26T15:37:54.704Z"
   },
   {
    "duration": 79,
    "start_time": "2025-05-26T15:37:54.878Z"
   },
   {
    "duration": 28,
    "start_time": "2025-05-26T15:37:54.960Z"
   },
   {
    "duration": 19,
    "start_time": "2025-05-26T15:37:54.990Z"
   },
   {
    "duration": 13,
    "start_time": "2025-05-26T15:37:55.011Z"
   },
   {
    "duration": 48,
    "start_time": "2025-05-26T15:37:55.026Z"
   },
   {
    "duration": 11,
    "start_time": "2025-05-26T15:37:55.076Z"
   },
   {
    "duration": 14,
    "start_time": "2025-05-26T15:37:55.088Z"
   },
   {
    "duration": 23,
    "start_time": "2025-05-26T15:37:55.105Z"
   },
   {
    "duration": 42,
    "start_time": "2025-05-26T15:37:55.130Z"
   },
   {
    "duration": 21,
    "start_time": "2025-05-26T15:37:55.174Z"
   },
   {
    "duration": 3,
    "start_time": "2025-05-26T15:37:55.197Z"
   },
   {
    "duration": 22,
    "start_time": "2025-05-26T15:37:55.202Z"
   },
   {
    "duration": 185,
    "start_time": "2025-05-26T15:37:55.226Z"
   },
   {
    "duration": 10,
    "start_time": "2025-05-26T15:41:43.909Z"
   },
   {
    "duration": 15,
    "start_time": "2025-05-26T15:42:02.119Z"
   },
   {
    "duration": 9,
    "start_time": "2025-05-26T15:42:46.123Z"
   },
   {
    "duration": 48,
    "start_time": "2025-05-27T09:01:21.982Z"
   },
   {
    "duration": 1444,
    "start_time": "2025-05-27T09:01:33.984Z"
   },
   {
    "duration": 317,
    "start_time": "2025-05-27T09:01:35.430Z"
   },
   {
    "duration": 57,
    "start_time": "2025-05-27T09:01:35.749Z"
   },
   {
    "duration": 27,
    "start_time": "2025-05-27T09:01:35.808Z"
   },
   {
    "duration": 22,
    "start_time": "2025-05-27T09:01:35.837Z"
   },
   {
    "duration": 12,
    "start_time": "2025-05-27T09:01:35.861Z"
   },
   {
    "duration": 43,
    "start_time": "2025-05-27T09:01:35.875Z"
   },
   {
    "duration": 30,
    "start_time": "2025-05-27T09:01:35.920Z"
   },
   {
    "duration": 44,
    "start_time": "2025-05-27T09:01:35.952Z"
   },
   {
    "duration": 42,
    "start_time": "2025-05-27T09:01:35.998Z"
   },
   {
    "duration": 27,
    "start_time": "2025-05-27T09:01:36.042Z"
   },
   {
    "duration": 43,
    "start_time": "2025-05-27T09:01:36.072Z"
   },
   {
    "duration": 18,
    "start_time": "2025-05-27T09:01:36.117Z"
   },
   {
    "duration": 16,
    "start_time": "2025-05-27T09:01:36.137Z"
   },
   {
    "duration": 62,
    "start_time": "2025-05-27T09:01:36.155Z"
   },
   {
    "duration": 185,
    "start_time": "2025-05-27T09:01:36.219Z"
   },
   {
    "duration": 46,
    "start_time": "2025-05-27T12:33:10.745Z"
   },
   {
    "duration": 1394,
    "start_time": "2025-05-27T12:33:21.495Z"
   },
   {
    "duration": 139,
    "start_time": "2025-05-27T12:33:22.891Z"
   },
   {
    "duration": 69,
    "start_time": "2025-05-27T12:33:23.032Z"
   },
   {
    "duration": 26,
    "start_time": "2025-05-27T12:33:23.104Z"
   },
   {
    "duration": 27,
    "start_time": "2025-05-27T12:33:23.131Z"
   },
   {
    "duration": 11,
    "start_time": "2025-05-27T12:33:23.159Z"
   },
   {
    "duration": 15,
    "start_time": "2025-05-27T12:33:23.172Z"
   },
   {
    "duration": 10,
    "start_time": "2025-05-27T12:33:23.188Z"
   },
   {
    "duration": 24,
    "start_time": "2025-05-27T12:33:23.199Z"
   },
   {
    "duration": 15,
    "start_time": "2025-05-27T12:33:23.235Z"
   },
   {
    "duration": 25,
    "start_time": "2025-05-27T12:33:23.252Z"
   },
   {
    "duration": 11,
    "start_time": "2025-05-27T12:33:23.279Z"
   },
   {
    "duration": 53,
    "start_time": "2025-05-27T12:33:23.292Z"
   },
   {
    "duration": 10,
    "start_time": "2025-05-27T12:33:23.347Z"
   },
   {
    "duration": 7,
    "start_time": "2025-05-27T12:33:23.359Z"
   },
   {
    "duration": 9,
    "start_time": "2025-05-27T12:33:23.368Z"
   },
   {
    "duration": 175,
    "start_time": "2025-05-27T12:33:23.379Z"
   },
   {
    "duration": 100,
    "start_time": "2025-05-27T12:33:41.586Z"
   },
   {
    "duration": 4,
    "start_time": "2025-05-27T12:33:57.993Z"
   },
   {
    "duration": 5,
    "start_time": "2025-05-27T12:34:48.037Z"
   },
   {
    "duration": 5,
    "start_time": "2025-05-27T12:34:49.671Z"
   },
   {
    "duration": 3,
    "start_time": "2025-05-27T12:35:18.992Z"
   },
   {
    "duration": 4,
    "start_time": "2025-05-27T12:35:33.532Z"
   },
   {
    "duration": 9,
    "start_time": "2025-05-27T12:48:47.104Z"
   },
   {
    "duration": 25,
    "start_time": "2025-05-27T12:52:22.162Z"
   },
   {
    "duration": 37,
    "start_time": "2025-05-27T12:56:26.862Z"
   },
   {
    "duration": 6,
    "start_time": "2025-05-27T12:57:25.010Z"
   },
   {
    "duration": 25,
    "start_time": "2025-05-27T12:58:23.405Z"
   },
   {
    "duration": 2,
    "start_time": "2025-05-27T13:00:11.869Z"
   },
   {
    "duration": 1221,
    "start_time": "2025-05-27T13:00:28.428Z"
   },
   {
    "duration": 181,
    "start_time": "2025-05-27T13:00:29.651Z"
   },
   {
    "duration": 47,
    "start_time": "2025-05-27T13:00:29.833Z"
   },
   {
    "duration": 27,
    "start_time": "2025-05-27T13:00:29.881Z"
   },
   {
    "duration": 17,
    "start_time": "2025-05-27T13:00:29.910Z"
   },
   {
    "duration": 16,
    "start_time": "2025-05-27T13:00:29.929Z"
   },
   {
    "duration": 17,
    "start_time": "2025-05-27T13:00:29.946Z"
   },
   {
    "duration": 4,
    "start_time": "2025-05-27T13:00:29.965Z"
   },
   {
    "duration": 5,
    "start_time": "2025-05-27T13:00:29.971Z"
   },
   {
    "duration": 13,
    "start_time": "2025-05-27T13:00:29.978Z"
   },
   {
    "duration": 51,
    "start_time": "2025-05-27T13:00:29.992Z"
   },
   {
    "duration": 17,
    "start_time": "2025-05-27T13:00:30.045Z"
   },
   {
    "duration": 53,
    "start_time": "2025-05-27T13:00:30.063Z"
   },
   {
    "duration": 40,
    "start_time": "2025-05-27T13:00:30.120Z"
   },
   {
    "duration": 59,
    "start_time": "2025-05-27T13:00:30.162Z"
   },
   {
    "duration": 27,
    "start_time": "2025-05-27T13:00:30.223Z"
   },
   {
    "duration": 21,
    "start_time": "2025-05-27T13:00:30.252Z"
   },
   {
    "duration": 19,
    "start_time": "2025-05-27T13:00:30.274Z"
   },
   {
    "duration": 194,
    "start_time": "2025-05-27T13:00:30.295Z"
   },
   {
    "duration": 32,
    "start_time": "2025-05-27T13:05:25.064Z"
   },
   {
    "duration": 22,
    "start_time": "2025-05-27T13:06:30.903Z"
   },
   {
    "duration": 5,
    "start_time": "2025-05-27T13:17:37.289Z"
   },
   {
    "duration": 14,
    "start_time": "2025-05-27T13:21:49.754Z"
   },
   {
    "duration": 15,
    "start_time": "2025-05-27T13:22:01.786Z"
   },
   {
    "duration": 109,
    "start_time": "2025-05-27T13:23:40.292Z"
   },
   {
    "duration": 36,
    "start_time": "2025-05-27T13:26:15.047Z"
   },
   {
    "duration": 20,
    "start_time": "2025-05-27T13:26:56.339Z"
   },
   {
    "duration": 32,
    "start_time": "2025-05-27T13:27:08.809Z"
   },
   {
    "duration": 85,
    "start_time": "2025-05-27T13:31:48.433Z"
   },
   {
    "duration": 90,
    "start_time": "2025-05-27T13:32:29.261Z"
   },
   {
    "duration": 95,
    "start_time": "2025-05-27T13:32:43.490Z"
   },
   {
    "duration": 99,
    "start_time": "2025-05-27T13:33:04.044Z"
   },
   {
    "duration": 39,
    "start_time": "2025-05-27T13:34:25.497Z"
   },
   {
    "duration": 26,
    "start_time": "2025-05-27T13:34:44.196Z"
   },
   {
    "duration": 19,
    "start_time": "2025-05-27T13:35:08.764Z"
   },
   {
    "duration": 37,
    "start_time": "2025-05-27T13:35:13.474Z"
   },
   {
    "duration": 18,
    "start_time": "2025-05-27T13:41:34.644Z"
   },
   {
    "duration": 18,
    "start_time": "2025-05-27T13:49:38.675Z"
   },
   {
    "duration": 10,
    "start_time": "2025-05-27T13:51:39.005Z"
   },
   {
    "duration": 17,
    "start_time": "2025-05-27T13:51:42.357Z"
   },
   {
    "duration": 16,
    "start_time": "2025-05-27T13:51:48.657Z"
   },
   {
    "duration": 28,
    "start_time": "2025-05-27T13:51:57.810Z"
   },
   {
    "duration": 1221,
    "start_time": "2025-05-27T13:55:14.639Z"
   },
   {
    "duration": 260,
    "start_time": "2025-05-27T13:55:15.862Z"
   },
   {
    "duration": 50,
    "start_time": "2025-05-27T13:55:16.124Z"
   },
   {
    "duration": 27,
    "start_time": "2025-05-27T13:55:16.176Z"
   },
   {
    "duration": 19,
    "start_time": "2025-05-27T13:55:16.205Z"
   },
   {
    "duration": 11,
    "start_time": "2025-05-27T13:55:16.225Z"
   },
   {
    "duration": 16,
    "start_time": "2025-05-27T13:55:16.237Z"
   },
   {
    "duration": 119,
    "start_time": "2025-05-27T13:55:16.254Z"
   },
   {
    "duration": 0,
    "start_time": "2025-05-27T13:55:16.375Z"
   },
   {
    "duration": 0,
    "start_time": "2025-05-27T13:55:16.376Z"
   },
   {
    "duration": 0,
    "start_time": "2025-05-27T13:55:16.377Z"
   },
   {
    "duration": 0,
    "start_time": "2025-05-27T13:55:16.378Z"
   },
   {
    "duration": 0,
    "start_time": "2025-05-27T13:55:16.380Z"
   },
   {
    "duration": 0,
    "start_time": "2025-05-27T13:55:16.381Z"
   },
   {
    "duration": 0,
    "start_time": "2025-05-27T13:55:16.382Z"
   },
   {
    "duration": 0,
    "start_time": "2025-05-27T13:55:16.383Z"
   },
   {
    "duration": 0,
    "start_time": "2025-05-27T13:55:16.384Z"
   },
   {
    "duration": 0,
    "start_time": "2025-05-27T13:55:16.385Z"
   },
   {
    "duration": 0,
    "start_time": "2025-05-27T13:55:16.386Z"
   },
   {
    "duration": 0,
    "start_time": "2025-05-27T13:55:16.387Z"
   },
   {
    "duration": 0,
    "start_time": "2025-05-27T13:55:16.388Z"
   },
   {
    "duration": 4,
    "start_time": "2025-05-27T13:55:33.302Z"
   },
   {
    "duration": 3,
    "start_time": "2025-05-27T13:55:50.382Z"
   },
   {
    "duration": 4,
    "start_time": "2025-05-27T13:55:56.683Z"
   },
   {
    "duration": 3,
    "start_time": "2025-05-27T13:55:59.679Z"
   },
   {
    "duration": 2,
    "start_time": "2025-05-27T13:56:19.849Z"
   },
   {
    "duration": 1225,
    "start_time": "2025-05-27T13:56:25.939Z"
   },
   {
    "duration": 208,
    "start_time": "2025-05-27T13:56:27.166Z"
   },
   {
    "duration": 63,
    "start_time": "2025-05-27T13:56:27.376Z"
   },
   {
    "duration": 27,
    "start_time": "2025-05-27T13:56:27.441Z"
   },
   {
    "duration": 17,
    "start_time": "2025-05-27T13:56:27.470Z"
   },
   {
    "duration": 10,
    "start_time": "2025-05-27T13:56:27.488Z"
   },
   {
    "duration": 44,
    "start_time": "2025-05-27T13:56:27.500Z"
   },
   {
    "duration": 3,
    "start_time": "2025-05-27T13:56:27.545Z"
   },
   {
    "duration": 14,
    "start_time": "2025-05-27T13:56:27.549Z"
   },
   {
    "duration": 5,
    "start_time": "2025-05-27T13:56:27.566Z"
   },
   {
    "duration": 9,
    "start_time": "2025-05-27T13:56:27.572Z"
   },
   {
    "duration": 13,
    "start_time": "2025-05-27T13:56:27.582Z"
   },
   {
    "duration": 2,
    "start_time": "2025-05-27T13:56:27.597Z"
   },
   {
    "duration": 53,
    "start_time": "2025-05-27T13:56:27.600Z"
   },
   {
    "duration": 11,
    "start_time": "2025-05-27T13:56:27.655Z"
   },
   {
    "duration": 22,
    "start_time": "2025-05-27T13:56:27.668Z"
   },
   {
    "duration": 9,
    "start_time": "2025-05-27T13:56:27.691Z"
   },
   {
    "duration": 50,
    "start_time": "2025-05-27T13:56:27.702Z"
   },
   {
    "duration": 4,
    "start_time": "2025-05-27T13:56:27.753Z"
   },
   {
    "duration": 7,
    "start_time": "2025-05-27T13:56:27.759Z"
   },
   {
    "duration": 164,
    "start_time": "2025-05-27T13:56:27.767Z"
   },
   {
    "duration": 4,
    "start_time": "2025-05-27T14:03:51.190Z"
   },
   {
    "duration": 4,
    "start_time": "2025-05-27T14:04:42.830Z"
   },
   {
    "duration": 107,
    "start_time": "2025-05-27T14:04:43.786Z"
   },
   {
    "duration": 5,
    "start_time": "2025-05-27T14:04:44.176Z"
   },
   {
    "duration": 1218,
    "start_time": "2025-05-27T14:05:11.222Z"
   },
   {
    "duration": 110,
    "start_time": "2025-05-27T14:05:12.443Z"
   },
   {
    "duration": 53,
    "start_time": "2025-05-27T14:05:12.555Z"
   },
   {
    "duration": 27,
    "start_time": "2025-05-27T14:05:12.611Z"
   },
   {
    "duration": 18,
    "start_time": "2025-05-27T14:05:12.640Z"
   },
   {
    "duration": 11,
    "start_time": "2025-05-27T14:05:12.660Z"
   },
   {
    "duration": 16,
    "start_time": "2025-05-27T14:05:12.672Z"
   },
   {
    "duration": 3,
    "start_time": "2025-05-27T14:05:12.690Z"
   },
   {
    "duration": 42,
    "start_time": "2025-05-27T14:05:12.695Z"
   },
   {
    "duration": 4,
    "start_time": "2025-05-27T14:05:12.740Z"
   },
   {
    "duration": 21,
    "start_time": "2025-05-27T14:05:12.745Z"
   },
   {
    "duration": 64,
    "start_time": "2025-05-27T14:05:12.767Z"
   },
   {
    "duration": 17,
    "start_time": "2025-05-27T14:05:12.833Z"
   },
   {
    "duration": 111,
    "start_time": "2025-05-27T14:05:12.852Z"
   },
   {
    "duration": 0,
    "start_time": "2025-05-27T14:05:12.964Z"
   },
   {
    "duration": 0,
    "start_time": "2025-05-27T14:05:12.966Z"
   },
   {
    "duration": 0,
    "start_time": "2025-05-27T14:05:12.968Z"
   },
   {
    "duration": 0,
    "start_time": "2025-05-27T14:05:12.969Z"
   },
   {
    "duration": 0,
    "start_time": "2025-05-27T14:05:12.971Z"
   },
   {
    "duration": 1,
    "start_time": "2025-05-27T14:05:12.972Z"
   },
   {
    "duration": 0,
    "start_time": "2025-05-27T14:05:12.974Z"
   },
   {
    "duration": 0,
    "start_time": "2025-05-27T14:05:12.975Z"
   },
   {
    "duration": 0,
    "start_time": "2025-05-27T14:05:12.977Z"
   },
   {
    "duration": 0,
    "start_time": "2025-05-27T14:05:12.978Z"
   },
   {
    "duration": 1198,
    "start_time": "2025-05-27T14:11:49.760Z"
   },
   {
    "duration": 145,
    "start_time": "2025-05-27T14:11:50.960Z"
   },
   {
    "duration": 48,
    "start_time": "2025-05-27T14:11:51.107Z"
   },
   {
    "duration": 53,
    "start_time": "2025-05-27T14:11:51.158Z"
   },
   {
    "duration": 18,
    "start_time": "2025-05-27T14:11:51.213Z"
   },
   {
    "duration": 11,
    "start_time": "2025-05-27T14:11:51.232Z"
   },
   {
    "duration": 15,
    "start_time": "2025-05-27T14:11:51.244Z"
   },
   {
    "duration": 14,
    "start_time": "2025-05-27T14:11:51.261Z"
   },
   {
    "duration": 15,
    "start_time": "2025-05-27T14:11:51.277Z"
   },
   {
    "duration": 11,
    "start_time": "2025-05-27T14:11:51.295Z"
   },
   {
    "duration": 5,
    "start_time": "2025-05-27T14:11:51.308Z"
   },
   {
    "duration": 22,
    "start_time": "2025-05-27T14:11:51.314Z"
   },
   {
    "duration": 4,
    "start_time": "2025-05-27T14:11:51.337Z"
   },
   {
    "duration": 17,
    "start_time": "2025-05-27T14:11:51.343Z"
   },
   {
    "duration": 36,
    "start_time": "2025-05-27T14:11:51.361Z"
   },
   {
    "duration": 25,
    "start_time": "2025-05-27T14:11:51.399Z"
   },
   {
    "duration": 12,
    "start_time": "2025-05-27T14:11:51.426Z"
   },
   {
    "duration": 26,
    "start_time": "2025-05-27T14:11:51.439Z"
   },
   {
    "duration": 10,
    "start_time": "2025-05-27T14:11:51.466Z"
   },
   {
    "duration": 38,
    "start_time": "2025-05-27T14:11:51.478Z"
   },
   {
    "duration": 93,
    "start_time": "2025-05-27T14:11:51.518Z"
   },
   {
    "duration": 0,
    "start_time": "2025-05-27T14:11:51.613Z"
   },
   {
    "duration": 0,
    "start_time": "2025-05-27T14:11:51.614Z"
   },
   {
    "duration": 0,
    "start_time": "2025-05-27T14:11:51.616Z"
   },
   {
    "duration": 4,
    "start_time": "2025-05-27T14:12:15.271Z"
   },
   {
    "duration": 111,
    "start_time": "2025-05-27T14:12:16.768Z"
   },
   {
    "duration": 1183,
    "start_time": "2025-05-27T14:12:29.077Z"
   },
   {
    "duration": 352,
    "start_time": "2025-05-27T14:12:30.262Z"
   },
   {
    "duration": 48,
    "start_time": "2025-05-27T14:12:30.615Z"
   },
   {
    "duration": 27,
    "start_time": "2025-05-27T14:12:30.665Z"
   },
   {
    "duration": 18,
    "start_time": "2025-05-27T14:12:30.694Z"
   },
   {
    "duration": 22,
    "start_time": "2025-05-27T14:12:30.714Z"
   },
   {
    "duration": 16,
    "start_time": "2025-05-27T14:12:30.738Z"
   },
   {
    "duration": 2,
    "start_time": "2025-05-27T14:12:30.756Z"
   },
   {
    "duration": 12,
    "start_time": "2025-05-27T14:12:30.759Z"
   },
   {
    "duration": 12,
    "start_time": "2025-05-27T14:12:30.774Z"
   },
   {
    "duration": 81,
    "start_time": "2025-05-27T14:12:30.788Z"
   },
   {
    "duration": 6,
    "start_time": "2025-05-27T14:12:30.871Z"
   },
   {
    "duration": 14,
    "start_time": "2025-05-27T14:12:30.879Z"
   },
   {
    "duration": 6,
    "start_time": "2025-05-27T14:12:30.895Z"
   },
   {
    "duration": 12,
    "start_time": "2025-05-27T14:12:30.902Z"
   },
   {
    "duration": 34,
    "start_time": "2025-05-27T14:12:30.915Z"
   },
   {
    "duration": 12,
    "start_time": "2025-05-27T14:12:30.951Z"
   },
   {
    "duration": 104,
    "start_time": "2025-05-27T14:12:30.964Z"
   },
   {
    "duration": 10,
    "start_time": "2025-05-27T14:12:31.069Z"
   },
   {
    "duration": 29,
    "start_time": "2025-05-27T14:12:31.081Z"
   },
   {
    "duration": 119,
    "start_time": "2025-05-27T14:12:31.111Z"
   },
   {
    "duration": 0,
    "start_time": "2025-05-27T14:12:31.232Z"
   },
   {
    "duration": 0,
    "start_time": "2025-05-27T14:12:31.233Z"
   },
   {
    "duration": 0,
    "start_time": "2025-05-27T14:12:31.234Z"
   },
   {
    "duration": 3,
    "start_time": "2025-05-27T14:29:18.612Z"
   },
   {
    "duration": 84,
    "start_time": "2025-05-27T14:29:26.561Z"
   },
   {
    "duration": 6,
    "start_time": "2025-05-27T14:29:34.175Z"
   },
   {
    "duration": 3,
    "start_time": "2025-05-27T14:29:42.238Z"
   },
   {
    "duration": 4,
    "start_time": "2025-05-27T14:29:48.705Z"
   },
   {
    "duration": 105,
    "start_time": "2025-05-27T14:30:34.661Z"
   },
   {
    "duration": 4,
    "start_time": "2025-05-27T14:30:49.790Z"
   },
   {
    "duration": 5,
    "start_time": "2025-05-27T14:32:36.588Z"
   },
   {
    "duration": 5,
    "start_time": "2025-05-27T14:33:40.322Z"
   },
   {
    "duration": 5,
    "start_time": "2025-05-27T14:34:51.140Z"
   },
   {
    "duration": 5,
    "start_time": "2025-05-27T14:34:59.938Z"
   },
   {
    "duration": 1200,
    "start_time": "2025-05-27T14:37:29.447Z"
   },
   {
    "duration": 153,
    "start_time": "2025-05-27T14:37:30.650Z"
   },
   {
    "duration": 423,
    "start_time": "2025-05-27T14:37:30.805Z"
   },
   {
    "duration": 28,
    "start_time": "2025-05-27T14:37:31.230Z"
   },
   {
    "duration": 42,
    "start_time": "2025-05-27T14:37:31.260Z"
   },
   {
    "duration": 10,
    "start_time": "2025-05-27T14:37:31.304Z"
   },
   {
    "duration": 35,
    "start_time": "2025-05-27T14:37:31.315Z"
   },
   {
    "duration": 5,
    "start_time": "2025-05-27T14:37:31.352Z"
   },
   {
    "duration": 9,
    "start_time": "2025-05-27T14:37:31.358Z"
   },
   {
    "duration": 15,
    "start_time": "2025-05-27T14:37:31.369Z"
   },
   {
    "duration": 11,
    "start_time": "2025-05-27T14:37:31.386Z"
   },
   {
    "duration": 3,
    "start_time": "2025-05-27T14:37:31.399Z"
   },
   {
    "duration": 13,
    "start_time": "2025-05-27T14:37:31.403Z"
   },
   {
    "duration": 18,
    "start_time": "2025-05-27T14:37:31.417Z"
   },
   {
    "duration": 5,
    "start_time": "2025-05-27T14:37:31.437Z"
   },
   {
    "duration": 4,
    "start_time": "2025-05-27T14:37:31.443Z"
   },
   {
    "duration": 27,
    "start_time": "2025-05-27T14:37:31.448Z"
   },
   {
    "duration": 10,
    "start_time": "2025-05-27T14:37:31.477Z"
   },
   {
    "duration": 52,
    "start_time": "2025-05-27T14:37:31.489Z"
   },
   {
    "duration": 9,
    "start_time": "2025-05-27T14:37:31.543Z"
   },
   {
    "duration": 34,
    "start_time": "2025-05-27T14:37:31.554Z"
   },
   {
    "duration": 6,
    "start_time": "2025-05-27T14:37:31.590Z"
   },
   {
    "duration": 4,
    "start_time": "2025-05-27T14:37:31.599Z"
   },
   {
    "duration": 37,
    "start_time": "2025-05-27T14:37:31.604Z"
   },
   {
    "duration": 159,
    "start_time": "2025-05-27T14:37:31.642Z"
   },
   {
    "duration": 52,
    "start_time": "2025-05-29T12:09:32.387Z"
   },
   {
    "duration": 1451,
    "start_time": "2025-05-29T12:09:42.514Z"
   },
   {
    "duration": 180,
    "start_time": "2025-05-29T12:09:43.967Z"
   },
   {
    "duration": 50,
    "start_time": "2025-05-29T12:09:44.149Z"
   },
   {
    "duration": 33,
    "start_time": "2025-05-29T12:09:44.201Z"
   },
   {
    "duration": 40,
    "start_time": "2025-05-29T12:09:44.236Z"
   },
   {
    "duration": 21,
    "start_time": "2025-05-29T12:09:44.278Z"
   },
   {
    "duration": 21,
    "start_time": "2025-05-29T12:09:44.301Z"
   },
   {
    "duration": 15,
    "start_time": "2025-05-29T12:09:44.323Z"
   },
   {
    "duration": 16,
    "start_time": "2025-05-29T12:09:44.339Z"
   },
   {
    "duration": 20,
    "start_time": "2025-05-29T12:09:44.356Z"
   },
   {
    "duration": 22,
    "start_time": "2025-05-29T12:09:44.378Z"
   },
   {
    "duration": 121,
    "start_time": "2025-05-29T12:09:44.402Z"
   },
   {
    "duration": 10,
    "start_time": "2025-05-29T12:09:44.524Z"
   },
   {
    "duration": 11,
    "start_time": "2025-05-29T12:09:44.537Z"
   },
   {
    "duration": 7,
    "start_time": "2025-05-29T12:09:44.549Z"
   },
   {
    "duration": 12,
    "start_time": "2025-05-29T12:09:44.558Z"
   },
   {
    "duration": 39,
    "start_time": "2025-05-29T12:09:44.572Z"
   },
   {
    "duration": 12,
    "start_time": "2025-05-29T12:09:44.613Z"
   },
   {
    "duration": 129,
    "start_time": "2025-05-29T12:09:44.627Z"
   },
   {
    "duration": 10,
    "start_time": "2025-05-29T12:09:44.758Z"
   },
   {
    "duration": 32,
    "start_time": "2025-05-29T12:09:44.770Z"
   },
   {
    "duration": 5,
    "start_time": "2025-05-29T12:09:44.804Z"
   },
   {
    "duration": 6,
    "start_time": "2025-05-29T12:09:44.811Z"
   },
   {
    "duration": 9,
    "start_time": "2025-05-29T12:09:44.819Z"
   },
   {
    "duration": 200,
    "start_time": "2025-05-29T12:09:44.830Z"
   },
   {
    "duration": 3,
    "start_time": "2025-05-29T12:09:45.033Z"
   },
   {
    "duration": 7,
    "start_time": "2025-05-29T12:11:55.218Z"
   },
   {
    "duration": 5,
    "start_time": "2025-05-29T12:12:15.978Z"
   },
   {
    "duration": 5,
    "start_time": "2025-05-29T12:12:18.146Z"
   },
   {
    "duration": 6,
    "start_time": "2025-05-29T12:12:21.059Z"
   },
   {
    "duration": 188,
    "start_time": "2025-05-29T12:13:58.426Z"
   },
   {
    "duration": 192,
    "start_time": "2025-05-29T12:14:25.578Z"
   },
   {
    "duration": 28,
    "start_time": "2025-05-29T12:20:34.378Z"
   },
   {
    "duration": 29,
    "start_time": "2025-05-29T12:21:55.099Z"
   },
   {
    "duration": 5,
    "start_time": "2025-05-29T12:27:17.022Z"
   },
   {
    "duration": 12,
    "start_time": "2025-05-29T12:27:58.585Z"
   },
   {
    "duration": 167,
    "start_time": "2025-05-29T12:30:28.322Z"
   },
   {
    "duration": 19,
    "start_time": "2025-05-29T13:16:23.137Z"
   },
   {
    "duration": 18,
    "start_time": "2025-05-29T13:17:19.529Z"
   },
   {
    "duration": 13,
    "start_time": "2025-05-29T13:20:12.536Z"
   },
   {
    "duration": 383,
    "start_time": "2025-05-29T13:22:05.738Z"
   },
   {
    "duration": 214,
    "start_time": "2025-05-29T13:22:29.328Z"
   },
   {
    "duration": 233,
    "start_time": "2025-05-29T13:24:41.570Z"
   },
   {
    "duration": 215,
    "start_time": "2025-05-29T13:24:51.857Z"
   },
   {
    "duration": 18,
    "start_time": "2025-05-29T13:25:56.889Z"
   },
   {
    "duration": 310,
    "start_time": "2025-05-29T13:26:34.329Z"
   },
   {
    "duration": 215,
    "start_time": "2025-05-29T13:28:20.609Z"
   },
   {
    "duration": 226,
    "start_time": "2025-05-29T13:29:01.929Z"
   },
   {
    "duration": 253,
    "start_time": "2025-05-29T13:29:43.053Z"
   },
   {
    "duration": 7,
    "start_time": "2025-05-29T13:31:46.530Z"
   },
   {
    "duration": 8,
    "start_time": "2025-05-29T13:32:03.888Z"
   },
   {
    "duration": 141,
    "start_time": "2025-05-29T13:34:49.777Z"
   },
   {
    "duration": 127,
    "start_time": "2025-05-29T13:39:41.182Z"
   },
   {
    "duration": 133,
    "start_time": "2025-05-29T13:40:01.488Z"
   },
   {
    "duration": 129,
    "start_time": "2025-05-29T13:40:10.528Z"
   },
   {
    "duration": 134,
    "start_time": "2025-05-29T13:40:16.075Z"
   },
   {
    "duration": 138,
    "start_time": "2025-05-29T13:42:53.889Z"
   },
   {
    "duration": 256,
    "start_time": "2025-05-29T13:43:13.529Z"
   },
   {
    "duration": 11,
    "start_time": "2025-05-29T13:55:38.030Z"
   },
   {
    "duration": 10,
    "start_time": "2025-05-29T13:58:23.190Z"
   },
   {
    "duration": 219,
    "start_time": "2025-05-29T13:58:34.074Z"
   },
   {
    "duration": 11,
    "start_time": "2025-05-29T13:59:51.909Z"
   },
   {
    "duration": 109,
    "start_time": "2025-05-29T14:13:34.430Z"
   },
   {
    "duration": 106,
    "start_time": "2025-05-29T14:13:41.229Z"
   },
   {
    "duration": 304,
    "start_time": "2025-05-29T14:15:02.548Z"
   },
   {
    "duration": 330,
    "start_time": "2025-05-29T14:16:01.006Z"
   },
   {
    "duration": 9,
    "start_time": "2025-05-29T14:16:41.429Z"
   },
   {
    "duration": 23,
    "start_time": "2025-05-29T14:16:54.158Z"
   },
   {
    "duration": 84,
    "start_time": "2025-05-29T14:17:53.911Z"
   },
   {
    "duration": 355,
    "start_time": "2025-05-29T14:18:09.549Z"
   },
   {
    "duration": 250,
    "start_time": "2025-05-29T14:18:46.149Z"
   },
   {
    "duration": 231,
    "start_time": "2025-05-29T14:18:52.111Z"
   },
   {
    "duration": 493,
    "start_time": "2025-05-29T14:19:03.430Z"
   },
   {
    "duration": 146,
    "start_time": "2025-05-29T14:19:19.749Z"
   },
   {
    "duration": 197,
    "start_time": "2025-05-29T14:19:27.710Z"
   },
   {
    "duration": 213,
    "start_time": "2025-05-29T14:19:38.511Z"
   },
   {
    "duration": 176,
    "start_time": "2025-05-29T14:20:01.045Z"
   },
   {
    "duration": 364,
    "start_time": "2025-05-29T14:22:55.230Z"
   },
   {
    "duration": 363,
    "start_time": "2025-05-29T14:24:46.229Z"
   },
   {
    "duration": 509,
    "start_time": "2025-05-29T14:27:02.479Z"
   },
   {
    "duration": 124,
    "start_time": "2025-05-29T14:28:06.351Z"
   },
   {
    "duration": 127,
    "start_time": "2025-05-29T14:36:10.406Z"
   },
   {
    "duration": 116,
    "start_time": "2025-05-29T14:36:16.168Z"
   },
   {
    "duration": 134,
    "start_time": "2025-05-29T14:36:24.967Z"
   },
   {
    "duration": 11658,
    "start_time": "2025-05-29T14:55:32.243Z"
   },
   {
    "duration": 2,
    "start_time": "2025-05-29T14:56:08.118Z"
   },
   {
    "duration": 13,
    "start_time": "2025-05-29T14:58:40.646Z"
   },
   {
    "duration": 18,
    "start_time": "2025-05-29T14:59:10.578Z"
   },
   {
    "duration": 89,
    "start_time": "2025-05-29T14:59:57.732Z"
   },
   {
    "duration": 12,
    "start_time": "2025-05-29T15:00:01.810Z"
   },
   {
    "duration": 5,
    "start_time": "2025-05-29T15:03:00.928Z"
   },
   {
    "duration": 6,
    "start_time": "2025-05-29T15:03:05.273Z"
   },
   {
    "duration": 5,
    "start_time": "2025-05-29T15:03:07.393Z"
   },
   {
    "duration": 8,
    "start_time": "2025-05-29T15:03:59.530Z"
   },
   {
    "duration": 8,
    "start_time": "2025-05-29T15:04:28.018Z"
   },
   {
    "duration": 8,
    "start_time": "2025-05-29T15:05:18.698Z"
   },
   {
    "duration": 15,
    "start_time": "2025-05-29T15:05:55.820Z"
   },
   {
    "duration": 15,
    "start_time": "2025-05-29T15:06:31.234Z"
   },
   {
    "duration": 28,
    "start_time": "2025-05-29T15:10:34.458Z"
   },
   {
    "duration": 208,
    "start_time": "2025-05-29T15:12:17.894Z"
   },
   {
    "duration": 11,
    "start_time": "2025-05-29T15:18:03.397Z"
   },
   {
    "duration": 12,
    "start_time": "2025-05-29T15:18:38.396Z"
   },
   {
    "duration": 8,
    "start_time": "2025-05-29T15:18:40.804Z"
   },
   {
    "duration": 8,
    "start_time": "2025-05-29T15:19:31.198Z"
   },
   {
    "duration": 13,
    "start_time": "2025-05-29T15:21:02.680Z"
   },
   {
    "duration": 7,
    "start_time": "2025-05-29T15:21:57.438Z"
   },
   {
    "duration": 4,
    "start_time": "2025-05-29T15:23:01.122Z"
   },
   {
    "duration": 7,
    "start_time": "2025-05-29T15:23:17.996Z"
   },
   {
    "duration": 9,
    "start_time": "2025-05-29T15:24:52.519Z"
   },
   {
    "duration": 171,
    "start_time": "2025-05-29T15:25:10.678Z"
   },
   {
    "duration": 177,
    "start_time": "2025-05-29T15:25:23.540Z"
   },
   {
    "duration": 105,
    "start_time": "2025-05-29T15:32:01.769Z"
   },
   {
    "duration": 3749,
    "start_time": "2025-05-29T15:33:07.078Z"
   },
   {
    "duration": 90,
    "start_time": "2025-05-29T15:33:23.251Z"
   },
   {
    "duration": 2973,
    "start_time": "2025-05-29T15:35:14.318Z"
   },
   {
    "duration": 1462,
    "start_time": "2025-05-29T15:35:17.294Z"
   },
   {
    "duration": 155,
    "start_time": "2025-05-29T15:35:18.758Z"
   },
   {
    "duration": 45,
    "start_time": "2025-05-29T15:35:18.915Z"
   },
   {
    "duration": 36,
    "start_time": "2025-05-29T15:35:18.970Z"
   },
   {
    "duration": 19,
    "start_time": "2025-05-29T15:35:19.008Z"
   },
   {
    "duration": 11,
    "start_time": "2025-05-29T15:35:19.028Z"
   },
   {
    "duration": 51,
    "start_time": "2025-05-29T15:35:19.040Z"
   },
   {
    "duration": 3,
    "start_time": "2025-05-29T15:35:19.093Z"
   },
   {
    "duration": 4,
    "start_time": "2025-05-29T15:35:19.097Z"
   },
   {
    "duration": 10,
    "start_time": "2025-05-29T15:35:19.103Z"
   },
   {
    "duration": 13,
    "start_time": "2025-05-29T15:35:19.115Z"
   },
   {
    "duration": 39,
    "start_time": "2025-05-29T15:35:19.130Z"
   },
   {
    "duration": 13,
    "start_time": "2025-05-29T15:35:19.173Z"
   },
   {
    "duration": 116,
    "start_time": "2025-05-29T15:35:19.188Z"
   },
   {
    "duration": 15,
    "start_time": "2025-05-29T15:35:19.305Z"
   },
   {
    "duration": 21,
    "start_time": "2025-05-29T15:35:19.321Z"
   },
   {
    "duration": 46,
    "start_time": "2025-05-29T15:35:19.344Z"
   },
   {
    "duration": 13,
    "start_time": "2025-05-29T15:35:19.392Z"
   },
   {
    "duration": 49,
    "start_time": "2025-05-29T15:35:19.407Z"
   },
   {
    "duration": 16,
    "start_time": "2025-05-29T15:35:19.457Z"
   },
   {
    "duration": 70,
    "start_time": "2025-05-29T15:35:19.475Z"
   },
   {
    "duration": 98,
    "start_time": "2025-05-29T15:35:19.547Z"
   },
   {
    "duration": 38,
    "start_time": "2025-05-29T15:35:19.647Z"
   },
   {
    "duration": 19,
    "start_time": "2025-05-29T15:35:19.687Z"
   },
   {
    "duration": 197,
    "start_time": "2025-05-29T15:35:19.708Z"
   },
   {
    "duration": 7,
    "start_time": "2025-05-29T15:35:19.907Z"
   },
   {
    "duration": 18,
    "start_time": "2025-05-29T15:35:19.916Z"
   },
   {
    "duration": 273,
    "start_time": "2025-05-29T15:35:19.936Z"
   },
   {
    "duration": 10,
    "start_time": "2025-05-29T15:35:20.211Z"
   },
   {
    "duration": 255,
    "start_time": "2025-05-29T15:35:20.222Z"
   },
   {
    "duration": 17,
    "start_time": "2025-05-29T15:35:20.479Z"
   },
   {
    "duration": 151,
    "start_time": "2025-05-29T15:35:20.498Z"
   },
   {
    "duration": 31,
    "start_time": "2025-05-29T15:35:20.651Z"
   },
   {
    "duration": 270,
    "start_time": "2025-05-29T15:35:20.684Z"
   },
   {
    "duration": 28,
    "start_time": "2025-05-29T15:35:20.956Z"
   },
   {
    "duration": 382,
    "start_time": "2025-05-29T15:35:20.988Z"
   },
   {
    "duration": 225,
    "start_time": "2025-05-29T15:35:21.376Z"
   },
   {
    "duration": 15,
    "start_time": "2025-05-29T15:35:21.603Z"
   },
   {
    "duration": 275,
    "start_time": "2025-05-29T15:35:21.620Z"
   },
   {
    "duration": 9,
    "start_time": "2025-05-29T15:35:21.899Z"
   },
   {
    "duration": 7,
    "start_time": "2025-05-29T15:35:21.910Z"
   },
   {
    "duration": 229,
    "start_time": "2025-05-29T15:35:21.919Z"
   },
   {
    "duration": 4,
    "start_time": "2025-05-29T15:36:20.920Z"
   },
   {
    "duration": 2877,
    "start_time": "2025-05-29T15:36:28.345Z"
   },
   {
    "duration": 1402,
    "start_time": "2025-05-29T15:36:31.225Z"
   },
   {
    "duration": 142,
    "start_time": "2025-05-29T15:36:32.629Z"
   },
   {
    "duration": 118,
    "start_time": "2025-05-29T15:36:32.775Z"
   },
   {
    "duration": 109,
    "start_time": "2025-05-29T15:36:32.895Z"
   },
   {
    "duration": 73,
    "start_time": "2025-05-29T15:36:33.005Z"
   },
   {
    "duration": 149,
    "start_time": "2025-05-29T15:36:33.087Z"
   },
   {
    "duration": 138,
    "start_time": "2025-05-29T15:36:33.238Z"
   },
   {
    "duration": 11,
    "start_time": "2025-05-29T15:36:33.378Z"
   },
   {
    "duration": 14,
    "start_time": "2025-05-29T15:36:33.393Z"
   },
   {
    "duration": 45,
    "start_time": "2025-05-29T15:36:33.409Z"
   },
   {
    "duration": 53,
    "start_time": "2025-05-29T15:36:33.456Z"
   },
   {
    "duration": 4,
    "start_time": "2025-05-29T15:36:33.511Z"
   },
   {
    "duration": 141,
    "start_time": "2025-05-29T15:36:33.518Z"
   },
   {
    "duration": 19,
    "start_time": "2025-05-29T15:36:33.667Z"
   },
   {
    "duration": 18,
    "start_time": "2025-05-29T15:36:33.689Z"
   },
   {
    "duration": 18,
    "start_time": "2025-05-29T15:36:33.709Z"
   },
   {
    "duration": 52,
    "start_time": "2025-05-29T15:36:33.728Z"
   },
   {
    "duration": 14,
    "start_time": "2025-05-29T15:36:33.785Z"
   },
   {
    "duration": 21,
    "start_time": "2025-05-29T15:36:33.801Z"
   },
   {
    "duration": 18,
    "start_time": "2025-05-29T15:36:33.824Z"
   },
   {
    "duration": 58,
    "start_time": "2025-05-29T15:36:33.843Z"
   },
   {
    "duration": 5,
    "start_time": "2025-05-29T15:36:33.903Z"
   },
   {
    "duration": 27,
    "start_time": "2025-05-29T15:36:33.909Z"
   },
   {
    "duration": 10,
    "start_time": "2025-05-29T15:36:33.938Z"
   },
   {
    "duration": 233,
    "start_time": "2025-05-29T15:36:33.950Z"
   },
   {
    "duration": 7,
    "start_time": "2025-05-29T15:36:34.185Z"
   },
   {
    "duration": 23,
    "start_time": "2025-05-29T15:36:34.194Z"
   },
   {
    "duration": 218,
    "start_time": "2025-05-29T15:36:34.219Z"
   },
   {
    "duration": 10,
    "start_time": "2025-05-29T15:36:34.439Z"
   },
   {
    "duration": 207,
    "start_time": "2025-05-29T15:36:34.468Z"
   },
   {
    "duration": 18,
    "start_time": "2025-05-29T15:36:34.677Z"
   },
   {
    "duration": 151,
    "start_time": "2025-05-29T15:36:34.697Z"
   },
   {
    "duration": 41,
    "start_time": "2025-05-29T15:36:34.850Z"
   },
   {
    "duration": 278,
    "start_time": "2025-05-29T15:36:34.894Z"
   },
   {
    "duration": 15,
    "start_time": "2025-05-29T15:36:35.174Z"
   },
   {
    "duration": 389,
    "start_time": "2025-05-29T15:36:35.192Z"
   },
   {
    "duration": 226,
    "start_time": "2025-05-29T15:36:35.586Z"
   },
   {
    "duration": 13,
    "start_time": "2025-05-29T15:36:35.813Z"
   },
   {
    "duration": 229,
    "start_time": "2025-05-29T15:36:35.828Z"
   },
   {
    "duration": 27,
    "start_time": "2025-05-29T15:36:36.062Z"
   },
   {
    "duration": 24,
    "start_time": "2025-05-29T15:36:36.091Z"
   },
   {
    "duration": 223,
    "start_time": "2025-05-29T15:36:36.116Z"
   },
   {
    "duration": 3,
    "start_time": "2025-05-29T15:36:36.340Z"
   },
   {
    "duration": 74,
    "start_time": "2025-05-29T15:43:08.857Z"
   },
   {
    "duration": 3198,
    "start_time": "2025-05-29T15:43:21.706Z"
   },
   {
    "duration": 1407,
    "start_time": "2025-05-29T15:43:24.907Z"
   },
   {
    "duration": 212,
    "start_time": "2025-05-29T15:43:26.315Z"
   },
   {
    "duration": 68,
    "start_time": "2025-05-29T15:43:26.529Z"
   },
   {
    "duration": 45,
    "start_time": "2025-05-29T15:43:26.599Z"
   },
   {
    "duration": 94,
    "start_time": "2025-05-29T15:43:26.647Z"
   },
   {
    "duration": 92,
    "start_time": "2025-05-29T15:43:26.744Z"
   },
   {
    "duration": 80,
    "start_time": "2025-05-29T15:43:26.838Z"
   },
   {
    "duration": 36,
    "start_time": "2025-05-29T15:43:26.919Z"
   },
   {
    "duration": 75,
    "start_time": "2025-05-29T15:43:26.957Z"
   },
   {
    "duration": 71,
    "start_time": "2025-05-29T15:43:27.033Z"
   },
   {
    "duration": 39,
    "start_time": "2025-05-29T15:43:27.106Z"
   },
   {
    "duration": 52,
    "start_time": "2025-05-29T15:43:27.146Z"
   },
   {
    "duration": 126,
    "start_time": "2025-05-29T15:43:27.202Z"
   },
   {
    "duration": 45,
    "start_time": "2025-05-29T15:43:27.329Z"
   },
   {
    "duration": 45,
    "start_time": "2025-05-29T15:43:27.378Z"
   },
   {
    "duration": 57,
    "start_time": "2025-05-29T15:43:27.425Z"
   },
   {
    "duration": 71,
    "start_time": "2025-05-29T15:43:27.486Z"
   },
   {
    "duration": 103,
    "start_time": "2025-05-29T15:43:27.559Z"
   },
   {
    "duration": 46,
    "start_time": "2025-05-29T15:43:27.669Z"
   },
   {
    "duration": 54,
    "start_time": "2025-05-29T15:43:27.716Z"
   },
   {
    "duration": 51,
    "start_time": "2025-05-29T15:43:27.773Z"
   },
   {
    "duration": 61,
    "start_time": "2025-05-29T15:43:27.826Z"
   },
   {
    "duration": 83,
    "start_time": "2025-05-29T15:43:27.889Z"
   },
   {
    "duration": 56,
    "start_time": "2025-05-29T15:43:27.977Z"
   },
   {
    "duration": 251,
    "start_time": "2025-05-29T15:43:28.036Z"
   },
   {
    "duration": 5,
    "start_time": "2025-05-29T15:43:28.290Z"
   },
   {
    "duration": 52,
    "start_time": "2025-05-29T15:43:28.297Z"
   },
   {
    "duration": 379,
    "start_time": "2025-05-29T15:43:28.351Z"
   },
   {
    "duration": 10,
    "start_time": "2025-05-29T15:43:28.731Z"
   },
   {
    "duration": 226,
    "start_time": "2025-05-29T15:43:28.743Z"
   },
   {
    "duration": 16,
    "start_time": "2025-05-29T15:43:28.971Z"
   },
   {
    "duration": 156,
    "start_time": "2025-05-29T15:43:28.990Z"
   },
   {
    "duration": 39,
    "start_time": "2025-05-29T15:43:29.148Z"
   },
   {
    "duration": 431,
    "start_time": "2025-05-29T15:43:29.190Z"
   },
   {
    "duration": 10,
    "start_time": "2025-05-29T15:43:29.622Z"
   },
   {
    "duration": 408,
    "start_time": "2025-05-29T15:43:29.633Z"
   },
   {
    "duration": 240,
    "start_time": "2025-05-29T15:43:30.042Z"
   },
   {
    "duration": 20,
    "start_time": "2025-05-29T15:43:30.285Z"
   },
   {
    "duration": 237,
    "start_time": "2025-05-29T15:43:30.307Z"
   },
   {
    "duration": 22,
    "start_time": "2025-05-29T15:43:30.548Z"
   },
   {
    "duration": 32,
    "start_time": "2025-05-29T15:43:30.572Z"
   },
   {
    "duration": 219,
    "start_time": "2025-05-29T15:43:30.606Z"
   },
   {
    "duration": 2,
    "start_time": "2025-05-29T15:43:30.827Z"
   },
   {
    "duration": 70,
    "start_time": "2025-05-29T15:43:30.831Z"
   },
   {
    "duration": 250,
    "start_time": "2025-05-29T15:48:53.417Z"
   },
   {
    "duration": 1550,
    "start_time": "2025-05-29T15:51:52.164Z"
   },
   {
    "duration": 146,
    "start_time": "2025-05-29T15:52:33.957Z"
   },
   {
    "duration": 16,
    "start_time": "2025-05-29T15:52:53.767Z"
   },
   {
    "duration": 82,
    "start_time": "2025-05-29T15:53:04.373Z"
   },
   {
    "duration": 2,
    "start_time": "2025-05-29T15:53:35.653Z"
   },
   {
    "duration": 16,
    "start_time": "2025-05-29T15:53:55.910Z"
   },
   {
    "duration": 237,
    "start_time": "2025-05-29T15:54:06.984Z"
   },
   {
    "duration": 22,
    "start_time": "2025-05-29T15:54:51.690Z"
   },
   {
    "duration": 1472,
    "start_time": "2025-05-29T15:56:26.787Z"
   },
   {
    "duration": 5,
    "start_time": "2025-05-29T15:56:45.597Z"
   },
   {
    "duration": 2960,
    "start_time": "2025-05-29T15:56:56.348Z"
   },
   {
    "duration": 1277,
    "start_time": "2025-05-29T15:56:59.311Z"
   },
   {
    "duration": 128,
    "start_time": "2025-05-29T15:57:00.591Z"
   },
   {
    "duration": 72,
    "start_time": "2025-05-29T15:57:00.721Z"
   },
   {
    "duration": 33,
    "start_time": "2025-05-29T15:57:00.796Z"
   },
   {
    "duration": 50,
    "start_time": "2025-05-29T15:57:00.831Z"
   },
   {
    "duration": 31,
    "start_time": "2025-05-29T15:57:00.885Z"
   },
   {
    "duration": 24,
    "start_time": "2025-05-29T15:57:00.918Z"
   },
   {
    "duration": 43,
    "start_time": "2025-05-29T15:57:00.944Z"
   },
   {
    "duration": 29,
    "start_time": "2025-05-29T15:57:00.989Z"
   },
   {
    "duration": 39,
    "start_time": "2025-05-29T15:57:01.020Z"
   },
   {
    "duration": 29,
    "start_time": "2025-05-29T15:57:01.062Z"
   },
   {
    "duration": 18,
    "start_time": "2025-05-29T15:57:01.093Z"
   },
   {
    "duration": 10,
    "start_time": "2025-05-29T15:57:01.114Z"
   },
   {
    "duration": 29,
    "start_time": "2025-05-29T15:57:01.125Z"
   },
   {
    "duration": 35,
    "start_time": "2025-05-29T15:57:01.156Z"
   },
   {
    "duration": 171,
    "start_time": "2025-05-29T15:57:01.193Z"
   },
   {
    "duration": 21,
    "start_time": "2025-05-29T15:57:01.366Z"
   },
   {
    "duration": 31,
    "start_time": "2025-05-29T15:57:01.389Z"
   },
   {
    "duration": 13,
    "start_time": "2025-05-29T15:57:01.422Z"
   },
   {
    "duration": 116,
    "start_time": "2025-05-29T15:57:01.437Z"
   },
   {
    "duration": 41,
    "start_time": "2025-05-29T15:57:01.554Z"
   },
   {
    "duration": 109,
    "start_time": "2025-05-29T15:57:01.597Z"
   },
   {
    "duration": 16,
    "start_time": "2025-05-29T15:57:01.709Z"
   },
   {
    "duration": 20,
    "start_time": "2025-05-29T15:57:01.727Z"
   },
   {
    "duration": 41,
    "start_time": "2025-05-29T15:57:01.749Z"
   },
   {
    "duration": 251,
    "start_time": "2025-05-29T15:57:01.792Z"
   },
   {
    "duration": 6,
    "start_time": "2025-05-29T15:57:02.044Z"
   },
   {
    "duration": 24,
    "start_time": "2025-05-29T15:57:02.061Z"
   },
   {
    "duration": 248,
    "start_time": "2025-05-29T15:57:02.087Z"
   },
   {
    "duration": 10,
    "start_time": "2025-05-29T15:57:02.336Z"
   },
   {
    "duration": 237,
    "start_time": "2025-05-29T15:57:02.347Z"
   },
   {
    "duration": 10,
    "start_time": "2025-05-29T15:57:02.587Z"
   },
   {
    "duration": 219,
    "start_time": "2025-05-29T15:57:02.598Z"
   },
   {
    "duration": 17,
    "start_time": "2025-05-29T15:57:02.818Z"
   },
   {
    "duration": 266,
    "start_time": "2025-05-29T15:57:02.837Z"
   },
   {
    "duration": 8,
    "start_time": "2025-05-29T15:57:03.105Z"
   },
   {
    "duration": 384,
    "start_time": "2025-05-29T15:57:03.115Z"
   },
   {
    "duration": 229,
    "start_time": "2025-05-29T15:57:03.501Z"
   },
   {
    "duration": 12,
    "start_time": "2025-05-29T15:57:03.731Z"
   },
   {
    "duration": 215,
    "start_time": "2025-05-29T15:57:03.763Z"
   },
   {
    "duration": 11,
    "start_time": "2025-05-29T15:57:03.981Z"
   },
   {
    "duration": 140,
    "start_time": "2025-05-29T15:57:03.993Z"
   },
   {
    "duration": 0,
    "start_time": "2025-05-29T15:57:04.135Z"
   },
   {
    "duration": 0,
    "start_time": "2025-05-29T15:57:04.136Z"
   },
   {
    "duration": 0,
    "start_time": "2025-05-29T15:57:04.137Z"
   },
   {
    "duration": 2973,
    "start_time": "2025-05-29T15:57:53.925Z"
   },
   {
    "duration": 1374,
    "start_time": "2025-05-29T15:57:56.900Z"
   },
   {
    "duration": 147,
    "start_time": "2025-05-29T15:57:58.277Z"
   },
   {
    "duration": 78,
    "start_time": "2025-05-29T15:57:58.428Z"
   },
   {
    "duration": 142,
    "start_time": "2025-05-29T15:57:58.507Z"
   },
   {
    "duration": 25,
    "start_time": "2025-05-29T15:57:58.650Z"
   },
   {
    "duration": 20,
    "start_time": "2025-05-29T15:57:58.677Z"
   },
   {
    "duration": 15,
    "start_time": "2025-05-29T15:57:58.699Z"
   },
   {
    "duration": 3,
    "start_time": "2025-05-29T15:57:58.715Z"
   },
   {
    "duration": 3,
    "start_time": "2025-05-29T15:57:58.721Z"
   },
   {
    "duration": 22,
    "start_time": "2025-05-29T15:57:58.762Z"
   },
   {
    "duration": 16,
    "start_time": "2025-05-29T15:57:58.788Z"
   },
   {
    "duration": 4,
    "start_time": "2025-05-29T15:57:58.806Z"
   },
   {
    "duration": 5,
    "start_time": "2025-05-29T15:57:58.811Z"
   },
   {
    "duration": 47,
    "start_time": "2025-05-29T15:57:58.818Z"
   },
   {
    "duration": 12,
    "start_time": "2025-05-29T15:57:58.867Z"
   },
   {
    "duration": 9,
    "start_time": "2025-05-29T15:57:58.882Z"
   },
   {
    "duration": 30,
    "start_time": "2025-05-29T15:57:58.893Z"
   },
   {
    "duration": 13,
    "start_time": "2025-05-29T15:57:58.924Z"
   },
   {
    "duration": 65,
    "start_time": "2025-05-29T15:57:58.939Z"
   },
   {
    "duration": 10,
    "start_time": "2025-05-29T15:57:59.005Z"
   },
   {
    "duration": 34,
    "start_time": "2025-05-29T15:57:59.017Z"
   },
   {
    "duration": 17,
    "start_time": "2025-05-29T15:57:59.069Z"
   },
   {
    "duration": 3,
    "start_time": "2025-05-29T15:57:59.091Z"
   },
   {
    "duration": 10,
    "start_time": "2025-05-29T15:57:59.096Z"
   },
   {
    "duration": 213,
    "start_time": "2025-05-29T15:57:59.107Z"
   },
   {
    "duration": 6,
    "start_time": "2025-05-29T15:57:59.322Z"
   },
   {
    "duration": 66,
    "start_time": "2025-05-29T15:57:59.331Z"
   },
   {
    "duration": 254,
    "start_time": "2025-05-29T15:57:59.399Z"
   },
   {
    "duration": 26,
    "start_time": "2025-05-29T15:57:59.654Z"
   },
   {
    "duration": 270,
    "start_time": "2025-05-29T15:57:59.681Z"
   },
   {
    "duration": 30,
    "start_time": "2025-05-29T15:57:59.952Z"
   },
   {
    "duration": 153,
    "start_time": "2025-05-29T15:57:59.986Z"
   },
   {
    "duration": 50,
    "start_time": "2025-05-29T15:58:00.141Z"
   },
   {
    "duration": 293,
    "start_time": "2025-05-29T15:58:00.195Z"
   },
   {
    "duration": 12,
    "start_time": "2025-05-29T15:58:00.491Z"
   },
   {
    "duration": 485,
    "start_time": "2025-05-29T15:58:00.505Z"
   },
   {
    "duration": 241,
    "start_time": "2025-05-29T15:58:00.992Z"
   },
   {
    "duration": 47,
    "start_time": "2025-05-29T15:58:01.235Z"
   },
   {
    "duration": 211,
    "start_time": "2025-05-29T15:58:01.285Z"
   },
   {
    "duration": 12,
    "start_time": "2025-05-29T15:58:01.498Z"
   },
   {
    "duration": 27,
    "start_time": "2025-05-29T15:58:01.512Z"
   },
   {
    "duration": 206,
    "start_time": "2025-05-29T15:58:01.541Z"
   },
   {
    "duration": 270,
    "start_time": "2025-05-29T15:58:01.749Z"
   },
   {
    "duration": 17,
    "start_time": "2025-05-29T15:58:02.020Z"
   },
   {
    "duration": 5,
    "start_time": "2025-05-29T15:58:23.368Z"
   },
   {
    "duration": 325,
    "start_time": "2025-05-29T15:58:26.652Z"
   },
   {
    "duration": 4,
    "start_time": "2025-05-29T15:59:13.312Z"
   },
   {
    "duration": 269,
    "start_time": "2025-05-29T15:59:15.588Z"
   },
   {
    "duration": 18,
    "start_time": "2025-05-29T15:59:32.087Z"
   },
   {
    "duration": 228,
    "start_time": "2025-05-29T16:00:56.709Z"
   },
   {
    "duration": 214,
    "start_time": "2025-05-29T16:01:13.423Z"
   },
   {
    "duration": 539,
    "start_time": "2025-05-29T16:04:22.300Z"
   },
   {
    "duration": 739,
    "start_time": "2025-05-29T16:05:11.742Z"
   },
   {
    "duration": 765,
    "start_time": "2025-05-29T16:05:27.439Z"
   },
   {
    "duration": 457,
    "start_time": "2025-05-29T16:05:54.853Z"
   },
   {
    "duration": 726,
    "start_time": "2025-05-29T16:06:00.508Z"
   },
   {
    "duration": 785,
    "start_time": "2025-05-29T16:06:24.047Z"
   },
   {
    "duration": 799,
    "start_time": "2025-05-29T16:07:10.215Z"
   },
   {
    "duration": 901,
    "start_time": "2025-05-29T16:07:42.034Z"
   },
   {
    "duration": 245,
    "start_time": "2025-05-29T16:07:58.765Z"
   },
   {
    "duration": 814,
    "start_time": "2025-05-29T16:08:09.996Z"
   },
   {
    "duration": 801,
    "start_time": "2025-05-29T16:08:23.345Z"
   },
   {
    "duration": 804,
    "start_time": "2025-05-29T16:08:36.281Z"
   },
   {
    "duration": 806,
    "start_time": "2025-05-29T16:10:37.646Z"
   },
   {
    "duration": 842,
    "start_time": "2025-05-29T16:13:13.334Z"
   },
   {
    "duration": 799,
    "start_time": "2025-05-29T16:32:12.604Z"
   },
   {
    "duration": 3554,
    "start_time": "2025-05-29T18:37:53.834Z"
   },
   {
    "duration": 1515,
    "start_time": "2025-05-29T18:37:57.391Z"
   },
   {
    "duration": 144,
    "start_time": "2025-05-29T18:37:58.908Z"
   },
   {
    "duration": 57,
    "start_time": "2025-05-29T18:37:59.054Z"
   },
   {
    "duration": 28,
    "start_time": "2025-05-29T18:37:59.113Z"
   },
   {
    "duration": 19,
    "start_time": "2025-05-29T18:37:59.142Z"
   },
   {
    "duration": 12,
    "start_time": "2025-05-29T18:37:59.162Z"
   },
   {
    "duration": 17,
    "start_time": "2025-05-29T18:37:59.204Z"
   },
   {
    "duration": 3,
    "start_time": "2025-05-29T18:37:59.223Z"
   },
   {
    "duration": 3,
    "start_time": "2025-05-29T18:37:59.229Z"
   },
   {
    "duration": 12,
    "start_time": "2025-05-29T18:37:59.233Z"
   },
   {
    "duration": 12,
    "start_time": "2025-05-29T18:37:59.247Z"
   },
   {
    "duration": 4,
    "start_time": "2025-05-29T18:37:59.261Z"
   },
   {
    "duration": 5,
    "start_time": "2025-05-29T18:37:59.304Z"
   },
   {
    "duration": 19,
    "start_time": "2025-05-29T18:37:59.311Z"
   },
   {
    "duration": 21,
    "start_time": "2025-05-29T18:37:59.332Z"
   },
   {
    "duration": 11,
    "start_time": "2025-05-29T18:37:59.355Z"
   },
   {
    "duration": 27,
    "start_time": "2025-05-29T18:37:59.368Z"
   },
   {
    "duration": 14,
    "start_time": "2025-05-29T18:37:59.396Z"
   },
   {
    "duration": 186,
    "start_time": "2025-05-29T18:37:59.411Z"
   },
   {
    "duration": 10,
    "start_time": "2025-05-29T18:37:59.599Z"
   },
   {
    "duration": 34,
    "start_time": "2025-05-29T18:37:59.611Z"
   },
   {
    "duration": 4,
    "start_time": "2025-05-29T18:37:59.647Z"
   },
   {
    "duration": 7,
    "start_time": "2025-05-29T18:37:59.652Z"
   },
   {
    "duration": 11,
    "start_time": "2025-05-29T18:37:59.661Z"
   },
   {
    "duration": 183,
    "start_time": "2025-05-29T18:37:59.674Z"
   },
   {
    "duration": 6,
    "start_time": "2025-05-29T18:37:59.858Z"
   },
   {
    "duration": 4,
    "start_time": "2025-05-29T18:37:59.868Z"
   },
   {
    "duration": 224,
    "start_time": "2025-05-29T18:37:59.873Z"
   },
   {
    "duration": 12,
    "start_time": "2025-05-29T18:38:00.099Z"
   },
   {
    "duration": 217,
    "start_time": "2025-05-29T18:38:00.113Z"
   },
   {
    "duration": 7,
    "start_time": "2025-05-29T18:38:00.332Z"
   },
   {
    "duration": 198,
    "start_time": "2025-05-29T18:38:00.341Z"
   },
   {
    "duration": 18,
    "start_time": "2025-05-29T18:38:00.541Z"
   },
   {
    "duration": 244,
    "start_time": "2025-05-29T18:38:00.561Z"
   },
   {
    "duration": 9,
    "start_time": "2025-05-29T18:38:00.807Z"
   },
   {
    "duration": 340,
    "start_time": "2025-05-29T18:38:00.818Z"
   },
   {
    "duration": 211,
    "start_time": "2025-05-29T18:38:01.159Z"
   },
   {
    "duration": 13,
    "start_time": "2025-05-29T18:38:01.372Z"
   },
   {
    "duration": 363,
    "start_time": "2025-05-29T18:38:01.386Z"
   },
   {
    "duration": 9,
    "start_time": "2025-05-29T18:38:01.750Z"
   },
   {
    "duration": 19,
    "start_time": "2025-05-29T18:38:01.760Z"
   },
   {
    "duration": 171,
    "start_time": "2025-05-29T18:38:01.781Z"
   },
   {
    "duration": 5,
    "start_time": "2025-05-29T18:38:01.953Z"
   },
   {
    "duration": 815,
    "start_time": "2025-05-29T18:38:01.960Z"
   },
   {
    "duration": 28,
    "start_time": "2025-05-29T18:38:02.777Z"
   },
   {
    "duration": 4,
    "start_time": "2025-05-29T18:52:19.883Z"
   },
   {
    "duration": 113,
    "start_time": "2025-05-29T18:52:52.635Z"
   },
   {
    "duration": 84,
    "start_time": "2025-05-29T18:53:49.285Z"
   },
   {
    "duration": 60,
    "start_time": "2025-05-29T18:54:55.992Z"
   },
   {
    "duration": 2650,
    "start_time": "2025-05-29T18:55:06.070Z"
   },
   {
    "duration": 1307,
    "start_time": "2025-05-29T18:55:08.723Z"
   },
   {
    "duration": 115,
    "start_time": "2025-05-29T18:55:10.031Z"
   },
   {
    "duration": 52,
    "start_time": "2025-05-29T18:55:10.148Z"
   },
   {
    "duration": 28,
    "start_time": "2025-05-29T18:55:10.202Z"
   },
   {
    "duration": 18,
    "start_time": "2025-05-29T18:55:10.232Z"
   },
   {
    "duration": 12,
    "start_time": "2025-05-29T18:55:10.252Z"
   },
   {
    "duration": 45,
    "start_time": "2025-05-29T18:55:10.266Z"
   },
   {
    "duration": 2,
    "start_time": "2025-05-29T18:55:10.313Z"
   },
   {
    "duration": 4,
    "start_time": "2025-05-29T18:55:10.318Z"
   },
   {
    "duration": 14,
    "start_time": "2025-05-29T18:55:10.323Z"
   },
   {
    "duration": 19,
    "start_time": "2025-05-29T18:55:10.339Z"
   },
   {
    "duration": 3,
    "start_time": "2025-05-29T18:55:10.360Z"
   },
   {
    "duration": 9,
    "start_time": "2025-05-29T18:55:10.365Z"
   },
   {
    "duration": 12,
    "start_time": "2025-05-29T18:55:10.375Z"
   },
   {
    "duration": 5,
    "start_time": "2025-05-29T18:55:10.405Z"
   },
   {
    "duration": 41,
    "start_time": "2025-05-29T18:55:10.412Z"
   },
   {
    "duration": 46,
    "start_time": "2025-05-29T18:55:10.455Z"
   },
   {
    "duration": 12,
    "start_time": "2025-05-29T18:55:10.503Z"
   },
   {
    "duration": 26,
    "start_time": "2025-05-29T18:55:10.517Z"
   },
   {
    "duration": 9,
    "start_time": "2025-05-29T18:55:10.545Z"
   },
   {
    "duration": 51,
    "start_time": "2025-05-29T18:55:10.556Z"
   },
   {
    "duration": 5,
    "start_time": "2025-05-29T18:55:10.609Z"
   },
   {
    "duration": 4,
    "start_time": "2025-05-29T18:55:10.615Z"
   },
   {
    "duration": 24,
    "start_time": "2025-05-29T18:55:10.620Z"
   },
   {
    "duration": 181,
    "start_time": "2025-05-29T18:55:10.646Z"
   },
   {
    "duration": 5,
    "start_time": "2025-05-29T18:55:10.829Z"
   },
   {
    "duration": 14,
    "start_time": "2025-05-29T18:55:10.838Z"
   },
   {
    "duration": 214,
    "start_time": "2025-05-29T18:55:10.854Z"
   },
   {
    "duration": 9,
    "start_time": "2025-05-29T18:55:11.070Z"
   },
   {
    "duration": 272,
    "start_time": "2025-05-29T18:55:11.081Z"
   },
   {
    "duration": 7,
    "start_time": "2025-05-29T18:55:11.355Z"
   },
   {
    "duration": 149,
    "start_time": "2025-05-29T18:55:11.363Z"
   },
   {
    "duration": 17,
    "start_time": "2025-05-29T18:55:11.514Z"
   },
   {
    "duration": 310,
    "start_time": "2025-05-29T18:55:11.533Z"
   },
   {
    "duration": 8,
    "start_time": "2025-05-29T18:55:11.845Z"
   },
   {
    "duration": 338,
    "start_time": "2025-05-29T18:55:11.855Z"
   },
   {
    "duration": 212,
    "start_time": "2025-05-29T18:55:12.194Z"
   },
   {
    "duration": 12,
    "start_time": "2025-05-29T18:55:12.408Z"
   },
   {
    "duration": 199,
    "start_time": "2025-05-29T18:55:12.421Z"
   },
   {
    "duration": 8,
    "start_time": "2025-05-29T18:55:12.622Z"
   },
   {
    "duration": 10,
    "start_time": "2025-05-29T18:55:12.631Z"
   },
   {
    "duration": 173,
    "start_time": "2025-05-29T18:55:12.643Z"
   },
   {
    "duration": 4,
    "start_time": "2025-05-29T18:55:12.818Z"
   },
   {
    "duration": 52,
    "start_time": "2025-05-29T18:57:32.169Z"
   },
   {
    "duration": 2595,
    "start_time": "2025-05-29T18:57:40.165Z"
   },
   {
    "duration": 1268,
    "start_time": "2025-05-29T18:57:42.763Z"
   },
   {
    "duration": 221,
    "start_time": "2025-05-29T18:57:44.033Z"
   },
   {
    "duration": 85,
    "start_time": "2025-05-29T18:57:44.256Z"
   },
   {
    "duration": 28,
    "start_time": "2025-05-29T18:57:44.343Z"
   },
   {
    "duration": 19,
    "start_time": "2025-05-29T18:57:44.373Z"
   },
   {
    "duration": 18,
    "start_time": "2025-05-29T18:57:44.394Z"
   },
   {
    "duration": 16,
    "start_time": "2025-05-29T18:57:44.414Z"
   },
   {
    "duration": 2,
    "start_time": "2025-05-29T18:57:44.432Z"
   },
   {
    "duration": 3,
    "start_time": "2025-05-29T18:57:44.437Z"
   },
   {
    "duration": 15,
    "start_time": "2025-05-29T18:57:44.442Z"
   },
   {
    "duration": 12,
    "start_time": "2025-05-29T18:57:44.459Z"
   },
   {
    "duration": 34,
    "start_time": "2025-05-29T18:57:44.473Z"
   },
   {
    "duration": 9,
    "start_time": "2025-05-29T18:57:44.509Z"
   },
   {
    "duration": 5,
    "start_time": "2025-05-29T18:57:44.519Z"
   },
   {
    "duration": 5,
    "start_time": "2025-05-29T18:57:44.526Z"
   },
   {
    "duration": 5,
    "start_time": "2025-05-29T18:57:44.533Z"
   },
   {
    "duration": 30,
    "start_time": "2025-05-29T18:57:44.539Z"
   },
   {
    "duration": 41,
    "start_time": "2025-05-29T18:57:44.570Z"
   },
   {
    "duration": 21,
    "start_time": "2025-05-29T18:57:44.613Z"
   },
   {
    "duration": 9,
    "start_time": "2025-05-29T18:57:44.635Z"
   },
   {
    "duration": 33,
    "start_time": "2025-05-29T18:57:44.646Z"
   },
   {
    "duration": 25,
    "start_time": "2025-05-29T18:57:44.681Z"
   },
   {
    "duration": 6,
    "start_time": "2025-05-29T18:57:44.708Z"
   },
   {
    "duration": 126,
    "start_time": "2025-05-29T18:57:44.716Z"
   },
   {
    "duration": 208,
    "start_time": "2025-05-29T18:57:44.844Z"
   },
   {
    "duration": 6,
    "start_time": "2025-05-29T18:57:45.053Z"
   },
   {
    "duration": 61,
    "start_time": "2025-05-29T18:57:45.063Z"
   },
   {
    "duration": 349,
    "start_time": "2025-05-29T18:57:45.126Z"
   },
   {
    "duration": 10,
    "start_time": "2025-05-29T18:57:45.477Z"
   },
   {
    "duration": 345,
    "start_time": "2025-05-29T18:57:45.489Z"
   },
   {
    "duration": 7,
    "start_time": "2025-05-29T18:57:45.836Z"
   },
   {
    "duration": 151,
    "start_time": "2025-05-29T18:57:45.844Z"
   },
   {
    "duration": 17,
    "start_time": "2025-05-29T18:57:46.004Z"
   },
   {
    "duration": 244,
    "start_time": "2025-05-29T18:57:46.023Z"
   },
   {
    "duration": 9,
    "start_time": "2025-05-29T18:57:46.269Z"
   },
   {
    "duration": 353,
    "start_time": "2025-05-29T18:57:46.280Z"
   },
   {
    "duration": 211,
    "start_time": "2025-05-29T18:57:46.635Z"
   },
   {
    "duration": 13,
    "start_time": "2025-05-29T18:57:46.849Z"
   },
   {
    "duration": 199,
    "start_time": "2025-05-29T18:57:46.864Z"
   },
   {
    "duration": 9,
    "start_time": "2025-05-29T18:57:47.065Z"
   },
   {
    "duration": 8,
    "start_time": "2025-05-29T18:57:47.075Z"
   },
   {
    "duration": 253,
    "start_time": "2025-05-29T18:57:47.084Z"
   },
   {
    "duration": 4,
    "start_time": "2025-05-29T18:57:47.338Z"
   },
   {
    "duration": 922,
    "start_time": "2025-05-29T18:57:47.344Z"
   },
   {
    "duration": 18,
    "start_time": "2025-05-29T18:57:48.268Z"
   },
   {
    "duration": 11,
    "start_time": "2025-05-29T18:59:36.971Z"
   },
   {
    "duration": 6,
    "start_time": "2025-05-29T19:00:56.170Z"
   },
   {
    "duration": 859,
    "start_time": "2025-05-29T19:00:58.124Z"
   },
   {
    "duration": 914,
    "start_time": "2025-05-29T19:03:24.274Z"
   },
   {
    "duration": 871,
    "start_time": "2025-05-29T19:05:53.118Z"
   },
   {
    "duration": 972,
    "start_time": "2025-05-29T19:09:05.819Z"
   },
   {
    "duration": 330,
    "start_time": "2025-05-29T19:15:05.384Z"
   },
   {
    "duration": 234,
    "start_time": "2025-05-29T19:15:22.906Z"
   },
   {
    "duration": 227,
    "start_time": "2025-05-29T19:16:16.785Z"
   },
   {
    "duration": 224,
    "start_time": "2025-05-29T19:16:30.152Z"
   },
   {
    "duration": 226,
    "start_time": "2025-05-29T19:18:13.217Z"
   },
   {
    "duration": 224,
    "start_time": "2025-05-29T19:18:23.018Z"
   },
   {
    "duration": 816,
    "start_time": "2025-05-29T19:21:11.519Z"
   },
   {
    "duration": 830,
    "start_time": "2025-05-29T19:21:39.407Z"
   },
   {
    "duration": 548,
    "start_time": "2025-05-29T19:22:23.671Z"
   },
   {
    "duration": 865,
    "start_time": "2025-05-29T19:22:54.049Z"
   },
   {
    "duration": 10,
    "start_time": "2025-05-29T19:31:59.036Z"
   },
   {
    "duration": 9,
    "start_time": "2025-05-29T19:32:26.260Z"
   },
   {
    "duration": 9,
    "start_time": "2025-05-29T19:33:17.863Z"
   },
   {
    "duration": 9,
    "start_time": "2025-05-29T19:33:42.098Z"
   },
   {
    "duration": 810,
    "start_time": "2025-05-29T19:35:27.384Z"
   },
   {
    "duration": 227,
    "start_time": "2025-05-29T19:38:01.470Z"
   },
   {
    "duration": 179,
    "start_time": "2025-05-29T19:38:34.499Z"
   },
   {
    "duration": 121,
    "start_time": "2025-05-29T19:45:57.131Z"
   },
   {
    "duration": 1920,
    "start_time": "2025-05-29T19:47:14.464Z"
   },
   {
    "duration": 1639,
    "start_time": "2025-05-29T19:47:44.398Z"
   },
   {
    "duration": 159,
    "start_time": "2025-05-29T19:47:58.080Z"
   },
   {
    "duration": 3,
    "start_time": "2025-05-29T19:48:14.568Z"
   },
   {
    "duration": 54,
    "start_time": "2025-06-02T11:15:16.930Z"
   },
   {
    "duration": 3555,
    "start_time": "2025-06-02T11:15:29.777Z"
   },
   {
    "duration": 1537,
    "start_time": "2025-06-02T11:15:33.335Z"
   },
   {
    "duration": 126,
    "start_time": "2025-06-02T11:15:34.874Z"
   },
   {
    "duration": 50,
    "start_time": "2025-06-02T11:15:35.003Z"
   },
   {
    "duration": 31,
    "start_time": "2025-06-02T11:15:35.055Z"
   },
   {
    "duration": 20,
    "start_time": "2025-06-02T11:15:35.088Z"
   },
   {
    "duration": 11,
    "start_time": "2025-06-02T11:15:35.110Z"
   },
   {
    "duration": 46,
    "start_time": "2025-06-02T11:15:35.123Z"
   },
   {
    "duration": 2,
    "start_time": "2025-06-02T11:15:35.171Z"
   },
   {
    "duration": 3,
    "start_time": "2025-06-02T11:15:35.176Z"
   },
   {
    "duration": 14,
    "start_time": "2025-06-02T11:15:35.181Z"
   },
   {
    "duration": 15,
    "start_time": "2025-06-02T11:15:35.197Z"
   },
   {
    "duration": 19,
    "start_time": "2025-06-02T11:15:35.215Z"
   },
   {
    "duration": 37,
    "start_time": "2025-06-02T11:15:35.236Z"
   },
   {
    "duration": 4,
    "start_time": "2025-06-02T11:15:35.275Z"
   },
   {
    "duration": 5,
    "start_time": "2025-06-02T11:15:35.281Z"
   },
   {
    "duration": 28,
    "start_time": "2025-06-02T11:15:35.288Z"
   },
   {
    "duration": 13,
    "start_time": "2025-06-02T11:15:35.318Z"
   },
   {
    "duration": 64,
    "start_time": "2025-06-02T11:15:35.333Z"
   },
   {
    "duration": 10,
    "start_time": "2025-06-02T11:15:35.399Z"
   },
   {
    "duration": 31,
    "start_time": "2025-06-02T11:15:35.410Z"
   },
   {
    "duration": 21,
    "start_time": "2025-06-02T11:15:35.443Z"
   },
   {
    "duration": 4,
    "start_time": "2025-06-02T11:15:35.466Z"
   },
   {
    "duration": 9,
    "start_time": "2025-06-02T11:15:35.472Z"
   },
   {
    "duration": 190,
    "start_time": "2025-06-02T11:15:35.482Z"
   },
   {
    "duration": 6,
    "start_time": "2025-06-02T11:15:35.674Z"
   },
   {
    "duration": 13,
    "start_time": "2025-06-02T11:15:35.682Z"
   },
   {
    "duration": 249,
    "start_time": "2025-06-02T11:15:35.699Z"
   },
   {
    "duration": 18,
    "start_time": "2025-06-02T11:15:35.950Z"
   },
   {
    "duration": 249,
    "start_time": "2025-06-02T11:15:35.969Z"
   },
   {
    "duration": 7,
    "start_time": "2025-06-02T11:15:36.220Z"
   },
   {
    "duration": 151,
    "start_time": "2025-06-02T11:15:36.229Z"
   },
   {
    "duration": 18,
    "start_time": "2025-06-02T11:15:36.382Z"
   },
   {
    "duration": 241,
    "start_time": "2025-06-02T11:15:36.401Z"
   },
   {
    "duration": 18,
    "start_time": "2025-06-02T11:15:36.645Z"
   },
   {
    "duration": 333,
    "start_time": "2025-06-02T11:15:36.665Z"
   },
   {
    "duration": 218,
    "start_time": "2025-06-02T11:15:37.000Z"
   },
   {
    "duration": 13,
    "start_time": "2025-06-02T11:15:37.220Z"
   },
   {
    "duration": 206,
    "start_time": "2025-06-02T11:15:37.235Z"
   },
   {
    "duration": 9,
    "start_time": "2025-06-02T11:15:37.443Z"
   },
   {
    "duration": 8,
    "start_time": "2025-06-02T11:15:37.461Z"
   },
   {
    "duration": 176,
    "start_time": "2025-06-02T11:15:37.471Z"
   },
   {
    "duration": 901,
    "start_time": "2025-06-02T11:15:37.649Z"
   },
   {
    "duration": 554,
    "start_time": "2025-06-02T11:15:38.552Z"
   },
   {
    "duration": 9,
    "start_time": "2025-06-02T11:15:39.107Z"
   },
   {
    "duration": 6,
    "start_time": "2025-06-02T11:15:39.118Z"
   },
   {
    "duration": 353,
    "start_time": "2025-06-02T11:15:39.126Z"
   },
   {
    "duration": 8,
    "start_time": "2025-06-02T11:15:39.481Z"
   },
   {
    "duration": 276,
    "start_time": "2025-06-02T11:15:39.491Z"
   },
   {
    "duration": 21,
    "start_time": "2025-06-02T11:15:39.768Z"
   },
   {
    "duration": 252,
    "start_time": "2025-06-02T11:15:39.791Z"
   },
   {
    "duration": 237,
    "start_time": "2025-06-02T11:15:40.045Z"
   },
   {
    "duration": 7,
    "start_time": "2025-06-02T11:15:40.283Z"
   },
   {
    "duration": 170,
    "start_time": "2025-06-02T11:15:40.292Z"
   },
   {
    "duration": 8,
    "start_time": "2025-06-02T11:15:40.464Z"
   },
   {
    "duration": 751,
    "start_time": "2025-06-02T11:15:40.473Z"
   },
   {
    "duration": 386,
    "start_time": "2025-06-02T11:19:03.322Z"
   },
   {
    "duration": 123,
    "start_time": "2025-06-02T11:20:15.343Z"
   },
   {
    "duration": 2443,
    "start_time": "2025-06-02T11:20:46.706Z"
   },
   {
    "duration": 2176,
    "start_time": "2025-06-02T11:23:10.958Z"
   },
   {
    "duration": 367,
    "start_time": "2025-06-02T11:24:06.556Z"
   },
   {
    "duration": 1038,
    "start_time": "2025-06-02T11:56:21.772Z"
   },
   {
    "duration": 23,
    "start_time": "2025-06-02T11:57:10.346Z"
   },
   {
    "duration": 33,
    "start_time": "2025-06-02T11:57:22.686Z"
   },
   {
    "duration": 993,
    "start_time": "2025-06-02T11:57:46.924Z"
   },
   {
    "duration": 2379,
    "start_time": "2025-06-02T12:05:03.004Z"
   },
   {
    "duration": 2428,
    "start_time": "2025-06-02T12:05:14.123Z"
   },
   {
    "duration": 2444,
    "start_time": "2025-06-02T12:05:19.112Z"
   },
   {
    "duration": 2212,
    "start_time": "2025-06-02T12:05:41.227Z"
   },
   {
    "duration": 1084,
    "start_time": "2025-06-02T12:06:17.306Z"
   },
   {
    "duration": 840,
    "start_time": "2025-06-02T12:07:08.331Z"
   },
   {
    "duration": 702,
    "start_time": "2025-06-02T12:07:51.723Z"
   },
   {
    "duration": 969,
    "start_time": "2025-06-02T12:08:05.671Z"
   },
   {
    "duration": 834,
    "start_time": "2025-06-02T12:08:20.463Z"
   },
   {
    "duration": 9,
    "start_time": "2025-06-02T12:08:30.792Z"
   },
   {
    "duration": 2226,
    "start_time": "2025-06-02T12:09:01.346Z"
   },
   {
    "duration": 2270,
    "start_time": "2025-06-02T12:09:22.522Z"
   },
   {
    "duration": 2082,
    "start_time": "2025-06-02T12:10:39.981Z"
   },
   {
    "duration": 2346,
    "start_time": "2025-06-02T12:18:41.846Z"
   },
   {
    "duration": 15,
    "start_time": "2025-06-02T12:19:11.666Z"
   },
   {
    "duration": 2366,
    "start_time": "2025-06-02T12:21:06.637Z"
   },
   {
    "duration": 6,
    "start_time": "2025-06-02T12:36:55.332Z"
   },
   {
    "duration": 10,
    "start_time": "2025-06-02T12:38:55.345Z"
   },
   {
    "duration": 10,
    "start_time": "2025-06-02T12:40:58.974Z"
   },
   {
    "duration": 13,
    "start_time": "2025-06-02T12:41:54.213Z"
   },
   {
    "duration": 8,
    "start_time": "2025-06-02T12:42:01.759Z"
   },
   {
    "duration": 23,
    "start_time": "2025-06-02T12:42:28.810Z"
   },
   {
    "duration": 9,
    "start_time": "2025-06-02T12:43:06.711Z"
   },
   {
    "duration": 7,
    "start_time": "2025-06-02T12:46:06.488Z"
   },
   {
    "duration": 18,
    "start_time": "2025-06-02T12:55:43.291Z"
   },
   {
    "duration": 15,
    "start_time": "2025-06-02T12:56:10.872Z"
   },
   {
    "duration": 18,
    "start_time": "2025-06-02T12:56:52.966Z"
   },
   {
    "duration": 13,
    "start_time": "2025-06-02T12:57:08.465Z"
   },
   {
    "duration": 13,
    "start_time": "2025-06-02T12:58:45.398Z"
   },
   {
    "duration": 8,
    "start_time": "2025-06-02T12:59:28.240Z"
   },
   {
    "duration": 14,
    "start_time": "2025-06-02T12:59:32.942Z"
   },
   {
    "duration": 17,
    "start_time": "2025-06-02T13:00:02.421Z"
   },
   {
    "duration": 12,
    "start_time": "2025-06-02T13:00:04.552Z"
   },
   {
    "duration": 2742,
    "start_time": "2025-06-02T13:16:11.175Z"
   },
   {
    "duration": 1257,
    "start_time": "2025-06-02T13:16:13.919Z"
   },
   {
    "duration": 240,
    "start_time": "2025-06-02T13:16:15.178Z"
   },
   {
    "duration": 48,
    "start_time": "2025-06-02T13:16:15.420Z"
   },
   {
    "duration": 31,
    "start_time": "2025-06-02T13:16:15.471Z"
   },
   {
    "duration": 100,
    "start_time": "2025-06-02T13:16:15.504Z"
   },
   {
    "duration": 13,
    "start_time": "2025-06-02T13:16:15.606Z"
   },
   {
    "duration": 35,
    "start_time": "2025-06-02T13:16:15.620Z"
   },
   {
    "duration": 3,
    "start_time": "2025-06-02T13:16:15.657Z"
   },
   {
    "duration": 3,
    "start_time": "2025-06-02T13:16:15.662Z"
   },
   {
    "duration": 9,
    "start_time": "2025-06-02T13:16:15.667Z"
   },
   {
    "duration": 5,
    "start_time": "2025-06-02T13:16:15.678Z"
   },
   {
    "duration": 11,
    "start_time": "2025-06-02T13:16:15.685Z"
   },
   {
    "duration": 12,
    "start_time": "2025-06-02T13:16:15.700Z"
   },
   {
    "duration": 4,
    "start_time": "2025-06-02T13:16:15.714Z"
   },
   {
    "duration": 5,
    "start_time": "2025-06-02T13:16:15.719Z"
   },
   {
    "duration": 72,
    "start_time": "2025-06-02T13:16:15.725Z"
   },
   {
    "duration": 18,
    "start_time": "2025-06-02T13:16:15.800Z"
   },
   {
    "duration": 44,
    "start_time": "2025-06-02T13:16:15.820Z"
   },
   {
    "duration": 11,
    "start_time": "2025-06-02T13:16:15.866Z"
   },
   {
    "duration": 34,
    "start_time": "2025-06-02T13:16:15.878Z"
   },
   {
    "duration": 6,
    "start_time": "2025-06-02T13:16:15.914Z"
   },
   {
    "duration": 16,
    "start_time": "2025-06-02T13:16:15.922Z"
   },
   {
    "duration": 28,
    "start_time": "2025-06-02T13:16:15.940Z"
   },
   {
    "duration": 192,
    "start_time": "2025-06-02T13:16:15.970Z"
   },
   {
    "duration": 6,
    "start_time": "2025-06-02T13:16:16.163Z"
   },
   {
    "duration": 17,
    "start_time": "2025-06-02T13:16:16.170Z"
   },
   {
    "duration": 227,
    "start_time": "2025-06-02T13:16:16.188Z"
   },
   {
    "duration": 10,
    "start_time": "2025-06-02T13:16:16.416Z"
   },
   {
    "duration": 190,
    "start_time": "2025-06-02T13:16:16.428Z"
   },
   {
    "duration": 7,
    "start_time": "2025-06-02T13:16:16.619Z"
   },
   {
    "duration": 159,
    "start_time": "2025-06-02T13:16:16.628Z"
   },
   {
    "duration": 20,
    "start_time": "2025-06-02T13:16:16.789Z"
   },
   {
    "duration": 241,
    "start_time": "2025-06-02T13:16:16.811Z"
   },
   {
    "duration": 13,
    "start_time": "2025-06-02T13:16:17.054Z"
   },
   {
    "duration": 336,
    "start_time": "2025-06-02T13:16:17.069Z"
   },
   {
    "duration": 219,
    "start_time": "2025-06-02T13:16:17.407Z"
   },
   {
    "duration": 12,
    "start_time": "2025-06-02T13:16:17.627Z"
   },
   {
    "duration": 211,
    "start_time": "2025-06-02T13:16:17.642Z"
   },
   {
    "duration": 14,
    "start_time": "2025-06-02T13:16:17.855Z"
   },
   {
    "duration": 8,
    "start_time": "2025-06-02T13:16:17.873Z"
   },
   {
    "duration": 189,
    "start_time": "2025-06-02T13:16:17.883Z"
   },
   {
    "duration": 861,
    "start_time": "2025-06-02T13:16:18.074Z"
   },
   {
    "duration": 555,
    "start_time": "2025-06-02T13:16:18.937Z"
   },
   {
    "duration": 8,
    "start_time": "2025-06-02T13:16:19.494Z"
   },
   {
    "duration": 69,
    "start_time": "2025-06-02T13:16:19.504Z"
   },
   {
    "duration": 311,
    "start_time": "2025-06-02T13:16:19.575Z"
   },
   {
    "duration": 8,
    "start_time": "2025-06-02T13:16:19.888Z"
   },
   {
    "duration": 229,
    "start_time": "2025-06-02T13:16:19.898Z"
   },
   {
    "duration": 50,
    "start_time": "2025-06-02T13:16:20.128Z"
   },
   {
    "duration": 253,
    "start_time": "2025-06-02T13:16:20.180Z"
   },
   {
    "duration": 237,
    "start_time": "2025-06-02T13:16:20.435Z"
   },
   {
    "duration": 7,
    "start_time": "2025-06-02T13:16:20.673Z"
   },
   {
    "duration": 174,
    "start_time": "2025-06-02T13:16:20.683Z"
   },
   {
    "duration": 18,
    "start_time": "2025-06-02T13:16:20.861Z"
   },
   {
    "duration": 11,
    "start_time": "2025-06-02T13:16:20.882Z"
   },
   {
    "duration": 13,
    "start_time": "2025-06-02T13:16:20.895Z"
   },
   {
    "duration": 2235,
    "start_time": "2025-06-02T13:16:20.910Z"
   },
   {
    "duration": 52,
    "start_time": "2025-06-02T13:17:32.607Z"
   },
   {
    "duration": 43,
    "start_time": "2025-06-02T13:18:19.327Z"
   },
   {
    "duration": 49,
    "start_time": "2025-06-02T13:18:23.924Z"
   },
   {
    "duration": 1597,
    "start_time": "2025-06-02T13:21:27.535Z"
   },
   {
    "duration": 42,
    "start_time": "2025-06-02T13:22:14.323Z"
   },
   {
    "duration": 2706,
    "start_time": "2025-06-02T13:45:26.813Z"
   },
   {
    "duration": 1241,
    "start_time": "2025-06-02T13:45:29.522Z"
   },
   {
    "duration": 128,
    "start_time": "2025-06-02T13:45:30.765Z"
   },
   {
    "duration": 59,
    "start_time": "2025-06-02T13:45:30.895Z"
   },
   {
    "duration": 33,
    "start_time": "2025-06-02T13:45:30.957Z"
   },
   {
    "duration": 22,
    "start_time": "2025-06-02T13:45:30.992Z"
   },
   {
    "duration": 103,
    "start_time": "2025-06-02T13:45:31.016Z"
   },
   {
    "duration": 27,
    "start_time": "2025-06-02T13:45:31.121Z"
   },
   {
    "duration": 3,
    "start_time": "2025-06-02T13:45:31.150Z"
   },
   {
    "duration": 7,
    "start_time": "2025-06-02T13:45:31.155Z"
   },
   {
    "duration": 10,
    "start_time": "2025-06-02T13:45:31.163Z"
   },
   {
    "duration": 5,
    "start_time": "2025-06-02T13:45:31.176Z"
   },
   {
    "duration": 12,
    "start_time": "2025-06-02T13:45:31.183Z"
   },
   {
    "duration": 13,
    "start_time": "2025-06-02T13:45:31.200Z"
   },
   {
    "duration": 69,
    "start_time": "2025-06-02T13:45:31.215Z"
   },
   {
    "duration": 9,
    "start_time": "2025-06-02T13:45:31.286Z"
   },
   {
    "duration": 47,
    "start_time": "2025-06-02T13:45:31.297Z"
   },
   {
    "duration": 13,
    "start_time": "2025-06-02T13:45:31.345Z"
   },
   {
    "duration": 42,
    "start_time": "2025-06-02T13:45:31.360Z"
   },
   {
    "duration": 10,
    "start_time": "2025-06-02T13:45:31.404Z"
   },
   {
    "duration": 48,
    "start_time": "2025-06-02T13:45:31.416Z"
   },
   {
    "duration": 29,
    "start_time": "2025-06-02T13:45:31.466Z"
   },
   {
    "duration": 47,
    "start_time": "2025-06-02T13:45:31.497Z"
   },
   {
    "duration": 21,
    "start_time": "2025-06-02T13:45:31.546Z"
   },
   {
    "duration": 188,
    "start_time": "2025-06-02T13:45:31.569Z"
   },
   {
    "duration": 8,
    "start_time": "2025-06-02T13:45:31.761Z"
   },
   {
    "duration": 7,
    "start_time": "2025-06-02T13:45:31.771Z"
   },
   {
    "duration": 239,
    "start_time": "2025-06-02T13:45:31.780Z"
   },
   {
    "duration": 11,
    "start_time": "2025-06-02T13:45:32.021Z"
   },
   {
    "duration": 192,
    "start_time": "2025-06-02T13:45:32.035Z"
   },
   {
    "duration": 9,
    "start_time": "2025-06-02T13:45:32.229Z"
   },
   {
    "duration": 148,
    "start_time": "2025-06-02T13:45:32.240Z"
   },
   {
    "duration": 19,
    "start_time": "2025-06-02T13:45:32.390Z"
   },
   {
    "duration": 243,
    "start_time": "2025-06-02T13:45:32.411Z"
   },
   {
    "duration": 10,
    "start_time": "2025-06-02T13:45:32.661Z"
   },
   {
    "duration": 342,
    "start_time": "2025-06-02T13:45:32.673Z"
   },
   {
    "duration": 224,
    "start_time": "2025-06-02T13:45:33.017Z"
   },
   {
    "duration": 22,
    "start_time": "2025-06-02T13:45:33.243Z"
   },
   {
    "duration": 195,
    "start_time": "2025-06-02T13:45:33.266Z"
   },
   {
    "duration": 9,
    "start_time": "2025-06-02T13:45:33.462Z"
   },
   {
    "duration": 7,
    "start_time": "2025-06-02T13:45:33.475Z"
   },
   {
    "duration": 187,
    "start_time": "2025-06-02T13:45:33.484Z"
   },
   {
    "duration": 829,
    "start_time": "2025-06-02T13:45:33.673Z"
   },
   {
    "duration": 561,
    "start_time": "2025-06-02T13:45:34.504Z"
   },
   {
    "duration": 8,
    "start_time": "2025-06-02T13:45:35.067Z"
   },
   {
    "duration": 50,
    "start_time": "2025-06-02T13:45:35.077Z"
   },
   {
    "duration": 337,
    "start_time": "2025-06-02T13:45:35.129Z"
   },
   {
    "duration": 8,
    "start_time": "2025-06-02T13:45:35.468Z"
   },
   {
    "duration": 241,
    "start_time": "2025-06-02T13:45:35.478Z"
   },
   {
    "duration": 39,
    "start_time": "2025-06-02T13:45:35.721Z"
   },
   {
    "duration": 263,
    "start_time": "2025-06-02T13:45:35.763Z"
   },
   {
    "duration": 242,
    "start_time": "2025-06-02T13:45:36.028Z"
   },
   {
    "duration": 7,
    "start_time": "2025-06-02T13:45:36.272Z"
   },
   {
    "duration": 175,
    "start_time": "2025-06-02T13:45:36.281Z"
   },
   {
    "duration": 18,
    "start_time": "2025-06-02T13:45:36.460Z"
   },
   {
    "duration": 107,
    "start_time": "2025-06-02T13:45:36.479Z"
   },
   {
    "duration": 0,
    "start_time": "2025-06-02T13:45:37.389Z"
   },
   {
    "duration": 0,
    "start_time": "2025-06-02T13:45:37.391Z"
   },
   {
    "duration": 2802,
    "start_time": "2025-06-02T13:48:22.260Z"
   },
   {
    "duration": 1393,
    "start_time": "2025-06-02T13:48:25.066Z"
   },
   {
    "duration": 151,
    "start_time": "2025-06-02T13:48:26.461Z"
   },
   {
    "duration": 100,
    "start_time": "2025-06-02T13:48:26.615Z"
   },
   {
    "duration": 31,
    "start_time": "2025-06-02T13:48:26.717Z"
   },
   {
    "duration": 23,
    "start_time": "2025-06-02T13:48:26.751Z"
   },
   {
    "duration": 13,
    "start_time": "2025-06-02T13:48:26.775Z"
   },
   {
    "duration": 22,
    "start_time": "2025-06-02T13:48:26.790Z"
   },
   {
    "duration": 2,
    "start_time": "2025-06-02T13:48:26.814Z"
   },
   {
    "duration": 4,
    "start_time": "2025-06-02T13:48:26.820Z"
   },
   {
    "duration": 39,
    "start_time": "2025-06-02T13:48:26.826Z"
   },
   {
    "duration": 8,
    "start_time": "2025-06-02T13:48:26.867Z"
   },
   {
    "duration": 11,
    "start_time": "2025-06-02T13:48:26.877Z"
   },
   {
    "duration": 12,
    "start_time": "2025-06-02T13:48:26.890Z"
   },
   {
    "duration": 4,
    "start_time": "2025-06-02T13:48:26.904Z"
   },
   {
    "duration": 19,
    "start_time": "2025-06-02T13:48:26.910Z"
   },
   {
    "duration": 59,
    "start_time": "2025-06-02T13:48:26.931Z"
   },
   {
    "duration": 15,
    "start_time": "2025-06-02T13:48:26.992Z"
   },
   {
    "duration": 23,
    "start_time": "2025-06-02T13:48:27.009Z"
   },
   {
    "duration": 10,
    "start_time": "2025-06-02T13:48:27.034Z"
   },
   {
    "duration": 104,
    "start_time": "2025-06-02T13:48:27.045Z"
   },
   {
    "duration": 15,
    "start_time": "2025-06-02T13:48:27.150Z"
   },
   {
    "duration": 14,
    "start_time": "2025-06-02T13:48:27.167Z"
   },
   {
    "duration": 9,
    "start_time": "2025-06-02T13:48:27.183Z"
   },
   {
    "duration": 182,
    "start_time": "2025-06-02T13:48:27.194Z"
   },
   {
    "duration": 6,
    "start_time": "2025-06-02T13:48:27.378Z"
   },
   {
    "duration": 19,
    "start_time": "2025-06-02T13:48:27.385Z"
   },
   {
    "duration": 218,
    "start_time": "2025-06-02T13:48:27.408Z"
   },
   {
    "duration": 10,
    "start_time": "2025-06-02T13:48:27.628Z"
   },
   {
    "duration": 250,
    "start_time": "2025-06-02T13:48:27.640Z"
   },
   {
    "duration": 8,
    "start_time": "2025-06-02T13:48:27.892Z"
   },
   {
    "duration": 154,
    "start_time": "2025-06-02T13:48:27.902Z"
   },
   {
    "duration": 20,
    "start_time": "2025-06-02T13:48:28.058Z"
   },
   {
    "duration": 250,
    "start_time": "2025-06-02T13:48:28.080Z"
   },
   {
    "duration": 9,
    "start_time": "2025-06-02T13:48:28.332Z"
   },
   {
    "duration": 359,
    "start_time": "2025-06-02T13:48:28.342Z"
   },
   {
    "duration": 240,
    "start_time": "2025-06-02T13:48:28.703Z"
   },
   {
    "duration": 25,
    "start_time": "2025-06-02T13:48:28.945Z"
   },
   {
    "duration": 213,
    "start_time": "2025-06-02T13:48:28.972Z"
   },
   {
    "duration": 10,
    "start_time": "2025-06-02T13:48:29.186Z"
   },
   {
    "duration": 8,
    "start_time": "2025-06-02T13:48:29.197Z"
   },
   {
    "duration": 242,
    "start_time": "2025-06-02T13:48:29.206Z"
   },
   {
    "duration": 859,
    "start_time": "2025-06-02T13:48:29.449Z"
   },
   {
    "duration": 562,
    "start_time": "2025-06-02T13:48:30.310Z"
   },
   {
    "duration": 8,
    "start_time": "2025-06-02T13:48:30.874Z"
   },
   {
    "duration": 5,
    "start_time": "2025-06-02T13:48:30.883Z"
   },
   {
    "duration": 317,
    "start_time": "2025-06-02T13:48:30.890Z"
   },
   {
    "duration": 8,
    "start_time": "2025-06-02T13:48:31.209Z"
   },
   {
    "duration": 285,
    "start_time": "2025-06-02T13:48:31.219Z"
   },
   {
    "duration": 19,
    "start_time": "2025-06-02T13:48:31.507Z"
   },
   {
    "duration": 276,
    "start_time": "2025-06-02T13:48:31.529Z"
   },
   {
    "duration": 250,
    "start_time": "2025-06-02T13:48:31.807Z"
   },
   {
    "duration": 9,
    "start_time": "2025-06-02T13:48:32.061Z"
   },
   {
    "duration": 174,
    "start_time": "2025-06-02T13:48:32.072Z"
   },
   {
    "duration": 21,
    "start_time": "2025-06-02T13:48:32.247Z"
   },
   {
    "duration": 51,
    "start_time": "2025-06-02T13:48:32.270Z"
   },
   {
    "duration": 12,
    "start_time": "2025-06-02T13:48:32.323Z"
   },
   {
    "duration": 2256,
    "start_time": "2025-06-02T13:48:32.337Z"
   },
   {
    "duration": 49,
    "start_time": "2025-06-02T13:55:32.510Z"
   },
   {
    "duration": 2775,
    "start_time": "2025-06-02T13:55:48.188Z"
   },
   {
    "duration": 1305,
    "start_time": "2025-06-02T13:55:50.965Z"
   },
   {
    "duration": 132,
    "start_time": "2025-06-02T13:55:52.271Z"
   },
   {
    "duration": 87,
    "start_time": "2025-06-02T13:55:52.405Z"
   },
   {
    "duration": 32,
    "start_time": "2025-06-02T13:55:52.494Z"
   },
   {
    "duration": 21,
    "start_time": "2025-06-02T13:55:52.528Z"
   },
   {
    "duration": 12,
    "start_time": "2025-06-02T13:55:52.560Z"
   },
   {
    "duration": 18,
    "start_time": "2025-06-02T13:55:52.575Z"
   },
   {
    "duration": 13,
    "start_time": "2025-06-02T13:55:52.594Z"
   },
   {
    "duration": 3,
    "start_time": "2025-06-02T13:55:52.610Z"
   },
   {
    "duration": 39,
    "start_time": "2025-06-02T13:55:52.615Z"
   },
   {
    "duration": 7,
    "start_time": "2025-06-02T13:55:52.655Z"
   },
   {
    "duration": 10,
    "start_time": "2025-06-02T13:55:52.664Z"
   },
   {
    "duration": 13,
    "start_time": "2025-06-02T13:55:52.676Z"
   },
   {
    "duration": 4,
    "start_time": "2025-06-02T13:55:52.691Z"
   },
   {
    "duration": 15,
    "start_time": "2025-06-02T13:55:52.697Z"
   },
   {
    "duration": 48,
    "start_time": "2025-06-02T13:55:52.714Z"
   },
   {
    "duration": 13,
    "start_time": "2025-06-02T13:55:52.764Z"
   },
   {
    "duration": 43,
    "start_time": "2025-06-02T13:55:52.779Z"
   },
   {
    "duration": 19,
    "start_time": "2025-06-02T13:55:52.824Z"
   },
   {
    "duration": 32,
    "start_time": "2025-06-02T13:55:52.845Z"
   },
   {
    "duration": 13,
    "start_time": "2025-06-02T13:55:52.878Z"
   },
   {
    "duration": 6,
    "start_time": "2025-06-02T13:55:52.892Z"
   },
   {
    "duration": 15,
    "start_time": "2025-06-02T13:55:52.899Z"
   },
   {
    "duration": 192,
    "start_time": "2025-06-02T13:55:52.916Z"
   },
   {
    "duration": 6,
    "start_time": "2025-06-02T13:55:53.110Z"
   },
   {
    "duration": 78,
    "start_time": "2025-06-02T13:55:53.117Z"
   },
   {
    "duration": 203,
    "start_time": "2025-06-02T13:55:53.199Z"
   },
   {
    "duration": 10,
    "start_time": "2025-06-02T13:55:53.404Z"
   },
   {
    "duration": 195,
    "start_time": "2025-06-02T13:55:53.416Z"
   },
   {
    "duration": 9,
    "start_time": "2025-06-02T13:55:53.613Z"
   },
   {
    "duration": 152,
    "start_time": "2025-06-02T13:55:53.624Z"
   },
   {
    "duration": 19,
    "start_time": "2025-06-02T13:55:53.778Z"
   },
   {
    "duration": 241,
    "start_time": "2025-06-02T13:55:53.800Z"
   },
   {
    "duration": 22,
    "start_time": "2025-06-02T13:55:54.043Z"
   },
   {
    "duration": 340,
    "start_time": "2025-06-02T13:55:54.066Z"
   },
   {
    "duration": 222,
    "start_time": "2025-06-02T13:55:54.408Z"
   },
   {
    "duration": 13,
    "start_time": "2025-06-02T13:55:54.632Z"
   },
   {
    "duration": 250,
    "start_time": "2025-06-02T13:55:54.646Z"
   },
   {
    "duration": 9,
    "start_time": "2025-06-02T13:55:54.898Z"
   },
   {
    "duration": 7,
    "start_time": "2025-06-02T13:55:54.909Z"
   },
   {
    "duration": 194,
    "start_time": "2025-06-02T13:55:54.918Z"
   },
   {
    "duration": 903,
    "start_time": "2025-06-02T13:55:55.114Z"
   },
   {
    "duration": 563,
    "start_time": "2025-06-02T13:55:56.019Z"
   },
   {
    "duration": 9,
    "start_time": "2025-06-02T13:55:56.584Z"
   },
   {
    "duration": 6,
    "start_time": "2025-06-02T13:55:56.594Z"
   },
   {
    "duration": 382,
    "start_time": "2025-06-02T13:55:56.602Z"
   },
   {
    "duration": 8,
    "start_time": "2025-06-02T13:55:56.986Z"
   },
   {
    "duration": 224,
    "start_time": "2025-06-02T13:55:56.996Z"
   },
   {
    "duration": 19,
    "start_time": "2025-06-02T13:55:57.222Z"
   },
   {
    "duration": 284,
    "start_time": "2025-06-02T13:55:57.243Z"
   },
   {
    "duration": 239,
    "start_time": "2025-06-02T13:55:57.529Z"
   },
   {
    "duration": 8,
    "start_time": "2025-06-02T13:55:57.770Z"
   },
   {
    "duration": 167,
    "start_time": "2025-06-02T13:55:57.780Z"
   },
   {
    "duration": 23,
    "start_time": "2025-06-02T13:55:57.948Z"
   },
   {
    "duration": 12,
    "start_time": "2025-06-02T13:55:57.973Z"
   },
   {
    "duration": 2251,
    "start_time": "2025-06-02T13:55:57.986Z"
   },
   {
    "duration": 45,
    "start_time": "2025-06-02T13:56:00.240Z"
   },
   {
    "duration": 44,
    "start_time": "2025-06-02T13:56:00.287Z"
   },
   {
    "duration": 3638,
    "start_time": "2025-06-03T12:21:35.639Z"
   },
   {
    "duration": 1451,
    "start_time": "2025-06-03T12:21:39.280Z"
   },
   {
    "duration": 154,
    "start_time": "2025-06-03T12:21:40.733Z"
   },
   {
    "duration": 87,
    "start_time": "2025-06-03T12:21:40.889Z"
   },
   {
    "duration": 28,
    "start_time": "2025-06-03T12:21:40.977Z"
   },
   {
    "duration": 19,
    "start_time": "2025-06-03T12:21:41.006Z"
   },
   {
    "duration": 11,
    "start_time": "2025-06-03T12:21:41.026Z"
   },
   {
    "duration": 18,
    "start_time": "2025-06-03T12:21:41.039Z"
   },
   {
    "duration": 3,
    "start_time": "2025-06-03T12:21:41.059Z"
   },
   {
    "duration": 3,
    "start_time": "2025-06-03T12:21:41.065Z"
   },
   {
    "duration": 6,
    "start_time": "2025-06-03T12:21:41.070Z"
   },
   {
    "duration": 16,
    "start_time": "2025-06-03T12:21:41.077Z"
   },
   {
    "duration": 12,
    "start_time": "2025-06-03T12:21:41.095Z"
   },
   {
    "duration": 45,
    "start_time": "2025-06-03T12:21:41.108Z"
   },
   {
    "duration": 6,
    "start_time": "2025-06-03T12:21:41.156Z"
   },
   {
    "duration": 8,
    "start_time": "2025-06-03T12:21:41.164Z"
   },
   {
    "duration": 26,
    "start_time": "2025-06-03T12:21:41.174Z"
   },
   {
    "duration": 12,
    "start_time": "2025-06-03T12:21:41.201Z"
   },
   {
    "duration": 44,
    "start_time": "2025-06-03T12:21:41.214Z"
   },
   {
    "duration": 9,
    "start_time": "2025-06-03T12:21:41.260Z"
   },
   {
    "duration": 28,
    "start_time": "2025-06-03T12:21:41.270Z"
   },
   {
    "duration": 42,
    "start_time": "2025-06-03T12:21:41.300Z"
   },
   {
    "duration": 4,
    "start_time": "2025-06-03T12:21:41.345Z"
   },
   {
    "duration": 9,
    "start_time": "2025-06-03T12:21:41.351Z"
   },
   {
    "duration": 210,
    "start_time": "2025-06-03T12:21:41.363Z"
   },
   {
    "duration": 5,
    "start_time": "2025-06-03T12:21:41.575Z"
   },
   {
    "duration": 11,
    "start_time": "2025-06-03T12:21:41.581Z"
   },
   {
    "duration": 222,
    "start_time": "2025-06-03T12:21:41.596Z"
   },
   {
    "duration": 19,
    "start_time": "2025-06-03T12:21:41.820Z"
   },
   {
    "duration": 199,
    "start_time": "2025-06-03T12:21:41.842Z"
   },
   {
    "duration": 10,
    "start_time": "2025-06-03T12:21:42.043Z"
   },
   {
    "duration": 157,
    "start_time": "2025-06-03T12:21:42.055Z"
   },
   {
    "duration": 26,
    "start_time": "2025-06-03T12:21:42.214Z"
   },
   {
    "duration": 219,
    "start_time": "2025-06-03T12:21:42.243Z"
   },
   {
    "duration": 8,
    "start_time": "2025-06-03T12:21:42.464Z"
   },
   {
    "duration": 390,
    "start_time": "2025-06-03T12:21:42.474Z"
   },
   {
    "duration": 119,
    "start_time": "2025-06-03T12:21:42.866Z"
   },
   {
    "duration": 12,
    "start_time": "2025-06-03T12:21:42.987Z"
   },
   {
    "duration": 187,
    "start_time": "2025-06-03T12:21:43.001Z"
   },
   {
    "duration": 9,
    "start_time": "2025-06-03T12:21:43.190Z"
   },
   {
    "duration": 7,
    "start_time": "2025-06-03T12:21:43.200Z"
   },
   {
    "duration": 203,
    "start_time": "2025-06-03T12:21:43.209Z"
   },
   {
    "duration": 920,
    "start_time": "2025-06-03T12:21:43.414Z"
   },
   {
    "duration": 519,
    "start_time": "2025-06-03T12:21:44.335Z"
   },
   {
    "duration": 12,
    "start_time": "2025-06-03T12:21:44.857Z"
   },
   {
    "duration": 15,
    "start_time": "2025-06-03T12:21:44.871Z"
   },
   {
    "duration": 380,
    "start_time": "2025-06-03T12:21:44.888Z"
   },
   {
    "duration": 10,
    "start_time": "2025-06-03T12:21:45.270Z"
   },
   {
    "duration": 312,
    "start_time": "2025-06-03T12:21:45.282Z"
   },
   {
    "duration": 18,
    "start_time": "2025-06-03T12:21:45.596Z"
   },
   {
    "duration": 234,
    "start_time": "2025-06-03T12:21:45.615Z"
   },
   {
    "duration": 242,
    "start_time": "2025-06-03T12:21:45.852Z"
   },
   {
    "duration": 7,
    "start_time": "2025-06-03T12:21:46.096Z"
   },
   {
    "duration": 274,
    "start_time": "2025-06-03T12:21:46.104Z"
   },
   {
    "duration": 16,
    "start_time": "2025-06-03T12:21:46.380Z"
   },
   {
    "duration": 68,
    "start_time": "2025-06-03T12:21:46.398Z"
   },
   {
    "duration": 11,
    "start_time": "2025-06-03T12:21:46.468Z"
   },
   {
    "duration": 2230,
    "start_time": "2025-06-03T12:21:46.480Z"
   },
   {
    "duration": 16,
    "start_time": "2025-06-03T12:39:46.678Z"
   },
   {
    "duration": 4,
    "start_time": "2025-06-03T12:41:15.891Z"
   },
   {
    "duration": 159,
    "start_time": "2025-06-03T12:43:37.452Z"
   },
   {
    "duration": 152,
    "start_time": "2025-06-03T12:49:28.598Z"
   },
   {
    "duration": 9,
    "start_time": "2025-06-03T12:50:00.966Z"
   },
   {
    "duration": 305,
    "start_time": "2025-06-03T12:50:33.680Z"
   },
   {
    "duration": 11,
    "start_time": "2025-06-03T12:52:20.599Z"
   },
   {
    "duration": 210,
    "start_time": "2025-06-03T12:52:45.574Z"
   },
   {
    "duration": 8,
    "start_time": "2025-06-03T12:53:28.722Z"
   },
   {
    "duration": 129,
    "start_time": "2025-06-03T12:54:47.935Z"
   },
   {
    "duration": 1587,
    "start_time": "2025-06-03T13:10:54.086Z"
   },
   {
    "duration": 10,
    "start_time": "2025-06-03T13:11:08.684Z"
   },
   {
    "duration": 6,
    "start_time": "2025-06-03T13:11:16.535Z"
   },
   {
    "duration": 9,
    "start_time": "2025-06-03T13:11:28.023Z"
   },
   {
    "duration": 20,
    "start_time": "2025-06-03T13:11:50.342Z"
   },
   {
    "duration": 13,
    "start_time": "2025-06-03T13:12:01.773Z"
   },
   {
    "duration": 12,
    "start_time": "2025-06-03T13:12:22.973Z"
   },
   {
    "duration": 14,
    "start_time": "2025-06-03T13:12:32.959Z"
   },
   {
    "duration": 14,
    "start_time": "2025-06-03T13:13:18.921Z"
   },
   {
    "duration": 15,
    "start_time": "2025-06-03T13:14:40.892Z"
   },
   {
    "duration": 13,
    "start_time": "2025-06-03T13:16:21.873Z"
   },
   {
    "duration": 14,
    "start_time": "2025-06-03T13:27:32.880Z"
   },
   {
    "duration": 4,
    "start_time": "2025-06-03T13:27:51.700Z"
   },
   {
    "duration": 13,
    "start_time": "2025-06-03T13:28:02.270Z"
   },
   {
    "duration": 14,
    "start_time": "2025-06-03T13:32:27.601Z"
   },
   {
    "duration": 15,
    "start_time": "2025-06-03T13:32:47.063Z"
   },
   {
    "duration": 13,
    "start_time": "2025-06-03T13:34:15.071Z"
   },
   {
    "duration": 22,
    "start_time": "2025-06-03T13:34:19.332Z"
   },
   {
    "duration": 280,
    "start_time": "2025-06-03T13:34:48.016Z"
   },
   {
    "duration": 17,
    "start_time": "2025-06-03T13:35:16.196Z"
   },
   {
    "duration": 247,
    "start_time": "2025-06-03T13:35:18.219Z"
   },
   {
    "duration": 13,
    "start_time": "2025-06-03T13:35:22.283Z"
   },
   {
    "duration": 8,
    "start_time": "2025-06-03T13:40:50.712Z"
   },
   {
    "duration": 16,
    "start_time": "2025-06-03T13:52:11.061Z"
   },
   {
    "duration": 13,
    "start_time": "2025-06-03T13:54:52.122Z"
   },
   {
    "duration": 9,
    "start_time": "2025-06-03T13:57:14.545Z"
   },
   {
    "duration": 1193,
    "start_time": "2025-06-03T14:10:05.091Z"
   },
   {
    "duration": 1911,
    "start_time": "2025-06-03T14:29:31.534Z"
   },
   {
    "duration": 12,
    "start_time": "2025-06-03T14:30:15.947Z"
   },
   {
    "duration": 165,
    "start_time": "2025-06-03T14:30:26.830Z"
   },
   {
    "duration": 808,
    "start_time": "2025-06-03T14:31:39.273Z"
   },
   {
    "duration": 951,
    "start_time": "2025-06-03T14:31:45.433Z"
   },
   {
    "duration": 996,
    "start_time": "2025-06-03T14:32:02.943Z"
   },
   {
    "duration": 1795,
    "start_time": "2025-06-03T14:32:21.793Z"
   },
   {
    "duration": 128,
    "start_time": "2025-06-03T14:32:27.904Z"
   },
   {
    "duration": 1920,
    "start_time": "2025-06-03T14:32:31.833Z"
   },
   {
    "duration": 13,
    "start_time": "2025-06-03T14:36:11.869Z"
   },
   {
    "duration": 187,
    "start_time": "2025-06-03T14:36:14.094Z"
   },
   {
    "duration": 3504,
    "start_time": "2025-06-04T08:25:10.229Z"
   },
   {
    "duration": 1428,
    "start_time": "2025-06-04T08:25:13.736Z"
   },
   {
    "duration": 473,
    "start_time": "2025-06-04T08:25:15.166Z"
   },
   {
    "duration": 880,
    "start_time": "2025-06-04T08:25:15.641Z"
   },
   {
    "duration": 29,
    "start_time": "2025-06-04T08:25:16.523Z"
   },
   {
    "duration": 20,
    "start_time": "2025-06-04T08:25:16.554Z"
   },
   {
    "duration": 12,
    "start_time": "2025-06-04T08:25:16.576Z"
   },
   {
    "duration": 19,
    "start_time": "2025-06-04T08:25:16.590Z"
   },
   {
    "duration": 12,
    "start_time": "2025-06-04T08:25:16.611Z"
   },
   {
    "duration": 5,
    "start_time": "2025-06-04T08:25:16.624Z"
   },
   {
    "duration": 6,
    "start_time": "2025-06-04T08:25:16.631Z"
   },
   {
    "duration": 28,
    "start_time": "2025-06-04T08:25:16.639Z"
   },
   {
    "duration": 14,
    "start_time": "2025-06-04T08:25:16.668Z"
   },
   {
    "duration": 12,
    "start_time": "2025-06-04T08:25:16.685Z"
   },
   {
    "duration": 5,
    "start_time": "2025-06-04T08:25:16.698Z"
   },
   {
    "duration": 59,
    "start_time": "2025-06-04T08:25:16.704Z"
   },
   {
    "duration": 43,
    "start_time": "2025-06-04T08:25:16.765Z"
   },
   {
    "duration": 13,
    "start_time": "2025-06-04T08:25:16.809Z"
   },
   {
    "duration": 23,
    "start_time": "2025-06-04T08:25:16.824Z"
   },
   {
    "duration": 11,
    "start_time": "2025-06-04T08:25:16.848Z"
   },
   {
    "duration": 39,
    "start_time": "2025-06-04T08:25:16.861Z"
   },
   {
    "duration": 23,
    "start_time": "2025-06-04T08:25:16.902Z"
   },
   {
    "duration": 28,
    "start_time": "2025-06-04T08:25:16.927Z"
   },
   {
    "duration": 184,
    "start_time": "2025-06-04T08:25:16.957Z"
   },
   {
    "duration": 7,
    "start_time": "2025-06-04T08:25:17.143Z"
   },
   {
    "duration": 249,
    "start_time": "2025-06-04T08:25:17.152Z"
   },
   {
    "duration": 10,
    "start_time": "2025-06-04T08:25:17.403Z"
   },
   {
    "duration": 182,
    "start_time": "2025-06-04T08:25:17.414Z"
   },
   {
    "duration": 6,
    "start_time": "2025-06-04T08:25:17.598Z"
   },
   {
    "duration": 143,
    "start_time": "2025-06-04T08:25:17.606Z"
   },
   {
    "duration": 25,
    "start_time": "2025-06-04T08:25:17.751Z"
   },
   {
    "duration": 222,
    "start_time": "2025-06-04T08:25:17.778Z"
   },
   {
    "duration": 13,
    "start_time": "2025-06-04T08:25:18.002Z"
   },
   {
    "duration": 14,
    "start_time": "2025-06-04T08:25:18.016Z"
   },
   {
    "duration": 319,
    "start_time": "2025-06-04T08:25:18.032Z"
   },
   {
    "duration": 209,
    "start_time": "2025-06-04T08:25:18.353Z"
   },
   {
    "duration": 1859,
    "start_time": "2025-06-04T08:25:18.564Z"
   },
   {
    "duration": 15,
    "start_time": "2025-06-04T08:25:20.425Z"
   },
   {
    "duration": 215,
    "start_time": "2025-06-04T08:25:20.441Z"
   },
   {
    "duration": 22,
    "start_time": "2025-06-04T08:25:20.658Z"
   },
   {
    "duration": 26,
    "start_time": "2025-06-04T08:25:20.684Z"
   },
   {
    "duration": 227,
    "start_time": "2025-06-04T08:25:20.712Z"
   },
   {
    "duration": 909,
    "start_time": "2025-06-04T08:25:20.941Z"
   },
   {
    "duration": 539,
    "start_time": "2025-06-04T08:25:21.852Z"
   },
   {
    "duration": 8,
    "start_time": "2025-06-04T08:25:22.392Z"
   },
   {
    "duration": 32,
    "start_time": "2025-06-04T08:25:22.401Z"
   },
   {
    "duration": 330,
    "start_time": "2025-06-04T08:25:22.435Z"
   },
   {
    "duration": 14,
    "start_time": "2025-06-04T08:25:22.767Z"
   },
   {
    "duration": 246,
    "start_time": "2025-06-04T08:25:22.782Z"
   },
   {
    "duration": 19,
    "start_time": "2025-06-04T08:25:23.030Z"
   },
   {
    "duration": 238,
    "start_time": "2025-06-04T08:25:23.051Z"
   },
   {
    "duration": 214,
    "start_time": "2025-06-04T08:25:23.291Z"
   },
   {
    "duration": 6,
    "start_time": "2025-06-04T08:25:23.507Z"
   },
   {
    "duration": 164,
    "start_time": "2025-06-04T08:25:23.515Z"
   },
   {
    "duration": 8,
    "start_time": "2025-06-04T08:25:23.681Z"
   },
   {
    "duration": 16,
    "start_time": "2025-06-04T08:25:23.691Z"
   },
   {
    "duration": 11,
    "start_time": "2025-06-04T08:25:23.709Z"
   },
   {
    "duration": 2155,
    "start_time": "2025-06-04T08:25:23.722Z"
   },
   {
    "duration": 1860,
    "start_time": "2025-06-04T08:26:23.206Z"
   },
   {
    "duration": 1897,
    "start_time": "2025-06-04T08:26:58.073Z"
   },
   {
    "duration": 1503,
    "start_time": "2025-06-04T08:29:21.067Z"
   },
   {
    "duration": 1672,
    "start_time": "2025-06-04T08:29:38.408Z"
   },
   {
    "duration": 1329,
    "start_time": "2025-06-04T08:30:31.730Z"
   },
   {
    "duration": 2802,
    "start_time": "2025-06-04T09:35:16.788Z"
   },
   {
    "duration": 99637,
    "start_time": "2025-06-04T09:41:04.373Z"
   },
   {
    "duration": 13,
    "start_time": "2025-06-04T09:47:18.256Z"
   },
   {
    "duration": 17,
    "start_time": "2025-06-04T09:47:31.328Z"
   },
   {
    "duration": 253,
    "start_time": "2025-06-04T09:49:45.932Z"
   },
   {
    "duration": 13,
    "start_time": "2025-06-04T09:50:54.703Z"
   },
   {
    "duration": 2506,
    "start_time": "2025-06-04T09:54:41.686Z"
   },
   {
    "duration": 1251,
    "start_time": "2025-06-04T09:54:44.195Z"
   },
   {
    "duration": 114,
    "start_time": "2025-06-04T09:54:45.447Z"
   },
   {
    "duration": 63,
    "start_time": "2025-06-04T09:54:45.563Z"
   },
   {
    "duration": 110,
    "start_time": "2025-06-04T09:54:45.627Z"
   },
   {
    "duration": 20,
    "start_time": "2025-06-04T09:54:45.739Z"
   },
   {
    "duration": 18,
    "start_time": "2025-06-04T09:54:45.761Z"
   },
   {
    "duration": 19,
    "start_time": "2025-06-04T09:54:45.781Z"
   },
   {
    "duration": 6,
    "start_time": "2025-06-04T09:54:45.802Z"
   },
   {
    "duration": 22,
    "start_time": "2025-06-04T09:54:45.810Z"
   },
   {
    "duration": 12,
    "start_time": "2025-06-04T09:54:45.834Z"
   },
   {
    "duration": 6,
    "start_time": "2025-06-04T09:54:45.848Z"
   },
   {
    "duration": 28,
    "start_time": "2025-06-04T09:54:45.856Z"
   },
   {
    "duration": 28,
    "start_time": "2025-06-04T09:54:45.886Z"
   },
   {
    "duration": 10,
    "start_time": "2025-06-04T09:54:45.915Z"
   },
   {
    "duration": 19,
    "start_time": "2025-06-04T09:54:45.927Z"
   },
   {
    "duration": 26,
    "start_time": "2025-06-04T09:54:45.947Z"
   },
   {
    "duration": 13,
    "start_time": "2025-06-04T09:54:45.975Z"
   },
   {
    "duration": 22,
    "start_time": "2025-06-04T09:54:45.990Z"
   },
   {
    "duration": 11,
    "start_time": "2025-06-04T09:54:46.014Z"
   },
   {
    "duration": 57,
    "start_time": "2025-06-04T09:54:46.027Z"
   },
   {
    "duration": 46,
    "start_time": "2025-06-04T09:54:46.086Z"
   },
   {
    "duration": 22,
    "start_time": "2025-06-04T09:54:46.134Z"
   },
   {
    "duration": 172,
    "start_time": "2025-06-04T09:54:46.157Z"
   },
   {
    "duration": 8,
    "start_time": "2025-06-04T09:54:46.330Z"
   },
   {
    "duration": 223,
    "start_time": "2025-06-04T09:54:46.339Z"
   },
   {
    "duration": 19,
    "start_time": "2025-06-04T09:54:46.564Z"
   },
   {
    "duration": 353,
    "start_time": "2025-06-04T09:54:46.586Z"
   },
   {
    "duration": 6,
    "start_time": "2025-06-04T09:54:46.941Z"
   },
   {
    "duration": 132,
    "start_time": "2025-06-04T09:54:46.948Z"
   },
   {
    "duration": 17,
    "start_time": "2025-06-04T09:54:47.082Z"
   },
   {
    "duration": 236,
    "start_time": "2025-06-04T09:54:47.100Z"
   },
   {
    "duration": 13,
    "start_time": "2025-06-04T09:54:47.338Z"
   },
   {
    "duration": 32,
    "start_time": "2025-06-04T09:54:47.352Z"
   },
   {
    "duration": 264,
    "start_time": "2025-06-04T09:54:47.385Z"
   },
   {
    "duration": 14,
    "start_time": "2025-06-04T09:54:47.650Z"
   },
   {
    "duration": 93,
    "start_time": "2025-06-04T09:54:47.676Z"
   },
   {
    "duration": 408,
    "start_time": "2025-06-04T09:54:47.771Z"
   },
   {
    "duration": 128,
    "start_time": "2025-06-04T09:54:48.182Z"
   },
   {
    "duration": 1740,
    "start_time": "2025-06-04T09:54:48.312Z"
   },
   {
    "duration": 26,
    "start_time": "2025-06-04T09:54:50.054Z"
   },
   {
    "duration": 207,
    "start_time": "2025-06-04T09:54:50.082Z"
   },
   {
    "duration": 9,
    "start_time": "2025-06-04T09:54:50.292Z"
   },
   {
    "duration": 8,
    "start_time": "2025-06-04T09:54:50.302Z"
   },
   {
    "duration": 276,
    "start_time": "2025-06-04T09:54:50.311Z"
   },
   {
    "duration": 800,
    "start_time": "2025-06-04T09:54:50.589Z"
   },
   {
    "duration": 499,
    "start_time": "2025-06-04T09:54:51.391Z"
   },
   {
    "duration": 8,
    "start_time": "2025-06-04T09:54:51.892Z"
   },
   {
    "duration": 32,
    "start_time": "2025-06-04T09:54:51.902Z"
   },
   {
    "duration": 346,
    "start_time": "2025-06-04T09:54:51.936Z"
   },
   {
    "duration": 8,
    "start_time": "2025-06-04T09:54:52.284Z"
   },
   {
    "duration": 233,
    "start_time": "2025-06-04T09:54:52.295Z"
   },
   {
    "duration": 19,
    "start_time": "2025-06-04T09:54:52.529Z"
   },
   {
    "duration": 245,
    "start_time": "2025-06-04T09:54:52.550Z"
   },
   {
    "duration": 224,
    "start_time": "2025-06-04T09:54:52.797Z"
   },
   {
    "duration": 7,
    "start_time": "2025-06-04T09:54:53.024Z"
   },
   {
    "duration": 166,
    "start_time": "2025-06-04T09:54:53.033Z"
   },
   {
    "duration": 9,
    "start_time": "2025-06-04T09:54:53.200Z"
   },
   {
    "duration": 57,
    "start_time": "2025-06-04T09:54:53.211Z"
   },
   {
    "duration": 61,
    "start_time": "2025-06-04T09:54:53.270Z"
   },
   {
    "duration": 2141,
    "start_time": "2025-06-04T09:54:53.332Z"
   },
   {
    "duration": 15,
    "start_time": "2025-06-04T10:55:00.148Z"
   },
   {
    "duration": 19,
    "start_time": "2025-06-04T10:55:12.591Z"
   },
   {
    "duration": 224,
    "start_time": "2025-06-04T11:03:30.627Z"
   },
   {
    "duration": 90,
    "start_time": "2025-06-04T11:05:35.148Z"
   },
   {
    "duration": 201,
    "start_time": "2025-06-04T11:05:44.588Z"
   },
   {
    "duration": 201,
    "start_time": "2025-06-04T11:05:59.196Z"
   },
   {
    "duration": 216,
    "start_time": "2025-06-04T11:08:22.995Z"
   },
   {
    "duration": 3600,
    "start_time": "2025-06-04T11:47:48.548Z"
   },
   {
    "duration": 1300,
    "start_time": "2025-06-04T11:47:52.151Z"
   },
   {
    "duration": 144,
    "start_time": "2025-06-04T11:47:53.453Z"
   },
   {
    "duration": 47,
    "start_time": "2025-06-04T11:47:53.598Z"
   },
   {
    "duration": 134,
    "start_time": "2025-06-04T11:47:53.650Z"
   },
   {
    "duration": 21,
    "start_time": "2025-06-04T11:47:53.786Z"
   },
   {
    "duration": 12,
    "start_time": "2025-06-04T11:47:53.809Z"
   },
   {
    "duration": 34,
    "start_time": "2025-06-04T11:47:53.823Z"
   },
   {
    "duration": 3,
    "start_time": "2025-06-04T11:47:53.859Z"
   },
   {
    "duration": 5,
    "start_time": "2025-06-04T11:47:53.864Z"
   },
   {
    "duration": 9,
    "start_time": "2025-06-04T11:47:53.871Z"
   },
   {
    "duration": 19,
    "start_time": "2025-06-04T11:47:53.881Z"
   },
   {
    "duration": 28,
    "start_time": "2025-06-04T11:47:53.902Z"
   },
   {
    "duration": 19,
    "start_time": "2025-06-04T11:47:53.934Z"
   },
   {
    "duration": 6,
    "start_time": "2025-06-04T11:47:53.955Z"
   },
   {
    "duration": 22,
    "start_time": "2025-06-04T11:47:53.963Z"
   },
   {
    "duration": 31,
    "start_time": "2025-06-04T11:47:53.987Z"
   },
   {
    "duration": 17,
    "start_time": "2025-06-04T11:47:54.021Z"
   },
   {
    "duration": 31,
    "start_time": "2025-06-04T11:47:54.040Z"
   },
   {
    "duration": 20,
    "start_time": "2025-06-04T11:47:54.073Z"
   },
   {
    "duration": 43,
    "start_time": "2025-06-04T11:47:54.095Z"
   },
   {
    "duration": 17,
    "start_time": "2025-06-04T11:47:54.141Z"
   },
   {
    "duration": 17,
    "start_time": "2025-06-04T11:47:54.160Z"
   },
   {
    "duration": 205,
    "start_time": "2025-06-04T11:47:54.180Z"
   },
   {
    "duration": 9,
    "start_time": "2025-06-04T11:47:54.387Z"
   },
   {
    "duration": 232,
    "start_time": "2025-06-04T11:47:54.398Z"
   },
   {
    "duration": 20,
    "start_time": "2025-06-04T11:47:54.632Z"
   },
   {
    "duration": 222,
    "start_time": "2025-06-04T11:47:54.654Z"
   },
   {
    "duration": 11,
    "start_time": "2025-06-04T11:47:54.878Z"
   },
   {
    "duration": 134,
    "start_time": "2025-06-04T11:47:54.891Z"
   },
   {
    "duration": 30,
    "start_time": "2025-06-04T11:47:55.026Z"
   },
   {
    "duration": 266,
    "start_time": "2025-06-04T11:47:55.058Z"
   },
   {
    "duration": 15,
    "start_time": "2025-06-04T11:47:55.326Z"
   },
   {
    "duration": 25,
    "start_time": "2025-06-04T11:47:55.343Z"
   },
   {
    "duration": 299,
    "start_time": "2025-06-04T11:47:55.370Z"
   },
   {
    "duration": 13,
    "start_time": "2025-06-04T11:47:55.671Z"
   },
   {
    "duration": 89,
    "start_time": "2025-06-04T11:47:55.686Z"
   },
   {
    "duration": 416,
    "start_time": "2025-06-04T11:47:55.777Z"
   },
   {
    "duration": 126,
    "start_time": "2025-06-04T11:47:56.195Z"
   },
   {
    "duration": 1846,
    "start_time": "2025-06-04T11:47:56.323Z"
   },
   {
    "duration": 11,
    "start_time": "2025-06-04T11:47:58.173Z"
   },
   {
    "duration": 190,
    "start_time": "2025-06-04T11:47:58.186Z"
   },
   {
    "duration": 9,
    "start_time": "2025-06-04T11:47:58.378Z"
   },
   {
    "duration": 10,
    "start_time": "2025-06-04T11:47:58.388Z"
   },
   {
    "duration": 279,
    "start_time": "2025-06-04T11:47:58.399Z"
   },
   {
    "duration": 814,
    "start_time": "2025-06-04T11:47:58.680Z"
   },
   {
    "duration": 513,
    "start_time": "2025-06-04T11:47:59.495Z"
   },
   {
    "duration": 7,
    "start_time": "2025-06-04T11:48:00.010Z"
   },
   {
    "duration": 68,
    "start_time": "2025-06-04T11:48:00.018Z"
   },
   {
    "duration": 358,
    "start_time": "2025-06-04T11:48:00.087Z"
   },
   {
    "duration": 8,
    "start_time": "2025-06-04T11:48:00.451Z"
   },
   {
    "duration": 300,
    "start_time": "2025-06-04T11:48:00.460Z"
   },
   {
    "duration": 17,
    "start_time": "2025-06-04T11:48:00.762Z"
   },
   {
    "duration": 260,
    "start_time": "2025-06-04T11:48:00.781Z"
   },
   {
    "duration": 232,
    "start_time": "2025-06-04T11:48:01.044Z"
   },
   {
    "duration": 7,
    "start_time": "2025-06-04T11:48:01.278Z"
   },
   {
    "duration": 223,
    "start_time": "2025-06-04T11:48:01.286Z"
   },
   {
    "duration": 11,
    "start_time": "2025-06-04T11:48:01.511Z"
   },
   {
    "duration": 132,
    "start_time": "2025-06-04T11:48:01.524Z"
   },
   {
    "duration": 228,
    "start_time": "2025-06-04T11:48:01.658Z"
   },
   {
    "duration": 2228,
    "start_time": "2025-06-04T11:48:01.888Z"
   },
   {
    "duration": 10,
    "start_time": "2025-06-04T14:34:12.845Z"
   },
   {
    "duration": 67,
    "start_time": "2025-06-04T14:34:48.468Z"
   },
   {
    "duration": 3763,
    "start_time": "2025-06-04T14:34:57.644Z"
   },
   {
    "duration": 1356,
    "start_time": "2025-06-04T14:35:01.409Z"
   },
   {
    "duration": 347,
    "start_time": "2025-06-04T14:35:02.767Z"
   },
   {
    "duration": 64,
    "start_time": "2025-06-04T14:35:03.115Z"
   },
   {
    "duration": 30,
    "start_time": "2025-06-04T14:35:03.182Z"
   },
   {
    "duration": 28,
    "start_time": "2025-06-04T14:35:03.214Z"
   },
   {
    "duration": 14,
    "start_time": "2025-06-04T14:35:03.248Z"
   },
   {
    "duration": 44,
    "start_time": "2025-06-04T14:35:03.264Z"
   },
   {
    "duration": 21,
    "start_time": "2025-06-04T14:35:03.310Z"
   },
   {
    "duration": 64,
    "start_time": "2025-06-04T14:35:03.332Z"
   },
   {
    "duration": 25,
    "start_time": "2025-06-04T14:35:03.398Z"
   },
   {
    "duration": 35,
    "start_time": "2025-06-04T14:35:03.424Z"
   },
   {
    "duration": 27,
    "start_time": "2025-06-04T14:35:03.461Z"
   },
   {
    "duration": 23,
    "start_time": "2025-06-04T14:35:03.492Z"
   },
   {
    "duration": 19,
    "start_time": "2025-06-04T14:35:03.517Z"
   },
   {
    "duration": 74,
    "start_time": "2025-06-04T14:35:03.542Z"
   },
   {
    "duration": 5,
    "start_time": "2025-06-04T14:35:03.618Z"
   },
   {
    "duration": 32,
    "start_time": "2025-06-04T14:35:03.624Z"
   },
   {
    "duration": 47,
    "start_time": "2025-06-04T14:35:03.658Z"
   },
   {
    "duration": 14,
    "start_time": "2025-06-04T14:35:03.707Z"
   },
   {
    "duration": 80,
    "start_time": "2025-06-04T14:35:03.723Z"
   },
   {
    "duration": 16,
    "start_time": "2025-06-04T14:35:03.805Z"
   },
   {
    "duration": 111,
    "start_time": "2025-06-04T14:35:03.824Z"
   },
   {
    "duration": 17,
    "start_time": "2025-06-04T14:35:03.939Z"
   },
   {
    "duration": 50,
    "start_time": "2025-06-04T14:35:03.958Z"
   },
   {
    "duration": 231,
    "start_time": "2025-06-04T14:35:04.010Z"
   },
   {
    "duration": 14,
    "start_time": "2025-06-04T14:35:04.242Z"
   },
   {
    "duration": 218,
    "start_time": "2025-06-04T14:35:04.258Z"
   },
   {
    "duration": 10,
    "start_time": "2025-06-04T14:35:04.478Z"
   },
   {
    "duration": 283,
    "start_time": "2025-06-04T14:35:04.490Z"
   },
   {
    "duration": 10,
    "start_time": "2025-06-04T14:35:04.777Z"
   },
   {
    "duration": 298,
    "start_time": "2025-06-04T14:35:04.790Z"
   },
   {
    "duration": 19,
    "start_time": "2025-06-04T14:35:05.089Z"
   },
   {
    "duration": 269,
    "start_time": "2025-06-04T14:35:05.110Z"
   },
   {
    "duration": 15,
    "start_time": "2025-06-04T14:35:05.381Z"
   },
   {
    "duration": 43,
    "start_time": "2025-06-04T14:35:05.398Z"
   },
   {
    "duration": 286,
    "start_time": "2025-06-04T14:35:05.443Z"
   },
   {
    "duration": 23,
    "start_time": "2025-06-04T14:35:05.732Z"
   },
   {
    "duration": 123,
    "start_time": "2025-06-04T14:35:05.757Z"
   },
   {
    "duration": 438,
    "start_time": "2025-06-04T14:35:05.882Z"
   },
   {
    "duration": 135,
    "start_time": "2025-06-04T14:35:06.325Z"
   },
   {
    "duration": 2033,
    "start_time": "2025-06-04T14:35:06.462Z"
   },
   {
    "duration": 14,
    "start_time": "2025-06-04T14:35:08.498Z"
   },
   {
    "duration": 345,
    "start_time": "2025-06-04T14:35:08.514Z"
   },
   {
    "duration": 9,
    "start_time": "2025-06-04T14:35:08.861Z"
   },
   {
    "duration": 44,
    "start_time": "2025-06-04T14:35:08.872Z"
   },
   {
    "duration": 176,
    "start_time": "2025-06-04T14:35:08.917Z"
   },
   {
    "duration": 878,
    "start_time": "2025-06-04T14:35:09.095Z"
   },
   {
    "duration": 587,
    "start_time": "2025-06-04T14:35:09.976Z"
   },
   {
    "duration": 8,
    "start_time": "2025-06-04T14:35:10.565Z"
   },
   {
    "duration": 5,
    "start_time": "2025-06-04T14:35:10.574Z"
   },
   {
    "duration": 389,
    "start_time": "2025-06-04T14:35:10.581Z"
   },
   {
    "duration": 8,
    "start_time": "2025-06-04T14:35:10.972Z"
   },
   {
    "duration": 278,
    "start_time": "2025-06-04T14:35:10.981Z"
   },
   {
    "duration": 19,
    "start_time": "2025-06-04T14:35:11.261Z"
   },
   {
    "duration": 250,
    "start_time": "2025-06-04T14:35:11.282Z"
   },
   {
    "duration": 251,
    "start_time": "2025-06-04T14:35:11.538Z"
   },
   {
    "duration": 8,
    "start_time": "2025-06-04T14:35:11.791Z"
   },
   {
    "duration": 252,
    "start_time": "2025-06-04T14:35:11.800Z"
   },
   {
    "duration": 8,
    "start_time": "2025-06-04T14:35:12.055Z"
   },
   {
    "duration": 19,
    "start_time": "2025-06-04T14:35:12.065Z"
   },
   {
    "duration": 16,
    "start_time": "2025-06-04T14:35:12.088Z"
   },
   {
    "duration": 2352,
    "start_time": "2025-06-04T14:35:12.105Z"
   },
   {
    "duration": 1397,
    "start_time": "2025-06-04T14:39:57.123Z"
   },
   {
    "duration": 7,
    "start_time": "2025-06-04T14:40:09.828Z"
   },
   {
    "duration": 13,
    "start_time": "2025-06-04T14:40:41.236Z"
   },
   {
    "duration": 269,
    "start_time": "2025-06-04T14:54:36.695Z"
   },
   {
    "duration": 9,
    "start_time": "2025-06-04T15:05:53.980Z"
   },
   {
    "duration": 492,
    "start_time": "2025-06-05T08:57:39.474Z"
   },
   {
    "duration": 3630,
    "start_time": "2025-06-05T08:57:50.141Z"
   },
   {
    "duration": 1396,
    "start_time": "2025-06-05T08:57:53.773Z"
   },
   {
    "duration": 122,
    "start_time": "2025-06-05T08:57:55.171Z"
   },
   {
    "duration": 41,
    "start_time": "2025-06-05T08:57:55.296Z"
   },
   {
    "duration": 36,
    "start_time": "2025-06-05T08:57:55.339Z"
   },
   {
    "duration": 20,
    "start_time": "2025-06-05T08:57:55.378Z"
   },
   {
    "duration": 12,
    "start_time": "2025-06-05T08:57:55.400Z"
   },
   {
    "duration": 47,
    "start_time": "2025-06-05T08:57:55.413Z"
   },
   {
    "duration": 3,
    "start_time": "2025-06-05T08:57:55.463Z"
   },
   {
    "duration": 26,
    "start_time": "2025-06-05T08:57:55.469Z"
   },
   {
    "duration": 18,
    "start_time": "2025-06-05T08:57:55.497Z"
   },
   {
    "duration": 11,
    "start_time": "2025-06-05T08:57:55.517Z"
   },
   {
    "duration": 6,
    "start_time": "2025-06-05T08:57:55.530Z"
   },
   {
    "duration": 11,
    "start_time": "2025-06-05T08:57:55.538Z"
   },
   {
    "duration": 25,
    "start_time": "2025-06-05T08:57:55.551Z"
   },
   {
    "duration": 65,
    "start_time": "2025-06-05T08:57:55.578Z"
   },
   {
    "duration": 4,
    "start_time": "2025-06-05T08:57:55.645Z"
   },
   {
    "duration": 7,
    "start_time": "2025-06-05T08:57:55.661Z"
   },
   {
    "duration": 28,
    "start_time": "2025-06-05T08:57:55.669Z"
   },
   {
    "duration": 13,
    "start_time": "2025-06-05T08:57:55.699Z"
   },
   {
    "duration": 33,
    "start_time": "2025-06-05T08:57:55.714Z"
   },
   {
    "duration": 9,
    "start_time": "2025-06-05T08:57:55.760Z"
   },
   {
    "duration": 29,
    "start_time": "2025-06-05T08:57:55.770Z"
   },
   {
    "duration": 16,
    "start_time": "2025-06-05T08:57:55.801Z"
   },
   {
    "duration": 44,
    "start_time": "2025-06-05T08:57:55.818Z"
   },
   {
    "duration": 8,
    "start_time": "2025-06-05T08:57:55.864Z"
   },
   {
    "duration": 29,
    "start_time": "2025-06-05T08:57:55.874Z"
   },
   {
    "duration": 186,
    "start_time": "2025-06-05T08:57:55.908Z"
   },
   {
    "duration": 7,
    "start_time": "2025-06-05T08:57:56.096Z"
   },
   {
    "duration": 221,
    "start_time": "2025-06-05T08:57:56.104Z"
   },
   {
    "duration": 9,
    "start_time": "2025-06-05T08:57:56.326Z"
   },
   {
    "duration": 205,
    "start_time": "2025-06-05T08:57:56.337Z"
   },
   {
    "duration": 7,
    "start_time": "2025-06-05T08:57:56.543Z"
   },
   {
    "duration": 127,
    "start_time": "2025-06-05T08:57:56.560Z"
   },
   {
    "duration": 20,
    "start_time": "2025-06-05T08:57:56.689Z"
   },
   {
    "duration": 398,
    "start_time": "2025-06-05T08:57:56.711Z"
   },
   {
    "duration": 13,
    "start_time": "2025-06-05T08:57:57.111Z"
   },
   {
    "duration": 20,
    "start_time": "2025-06-05T08:57:57.126Z"
   },
   {
    "duration": 264,
    "start_time": "2025-06-05T08:57:57.147Z"
   },
   {
    "duration": 14,
    "start_time": "2025-06-05T08:57:57.413Z"
   },
   {
    "duration": 41,
    "start_time": "2025-06-05T08:57:57.428Z"
   },
   {
    "duration": 417,
    "start_time": "2025-06-05T08:57:57.472Z"
   },
   {
    "duration": 122,
    "start_time": "2025-06-05T08:57:57.891Z"
   },
   {
    "duration": 1875,
    "start_time": "2025-06-05T08:57:58.015Z"
   },
   {
    "duration": 13,
    "start_time": "2025-06-05T08:57:59.892Z"
   },
   {
    "duration": 416,
    "start_time": "2025-06-05T08:57:59.906Z"
   },
   {
    "duration": 276,
    "start_time": "2025-06-05T08:58:00.324Z"
   },
   {
    "duration": 9,
    "start_time": "2025-06-05T08:58:00.602Z"
   },
   {
    "duration": 269,
    "start_time": "2025-06-05T08:58:00.613Z"
   },
   {
    "duration": 203,
    "start_time": "2025-06-05T08:58:00.883Z"
   },
   {
    "duration": 797,
    "start_time": "2025-06-05T08:58:01.088Z"
   },
   {
    "duration": 494,
    "start_time": "2025-06-05T08:58:01.887Z"
   },
   {
    "duration": 10,
    "start_time": "2025-06-05T08:58:02.382Z"
   },
   {
    "duration": 134,
    "start_time": "2025-06-05T08:58:02.393Z"
   },
   {
    "duration": 378,
    "start_time": "2025-06-05T08:58:02.528Z"
   },
   {
    "duration": 65,
    "start_time": "2025-06-05T08:58:02.908Z"
   },
   {
    "duration": 237,
    "start_time": "2025-06-05T08:58:02.974Z"
   },
   {
    "duration": 18,
    "start_time": "2025-06-05T08:58:03.213Z"
   },
   {
    "duration": 52,
    "start_time": "2025-06-05T08:58:03.233Z"
   },
   {
    "duration": 387,
    "start_time": "2025-06-05T08:58:03.287Z"
   },
   {
    "duration": 254,
    "start_time": "2025-06-05T08:58:03.676Z"
   },
   {
    "duration": 7,
    "start_time": "2025-06-05T08:58:03.931Z"
   },
   {
    "duration": 240,
    "start_time": "2025-06-05T08:58:03.940Z"
   },
   {
    "duration": 8,
    "start_time": "2025-06-05T08:58:04.182Z"
   },
   {
    "duration": 46,
    "start_time": "2025-06-05T08:58:04.191Z"
   },
   {
    "duration": 33,
    "start_time": "2025-06-05T08:58:04.238Z"
   },
   {
    "duration": 2133,
    "start_time": "2025-06-05T08:58:04.272Z"
   },
   {
    "duration": 143,
    "start_time": "2025-06-05T09:33:43.473Z"
   },
   {
    "duration": 86,
    "start_time": "2025-06-05T09:34:32.561Z"
   },
   {
    "duration": 16,
    "start_time": "2025-06-05T09:36:53.333Z"
   },
   {
    "duration": 24,
    "start_time": "2025-06-05T09:36:57.033Z"
   },
   {
    "duration": 10,
    "start_time": "2025-06-05T09:37:08.100Z"
   },
   {
    "duration": 5,
    "start_time": "2025-06-05T09:39:29.979Z"
   },
   {
    "duration": 104,
    "start_time": "2025-06-05T09:49:34.337Z"
   },
   {
    "duration": 6,
    "start_time": "2025-06-05T09:49:49.090Z"
   },
   {
    "duration": 6,
    "start_time": "2025-06-05T09:50:06.269Z"
   },
   {
    "duration": 5,
    "start_time": "2025-06-05T09:52:34.169Z"
   },
   {
    "duration": 6,
    "start_time": "2025-06-05T09:52:46.014Z"
   },
   {
    "duration": 12,
    "start_time": "2025-06-05T09:54:13.038Z"
   },
   {
    "duration": 15,
    "start_time": "2025-06-05T09:54:21.966Z"
   },
   {
    "duration": 7,
    "start_time": "2025-06-05T09:54:30.682Z"
   },
   {
    "duration": 7,
    "start_time": "2025-06-05T09:55:20.435Z"
   },
   {
    "duration": 8,
    "start_time": "2025-06-05T09:55:59.300Z"
   },
   {
    "duration": 8,
    "start_time": "2025-06-05T09:58:55.989Z"
   },
   {
    "duration": 85,
    "start_time": "2025-06-05T10:02:57.159Z"
   },
   {
    "duration": 7,
    "start_time": "2025-06-05T10:05:07.021Z"
   },
   {
    "duration": 19,
    "start_time": "2025-06-05T10:05:15.879Z"
   },
   {
    "duration": 7,
    "start_time": "2025-06-05T10:05:32.708Z"
   },
   {
    "duration": 7,
    "start_time": "2025-06-05T10:08:20.949Z"
   },
   {
    "duration": 126,
    "start_time": "2025-06-05T10:12:02.628Z"
   },
   {
    "duration": 2,
    "start_time": "2025-06-05T10:13:33.782Z"
   },
   {
    "duration": 129,
    "start_time": "2025-06-05T10:14:24.325Z"
   },
   {
    "duration": 130,
    "start_time": "2025-06-05T10:15:18.179Z"
   },
   {
    "duration": 146,
    "start_time": "2025-06-05T10:15:34.564Z"
   },
   {
    "duration": 259,
    "start_time": "2025-06-05T10:15:54.415Z"
   },
   {
    "duration": 8,
    "start_time": "2025-06-05T10:16:37.080Z"
   },
   {
    "duration": 135,
    "start_time": "2025-06-05T10:18:31.729Z"
   },
   {
    "duration": 110,
    "start_time": "2025-06-05T10:52:29.282Z"
   },
   {
    "duration": 108,
    "start_time": "2025-06-05T10:52:42.095Z"
   },
   {
    "duration": 298,
    "start_time": "2025-06-05T10:53:13.810Z"
   },
   {
    "duration": 172,
    "start_time": "2025-06-05T10:54:40.267Z"
   },
   {
    "duration": 10,
    "start_time": "2025-06-05T11:07:10.201Z"
   },
   {
    "duration": 87,
    "start_time": "2025-06-05T11:07:33.344Z"
   },
   {
    "duration": 178,
    "start_time": "2025-06-05T11:07:36.913Z"
   },
   {
    "duration": 159,
    "start_time": "2025-06-05T12:26:41.382Z"
   },
   {
    "duration": 10,
    "start_time": "2025-06-05T12:27:17.796Z"
   },
   {
    "duration": 7,
    "start_time": "2025-06-05T12:27:29.914Z"
   },
   {
    "duration": 33,
    "start_time": "2025-06-05T12:28:25.273Z"
   },
   {
    "duration": 35,
    "start_time": "2025-06-05T12:29:16.056Z"
   },
   {
    "duration": 33,
    "start_time": "2025-06-05T12:30:04.174Z"
   },
   {
    "duration": 49,
    "start_time": "2025-06-05T12:31:27.326Z"
   },
   {
    "duration": 22,
    "start_time": "2025-06-05T12:32:20.057Z"
   },
   {
    "duration": 2687,
    "start_time": "2025-06-05T12:32:48.759Z"
   },
   {
    "duration": 1301,
    "start_time": "2025-06-05T12:32:51.448Z"
   },
   {
    "duration": 122,
    "start_time": "2025-06-05T12:32:52.751Z"
   },
   {
    "duration": 78,
    "start_time": "2025-06-05T12:32:52.875Z"
   },
   {
    "duration": 34,
    "start_time": "2025-06-05T12:32:52.955Z"
   },
   {
    "duration": 18,
    "start_time": "2025-06-05T12:32:52.990Z"
   },
   {
    "duration": 21,
    "start_time": "2025-06-05T12:32:53.010Z"
   },
   {
    "duration": 53,
    "start_time": "2025-06-05T12:32:53.032Z"
   },
   {
    "duration": 15,
    "start_time": "2025-06-05T12:32:53.087Z"
   },
   {
    "duration": 35,
    "start_time": "2025-06-05T12:32:53.104Z"
   },
   {
    "duration": 40,
    "start_time": "2025-06-05T12:32:53.140Z"
   },
   {
    "duration": 6,
    "start_time": "2025-06-05T12:32:53.182Z"
   },
   {
    "duration": 19,
    "start_time": "2025-06-05T12:32:53.190Z"
   },
   {
    "duration": 45,
    "start_time": "2025-06-05T12:32:53.211Z"
   },
   {
    "duration": 39,
    "start_time": "2025-06-05T12:32:53.257Z"
   },
   {
    "duration": 139,
    "start_time": "2025-06-05T12:32:53.297Z"
   },
   {
    "duration": 4,
    "start_time": "2025-06-05T12:32:53.437Z"
   },
   {
    "duration": 46,
    "start_time": "2025-06-05T12:32:53.443Z"
   },
   {
    "duration": 65,
    "start_time": "2025-06-05T12:32:53.491Z"
   },
   {
    "duration": 23,
    "start_time": "2025-06-05T12:32:53.558Z"
   },
   {
    "duration": 40,
    "start_time": "2025-06-05T12:32:53.582Z"
   },
   {
    "duration": 50,
    "start_time": "2025-06-05T12:32:53.624Z"
   },
   {
    "duration": 11,
    "start_time": "2025-06-05T12:32:53.676Z"
   },
   {
    "duration": 111,
    "start_time": "2025-06-05T12:32:53.688Z"
   },
   {
    "duration": 16,
    "start_time": "2025-06-05T12:32:53.801Z"
   },
   {
    "duration": 14,
    "start_time": "2025-06-05T12:32:53.819Z"
   },
   {
    "duration": 21,
    "start_time": "2025-06-05T12:32:53.835Z"
   },
   {
    "duration": 15,
    "start_time": "2025-06-05T12:32:53.864Z"
   },
   {
    "duration": 22,
    "start_time": "2025-06-05T12:32:53.881Z"
   },
   {
    "duration": 207,
    "start_time": "2025-06-05T12:32:53.905Z"
   },
   {
    "duration": 8,
    "start_time": "2025-06-05T12:32:54.114Z"
   },
   {
    "duration": 217,
    "start_time": "2025-06-05T12:32:54.123Z"
   },
   {
    "duration": 245,
    "start_time": "2025-06-05T12:32:54.342Z"
   },
   {
    "duration": 9,
    "start_time": "2025-06-05T12:32:54.589Z"
   },
   {
    "duration": 6,
    "start_time": "2025-06-05T12:32:54.599Z"
   },
   {
    "duration": 206,
    "start_time": "2025-06-05T12:32:54.607Z"
   },
   {
    "duration": 8,
    "start_time": "2025-06-05T12:32:54.815Z"
   },
   {
    "duration": 30,
    "start_time": "2025-06-05T12:32:54.825Z"
   },
   {
    "duration": 66,
    "start_time": "2025-06-05T12:32:54.857Z"
   },
   {
    "duration": 207,
    "start_time": "2025-06-05T12:32:54.925Z"
   },
   {
    "duration": 16,
    "start_time": "2025-06-05T12:32:55.134Z"
   },
   {
    "duration": 234,
    "start_time": "2025-06-05T12:32:55.164Z"
   },
   {
    "duration": 14,
    "start_time": "2025-06-05T12:32:55.400Z"
   },
   {
    "duration": 31,
    "start_time": "2025-06-05T12:32:55.415Z"
   },
   {
    "duration": 291,
    "start_time": "2025-06-05T12:32:55.447Z"
   },
   {
    "duration": 33,
    "start_time": "2025-06-05T12:32:55.740Z"
   },
   {
    "duration": 10,
    "start_time": "2025-06-05T12:32:55.774Z"
   },
   {
    "duration": 424,
    "start_time": "2025-06-05T12:32:55.785Z"
   },
   {
    "duration": 129,
    "start_time": "2025-06-05T12:32:56.210Z"
   },
   {
    "duration": 2031,
    "start_time": "2025-06-05T12:32:56.341Z"
   },
   {
    "duration": 14,
    "start_time": "2025-06-05T12:32:58.376Z"
   },
   {
    "duration": 337,
    "start_time": "2025-06-05T12:32:58.392Z"
   },
   {
    "duration": 289,
    "start_time": "2025-06-05T12:32:58.731Z"
   },
   {
    "duration": 9,
    "start_time": "2025-06-05T12:32:59.021Z"
   },
   {
    "duration": 35,
    "start_time": "2025-06-05T12:32:59.031Z"
   },
   {
    "duration": 53,
    "start_time": "2025-06-05T12:32:59.068Z"
   },
   {
    "duration": 112,
    "start_time": "2025-06-05T12:32:59.123Z"
   },
   {
    "duration": 0,
    "start_time": "2025-06-05T12:32:59.237Z"
   },
   {
    "duration": 0,
    "start_time": "2025-06-05T12:32:59.238Z"
   },
   {
    "duration": 0,
    "start_time": "2025-06-05T12:32:59.239Z"
   },
   {
    "duration": 0,
    "start_time": "2025-06-05T12:32:59.239Z"
   },
   {
    "duration": 0,
    "start_time": "2025-06-05T12:32:59.240Z"
   },
   {
    "duration": 0,
    "start_time": "2025-06-05T12:32:59.241Z"
   },
   {
    "duration": 0,
    "start_time": "2025-06-05T12:32:59.242Z"
   },
   {
    "duration": 0,
    "start_time": "2025-06-05T12:32:59.243Z"
   },
   {
    "duration": 0,
    "start_time": "2025-06-05T12:32:59.244Z"
   },
   {
    "duration": 0,
    "start_time": "2025-06-05T12:32:59.245Z"
   },
   {
    "duration": 0,
    "start_time": "2025-06-05T12:32:59.246Z"
   },
   {
    "duration": 0,
    "start_time": "2025-06-05T12:32:59.264Z"
   },
   {
    "duration": 0,
    "start_time": "2025-06-05T12:32:59.265Z"
   },
   {
    "duration": 0,
    "start_time": "2025-06-05T12:32:59.266Z"
   },
   {
    "duration": 0,
    "start_time": "2025-06-05T12:32:59.266Z"
   },
   {
    "duration": 0,
    "start_time": "2025-06-05T12:32:59.267Z"
   },
   {
    "duration": 0,
    "start_time": "2025-06-05T12:32:59.268Z"
   },
   {
    "duration": 0,
    "start_time": "2025-06-05T12:32:59.268Z"
   },
   {
    "duration": 45,
    "start_time": "2025-06-05T12:34:43.428Z"
   },
   {
    "duration": 353,
    "start_time": "2025-06-05T12:34:46.499Z"
   },
   {
    "duration": 33,
    "start_time": "2025-06-05T12:35:38.484Z"
   },
   {
    "duration": 7,
    "start_time": "2025-06-05T12:35:54.098Z"
   },
   {
    "duration": 172,
    "start_time": "2025-06-05T12:36:00.948Z"
   },
   {
    "duration": 2611,
    "start_time": "2025-06-05T12:36:11.048Z"
   },
   {
    "duration": 1295,
    "start_time": "2025-06-05T12:36:13.661Z"
   },
   {
    "duration": 127,
    "start_time": "2025-06-05T12:36:14.958Z"
   },
   {
    "duration": 613,
    "start_time": "2025-06-05T12:36:15.087Z"
   },
   {
    "duration": 29,
    "start_time": "2025-06-05T12:36:15.702Z"
   },
   {
    "duration": 79,
    "start_time": "2025-06-05T12:36:15.733Z"
   },
   {
    "duration": 85,
    "start_time": "2025-06-05T12:36:15.813Z"
   },
   {
    "duration": 67,
    "start_time": "2025-06-05T12:36:15.899Z"
   },
   {
    "duration": 53,
    "start_time": "2025-06-05T12:36:15.968Z"
   },
   {
    "duration": 58,
    "start_time": "2025-06-05T12:36:16.024Z"
   },
   {
    "duration": 98,
    "start_time": "2025-06-05T12:36:16.084Z"
   },
   {
    "duration": 71,
    "start_time": "2025-06-05T12:36:16.184Z"
   },
   {
    "duration": 199,
    "start_time": "2025-06-05T12:36:16.257Z"
   },
   {
    "duration": 36,
    "start_time": "2025-06-05T12:36:16.458Z"
   },
   {
    "duration": 27,
    "start_time": "2025-06-05T12:36:16.496Z"
   },
   {
    "duration": 72,
    "start_time": "2025-06-05T12:36:16.525Z"
   },
   {
    "duration": 29,
    "start_time": "2025-06-05T12:36:16.598Z"
   },
   {
    "duration": 21,
    "start_time": "2025-06-05T12:36:16.629Z"
   },
   {
    "duration": 27,
    "start_time": "2025-06-05T12:36:16.652Z"
   },
   {
    "duration": 15,
    "start_time": "2025-06-05T12:36:16.681Z"
   },
   {
    "duration": 43,
    "start_time": "2025-06-05T12:36:16.698Z"
   },
   {
    "duration": 28,
    "start_time": "2025-06-05T12:36:16.743Z"
   },
   {
    "duration": 28,
    "start_time": "2025-06-05T12:36:16.774Z"
   },
   {
    "duration": 45,
    "start_time": "2025-06-05T12:36:16.804Z"
   },
   {
    "duration": 29,
    "start_time": "2025-06-05T12:36:16.850Z"
   },
   {
    "duration": 13,
    "start_time": "2025-06-05T12:36:16.880Z"
   },
   {
    "duration": 82,
    "start_time": "2025-06-05T12:36:16.895Z"
   },
   {
    "duration": 57,
    "start_time": "2025-06-05T12:36:16.981Z"
   },
   {
    "duration": 16,
    "start_time": "2025-06-05T12:36:17.041Z"
   },
   {
    "duration": 187,
    "start_time": "2025-06-05T12:36:17.058Z"
   },
   {
    "duration": 15,
    "start_time": "2025-06-05T12:36:17.247Z"
   },
   {
    "duration": 15,
    "start_time": "2025-06-05T12:36:17.264Z"
   },
   {
    "duration": 242,
    "start_time": "2025-06-05T12:36:17.281Z"
   },
   {
    "duration": 13,
    "start_time": "2025-06-05T12:36:17.526Z"
   },
   {
    "duration": 89,
    "start_time": "2025-06-05T12:36:17.541Z"
   },
   {
    "duration": 296,
    "start_time": "2025-06-05T12:36:17.632Z"
   },
   {
    "duration": 7,
    "start_time": "2025-06-05T12:36:17.929Z"
   },
   {
    "duration": 7,
    "start_time": "2025-06-05T12:36:17.938Z"
   },
   {
    "duration": 3,
    "start_time": "2025-06-05T12:36:17.960Z"
   },
   {
    "duration": 150,
    "start_time": "2025-06-05T12:36:17.965Z"
   },
   {
    "duration": 19,
    "start_time": "2025-06-05T12:36:18.117Z"
   },
   {
    "duration": 459,
    "start_time": "2025-06-05T12:36:18.137Z"
   },
   {
    "duration": 14,
    "start_time": "2025-06-05T12:36:18.598Z"
   },
   {
    "duration": 21,
    "start_time": "2025-06-05T12:36:18.613Z"
   },
   {
    "duration": 283,
    "start_time": "2025-06-05T12:36:18.635Z"
   },
   {
    "duration": 15,
    "start_time": "2025-06-05T12:36:18.920Z"
   },
   {
    "duration": 100,
    "start_time": "2025-06-05T12:36:18.936Z"
   },
   {
    "duration": 410,
    "start_time": "2025-06-05T12:36:19.038Z"
   },
   {
    "duration": 132,
    "start_time": "2025-06-05T12:36:19.450Z"
   },
   {
    "duration": 1849,
    "start_time": "2025-06-05T12:36:19.584Z"
   },
   {
    "duration": 14,
    "start_time": "2025-06-05T12:36:21.434Z"
   },
   {
    "duration": 299,
    "start_time": "2025-06-05T12:36:21.462Z"
   },
   {
    "duration": 281,
    "start_time": "2025-06-05T12:36:21.763Z"
   },
   {
    "duration": 18,
    "start_time": "2025-06-05T12:36:22.046Z"
   },
   {
    "duration": 56,
    "start_time": "2025-06-05T12:36:22.066Z"
   },
   {
    "duration": 206,
    "start_time": "2025-06-05T12:36:22.123Z"
   },
   {
    "duration": 209,
    "start_time": "2025-06-05T12:36:22.331Z"
   },
   {
    "duration": 201,
    "start_time": "2025-06-05T12:36:22.542Z"
   },
   {
    "duration": 830,
    "start_time": "2025-06-05T12:36:22.744Z"
   },
   {
    "duration": 518,
    "start_time": "2025-06-05T12:36:23.577Z"
   },
   {
    "duration": 7,
    "start_time": "2025-06-05T12:36:24.097Z"
   },
   {
    "duration": 73,
    "start_time": "2025-06-05T12:36:24.106Z"
   },
   {
    "duration": 489,
    "start_time": "2025-06-05T12:36:24.180Z"
   },
   {
    "duration": 8,
    "start_time": "2025-06-05T12:36:24.671Z"
   },
   {
    "duration": 235,
    "start_time": "2025-06-05T12:36:24.681Z"
   },
   {
    "duration": 19,
    "start_time": "2025-06-05T12:36:24.918Z"
   },
   {
    "duration": 133,
    "start_time": "2025-06-05T12:36:24.939Z"
   },
   {
    "duration": 265,
    "start_time": "2025-06-05T12:36:25.075Z"
   },
   {
    "duration": 231,
    "start_time": "2025-06-05T12:36:25.342Z"
   },
   {
    "duration": 8,
    "start_time": "2025-06-05T12:36:25.575Z"
   },
   {
    "duration": 170,
    "start_time": "2025-06-05T12:36:25.585Z"
   },
   {
    "duration": 9,
    "start_time": "2025-06-05T12:36:25.761Z"
   },
   {
    "duration": 34,
    "start_time": "2025-06-05T12:36:25.772Z"
   },
   {
    "duration": 13,
    "start_time": "2025-06-05T12:36:25.809Z"
   },
   {
    "duration": 2229,
    "start_time": "2025-06-05T12:36:25.824Z"
   },
   {
    "duration": 195,
    "start_time": "2025-06-05T12:37:21.181Z"
   },
   {
    "duration": 224,
    "start_time": "2025-06-05T12:37:36.549Z"
   },
   {
    "duration": 305,
    "start_time": "2025-06-05T12:38:19.909Z"
   },
   {
    "duration": 211,
    "start_time": "2025-06-05T12:38:31.019Z"
   },
   {
    "duration": 200,
    "start_time": "2025-06-05T12:39:27.712Z"
   },
   {
    "duration": 353,
    "start_time": "2025-06-05T12:39:51.724Z"
   },
   {
    "duration": 319,
    "start_time": "2025-06-05T12:41:35.158Z"
   },
   {
    "duration": 271,
    "start_time": "2025-06-05T12:42:15.223Z"
   },
   {
    "duration": 24,
    "start_time": "2025-06-05T12:46:06.292Z"
   },
   {
    "duration": 22,
    "start_time": "2025-06-05T12:46:28.376Z"
   },
   {
    "duration": 20,
    "start_time": "2025-06-05T12:46:52.077Z"
   },
   {
    "duration": 13,
    "start_time": "2025-06-05T12:47:43.523Z"
   },
   {
    "duration": 19,
    "start_time": "2025-06-05T12:48:00.177Z"
   },
   {
    "duration": 98,
    "start_time": "2025-06-05T12:48:52.750Z"
   },
   {
    "duration": 6,
    "start_time": "2025-06-05T12:49:02.362Z"
   },
   {
    "duration": 3,
    "start_time": "2025-06-05T12:49:07.192Z"
   },
   {
    "duration": 21,
    "start_time": "2025-06-05T12:49:41.395Z"
   },
   {
    "duration": 151,
    "start_time": "2025-06-05T12:50:26.236Z"
   },
   {
    "duration": 19,
    "start_time": "2025-06-05T12:51:42.586Z"
   },
   {
    "duration": 223,
    "start_time": "2025-06-05T12:52:41.220Z"
   },
   {
    "duration": 215,
    "start_time": "2025-06-05T12:53:15.297Z"
   },
   {
    "duration": 218,
    "start_time": "2025-06-05T12:53:42.213Z"
   },
   {
    "duration": 157,
    "start_time": "2025-06-05T12:54:52.248Z"
   },
   {
    "duration": 178,
    "start_time": "2025-06-05T12:55:19.526Z"
   },
   {
    "duration": 483,
    "start_time": "2025-06-05T13:02:18.110Z"
   },
   {
    "duration": 86,
    "start_time": "2025-06-05T13:02:38.088Z"
   },
   {
    "duration": 181,
    "start_time": "2025-06-05T13:02:40.828Z"
   },
   {
    "duration": 186,
    "start_time": "2025-06-05T13:02:51.093Z"
   },
   {
    "duration": 663,
    "start_time": "2025-06-05T13:03:02.580Z"
   },
   {
    "duration": 537,
    "start_time": "2025-06-05T13:03:44.695Z"
   },
   {
    "duration": 109,
    "start_time": "2025-06-05T13:04:46.095Z"
   },
   {
    "duration": 118,
    "start_time": "2025-06-05T13:05:06.001Z"
   },
   {
    "duration": 2,
    "start_time": "2025-06-05T13:09:56.462Z"
   },
   {
    "duration": 183,
    "start_time": "2025-06-05T13:11:13.361Z"
   },
   {
    "duration": 16,
    "start_time": "2025-06-05T13:11:56.352Z"
   },
   {
    "duration": 14,
    "start_time": "2025-06-05T13:13:56.591Z"
   },
   {
    "duration": 12,
    "start_time": "2025-06-05T13:15:05.829Z"
   },
   {
    "duration": 185,
    "start_time": "2025-06-05T13:16:47.002Z"
   },
   {
    "duration": 16,
    "start_time": "2025-06-05T13:19:31.626Z"
   },
   {
    "duration": 11,
    "start_time": "2025-06-05T13:19:37.598Z"
   },
   {
    "duration": 400,
    "start_time": "2025-06-05T13:19:45.757Z"
   },
   {
    "duration": 108,
    "start_time": "2025-06-05T13:34:09.456Z"
   },
   {
    "duration": 1730,
    "start_time": "2025-06-05T13:34:18.384Z"
   },
   {
    "duration": 210,
    "start_time": "2025-06-05T13:52:01.168Z"
   },
   {
    "duration": 218,
    "start_time": "2025-06-05T13:52:08.710Z"
   },
   {
    "duration": 304,
    "start_time": "2025-06-05T13:52:51.664Z"
   },
   {
    "duration": 289,
    "start_time": "2025-06-05T13:53:27.041Z"
   },
   {
    "duration": 2354,
    "start_time": "2025-06-05T13:59:59.353Z"
   },
   {
    "duration": 1214,
    "start_time": "2025-06-05T14:00:01.710Z"
   },
   {
    "duration": 139,
    "start_time": "2025-06-05T14:00:02.925Z"
   },
   {
    "duration": 48,
    "start_time": "2025-06-05T14:00:03.066Z"
   },
   {
    "duration": 87,
    "start_time": "2025-06-05T14:00:03.116Z"
   },
   {
    "duration": 165,
    "start_time": "2025-06-05T14:00:03.204Z"
   },
   {
    "duration": 71,
    "start_time": "2025-06-05T14:00:03.371Z"
   },
   {
    "duration": 112,
    "start_time": "2025-06-05T14:00:03.443Z"
   },
   {
    "duration": 185,
    "start_time": "2025-06-05T14:00:03.556Z"
   },
   {
    "duration": 66,
    "start_time": "2025-06-05T14:00:03.743Z"
   },
   {
    "duration": 58,
    "start_time": "2025-06-05T14:00:03.811Z"
   },
   {
    "duration": 183,
    "start_time": "2025-06-05T14:00:03.870Z"
   },
   {
    "duration": 125,
    "start_time": "2025-06-05T14:00:04.055Z"
   },
   {
    "duration": 96,
    "start_time": "2025-06-05T14:00:04.182Z"
   },
   {
    "duration": 439,
    "start_time": "2025-06-05T14:00:04.280Z"
   },
   {
    "duration": 226,
    "start_time": "2025-06-05T14:00:04.721Z"
   },
   {
    "duration": 4,
    "start_time": "2025-06-05T14:00:04.948Z"
   },
   {
    "duration": 21,
    "start_time": "2025-06-05T14:00:04.953Z"
   },
   {
    "duration": 46,
    "start_time": "2025-06-05T14:00:04.975Z"
   },
   {
    "duration": 16,
    "start_time": "2025-06-05T14:00:05.023Z"
   },
   {
    "duration": 51,
    "start_time": "2025-06-05T14:00:05.041Z"
   },
   {
    "duration": 56,
    "start_time": "2025-06-05T14:00:05.093Z"
   },
   {
    "duration": 30,
    "start_time": "2025-06-05T14:00:05.150Z"
   },
   {
    "duration": 39,
    "start_time": "2025-06-05T14:00:05.182Z"
   },
   {
    "duration": 13,
    "start_time": "2025-06-05T14:00:05.223Z"
   },
   {
    "duration": 167,
    "start_time": "2025-06-05T14:00:05.238Z"
   },
   {
    "duration": 57,
    "start_time": "2025-06-05T14:00:05.407Z"
   },
   {
    "duration": 48,
    "start_time": "2025-06-05T14:00:05.469Z"
   },
   {
    "duration": 27,
    "start_time": "2025-06-05T14:00:05.519Z"
   },
   {
    "duration": 276,
    "start_time": "2025-06-05T14:00:05.547Z"
   },
   {
    "duration": 7,
    "start_time": "2025-06-05T14:00:05.824Z"
   },
   {
    "duration": 35,
    "start_time": "2025-06-05T14:00:05.832Z"
   },
   {
    "duration": 187,
    "start_time": "2025-06-05T14:00:05.868Z"
   },
   {
    "duration": 9,
    "start_time": "2025-06-05T14:00:06.057Z"
   },
   {
    "duration": 54,
    "start_time": "2025-06-05T14:00:06.068Z"
   },
   {
    "duration": 187,
    "start_time": "2025-06-05T14:00:06.123Z"
   },
   {
    "duration": 7,
    "start_time": "2025-06-05T14:00:06.311Z"
   },
   {
    "duration": 44,
    "start_time": "2025-06-05T14:00:06.319Z"
   },
   {
    "duration": 74,
    "start_time": "2025-06-05T14:00:06.365Z"
   },
   {
    "duration": 180,
    "start_time": "2025-06-05T14:00:06.440Z"
   },
   {
    "duration": 15,
    "start_time": "2025-06-05T14:00:06.622Z"
   },
   {
    "duration": 243,
    "start_time": "2025-06-05T14:00:06.639Z"
   },
   {
    "duration": 14,
    "start_time": "2025-06-05T14:00:06.884Z"
   },
   {
    "duration": 55,
    "start_time": "2025-06-05T14:00:06.899Z"
   },
   {
    "duration": 241,
    "start_time": "2025-06-05T14:00:06.955Z"
   },
   {
    "duration": 12,
    "start_time": "2025-06-05T14:00:07.198Z"
   },
   {
    "duration": 36,
    "start_time": "2025-06-05T14:00:07.212Z"
   },
   {
    "duration": 508,
    "start_time": "2025-06-05T14:00:07.249Z"
   },
   {
    "duration": 129,
    "start_time": "2025-06-05T14:00:07.761Z"
   },
   {
    "duration": 1609,
    "start_time": "2025-06-05T14:00:07.891Z"
   },
   {
    "duration": 11,
    "start_time": "2025-06-05T14:00:09.501Z"
   },
   {
    "duration": 269,
    "start_time": "2025-06-05T14:00:09.514Z"
   },
   {
    "duration": 248,
    "start_time": "2025-06-05T14:00:09.784Z"
   },
   {
    "duration": 7,
    "start_time": "2025-06-05T14:00:10.034Z"
   },
   {
    "duration": 42,
    "start_time": "2025-06-05T14:00:10.043Z"
   },
   {
    "duration": 105,
    "start_time": "2025-06-05T14:00:10.087Z"
   },
   {
    "duration": 142,
    "start_time": "2025-06-05T14:00:10.194Z"
   },
   {
    "duration": 180,
    "start_time": "2025-06-05T14:00:10.338Z"
   },
   {
    "duration": 707,
    "start_time": "2025-06-05T14:00:10.520Z"
   },
   {
    "duration": 179,
    "start_time": "2025-06-05T14:00:11.229Z"
   },
   {
    "duration": 289,
    "start_time": "2025-06-05T14:00:11.410Z"
   },
   {
    "duration": 6,
    "start_time": "2025-06-05T14:00:11.701Z"
   },
   {
    "duration": 68,
    "start_time": "2025-06-05T14:00:11.709Z"
   },
   {
    "duration": 273,
    "start_time": "2025-06-05T14:00:11.779Z"
   },
   {
    "duration": 13,
    "start_time": "2025-06-05T14:00:12.054Z"
   },
   {
    "duration": 227,
    "start_time": "2025-06-05T14:00:12.068Z"
   },
   {
    "duration": 3,
    "start_time": "2025-06-05T14:00:12.297Z"
   },
   {
    "duration": 34,
    "start_time": "2025-06-05T14:00:12.301Z"
   },
   {
    "duration": 33,
    "start_time": "2025-06-05T14:00:12.337Z"
   },
   {
    "duration": 203,
    "start_time": "2025-06-05T14:00:12.371Z"
   },
   {
    "duration": 196,
    "start_time": "2025-06-05T14:00:12.576Z"
   },
   {
    "duration": 105,
    "start_time": "2025-06-05T14:00:12.774Z"
   },
   {
    "duration": 0,
    "start_time": "2025-06-05T14:00:12.880Z"
   },
   {
    "duration": 0,
    "start_time": "2025-06-05T14:00:12.882Z"
   },
   {
    "duration": 0,
    "start_time": "2025-06-05T14:00:12.883Z"
   },
   {
    "duration": 0,
    "start_time": "2025-06-05T14:00:12.883Z"
   },
   {
    "duration": 0,
    "start_time": "2025-06-05T14:00:12.885Z"
   },
   {
    "duration": 0,
    "start_time": "2025-06-05T14:00:12.886Z"
   },
   {
    "duration": 0,
    "start_time": "2025-06-05T14:00:12.887Z"
   },
   {
    "duration": 0,
    "start_time": "2025-06-05T14:00:12.888Z"
   },
   {
    "duration": 2323,
    "start_time": "2025-06-05T14:01:09.027Z"
   },
   {
    "duration": 1163,
    "start_time": "2025-06-05T14:01:11.352Z"
   },
   {
    "duration": 110,
    "start_time": "2025-06-05T14:01:12.516Z"
   },
   {
    "duration": 320,
    "start_time": "2025-06-05T14:01:12.628Z"
   },
   {
    "duration": 26,
    "start_time": "2025-06-05T14:01:12.949Z"
   },
   {
    "duration": 17,
    "start_time": "2025-06-05T14:01:12.977Z"
   },
   {
    "duration": 13,
    "start_time": "2025-06-05T14:01:12.996Z"
   },
   {
    "duration": 17,
    "start_time": "2025-06-05T14:01:13.011Z"
   },
   {
    "duration": 2,
    "start_time": "2025-06-05T14:01:13.030Z"
   },
   {
    "duration": 3,
    "start_time": "2025-06-05T14:01:13.035Z"
   },
   {
    "duration": 7,
    "start_time": "2025-06-05T14:01:13.060Z"
   },
   {
    "duration": 5,
    "start_time": "2025-06-05T14:01:13.068Z"
   },
   {
    "duration": 10,
    "start_time": "2025-06-05T14:01:13.074Z"
   },
   {
    "duration": 10,
    "start_time": "2025-06-05T14:01:13.085Z"
   },
   {
    "duration": 20,
    "start_time": "2025-06-05T14:01:13.096Z"
   },
   {
    "duration": 71,
    "start_time": "2025-06-05T14:01:13.118Z"
   },
   {
    "duration": 4,
    "start_time": "2025-06-05T14:01:13.190Z"
   },
   {
    "duration": 74,
    "start_time": "2025-06-05T14:01:13.195Z"
   },
   {
    "duration": 119,
    "start_time": "2025-06-05T14:01:13.270Z"
   },
   {
    "duration": 25,
    "start_time": "2025-06-05T14:01:13.391Z"
   },
   {
    "duration": 28,
    "start_time": "2025-06-05T14:01:13.417Z"
   },
   {
    "duration": 38,
    "start_time": "2025-06-05T14:01:13.446Z"
   },
   {
    "duration": 15,
    "start_time": "2025-06-05T14:01:13.485Z"
   },
   {
    "duration": 39,
    "start_time": "2025-06-05T14:01:13.501Z"
   },
   {
    "duration": 8,
    "start_time": "2025-06-05T14:01:13.541Z"
   },
   {
    "duration": 10,
    "start_time": "2025-06-05T14:01:13.550Z"
   },
   {
    "duration": 94,
    "start_time": "2025-06-05T14:01:13.562Z"
   },
   {
    "duration": 53,
    "start_time": "2025-06-05T14:01:13.660Z"
   },
   {
    "duration": 50,
    "start_time": "2025-06-05T14:01:13.715Z"
   },
   {
    "duration": 224,
    "start_time": "2025-06-05T14:01:13.766Z"
   },
   {
    "duration": 6,
    "start_time": "2025-06-05T14:01:13.992Z"
   },
   {
    "duration": 38,
    "start_time": "2025-06-05T14:01:14.000Z"
   },
   {
    "duration": 177,
    "start_time": "2025-06-05T14:01:14.040Z"
   },
   {
    "duration": 9,
    "start_time": "2025-06-05T14:01:14.219Z"
   },
   {
    "duration": 88,
    "start_time": "2025-06-05T14:01:14.229Z"
   },
   {
    "duration": 166,
    "start_time": "2025-06-05T14:01:14.319Z"
   },
   {
    "duration": 6,
    "start_time": "2025-06-05T14:01:14.487Z"
   },
   {
    "duration": 2,
    "start_time": "2025-06-05T14:01:14.495Z"
   },
   {
    "duration": 20,
    "start_time": "2025-06-05T14:01:14.498Z"
   },
   {
    "duration": 126,
    "start_time": "2025-06-05T14:01:14.519Z"
   },
   {
    "duration": 21,
    "start_time": "2025-06-05T14:01:14.647Z"
   },
   {
    "duration": 212,
    "start_time": "2025-06-05T14:01:14.670Z"
   },
   {
    "duration": 13,
    "start_time": "2025-06-05T14:01:14.884Z"
   },
   {
    "duration": 37,
    "start_time": "2025-06-05T14:01:14.898Z"
   },
   {
    "duration": 231,
    "start_time": "2025-06-05T14:01:14.937Z"
   },
   {
    "duration": 12,
    "start_time": "2025-06-05T14:01:15.170Z"
   },
   {
    "duration": 29,
    "start_time": "2025-06-05T14:01:15.184Z"
   },
   {
    "duration": 370,
    "start_time": "2025-06-05T14:01:15.215Z"
   },
   {
    "duration": 113,
    "start_time": "2025-06-05T14:01:15.587Z"
   },
   {
    "duration": 1611,
    "start_time": "2025-06-05T14:01:15.701Z"
   },
   {
    "duration": 12,
    "start_time": "2025-06-05T14:01:17.314Z"
   },
   {
    "duration": 306,
    "start_time": "2025-06-05T14:01:17.328Z"
   },
   {
    "duration": 240,
    "start_time": "2025-06-05T14:01:17.635Z"
   },
   {
    "duration": 8,
    "start_time": "2025-06-05T14:01:17.876Z"
   },
   {
    "duration": 6,
    "start_time": "2025-06-05T14:01:17.885Z"
   },
   {
    "duration": 30,
    "start_time": "2025-06-05T14:01:17.892Z"
   },
   {
    "duration": 170,
    "start_time": "2025-06-05T14:01:17.923Z"
   },
   {
    "duration": 180,
    "start_time": "2025-06-05T14:01:18.094Z"
   },
   {
    "duration": 745,
    "start_time": "2025-06-05T14:01:18.276Z"
   },
   {
    "duration": 196,
    "start_time": "2025-06-05T14:01:19.023Z"
   },
   {
    "duration": 325,
    "start_time": "2025-06-05T14:01:19.221Z"
   },
   {
    "duration": 14,
    "start_time": "2025-06-05T14:01:19.548Z"
   },
   {
    "duration": 6,
    "start_time": "2025-06-05T14:01:19.564Z"
   },
   {
    "duration": 378,
    "start_time": "2025-06-05T14:01:19.572Z"
   },
   {
    "duration": 14,
    "start_time": "2025-06-05T14:01:19.952Z"
   },
   {
    "duration": 325,
    "start_time": "2025-06-05T14:01:19.968Z"
   },
   {
    "duration": 3,
    "start_time": "2025-06-05T14:01:20.295Z"
   },
   {
    "duration": 15,
    "start_time": "2025-06-05T14:01:20.300Z"
   },
   {
    "duration": 53,
    "start_time": "2025-06-05T14:01:20.318Z"
   },
   {
    "duration": 210,
    "start_time": "2025-06-05T14:01:20.373Z"
   },
   {
    "duration": 211,
    "start_time": "2025-06-05T14:01:20.584Z"
   },
   {
    "duration": 7,
    "start_time": "2025-06-05T14:01:20.796Z"
   },
   {
    "duration": 292,
    "start_time": "2025-06-05T14:01:20.805Z"
   },
   {
    "duration": 9,
    "start_time": "2025-06-05T14:01:21.099Z"
   },
   {
    "duration": 600,
    "start_time": "2025-06-05T14:01:21.110Z"
   },
   {
    "duration": 114,
    "start_time": "2025-06-05T14:01:21.712Z"
   },
   {
    "duration": 17,
    "start_time": "2025-06-05T14:01:21.829Z"
   },
   {
    "duration": 49,
    "start_time": "2025-06-05T14:01:21.860Z"
   },
   {
    "duration": 1922,
    "start_time": "2025-06-05T14:01:21.911Z"
   },
   {
    "duration": 228,
    "start_time": "2025-06-05T14:01:23.836Z"
   },
   {
    "duration": 280,
    "start_time": "2025-06-05T14:04:26.563Z"
   },
   {
    "duration": 119,
    "start_time": "2025-06-05T14:04:43.534Z"
   },
   {
    "duration": 123,
    "start_time": "2025-06-05T14:04:57.878Z"
   },
   {
    "duration": 163,
    "start_time": "2025-06-05T14:05:12.915Z"
   },
   {
    "duration": 179,
    "start_time": "2025-06-05T14:05:25.638Z"
   },
   {
    "duration": 138,
    "start_time": "2025-06-05T14:05:41.858Z"
   },
   {
    "duration": 2337,
    "start_time": "2025-06-05T14:05:52.565Z"
   },
   {
    "duration": 1200,
    "start_time": "2025-06-05T14:05:54.904Z"
   },
   {
    "duration": 136,
    "start_time": "2025-06-05T14:05:56.105Z"
   },
   {
    "duration": 67,
    "start_time": "2025-06-05T14:05:56.243Z"
   },
   {
    "duration": 24,
    "start_time": "2025-06-05T14:05:56.312Z"
   },
   {
    "duration": 20,
    "start_time": "2025-06-05T14:05:56.338Z"
   },
   {
    "duration": 12,
    "start_time": "2025-06-05T14:05:56.359Z"
   },
   {
    "duration": 14,
    "start_time": "2025-06-05T14:05:56.372Z"
   },
   {
    "duration": 3,
    "start_time": "2025-06-05T14:05:56.387Z"
   },
   {
    "duration": 7,
    "start_time": "2025-06-05T14:05:56.392Z"
   },
   {
    "duration": 10,
    "start_time": "2025-06-05T14:05:56.400Z"
   },
   {
    "duration": 10,
    "start_time": "2025-06-05T14:05:56.411Z"
   },
   {
    "duration": 6,
    "start_time": "2025-06-05T14:05:56.422Z"
   },
   {
    "duration": 9,
    "start_time": "2025-06-05T14:05:56.429Z"
   },
   {
    "duration": 27,
    "start_time": "2025-06-05T14:05:56.440Z"
   },
   {
    "duration": 59,
    "start_time": "2025-06-05T14:05:56.468Z"
   },
   {
    "duration": 4,
    "start_time": "2025-06-05T14:05:56.528Z"
   },
   {
    "duration": 11,
    "start_time": "2025-06-05T14:05:56.533Z"
   },
   {
    "duration": 23,
    "start_time": "2025-06-05T14:05:56.561Z"
   },
   {
    "duration": 11,
    "start_time": "2025-06-05T14:05:56.585Z"
   },
   {
    "duration": 25,
    "start_time": "2025-06-05T14:05:56.597Z"
   },
   {
    "duration": 20,
    "start_time": "2025-06-05T14:05:56.623Z"
   },
   {
    "duration": 22,
    "start_time": "2025-06-05T14:05:56.645Z"
   },
   {
    "duration": 57,
    "start_time": "2025-06-05T14:05:56.668Z"
   },
   {
    "duration": 10,
    "start_time": "2025-06-05T14:05:56.727Z"
   },
   {
    "duration": 9,
    "start_time": "2025-06-05T14:05:56.739Z"
   },
   {
    "duration": 5,
    "start_time": "2025-06-05T14:05:56.752Z"
   },
   {
    "duration": 11,
    "start_time": "2025-06-05T14:05:56.761Z"
   },
   {
    "duration": 8,
    "start_time": "2025-06-05T14:05:56.773Z"
   },
   {
    "duration": 219,
    "start_time": "2025-06-05T14:05:56.783Z"
   },
   {
    "duration": 7,
    "start_time": "2025-06-05T14:05:57.004Z"
   },
   {
    "duration": 7,
    "start_time": "2025-06-05T14:05:57.012Z"
   },
   {
    "duration": 201,
    "start_time": "2025-06-05T14:05:57.020Z"
   },
   {
    "duration": 9,
    "start_time": "2025-06-05T14:05:57.222Z"
   },
   {
    "duration": 19,
    "start_time": "2025-06-05T14:05:57.233Z"
   },
   {
    "duration": 154,
    "start_time": "2025-06-05T14:05:57.253Z"
   },
   {
    "duration": 6,
    "start_time": "2025-06-05T14:05:57.409Z"
   },
   {
    "duration": 42,
    "start_time": "2025-06-05T14:05:57.416Z"
   },
   {
    "duration": 16,
    "start_time": "2025-06-05T14:05:57.464Z"
   },
   {
    "duration": 132,
    "start_time": "2025-06-05T14:05:57.483Z"
   },
   {
    "duration": 17,
    "start_time": "2025-06-05T14:05:57.617Z"
   },
   {
    "duration": 234,
    "start_time": "2025-06-05T14:05:57.635Z"
   },
   {
    "duration": 13,
    "start_time": "2025-06-05T14:05:57.871Z"
   },
   {
    "duration": 18,
    "start_time": "2025-06-05T14:05:57.885Z"
   },
   {
    "duration": 243,
    "start_time": "2025-06-05T14:05:57.904Z"
   },
   {
    "duration": 17,
    "start_time": "2025-06-05T14:05:58.148Z"
   },
   {
    "duration": 14,
    "start_time": "2025-06-05T14:05:58.166Z"
   },
   {
    "duration": 357,
    "start_time": "2025-06-05T14:05:58.181Z"
   },
   {
    "duration": 111,
    "start_time": "2025-06-05T14:05:58.539Z"
   },
   {
    "duration": 1625,
    "start_time": "2025-06-05T14:05:58.652Z"
   },
   {
    "duration": 11,
    "start_time": "2025-06-05T14:06:00.278Z"
   },
   {
    "duration": 331,
    "start_time": "2025-06-05T14:06:00.290Z"
   },
   {
    "duration": 237,
    "start_time": "2025-06-05T14:06:00.623Z"
   },
   {
    "duration": 8,
    "start_time": "2025-06-05T14:06:00.862Z"
   },
   {
    "duration": 46,
    "start_time": "2025-06-05T14:06:00.871Z"
   },
   {
    "duration": 47,
    "start_time": "2025-06-05T14:06:00.918Z"
   },
   {
    "duration": 146,
    "start_time": "2025-06-05T14:06:00.967Z"
   },
   {
    "duration": 177,
    "start_time": "2025-06-05T14:06:01.114Z"
   },
   {
    "duration": 720,
    "start_time": "2025-06-05T14:06:01.292Z"
   },
   {
    "duration": 189,
    "start_time": "2025-06-05T14:06:02.014Z"
   },
   {
    "duration": 284,
    "start_time": "2025-06-05T14:06:02.205Z"
   },
   {
    "duration": 6,
    "start_time": "2025-06-05T14:06:02.491Z"
   },
   {
    "duration": 45,
    "start_time": "2025-06-05T14:06:02.499Z"
   },
   {
    "duration": 338,
    "start_time": "2025-06-05T14:06:02.546Z"
   },
   {
    "duration": 6,
    "start_time": "2025-06-05T14:06:02.885Z"
   },
   {
    "duration": 271,
    "start_time": "2025-06-05T14:06:02.893Z"
   },
   {
    "duration": 3,
    "start_time": "2025-06-05T14:06:03.165Z"
   },
   {
    "duration": 55,
    "start_time": "2025-06-05T14:06:03.169Z"
   },
   {
    "duration": 27,
    "start_time": "2025-06-05T14:06:03.225Z"
   },
   {
    "duration": 426,
    "start_time": "2025-06-05T14:06:03.253Z"
   },
   {
    "duration": 293,
    "start_time": "2025-06-05T14:06:03.680Z"
   },
   {
    "duration": 6,
    "start_time": "2025-06-05T14:06:03.974Z"
   },
   {
    "duration": 221,
    "start_time": "2025-06-05T14:06:03.982Z"
   },
   {
    "duration": 7,
    "start_time": "2025-06-05T14:06:04.205Z"
   },
   {
    "duration": 614,
    "start_time": "2025-06-05T14:06:04.214Z"
   },
   {
    "duration": 112,
    "start_time": "2025-06-05T14:06:04.829Z"
   },
   {
    "duration": 23,
    "start_time": "2025-06-05T14:06:04.942Z"
   },
   {
    "duration": 10,
    "start_time": "2025-06-05T14:06:04.966Z"
   },
   {
    "duration": 1924,
    "start_time": "2025-06-05T14:06:04.977Z"
   },
   {
    "duration": 218,
    "start_time": "2025-06-05T14:06:06.903Z"
   },
   {
    "duration": 2266,
    "start_time": "2025-06-05T22:56:27.560Z"
   },
   {
    "duration": 1206,
    "start_time": "2025-06-05T22:56:29.828Z"
   },
   {
    "duration": 138,
    "start_time": "2025-06-05T22:56:31.036Z"
   },
   {
    "duration": 282,
    "start_time": "2025-06-05T22:56:31.176Z"
   },
   {
    "duration": 25,
    "start_time": "2025-06-05T22:56:31.460Z"
   },
   {
    "duration": 35,
    "start_time": "2025-06-05T22:56:31.486Z"
   },
   {
    "duration": 162,
    "start_time": "2025-06-05T22:56:31.522Z"
   },
   {
    "duration": 318,
    "start_time": "2025-06-05T22:56:31.686Z"
   },
   {
    "duration": 37,
    "start_time": "2025-06-05T22:56:32.005Z"
   },
   {
    "duration": 30,
    "start_time": "2025-06-05T22:56:32.044Z"
   },
   {
    "duration": 40,
    "start_time": "2025-06-05T22:56:32.075Z"
   },
   {
    "duration": 21,
    "start_time": "2025-06-05T22:56:32.116Z"
   },
   {
    "duration": 33,
    "start_time": "2025-06-05T22:56:32.138Z"
   },
   {
    "duration": 23,
    "start_time": "2025-06-05T22:56:32.172Z"
   },
   {
    "duration": 62,
    "start_time": "2025-06-05T22:56:32.196Z"
   },
   {
    "duration": 65,
    "start_time": "2025-06-05T22:56:32.259Z"
   },
   {
    "duration": 4,
    "start_time": "2025-06-05T22:56:32.325Z"
   },
   {
    "duration": 11,
    "start_time": "2025-06-05T22:56:32.331Z"
   },
   {
    "duration": 47,
    "start_time": "2025-06-05T22:56:32.343Z"
   },
   {
    "duration": 12,
    "start_time": "2025-06-05T22:56:32.392Z"
   },
   {
    "duration": 27,
    "start_time": "2025-06-05T22:56:32.405Z"
   },
   {
    "duration": 21,
    "start_time": "2025-06-05T22:56:32.433Z"
   },
   {
    "duration": 13,
    "start_time": "2025-06-05T22:56:32.456Z"
   },
   {
    "duration": 71,
    "start_time": "2025-06-05T22:56:32.471Z"
   },
   {
    "duration": 54,
    "start_time": "2025-06-05T22:56:32.544Z"
   },
   {
    "duration": 56,
    "start_time": "2025-06-05T22:56:32.600Z"
   },
   {
    "duration": 39,
    "start_time": "2025-06-05T22:56:32.658Z"
   },
   {
    "duration": 24,
    "start_time": "2025-06-05T22:56:32.702Z"
   },
   {
    "duration": 7,
    "start_time": "2025-06-05T22:56:32.728Z"
   },
   {
    "duration": 205,
    "start_time": "2025-06-05T22:56:32.737Z"
   },
   {
    "duration": 9,
    "start_time": "2025-06-05T22:56:32.944Z"
   },
   {
    "duration": 24,
    "start_time": "2025-06-05T22:56:32.960Z"
   },
   {
    "duration": 205,
    "start_time": "2025-06-05T22:56:32.986Z"
   },
   {
    "duration": 9,
    "start_time": "2025-06-05T22:56:33.193Z"
   },
   {
    "duration": 63,
    "start_time": "2025-06-05T22:56:33.204Z"
   },
   {
    "duration": 192,
    "start_time": "2025-06-05T22:56:33.269Z"
   },
   {
    "duration": 7,
    "start_time": "2025-06-05T22:56:33.462Z"
   },
   {
    "duration": 17,
    "start_time": "2025-06-05T22:56:33.471Z"
   },
   {
    "duration": 27,
    "start_time": "2025-06-05T22:56:33.490Z"
   },
   {
    "duration": 356,
    "start_time": "2025-06-05T22:56:33.518Z"
   },
   {
    "duration": 198,
    "start_time": "2025-06-05T22:56:33.875Z"
   },
   {
    "duration": 197,
    "start_time": "2025-06-05T22:56:34.075Z"
   },
   {
    "duration": 13,
    "start_time": "2025-06-05T22:56:34.274Z"
   },
   {
    "duration": 59,
    "start_time": "2025-06-05T22:56:34.288Z"
   },
   {
    "duration": 245,
    "start_time": "2025-06-05T22:56:34.349Z"
   },
   {
    "duration": 13,
    "start_time": "2025-06-05T22:56:34.595Z"
   },
   {
    "duration": 107,
    "start_time": "2025-06-05T22:56:34.610Z"
   },
   {
    "duration": 363,
    "start_time": "2025-06-05T22:56:34.718Z"
   },
   {
    "duration": 115,
    "start_time": "2025-06-05T22:56:35.082Z"
   },
   {
    "duration": 1597,
    "start_time": "2025-06-05T22:56:35.199Z"
   },
   {
    "duration": 11,
    "start_time": "2025-06-05T22:56:36.798Z"
   },
   {
    "duration": 302,
    "start_time": "2025-06-05T22:56:36.810Z"
   },
   {
    "duration": 234,
    "start_time": "2025-06-05T22:56:37.114Z"
   },
   {
    "duration": 12,
    "start_time": "2025-06-05T22:56:37.350Z"
   },
   {
    "duration": 62,
    "start_time": "2025-06-05T22:56:37.364Z"
   },
   {
    "duration": 82,
    "start_time": "2025-06-05T22:56:37.427Z"
   },
   {
    "duration": 143,
    "start_time": "2025-06-05T22:56:37.510Z"
   },
   {
    "duration": 231,
    "start_time": "2025-06-05T22:56:37.654Z"
   },
   {
    "duration": 859,
    "start_time": "2025-06-05T22:56:37.886Z"
   },
   {
    "duration": 178,
    "start_time": "2025-06-05T22:56:38.746Z"
   },
   {
    "duration": 311,
    "start_time": "2025-06-05T22:56:38.926Z"
   },
   {
    "duration": 7,
    "start_time": "2025-06-05T22:56:39.239Z"
   },
   {
    "duration": 27,
    "start_time": "2025-06-05T22:56:39.247Z"
   },
   {
    "duration": 286,
    "start_time": "2025-06-05T22:56:39.276Z"
   },
   {
    "duration": 7,
    "start_time": "2025-06-05T22:56:39.564Z"
   },
   {
    "duration": 230,
    "start_time": "2025-06-05T22:56:39.572Z"
   },
   {
    "duration": 22,
    "start_time": "2025-06-05T22:56:39.804Z"
   },
   {
    "duration": 219,
    "start_time": "2025-06-05T22:56:39.828Z"
   },
   {
    "duration": 31,
    "start_time": "2025-06-05T22:56:40.049Z"
   },
   {
    "duration": 196,
    "start_time": "2025-06-05T22:56:40.081Z"
   },
   {
    "duration": 196,
    "start_time": "2025-06-05T22:56:40.279Z"
   },
   {
    "duration": 6,
    "start_time": "2025-06-05T22:56:40.476Z"
   },
   {
    "duration": 149,
    "start_time": "2025-06-05T22:56:40.484Z"
   },
   {
    "duration": 7,
    "start_time": "2025-06-05T22:56:40.635Z"
   },
   {
    "duration": 680,
    "start_time": "2025-06-05T22:56:40.644Z"
   },
   {
    "duration": 113,
    "start_time": "2025-06-05T22:56:41.325Z"
   },
   {
    "duration": 21,
    "start_time": "2025-06-05T22:56:41.439Z"
   },
   {
    "duration": 10,
    "start_time": "2025-06-05T22:56:41.462Z"
   },
   {
    "duration": 1835,
    "start_time": "2025-06-05T22:56:41.473Z"
   },
   {
    "duration": 242,
    "start_time": "2025-06-05T22:56:43.310Z"
   }
  ],
  "colab": {
   "provenance": []
  },
  "kernelspec": {
   "display_name": "Python 3",
   "language": "python",
   "name": "python3"
  },
  "language_info": {
   "codemirror_mode": {
    "name": "ipython",
    "version": 3
   },
   "file_extension": ".py",
   "mimetype": "text/x-python",
   "name": "python",
   "nbconvert_exporter": "python",
   "pygments_lexer": "ipython3",
   "version": "3.8.8"
  },
  "toc": {
   "base_numbering": 1,
   "nav_menu": {},
   "number_sections": true,
   "sideBar": true,
   "skip_h1_title": true,
   "title_cell": "Table of Contents",
   "title_sidebar": "Contents",
   "toc_cell": false,
   "toc_position": {
    "height": "calc(100% - 180px)",
    "left": "10px",
    "top": "150px",
    "width": "191.943px"
   },
   "toc_section_display": true,
   "toc_window_display": true
  }
 },
 "nbformat": 4,
 "nbformat_minor": 5
}
