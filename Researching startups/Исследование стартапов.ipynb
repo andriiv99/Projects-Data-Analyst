{
 "cells": [
  {
   "cell_type": "markdown",
   "metadata": {
    "id": "4mJbK1knrJgz"
   },
   "source": [
    "# Проект: Исследование стартапов"
   ]
  },
  {
   "cell_type": "markdown",
   "metadata": {},
   "source": [
    "Автор: Андриив Ирина  \n",
    "Дата: 10.06.2025"
   ]
  },
  {
   "cell_type": "markdown",
   "metadata": {
    "id": "P6j0r3worJg0"
   },
   "source": [
    "## Введение"
   ]
  },
  {
   "cell_type": "markdown",
   "metadata": {
    "id": "8lQtbsIUyFG6"
   },
   "source": [
    "**Цель проекта:**  \n",
    "Провести предобработку и исследовательский анализ предложенных данных для ответов на вопросы заказчика о перспективных стартапах.\n",
    "\n",
    "**Задачи:**\n",
    "1. Изучить полученные данные\n",
    "2. Провести предобработку данных  \n",
    "3. Провести исследовательский анализ данных для ответа на вопросы заказчика\n",
    "4. Подготовить общие выводы и рекомендации по итогам работы\n"
   ]
  },
  {
   "cell_type": "markdown",
   "metadata": {
    "id": "xqr6uttCrJg0"
   },
   "source": [
    "\n",
    "## Шаг 1. Знакомство с данными: загрузка и первичная предобработка\n",
    "\n",
    "Названия основных файлов, используемых в анализе:\n",
    "* acquisition.csv\n",
    "* company_and_rounds.csv\n",
    "* people.csv\n",
    "* education.csv\n",
    "* degrees.csv\n",
    "\n",
    "Опциональные датасеты:\n",
    "* fund.csv\n",
    "* investment.csv\n",
    "\n",
    "\n",
    "### 1.1. Вывод общей информации, исправление названия столбцов\n"
   ]
  },
  {
   "cell_type": "code",
   "execution_count": 1,
   "metadata": {
    "colab": {
     "base_uri": "https://localhost:8080/"
    },
    "id": "W_W4jRazrJg0",
    "outputId": "d2409aad-233f-4bb4-ec71-7da96594f9df",
    "vscode": {
     "languageId": "plaintext"
    }
   },
   "outputs": [],
   "source": [
    "# Загрузим необходимые для анализа библиотеки\n",
    "import pandas as pd\n",
    "import matplotlib.pyplot as plt\n",
    "import seaborn as sns"
   ]
  },
  {
   "cell_type": "code",
   "execution_count": 2,
   "metadata": {
    "id": "2Tm4Pk__Felf"
   },
   "outputs": [],
   "source": [
    "# Выгрузим данные датасетов\n",
    "\n",
    "acquisition = pd.read_csv(...)\n",
    "company_and_rounds = pd.read_csv(...)\n",
    "people = pd.read_csv(...)\n",
    "education = pd.read_csv(...)\n",
    "degrees = pd.read_csv(...)"
   ]
  },
  {
   "cell_type": "code",
   "execution_count": 3,
   "metadata": {},
   "outputs": [
    {
     "name": "stdout",
     "output_type": "stream",
     "text": [
      "Названия столбцов датасета acquisition:\n"
     ]
    },
    {
     "data": {
      "text/plain": [
       "Index(['id', 'acquiring_company_id', 'acquired_company_id', 'term_code',\n",
       "       'price_amount', 'acquired_at'],\n",
       "      dtype='object')"
      ]
     },
     "metadata": {},
     "output_type": "display_data"
    },
    {
     "name": "stdout",
     "output_type": "stream",
     "text": [
      "Названия столбцов датасета company_and_rounds:\n"
     ]
    },
    {
     "data": {
      "text/plain": [
       "Index(['company  ID', 'name', 'category  code', 'status', 'founded  at',\n",
       "       'closed  at', 'domain', 'network  username', 'country  code',\n",
       "       'investment  rounds', 'funding  rounds', 'funding  total', 'milestones',\n",
       "       'funding  round  id', 'company  id', 'funded  at',\n",
       "       'funding  round  type', 'raised  amount', 'pre  money  valuation',\n",
       "       'participants', 'is  first  round', 'is  last  round'],\n",
       "      dtype='object')"
      ]
     },
     "metadata": {},
     "output_type": "display_data"
    },
    {
     "name": "stdout",
     "output_type": "stream",
     "text": [
      "Названия столбцов датасета people:\n"
     ]
    },
    {
     "data": {
      "text/plain": [
       "Index(['id', 'first_name', 'last_name', 'company_id', 'network_username'], dtype='object')"
      ]
     },
     "metadata": {},
     "output_type": "display_data"
    },
    {
     "name": "stdout",
     "output_type": "stream",
     "text": [
      "Названия столбцов датасета education:\n"
     ]
    },
    {
     "data": {
      "text/plain": [
       "Index(['id', 'person_id', 'instituition', 'graduated_at'], dtype='object')"
      ]
     },
     "metadata": {},
     "output_type": "display_data"
    },
    {
     "name": "stdout",
     "output_type": "stream",
     "text": [
      "Названия столбцов датасета degrees:\n"
     ]
    },
    {
     "data": {
      "text/plain": [
       "Index(['id', 'object_id', 'degree_type', 'subject'], dtype='object')"
      ]
     },
     "metadata": {},
     "output_type": "display_data"
    }
   ],
   "source": [
    "# Проверим названия столбцов в датасетах\n",
    "# Создадим переменные с названиями датасетов и самими датасетами\n",
    "names = ['acquisition', 'company_and_rounds', 'people', 'education', 'degrees']\n",
    "datasets = [acquisition, company_and_rounds, people, education, degrees]\n",
    "# Выведем названия датасетов и соответствующие им столбцы\n",
    "for name, dataset in zip(names, datasets):\n",
    "    print(f'Названия столбцов датасета {name}:')\n",
    "    display(dataset.columns)"
   ]
  },
  {
   "cell_type": "markdown",
   "metadata": {},
   "source": [
    "Согласно полученным данным:\n",
    "- названия столбцов датасета **acquisition** соответсвуют единому стилю написания snake case  \n",
    "- названия столбцов датасета **company_and_rounds** не соответсвуют единому стилю написания snake case и требуют внесения изменений. Также важно отметить, что в датасете присутствуют 2 столбца с названием  company id.   \n",
    "- названия столбцов датасета **people** соответсвуют единому стилю написания snake case  \n",
    "- названия столбцов датасета **education** соответсвуют единому стилю написания snake case  \n",
    "- названия столбцов датасета **degrees** соответсвуют единому стилю написания snake case  "
   ]
  },
  {
   "cell_type": "code",
   "execution_count": 4,
   "metadata": {},
   "outputs": [],
   "source": [
    "# Приведем названия столбцов датасета company_and_rounds к единообрзному виду\n",
    "company_and_rounds = company_and_rounds.rename(columns = {'company  ID':'company_id', \n",
    "                                                          'category  code':'category_code', \n",
    "                                                          'founded  at':'founded_at',\n",
    "                                                          'closed  at':'closed_at', \n",
    "                                                          'network  username':'network_username', \n",
    "                                                          'country  code':'country_code',\n",
    "                                                          'investment  rounds':'investment_rounds', \n",
    "                                                          'funding  rounds':'funding_rounds', \n",
    "                                                          'funding  total':'funding_total', \n",
    "                                                          'funding  round  id':'funding_round_id', \n",
    "                                                          'company  id':'company_id_2', \n",
    "                                                          'funded  at':'funded_at',\n",
    "                                                          'funding  round  type':'funding_round_type', \n",
    "                                                          'raised  amount':'raised_amount', \n",
    "                                                          'pre  money  valuation':'pre_money_valuation',\n",
    "                                                          'is  first  round':'is_first_round', \n",
    "                                                          'is  last  round':'is_last_round'\n",
    "    \n",
    "})"
   ]
  },
  {
   "cell_type": "code",
   "execution_count": 5,
   "metadata": {
    "id": "oNqJ2qpRFebv"
   },
   "outputs": [
    {
     "name": "stdout",
     "output_type": "stream",
     "text": [
      "Инфо о датасете acquisition:\n",
      "<class 'pandas.core.frame.DataFrame'>\n",
      "RangeIndex: 9407 entries, 0 to 9406\n",
      "Data columns (total 6 columns):\n",
      " #   Column                Non-Null Count  Dtype \n",
      "---  ------                --------------  ----- \n",
      " 0   id                    9407 non-null   int64 \n",
      " 1   acquiring_company_id  9407 non-null   int64 \n",
      " 2   acquired_company_id   9407 non-null   int64 \n",
      " 3   term_code             1831 non-null   object\n",
      " 4   price_amount          9407 non-null   int64 \n",
      " 5   acquired_at           9378 non-null   object\n",
      "dtypes: int64(4), object(2)\n",
      "memory usage: 441.1+ KB\n"
     ]
    },
    {
     "data": {
      "text/html": [
       "<div>\n",
       "<style scoped>\n",
       "    .dataframe tbody tr th:only-of-type {\n",
       "        vertical-align: middle;\n",
       "    }\n",
       "\n",
       "    .dataframe tbody tr th {\n",
       "        vertical-align: top;\n",
       "    }\n",
       "\n",
       "    .dataframe thead th {\n",
       "        text-align: right;\n",
       "    }\n",
       "</style>\n",
       "<table border=\"1\" class=\"dataframe\">\n",
       "  <thead>\n",
       "    <tr style=\"text-align: right;\">\n",
       "      <th></th>\n",
       "      <th>id</th>\n",
       "      <th>acquiring_company_id</th>\n",
       "      <th>acquired_company_id</th>\n",
       "      <th>term_code</th>\n",
       "      <th>price_amount</th>\n",
       "      <th>acquired_at</th>\n",
       "    </tr>\n",
       "  </thead>\n",
       "  <tbody>\n",
       "    <tr>\n",
       "      <th>0</th>\n",
       "      <td>1</td>\n",
       "      <td>11</td>\n",
       "      <td>10</td>\n",
       "      <td>NaN</td>\n",
       "      <td>20000000</td>\n",
       "      <td>2007-05-30</td>\n",
       "    </tr>\n",
       "    <tr>\n",
       "      <th>1</th>\n",
       "      <td>7</td>\n",
       "      <td>59</td>\n",
       "      <td>72</td>\n",
       "      <td>cash</td>\n",
       "      <td>60000000</td>\n",
       "      <td>2007-07-01</td>\n",
       "    </tr>\n",
       "    <tr>\n",
       "      <th>2</th>\n",
       "      <td>8</td>\n",
       "      <td>24</td>\n",
       "      <td>132</td>\n",
       "      <td>cash</td>\n",
       "      <td>280000000</td>\n",
       "      <td>2007-05-01</td>\n",
       "    </tr>\n",
       "    <tr>\n",
       "      <th>3</th>\n",
       "      <td>9</td>\n",
       "      <td>59</td>\n",
       "      <td>155</td>\n",
       "      <td>cash</td>\n",
       "      <td>100000000</td>\n",
       "      <td>2007-06-01</td>\n",
       "    </tr>\n",
       "    <tr>\n",
       "      <th>4</th>\n",
       "      <td>10</td>\n",
       "      <td>212</td>\n",
       "      <td>215</td>\n",
       "      <td>cash</td>\n",
       "      <td>25000000</td>\n",
       "      <td>2007-07-01</td>\n",
       "    </tr>\n",
       "  </tbody>\n",
       "</table>\n",
       "</div>"
      ],
      "text/plain": [
       "   id  acquiring_company_id  acquired_company_id term_code  price_amount  \\\n",
       "0   1                    11                   10       NaN      20000000   \n",
       "1   7                    59                   72      cash      60000000   \n",
       "2   8                    24                  132      cash     280000000   \n",
       "3   9                    59                  155      cash     100000000   \n",
       "4  10                   212                  215      cash      25000000   \n",
       "\n",
       "  acquired_at  \n",
       "0  2007-05-30  \n",
       "1  2007-07-01  \n",
       "2  2007-05-01  \n",
       "3  2007-06-01  \n",
       "4  2007-07-01  "
      ]
     },
     "metadata": {},
     "output_type": "display_data"
    },
    {
     "name": "stdout",
     "output_type": "stream",
     "text": [
      "Инфо о датасете company_and_rounds:\n",
      "<class 'pandas.core.frame.DataFrame'>\n",
      "RangeIndex: 217774 entries, 0 to 217773\n",
      "Data columns (total 22 columns):\n",
      " #   Column                 Non-Null Count   Dtype  \n",
      "---  ------                 --------------   -----  \n",
      " 0   company  ID            217472 non-null  float64\n",
      " 1   name                   217472 non-null  object \n",
      " 2   category  code         143886 non-null  object \n",
      " 3   status                 217472 non-null  object \n",
      " 4   founded  at            109956 non-null  object \n",
      " 5   closed  at             3449 non-null    object \n",
      " 6   domain                 147159 non-null  object \n",
      " 7   network  username      95534 non-null   object \n",
      " 8   country  code          108607 non-null  object \n",
      " 9   investment  rounds     217472 non-null  float64\n",
      " 10  funding  rounds        217472 non-null  float64\n",
      " 11  funding  total         217472 non-null  float64\n",
      " 12  milestones             217472 non-null  float64\n",
      " 13  funding  round  id     52928 non-null   float64\n",
      " 14  company  id            52928 non-null   float64\n",
      " 15  funded  at             52680 non-null   object \n",
      " 16  funding  round  type   52928 non-null   object \n",
      " 17  raised  amount         52928 non-null   float64\n",
      " 18  pre  money  valuation  52928 non-null   float64\n",
      " 19  participants           52928 non-null   float64\n",
      " 20  is  first  round       52928 non-null   float64\n",
      " 21  is  last  round        52928 non-null   float64\n",
      "dtypes: float64(12), object(10)\n",
      "memory usage: 36.6+ MB\n"
     ]
    },
    {
     "data": {
      "text/html": [
       "<div>\n",
       "<style scoped>\n",
       "    .dataframe tbody tr th:only-of-type {\n",
       "        vertical-align: middle;\n",
       "    }\n",
       "\n",
       "    .dataframe tbody tr th {\n",
       "        vertical-align: top;\n",
       "    }\n",
       "\n",
       "    .dataframe thead th {\n",
       "        text-align: right;\n",
       "    }\n",
       "</style>\n",
       "<table border=\"1\" class=\"dataframe\">\n",
       "  <thead>\n",
       "    <tr style=\"text-align: right;\">\n",
       "      <th></th>\n",
       "      <th>company  ID</th>\n",
       "      <th>name</th>\n",
       "      <th>category  code</th>\n",
       "      <th>status</th>\n",
       "      <th>founded  at</th>\n",
       "      <th>closed  at</th>\n",
       "      <th>domain</th>\n",
       "      <th>network  username</th>\n",
       "      <th>country  code</th>\n",
       "      <th>investment  rounds</th>\n",
       "      <th>...</th>\n",
       "      <th>milestones</th>\n",
       "      <th>funding  round  id</th>\n",
       "      <th>company  id</th>\n",
       "      <th>funded  at</th>\n",
       "      <th>funding  round  type</th>\n",
       "      <th>raised  amount</th>\n",
       "      <th>pre  money  valuation</th>\n",
       "      <th>participants</th>\n",
       "      <th>is  first  round</th>\n",
       "      <th>is  last  round</th>\n",
       "    </tr>\n",
       "  </thead>\n",
       "  <tbody>\n",
       "    <tr>\n",
       "      <th>0</th>\n",
       "      <td>1.0</td>\n",
       "      <td>Wetpaint</td>\n",
       "      <td>web</td>\n",
       "      <td>operating</td>\n",
       "      <td>2005-10-17</td>\n",
       "      <td>NaN</td>\n",
       "      <td>wetpaint-inc.com</td>\n",
       "      <td>BachelrWetpaint</td>\n",
       "      <td>USA</td>\n",
       "      <td>0.0</td>\n",
       "      <td>...</td>\n",
       "      <td>5.0</td>\n",
       "      <td>888.0</td>\n",
       "      <td>1.0</td>\n",
       "      <td>2005-10-01</td>\n",
       "      <td>series-a</td>\n",
       "      <td>5250000.0</td>\n",
       "      <td>0.0</td>\n",
       "      <td>2.0</td>\n",
       "      <td>0.0</td>\n",
       "      <td>1.0</td>\n",
       "    </tr>\n",
       "    <tr>\n",
       "      <th>1</th>\n",
       "      <td>1.0</td>\n",
       "      <td>Wetpaint</td>\n",
       "      <td>web</td>\n",
       "      <td>operating</td>\n",
       "      <td>2005-10-17</td>\n",
       "      <td>NaN</td>\n",
       "      <td>wetpaint-inc.com</td>\n",
       "      <td>BachelrWetpaint</td>\n",
       "      <td>USA</td>\n",
       "      <td>0.0</td>\n",
       "      <td>...</td>\n",
       "      <td>5.0</td>\n",
       "      <td>889.0</td>\n",
       "      <td>1.0</td>\n",
       "      <td>2007-01-01</td>\n",
       "      <td>series-b</td>\n",
       "      <td>9500000.0</td>\n",
       "      <td>0.0</td>\n",
       "      <td>3.0</td>\n",
       "      <td>0.0</td>\n",
       "      <td>0.0</td>\n",
       "    </tr>\n",
       "    <tr>\n",
       "      <th>2</th>\n",
       "      <td>1.0</td>\n",
       "      <td>Wetpaint</td>\n",
       "      <td>web</td>\n",
       "      <td>operating</td>\n",
       "      <td>2005-10-17</td>\n",
       "      <td>NaN</td>\n",
       "      <td>wetpaint-inc.com</td>\n",
       "      <td>BachelrWetpaint</td>\n",
       "      <td>USA</td>\n",
       "      <td>0.0</td>\n",
       "      <td>...</td>\n",
       "      <td>5.0</td>\n",
       "      <td>2312.0</td>\n",
       "      <td>1.0</td>\n",
       "      <td>2008-05-19</td>\n",
       "      <td>series-c+</td>\n",
       "      <td>25000000.0</td>\n",
       "      <td>0.0</td>\n",
       "      <td>4.0</td>\n",
       "      <td>1.0</td>\n",
       "      <td>0.0</td>\n",
       "    </tr>\n",
       "    <tr>\n",
       "      <th>3</th>\n",
       "      <td>10.0</td>\n",
       "      <td>Flektor</td>\n",
       "      <td>games_video</td>\n",
       "      <td>acquired</td>\n",
       "      <td>NaN</td>\n",
       "      <td>NaN</td>\n",
       "      <td>flektor.com</td>\n",
       "      <td>NaN</td>\n",
       "      <td>USA</td>\n",
       "      <td>0.0</td>\n",
       "      <td>...</td>\n",
       "      <td>0.0</td>\n",
       "      <td>NaN</td>\n",
       "      <td>NaN</td>\n",
       "      <td>NaN</td>\n",
       "      <td>NaN</td>\n",
       "      <td>NaN</td>\n",
       "      <td>NaN</td>\n",
       "      <td>NaN</td>\n",
       "      <td>NaN</td>\n",
       "      <td>NaN</td>\n",
       "    </tr>\n",
       "    <tr>\n",
       "      <th>4</th>\n",
       "      <td>100.0</td>\n",
       "      <td>There</td>\n",
       "      <td>games_video</td>\n",
       "      <td>acquired</td>\n",
       "      <td>NaN</td>\n",
       "      <td>NaN</td>\n",
       "      <td>there.com</td>\n",
       "      <td>NaN</td>\n",
       "      <td>USA</td>\n",
       "      <td>0.0</td>\n",
       "      <td>...</td>\n",
       "      <td>4.0</td>\n",
       "      <td>NaN</td>\n",
       "      <td>NaN</td>\n",
       "      <td>NaN</td>\n",
       "      <td>NaN</td>\n",
       "      <td>NaN</td>\n",
       "      <td>NaN</td>\n",
       "      <td>NaN</td>\n",
       "      <td>NaN</td>\n",
       "      <td>NaN</td>\n",
       "    </tr>\n",
       "  </tbody>\n",
       "</table>\n",
       "<p>5 rows × 22 columns</p>\n",
       "</div>"
      ],
      "text/plain": [
       "   company  ID      name category  code     status founded  at closed  at  \\\n",
       "0          1.0  Wetpaint            web  operating  2005-10-17        NaN   \n",
       "1          1.0  Wetpaint            web  operating  2005-10-17        NaN   \n",
       "2          1.0  Wetpaint            web  operating  2005-10-17        NaN   \n",
       "3         10.0   Flektor    games_video   acquired         NaN        NaN   \n",
       "4        100.0     There    games_video   acquired         NaN        NaN   \n",
       "\n",
       "             domain network  username country  code  investment  rounds  ...  \\\n",
       "0  wetpaint-inc.com   BachelrWetpaint           USA                 0.0  ...   \n",
       "1  wetpaint-inc.com   BachelrWetpaint           USA                 0.0  ...   \n",
       "2  wetpaint-inc.com   BachelrWetpaint           USA                 0.0  ...   \n",
       "3       flektor.com               NaN           USA                 0.0  ...   \n",
       "4         there.com               NaN           USA                 0.0  ...   \n",
       "\n",
       "   milestones  funding  round  id  company  id  funded  at  \\\n",
       "0         5.0               888.0          1.0  2005-10-01   \n",
       "1         5.0               889.0          1.0  2007-01-01   \n",
       "2         5.0              2312.0          1.0  2008-05-19   \n",
       "3         0.0                 NaN          NaN         NaN   \n",
       "4         4.0                 NaN          NaN         NaN   \n",
       "\n",
       "   funding  round  type raised  amount pre  money  valuation  participants  \\\n",
       "0              series-a      5250000.0                   0.0           2.0   \n",
       "1              series-b      9500000.0                   0.0           3.0   \n",
       "2             series-c+     25000000.0                   0.0           4.0   \n",
       "3                   NaN            NaN                   NaN           NaN   \n",
       "4                   NaN            NaN                   NaN           NaN   \n",
       "\n",
       "   is  first  round  is  last  round  \n",
       "0               0.0              1.0  \n",
       "1               0.0              0.0  \n",
       "2               1.0              0.0  \n",
       "3               NaN              NaN  \n",
       "4               NaN              NaN  \n",
       "\n",
       "[5 rows x 22 columns]"
      ]
     },
     "metadata": {},
     "output_type": "display_data"
    },
    {
     "name": "stdout",
     "output_type": "stream",
     "text": [
      "Инфо о датасете people:\n",
      "<class 'pandas.core.frame.DataFrame'>\n",
      "RangeIndex: 226709 entries, 0 to 226708\n",
      "Data columns (total 5 columns):\n",
      " #   Column            Non-Null Count   Dtype  \n",
      "---  ------            --------------   -----  \n",
      " 0   id                226709 non-null  int64  \n",
      " 1   first_name        226704 non-null  object \n",
      " 2   last_name         226708 non-null  object \n",
      " 3   company_id        34615 non-null   float64\n",
      " 4   network_username  38867 non-null   object \n",
      "dtypes: float64(1), int64(1), object(3)\n",
      "memory usage: 8.6+ MB\n"
     ]
    },
    {
     "data": {
      "text/html": [
       "<div>\n",
       "<style scoped>\n",
       "    .dataframe tbody tr th:only-of-type {\n",
       "        vertical-align: middle;\n",
       "    }\n",
       "\n",
       "    .dataframe tbody tr th {\n",
       "        vertical-align: top;\n",
       "    }\n",
       "\n",
       "    .dataframe thead th {\n",
       "        text-align: right;\n",
       "    }\n",
       "</style>\n",
       "<table border=\"1\" class=\"dataframe\">\n",
       "  <thead>\n",
       "    <tr style=\"text-align: right;\">\n",
       "      <th></th>\n",
       "      <th>id</th>\n",
       "      <th>first_name</th>\n",
       "      <th>last_name</th>\n",
       "      <th>company_id</th>\n",
       "      <th>network_username</th>\n",
       "    </tr>\n",
       "  </thead>\n",
       "  <tbody>\n",
       "    <tr>\n",
       "      <th>0</th>\n",
       "      <td>10</td>\n",
       "      <td>Mark</td>\n",
       "      <td>Zuckerberg</td>\n",
       "      <td>5.0</td>\n",
       "      <td>NaN</td>\n",
       "    </tr>\n",
       "    <tr>\n",
       "      <th>1</th>\n",
       "      <td>100</td>\n",
       "      <td>Peter</td>\n",
       "      <td>Lester</td>\n",
       "      <td>27.0</td>\n",
       "      <td>NaN</td>\n",
       "    </tr>\n",
       "    <tr>\n",
       "      <th>2</th>\n",
       "      <td>1000</td>\n",
       "      <td>Dr. Steven</td>\n",
       "      <td>E. Saunders</td>\n",
       "      <td>292.0</td>\n",
       "      <td>NaN</td>\n",
       "    </tr>\n",
       "    <tr>\n",
       "      <th>3</th>\n",
       "      <td>10000</td>\n",
       "      <td>Neil</td>\n",
       "      <td>Capel</td>\n",
       "      <td>2526.0</td>\n",
       "      <td>NaN</td>\n",
       "    </tr>\n",
       "    <tr>\n",
       "      <th>4</th>\n",
       "      <td>100000</td>\n",
       "      <td>Sue</td>\n",
       "      <td>Pilsch</td>\n",
       "      <td>NaN</td>\n",
       "      <td>NaN</td>\n",
       "    </tr>\n",
       "  </tbody>\n",
       "</table>\n",
       "</div>"
      ],
      "text/plain": [
       "       id  first_name    last_name  company_id network_username\n",
       "0      10        Mark   Zuckerberg         5.0              NaN\n",
       "1     100       Peter       Lester        27.0              NaN\n",
       "2    1000  Dr. Steven  E. Saunders       292.0              NaN\n",
       "3   10000        Neil        Capel      2526.0              NaN\n",
       "4  100000         Sue       Pilsch         NaN              NaN"
      ]
     },
     "metadata": {},
     "output_type": "display_data"
    },
    {
     "name": "stdout",
     "output_type": "stream",
     "text": [
      "Инфо о датасете education:\n",
      "<class 'pandas.core.frame.DataFrame'>\n",
      "RangeIndex: 109610 entries, 0 to 109609\n",
      "Data columns (total 4 columns):\n",
      " #   Column        Non-Null Count   Dtype \n",
      "---  ------        --------------   ----- \n",
      " 0   id            109610 non-null  int64 \n",
      " 1   person_id     109610 non-null  int64 \n",
      " 2   instituition  109555 non-null  object\n",
      " 3   graduated_at  58054 non-null   object\n",
      "dtypes: int64(2), object(2)\n",
      "memory usage: 3.3+ MB\n"
     ]
    },
    {
     "data": {
      "text/html": [
       "<div>\n",
       "<style scoped>\n",
       "    .dataframe tbody tr th:only-of-type {\n",
       "        vertical-align: middle;\n",
       "    }\n",
       "\n",
       "    .dataframe tbody tr th {\n",
       "        vertical-align: top;\n",
       "    }\n",
       "\n",
       "    .dataframe thead th {\n",
       "        text-align: right;\n",
       "    }\n",
       "</style>\n",
       "<table border=\"1\" class=\"dataframe\">\n",
       "  <thead>\n",
       "    <tr style=\"text-align: right;\">\n",
       "      <th></th>\n",
       "      <th>id</th>\n",
       "      <th>person_id</th>\n",
       "      <th>instituition</th>\n",
       "      <th>graduated_at</th>\n",
       "    </tr>\n",
       "  </thead>\n",
       "  <tbody>\n",
       "    <tr>\n",
       "      <th>0</th>\n",
       "      <td>1</td>\n",
       "      <td>6117</td>\n",
       "      <td>NaN</td>\n",
       "      <td>NaN</td>\n",
       "    </tr>\n",
       "    <tr>\n",
       "      <th>1</th>\n",
       "      <td>2</td>\n",
       "      <td>6136</td>\n",
       "      <td>Washington University, St. Louis</td>\n",
       "      <td>1990-01-01</td>\n",
       "    </tr>\n",
       "    <tr>\n",
       "      <th>2</th>\n",
       "      <td>3</td>\n",
       "      <td>6136</td>\n",
       "      <td>Boston University</td>\n",
       "      <td>1992-01-01</td>\n",
       "    </tr>\n",
       "    <tr>\n",
       "      <th>3</th>\n",
       "      <td>4</td>\n",
       "      <td>6005</td>\n",
       "      <td>University of Greenwich</td>\n",
       "      <td>2006-01-01</td>\n",
       "    </tr>\n",
       "    <tr>\n",
       "      <th>4</th>\n",
       "      <td>5</td>\n",
       "      <td>5832</td>\n",
       "      <td>Rice University</td>\n",
       "      <td>NaN</td>\n",
       "    </tr>\n",
       "  </tbody>\n",
       "</table>\n",
       "</div>"
      ],
      "text/plain": [
       "   id  person_id                      instituition graduated_at\n",
       "0   1       6117                               NaN          NaN\n",
       "1   2       6136  Washington University, St. Louis   1990-01-01\n",
       "2   3       6136                 Boston University   1992-01-01\n",
       "3   4       6005           University of Greenwich   2006-01-01\n",
       "4   5       5832                   Rice University          NaN"
      ]
     },
     "metadata": {},
     "output_type": "display_data"
    },
    {
     "name": "stdout",
     "output_type": "stream",
     "text": [
      "Инфо о датасете degrees:\n",
      "<class 'pandas.core.frame.DataFrame'>\n",
      "RangeIndex: 109610 entries, 0 to 109609\n",
      "Data columns (total 4 columns):\n",
      " #   Column       Non-Null Count   Dtype \n",
      "---  ------       --------------   ----- \n",
      " 0   id           109610 non-null  int64 \n",
      " 1   object_id    109610 non-null  object\n",
      " 2   degree_type  98392 non-null   object\n",
      " 3   subject      81298 non-null   object\n",
      "dtypes: int64(1), object(3)\n",
      "memory usage: 3.3+ MB\n"
     ]
    },
    {
     "data": {
      "text/html": [
       "<div>\n",
       "<style scoped>\n",
       "    .dataframe tbody tr th:only-of-type {\n",
       "        vertical-align: middle;\n",
       "    }\n",
       "\n",
       "    .dataframe tbody tr th {\n",
       "        vertical-align: top;\n",
       "    }\n",
       "\n",
       "    .dataframe thead th {\n",
       "        text-align: right;\n",
       "    }\n",
       "</style>\n",
       "<table border=\"1\" class=\"dataframe\">\n",
       "  <thead>\n",
       "    <tr style=\"text-align: right;\">\n",
       "      <th></th>\n",
       "      <th>id</th>\n",
       "      <th>object_id</th>\n",
       "      <th>degree_type</th>\n",
       "      <th>subject</th>\n",
       "    </tr>\n",
       "  </thead>\n",
       "  <tbody>\n",
       "    <tr>\n",
       "      <th>0</th>\n",
       "      <td>1</td>\n",
       "      <td>p:6117</td>\n",
       "      <td>MBA</td>\n",
       "      <td>NaN</td>\n",
       "    </tr>\n",
       "    <tr>\n",
       "      <th>1</th>\n",
       "      <td>2</td>\n",
       "      <td>p:6136</td>\n",
       "      <td>BA</td>\n",
       "      <td>English, French</td>\n",
       "    </tr>\n",
       "    <tr>\n",
       "      <th>2</th>\n",
       "      <td>3</td>\n",
       "      <td>p:6136</td>\n",
       "      <td>MS</td>\n",
       "      <td>Mass Communication</td>\n",
       "    </tr>\n",
       "    <tr>\n",
       "      <th>3</th>\n",
       "      <td>4</td>\n",
       "      <td>p:6005</td>\n",
       "      <td>MS</td>\n",
       "      <td>Internet Technology</td>\n",
       "    </tr>\n",
       "    <tr>\n",
       "      <th>4</th>\n",
       "      <td>5</td>\n",
       "      <td>p:5832</td>\n",
       "      <td>BCS</td>\n",
       "      <td>Computer Science, Psychology</td>\n",
       "    </tr>\n",
       "  </tbody>\n",
       "</table>\n",
       "</div>"
      ],
      "text/plain": [
       "   id object_id degree_type                       subject\n",
       "0   1    p:6117         MBA                           NaN\n",
       "1   2    p:6136          BA               English, French\n",
       "2   3    p:6136          MS            Mass Communication\n",
       "3   4    p:6005          MS           Internet Technology\n",
       "4   5    p:5832         BCS  Computer Science, Psychology"
      ]
     },
     "metadata": {},
     "output_type": "display_data"
    }
   ],
   "source": [
    "# Выведем инфо о каждом датасете и первые 5 строк\n",
    "for name, dataset in zip(names, datasets):\n",
    "    print(f'Инфо о датасете {name}:')\n",
    "    dataset.info()\n",
    "    display(dataset.head())"
   ]
  },
  {
   "cell_type": "markdown",
   "metadata": {},
   "source": [
    "Согласно первичному анализу данных:  \n",
    "- датасет **acquisition** включает 9407 строк и 6 столбцов. Пропущенные значения присутстуют в столбцах term_code, acquired_at. Тип данных столбца acquired_at (object) следует поменять на datetime64  \n",
    "- датасет **company_and_rounds** включает 217774 строк и 22 столбца. Пропущенные значения присутствуют в каждом столбце датасета. Типы данных столбцов founded at,\tclosed at, funded at следует поменять на datetime64  \n",
    "- датасет **people** включает 226709 строк и 5 столбцов. Пропущенные значения присутствуют в столбцах first_name, last_name, company_id, network_username. Типы данных соответствуют.  \n",
    "- датасет **education** включает 109610 строк и 4 столбца. Пропущенные значения присутствуют в столбцах instituition,  graduated_at. Тип данных столбца  graduated_at следует заменить на  datetime64.  \n",
    "- датасет **degrees** включает 109610 строк и 4 столбца. Пропущенные значения пристутствуют в столбцах degree_type, subject. Типы данных соответствуют  "
   ]
  },
  {
   "cell_type": "markdown",
   "metadata": {
    "id": "mg2gEwh0rJg0"
   },
   "source": [
    "### 1.2. Смена типов и анализ пропусков\n",
    "\n",
    "- Обработайте типы данных в столбцах, которые хранят значения даты и времени, если это необходимо.\n",
    "- Оцените полноту данных — сделайте предварительный вывод, достаточно ли данных для решения задач проекта."
   ]
  },
  {
   "cell_type": "code",
   "execution_count": 6,
   "metadata": {
    "id": "FsL0A8RBrJg1",
    "vscode": {
     "languageId": "plaintext"
    }
   },
   "outputs": [
    {
     "data": {
      "text/plain": [
       "id                               int64\n",
       "acquiring_company_id             int64\n",
       "acquired_company_id              int64\n",
       "term_code                       object\n",
       "price_amount                     int64\n",
       "acquired_at             datetime64[ns]\n",
       "dtype: object"
      ]
     },
     "execution_count": 6,
     "metadata": {},
     "output_type": "execute_result"
    }
   ],
   "source": [
    "# Преобразуем тип данных в столбце acquired_at датасета acquisition к типу datetime64\n",
    "acquisition['acquired_at'] = pd.to_datetime(acquisition['acquired_at'])\n",
    "acquisition.dtypes"
   ]
  },
  {
   "cell_type": "code",
   "execution_count": 7,
   "metadata": {},
   "outputs": [
    {
     "data": {
      "text/plain": [
       "company_id                    float64\n",
       "name                           object\n",
       "category_code                  object\n",
       "status                         object\n",
       "founded_at             datetime64[ns]\n",
       "closed_at              datetime64[ns]\n",
       "domain                         object\n",
       "network_username               object\n",
       "country_code                   object\n",
       "investment_rounds             float64\n",
       "funding_rounds                float64\n",
       "funding_total                 float64\n",
       "milestones                    float64\n",
       "funding_round_id              float64\n",
       "company_id_2                  float64\n",
       "funded_at              datetime64[ns]\n",
       "funding_round_type             object\n",
       "raised_amount                 float64\n",
       "pre_money_valuation           float64\n",
       "participants                  float64\n",
       "is_first_round                float64\n",
       "is_last_round                 float64\n",
       "dtype: object"
      ]
     },
     "execution_count": 7,
     "metadata": {},
     "output_type": "execute_result"
    }
   ],
   "source": [
    "# Преобразуем тип данных в столбцах founded_at, closed_at, funded_at датасета company_and_rounds к типу datetime64\n",
    "# Сохраним назвния столбцов для преобразования в переменную\n",
    "date_columns = ['founded_at', 'closed_at', 'funded_at']\n",
    "\n",
    "# Создадим цикл для преобразования\n",
    "for col in date_columns:\n",
    "    company_and_rounds[col] = pd.to_datetime(company_and_rounds[col])\n",
    "\n",
    "# Проверим преобразование типов\n",
    "company_and_rounds.dtypes"
   ]
  },
  {
   "cell_type": "code",
   "execution_count": 8,
   "metadata": {},
   "outputs": [
    {
     "data": {
      "text/plain": [
       "id                       int64\n",
       "person_id                int64\n",
       "instituition            object\n",
       "graduated_at    datetime64[ns]\n",
       "dtype: object"
      ]
     },
     "execution_count": 8,
     "metadata": {},
     "output_type": "execute_result"
    }
   ],
   "source": [
    "# Преобразуем тип данных в столбце graduated_at датасета education к типу datetime64\n",
    "education['graduated_at'] = pd.to_datetime(education['graduated_at'])\n",
    "education.dtypes"
   ]
  },
  {
   "cell_type": "code",
   "execution_count": 9,
   "metadata": {
    "id": "46VskrGyFeJ-"
   },
   "outputs": [
    {
     "name": "stdout",
     "output_type": "stream",
     "text": [
      "Датасет acquisition:\n",
      "Пропуски в столбцах в абсолютных значениях\n"
     ]
    },
    {
     "data": {
      "text/plain": [
       "id                         0\n",
       "acquiring_company_id       0\n",
       "acquired_company_id        0\n",
       "term_code               7576\n",
       "price_amount               0\n",
       "acquired_at               29\n",
       "dtype: int64"
      ]
     },
     "metadata": {},
     "output_type": "display_data"
    },
    {
     "name": "stdout",
     "output_type": "stream",
     "text": [
      "Пропуски в столбцах в относительных значениях\n"
     ]
    },
    {
     "data": {
      "text/plain": [
       "id                       0.000000\n",
       "acquiring_company_id     0.000000\n",
       "acquired_company_id      0.000000\n",
       "term_code               80.535771\n",
       "price_amount             0.000000\n",
       "acquired_at              0.308281\n",
       "dtype: float64"
      ]
     },
     "metadata": {},
     "output_type": "display_data"
    },
    {
     "name": "stdout",
     "output_type": "stream",
     "text": [
      "Датасет company_and_rounds:\n",
      "Пропуски в столбцах в абсолютных значениях\n"
     ]
    },
    {
     "data": {
      "text/plain": [
       "company  ID                 302\n",
       "name                        302\n",
       "category  code            73888\n",
       "status                      302\n",
       "founded  at              107818\n",
       "closed  at               214325\n",
       "domain                    70615\n",
       "network  username        122240\n",
       "country  code            109167\n",
       "investment  rounds          302\n",
       "funding  rounds             302\n",
       "funding  total              302\n",
       "milestones                  302\n",
       "funding  round  id       164846\n",
       "company  id              164846\n",
       "funded  at               165094\n",
       "funding  round  type     164846\n",
       "raised  amount           164846\n",
       "pre  money  valuation    164846\n",
       "participants             164846\n",
       "is  first  round         164846\n",
       "is  last  round          164846\n",
       "dtype: int64"
      ]
     },
     "metadata": {},
     "output_type": "display_data"
    },
    {
     "name": "stdout",
     "output_type": "stream",
     "text": [
      "Пропуски в столбцах в относительных значениях\n"
     ]
    },
    {
     "data": {
      "text/plain": [
       "company  ID               0.138676\n",
       "name                      0.138676\n",
       "category  code           33.928752\n",
       "status                    0.138676\n",
       "founded  at              49.509124\n",
       "closed  at               98.416248\n",
       "domain                   32.425818\n",
       "network  username        56.131586\n",
       "country  code            50.128574\n",
       "investment  rounds        0.138676\n",
       "funding  rounds           0.138676\n",
       "funding  total            0.138676\n",
       "milestones                0.138676\n",
       "funding  round  id       75.695905\n",
       "company  id              75.695905\n",
       "funded  at               75.809784\n",
       "funding  round  type     75.695905\n",
       "raised  amount           75.695905\n",
       "pre  money  valuation    75.695905\n",
       "participants             75.695905\n",
       "is  first  round         75.695905\n",
       "is  last  round          75.695905\n",
       "dtype: float64"
      ]
     },
     "metadata": {},
     "output_type": "display_data"
    },
    {
     "name": "stdout",
     "output_type": "stream",
     "text": [
      "Датасет people:\n",
      "Пропуски в столбцах в абсолютных значениях\n"
     ]
    },
    {
     "data": {
      "text/plain": [
       "id                       0\n",
       "first_name               5\n",
       "last_name                1\n",
       "company_id          192094\n",
       "network_username    187842\n",
       "dtype: int64"
      ]
     },
     "metadata": {},
     "output_type": "display_data"
    },
    {
     "name": "stdout",
     "output_type": "stream",
     "text": [
      "Пропуски в столбцах в относительных значениях\n"
     ]
    },
    {
     "data": {
      "text/plain": [
       "id                   0.000000\n",
       "first_name           0.002205\n",
       "last_name            0.000441\n",
       "company_id          84.731528\n",
       "network_username    82.855996\n",
       "dtype: float64"
      ]
     },
     "metadata": {},
     "output_type": "display_data"
    },
    {
     "name": "stdout",
     "output_type": "stream",
     "text": [
      "Датасет education:\n",
      "Пропуски в столбцах в абсолютных значениях\n"
     ]
    },
    {
     "data": {
      "text/plain": [
       "id                  0\n",
       "person_id           0\n",
       "instituition       55\n",
       "graduated_at    51556\n",
       "dtype: int64"
      ]
     },
     "metadata": {},
     "output_type": "display_data"
    },
    {
     "name": "stdout",
     "output_type": "stream",
     "text": [
      "Пропуски в столбцах в относительных значениях\n"
     ]
    },
    {
     "data": {
      "text/plain": [
       "id               0.000000\n",
       "person_id        0.000000\n",
       "instituition     0.050178\n",
       "graduated_at    47.035854\n",
       "dtype: float64"
      ]
     },
     "metadata": {},
     "output_type": "display_data"
    },
    {
     "name": "stdout",
     "output_type": "stream",
     "text": [
      "Датасет degrees:\n",
      "Пропуски в столбцах в абсолютных значениях\n"
     ]
    },
    {
     "data": {
      "text/plain": [
       "id                 0\n",
       "object_id          0\n",
       "degree_type    11218\n",
       "subject        28312\n",
       "dtype: int64"
      ]
     },
     "metadata": {},
     "output_type": "display_data"
    },
    {
     "name": "stdout",
     "output_type": "stream",
     "text": [
      "Пропуски в столбцах в относительных значениях\n"
     ]
    },
    {
     "data": {
      "text/plain": [
       "id              0.000000\n",
       "object_id       0.000000\n",
       "degree_type    10.234468\n",
       "subject        25.829760\n",
       "dtype: float64"
      ]
     },
     "metadata": {},
     "output_type": "display_data"
    }
   ],
   "source": [
    "# Выведем информацию о пропусках в датасетах\n",
    "for name, dataset in zip(names, datasets):\n",
    "    print(f'Датасет {name}:')\n",
    "    print(f'Пропуски в столбцах в абсолютных значениях')\n",
    "    display(dataset.isna().sum())\n",
    "    print(f'Пропуски в столбцах в относительных значениях')\n",
    "    display(dataset.isna().mean()*100)"
   ]
  },
  {
   "cell_type": "markdown",
   "metadata": {
    "id": "DEg1tl8DFeBn"
   },
   "source": [
    "Согласно полученным данным:  \n",
    "- в датасете **acquisition** наиболее критическое количество пропусков содержит столбец term_code (7576 или 80% пропусков). Вероятноее всего, провести анализ с использованием этого столбца (то есть анализ вариантов расчёта) не удастся ввиду неполноты данных.  Столбец acquired_at содержит незначительное количество пропусков (0,3%), пропуски в этом столбце можно игнорировать.  \n",
    "- в датасете **company_and_rounds** пропущенные значения пристутствуют в каждом столбце. В ряде столбцов (company_id, name, status, investment_rounds, funding_rounds, funding_total, milestones) количество пропусков незначительно(302 пропуска, 0,14% от общего количества строк). Такие пропуски можно игнорировать. Для следующих столбцов количество пропусков составляет довольно высокий процент: category_code (34%), founded_at(49,5%), closed_at(98%), domain(32%), network_username(56%), country_code(50%), funding_round_id(76%), company_id(76%), funded_at(76%), funding_round_type(76%), raised_amount(76%), pre_money_valuation(76%), participants(76%), is_first_round(76%), is_last_round(76%). Пропуски в столбце closed_at могут быть связаны с тем, что данные о закрытии компании отсутстуют, то есть компания является действующей. Далее в столбцах, содержащих информацию о раундах и финансировании, содержится самое большое количество пропусков (порядка 76%). Эти пропуски могут объясняться тем, что компания не участвовала в финансировании. Таким образом, анализ данных показателей может быть проведен на имеющихся данных, однако результат может не отражать реальной картины, так как в анализ войдут только 24% от всего датасета. \n",
    "- в датасете **people** количество пропусков в столбцах first_name, last_name незначительно (0,002% и 0,0004% соответственно). Такие пропуски можно игнорировать. В столбцах company_id, network_username количество пропусков довольно высокое (85% и 83% соответственно). Это может говорить о том, что данные о фио сотрудников и практически не привязаны к данным о компании. Это может существенно усложнить анализ данных.\n",
    "- в датасете **education** количество пропусков в стоблце instituition незначительно (0,05%), такие пропуски можно игнорировать. Также по имеющимся данным возможно провести анализ образования сотрудников. В столбце graduated_at количество пропусков довольно высокое (47%). Таким образом, даты получения образования могут быть оценены только для 53% сотрудников. Отсутствие даты получения образования также может означать наличие сотрудников-студентов или лиц с неоконченным образованием.\n",
    "- в датасете **degrees** пропуски присутствуют в столбцах degree_type (10%), subject(26%). При наличии такого количества пропусков возможно провести дальнейший анализ данных."
   ]
  },
  {
   "cell_type": "code",
   "execution_count": 11,
   "metadata": {},
   "outputs": [
    {
     "name": "stdout",
     "output_type": "stream",
     "text": [
      "Датасет acquisition:\n"
     ]
    },
    {
     "data": {
      "text/plain": [
       "0"
      ]
     },
     "metadata": {},
     "output_type": "display_data"
    },
    {
     "name": "stdout",
     "output_type": "stream",
     "text": [
      "Датасет company_and_rounds:\n"
     ]
    },
    {
     "data": {
      "text/plain": [
       "0"
      ]
     },
     "metadata": {},
     "output_type": "display_data"
    },
    {
     "name": "stdout",
     "output_type": "stream",
     "text": [
      "Датасет people:\n"
     ]
    },
    {
     "data": {
      "text/plain": [
       "0"
      ]
     },
     "metadata": {},
     "output_type": "display_data"
    },
    {
     "name": "stdout",
     "output_type": "stream",
     "text": [
      "Датасет education:\n"
     ]
    },
    {
     "data": {
      "text/plain": [
       "0"
      ]
     },
     "metadata": {},
     "output_type": "display_data"
    },
    {
     "name": "stdout",
     "output_type": "stream",
     "text": [
      "Датасет degrees:\n"
     ]
    },
    {
     "data": {
      "text/plain": [
       "0"
      ]
     },
     "metadata": {},
     "output_type": "display_data"
    }
   ],
   "source": [
    "# Проверим датасеты на наличие явных дублей\n",
    "for name, dataset in zip(names, datasets):\n",
    "    print(f'Датасет {name}:')\n",
    "    display(dataset.duplicated().sum())"
   ]
  },
  {
   "cell_type": "markdown",
   "metadata": {},
   "source": [
    "Явных дубликатов в датасетах не найдено"
   ]
  },
  {
   "cell_type": "code",
   "execution_count": 12,
   "metadata": {},
   "outputs": [
    {
     "data": {
      "text/plain": [
       "array([nan, 'cash', 'stock', 'cash_and_stock'], dtype=object)"
      ]
     },
     "execution_count": 12,
     "metadata": {},
     "output_type": "execute_result"
    }
   ],
   "source": [
    "# Проверим уникальные значения в столбце с категориальными значениями в датасете acquisition\n",
    "acquisition['term_code'].unique()"
   ]
  },
  {
   "cell_type": "markdown",
   "metadata": {},
   "source": [
    "Столбец с категориальными значениями содержит уникальные значения, записанные единообразным стилем. Дополнительные преобразования не требуются, неявных дублей не выявлено."
   ]
  },
  {
   "cell_type": "code",
   "execution_count": 13,
   "metadata": {},
   "outputs": [
    {
     "name": "stdout",
     "output_type": "stream",
     "text": [
      "Столбец name:\n"
     ]
    },
    {
     "data": {
      "text/plain": [
       "array(['Wetpaint', 'Flektor', 'There', ..., 'Pphotonet', 'Photonet', nan],\n",
       "      dtype=object)"
      ]
     },
     "metadata": {},
     "output_type": "display_data"
    },
    {
     "name": "stdout",
     "output_type": "stream",
     "text": [
      "Столбец category_code:\n"
     ]
    },
    {
     "data": {
      "text/plain": [
       "array(['web', 'games_video', 'network_hosting', 'advertising',\n",
       "       'cleantech', nan, 'enterprise', 'other', 'consulting', 'mobile',\n",
       "       'health', 'software', 'analytics', 'finance', 'education',\n",
       "       'medical', 'manufacturing', 'biotech', 'ecommerce',\n",
       "       'public_relations', 'hardware', 'search', 'news', 'government',\n",
       "       'security', 'photo_video', 'travel', 'semiconductor', 'social',\n",
       "       'legal', 'transportation', 'hospitality', 'sports', 'nonprofit',\n",
       "       'fashion', 'messaging', 'music', 'automotive', 'design',\n",
       "       'real_estate', 'local', 'nanotech', 'pets'], dtype=object)"
      ]
     },
     "metadata": {},
     "output_type": "display_data"
    },
    {
     "name": "stdout",
     "output_type": "stream",
     "text": [
      "Столбец status:\n"
     ]
    },
    {
     "data": {
      "text/plain": [
       "array(['operating', 'acquired', 'closed', 'ipo', nan], dtype=object)"
      ]
     },
     "metadata": {},
     "output_type": "display_data"
    },
    {
     "name": "stdout",
     "output_type": "stream",
     "text": [
      "Столбец domain:\n"
     ]
    },
    {
     "data": {
      "text/plain": [
       "array(['wetpaint-inc.com', 'flektor.com', 'there.com', ...,\n",
       "       'flowgram.com', 'pPhotonet.co', 'Photonet.com'], dtype=object)"
      ]
     },
     "metadata": {},
     "output_type": "display_data"
    },
    {
     "name": "stdout",
     "output_type": "stream",
     "text": [
      "Столбец network_username:\n"
     ]
    },
    {
     "data": {
      "text/plain": [
       "array(['BachelrWetpaint', nan, 'Hostnine', ..., 'networkzend',\n",
       "       'pPhotonet', 'Photonet'], dtype=object)"
      ]
     },
     "metadata": {},
     "output_type": "display_data"
    },
    {
     "name": "stdout",
     "output_type": "stream",
     "text": [
      "Столбец country_code:\n"
     ]
    },
    {
     "data": {
      "text/plain": [
       "array(['USA', nan, 'MAR', 'IND', 'AUS', 'FRA', 'JPN', 'NLD', 'EGY', 'ISR',\n",
       "       'GBR', 'THA', 'CAN', 'AUT', 'IRL', 'SWE', 'DEU', 'BRA', 'FIN',\n",
       "       'RUS', 'SGP', 'MEX', 'CHN', 'ESP', 'ISL', 'KOR', 'TUR', 'DNK',\n",
       "       'ARG', 'PAK', 'HUN', 'POL', 'GRC', 'PRT', 'BLR', 'CSS', 'MKD',\n",
       "       'CHE', 'SVN', 'UKR', 'ITA', 'NZL', 'LIE', 'NOR', 'CZE', 'VNM',\n",
       "       'HRV', 'BEN', 'CHL', 'GHA', 'ZAF', 'MYS', 'EST', 'BEL', 'SVK',\n",
       "       'TWN', 'CRI', 'HKG', 'BGD', 'BOL', 'LBN', 'LUX', 'AZE', 'COL',\n",
       "       'PHL', 'ARE', 'IDN', 'ROM', 'ANT', 'CYM', 'NGA', 'GIN', 'CYP',\n",
       "       'LKA', 'SWZ', 'VGB', 'MLT', 'SAU', 'KEN', 'BGR', 'PER', 'LVA',\n",
       "       'LAO', 'NPL', 'MDA', 'CMR', 'UGA', 'TUN', 'URY', 'MUS', 'VEN',\n",
       "       'OMN', 'ECU', 'KWT', 'JOR', 'LTU', 'ALB', 'QAT', 'UMI', 'PST',\n",
       "       'REU', 'GTM', 'PCN', 'BHS', 'GEO', 'BWA', 'DZA', 'GRD', 'ZMB',\n",
       "       'GIB', 'PAN', 'MTQ', 'PRI', 'BIH', 'DMA', 'BHR', 'SYC', 'SLE',\n",
       "       'TTO', 'VCT', 'ARA', 'BRB', 'NAM', 'SLV', 'AFG', 'BLZ', 'UZB',\n",
       "       'IRN', 'TZA', 'ARM', 'ATG', 'DOM', 'JAM', 'MDV', 'MMR', 'KAZ',\n",
       "       'GLP', 'MAC', 'IOT', 'MDG', 'KGZ', 'VIR', 'ZWE', 'PRY', 'PRK',\n",
       "       'LSO', 'SMR', 'IRQ', 'BMU', 'NRU', 'KHM', 'ETH', 'BDI', 'SEN',\n",
       "       'HMI', 'TJK', 'NER', 'NCL', 'CUB', 'FST', 'AGO', 'NFK', 'NIC',\n",
       "       'AND', 'MCO', 'YEM', 'BRN', 'HTI', 'AIA', 'SUR', 'SYR', 'SOM',\n",
       "       'RWA', 'CIV', 'SDN', 'HND'], dtype=object)"
      ]
     },
     "metadata": {},
     "output_type": "display_data"
    },
    {
     "name": "stdout",
     "output_type": "stream",
     "text": [
      "Столбец funding_round_type:\n"
     ]
    },
    {
     "data": {
      "text/plain": [
       "array(['series-a', 'series-b', 'series-c+', nan, 'angel', 'venture',\n",
       "       'other', 'private-equity', 'post-ipo', 'crowdfunding'],\n",
       "      dtype=object)"
      ]
     },
     "metadata": {},
     "output_type": "display_data"
    }
   ],
   "source": [
    "# Проверим уникальные значения в столбце с категориальными значениями в датасете company_and_rounds\n",
    "object_columns = ['name', 'category_code', 'status', 'domain', 'network_username', 'country_code', 'funding_round_type']\n",
    "\n",
    "# Создадим цикл для проверки\n",
    "for col in object_columns:\n",
    "    print(f'Столбец {col}:')\n",
    "    display(company_and_rounds[col].unique())"
   ]
  },
  {
   "cell_type": "markdown",
   "metadata": {},
   "source": [
    "В столбцах category_code, status, country_code, funding_round_type содержатся уникальные значения, не требующие дополнительной обработки.  \n",
    "Столбцы name, domain, network_username следует дополнительно проверить на наличие неявных дублей."
   ]
  },
  {
   "cell_type": "code",
   "execution_count": 14,
   "metadata": {},
   "outputs": [],
   "source": [
    "# Создадим переменную для преобразования\n",
    "object_columns_2 = ['name', 'domain', 'network_username']\n",
    "\n",
    "# Создадим цикл для преобразования данных столбцов\n",
    "for col in object_columns_2:\n",
    "    company_and_rounds[col] = company_and_rounds[col].str.lower()\n",
    "    company_and_rounds[col] = company_and_rounds[col].str.replace(' ', '_')"
   ]
  },
  {
   "cell_type": "code",
   "execution_count": 15,
   "metadata": {},
   "outputs": [
    {
     "data": {
      "text/plain": [
       "0"
      ]
     },
     "execution_count": 15,
     "metadata": {},
     "output_type": "execute_result"
    }
   ],
   "source": [
    "# Проверим наличие дубликатов после преобразования\n",
    "company_and_rounds.duplicated().sum()"
   ]
  },
  {
   "cell_type": "markdown",
   "metadata": {},
   "source": [
    "Согласно полученным данным, неявные дубликаты не выявлены. Проверим сами строки после преобразования"
   ]
  },
  {
   "cell_type": "code",
   "execution_count": 16,
   "metadata": {},
   "outputs": [
    {
     "data": {
      "text/html": [
       "<div>\n",
       "<style scoped>\n",
       "    .dataframe tbody tr th:only-of-type {\n",
       "        vertical-align: middle;\n",
       "    }\n",
       "\n",
       "    .dataframe tbody tr th {\n",
       "        vertical-align: top;\n",
       "    }\n",
       "\n",
       "    .dataframe thead th {\n",
       "        text-align: right;\n",
       "    }\n",
       "</style>\n",
       "<table border=\"1\" class=\"dataframe\">\n",
       "  <thead>\n",
       "    <tr style=\"text-align: right;\">\n",
       "      <th></th>\n",
       "      <th>company_id</th>\n",
       "      <th>name</th>\n",
       "      <th>category_code</th>\n",
       "      <th>status</th>\n",
       "      <th>founded_at</th>\n",
       "      <th>closed_at</th>\n",
       "      <th>domain</th>\n",
       "      <th>network_username</th>\n",
       "      <th>country_code</th>\n",
       "      <th>investment_rounds</th>\n",
       "      <th>...</th>\n",
       "      <th>milestones</th>\n",
       "      <th>funding_round_id</th>\n",
       "      <th>company_id_2</th>\n",
       "      <th>funded_at</th>\n",
       "      <th>funding_round_type</th>\n",
       "      <th>raised_amount</th>\n",
       "      <th>pre_money_valuation</th>\n",
       "      <th>participants</th>\n",
       "      <th>is_first_round</th>\n",
       "      <th>is_last_round</th>\n",
       "    </tr>\n",
       "  </thead>\n",
       "  <tbody>\n",
       "    <tr>\n",
       "      <th>0</th>\n",
       "      <td>1.0</td>\n",
       "      <td>wetpaint</td>\n",
       "      <td>web</td>\n",
       "      <td>operating</td>\n",
       "      <td>2005-10-17</td>\n",
       "      <td>NaT</td>\n",
       "      <td>wetpaint-inc.com</td>\n",
       "      <td>bachelrwetpaint</td>\n",
       "      <td>USA</td>\n",
       "      <td>0.0</td>\n",
       "      <td>...</td>\n",
       "      <td>5.0</td>\n",
       "      <td>888.0</td>\n",
       "      <td>1.0</td>\n",
       "      <td>2005-10-01</td>\n",
       "      <td>series-a</td>\n",
       "      <td>5250000.0</td>\n",
       "      <td>0.0</td>\n",
       "      <td>2.0</td>\n",
       "      <td>0.0</td>\n",
       "      <td>1.0</td>\n",
       "    </tr>\n",
       "    <tr>\n",
       "      <th>1</th>\n",
       "      <td>1.0</td>\n",
       "      <td>wetpaint</td>\n",
       "      <td>web</td>\n",
       "      <td>operating</td>\n",
       "      <td>2005-10-17</td>\n",
       "      <td>NaT</td>\n",
       "      <td>wetpaint-inc.com</td>\n",
       "      <td>bachelrwetpaint</td>\n",
       "      <td>USA</td>\n",
       "      <td>0.0</td>\n",
       "      <td>...</td>\n",
       "      <td>5.0</td>\n",
       "      <td>889.0</td>\n",
       "      <td>1.0</td>\n",
       "      <td>2007-01-01</td>\n",
       "      <td>series-b</td>\n",
       "      <td>9500000.0</td>\n",
       "      <td>0.0</td>\n",
       "      <td>3.0</td>\n",
       "      <td>0.0</td>\n",
       "      <td>0.0</td>\n",
       "    </tr>\n",
       "    <tr>\n",
       "      <th>2</th>\n",
       "      <td>1.0</td>\n",
       "      <td>wetpaint</td>\n",
       "      <td>web</td>\n",
       "      <td>operating</td>\n",
       "      <td>2005-10-17</td>\n",
       "      <td>NaT</td>\n",
       "      <td>wetpaint-inc.com</td>\n",
       "      <td>bachelrwetpaint</td>\n",
       "      <td>USA</td>\n",
       "      <td>0.0</td>\n",
       "      <td>...</td>\n",
       "      <td>5.0</td>\n",
       "      <td>2312.0</td>\n",
       "      <td>1.0</td>\n",
       "      <td>2008-05-19</td>\n",
       "      <td>series-c+</td>\n",
       "      <td>25000000.0</td>\n",
       "      <td>0.0</td>\n",
       "      <td>4.0</td>\n",
       "      <td>1.0</td>\n",
       "      <td>0.0</td>\n",
       "    </tr>\n",
       "    <tr>\n",
       "      <th>21</th>\n",
       "      <td>10015.0</td>\n",
       "      <td>fitbit</td>\n",
       "      <td>health</td>\n",
       "      <td>operating</td>\n",
       "      <td>2007-10-01</td>\n",
       "      <td>NaT</td>\n",
       "      <td>fitbit.com</td>\n",
       "      <td>fitbit</td>\n",
       "      <td>USA</td>\n",
       "      <td>0.0</td>\n",
       "      <td>...</td>\n",
       "      <td>0.0</td>\n",
       "      <td>3619.0</td>\n",
       "      <td>10015.0</td>\n",
       "      <td>2008-10-10</td>\n",
       "      <td>series-a</td>\n",
       "      <td>2000000.0</td>\n",
       "      <td>0.0</td>\n",
       "      <td>2.0</td>\n",
       "      <td>0.0</td>\n",
       "      <td>1.0</td>\n",
       "    </tr>\n",
       "    <tr>\n",
       "      <th>22</th>\n",
       "      <td>10015.0</td>\n",
       "      <td>fitbit</td>\n",
       "      <td>health</td>\n",
       "      <td>operating</td>\n",
       "      <td>2007-10-01</td>\n",
       "      <td>NaT</td>\n",
       "      <td>fitbit.com</td>\n",
       "      <td>fitbit</td>\n",
       "      <td>USA</td>\n",
       "      <td>0.0</td>\n",
       "      <td>...</td>\n",
       "      <td>0.0</td>\n",
       "      <td>18213.0</td>\n",
       "      <td>10015.0</td>\n",
       "      <td>2010-09-10</td>\n",
       "      <td>series-b</td>\n",
       "      <td>9000000.0</td>\n",
       "      <td>0.0</td>\n",
       "      <td>4.0</td>\n",
       "      <td>0.0</td>\n",
       "      <td>0.0</td>\n",
       "    </tr>\n",
       "    <tr>\n",
       "      <th>...</th>\n",
       "      <td>...</td>\n",
       "      <td>...</td>\n",
       "      <td>...</td>\n",
       "      <td>...</td>\n",
       "      <td>...</td>\n",
       "      <td>...</td>\n",
       "      <td>...</td>\n",
       "      <td>...</td>\n",
       "      <td>...</td>\n",
       "      <td>...</td>\n",
       "      <td>...</td>\n",
       "      <td>...</td>\n",
       "      <td>...</td>\n",
       "      <td>...</td>\n",
       "      <td>...</td>\n",
       "      <td>...</td>\n",
       "      <td>...</td>\n",
       "      <td>...</td>\n",
       "      <td>...</td>\n",
       "      <td>...</td>\n",
       "      <td>...</td>\n",
       "    </tr>\n",
       "    <tr>\n",
       "      <th>217769</th>\n",
       "      <td>NaN</td>\n",
       "      <td>NaN</td>\n",
       "      <td>NaN</td>\n",
       "      <td>NaN</td>\n",
       "      <td>NaT</td>\n",
       "      <td>NaT</td>\n",
       "      <td>NaN</td>\n",
       "      <td>NaN</td>\n",
       "      <td>NaN</td>\n",
       "      <td>NaN</td>\n",
       "      <td>...</td>\n",
       "      <td>NaN</td>\n",
       "      <td>56454.0</td>\n",
       "      <td>282847.0</td>\n",
       "      <td>2011-01-31</td>\n",
       "      <td>other</td>\n",
       "      <td>5500000.0</td>\n",
       "      <td>0.0</td>\n",
       "      <td>0.0</td>\n",
       "      <td>1.0</td>\n",
       "      <td>1.0</td>\n",
       "    </tr>\n",
       "    <tr>\n",
       "      <th>217770</th>\n",
       "      <td>NaN</td>\n",
       "      <td>NaN</td>\n",
       "      <td>NaN</td>\n",
       "      <td>NaN</td>\n",
       "      <td>NaT</td>\n",
       "      <td>NaT</td>\n",
       "      <td>NaN</td>\n",
       "      <td>NaN</td>\n",
       "      <td>NaN</td>\n",
       "      <td>NaN</td>\n",
       "      <td>...</td>\n",
       "      <td>NaN</td>\n",
       "      <td>56542.0</td>\n",
       "      <td>55477.0</td>\n",
       "      <td>2011-01-13</td>\n",
       "      <td>venture</td>\n",
       "      <td>10633300.0</td>\n",
       "      <td>0.0</td>\n",
       "      <td>0.0</td>\n",
       "      <td>0.0</td>\n",
       "      <td>1.0</td>\n",
       "    </tr>\n",
       "    <tr>\n",
       "      <th>217771</th>\n",
       "      <td>NaN</td>\n",
       "      <td>NaN</td>\n",
       "      <td>NaN</td>\n",
       "      <td>NaN</td>\n",
       "      <td>NaT</td>\n",
       "      <td>NaT</td>\n",
       "      <td>NaN</td>\n",
       "      <td>NaN</td>\n",
       "      <td>NaN</td>\n",
       "      <td>NaN</td>\n",
       "      <td>...</td>\n",
       "      <td>NaN</td>\n",
       "      <td>56543.0</td>\n",
       "      <td>55477.0</td>\n",
       "      <td>2012-05-31</td>\n",
       "      <td>venture</td>\n",
       "      <td>2125720.0</td>\n",
       "      <td>0.0</td>\n",
       "      <td>0.0</td>\n",
       "      <td>1.0</td>\n",
       "      <td>0.0</td>\n",
       "    </tr>\n",
       "    <tr>\n",
       "      <th>217772</th>\n",
       "      <td>NaN</td>\n",
       "      <td>NaN</td>\n",
       "      <td>NaN</td>\n",
       "      <td>NaN</td>\n",
       "      <td>NaT</td>\n",
       "      <td>NaT</td>\n",
       "      <td>NaN</td>\n",
       "      <td>NaN</td>\n",
       "      <td>NaN</td>\n",
       "      <td>NaN</td>\n",
       "      <td>...</td>\n",
       "      <td>NaN</td>\n",
       "      <td>56928.0</td>\n",
       "      <td>283492.0</td>\n",
       "      <td>2013-12-03</td>\n",
       "      <td>venture</td>\n",
       "      <td>3602480.0</td>\n",
       "      <td>0.0</td>\n",
       "      <td>5.0</td>\n",
       "      <td>1.0</td>\n",
       "      <td>1.0</td>\n",
       "    </tr>\n",
       "    <tr>\n",
       "      <th>217773</th>\n",
       "      <td>NaN</td>\n",
       "      <td>NaN</td>\n",
       "      <td>NaN</td>\n",
       "      <td>NaN</td>\n",
       "      <td>NaT</td>\n",
       "      <td>NaT</td>\n",
       "      <td>NaN</td>\n",
       "      <td>NaN</td>\n",
       "      <td>NaN</td>\n",
       "      <td>NaN</td>\n",
       "      <td>...</td>\n",
       "      <td>NaN</td>\n",
       "      <td>57063.0</td>\n",
       "      <td>284191.0</td>\n",
       "      <td>2013-12-04</td>\n",
       "      <td>venture</td>\n",
       "      <td>7000000.0</td>\n",
       "      <td>0.0</td>\n",
       "      <td>4.0</td>\n",
       "      <td>1.0</td>\n",
       "      <td>1.0</td>\n",
       "    </tr>\n",
       "  </tbody>\n",
       "</table>\n",
       "<p>32481 rows × 22 columns</p>\n",
       "</div>"
      ],
      "text/plain": [
       "        company_id      name category_code     status founded_at closed_at  \\\n",
       "0              1.0  wetpaint           web  operating 2005-10-17       NaT   \n",
       "1              1.0  wetpaint           web  operating 2005-10-17       NaT   \n",
       "2              1.0  wetpaint           web  operating 2005-10-17       NaT   \n",
       "21         10015.0    fitbit        health  operating 2007-10-01       NaT   \n",
       "22         10015.0    fitbit        health  operating 2007-10-01       NaT   \n",
       "...            ...       ...           ...        ...        ...       ...   \n",
       "217769         NaN       NaN           NaN        NaN        NaT       NaT   \n",
       "217770         NaN       NaN           NaN        NaN        NaT       NaT   \n",
       "217771         NaN       NaN           NaN        NaN        NaT       NaT   \n",
       "217772         NaN       NaN           NaN        NaN        NaT       NaT   \n",
       "217773         NaN       NaN           NaN        NaN        NaT       NaT   \n",
       "\n",
       "                  domain network_username country_code  investment_rounds  \\\n",
       "0       wetpaint-inc.com  bachelrwetpaint          USA                0.0   \n",
       "1       wetpaint-inc.com  bachelrwetpaint          USA                0.0   \n",
       "2       wetpaint-inc.com  bachelrwetpaint          USA                0.0   \n",
       "21            fitbit.com           fitbit          USA                0.0   \n",
       "22            fitbit.com           fitbit          USA                0.0   \n",
       "...                  ...              ...          ...                ...   \n",
       "217769               NaN              NaN          NaN                NaN   \n",
       "217770               NaN              NaN          NaN                NaN   \n",
       "217771               NaN              NaN          NaN                NaN   \n",
       "217772               NaN              NaN          NaN                NaN   \n",
       "217773               NaN              NaN          NaN                NaN   \n",
       "\n",
       "        ...  milestones  funding_round_id  company_id_2  funded_at  \\\n",
       "0       ...         5.0             888.0           1.0 2005-10-01   \n",
       "1       ...         5.0             889.0           1.0 2007-01-01   \n",
       "2       ...         5.0            2312.0           1.0 2008-05-19   \n",
       "21      ...         0.0            3619.0       10015.0 2008-10-10   \n",
       "22      ...         0.0           18213.0       10015.0 2010-09-10   \n",
       "...     ...         ...               ...           ...        ...   \n",
       "217769  ...         NaN           56454.0      282847.0 2011-01-31   \n",
       "217770  ...         NaN           56542.0       55477.0 2011-01-13   \n",
       "217771  ...         NaN           56543.0       55477.0 2012-05-31   \n",
       "217772  ...         NaN           56928.0      283492.0 2013-12-03   \n",
       "217773  ...         NaN           57063.0      284191.0 2013-12-04   \n",
       "\n",
       "        funding_round_type raised_amount pre_money_valuation  participants  \\\n",
       "0                 series-a     5250000.0                 0.0           2.0   \n",
       "1                 series-b     9500000.0                 0.0           3.0   \n",
       "2                series-c+    25000000.0                 0.0           4.0   \n",
       "21                series-a     2000000.0                 0.0           2.0   \n",
       "22                series-b     9000000.0                 0.0           4.0   \n",
       "...                    ...           ...                 ...           ...   \n",
       "217769               other     5500000.0                 0.0           0.0   \n",
       "217770             venture    10633300.0                 0.0           0.0   \n",
       "217771             venture     2125720.0                 0.0           0.0   \n",
       "217772             venture     3602480.0                 0.0           5.0   \n",
       "217773             venture     7000000.0                 0.0           4.0   \n",
       "\n",
       "        is_first_round  is_last_round  \n",
       "0                  0.0            1.0  \n",
       "1                  0.0            0.0  \n",
       "2                  1.0            0.0  \n",
       "21                 0.0            1.0  \n",
       "22                 0.0            0.0  \n",
       "...                ...            ...  \n",
       "217769             1.0            1.0  \n",
       "217770             0.0            1.0  \n",
       "217771             1.0            0.0  \n",
       "217772             1.0            1.0  \n",
       "217773             1.0            1.0  \n",
       "\n",
       "[32481 rows x 22 columns]"
      ]
     },
     "execution_count": 16,
     "metadata": {},
     "output_type": "execute_result"
    }
   ],
   "source": [
    "# Выведем строки, в которых дублируются преобразованные столбцы\n",
    "company_and_rounds[company_and_rounds.duplicated(subset = ['name', 'domain', 'network_username'], keep = False)]"
   ]
  },
  {
   "cell_type": "markdown",
   "metadata": {},
   "source": [
    "Полученные строки, вероятнее всего, не являются дублями"
   ]
  },
  {
   "cell_type": "code",
   "execution_count": 17,
   "metadata": {},
   "outputs": [
    {
     "name": "stdout",
     "output_type": "stream",
     "text": [
      "Столбец first_name:\n"
     ]
    },
    {
     "data": {
      "text/plain": [
       "array(['Mark', 'Peter', 'Dr. Steven', ..., 'Ã\\x89lie', 'Tanis', 'Dr. Ray'],\n",
       "      dtype=object)"
      ]
     },
     "metadata": {},
     "output_type": "display_data"
    },
    {
     "name": "stdout",
     "output_type": "stream",
     "text": [
      "Столбец last_name:\n"
     ]
    },
    {
     "data": {
      "text/plain": [
       "array(['Zuckerberg', 'Lester', 'E. Saunders', ..., 'Manda', 'Gench',\n",
       "       'Tamberrino'], dtype=object)"
      ]
     },
     "metadata": {},
     "output_type": "display_data"
    },
    {
     "name": "stdout",
     "output_type": "stream",
     "text": [
      "Столбец network_username:\n"
     ]
    },
    {
     "data": {
      "text/plain": [
       "array([nan, 'jobsbostontech', 'fbroulette', ..., 'itechsocialnet',\n",
       "       'socialnethubs', 'esocialnetlike'], dtype=object)"
      ]
     },
     "metadata": {},
     "output_type": "display_data"
    }
   ],
   "source": [
    "# Проверим уникальные значения в столбцах с категориальными значениями в датасете people\n",
    "object_columns_3 = ['first_name', 'last_name', 'network_username']\n",
    "\n",
    "# Создадим цикл для проверки\n",
    "for col in object_columns_3:\n",
    "    print(f'Столбец {col}:')\n",
    "    display(people[col].unique())"
   ]
  },
  {
   "cell_type": "code",
   "execution_count": 18,
   "metadata": {},
   "outputs": [],
   "source": [
    "# Создадим цикл для преобразования данных столбцов\n",
    "for col in object_columns_3:\n",
    "    people[col] = people[col].str.lower()\n",
    "    people[col] = people[col].str.replace(' ', '_')\n",
    "    people[col] = people[col].str.replace('.', '', regex=False)"
   ]
  },
  {
   "cell_type": "code",
   "execution_count": 19,
   "metadata": {},
   "outputs": [
    {
     "data": {
      "text/plain": [
       "0"
      ]
     },
     "execution_count": 19,
     "metadata": {},
     "output_type": "execute_result"
    }
   ],
   "source": [
    "# Проверим наличие дубликатов после преобразования\n",
    "people.duplicated().sum()"
   ]
  },
  {
   "cell_type": "markdown",
   "metadata": {},
   "source": [
    "Согласно полученным данным, дубликаты не выявлены"
   ]
  },
  {
   "cell_type": "code",
   "execution_count": 20,
   "metadata": {},
   "outputs": [
    {
     "data": {
      "text/html": [
       "<div>\n",
       "<style scoped>\n",
       "    .dataframe tbody tr th:only-of-type {\n",
       "        vertical-align: middle;\n",
       "    }\n",
       "\n",
       "    .dataframe tbody tr th {\n",
       "        vertical-align: top;\n",
       "    }\n",
       "\n",
       "    .dataframe thead th {\n",
       "        text-align: right;\n",
       "    }\n",
       "</style>\n",
       "<table border=\"1\" class=\"dataframe\">\n",
       "  <thead>\n",
       "    <tr style=\"text-align: right;\">\n",
       "      <th></th>\n",
       "      <th>id</th>\n",
       "      <th>first_name</th>\n",
       "      <th>last_name</th>\n",
       "      <th>company_id</th>\n",
       "      <th>network_username</th>\n",
       "    </tr>\n",
       "  </thead>\n",
       "  <tbody>\n",
       "    <tr>\n",
       "      <th>14</th>\n",
       "      <td>100016</td>\n",
       "      <td>thomas</td>\n",
       "      <td>f_ackerman</td>\n",
       "      <td>NaN</td>\n",
       "      <td>NaN</td>\n",
       "    </tr>\n",
       "    <tr>\n",
       "      <th>26</th>\n",
       "      <td>100031</td>\n",
       "      <td>sandeep</td>\n",
       "      <td>hegde</td>\n",
       "      <td>81576.0</td>\n",
       "      <td>sandeephegde</td>\n",
       "    </tr>\n",
       "    <tr>\n",
       "      <th>38</th>\n",
       "      <td>100050</td>\n",
       "      <td>eva</td>\n",
       "      <td>boker</td>\n",
       "      <td>NaN</td>\n",
       "      <td>NaN</td>\n",
       "    </tr>\n",
       "    <tr>\n",
       "      <th>50</th>\n",
       "      <td>100067</td>\n",
       "      <td>simon</td>\n",
       "      <td>hill</td>\n",
       "      <td>NaN</td>\n",
       "      <td>NaN</td>\n",
       "    </tr>\n",
       "    <tr>\n",
       "      <th>63</th>\n",
       "      <td>100080</td>\n",
       "      <td>adrian</td>\n",
       "      <td>wilson</td>\n",
       "      <td>NaN</td>\n",
       "      <td>NaN</td>\n",
       "    </tr>\n",
       "    <tr>\n",
       "      <th>...</th>\n",
       "      <td>...</td>\n",
       "      <td>...</td>\n",
       "      <td>...</td>\n",
       "      <td>...</td>\n",
       "      <td>...</td>\n",
       "    </tr>\n",
       "    <tr>\n",
       "      <th>226642</th>\n",
       "      <td>99925</td>\n",
       "      <td>chris</td>\n",
       "      <td>cassidy</td>\n",
       "      <td>NaN</td>\n",
       "      <td>NaN</td>\n",
       "    </tr>\n",
       "    <tr>\n",
       "      <th>226643</th>\n",
       "      <td>99928</td>\n",
       "      <td>ken</td>\n",
       "      <td>seto</td>\n",
       "      <td>NaN</td>\n",
       "      <td>NaN</td>\n",
       "    </tr>\n",
       "    <tr>\n",
       "      <th>226651</th>\n",
       "      <td>99940</td>\n",
       "      <td>daniel</td>\n",
       "      <td>schulz</td>\n",
       "      <td>NaN</td>\n",
       "      <td>NaN</td>\n",
       "    </tr>\n",
       "    <tr>\n",
       "      <th>226657</th>\n",
       "      <td>99946</td>\n",
       "      <td>ryan</td>\n",
       "      <td>johnson</td>\n",
       "      <td>NaN</td>\n",
       "      <td>NaN</td>\n",
       "    </tr>\n",
       "    <tr>\n",
       "      <th>226691</th>\n",
       "      <td>99985</td>\n",
       "      <td>mark</td>\n",
       "      <td>sims</td>\n",
       "      <td>NaN</td>\n",
       "      <td>NaN</td>\n",
       "    </tr>\n",
       "  </tbody>\n",
       "</table>\n",
       "<p>18469 rows × 5 columns</p>\n",
       "</div>"
      ],
      "text/plain": [
       "            id first_name   last_name  company_id network_username\n",
       "14      100016     thomas  f_ackerman         NaN              NaN\n",
       "26      100031    sandeep       hegde     81576.0     sandeephegde\n",
       "38      100050        eva       boker         NaN              NaN\n",
       "50      100067      simon        hill         NaN              NaN\n",
       "63      100080     adrian      wilson         NaN              NaN\n",
       "...        ...        ...         ...         ...              ...\n",
       "226642   99925      chris     cassidy         NaN              NaN\n",
       "226643   99928        ken        seto         NaN              NaN\n",
       "226651   99940     daniel      schulz         NaN              NaN\n",
       "226657   99946       ryan     johnson         NaN              NaN\n",
       "226691   99985       mark        sims         NaN              NaN\n",
       "\n",
       "[18469 rows x 5 columns]"
      ]
     },
     "execution_count": 20,
     "metadata": {},
     "output_type": "execute_result"
    }
   ],
   "source": [
    "# Выведем строки, в которых дублируются преобразованные столбцы\n",
    "people[people.duplicated(subset = ['first_name', 'last_name', 'network_username'], keep = False)]"
   ]
  },
  {
   "cell_type": "markdown",
   "metadata": {},
   "source": [
    "Полученные строки, вероятнее всего, не являются дублями"
   ]
  },
  {
   "cell_type": "code",
   "execution_count": 21,
   "metadata": {},
   "outputs": [
    {
     "data": {
      "text/plain": [
       "array([nan, 'Washington University, St. Louis', 'Boston University', ...,\n",
       "       'Auburn University, Auburn, Alabama',\n",
       "       'Loyola University, New Orleans, Louisiana',\n",
       "       'Rutgers University, Newark, New Jersey'], dtype=object)"
      ]
     },
     "execution_count": 21,
     "metadata": {},
     "output_type": "execute_result"
    }
   ],
   "source": [
    "# Проверим уникальные значения в столбцах с категориальными значениями в датасете education\n",
    "education['instituition'].unique()"
   ]
  },
  {
   "cell_type": "code",
   "execution_count": 22,
   "metadata": {},
   "outputs": [],
   "source": [
    "# Преобразуем значения столбца к единому стилю\n",
    "education['instituition'] = education['instituition'].str.lower()\n",
    "education['instituition'] = education['instituition'].str.replace(' ', '_')\n",
    "education['instituition'] = education['instituition'].str.replace('.', '', regex=False)"
   ]
  },
  {
   "cell_type": "code",
   "execution_count": 23,
   "metadata": {},
   "outputs": [
    {
     "data": {
      "text/plain": [
       "0"
      ]
     },
     "execution_count": 23,
     "metadata": {},
     "output_type": "execute_result"
    }
   ],
   "source": [
    "# Проверим наличие дубликатов после преобразования\n",
    "education.duplicated().sum()"
   ]
  },
  {
   "cell_type": "markdown",
   "metadata": {},
   "source": [
    "Явных и неявных дубликатов не выявлено"
   ]
  },
  {
   "cell_type": "code",
   "execution_count": 24,
   "metadata": {},
   "outputs": [
    {
     "name": "stdout",
     "output_type": "stream",
     "text": [
      "Столбец degree_type:\n"
     ]
    },
    {
     "data": {
      "text/plain": [
       "array(['MBA', 'BA', 'MS', ..., 'Master of Public Health',\n",
       "       \"Master's of Music\", 'bachelors'], dtype=object)"
      ]
     },
     "metadata": {},
     "output_type": "display_data"
    },
    {
     "name": "stdout",
     "output_type": "stream",
     "text": [
      "Столбец subject:\n"
     ]
    },
    {
     "data": {
      "text/plain": [
       "array([nan, 'English, French', 'Mass Communication', ...,\n",
       "       'Executive Senior Management Program',\n",
       "       \"Bachelor's of Music, Composition, Studio Production\",\n",
       "       'Business/Managerial Economics - Political Science'], dtype=object)"
      ]
     },
     "metadata": {},
     "output_type": "display_data"
    }
   ],
   "source": [
    "# Проверим уникальные значения в столбцах с категориальными значениями в датасете education\n",
    "object_columns_4 = ['degree_type', 'subject']\n",
    "for col in object_columns_4:\n",
    "    print(f'Столбец {col}:')\n",
    "    display(degrees[col].unique())"
   ]
  },
  {
   "cell_type": "code",
   "execution_count": 25,
   "metadata": {},
   "outputs": [],
   "source": [
    "# Создадим цикл для преобразования данных столбцов\n",
    "for col in object_columns_4:\n",
    "    degrees[col] = degrees[col].str.lower()\n",
    "    degrees[col] = degrees[col].str.replace(' ', '_')\n",
    "    degrees[col] = degrees[col].str.replace('.', '', regex=False)"
   ]
  },
  {
   "cell_type": "code",
   "execution_count": 26,
   "metadata": {},
   "outputs": [
    {
     "data": {
      "text/plain": [
       "0"
      ]
     },
     "execution_count": 26,
     "metadata": {},
     "output_type": "execute_result"
    }
   ],
   "source": [
    "# Проверим наличие дубликатов после преобразования\n",
    "degrees.duplicated().sum()"
   ]
  },
  {
   "cell_type": "code",
   "execution_count": 27,
   "metadata": {},
   "outputs": [
    {
     "data": {
      "text/html": [
       "<div>\n",
       "<style scoped>\n",
       "    .dataframe tbody tr th:only-of-type {\n",
       "        vertical-align: middle;\n",
       "    }\n",
       "\n",
       "    .dataframe tbody tr th {\n",
       "        vertical-align: top;\n",
       "    }\n",
       "\n",
       "    .dataframe thead th {\n",
       "        text-align: right;\n",
       "    }\n",
       "</style>\n",
       "<table border=\"1\" class=\"dataframe\">\n",
       "  <thead>\n",
       "    <tr style=\"text-align: right;\">\n",
       "      <th></th>\n",
       "      <th>id</th>\n",
       "      <th>object_id</th>\n",
       "      <th>degree_type</th>\n",
       "      <th>subject</th>\n",
       "    </tr>\n",
       "  </thead>\n",
       "  <tbody>\n",
       "    <tr>\n",
       "      <th>0</th>\n",
       "      <td>1</td>\n",
       "      <td>p:6117</td>\n",
       "      <td>mba</td>\n",
       "      <td>NaN</td>\n",
       "    </tr>\n",
       "    <tr>\n",
       "      <th>1</th>\n",
       "      <td>2</td>\n",
       "      <td>p:6136</td>\n",
       "      <td>ba</td>\n",
       "      <td>english,_french</td>\n",
       "    </tr>\n",
       "    <tr>\n",
       "      <th>2</th>\n",
       "      <td>3</td>\n",
       "      <td>p:6136</td>\n",
       "      <td>ms</td>\n",
       "      <td>mass_communication</td>\n",
       "    </tr>\n",
       "    <tr>\n",
       "      <th>5</th>\n",
       "      <td>6</td>\n",
       "      <td>p:1017</td>\n",
       "      <td>bs</td>\n",
       "      <td>computer_science</td>\n",
       "    </tr>\n",
       "    <tr>\n",
       "      <th>6</th>\n",
       "      <td>7</td>\n",
       "      <td>p:6176</td>\n",
       "      <td>bs</td>\n",
       "      <td>computer_science</td>\n",
       "    </tr>\n",
       "    <tr>\n",
       "      <th>...</th>\n",
       "      <td>...</td>\n",
       "      <td>...</td>\n",
       "      <td>...</td>\n",
       "      <td>...</td>\n",
       "    </tr>\n",
       "    <tr>\n",
       "      <th>109604</th>\n",
       "      <td>109605</td>\n",
       "      <td>p:268589</td>\n",
       "      <td>bs</td>\n",
       "      <td>accounting</td>\n",
       "    </tr>\n",
       "    <tr>\n",
       "      <th>109605</th>\n",
       "      <td>109606</td>\n",
       "      <td>p:268589</td>\n",
       "      <td>cpa</td>\n",
       "      <td>NaN</td>\n",
       "    </tr>\n",
       "    <tr>\n",
       "      <th>109607</th>\n",
       "      <td>109608</td>\n",
       "      <td>p:268527</td>\n",
       "      <td>phd</td>\n",
       "      <td>engineering</td>\n",
       "    </tr>\n",
       "    <tr>\n",
       "      <th>109608</th>\n",
       "      <td>109609</td>\n",
       "      <td>p:268528</td>\n",
       "      <td>bs</td>\n",
       "      <td>electrical_engineering</td>\n",
       "    </tr>\n",
       "    <tr>\n",
       "      <th>109609</th>\n",
       "      <td>109610</td>\n",
       "      <td>p:268528</td>\n",
       "      <td>jd</td>\n",
       "      <td>NaN</td>\n",
       "    </tr>\n",
       "  </tbody>\n",
       "</table>\n",
       "<p>82155 rows × 4 columns</p>\n",
       "</div>"
      ],
      "text/plain": [
       "            id object_id degree_type                 subject\n",
       "0            1    p:6117         mba                     NaN\n",
       "1            2    p:6136          ba         english,_french\n",
       "2            3    p:6136          ms      mass_communication\n",
       "5            6    p:1017          bs        computer_science\n",
       "6            7    p:6176          bs        computer_science\n",
       "...        ...       ...         ...                     ...\n",
       "109604  109605  p:268589          bs              accounting\n",
       "109605  109606  p:268589         cpa                     NaN\n",
       "109607  109608  p:268527         phd             engineering\n",
       "109608  109609  p:268528          bs  electrical_engineering\n",
       "109609  109610  p:268528          jd                     NaN\n",
       "\n",
       "[82155 rows x 4 columns]"
      ]
     },
     "execution_count": 27,
     "metadata": {},
     "output_type": "execute_result"
    }
   ],
   "source": [
    "# Выведем строки, в которых дублируются преобразованные столбцы\n",
    "degrees[degrees.duplicated(subset = ['degree_type', 'subject'], keep = False)]"
   ]
  },
  {
   "cell_type": "markdown",
   "metadata": {},
   "source": [
    "Явных и неявных дубликатов не выявлено"
   ]
  },
  {
   "cell_type": "markdown",
   "metadata": {},
   "source": [
    "#### Промежуточный вывод\n",
    "В ходе первичной предобработки данных были исследованы 5 датасетов (acquisition, company_and_rounds, people, education, degrees) на предмет наличия пропусков, дублей, соответствия типов данных, были оценены объемы и полнота данных датасетов. В результате:\n",
    "1. Были изменены типы данных на соответствующие\n",
    "2. Были выявлены столбцы с пропусками и определено их количество в каждом датасете\n",
    "- в датасете company_and_rounds в столбцах, содержащих информацию о раундах и финансировании, содержится самое большое количество пропусков (порядка 76%). Эти пропуски могут объясняться тем, что компания не участвовала в финансировании. Таким образом, анализ данных показателей может быть проведен на имеющихся данных, однако результат может не отражать реальной картины.\n",
    "- в датасете people в столбцах company_id, network_username количество пропусков довольно высокое (85% и 83% соответственно). Это может говорить о том, что данные о фио сотрудников и практически не привязаны к данным о компании. Это может существенно усложнить анализ данных, связанных с сотрудниками.\n",
    "3. Датасеты были проверены на наличие явных и неявных дублей\n",
    "\n",
    "\n"
   ]
  },
  {
   "cell_type": "markdown",
   "metadata": {
    "id": "u60cHsn6rJg1"
   },
   "source": [
    "## Шаг 2. Предобработка данных, предварительное исследование"
   ]
  },
  {
   "cell_type": "markdown",
   "metadata": {
    "id": "g2bHIIjcrJg1"
   },
   "source": [
    "\n",
    "### 2.1. Раунды финансирования по годам\n",
    "\n",
    "Задание необходимо выполнить без объединения и дополнительной предобработки на основе датасета `company_and_rounds.csv`.\n",
    "\n",
    "- Составьте сводную таблицу по годам, в которой на основании столбца `raised_amount` для каждого года указан:\n",
    "    - типичный размер средств, выделяемый в рамках одного раунда;\n",
    "    - общее количество раундов финансирования за этот год.\n",
    "    \n",
    "- Оставьте в таблице информацию только для тех лет, для которых есть информация о более чем 50 раундах финансирования.\n",
    "- На основе получившейся таблицы постройте график, который будет отражать динамику типичного размера средств, которые стартапы получали в рамках одного раунда финансирования.\n",
    "\n",
    "На основе полученных данных ответьте на вопросы:\n",
    "\n",
    "- В каком году типичный размер собранных в рамках одного раунда средств был максимален?\n",
    "- Какая тенденция по количеству раундов и выделяемых в рамках каждого раунда средств наблюдалась в 2013 году?"
   ]
  },
  {
   "cell_type": "code",
   "execution_count": 28,
   "metadata": {
    "id": "Cf5IjfOQrJg1",
    "vscode": {
     "languageId": "plaintext"
    }
   },
   "outputs": [],
   "source": [
    "# Выделим год из столбца с датой\n",
    "company_and_rounds['year'] = company_and_rounds['funded_at'].dt.year"
   ]
  },
  {
   "cell_type": "code",
   "execution_count": 31,
   "metadata": {},
   "outputs": [
    {
     "data": {
      "text/plain": [
       "count         52928\n",
       "mean        7946092\n",
       "std        42168206\n",
       "min               0\n",
       "25%          246330\n",
       "50%         1600000\n",
       "75%         6700000\n",
       "max      3835050000\n",
       "Name: raised_amount, dtype: object"
      ]
     },
     "execution_count": 31,
     "metadata": {},
     "output_type": "execute_result"
    }
   ],
   "source": [
    "# Проверим статистику по столбцу raised_amount\n",
    "company_and_rounds['raised_amount'].describe().map('{:.0f}'.format)"
   ]
  },
  {
   "cell_type": "markdown",
   "metadata": {},
   "source": [
    "В столбце максимальное значение (3835050000) сильно отличается от медианного (1600000) и среднего (7946092). Кроме того, среднее значение выше медианного, что говорит о неравномерном распределении данных с перекосом в правую сторону. Также такое распределение может говорить о наличии выбросов в данных"
   ]
  },
  {
   "cell_type": "code",
   "execution_count": 32,
   "metadata": {},
   "outputs": [
    {
     "data": {
      "image/png": "[encoded data removed]",
      "text/plain": [
       "<Figure size 864x576 with 1 Axes>"
      ]
     },
     "metadata": {
      "needs_background": "light"
     },
     "output_type": "display_data"
    }
   ],
   "source": [
    "# Построим визуализцию распределения данных столбца raised_amount\n",
    "company_and_rounds.boxplot(column = 'raised_amount', figsize = (12,8))\n",
    "plt.yscale('linear')\n",
    "plt.ticklabel_format(style='plain', axis='y')"
   ]
  },
  {
   "cell_type": "markdown",
   "metadata": {},
   "source": [
    "Согласно полученной визуализации, распределение данных неравномерное, в столбце присутствуют экстремально высокие значения, которые, вероятнее всего, являются выбросами"
   ]
  },
  {
   "cell_type": "code",
   "execution_count": 33,
   "metadata": {},
   "outputs": [
    {
     "data": {
      "image/png": "[encoded data removed]",
      "text/plain": [
       "<Figure size 864x576 with 1 Axes>"
      ]
     },
     "metadata": {
      "needs_background": "light"
     },
     "output_type": "display_data"
    }
   ],
   "source": [
    "# Построим визуализцию распределения данных столбца raised_amount без учета выбросов\n",
    "company_and_rounds.boxplot(column = 'raised_amount', figsize = (12,8), showfliers = False)\n",
    "plt.yscale('linear')\n",
    "plt.ticklabel_format(style='plain', axis='y')"
   ]
  },
  {
   "cell_type": "markdown",
   "metadata": {},
   "source": [
    "Согласно полученным графикам, основной массив значений существенно ниже максимальных значений, в связи с этим дальнейший анализ следует проводить, минимизировав влияние выбросов"
   ]
  },
  {
   "cell_type": "code",
   "execution_count": 34,
   "metadata": {},
   "outputs": [
    {
     "data": {
      "text/html": [
       "<div>\n",
       "<style scoped>\n",
       "    .dataframe tbody tr th:only-of-type {\n",
       "        vertical-align: middle;\n",
       "    }\n",
       "\n",
       "    .dataframe tbody tr th {\n",
       "        vertical-align: top;\n",
       "    }\n",
       "\n",
       "    .dataframe thead th {\n",
       "        text-align: right;\n",
       "    }\n",
       "</style>\n",
       "<table border=\"1\" class=\"dataframe\">\n",
       "  <thead>\n",
       "    <tr style=\"text-align: right;\">\n",
       "      <th></th>\n",
       "      <th>year</th>\n",
       "      <th>funding_rounds</th>\n",
       "      <th>raised_amount</th>\n",
       "    </tr>\n",
       "  </thead>\n",
       "  <tbody>\n",
       "    <tr>\n",
       "      <th>0</th>\n",
       "      <td>1998.0</td>\n",
       "      <td>72.0</td>\n",
       "      <td>100000.0</td>\n",
       "    </tr>\n",
       "    <tr>\n",
       "      <th>1</th>\n",
       "      <td>1999.0</td>\n",
       "      <td>268.0</td>\n",
       "      <td>2000000.0</td>\n",
       "    </tr>\n",
       "    <tr>\n",
       "      <th>2</th>\n",
       "      <td>2000.0</td>\n",
       "      <td>403.0</td>\n",
       "      <td>4200000.0</td>\n",
       "    </tr>\n",
       "    <tr>\n",
       "      <th>3</th>\n",
       "      <td>2001.0</td>\n",
       "      <td>302.0</td>\n",
       "      <td>3000000.0</td>\n",
       "    </tr>\n",
       "    <tr>\n",
       "      <th>4</th>\n",
       "      <td>2002.0</td>\n",
       "      <td>385.0</td>\n",
       "      <td>4200000.0</td>\n",
       "    </tr>\n",
       "    <tr>\n",
       "      <th>5</th>\n",
       "      <td>2003.0</td>\n",
       "      <td>569.0</td>\n",
       "      <td>3000000.0</td>\n",
       "    </tr>\n",
       "    <tr>\n",
       "      <th>6</th>\n",
       "      <td>2004.0</td>\n",
       "      <td>1057.0</td>\n",
       "      <td>5000000.0</td>\n",
       "    </tr>\n",
       "    <tr>\n",
       "      <th>7</th>\n",
       "      <td>2005.0</td>\n",
       "      <td>4157.0</td>\n",
       "      <td>5500000.0</td>\n",
       "    </tr>\n",
       "    <tr>\n",
       "      <th>8</th>\n",
       "      <td>2006.0</td>\n",
       "      <td>6295.0</td>\n",
       "      <td>5000000.0</td>\n",
       "    </tr>\n",
       "    <tr>\n",
       "      <th>9</th>\n",
       "      <td>2007.0</td>\n",
       "      <td>8494.0</td>\n",
       "      <td>3973320.0</td>\n",
       "    </tr>\n",
       "    <tr>\n",
       "      <th>10</th>\n",
       "      <td>2008.0</td>\n",
       "      <td>9931.0</td>\n",
       "      <td>3110000.0</td>\n",
       "    </tr>\n",
       "    <tr>\n",
       "      <th>11</th>\n",
       "      <td>2009.0</td>\n",
       "      <td>11857.0</td>\n",
       "      <td>2000000.0</td>\n",
       "    </tr>\n",
       "    <tr>\n",
       "      <th>12</th>\n",
       "      <td>2010.0</td>\n",
       "      <td>16913.0</td>\n",
       "      <td>1602500.0</td>\n",
       "    </tr>\n",
       "    <tr>\n",
       "      <th>13</th>\n",
       "      <td>2011.0</td>\n",
       "      <td>23503.0</td>\n",
       "      <td>1200000.0</td>\n",
       "    </tr>\n",
       "    <tr>\n",
       "      <th>14</th>\n",
       "      <td>2012.0</td>\n",
       "      <td>24549.0</td>\n",
       "      <td>1000000.0</td>\n",
       "    </tr>\n",
       "    <tr>\n",
       "      <th>15</th>\n",
       "      <td>2013.0</td>\n",
       "      <td>23978.0</td>\n",
       "      <td>1200000.0</td>\n",
       "    </tr>\n",
       "  </tbody>\n",
       "</table>\n",
       "</div>"
      ],
      "text/plain": [
       "      year  funding_rounds  raised_amount\n",
       "0   1998.0            72.0       100000.0\n",
       "1   1999.0           268.0      2000000.0\n",
       "2   2000.0           403.0      4200000.0\n",
       "3   2001.0           302.0      3000000.0\n",
       "4   2002.0           385.0      4200000.0\n",
       "5   2003.0           569.0      3000000.0\n",
       "6   2004.0          1057.0      5000000.0\n",
       "7   2005.0          4157.0      5500000.0\n",
       "8   2006.0          6295.0      5000000.0\n",
       "9   2007.0          8494.0      3973320.0\n",
       "10  2008.0          9931.0      3110000.0\n",
       "11  2009.0         11857.0      2000000.0\n",
       "12  2010.0         16913.0      1602500.0\n",
       "13  2011.0         23503.0      1200000.0\n",
       "14  2012.0         24549.0      1000000.0\n",
       "15  2013.0         23978.0      1200000.0"
      ]
     },
     "metadata": {},
     "output_type": "display_data"
    }
   ],
   "source": [
    "# Построим сводную таблицу распределения количества раундов и типичных размеров средств по годам\n",
    "pivot_raised_amount = pd.pivot_table(company_and_rounds,\n",
    "                                     index = 'year',\n",
    "                                     aggfunc = {'raised_amount':'median',\n",
    "                                                'funding_rounds':'sum'}\n",
    ")\n",
    "pivot_raised_amount['raised_amount'] = round(pivot_raised_amount['raised_amount'],2)\n",
    "\n",
    "# Оставим инфо о годах, для которых есть данные о более чем 50 раундах\n",
    "pivot_raised_amount = pivot_raised_amount.loc[pivot_raised_amount['funding_rounds']>50].reset_index()\n",
    "display(pivot_raised_amount)"
   ]
  },
  {
   "cell_type": "code",
   "execution_count": 35,
   "metadata": {},
   "outputs": [
    {
     "data": {
      "image/png": "[encoded data removed]",
      "text/plain": [
       "<Figure size 864x576 with 2 Axes>"
      ]
     },
     "metadata": {
      "needs_background": "light"
     },
     "output_type": "display_data"
    }
   ],
   "source": [
    "# Построим визуализацию полученных данных\n",
    "subplot = pivot_raised_amount.plot(kind = 'line',\n",
    "                        x = 'year',\n",
    "                        y = ['raised_amount', 'funding_rounds'],\n",
    "                        figsize = (12,8),\n",
    "                        subplots = True,\n",
    "                        sharex = 'year')\n",
    "subplot[0].grid(alpha=0.5)\n",
    "subplot[1].grid(alpha=0.5)\n",
    "subplot[0].ticklabel_format(style = 'plain')\n",
    "plt.suptitle('Динамика типичного размера средств в рамках одного раунда финансирования')\n",
    "plt.xticks(range(int(pivot_raised_amount['year'].min()),int(pivot_raised_amount['year'].max() + 1)))\n",
    "subplot[0].set_ylabel('Сумма финансирования')\n",
    "subplot[1].set_ylabel('Количество раундов')\n",
    "subplot[1].set_xlabel('Год')\n",
    "plt.show()"
   ]
  },
  {
   "cell_type": "markdown",
   "metadata": {},
   "source": [
    "Согласно полученным данным, максимальный размер средств в рамках одного раунда фиксируется в 2005 году (всего 5500000).\n",
    "Типичная сумма раунда в 2013 году увеличилась по сравнению с предыдущим годом (1200000). Одновременно количество раундов, достигнув своего пика в 2012 году (24549), пошло на спад (23978)."
   ]
  },
  {
   "cell_type": "markdown",
   "metadata": {
    "id": "45if1en1rJg2"
   },
   "source": [
    "\n",
    "### 2.2. Люди и их образование\n",
    "\n",
    "Заказчик хочет понять, зависит ли полнота сведений о сотрудниках (например, об их образовании) от размера компаний.\n",
    "\n",
    "- Оцените, насколько информация об образовании сотрудников полна. Используя датасеты `people.csv` и `education.csv`, разделите все компании на несколько групп по количеству сотрудников и оцените среднюю долю сотрудников без информации об образовании в каждой из групп. Обоснуйте выбранные границы групп.\n",
    "- Оцените, возможно ли для выполнения задания присоединить к этим таблицам ещё и таблицу `degrees.csv`."
   ]
  },
  {
   "cell_type": "code",
   "execution_count": 36,
   "metadata": {
    "id": "4FC98Pd-FcmG"
   },
   "outputs": [
    {
     "name": "stdout",
     "output_type": "stream",
     "text": [
      "<class 'pandas.core.frame.DataFrame'>\n",
      "Int64Index: 267694 entries, 0 to 267693\n",
      "Data columns (total 9 columns):\n",
      " #   Column            Non-Null Count   Dtype         \n",
      "---  ------            --------------   -----         \n",
      " 0   id_x              267694 non-null  int64         \n",
      " 1   first_name        267689 non-null  object        \n",
      " 2   last_name         267693 non-null  object        \n",
      " 3   company_id        44789 non-null   float64       \n",
      " 4   network_username  50775 non-null   object        \n",
      " 5   id_y              109056 non-null  float64       \n",
      " 6   person_id         109056 non-null  float64       \n",
      " 7   instituition      109002 non-null  object        \n",
      " 8   graduated_at      57691 non-null   datetime64[ns]\n",
      "dtypes: datetime64[ns](1), float64(3), int64(1), object(4)\n",
      "memory usage: 20.4+ MB\n"
     ]
    }
   ],
   "source": [
    "# Создадим новый объединенный датасет\n",
    "people_edu = people.merge(education, left_on = 'id', right_on = 'person_id', how = 'left')\n",
    "people_edu.info()"
   ]
  },
  {
   "cell_type": "markdown",
   "metadata": {},
   "source": [
    "Строк оказалось больше, чем в изначальном датасете people. Это говорит о том, что в поле id_x в результате присоединения появились дубли. Проверим и исключим дубли из дальнейшего анализа"
   ]
  },
  {
   "cell_type": "code",
   "execution_count": 37,
   "metadata": {},
   "outputs": [
    {
     "data": {
      "text/plain": [
       "40986"
      ]
     },
     "execution_count": 37,
     "metadata": {},
     "output_type": "execute_result"
    }
   ],
   "source": [
    "# Проверим наличие дублей в столбце id_x\n",
    "people_edu['id_x'].duplicated().sum()"
   ]
  },
  {
   "cell_type": "code",
   "execution_count": 38,
   "metadata": {},
   "outputs": [
    {
     "name": "stdout",
     "output_type": "stream",
     "text": [
      "<class 'pandas.core.frame.DataFrame'>\n",
      "Int64Index: 226708 entries, 0 to 267693\n",
      "Data columns (total 9 columns):\n",
      " #   Column            Non-Null Count   Dtype         \n",
      "---  ------            --------------   -----         \n",
      " 0   id_x              226708 non-null  int64         \n",
      " 1   first_name        226703 non-null  object        \n",
      " 2   last_name         226707 non-null  object        \n",
      " 3   company_id        34614 non-null   float64       \n",
      " 4   network_username  38867 non-null   object        \n",
      " 5   id_y              68071 non-null   float64       \n",
      " 6   person_id         68071 non-null   float64       \n",
      " 7   instituition      68031 non-null   object        \n",
      " 8   graduated_at      36387 non-null   datetime64[ns]\n",
      "dtypes: datetime64[ns](1), float64(3), int64(1), object(4)\n",
      "memory usage: 17.3+ MB\n"
     ]
    }
   ],
   "source": [
    "# Исключим дубли из датасета\n",
    "people_edu = people_edu.drop_duplicates(subset = 'id_x') \n",
    "people_edu.info()"
   ]
  },
  {
   "cell_type": "code",
   "execution_count": 39,
   "metadata": {},
   "outputs": [
    {
     "data": {
      "text/plain": [
       "id_x                     0\n",
       "first_name               5\n",
       "last_name                1\n",
       "company_id          192094\n",
       "network_username    187841\n",
       "id_y                158637\n",
       "person_id           158637\n",
       "instituition        158677\n",
       "graduated_at        190321\n",
       "dtype: int64"
      ]
     },
     "execution_count": 39,
     "metadata": {},
     "output_type": "execute_result"
    }
   ],
   "source": [
    "# Оценим полноту информации в датасете\n",
    "people_edu.isna().sum()"
   ]
  },
  {
   "cell_type": "code",
   "execution_count": 40,
   "metadata": {
    "scrolled": true
   },
   "outputs": [
    {
     "data": {
      "text/plain": [
       "id_x                 0.000000\n",
       "first_name           0.002205\n",
       "last_name            0.000441\n",
       "company_id          84.731902\n",
       "network_username    82.855920\n",
       "id_y                69.974152\n",
       "person_id           69.974152\n",
       "instituition        69.991796\n",
       "graduated_at        83.949839\n",
       "dtype: float64"
      ]
     },
     "execution_count": 40,
     "metadata": {},
     "output_type": "execute_result"
    }
   ],
   "source": [
    "# Выведем долю пропусков\n",
    "people_edu.isna().mean()*100"
   ]
  },
  {
   "cell_type": "markdown",
   "metadata": {},
   "source": [
    "Доля пропусков в столбце person_id составляет 70%. Это говорит о том, что данные в таблице education имеются только для 30% уникальных записей в таблице people. Также доля пропусков company_id, network_username является крайне высокой (85% и 83% соответственно). Такое количество пропусков может быть вызвано техническими причинами (например, поле для заполнения данных об образовании было необязательным). Заполнить такие данные расчетными показателями или информацией из внешних источников невозможно. Такое количество пропусков означает, что анализ данных о компаниях возможно провести только на 15% данных. Результаты такого анализа могут не отражать реальной картины по всей генеральной совокупности."
   ]
  },
  {
   "cell_type": "code",
   "execution_count": 41,
   "metadata": {},
   "outputs": [
    {
     "data": {
      "text/plain": [
       "0         False\n",
       "1          True\n",
       "2          True\n",
       "3          True\n",
       "4          True\n",
       "          ...  \n",
       "267689     True\n",
       "267690    False\n",
       "267691    False\n",
       "267692     True\n",
       "267693     True\n",
       "Name: no_education_info, Length: 226708, dtype: bool"
      ]
     },
     "metadata": {},
     "output_type": "display_data"
    }
   ],
   "source": [
    "# Создадим столбец с наличием информации об образовании\n",
    "people_edu['no_education_info'] = people_edu['instituition'].isna()\n",
    "display(people_edu['no_education_info'])"
   ]
  },
  {
   "cell_type": "code",
   "execution_count": 42,
   "metadata": {},
   "outputs": [
    {
     "data": {
      "text/html": [
       "<div>\n",
       "<style scoped>\n",
       "    .dataframe tbody tr th:only-of-type {\n",
       "        vertical-align: middle;\n",
       "    }\n",
       "\n",
       "    .dataframe tbody tr th {\n",
       "        vertical-align: top;\n",
       "    }\n",
       "\n",
       "    .dataframe thead th {\n",
       "        text-align: right;\n",
       "    }\n",
       "</style>\n",
       "<table border=\"1\" class=\"dataframe\">\n",
       "  <thead>\n",
       "    <tr style=\"text-align: right;\">\n",
       "      <th></th>\n",
       "      <th>company_id</th>\n",
       "      <th>count</th>\n",
       "      <th>employees_no_education</th>\n",
       "    </tr>\n",
       "  </thead>\n",
       "  <tbody>\n",
       "    <tr>\n",
       "      <th>0</th>\n",
       "      <td>1.0</td>\n",
       "      <td>2</td>\n",
       "      <td>1</td>\n",
       "    </tr>\n",
       "    <tr>\n",
       "      <th>1</th>\n",
       "      <td>2.0</td>\n",
       "      <td>1</td>\n",
       "      <td>0</td>\n",
       "    </tr>\n",
       "    <tr>\n",
       "      <th>2</th>\n",
       "      <td>3.0</td>\n",
       "      <td>3</td>\n",
       "      <td>1</td>\n",
       "    </tr>\n",
       "    <tr>\n",
       "      <th>3</th>\n",
       "      <td>4.0</td>\n",
       "      <td>13</td>\n",
       "      <td>1</td>\n",
       "    </tr>\n",
       "    <tr>\n",
       "      <th>4</th>\n",
       "      <td>5.0</td>\n",
       "      <td>61</td>\n",
       "      <td>16</td>\n",
       "    </tr>\n",
       "    <tr>\n",
       "      <th>...</th>\n",
       "      <td>...</td>\n",
       "      <td>...</td>\n",
       "      <td>...</td>\n",
       "    </tr>\n",
       "    <tr>\n",
       "      <th>22916</th>\n",
       "      <td>285897.0</td>\n",
       "      <td>2</td>\n",
       "      <td>0</td>\n",
       "    </tr>\n",
       "    <tr>\n",
       "      <th>22917</th>\n",
       "      <td>285953.0</td>\n",
       "      <td>1</td>\n",
       "      <td>1</td>\n",
       "    </tr>\n",
       "    <tr>\n",
       "      <th>22918</th>\n",
       "      <td>285972.0</td>\n",
       "      <td>2</td>\n",
       "      <td>1</td>\n",
       "    </tr>\n",
       "    <tr>\n",
       "      <th>22919</th>\n",
       "      <td>285996.0</td>\n",
       "      <td>1</td>\n",
       "      <td>0</td>\n",
       "    </tr>\n",
       "    <tr>\n",
       "      <th>22920</th>\n",
       "      <td>286091.0</td>\n",
       "      <td>6</td>\n",
       "      <td>2</td>\n",
       "    </tr>\n",
       "  </tbody>\n",
       "</table>\n",
       "<p>22921 rows × 3 columns</p>\n",
       "</div>"
      ],
      "text/plain": [
       "       company_id  count  employees_no_education\n",
       "0             1.0      2                       1\n",
       "1             2.0      1                       0\n",
       "2             3.0      3                       1\n",
       "3             4.0     13                       1\n",
       "4             5.0     61                      16\n",
       "...           ...    ...                     ...\n",
       "22916    285897.0      2                       0\n",
       "22917    285953.0      1                       1\n",
       "22918    285972.0      2                       1\n",
       "22919    285996.0      1                       0\n",
       "22920    286091.0      6                       2\n",
       "\n",
       "[22921 rows x 3 columns]"
      ]
     },
     "metadata": {},
     "output_type": "display_data"
    }
   ],
   "source": [
    "# Группируем по company_id и считаем для каждой компании:\n",
    "# - общее число сотрудников count\n",
    "# - число сотрудников без информации об образовании employees_no_education\n",
    "company_people = people_edu.groupby('company_id').agg(count = ('id_x', 'count'), \n",
    "                                                      employees_no_education = ('no_education_info', 'sum')).reset_index()\n",
    "display(company_people)"
   ]
  },
  {
   "cell_type": "code",
   "execution_count": 43,
   "metadata": {},
   "outputs": [
    {
     "data": {
      "text/html": [
       "<div>\n",
       "<style scoped>\n",
       "    .dataframe tbody tr th:only-of-type {\n",
       "        vertical-align: middle;\n",
       "    }\n",
       "\n",
       "    .dataframe tbody tr th {\n",
       "        vertical-align: top;\n",
       "    }\n",
       "\n",
       "    .dataframe thead th {\n",
       "        text-align: right;\n",
       "    }\n",
       "</style>\n",
       "<table border=\"1\" class=\"dataframe\">\n",
       "  <thead>\n",
       "    <tr style=\"text-align: right;\">\n",
       "      <th></th>\n",
       "      <th>company_id</th>\n",
       "      <th>count</th>\n",
       "      <th>employees_no_education</th>\n",
       "      <th>no_education_ratio</th>\n",
       "    </tr>\n",
       "  </thead>\n",
       "  <tbody>\n",
       "    <tr>\n",
       "      <th>0</th>\n",
       "      <td>1.0</td>\n",
       "      <td>2</td>\n",
       "      <td>1</td>\n",
       "      <td>0.500000</td>\n",
       "    </tr>\n",
       "    <tr>\n",
       "      <th>1</th>\n",
       "      <td>2.0</td>\n",
       "      <td>1</td>\n",
       "      <td>0</td>\n",
       "      <td>0.000000</td>\n",
       "    </tr>\n",
       "    <tr>\n",
       "      <th>2</th>\n",
       "      <td>3.0</td>\n",
       "      <td>3</td>\n",
       "      <td>1</td>\n",
       "      <td>0.333333</td>\n",
       "    </tr>\n",
       "    <tr>\n",
       "      <th>3</th>\n",
       "      <td>4.0</td>\n",
       "      <td>13</td>\n",
       "      <td>1</td>\n",
       "      <td>0.076923</td>\n",
       "    </tr>\n",
       "    <tr>\n",
       "      <th>4</th>\n",
       "      <td>5.0</td>\n",
       "      <td>61</td>\n",
       "      <td>16</td>\n",
       "      <td>0.262295</td>\n",
       "    </tr>\n",
       "    <tr>\n",
       "      <th>...</th>\n",
       "      <td>...</td>\n",
       "      <td>...</td>\n",
       "      <td>...</td>\n",
       "      <td>...</td>\n",
       "    </tr>\n",
       "    <tr>\n",
       "      <th>22916</th>\n",
       "      <td>285897.0</td>\n",
       "      <td>2</td>\n",
       "      <td>0</td>\n",
       "      <td>0.000000</td>\n",
       "    </tr>\n",
       "    <tr>\n",
       "      <th>22917</th>\n",
       "      <td>285953.0</td>\n",
       "      <td>1</td>\n",
       "      <td>1</td>\n",
       "      <td>1.000000</td>\n",
       "    </tr>\n",
       "    <tr>\n",
       "      <th>22918</th>\n",
       "      <td>285972.0</td>\n",
       "      <td>2</td>\n",
       "      <td>1</td>\n",
       "      <td>0.500000</td>\n",
       "    </tr>\n",
       "    <tr>\n",
       "      <th>22919</th>\n",
       "      <td>285996.0</td>\n",
       "      <td>1</td>\n",
       "      <td>0</td>\n",
       "      <td>0.000000</td>\n",
       "    </tr>\n",
       "    <tr>\n",
       "      <th>22920</th>\n",
       "      <td>286091.0</td>\n",
       "      <td>6</td>\n",
       "      <td>2</td>\n",
       "      <td>0.333333</td>\n",
       "    </tr>\n",
       "  </tbody>\n",
       "</table>\n",
       "<p>22921 rows × 4 columns</p>\n",
       "</div>"
      ],
      "text/plain": [
       "       company_id  count  employees_no_education  no_education_ratio\n",
       "0             1.0      2                       1            0.500000\n",
       "1             2.0      1                       0            0.000000\n",
       "2             3.0      3                       1            0.333333\n",
       "3             4.0     13                       1            0.076923\n",
       "4             5.0     61                      16            0.262295\n",
       "...           ...    ...                     ...                 ...\n",
       "22916    285897.0      2                       0            0.000000\n",
       "22917    285953.0      1                       1            1.000000\n",
       "22918    285972.0      2                       1            0.500000\n",
       "22919    285996.0      1                       0            0.000000\n",
       "22920    286091.0      6                       2            0.333333\n",
       "\n",
       "[22921 rows x 4 columns]"
      ]
     },
     "metadata": {},
     "output_type": "display_data"
    }
   ],
   "source": [
    "# Добавляем долю сотрудников без информации об образовании\n",
    "company_people['no_education_ratio'] = company_people['employees_no_education'] / company_people['count']\n",
    "display(company_people)"
   ]
  },
  {
   "cell_type": "code",
   "execution_count": 44,
   "metadata": {},
   "outputs": [
    {
     "data": {
      "text/plain": [
       "count    22921.000000\n",
       "mean         1.510144\n",
       "std          2.764379\n",
       "min          1.000000\n",
       "25%          1.000000\n",
       "50%          1.000000\n",
       "75%          1.000000\n",
       "max        244.000000\n",
       "Name: count, dtype: float64"
      ]
     },
     "execution_count": 44,
     "metadata": {},
     "output_type": "execute_result"
    }
   ],
   "source": [
    "# Проверим статистику по количеству сотрудников\n",
    "company_people['count'].describe()"
   ]
  },
  {
   "cell_type": "code",
   "execution_count": 45,
   "metadata": {},
   "outputs": [
    {
     "name": "stdout",
     "output_type": "stream",
     "text": [
      "    index  count  proportion\n",
      "0       1  18116   79.036691\n",
      "1       2   2709   11.818856\n",
      "2       3    921    4.018149\n",
      "3       4    450    1.963265\n",
      "4       5    237    1.033986\n",
      "5       6    138    0.602068\n",
      "6       7    100    0.436281\n",
      "7       8     59    0.257406\n",
      "8       9     46    0.200689\n",
      "10     10     25    0.109070\n",
      "9      11     30    0.130884\n",
      "12     12     16    0.069805\n",
      "11     13     17    0.074168\n",
      "13     14      8    0.034902\n",
      "17     15      3    0.013088\n",
      "15     16      4    0.017451\n",
      "14     17      5    0.021814\n",
      "19     18      3    0.013088\n",
      "20     19      3    0.013088\n",
      "18     20      3    0.013088\n",
      "21     21      2    0.008726\n",
      "22     22      2    0.008726\n",
      "16     23      3    0.013088\n",
      "24     25      2    0.008726\n",
      "33     26      1    0.004363\n",
      "25     29      2    0.008726\n",
      "28     31      1    0.004363\n",
      "38     32      1    0.004363\n",
      "26     35      1    0.004363\n",
      "36     36      1    0.004363\n",
      "37     39      1    0.004363\n",
      "27     47      1    0.004363\n",
      "29     48      1    0.004363\n",
      "31     51      1    0.004363\n",
      "23     56      2    0.008726\n",
      "30     61      1    0.004363\n",
      "40     63      1    0.004363\n",
      "35     72      1    0.004363\n",
      "32    138      1    0.004363\n",
      "39    150      1    0.004363\n",
      "34    244      1    0.004363\n"
     ]
    }
   ],
   "source": [
    "# Выведем данные о распределении сотрудников\n",
    "abs_counts = company_people['count'].value_counts()\n",
    "rel_counts = company_people['count'].value_counts(normalize=True)*100\n",
    "\n",
    "# Объединим в один DataFrame\n",
    "result = pd.DataFrame({\n",
    "    'count': abs_counts,\n",
    "    'proportion': rel_counts\n",
    "}).reset_index().sort_values(by = 'index')\n",
    "\n",
    "print(result)"
   ]
  },
  {
   "cell_type": "markdown",
   "metadata": {},
   "source": [
    "Согласно полученным данным, 79% всех компаний имеет всего одного сотрудника. Компании, имеющие более 25 сотрудников, представлены в единичном количестве."
   ]
  },
  {
   "cell_type": "code",
   "execution_count": 48,
   "metadata": {},
   "outputs": [
    {
     "data": {
      "text/html": [
       "<div>\n",
       "<style scoped>\n",
       "    .dataframe tbody tr th:only-of-type {\n",
       "        vertical-align: middle;\n",
       "    }\n",
       "\n",
       "    .dataframe tbody tr th {\n",
       "        vertical-align: top;\n",
       "    }\n",
       "\n",
       "    .dataframe thead th {\n",
       "        text-align: right;\n",
       "    }\n",
       "</style>\n",
       "<table border=\"1\" class=\"dataframe\">\n",
       "  <thead>\n",
       "    <tr style=\"text-align: right;\">\n",
       "      <th></th>\n",
       "      <th>company_id</th>\n",
       "      <th>count</th>\n",
       "      <th>employees_no_education</th>\n",
       "      <th>no_education_ratio</th>\n",
       "      <th>company_size</th>\n",
       "    </tr>\n",
       "  </thead>\n",
       "  <tbody>\n",
       "    <tr>\n",
       "      <th>0</th>\n",
       "      <td>1.0</td>\n",
       "      <td>2</td>\n",
       "      <td>1</td>\n",
       "      <td>0.500000</td>\n",
       "      <td>малая</td>\n",
       "    </tr>\n",
       "    <tr>\n",
       "      <th>1</th>\n",
       "      <td>2.0</td>\n",
       "      <td>1</td>\n",
       "      <td>0</td>\n",
       "      <td>0.000000</td>\n",
       "      <td>микро</td>\n",
       "    </tr>\n",
       "    <tr>\n",
       "      <th>2</th>\n",
       "      <td>3.0</td>\n",
       "      <td>3</td>\n",
       "      <td>1</td>\n",
       "      <td>0.333333</td>\n",
       "      <td>малая</td>\n",
       "    </tr>\n",
       "    <tr>\n",
       "      <th>3</th>\n",
       "      <td>4.0</td>\n",
       "      <td>13</td>\n",
       "      <td>1</td>\n",
       "      <td>0.076923</td>\n",
       "      <td>крупная</td>\n",
       "    </tr>\n",
       "    <tr>\n",
       "      <th>4</th>\n",
       "      <td>5.0</td>\n",
       "      <td>61</td>\n",
       "      <td>16</td>\n",
       "      <td>0.262295</td>\n",
       "      <td>крупная</td>\n",
       "    </tr>\n",
       "    <tr>\n",
       "      <th>...</th>\n",
       "      <td>...</td>\n",
       "      <td>...</td>\n",
       "      <td>...</td>\n",
       "      <td>...</td>\n",
       "      <td>...</td>\n",
       "    </tr>\n",
       "    <tr>\n",
       "      <th>22916</th>\n",
       "      <td>285897.0</td>\n",
       "      <td>2</td>\n",
       "      <td>0</td>\n",
       "      <td>0.000000</td>\n",
       "      <td>малая</td>\n",
       "    </tr>\n",
       "    <tr>\n",
       "      <th>22917</th>\n",
       "      <td>285953.0</td>\n",
       "      <td>1</td>\n",
       "      <td>1</td>\n",
       "      <td>1.000000</td>\n",
       "      <td>микро</td>\n",
       "    </tr>\n",
       "    <tr>\n",
       "      <th>22918</th>\n",
       "      <td>285972.0</td>\n",
       "      <td>2</td>\n",
       "      <td>1</td>\n",
       "      <td>0.500000</td>\n",
       "      <td>малая</td>\n",
       "    </tr>\n",
       "    <tr>\n",
       "      <th>22919</th>\n",
       "      <td>285996.0</td>\n",
       "      <td>1</td>\n",
       "      <td>0</td>\n",
       "      <td>0.000000</td>\n",
       "      <td>микро</td>\n",
       "    </tr>\n",
       "    <tr>\n",
       "      <th>22920</th>\n",
       "      <td>286091.0</td>\n",
       "      <td>6</td>\n",
       "      <td>2</td>\n",
       "      <td>0.333333</td>\n",
       "      <td>средняя</td>\n",
       "    </tr>\n",
       "  </tbody>\n",
       "</table>\n",
       "<p>22921 rows × 5 columns</p>\n",
       "</div>"
      ],
      "text/plain": [
       "       company_id  count  employees_no_education  no_education_ratio  \\\n",
       "0             1.0      2                       1            0.500000   \n",
       "1             2.0      1                       0            0.000000   \n",
       "2             3.0      3                       1            0.333333   \n",
       "3             4.0     13                       1            0.076923   \n",
       "4             5.0     61                      16            0.262295   \n",
       "...           ...    ...                     ...                 ...   \n",
       "22916    285897.0      2                       0            0.000000   \n",
       "22917    285953.0      1                       1            1.000000   \n",
       "22918    285972.0      2                       1            0.500000   \n",
       "22919    285996.0      1                       0            0.000000   \n",
       "22920    286091.0      6                       2            0.333333   \n",
       "\n",
       "      company_size  \n",
       "0            малая  \n",
       "1            микро  \n",
       "2            малая  \n",
       "3          крупная  \n",
       "4          крупная  \n",
       "...            ...  \n",
       "22916        малая  \n",
       "22917        микро  \n",
       "22918        малая  \n",
       "22919        микро  \n",
       "22920      средняя  \n",
       "\n",
       "[22921 rows x 5 columns]"
      ]
     },
     "metadata": {},
     "output_type": "display_data"
    }
   ],
   "source": [
    "# Разделим компании на группы\n",
    "company_people['company_size'] = pd.cut(company_people['count'], bins = [0,1,5,10, 245], \n",
    "                                        labels = ['микро', 'малая', 'средняя', 'крупная'])\n",
    "display(company_people)"
   ]
  },
  {
   "cell_type": "markdown",
   "metadata": {},
   "source": [
    "В основу распределения по группа был положен принцип сохранение наиболее равного представительства компаний"
   ]
  },
  {
   "cell_type": "code",
   "execution_count": 49,
   "metadata": {},
   "outputs": [
    {
     "data": {
      "text/plain": [
       "company_size\n",
       "микро      18116\n",
       "малая       4317\n",
       "средняя      368\n",
       "крупная      120\n",
       "Name: company_id, dtype: int64"
      ]
     },
     "metadata": {},
     "output_type": "display_data"
    }
   ],
   "source": [
    "# Выведем инфо о полученных группах\n",
    "group_info = company_people.groupby('company_size')['company_id'].count()\n",
    "display(group_info)"
   ]
  },
  {
   "cell_type": "code",
   "execution_count": 50,
   "metadata": {},
   "outputs": [
    {
     "data": {
      "text/plain": [
       "company_size\n",
       "микро      46.312652\n",
       "малая      47.635704\n",
       "средняя    53.182798\n",
       "крупная    42.914394\n",
       "Name: no_education_ratio, dtype: float64"
      ]
     },
     "metadata": {},
     "output_type": "display_data"
    }
   ],
   "source": [
    "# Выведем средние доли сотрудников без информации об образовании в зависимости от компании  \n",
    "no_education = company_people.groupby('company_size')['no_education_ratio'].mean()*100\n",
    "display(no_education)"
   ]
  },
  {
   "cell_type": "markdown",
   "metadata": {},
   "source": [
    "Наибольшая доля сотрудников без инфо об образовании приходится на организации среднего размера (6-10 сотрудников). В таких организациях средняя доля сотрудников без инфо об образовании равна 53%. Самая низкая доля сотрудников без инфо об образовании приходится на крупные компании (от 11 до 245 сотрудников). Средняя доля таких сотрудников равна 43%. Однако важно учитывать, что полученные результаты отражают 17% данных всего датасета, в связи с чем те же показатели по всему датасету могут отличаться. Также важно учитывать неравномерное распределение данных по группам. "
   ]
  },
  {
   "cell_type": "code",
   "execution_count": 51,
   "metadata": {},
   "outputs": [],
   "source": [
    "# Скоректируем тип столбца object_id для присоединения к датасету\n",
    "degrees['object_id'] = degrees['object_id'].str.replace('p:', '').astype('int64')"
   ]
  },
  {
   "cell_type": "code",
   "execution_count": 52,
   "metadata": {},
   "outputs": [
    {
     "name": "stdout",
     "output_type": "stream",
     "text": [
      "<class 'pandas.core.frame.DataFrame'>\n",
      "Int64Index: 267693 entries, 0 to 267692\n",
      "Data columns (total 14 columns):\n",
      " #   Column             Non-Null Count   Dtype         \n",
      "---  ------             --------------   -----         \n",
      " 0   id_x               267693 non-null  int64         \n",
      " 1   first_name         267688 non-null  object        \n",
      " 2   last_name          267692 non-null  object        \n",
      " 3   company_id         44788 non-null   float64       \n",
      " 4   network_username   50775 non-null   object        \n",
      " 5   id_y               109056 non-null  float64       \n",
      " 6   person_id          109056 non-null  float64       \n",
      " 7   instituition       109006 non-null  object        \n",
      " 8   graduated_at       58783 non-null   datetime64[ns]\n",
      " 9   no_education_info  267693 non-null  bool          \n",
      " 10  id                 109056 non-null  float64       \n",
      " 11  object_id          109056 non-null  float64       \n",
      " 12  degree_type        97886 non-null   object        \n",
      " 13  subject            80890 non-null   object        \n",
      "dtypes: bool(1), datetime64[ns](1), float64(5), int64(1), object(6)\n",
      "memory usage: 28.8+ MB\n"
     ]
    }
   ],
   "source": [
    "# Создадим новый объединенный датасет\n",
    "people_edu_degree = people_edu.merge(degrees, left_on = 'id_x', right_on = 'object_id', how = 'left')\n",
    "people_edu_degree.info()"
   ]
  },
  {
   "cell_type": "code",
   "execution_count": 53,
   "metadata": {},
   "outputs": [
    {
     "name": "stdout",
     "output_type": "stream",
     "text": [
      "<class 'pandas.core.frame.DataFrame'>\n",
      "Int64Index: 226708 entries, 0 to 267692\n",
      "Data columns (total 14 columns):\n",
      " #   Column             Non-Null Count   Dtype         \n",
      "---  ------             --------------   -----         \n",
      " 0   id_x               226708 non-null  int64         \n",
      " 1   first_name         226703 non-null  object        \n",
      " 2   last_name          226707 non-null  object        \n",
      " 3   company_id         34614 non-null   float64       \n",
      " 4   network_username   38867 non-null   object        \n",
      " 5   id_y               68071 non-null   float64       \n",
      " 6   person_id          68071 non-null   float64       \n",
      " 7   instituition       68031 non-null   object        \n",
      " 8   graduated_at       36387 non-null   datetime64[ns]\n",
      " 9   no_education_info  226708 non-null  bool          \n",
      " 10  id                 68071 non-null   float64       \n",
      " 11  object_id          68071 non-null   float64       \n",
      " 12  degree_type        61401 non-null   object        \n",
      " 13  subject            50808 non-null   object        \n",
      "dtypes: bool(1), datetime64[ns](1), float64(5), int64(1), object(6)\n",
      "memory usage: 24.4+ MB\n"
     ]
    }
   ],
   "source": [
    "#Удалим дубли\n",
    "people_edu_degree = people_edu_degree.drop_duplicates(subset = 'id_x') \n",
    "people_edu_degree.info()"
   ]
  },
  {
   "cell_type": "code",
   "execution_count": 54,
   "metadata": {},
   "outputs": [
    {
     "data": {
      "text/plain": [
       "id_x                      0\n",
       "first_name                5\n",
       "last_name                 1\n",
       "company_id           192094\n",
       "network_username     187841\n",
       "id_y                 158637\n",
       "person_id            158637\n",
       "instituition         158677\n",
       "graduated_at         190321\n",
       "no_education_info         0\n",
       "id                   158637\n",
       "object_id            158637\n",
       "degree_type          165307\n",
       "subject              175900\n",
       "dtype: int64"
      ]
     },
     "execution_count": 54,
     "metadata": {},
     "output_type": "execute_result"
    }
   ],
   "source": [
    "# Проверим количество пропусков\n",
    "people_edu_degree.isna().sum()"
   ]
  },
  {
   "cell_type": "code",
   "execution_count": 55,
   "metadata": {},
   "outputs": [
    {
     "data": {
      "text/plain": [
       "id_x                  0.000000\n",
       "first_name            0.002205\n",
       "last_name             0.000441\n",
       "company_id           84.731902\n",
       "network_username     82.855920\n",
       "id_y                 69.974152\n",
       "person_id            69.974152\n",
       "instituition         69.991796\n",
       "graduated_at         83.949839\n",
       "no_education_info     0.000000\n",
       "id                   69.974152\n",
       "object_id            69.974152\n",
       "degree_type          72.916262\n",
       "subject              77.588793\n",
       "dtype: float64"
      ]
     },
     "execution_count": 55,
     "metadata": {},
     "output_type": "execute_result"
    }
   ],
   "source": [
    "# Проверим количество пропусков\n",
    "people_edu_degree.isna().mean()*100"
   ]
  },
  {
   "cell_type": "markdown",
   "metadata": {},
   "source": [
    "Таблицу degree можно присоединить к объединенному ранее датасету people_edu, однако процент пропусков так же, как и в случае с таблицей education, является высоким (70%). Проценты пропусков в основных столбцах с данными составляют 73% и 77%. Использование для анализа данных с таким количеством пропусков может дать картину, не отражающую реальные показатели по всей генеральной совокупности."
   ]
  },
  {
   "cell_type": "markdown",
   "metadata": {
    "id": "Lz7qjM32xglW"
   },
   "source": [
    "### 2.3. Объединять или не объединять — вот в чём вопрос\n",
    "\n",
    "Некоторые названия столбцов встречаются в датасетах чаще других. В результате предварительной проверки датасетов было выяснено, что столбец `company_id` подходит для объединения данных.\n",
    "\n",
    "- Установите, подходит ли для объединения данных столбец `network_username`, который встречается в нескольких датасетах. Нам необходимо понимать, дублируется ли для разных датасетов информация в столбцах с таким названием, и если да — то насколько часто.\n",
    "- Оцените, можно ли использовать столбцы с именем `network_username` для объединения данных."
   ]
  },
  {
   "cell_type": "markdown",
   "metadata": {
    "id": "zyI3rt0rxg1O"
   },
   "source": [
    "Столбец network_username встречается в 2 датасетах: company_and_rounds и people. Проверим уникальность этих столбцов в каждом датасете, а также частоту дублировния информации ли для разных датасетов в столбцах с таким названием."
   ]
  },
  {
   "cell_type": "code",
   "execution_count": 56,
   "metadata": {
    "id": "RxOS5rwmFcNW"
   },
   "outputs": [
    {
     "name": "stdout",
     "output_type": "stream",
     "text": [
      "Общее количество строк датасета company_and_rounds: 217774\n",
      "Общее количество ненулевых значений в столбце network_username датасета company_and_rounds: 95534\n",
      "Количество уникальных значений в столбце network_username датасета company_and_rounds: 79374\n",
      "Количество дублей в столбце network_username датасета company_and_rounds: 16160\n",
      "Доля строк в столбце network_username от общего количества значений датасета company_and_rounds: 43.87%\n",
      "Процент дублей в столбце network_username датасета company_and_rounds от общего количества значений: 16.92%\n"
     ]
    }
   ],
   "source": [
    "# Проверим уникальность значений в столбце network_username датасета company_and_rounds\n",
    "string_1 = company_and_rounds.shape[0]\n",
    "print(f'Общее количество строк датасета company_and_rounds: {string_1}')\n",
    "\n",
    "count_1 = company_and_rounds['network_username'].count()\n",
    "print(f'Общее количество ненулевых значений в столбце network_username датасета company_and_rounds: {count_1}')\n",
    "\n",
    "uniq_1 = company_and_rounds['network_username'].nunique()\n",
    "print(f'Количество уникальных значений в столбце network_username датасета company_and_rounds: {uniq_1}')\n",
    "\n",
    "dupl_1 = count_1 - uniq_1\n",
    "print(f'Количество дублей в столбце network_username датасета company_and_rounds: {dupl_1}')\n",
    "\n",
    "string_per_1 = round(count_1 / string_1 * 100, 2)\n",
    "print(f'Доля строк в столбце network_username от общего количества значений датасета company_and_rounds: {string_per_1}%')\n",
    "\n",
    "dupl_per_1 = round(dupl_1 / count_1 * 100, 2)\n",
    "print(f'Процент дублей в столбце network_username датасета company_and_rounds от общего количества значений: {dupl_per_1}%')"
   ]
  },
  {
   "cell_type": "code",
   "execution_count": 57,
   "metadata": {
    "id": "_7gjdrGOFcB2"
   },
   "outputs": [
    {
     "name": "stdout",
     "output_type": "stream",
     "text": [
      "Общее количество строк датасета people: 226709\n",
      "Общее количество ненулевых значений в столбце network_username датасета people: 38867\n",
      "Количество уникальных значений в столбце network_username датасета people: 38384\n",
      "Количество дублей в столбце network_username датасета people: 483\n",
      "Доля строк в столбце network_username от общего количества значений датасета people: 17.14%\n",
      "Процент дублей в столбце network_username датасета people от общего количества значений: 1.24%\n"
     ]
    }
   ],
   "source": [
    "# Проверим уникальность значений в столбце network_username датасета people\n",
    "string_2 = people.shape[0]\n",
    "print(f'Общее количество строк датасета people: {string_2}')\n",
    "\n",
    "count_2 = people['network_username'].count()\n",
    "print(f'Общее количество ненулевых значений в столбце network_username датасета people: {count_2}')\n",
    "\n",
    "uniq_2 = people['network_username'].nunique()\n",
    "print(f'Количество уникальных значений в столбце network_username датасета people: {uniq_2}')\n",
    "\n",
    "dupl_2 = count_2 - uniq_2\n",
    "print(f'Количество дублей в столбце network_username датасета people: {dupl_2}')\n",
    "\n",
    "string_per_2 = round(count_2 / string_2 * 100, 2)\n",
    "print(f'Доля строк в столбце network_username от общего количества значений датасета people: {string_per_2}%')\n",
    "\n",
    "dupl_per_2 = round(dupl_2 / count_2 * 100, 2)\n",
    "print(f'Процент дублей в столбце network_username датасета people от общего количества значений: {dupl_per_2}%')"
   ]
  },
  {
   "cell_type": "markdown",
   "metadata": {},
   "source": [
    "Оба столбца содержат большое количество пропусков относительно всего датафрейма, при объединении такие пропуски необходимо удалить, в результате значительная часть данных будет потеряна.  \n",
    "Оба столбца содержат большое количество дубликатов, в связи с этим, в исходном виде не подходят в качестве ключа для объединения датасетов. Для объединения датасетов по столбцу network_username необходимо очистить данные в двух датасетах от дублей, что также означает потерю данных."
   ]
  },
  {
   "cell_type": "code",
   "execution_count": 58,
   "metadata": {
    "scrolled": true
   },
   "outputs": [],
   "source": [
    "# Создадим копии датасетов для тестового объединения и удаления данных\n",
    "company_and_rounds_2 = company_and_rounds.copy()\n",
    "people_2 = people.copy()"
   ]
  },
  {
   "cell_type": "code",
   "execution_count": 59,
   "metadata": {},
   "outputs": [],
   "source": [
    "# Очистим столбцы датасетов от дублей для объединения и проверки количества совпадающих значений\n",
    "company_and_rounds_2['network_username'] = company_and_rounds_2.drop_duplicates(subset = 'network_username')\n",
    "people_2['network_username'] = people_2.drop_duplicates(subset = 'network_username')"
   ]
  },
  {
   "cell_type": "code",
   "execution_count": 60,
   "metadata": {},
   "outputs": [],
   "source": [
    "# Очистим столбцы датасетов от пропусков для объединения и проверки количества совпадающих значений\n",
    "company_and_rounds_2 = company_and_rounds_2.dropna(subset=['network_username'])\n",
    "people_2 = people_2.dropna(subset=['network_username'])\n"
   ]
  },
  {
   "cell_type": "code",
   "execution_count": 61,
   "metadata": {},
   "outputs": [],
   "source": [
    "# Создадим новый объединенный датасет\n",
    "new_df = company_and_rounds_2.merge(people_2, on = 'network_username', how = 'inner')"
   ]
  },
  {
   "cell_type": "code",
   "execution_count": 62,
   "metadata": {},
   "outputs": [
    {
     "name": "stdout",
     "output_type": "stream",
     "text": [
      "Количество строк в новом датасете (количество совпадений значений столбцов network_username): 11105\n",
      "Доля строк, сохранившихся в новом датасете, от общего количества значений датасета company_and_rounds: 5.1%\n",
      "Доля строк, сохранившихся в новом датасете, от общего количества значений датасета people: 4.9%\n"
     ]
    }
   ],
   "source": [
    "# Выведем информацию о количестве и соотношении строк нового датасета с исходными датасетами\n",
    "new_df_string = new_df['network_username'].nunique()\n",
    "print(f'Количество строк в новом датасете (количество совпадений значений столбцов network_username): {new_df_string}')\n",
    "\n",
    "new_df_per_1 = round(new_df_string / string_1 * 100, 2)\n",
    "print(f'Доля строк, сохранившихся в новом датасете, от общего количества значений датасета company_and_rounds: {new_df_per_1}%')\n",
    "\n",
    "new_df_per_2 = round(new_df_string / string_2 * 100, 2)\n",
    "print(f'Доля строк, сохранившихся в новом датасете, от общего количества значений датасета people: {new_df_per_2}%')"
   ]
  },
  {
   "cell_type": "markdown",
   "metadata": {},
   "source": [
    "Анализ данных столбцов network_username в датасетах company_and_rounds и people показал, что объединение датасетов по данным столбцам влечет за собой существенную потерю данных. При объединении по столбцу network_username от исходных датасетов остается порядка 5% данных (5.1% от датасета company_and_rounds, 4.9% от датасета people). Данный столбец не следует использовать для объединения датасетов."
   ]
  },
  {
   "cell_type": "markdown",
   "metadata": {
    "id": "EHcODomVrJg1"
   },
   "source": [
    "\n",
    "### 2.4. Проблемный датасет и причина возникновения пропусков\n",
    "\n",
    "Во время собственного анализа данных у заказчика больше всего вопросов возникло к датасету `company_and_rounds.csv`. В нём много пропусков как раз в информации о раундах, которая заказчику важна.\n",
    "\n",
    "- Любым удобным способом приведите данные в вид, который позволит в дальнейшем проводить анализ в разрезе отдельных компаний. Обратите внимание на структуру датасета, порядок и названия столбцов, проанализируйте значения.\n",
    "\n",
    "По гипотезе заказчика данные по компаниям из этой таблицы раньше хранились иначе, более удобным для исследования образом.\n",
    "\n",
    "- Максимальным образом сохраняя данные, сохранив их связность и исключив возможные возникающие при этом ошибки, подготовьте данные так, чтобы удобно было отобрать компании по параметрам и рассчитать показатели из расчёта на одну компанию без промежуточных агрегаций."
   ]
  },
  {
   "cell_type": "code",
   "execution_count": 64,
   "metadata": {
    "id": "oSk7xqu_FbaN"
   },
   "outputs": [
    {
     "name": "stdout",
     "output_type": "stream",
     "text": [
      "<class 'pandas.core.frame.DataFrame'>\n",
      "RangeIndex: 217774 entries, 0 to 217773\n",
      "Data columns (total 23 columns):\n",
      " #   Column               Non-Null Count   Dtype         \n",
      "---  ------               --------------   -----         \n",
      " 0   company_id           217472 non-null  float64       \n",
      " 1   name                 217472 non-null  object        \n",
      " 2   category_code        143886 non-null  object        \n",
      " 3   status               217472 non-null  object        \n",
      " 4   founded_at           109956 non-null  datetime64[ns]\n",
      " 5   closed_at            3449 non-null    datetime64[ns]\n",
      " 6   domain               147159 non-null  object        \n",
      " 7   network_username     95534 non-null   object        \n",
      " 8   country_code         108607 non-null  object        \n",
      " 9   investment_rounds    217472 non-null  float64       \n",
      " 10  funding_rounds       217472 non-null  float64       \n",
      " 11  funding_total        217472 non-null  float64       \n",
      " 12  milestones           217472 non-null  float64       \n",
      " 13  funding_round_id     52928 non-null   float64       \n",
      " 14  company_id_2         52928 non-null   float64       \n",
      " 15  funded_at            52680 non-null   datetime64[ns]\n",
      " 16  funding_round_type   52928 non-null   object        \n",
      " 17  raised_amount        52928 non-null   float64       \n",
      " 18  pre_money_valuation  52928 non-null   float64       \n",
      " 19  participants         52928 non-null   float64       \n",
      " 20  is_first_round       52928 non-null   float64       \n",
      " 21  is_last_round        52928 non-null   float64       \n",
      " 22  year                 52680 non-null   float64       \n",
      "dtypes: datetime64[ns](3), float64(13), object(7)\n",
      "memory usage: 38.2+ MB\n"
     ]
    }
   ],
   "source": [
    "# Выведем инфо о датасете\n",
    "company_and_rounds.info()"
   ]
  },
  {
   "cell_type": "markdown",
   "metadata": {
    "id": "9BY9lTUcFbJ-"
   },
   "source": [
    "Исходя из структуры данных, вероятнее всего, данные о компаниях и данные о раундах хранились в разных таблицах. Об этом говорит количество данных, зависящее от тематики столбца (столбцы company_id, name, category_code, status, founded_at,  closed_at, domain, network_username, country_code, investment_rounds, funding_rounds, funding_total, milestones - данные о компании, для большинства столбцов количество данных 217427. Столбцы funding_round_id, company_id_2, funded_at, funding_round_type, raised_amount, pre_money_valuation,  participants, is_first_round, is_last_round - данные о раундах, для большинства столбцов количество данных составляет 52928).  \n",
    "Неравномерное распределение данных, большое количество пропусков, дублирование столбца company_id может являться результатом объединения таблиц.  \n",
    "Также анализ показывает, что общее количество строк датасета (217774) отличается от количества значений в столбце company_id (217472), что также может указывать на объединение таблиц.  \n",
    "\n",
    "Сам датасет проверен ранее на наличие дубликатов, пропущенных значений, соответствие форматов данных. Дубликатов в датасете не было обнаружено, типы данных заменены на соответствующие.\n"
   ]
  },
  {
   "cell_type": "code",
   "execution_count": 65,
   "metadata": {},
   "outputs": [],
   "source": [
    "# Разделим датасет на два \n",
    "companies_df = company_and_rounds.iloc[:, :13]\n",
    "rounds_df = company_and_rounds.iloc[:, 13:]"
   ]
  },
  {
   "cell_type": "code",
   "execution_count": 66,
   "metadata": {},
   "outputs": [
    {
     "data": {
      "text/plain": [
       "21220"
      ]
     },
     "metadata": {},
     "output_type": "display_data"
    },
    {
     "data": {
      "text/plain": [
       "164845"
      ]
     },
     "metadata": {},
     "output_type": "display_data"
    }
   ],
   "source": [
    "#Проверим датасеты на дубликаты\n",
    "for df in [companies_df, rounds_df]:\n",
    "    display(df.duplicated().sum())"
   ]
  },
  {
   "cell_type": "code",
   "execution_count": 67,
   "metadata": {},
   "outputs": [],
   "source": [
    "# Удалим дубли из датасетов\n",
    "companies_df = companies_df.drop_duplicates()\n",
    "rounds_df = rounds_df.drop_duplicates()"
   ]
  },
  {
   "cell_type": "code",
   "execution_count": 68,
   "metadata": {},
   "outputs": [
    {
     "name": "stdout",
     "output_type": "stream",
     "text": [
      "<class 'pandas.core.frame.DataFrame'>\n",
      "Int64Index: 196554 entries, 0 to 217472\n",
      "Data columns (total 13 columns):\n",
      " #   Column             Non-Null Count   Dtype         \n",
      "---  ------             --------------   -----         \n",
      " 0   company_id         196553 non-null  float64       \n",
      " 1   name               196553 non-null  object        \n",
      " 2   category_code      123186 non-null  object        \n",
      " 3   status             196553 non-null  object        \n",
      " 4   founded_at         91227 non-null   datetime64[ns]\n",
      " 5   closed_at          2620 non-null    datetime64[ns]\n",
      " 6   domain             126545 non-null  object        \n",
      " 7   network_username   80591 non-null   object        \n",
      " 8   country_code       87990 non-null   object        \n",
      " 9   investment_rounds  196553 non-null  float64       \n",
      " 10  funding_rounds     196553 non-null  float64       \n",
      " 11  funding_total      196553 non-null  float64       \n",
      " 12  milestones         196553 non-null  float64       \n",
      "dtypes: datetime64[ns](2), float64(5), object(6)\n",
      "memory usage: 21.0+ MB\n"
     ]
    },
    {
     "data": {
      "text/plain": [
       "None"
      ]
     },
     "metadata": {},
     "output_type": "display_data"
    },
    {
     "name": "stdout",
     "output_type": "stream",
     "text": [
      "<class 'pandas.core.frame.DataFrame'>\n",
      "Int64Index: 52929 entries, 0 to 217773\n",
      "Data columns (total 10 columns):\n",
      " #   Column               Non-Null Count  Dtype         \n",
      "---  ------               --------------  -----         \n",
      " 0   funding_round_id     52928 non-null  float64       \n",
      " 1   company_id_2         52928 non-null  float64       \n",
      " 2   funded_at            52680 non-null  datetime64[ns]\n",
      " 3   funding_round_type   52928 non-null  object        \n",
      " 4   raised_amount        52928 non-null  float64       \n",
      " 5   pre_money_valuation  52928 non-null  float64       \n",
      " 6   participants         52928 non-null  float64       \n",
      " 7   is_first_round       52928 non-null  float64       \n",
      " 8   is_last_round        52928 non-null  float64       \n",
      " 9   year                 52680 non-null  float64       \n",
      "dtypes: datetime64[ns](1), float64(8), object(1)\n",
      "memory usage: 4.4+ MB\n"
     ]
    },
    {
     "data": {
      "text/plain": [
       "None"
      ]
     },
     "metadata": {},
     "output_type": "display_data"
    }
   ],
   "source": [
    "# Выведем инфо об обновленных датасетах\n",
    "for df in [companies_df, rounds_df]:\n",
    "    display(df.info())"
   ]
  },
  {
   "cell_type": "markdown",
   "metadata": {
    "id": "bmVYhphNrJg2"
   },
   "source": [
    "\n",
    "## Шаг 3. Исследовательский анализ объединённых таблиц\n"
   ]
  },
  {
   "cell_type": "markdown",
   "metadata": {
    "id": "3Di6tCT3rJg2"
   },
   "source": [
    "\n",
    "### 3.1. Объединение данных\n",
    "\n",
    "Объедините данные для ответа на вопросы заказчика, которые касаются интересующих его компаний. Заказчика прежде всего интересуют те компании, которые меняли или готовы менять владельцев. Получение инвестиций или финансирования, по мнению заказчика, означает интерес к покупке или продаже компании.\n",
    "\n",
    "В качестве основы для объединённой таблицы возьмите данные из обработанного датасета `company_and_rounds.csv` — выберите только те компании, у которых указаны значения `funding_rounds` или `investment_rounds` больше нуля, или те, у которых в колонке `status` указано `acquired`. В результирующей таблице должно получиться порядка 40 тысяч компаний.\n",
    "\n",
    "Проверьте полноту и корректность получившейся таблицы. Далее работайте только с этими данными."
   ]
  },
  {
   "cell_type": "code",
   "execution_count": 75,
   "metadata": {
    "id": "kuV1b5MXFg3_"
   },
   "outputs": [
    {
     "name": "stdout",
     "output_type": "stream",
     "text": [
      "<class 'pandas.core.frame.DataFrame'>\n",
      "Int64Index: 40747 entries, 0 to 217469\n",
      "Data columns (total 13 columns):\n",
      " #   Column             Non-Null Count  Dtype         \n",
      "---  ------             --------------  -----         \n",
      " 0   company_id         40747 non-null  float64       \n",
      " 1   name               40747 non-null  object        \n",
      " 2   category_code      35315 non-null  object        \n",
      " 3   status             40747 non-null  object        \n",
      " 4   founded_at         27807 non-null  datetime64[ns]\n",
      " 5   closed_at          2128 non-null   datetime64[ns]\n",
      " 6   domain             35754 non-null  object        \n",
      " 7   network_username   20850 non-null  object        \n",
      " 8   country_code       34742 non-null  object        \n",
      " 9   investment_rounds  40747 non-null  float64       \n",
      " 10  funding_rounds     40747 non-null  float64       \n",
      " 11  funding_total      40747 non-null  float64       \n",
      " 12  milestones         40747 non-null  float64       \n",
      "dtypes: datetime64[ns](2), float64(5), object(6)\n",
      "memory usage: 4.4+ MB\n"
     ]
    }
   ],
   "source": [
    "#Отфильтруем необходимые компании\n",
    "companies_df_2 = companies_df[(companies_df['funding_rounds'] > 0)|(companies_df['investment_rounds'] > 0)|(companies_df['status'] == 'acquired')]\n",
    "companies_df_2.info()"
   ]
  },
  {
   "cell_type": "code",
   "execution_count": 76,
   "metadata": {},
   "outputs": [
    {
     "data": {
      "text/plain": [
       "0"
      ]
     },
     "execution_count": 76,
     "metadata": {},
     "output_type": "execute_result"
    }
   ],
   "source": [
    "# Проверим таблицу на дубли\n",
    "companies_df_2.duplicated().sum()"
   ]
  },
  {
   "cell_type": "code",
   "execution_count": 77,
   "metadata": {},
   "outputs": [
    {
     "data": {
      "text/plain": [
       "company_id               0\n",
       "name                     0\n",
       "category_code         5432\n",
       "status                   0\n",
       "founded_at           12940\n",
       "closed_at            38619\n",
       "domain                4993\n",
       "network_username     19897\n",
       "country_code          6005\n",
       "investment_rounds        0\n",
       "funding_rounds           0\n",
       "funding_total            0\n",
       "milestones               0\n",
       "dtype: int64"
      ]
     },
     "execution_count": 77,
     "metadata": {},
     "output_type": "execute_result"
    }
   ],
   "source": [
    "# Проверим пропуски в таблице\n",
    "companies_df_2.isna().sum()"
   ]
  },
  {
   "cell_type": "code",
   "execution_count": 78,
   "metadata": {},
   "outputs": [
    {
     "data": {
      "text/plain": [
       "company_id            0.000000\n",
       "name                  0.000000\n",
       "category_code        13.331043\n",
       "status                0.000000\n",
       "founded_at           31.756939\n",
       "closed_at            94.777530\n",
       "domain               12.253663\n",
       "network_username     48.830589\n",
       "country_code         14.737281\n",
       "investment_rounds     0.000000\n",
       "funding_rounds        0.000000\n",
       "funding_total         0.000000\n",
       "milestones            0.000000\n",
       "dtype: float64"
      ]
     },
     "execution_count": 78,
     "metadata": {},
     "output_type": "execute_result"
    }
   ],
   "source": [
    "# Проверим пропуски в таблице\n",
    "companies_df_2.isna().mean()*100"
   ]
  },
  {
   "cell_type": "markdown",
   "metadata": {},
   "source": [
    "Типы данных в таблице соответствуют, явных дублей в таблице не найдено, наибольшее количество пропусков в столбцах closed_at (95%), network_username(49%), founded_at(32%)."
   ]
  },
  {
   "cell_type": "markdown",
   "metadata": {
    "id": "DFHINkV3rJg2"
   },
   "source": [
    "\n",
    "### 3.2. Анализ выбросов\n",
    "\n",
    "Заказчика интересует обычный для рассматриваемого периода размер средств, который предоставлялся компаниям.\n",
    "\n",
    "- По предобработанному столбцу `funding_total` графическим способом оцените, какой размер общего финансирования для одной компании будет типичным, а какой — выбивающимся.\n",
    "- В процессе расчёта значений обратите внимание, например, на показатели, возвращаемые методом `.describe()`, — объясните их. Применимы ли к таким данным обычные способы нахождения типичных значений?"
   ]
  },
  {
   "cell_type": "code",
   "execution_count": 79,
   "metadata": {
    "id": "8jm75fKXrJg2",
    "vscode": {
     "languageId": "plaintext"
    }
   },
   "outputs": [
    {
     "data": {
      "text/plain": [
       "count         40747\n",
       "mean       10135610\n",
       "std        56464360\n",
       "min               0\n",
       "25%               0\n",
       "50%          600000\n",
       "75%         5650650\n",
       "99%       133948660\n",
       "max      5700000000\n",
       "Name: funding_total, dtype: object"
      ]
     },
     "execution_count": 79,
     "metadata": {},
     "output_type": "execute_result"
    }
   ],
   "source": [
    "# Проверим данные по столбцу funding_total\n",
    "companies_df_2['funding_total'].describe(percentiles = [.25, .5, .75, .99]).map('{:.0f}'.format)"
   ]
  },
  {
   "cell_type": "markdown",
   "metadata": {
    "id": "S1jrfr7rFhcw"
   },
   "source": [
    "Для полученных данных характерно неравномерное распределение с наличием экстремально высоких значений (максимальное значение в наборе данных равно 5700000000). Вероятнее всего, такие значения являются выбросами. Также среднее (10135610) значительно выше медианы (600000), а стандартное отклонение имеет очень высокое значение, что говорит о перекосе данных (правую сторону), а также о сильном разбросе значений. В качестве определения наиболее типичного значения для таких данных лучше использовать менее чувствительную к выбросам медиану. Важно отметить, что порядка 25% всех значений имеют сумму 0. Это могут быть компании, получившие финансирование каким-либо иным способом. Также проверка 99 процентиля показала наиболее вероятную верхнюю границу значений - 133948660. 99% всех сумм меньше этого числа. Значения, превышающие 133948660, вероятнее всего, выбросы. "
   ]
  },
  {
   "cell_type": "code",
   "execution_count": 80,
   "metadata": {},
   "outputs": [
    {
     "data": {
      "image/png": "[encoded data removed]",
      "text/plain": [
       "<Figure size 864x576 with 1 Axes>"
      ]
     },
     "metadata": {
      "needs_background": "light"
     },
     "output_type": "display_data"
    }
   ],
   "source": [
    "# Построим визуализцию распределения данных столбца funding_total без учета выбросов\n",
    "companies_df_2.boxplot('funding_total', figsize = (12, 8))\n",
    "plt.yscale('linear')\n",
    "plt.ticklabel_format(style='plain', axis='y')\n",
    "plt.xlabel('Сумма финансирования')\n",
    "plt.title('Распределение данных столбца funding_total')\n",
    "plt.show()"
   ]
  },
  {
   "cell_type": "code",
   "execution_count": 81,
   "metadata": {},
   "outputs": [
    {
     "data": {
      "image/png": "[encoded data removed]",
      "text/plain": [
       "<Figure size 864x576 with 1 Axes>"
      ]
     },
     "metadata": {
      "needs_background": "light"
     },
     "output_type": "display_data"
    }
   ],
   "source": [
    "# Построим визуализцию распределения данных столбца funding_total без учета выбросов\n",
    "companies_df_2.boxplot(column = 'funding_total', figsize = (12,8), showfliers = False)\n",
    "plt.yscale('linear')\n",
    "plt.ticklabel_format(style='plain', axis='y')\n",
    "plt.xlabel('Сумма финансирования')\n",
    "plt.title('Распределение данных столбца funding_total')\n",
    "plt.show()"
   ]
  },
  {
   "cell_type": "markdown",
   "metadata": {},
   "source": [
    "Построенные диаграммы в виде \"ящиков с усами\" подтверждают предположение о неравномерном распределении данных и о выбросах. Наиболее типичным (медианным) значением суммы финансирования является значение 600000."
   ]
  },
  {
   "cell_type": "markdown",
   "metadata": {
    "id": "JqkRAQrIrJg2"
   },
   "source": [
    "\n",
    "### 3.3. Куплены забесплатно?\n",
    "\n",
    "- Исследуйте компании, которые были проданы за ноль или за один доллар, и при этом известно, что у них был ненулевой общий объём финансирования.\n",
    "\n",
    "- Рассчитайте аналитически верхнюю и нижнюю границу выбросов для столбца `funding_total` и укажите, каким процентилям границы соответствуют."
   ]
  },
  {
   "cell_type": "code",
   "execution_count": 82,
   "metadata": {
    "id": "wJHXCBwwrJg2",
    "vscode": {
     "languageId": "plaintext"
    }
   },
   "outputs": [],
   "source": [
    "# Объединим датасет companies_df и acquisition\n",
    "new_df = companies_df_2.merge(acquisition, left_on = 'company_id', right_on = 'acquired_company_id', how = 'inner')"
   ]
  },
  {
   "cell_type": "code",
   "execution_count": 83,
   "metadata": {
    "id": "9IDTHfYQFhuX"
   },
   "outputs": [
    {
     "name": "stdout",
     "output_type": "stream",
     "text": [
      "<class 'pandas.core.frame.DataFrame'>\n",
      "Int64Index: 1618 entries, 7 to 9386\n",
      "Data columns (total 19 columns):\n",
      " #   Column                Non-Null Count  Dtype         \n",
      "---  ------                --------------  -----         \n",
      " 0   company_id            1618 non-null   float64       \n",
      " 1   name                  1618 non-null   object        \n",
      " 2   category_code         1553 non-null   object        \n",
      " 3   status                1618 non-null   object        \n",
      " 4   founded_at            1285 non-null   datetime64[ns]\n",
      " 5   closed_at             13 non-null     datetime64[ns]\n",
      " 6   domain                1546 non-null   object        \n",
      " 7   network_username      812 non-null    object        \n",
      " 8   country_code          1536 non-null   object        \n",
      " 9   investment_rounds     1618 non-null   float64       \n",
      " 10  funding_rounds        1618 non-null   float64       \n",
      " 11  funding_total         1618 non-null   float64       \n",
      " 12  milestones            1618 non-null   float64       \n",
      " 13  id                    1618 non-null   int64         \n",
      " 14  acquiring_company_id  1618 non-null   int64         \n",
      " 15  acquired_company_id   1618 non-null   int64         \n",
      " 16  term_code             121 non-null    object        \n",
      " 17  price_amount          1618 non-null   int64         \n",
      " 18  acquired_at           1614 non-null   datetime64[ns]\n",
      "dtypes: datetime64[ns](3), float64(5), int64(4), object(7)\n",
      "memory usage: 252.8+ KB\n"
     ]
    }
   ],
   "source": [
    "# Отфильтруем необходимые компании\n",
    "price_df = new_df[(new_df['price_amount'] < 2)&(new_df['funding_total'] != 0)]\n",
    "price_df.info()"
   ]
  },
  {
   "cell_type": "code",
   "execution_count": 84,
   "metadata": {},
   "outputs": [
    {
     "data": {
      "text/plain": [
       "count          1618\n",
       "mean       18152962\n",
       "std       144503027\n",
       "min            3750\n",
       "25%         2000000\n",
       "50%         6000000\n",
       "75%        15500000\n",
       "max      5700000000\n",
       "Name: funding_total, dtype: object"
      ]
     },
     "execution_count": 84,
     "metadata": {},
     "output_type": "execute_result"
    }
   ],
   "source": [
    "# Выведем статистику для суммы финансирования компаний стоимостью 0 и 1 доллар\n",
    "price_df['funding_total'].describe().map('{:.0f}'.format)"
   ]
  },
  {
   "cell_type": "code",
   "execution_count": 85,
   "metadata": {},
   "outputs": [
    {
     "data": {
      "image/png": "[encoded data removed]",
      "text/plain": [
       "<Figure size 864x576 with 1 Axes>"
      ]
     },
     "metadata": {
      "needs_background": "light"
     },
     "output_type": "display_data"
    }
   ],
   "source": [
    "# Построим визуализцию распределения данных столбца funding_total без учета выбросов\n",
    "price_df.boxplot(column = 'funding_total', figsize = (12,8), showfliers = False)\n",
    "plt.yscale('linear')\n",
    "plt.ticklabel_format(style='plain', axis='y')\n",
    "plt.xlabel('Сумма финансирования')\n",
    "plt.title('Распределение данных столбца funding_total')\n",
    "plt.show()"
   ]
  },
  {
   "cell_type": "markdown",
   "metadata": {},
   "source": [
    "Всего в датасете представлено 1618 компаний со стоимостью 0 или 1 доллар. Объем финансирования таких компаний неравномерен и варьируется от 3750 до 5700000000. Вероятнее всего, данные по столбцу с суммой финансирования имеют выбросы. Наиболее типичное (медианное) значение равно 6000000. Среднее значение существенно выше - 18152962, что говорит о перекосе данных в првую сторону. "
   ]
  },
  {
   "cell_type": "code",
   "execution_count": 86,
   "metadata": {},
   "outputs": [
    {
     "name": "stdout",
     "output_type": "stream",
     "text": [
      "Нижняя граница выбросов: -18250000.0\n",
      "Верхняя граница выбросов: 35750000.0\n"
     ]
    }
   ],
   "source": [
    "# Рассчитаем границы выбросов по столбцу funding_total на основе описательной статистики\n",
    "Q1 = 2000000\n",
    "Q3 = 15500000\n",
    "IQR = Q3 - Q1 # определим межквартильный размах\n",
    "lower_border = Q1 - 1.5*IQR # определим нижнюю границу выбросов\n",
    "upper_border = Q3 + 1.5*IQR # определим верхнюю границу выбросов\n",
    "print(f'Нижняя граница выбросов: {lower_border}')\n",
    "print(f'Верхняя граница выбросов: {upper_border}')"
   ]
  },
  {
   "cell_type": "code",
   "execution_count": 87,
   "metadata": {},
   "outputs": [
    {
     "name": "stdout",
     "output_type": "stream",
     "text": [
      "Процентиль для 0: 0.0%\n"
     ]
    }
   ],
   "source": [
    "# Найдем процентиль для полученного значения нижней границы\n",
    "percentile = (price_df['funding_total'] <= 0).mean() * 100\n",
    "print(f\"Процентиль для {0}: {percentile:.1f}%\")"
   ]
  },
  {
   "cell_type": "code",
   "execution_count": 88,
   "metadata": {},
   "outputs": [
    {
     "name": "stdout",
     "output_type": "stream",
     "text": [
      "Процентиль для 35750000.0: 90.9%\n"
     ]
    }
   ],
   "source": [
    "# Найдем процентиль для полученного значения нижней границы\n",
    "percentile = (price_df['funding_total'] <= 35750000.0).mean() * 100\n",
    "print(f\"Процентиль для {35750000.0}: {percentile:.1f}%\")"
   ]
  },
  {
   "cell_type": "markdown",
   "metadata": {},
   "source": [
    "Согласно полученным расчетным результатам, нижняя граница выбросов соответсвует -18250000. Однако, граница выбросов для столбца с суммой финансирования не может быть меньше нуля. Также это подтверждает визулизация распределения данных выше. В связи с этим, за нижнюю границу выбросов следует считать 0, что соответствует 0 процентилю. Верхняя грница выбросов равна 35750000, что соответствует 90.9%"
   ]
  },
  {
   "cell_type": "markdown",
   "metadata": {
    "id": "mEiWpROjrJg2"
   },
   "source": [
    "\n",
    "### 3.4. Цены стартапов по категориям\n",
    "\n",
    "Категории стартапов с типично высокими ценами покупки стартапов и значительным разбросом цен могут быть привлекательными для крупных инвесторов, которые готовы к высоким рискам ради потенциально больших доходов. Среди категорий стартапов выделите категории стартапов, характеризующиеся:\n",
    "\n",
    "- типично высокими ценами;\n",
    "- и наибольшим разбросом цен за стартап.\n",
    "\n",
    "Объясните, почему решили составить топ именно из такого числа категорий и почему рассчитывали именно так."
   ]
  },
  {
   "cell_type": "code",
   "execution_count": 90,
   "metadata": {
    "id": "jQ09dYUWrJg2",
    "vscode": {
     "languageId": "plaintext"
    }
   },
   "outputs": [
    {
     "name": "stdout",
     "output_type": "stream",
     "text": [
      "<class 'pandas.core.frame.DataFrame'>\n",
      "Int64Index: 2470 entries, 0 to 9389\n",
      "Data columns (total 19 columns):\n",
      " #   Column                Non-Null Count  Dtype         \n",
      "---  ------                --------------  -----         \n",
      " 0   company_id            2470 non-null   float64       \n",
      " 1   name                  2470 non-null   object        \n",
      " 2   category_code         1997 non-null   object        \n",
      " 3   status                2470 non-null   object        \n",
      " 4   founded_at            1455 non-null   datetime64[ns]\n",
      " 5   closed_at             12 non-null     datetime64[ns]\n",
      " 6   domain                1992 non-null   object        \n",
      " 7   network_username      652 non-null    object        \n",
      " 8   country_code          1958 non-null   object        \n",
      " 9   investment_rounds     2470 non-null   float64       \n",
      " 10  funding_rounds        2470 non-null   float64       \n",
      " 11  funding_total         2470 non-null   float64       \n",
      " 12  milestones            2470 non-null   float64       \n",
      " 13  id                    2470 non-null   int64         \n",
      " 14  acquiring_company_id  2470 non-null   int64         \n",
      " 15  acquired_company_id   2470 non-null   int64         \n",
      " 16  term_code             1189 non-null   object        \n",
      " 17  price_amount          2470 non-null   int64         \n",
      " 18  acquired_at           2467 non-null   datetime64[ns]\n",
      "dtypes: datetime64[ns](3), float64(5), int64(4), object(7)\n",
      "memory usage: 385.9+ KB\n"
     ]
    }
   ],
   "source": [
    "# Подготовим датасет для работы с ценами стартапов\n",
    "# Исключим компании со стоимостью 0 или 1\n",
    "startaps_df = new_df[new_df['price_amount'] > 2]\n",
    "startaps_df.info()"
   ]
  },
  {
   "cell_type": "code",
   "execution_count": 91,
   "metadata": {},
   "outputs": [
    {
     "data": {
      "text/plain": [
       "count    2.470000e+03\n",
       "mean     1.497793e+09\n",
       "std      5.233613e+10\n",
       "min      1.100000e+01\n",
       "25%      1.292500e+07\n",
       "50%      5.645000e+07\n",
       "75%      2.650000e+08\n",
       "max      2.600000e+12\n",
       "Name: price_amount, dtype: float64"
      ]
     },
     "execution_count": 91,
     "metadata": {},
     "output_type": "execute_result"
    }
   ],
   "source": [
    "# Выведем статистику о ценах\n",
    "startaps_df['price_amount'].describe()"
   ]
  },
  {
   "cell_type": "code",
   "execution_count": 92,
   "metadata": {
    "id": "eF1aULm5FjfY"
   },
   "outputs": [
    {
     "data": {
      "text/html": [
       "<div>\n",
       "<style scoped>\n",
       "    .dataframe tbody tr th:only-of-type {\n",
       "        vertical-align: middle;\n",
       "    }\n",
       "\n",
       "    .dataframe tbody tr th {\n",
       "        vertical-align: top;\n",
       "    }\n",
       "\n",
       "    .dataframe thead th {\n",
       "        text-align: right;\n",
       "    }\n",
       "</style>\n",
       "<table border=\"1\" class=\"dataframe\">\n",
       "  <thead>\n",
       "    <tr style=\"text-align: right;\">\n",
       "      <th></th>\n",
       "      <th>category_code</th>\n",
       "      <th>median</th>\n",
       "      <th>std</th>\n",
       "    </tr>\n",
       "  </thead>\n",
       "  <tbody>\n",
       "    <tr>\n",
       "      <th>0</th>\n",
       "      <td>advertising</td>\n",
       "      <td>60000000</td>\n",
       "      <td>495483858</td>\n",
       "    </tr>\n",
       "    <tr>\n",
       "      <th>1</th>\n",
       "      <td>analytics</td>\n",
       "      <td>200000000</td>\n",
       "      <td>92967736</td>\n",
       "    </tr>\n",
       "    <tr>\n",
       "      <th>2</th>\n",
       "      <td>automotive</td>\n",
       "      <td>2400000000</td>\n",
       "      <td>2581669292</td>\n",
       "    </tr>\n",
       "    <tr>\n",
       "      <th>3</th>\n",
       "      <td>biotech</td>\n",
       "      <td>200000000</td>\n",
       "      <td>1968195264</td>\n",
       "    </tr>\n",
       "    <tr>\n",
       "      <th>4</th>\n",
       "      <td>cleantech</td>\n",
       "      <td>185000000</td>\n",
       "      <td>874419628</td>\n",
       "    </tr>\n",
       "    <tr>\n",
       "      <th>5</th>\n",
       "      <td>consulting</td>\n",
       "      <td>32150000</td>\n",
       "      <td>1018108962</td>\n",
       "    </tr>\n",
       "    <tr>\n",
       "      <th>6</th>\n",
       "      <td>ecommerce</td>\n",
       "      <td>157500000</td>\n",
       "      <td>281425549</td>\n",
       "    </tr>\n",
       "    <tr>\n",
       "      <th>7</th>\n",
       "      <td>education</td>\n",
       "      <td>16250000</td>\n",
       "      <td>288329371</td>\n",
       "    </tr>\n",
       "    <tr>\n",
       "      <th>8</th>\n",
       "      <td>enterprise</td>\n",
       "      <td>54750000</td>\n",
       "      <td>241358098251</td>\n",
       "    </tr>\n",
       "    <tr>\n",
       "      <th>9</th>\n",
       "      <td>fashion</td>\n",
       "      <td>195000000</td>\n",
       "      <td>86494219</td>\n",
       "    </tr>\n",
       "    <tr>\n",
       "      <th>10</th>\n",
       "      <td>finance</td>\n",
       "      <td>171500000</td>\n",
       "      <td>1052920129</td>\n",
       "    </tr>\n",
       "    <tr>\n",
       "      <th>11</th>\n",
       "      <td>games_video</td>\n",
       "      <td>58250000</td>\n",
       "      <td>1463477654</td>\n",
       "    </tr>\n",
       "    <tr>\n",
       "      <th>12</th>\n",
       "      <td>hardware</td>\n",
       "      <td>76000000</td>\n",
       "      <td>645087366</td>\n",
       "    </tr>\n",
       "    <tr>\n",
       "      <th>13</th>\n",
       "      <td>health</td>\n",
       "      <td>140000000</td>\n",
       "      <td>1927099525</td>\n",
       "    </tr>\n",
       "    <tr>\n",
       "      <th>14</th>\n",
       "      <td>hospitality</td>\n",
       "      <td>57500000</td>\n",
       "      <td>790600556</td>\n",
       "    </tr>\n",
       "    <tr>\n",
       "      <th>16</th>\n",
       "      <td>manufacturing</td>\n",
       "      <td>351000000</td>\n",
       "      <td>1060434506</td>\n",
       "    </tr>\n",
       "    <tr>\n",
       "      <th>17</th>\n",
       "      <td>medical</td>\n",
       "      <td>165000000</td>\n",
       "      <td>165905784</td>\n",
       "    </tr>\n",
       "    <tr>\n",
       "      <th>18</th>\n",
       "      <td>messaging</td>\n",
       "      <td>100000000</td>\n",
       "      <td>69074597</td>\n",
       "    </tr>\n",
       "    <tr>\n",
       "      <th>19</th>\n",
       "      <td>mobile</td>\n",
       "      <td>56000000</td>\n",
       "      <td>1319471637</td>\n",
       "    </tr>\n",
       "    <tr>\n",
       "      <th>20</th>\n",
       "      <td>music</td>\n",
       "      <td>4860000</td>\n",
       "      <td>159978081</td>\n",
       "    </tr>\n",
       "    <tr>\n",
       "      <th>22</th>\n",
       "      <td>network_hosting</td>\n",
       "      <td>102500000</td>\n",
       "      <td>676956798</td>\n",
       "    </tr>\n",
       "    <tr>\n",
       "      <th>23</th>\n",
       "      <td>news</td>\n",
       "      <td>40000000</td>\n",
       "      <td>100855335</td>\n",
       "    </tr>\n",
       "    <tr>\n",
       "      <th>24</th>\n",
       "      <td>other</td>\n",
       "      <td>73100000</td>\n",
       "      <td>2072556420</td>\n",
       "    </tr>\n",
       "    <tr>\n",
       "      <th>25</th>\n",
       "      <td>photo_video</td>\n",
       "      <td>50000000</td>\n",
       "      <td>431142214</td>\n",
       "    </tr>\n",
       "    <tr>\n",
       "      <th>26</th>\n",
       "      <td>public_relations</td>\n",
       "      <td>110000000</td>\n",
       "      <td>6854337756</td>\n",
       "    </tr>\n",
       "    <tr>\n",
       "      <th>27</th>\n",
       "      <td>real_estate</td>\n",
       "      <td>400000000</td>\n",
       "      <td>2676302206</td>\n",
       "    </tr>\n",
       "    <tr>\n",
       "      <th>28</th>\n",
       "      <td>search</td>\n",
       "      <td>90000000</td>\n",
       "      <td>339580152</td>\n",
       "    </tr>\n",
       "    <tr>\n",
       "      <th>29</th>\n",
       "      <td>security</td>\n",
       "      <td>164500000</td>\n",
       "      <td>1378442023</td>\n",
       "    </tr>\n",
       "    <tr>\n",
       "      <th>30</th>\n",
       "      <td>semiconductor</td>\n",
       "      <td>100000000</td>\n",
       "      <td>1122024808</td>\n",
       "    </tr>\n",
       "    <tr>\n",
       "      <th>31</th>\n",
       "      <td>social</td>\n",
       "      <td>45750000</td>\n",
       "      <td>62952859</td>\n",
       "    </tr>\n",
       "    <tr>\n",
       "      <th>32</th>\n",
       "      <td>software</td>\n",
       "      <td>48140000</td>\n",
       "      <td>1204058888</td>\n",
       "    </tr>\n",
       "    <tr>\n",
       "      <th>33</th>\n",
       "      <td>sports</td>\n",
       "      <td>622500000</td>\n",
       "      <td>512652416</td>\n",
       "    </tr>\n",
       "    <tr>\n",
       "      <th>34</th>\n",
       "      <td>transportation</td>\n",
       "      <td>230000000</td>\n",
       "      <td>572625532</td>\n",
       "    </tr>\n",
       "    <tr>\n",
       "      <th>35</th>\n",
       "      <td>travel</td>\n",
       "      <td>62500000</td>\n",
       "      <td>95265856</td>\n",
       "    </tr>\n",
       "    <tr>\n",
       "      <th>36</th>\n",
       "      <td>web</td>\n",
       "      <td>55500000</td>\n",
       "      <td>695440501</td>\n",
       "    </tr>\n",
       "  </tbody>\n",
       "</table>\n",
       "</div>"
      ],
      "text/plain": [
       "       category_code      median          std\n",
       "0        advertising    60000000    495483858\n",
       "1          analytics   200000000     92967736\n",
       "2         automotive  2400000000   2581669292\n",
       "3            biotech   200000000   1968195264\n",
       "4          cleantech   185000000    874419628\n",
       "5         consulting    32150000   1018108962\n",
       "6          ecommerce   157500000    281425549\n",
       "7          education    16250000    288329371\n",
       "8         enterprise    54750000 241358098251\n",
       "9            fashion   195000000     86494219\n",
       "10           finance   171500000   1052920129\n",
       "11       games_video    58250000   1463477654\n",
       "12          hardware    76000000    645087366\n",
       "13            health   140000000   1927099525\n",
       "14       hospitality    57500000    790600556\n",
       "16     manufacturing   351000000   1060434506\n",
       "17           medical   165000000    165905784\n",
       "18         messaging   100000000     69074597\n",
       "19            mobile    56000000   1319471637\n",
       "20             music     4860000    159978081\n",
       "22   network_hosting   102500000    676956798\n",
       "23              news    40000000    100855335\n",
       "24             other    73100000   2072556420\n",
       "25       photo_video    50000000    431142214\n",
       "26  public_relations   110000000   6854337756\n",
       "27       real_estate   400000000   2676302206\n",
       "28            search    90000000    339580152\n",
       "29          security   164500000   1378442023\n",
       "30     semiconductor   100000000   1122024808\n",
       "31            social    45750000     62952859\n",
       "32          software    48140000   1204058888\n",
       "33            sports   622500000    512652416\n",
       "34    transportation   230000000    572625532\n",
       "35            travel    62500000     95265856\n",
       "36               web    55500000    695440501"
      ]
     },
     "metadata": {},
     "output_type": "display_data"
    }
   ],
   "source": [
    "# Сгруппруем компании по категории деятельности \n",
    "startaps_group = startaps_df.groupby('category_code')['price_amount'].agg(['median', 'std']).reset_index()\n",
    "startaps_group = startaps_group.dropna(subset = ['std']) #удалим строки, в которых отсутствует различие между ценами\n",
    "pd.set_option('display.float_format', '{:.0f}'.format)\n",
    "display(startaps_group) "
   ]
  },
  {
   "cell_type": "code",
   "execution_count": 93,
   "metadata": {},
   "outputs": [
    {
     "data": {
      "text/html": [
       "<div>\n",
       "<style scoped>\n",
       "    .dataframe tbody tr th:only-of-type {\n",
       "        vertical-align: middle;\n",
       "    }\n",
       "\n",
       "    .dataframe tbody tr th {\n",
       "        vertical-align: top;\n",
       "    }\n",
       "\n",
       "    .dataframe thead th {\n",
       "        text-align: right;\n",
       "    }\n",
       "</style>\n",
       "<table border=\"1\" class=\"dataframe\">\n",
       "  <thead>\n",
       "    <tr style=\"text-align: right;\">\n",
       "      <th></th>\n",
       "      <th>median</th>\n",
       "      <th>std</th>\n",
       "    </tr>\n",
       "  </thead>\n",
       "  <tbody>\n",
       "    <tr>\n",
       "      <th>count</th>\n",
       "      <td>35</td>\n",
       "      <td>35</td>\n",
       "    </tr>\n",
       "    <tr>\n",
       "      <th>mean</th>\n",
       "      <td>196435714</td>\n",
       "      <td>7899841021</td>\n",
       "    </tr>\n",
       "    <tr>\n",
       "      <th>std</th>\n",
       "      <td>402510264</td>\n",
       "      <td>40641209170</td>\n",
       "    </tr>\n",
       "    <tr>\n",
       "      <th>min</th>\n",
       "      <td>4860000</td>\n",
       "      <td>62952859</td>\n",
       "    </tr>\n",
       "    <tr>\n",
       "      <th>25%</th>\n",
       "      <td>55750000</td>\n",
       "      <td>284877460</td>\n",
       "    </tr>\n",
       "    <tr>\n",
       "      <th>50%</th>\n",
       "      <td>100000000</td>\n",
       "      <td>695440501</td>\n",
       "    </tr>\n",
       "    <tr>\n",
       "      <th>75%</th>\n",
       "      <td>178250000</td>\n",
       "      <td>1348956830</td>\n",
       "    </tr>\n",
       "    <tr>\n",
       "      <th>max</th>\n",
       "      <td>2400000000</td>\n",
       "      <td>241358098251</td>\n",
       "    </tr>\n",
       "  </tbody>\n",
       "</table>\n",
       "</div>"
      ],
      "text/plain": [
       "          median          std\n",
       "count         35           35\n",
       "mean   196435714   7899841021\n",
       "std    402510264  40641209170\n",
       "min      4860000     62952859\n",
       "25%     55750000    284877460\n",
       "50%    100000000    695440501\n",
       "75%    178250000   1348956830\n",
       "max   2400000000 241358098251"
      ]
     },
     "execution_count": 93,
     "metadata": {},
     "output_type": "execute_result"
    }
   ],
   "source": [
    "# Выведем описательную статистику для полученных данных\n",
    "startaps_group.describe()"
   ]
  },
  {
   "cell_type": "markdown",
   "metadata": {},
   "source": [
    "Для определения категорий компаний одновременно с наиболее высокими ценами и наиболее высоким разбросом цен за стартап предлагается работать с выборкой категорий компаний, для которых значения медианы и стандартного отклонения выше 50% среди всех показателей по категориям. Компании, у которых эти значения соответствуют двум критериям сразу, составят рейтинг.  "
   ]
  },
  {
   "cell_type": "code",
   "execution_count": 94,
   "metadata": {},
   "outputs": [
    {
     "data": {
      "text/html": [
       "<div>\n",
       "<style scoped>\n",
       "    .dataframe tbody tr th:only-of-type {\n",
       "        vertical-align: middle;\n",
       "    }\n",
       "\n",
       "    .dataframe tbody tr th {\n",
       "        vertical-align: top;\n",
       "    }\n",
       "\n",
       "    .dataframe thead th {\n",
       "        text-align: right;\n",
       "    }\n",
       "</style>\n",
       "<table border=\"1\" class=\"dataframe\">\n",
       "  <thead>\n",
       "    <tr style=\"text-align: right;\">\n",
       "      <th></th>\n",
       "      <th>category_code</th>\n",
       "      <th>median</th>\n",
       "      <th>std</th>\n",
       "    </tr>\n",
       "  </thead>\n",
       "  <tbody>\n",
       "    <tr>\n",
       "      <th>2</th>\n",
       "      <td>automotive</td>\n",
       "      <td>2400000000</td>\n",
       "      <td>2581669292</td>\n",
       "    </tr>\n",
       "    <tr>\n",
       "      <th>3</th>\n",
       "      <td>biotech</td>\n",
       "      <td>200000000</td>\n",
       "      <td>1968195264</td>\n",
       "    </tr>\n",
       "    <tr>\n",
       "      <th>4</th>\n",
       "      <td>cleantech</td>\n",
       "      <td>185000000</td>\n",
       "      <td>874419628</td>\n",
       "    </tr>\n",
       "    <tr>\n",
       "      <th>10</th>\n",
       "      <td>finance</td>\n",
       "      <td>171500000</td>\n",
       "      <td>1052920129</td>\n",
       "    </tr>\n",
       "    <tr>\n",
       "      <th>13</th>\n",
       "      <td>health</td>\n",
       "      <td>140000000</td>\n",
       "      <td>1927099525</td>\n",
       "    </tr>\n",
       "    <tr>\n",
       "      <th>16</th>\n",
       "      <td>manufacturing</td>\n",
       "      <td>351000000</td>\n",
       "      <td>1060434506</td>\n",
       "    </tr>\n",
       "    <tr>\n",
       "      <th>26</th>\n",
       "      <td>public_relations</td>\n",
       "      <td>110000000</td>\n",
       "      <td>6854337756</td>\n",
       "    </tr>\n",
       "    <tr>\n",
       "      <th>27</th>\n",
       "      <td>real_estate</td>\n",
       "      <td>400000000</td>\n",
       "      <td>2676302206</td>\n",
       "    </tr>\n",
       "    <tr>\n",
       "      <th>29</th>\n",
       "      <td>security</td>\n",
       "      <td>164500000</td>\n",
       "      <td>1378442023</td>\n",
       "    </tr>\n",
       "  </tbody>\n",
       "</table>\n",
       "</div>"
      ],
      "text/plain": [
       "       category_code      median        std\n",
       "2         automotive  2400000000 2581669292\n",
       "3            biotech   200000000 1968195264\n",
       "4          cleantech   185000000  874419628\n",
       "10           finance   171500000 1052920129\n",
       "13            health   140000000 1927099525\n",
       "16     manufacturing   351000000 1060434506\n",
       "26  public_relations   110000000 6854337756\n",
       "27       real_estate   400000000 2676302206\n",
       "29          security   164500000 1378442023"
      ]
     },
     "metadata": {},
     "output_type": "display_data"
    }
   ],
   "source": [
    "# Оставим в наборе данных только категории, для которых значение медианы и стандаритного отклонения выше 50 процентиля \n",
    "top_categories = startaps_group[(startaps_group['median'] > 100000000)&(startaps_group['std'] > 695440501)]\n",
    "display(top_categories)"
   ]
  },
  {
   "cell_type": "markdown",
   "metadata": {},
   "source": [
    "Таким образом, в рейтинг топ-9 категорий стартапов с наиболее высокой ценой и наибольшим разбросом цен вошли категории компаний, для которых значение медианы и значение стандартного отклонения одновременно выше значения 50% среди всех категорий. Перечень категорий включает:  \n",
    "1. **automotive**  \n",
    "2. **biotech**  \n",
    "3. **cleantech**  \n",
    "4. **finance**  \n",
    "5. **health**  \n",
    "6. **manufacturing**  \n",
    "7. **public_relations**  \n",
    "8. **real_estate**  \n",
    "9. **security**\n"
   ]
  },
  {
   "cell_type": "markdown",
   "metadata": {
    "id": "ADOfyVY_rJg3"
   },
   "source": [
    "\n",
    "### 3.5. Сколько раундов продержится стартап перед покупкой\n",
    "\n",
    "- Необходимо проанализировать столбец `funding_rounds`. Исследуйте значения столбца. Заказчика интересует типичное значение количества раундов для каждого возможного статуса стартапа.\n",
    "- Постройте график, который отображает, сколько в среднем раундов финансирования проходило для стартапов из каждой группы. Сделайте выводы."
   ]
  },
  {
   "cell_type": "markdown",
   "metadata": {},
   "source": [
    "Для анализа возьмем датасет companies_df, в котором содержится изначальная информация о всех возможных статусах стартапа."
   ]
  },
  {
   "cell_type": "code",
   "execution_count": 95,
   "metadata": {
    "id": "hgXMPC4WrJg3",
    "vscode": {
     "languageId": "plaintext"
    }
   },
   "outputs": [
    {
     "data": {
      "text/plain": [
       "count   196553\n",
       "mean         0\n",
       "std          1\n",
       "min          0\n",
       "25%          0\n",
       "50%          0\n",
       "75%          0\n",
       "max         15\n",
       "Name: funding_rounds, dtype: float64"
      ]
     },
     "execution_count": 95,
     "metadata": {},
     "output_type": "execute_result"
    }
   ],
   "source": [
    "# Выведем статистику по столбцу funding_rounds\n",
    "companies_df['funding_rounds'].describe()"
   ]
  },
  {
   "cell_type": "markdown",
   "metadata": {
    "id": "pV3e7kw5Fj1Y"
   },
   "source": [
    "Минимальное количество значений в столбце равно 0, максимальное - 15. Важно отметить, что больше 75% всех значений столбца равны 0, следовательно, подавляющее большинство стартапов не имеют раундов."
   ]
  },
  {
   "cell_type": "code",
   "execution_count": 96,
   "metadata": {},
   "outputs": [
    {
     "data": {
      "text/plain": [
       "status\n",
       "acquired    0.52\n",
       "closed      1.12\n",
       "ipo         1.09\n",
       "operating   0.24\n",
       "Name: funding_rounds, dtype: float64"
      ]
     },
     "metadata": {},
     "output_type": "display_data"
    }
   ],
   "source": [
    "# Выведем среднее количество раундов по статусам\n",
    "rounds = companies_df.groupby('status')['funding_rounds'].mean()\n",
    "pd.set_option('display.float_format', '{:.2f}'.format)\n",
    "display(rounds)"
   ]
  },
  {
   "cell_type": "code",
   "execution_count": 97,
   "metadata": {},
   "outputs": [
    {
     "data": {
      "image/png": "[encoded data removed]",
      "text/plain": [
       "<Figure size 720x432 with 1 Axes>"
      ]
     },
     "metadata": {
      "needs_background": "light"
     },
     "output_type": "display_data"
    }
   ],
   "source": [
    "# Визуализируем полученные данные\n",
    "rounds.plot(kind = 'bar', figsize = (10,6))\n",
    "plt.title('Распределение типичного количества раундов в зависимости от статуса')\n",
    "plt.xlabel('Статус')\n",
    "plt.show()"
   ]
  },
  {
   "cell_type": "markdown",
   "metadata": {},
   "source": [
    "Согласно полученным данным, для стартапов со статусами acquired, operating характерно отсутствие раундов (среднее количество раундов равно 0). Для стартапов со статусами ipo, closed среднее количество раундов равно 1."
   ]
  },
  {
   "cell_type": "markdown",
   "metadata": {
    "id": "VAFEZ2HBrJg3"
   },
   "source": [
    "\n",
    "## Шаг 4. Итоговый вывод и рекомендации\n"
   ]
  },
  {
   "cell_type": "markdown",
   "metadata": {},
   "source": [
    "### Общий обзор проделанной работы"
   ]
  },
  {
   "cell_type": "markdown",
   "metadata": {},
   "source": [
    "В работу были взяты 5 датасетов: company_and_rounds, acquisition, people, education, degrees. \n",
    "Датасеты были проверены на предмет наличия пропусков, дублей, соответствия типов данных, были оценены объемы и полнота данных датасетов. В результате:\n",
    "1. Были изменены типы данных на соответствующие\n",
    "2. Были выявлены столбцы с пропусками и определено их количество в каждом датасете\n",
    "3. Датасеты были проверены на наличие явных и неявных дублей  \n",
    "4. Названия столбцов датасетов были приведены к единому стилю написания  \n",
    "\n",
    "После предобработки был проведен исследовательский анализ данных, включающий статистический анализ данных с созданием соответствующих визуализаций."
   ]
  },
  {
   "cell_type": "markdown",
   "metadata": {},
   "source": [
    "### Ответы на исследовательские вопросы. Главные выводы"
   ]
  },
  {
   "cell_type": "markdown",
   "metadata": {},
   "source": [
    "В ходе исследовательского анализа данных:\n",
    "\n",
    "1. были определены наиболее оптимальные столбцы для объединения данных, также проверены возможности объединения датасетов. Наиболее удачным для объединенения определен столбец company_id. \n",
    "\n",
    "2. были проверены данные о сотрудниках и их образовании. Был сделан вывод о недостаточном количестве данных о сотрудниках компаний и их уровне образования - ввиду недостатка данных информация о сотрдуниках и их образовании практически не привязана к конкретной компании. В связи с этим выявленные на основе имеющихся данных показатели могут не отражать реальной картины по всему объему данных.  \n",
    "\n",
    "3. был выявлен наиболее типичный (медианный) размер суммы финансирования одной компании - 600000.\n",
    "\n",
    "4. встретилось значительное количество сделок со стоимостью 0 и 1 доллар. Можно предположить, что такие стоимости сделок могут быть связаны с одним или несколькимииз следующих факторов: реорганизации внутри холдингов, смена юридической формы, спасение компаний с долгами, скрытые условия оплаты (акции, роялти).  \n",
    "\n",
    "5. был составлен рейтинг топ-9 категорий стартапов с наиболее высокой ценой и наибольшим разбросом цен. В рейтинг вошли категории компаний, для которых значение медианы и значение стандартного отклонения одновременно выше значения 50% среди всех категорий. Перечень категорий включает:  \n",
    "- **automotive**  \n",
    "- **biotech**  \n",
    "- **cleantech**  \n",
    "- **finance**  \n",
    "- **health**  \n",
    "- **manufacturing**  \n",
    "- **public_relations**  \n",
    "- **real_estate**  \n",
    "- **security**  \n",
    "\n",
    "Диапазон типичных цен по выделенным категориям варьируется от 110000000 до 2400000000\n"
   ]
  },
  {
   "cell_type": "markdown",
   "metadata": {},
   "source": [
    "### Рекомендации на основе анализа данных"
   ]
  },
  {
   "cell_type": "markdown",
   "metadata": {},
   "source": [
    "1. Для более детальных ответов на вопросы о причинах появления сделок со стоимостью 0 и 1 доллар следует проверсти анализ связи таких компаний со статусом стартапа, изучить варианты расчёта, а также рекомендуется сопроводить исследование на основе данных изучением внешних источников на предмет публикаций информации об интересующих компаниях.\n",
    "\n",
    "2. Наиболее перспективными с точки зрения получения потенциально высоких доходов явлюятся следующие категории стартапов: **automotive**, **biotech**, **cleantech**, **finance**, **health**, **manufacturing**, **public_relations**, **real_estate**, **security**. Однако стартапы в этих категориях требуют наиболее высоких инвестиций и храктеризуются наибольшим риском. "
   ]
  }
 ],
 "metadata": {
  "ExecuteTimeLog": [
   {
    "duration": 1395,
    "start_time": "2025-06-06T12:26:20.651Z"
   },
   {
    "duration": 186,
    "start_time": "2025-06-06T12:30:14.845Z"
   },
   {
    "duration": 1859,
    "start_time": "2025-06-06T12:33:03.764Z"
   },
   {
    "duration": 13,
    "start_time": "2025-06-06T12:35:03.409Z"
   },
   {
    "duration": 13,
    "start_time": "2025-06-06T12:36:32.702Z"
   },
   {
    "duration": 12,
    "start_time": "2025-06-06T12:36:39.050Z"
   },
   {
    "duration": 17,
    "start_time": "2025-06-06T12:36:48.073Z"
   },
   {
    "duration": 12,
    "start_time": "2025-06-06T12:37:01.000Z"
   },
   {
    "duration": 18,
    "start_time": "2025-06-06T12:37:23.178Z"
   },
   {
    "duration": 113,
    "start_time": "2025-06-06T12:38:13.411Z"
   },
   {
    "duration": 19,
    "start_time": "2025-06-06T12:38:24.869Z"
   },
   {
    "duration": 90,
    "start_time": "2025-06-06T12:38:31.422Z"
   },
   {
    "duration": 114,
    "start_time": "2025-06-06T12:38:39.670Z"
   },
   {
    "duration": 3,
    "start_time": "2025-06-06T12:39:17.379Z"
   },
   {
    "duration": 3,
    "start_time": "2025-06-06T12:39:21.099Z"
   },
   {
    "duration": 32,
    "start_time": "2025-06-06T12:40:30.113Z"
   },
   {
    "duration": 146,
    "start_time": "2025-06-06T12:40:36.254Z"
   },
   {
    "duration": 255,
    "start_time": "2025-06-06T12:41:17.600Z"
   },
   {
    "duration": 8,
    "start_time": "2025-06-06T13:13:12.715Z"
   },
   {
    "duration": 4,
    "start_time": "2025-06-06T13:13:17.818Z"
   },
   {
    "duration": 3,
    "start_time": "2025-06-06T13:13:37.671Z"
   },
   {
    "duration": 10,
    "start_time": "2025-06-06T13:13:48.627Z"
   },
   {
    "duration": 113,
    "start_time": "2025-06-06T13:14:52.254Z"
   },
   {
    "duration": 29,
    "start_time": "2025-06-06T13:16:26.580Z"
   },
   {
    "duration": 9,
    "start_time": "2025-06-06T13:20:52.938Z"
   },
   {
    "duration": 28,
    "start_time": "2025-06-06T13:21:00.155Z"
   },
   {
    "duration": 8,
    "start_time": "2025-06-06T13:21:35.744Z"
   },
   {
    "duration": 4,
    "start_time": "2025-06-06T13:22:32.090Z"
   },
   {
    "duration": 31,
    "start_time": "2025-06-06T13:23:48.399Z"
   },
   {
    "duration": 288,
    "start_time": "2025-06-06T13:24:41.144Z"
   },
   {
    "duration": 15,
    "start_time": "2025-06-06T13:24:47.613Z"
   },
   {
    "duration": 82,
    "start_time": "2025-06-06T13:25:26.025Z"
   },
   {
    "duration": 62,
    "start_time": "2025-06-06T13:25:51.170Z"
   },
   {
    "duration": 43,
    "start_time": "2025-06-06T13:26:05.130Z"
   },
   {
    "duration": 53,
    "start_time": "2025-06-06T13:26:44.186Z"
   },
   {
    "duration": 14,
    "start_time": "2025-06-06T13:26:59.286Z"
   },
   {
    "duration": 14,
    "start_time": "2025-06-06T13:29:20.865Z"
   },
   {
    "duration": 82,
    "start_time": "2025-06-06T13:29:41.751Z"
   },
   {
    "duration": 84,
    "start_time": "2025-06-06T13:29:55.815Z"
   },
   {
    "duration": 16,
    "start_time": "2025-06-06T13:30:00.052Z"
   },
   {
    "duration": 15,
    "start_time": "2025-06-06T13:30:10.669Z"
   },
   {
    "duration": 1462,
    "start_time": "2025-06-06T13:35:17.105Z"
   },
   {
    "duration": 12,
    "start_time": "2025-06-06T13:35:47.035Z"
   },
   {
    "duration": 243,
    "start_time": "2025-06-06T13:41:05.310Z"
   },
   {
    "duration": 13,
    "start_time": "2025-06-06T14:02:32.090Z"
   },
   {
    "duration": 47,
    "start_time": "2025-06-06T14:14:02.945Z"
   },
   {
    "duration": 25,
    "start_time": "2025-06-06T14:14:20.941Z"
   },
   {
    "duration": 32,
    "start_time": "2025-06-06T14:14:34.628Z"
   },
   {
    "duration": 7,
    "start_time": "2025-06-06T14:25:29.900Z"
   },
   {
    "duration": 175,
    "start_time": "2025-06-06T14:26:04.259Z"
   },
   {
    "duration": 359,
    "start_time": "2025-06-06T14:27:02.098Z"
   },
   {
    "duration": 368,
    "start_time": "2025-06-06T14:27:52.586Z"
   },
   {
    "duration": 375,
    "start_time": "2025-06-06T14:29:08.672Z"
   },
   {
    "duration": 374,
    "start_time": "2025-06-06T14:29:11.496Z"
   },
   {
    "duration": 1407,
    "start_time": "2025-06-06T14:38:19.065Z"
   },
   {
    "duration": 16,
    "start_time": "2025-06-06T14:38:33.124Z"
   },
   {
    "duration": 5,
    "start_time": "2025-06-06T14:38:53.525Z"
   },
   {
    "duration": 99,
    "start_time": "2025-06-06T14:39:22.238Z"
   },
   {
    "duration": 350,
    "start_time": "2025-06-06T14:39:51.771Z"
   },
   {
    "duration": 16,
    "start_time": "2025-06-06T14:40:08.870Z"
   },
   {
    "duration": 1388,
    "start_time": "2025-06-06T14:40:22.318Z"
   },
   {
    "duration": 32,
    "start_time": "2025-06-06T14:40:52.347Z"
   },
   {
    "duration": 96,
    "start_time": "2025-06-09T08:19:33.063Z"
   },
   {
    "duration": 44,
    "start_time": "2025-06-09T08:19:37.867Z"
   },
   {
    "duration": 1321,
    "start_time": "2025-06-09T08:19:45.765Z"
   },
   {
    "duration": 1876,
    "start_time": "2025-06-09T08:19:47.088Z"
   },
   {
    "duration": 13,
    "start_time": "2025-06-09T08:19:48.965Z"
   },
   {
    "duration": 96,
    "start_time": "2025-06-09T08:19:48.980Z"
   },
   {
    "duration": 227,
    "start_time": "2025-06-09T08:19:49.078Z"
   },
   {
    "duration": 355,
    "start_time": "2025-06-09T08:19:49.307Z"
   },
   {
    "duration": 217,
    "start_time": "2025-06-09T08:20:14.920Z"
   },
   {
    "duration": 101,
    "start_time": "2025-06-09T09:52:58.882Z"
   },
   {
    "duration": 9,
    "start_time": "2025-06-09T09:53:10.130Z"
   },
   {
    "duration": 8,
    "start_time": "2025-06-09T09:54:03.683Z"
   },
   {
    "duration": 15,
    "start_time": "2025-06-09T09:54:18.996Z"
   },
   {
    "duration": 14,
    "start_time": "2025-06-09T09:57:26.746Z"
   },
   {
    "duration": 14,
    "start_time": "2025-06-09T09:57:44.679Z"
   },
   {
    "duration": 18,
    "start_time": "2025-06-09T09:57:54.475Z"
   },
   {
    "duration": 11,
    "start_time": "2025-06-09T09:58:15.980Z"
   },
   {
    "duration": 18,
    "start_time": "2025-06-09T09:58:32.633Z"
   },
   {
    "duration": 14,
    "start_time": "2025-06-09T09:58:40.622Z"
   },
   {
    "duration": 1398,
    "start_time": "2025-06-09T10:01:37.057Z"
   },
   {
    "duration": 111,
    "start_time": "2025-06-09T10:01:52.497Z"
   },
   {
    "duration": 1515,
    "start_time": "2025-06-09T10:03:19.725Z"
   },
   {
    "duration": 126,
    "start_time": "2025-06-09T10:03:30.200Z"
   },
   {
    "duration": 27,
    "start_time": "2025-06-09T10:06:16.007Z"
   },
   {
    "duration": 28,
    "start_time": "2025-06-09T10:06:32.374Z"
   },
   {
    "duration": 30,
    "start_time": "2025-06-09T10:07:51.281Z"
   },
   {
    "duration": 29,
    "start_time": "2025-06-09T10:07:59.923Z"
   },
   {
    "duration": 20,
    "start_time": "2025-06-09T10:09:56.707Z"
   },
   {
    "duration": 8,
    "start_time": "2025-06-09T10:11:44.440Z"
   },
   {
    "duration": 7,
    "start_time": "2025-06-09T10:12:00.053Z"
   },
   {
    "duration": 549,
    "start_time": "2025-06-09T10:12:57.074Z"
   },
   {
    "duration": 537,
    "start_time": "2025-06-09T10:13:24.143Z"
   },
   {
    "duration": 567,
    "start_time": "2025-06-09T10:13:36.865Z"
   },
   {
    "duration": 535,
    "start_time": "2025-06-09T10:14:45.676Z"
   },
   {
    "duration": 9,
    "start_time": "2025-06-09T10:15:03.565Z"
   },
   {
    "duration": 5,
    "start_time": "2025-06-09T10:15:38.155Z"
   },
   {
    "duration": 6,
    "start_time": "2025-06-09T10:15:49.133Z"
   },
   {
    "duration": 11,
    "start_time": "2025-06-09T10:16:26.481Z"
   },
   {
    "duration": 77,
    "start_time": "2025-06-09T10:19:29.819Z"
   },
   {
    "duration": 75,
    "start_time": "2025-06-09T10:19:54.915Z"
   },
   {
    "duration": 102,
    "start_time": "2025-06-09T10:20:04.088Z"
   },
   {
    "duration": 139,
    "start_time": "2025-06-09T10:24:10.909Z"
   },
   {
    "duration": 161,
    "start_time": "2025-06-09T10:24:29.122Z"
   },
   {
    "duration": 163,
    "start_time": "2025-06-09T10:25:38.600Z"
   },
   {
    "duration": 189,
    "start_time": "2025-06-09T10:26:01.211Z"
   },
   {
    "duration": 160,
    "start_time": "2025-06-09T10:26:09.683Z"
   },
   {
    "duration": 162,
    "start_time": "2025-06-09T10:26:26.479Z"
   },
   {
    "duration": 175,
    "start_time": "2025-06-09T10:26:42.852Z"
   },
   {
    "duration": 86,
    "start_time": "2025-06-09T10:33:17.733Z"
   },
   {
    "duration": 344,
    "start_time": "2025-06-09T10:33:26.122Z"
   },
   {
    "duration": 339,
    "start_time": "2025-06-09T11:03:20.031Z"
   },
   {
    "duration": 315,
    "start_time": "2025-06-09T11:04:56.680Z"
   },
   {
    "duration": 309,
    "start_time": "2025-06-09T11:05:06.993Z"
   },
   {
    "duration": 618,
    "start_time": "2025-06-09T11:05:26.222Z"
   },
   {
    "duration": 603,
    "start_time": "2025-06-09T11:05:33.120Z"
   },
   {
    "duration": 297,
    "start_time": "2025-06-09T11:07:35.773Z"
   },
   {
    "duration": 191,
    "start_time": "2025-06-09T11:08:13.630Z"
   },
   {
    "duration": 191,
    "start_time": "2025-06-09T11:08:54.048Z"
   },
   {
    "duration": 333,
    "start_time": "2025-06-09T11:09:03.376Z"
   },
   {
    "duration": 189,
    "start_time": "2025-06-09T11:09:05.613Z"
   },
   {
    "duration": 133,
    "start_time": "2025-06-09T11:10:09.545Z"
   },
   {
    "duration": 131,
    "start_time": "2025-06-09T11:10:13.470Z"
   },
   {
    "duration": 179,
    "start_time": "2025-06-09T11:11:19.639Z"
   },
   {
    "duration": 10,
    "start_time": "2025-06-09T11:11:42.476Z"
   },
   {
    "duration": 496,
    "start_time": "2025-06-09T11:11:48.453Z"
   },
   {
    "duration": 327,
    "start_time": "2025-06-09T11:12:00.340Z"
   },
   {
    "duration": 197,
    "start_time": "2025-06-09T11:13:32.353Z"
   },
   {
    "duration": 60,
    "start_time": "2025-06-09T11:44:28.764Z"
   },
   {
    "duration": 1504,
    "start_time": "2025-06-09T11:46:46.601Z"
   },
   {
    "duration": 86,
    "start_time": "2025-06-09T11:47:03.806Z"
   },
   {
    "duration": 367,
    "start_time": "2025-06-09T11:48:41.598Z"
   },
   {
    "duration": 10,
    "start_time": "2025-06-09T11:49:12.164Z"
   },
   {
    "duration": 120,
    "start_time": "2025-06-09T11:49:28.511Z"
   },
   {
    "duration": 290,
    "start_time": "2025-06-09T11:51:44.375Z"
   },
   {
    "duration": 27,
    "start_time": "2025-06-09T11:52:02.209Z"
   },
   {
    "duration": 136,
    "start_time": "2025-06-09T11:52:36.136Z"
   },
   {
    "duration": 24,
    "start_time": "2025-06-09T11:52:44.438Z"
   },
   {
    "duration": 1190,
    "start_time": "2025-06-09T11:53:20.209Z"
   },
   {
    "duration": 2888,
    "start_time": "2025-06-09T11:53:21.400Z"
   },
   {
    "duration": 17,
    "start_time": "2025-06-09T11:53:24.290Z"
   },
   {
    "duration": 99,
    "start_time": "2025-06-09T11:53:24.310Z"
   },
   {
    "duration": 253,
    "start_time": "2025-06-09T11:53:24.411Z"
   },
   {
    "duration": 13,
    "start_time": "2025-06-09T11:53:24.667Z"
   },
   {
    "duration": 235,
    "start_time": "2025-06-09T11:53:24.682Z"
   },
   {
    "duration": 21,
    "start_time": "2025-06-09T11:53:24.919Z"
   },
   {
    "duration": 392,
    "start_time": "2025-06-09T11:53:24.942Z"
   },
   {
    "duration": 626,
    "start_time": "2025-06-09T11:53:25.337Z"
   },
   {
    "duration": 5,
    "start_time": "2025-06-09T11:53:25.965Z"
   },
   {
    "duration": 235,
    "start_time": "2025-06-09T11:53:25.971Z"
   },
   {
    "duration": 405,
    "start_time": "2025-06-09T11:53:26.208Z"
   },
   {
    "duration": 195,
    "start_time": "2025-06-09T11:53:26.615Z"
   },
   {
    "duration": 27,
    "start_time": "2025-06-09T11:53:26.812Z"
   },
   {
    "duration": 331,
    "start_time": "2025-06-09T11:53:26.841Z"
   },
   {
    "duration": 208,
    "start_time": "2025-06-09T11:53:27.174Z"
   },
   {
    "duration": 91,
    "start_time": "2025-06-09T11:53:27.384Z"
   },
   {
    "duration": 365,
    "start_time": "2025-06-09T11:53:27.477Z"
   },
   {
    "duration": 124,
    "start_time": "2025-06-09T11:53:27.844Z"
   },
   {
    "duration": 400,
    "start_time": "2025-06-09T11:55:30.496Z"
   },
   {
    "duration": 26,
    "start_time": "2025-06-09T11:55:32.491Z"
   },
   {
    "duration": 362,
    "start_time": "2025-06-09T11:55:40.466Z"
   },
   {
    "duration": 210,
    "start_time": "2025-06-09T11:55:43.316Z"
   },
   {
    "duration": 395,
    "start_time": "2025-06-09T11:56:12.253Z"
   },
   {
    "duration": 149,
    "start_time": "2025-06-09T11:56:14.261Z"
   },
   {
    "duration": 159,
    "start_time": "2025-06-09T11:56:39.219Z"
   },
   {
    "duration": 641,
    "start_time": "2025-06-09T11:57:08.221Z"
   },
   {
    "duration": 706,
    "start_time": "2025-06-09T11:58:35.371Z"
   },
   {
    "duration": 642,
    "start_time": "2025-06-09T11:58:49.036Z"
   },
   {
    "duration": 183,
    "start_time": "2025-06-09T11:58:51.890Z"
   },
   {
    "duration": 160,
    "start_time": "2025-06-09T11:58:56.122Z"
   },
   {
    "duration": 145,
    "start_time": "2025-06-09T11:58:58.642Z"
   },
   {
    "duration": 16,
    "start_time": "2025-06-09T12:07:20.674Z"
   },
   {
    "duration": 22,
    "start_time": "2025-06-09T12:07:29.899Z"
   },
   {
    "duration": 17,
    "start_time": "2025-06-09T12:07:53.354Z"
   },
   {
    "duration": 13,
    "start_time": "2025-06-09T12:08:04.844Z"
   },
   {
    "duration": 142,
    "start_time": "2025-06-09T12:09:46.583Z"
   },
   {
    "duration": 42,
    "start_time": "2025-06-09T12:10:10.870Z"
   },
   {
    "duration": 48,
    "start_time": "2025-06-09T12:11:10.162Z"
   },
   {
    "duration": 24,
    "start_time": "2025-06-09T12:12:26.400Z"
   },
   {
    "duration": 31,
    "start_time": "2025-06-09T12:12:34.470Z"
   },
   {
    "duration": 18,
    "start_time": "2025-06-09T12:14:22.684Z"
   },
   {
    "duration": 30,
    "start_time": "2025-06-09T12:14:22.733Z"
   },
   {
    "duration": 20,
    "start_time": "2025-06-09T12:14:53.718Z"
   },
   {
    "duration": 152,
    "start_time": "2025-06-09T12:15:49.848Z"
   },
   {
    "duration": 69,
    "start_time": "2025-06-09T12:16:03.721Z"
   },
   {
    "duration": 43,
    "start_time": "2025-06-09T12:16:43.381Z"
   },
   {
    "duration": 285,
    "start_time": "2025-06-09T12:17:25.027Z"
   },
   {
    "duration": 67,
    "start_time": "2025-06-09T12:17:26.785Z"
   },
   {
    "duration": 62,
    "start_time": "2025-06-09T12:17:28.840Z"
   },
   {
    "duration": 92,
    "start_time": "2025-06-09T13:23:03.232Z"
   },
   {
    "duration": 106,
    "start_time": "2025-06-09T13:23:19.946Z"
   },
   {
    "duration": 50,
    "start_time": "2025-06-09T13:23:32.421Z"
   },
   {
    "duration": 11,
    "start_time": "2025-06-09T13:30:45.936Z"
   },
   {
    "duration": 12,
    "start_time": "2025-06-09T13:32:47.957Z"
   },
   {
    "duration": 32,
    "start_time": "2025-06-09T13:32:57.255Z"
   },
   {
    "duration": 20,
    "start_time": "2025-06-09T13:33:07.792Z"
   },
   {
    "duration": 12,
    "start_time": "2025-06-09T13:33:47.523Z"
   },
   {
    "duration": 13,
    "start_time": "2025-06-09T13:33:50.922Z"
   },
   {
    "duration": 5,
    "start_time": "2025-06-09T13:33:59.520Z"
   },
   {
    "duration": 23,
    "start_time": "2025-06-09T13:38:56.994Z"
   },
   {
    "duration": 6,
    "start_time": "2025-06-09T13:39:32.783Z"
   },
   {
    "duration": 22,
    "start_time": "2025-06-09T13:40:42.804Z"
   },
   {
    "duration": 5,
    "start_time": "2025-06-09T13:41:43.153Z"
   },
   {
    "duration": 22,
    "start_time": "2025-06-09T13:43:24.603Z"
   },
   {
    "duration": 18,
    "start_time": "2025-06-09T13:43:46.394Z"
   },
   {
    "duration": 19,
    "start_time": "2025-06-09T13:44:16.745Z"
   },
   {
    "duration": 226,
    "start_time": "2025-06-09T13:44:48.436Z"
   },
   {
    "duration": 19,
    "start_time": "2025-06-09T13:44:52.470Z"
   },
   {
    "duration": 19,
    "start_time": "2025-06-09T13:54:36.282Z"
   },
   {
    "duration": 19,
    "start_time": "2025-06-09T13:54:59.184Z"
   },
   {
    "duration": 19,
    "start_time": "2025-06-09T13:55:41.651Z"
   },
   {
    "duration": 21,
    "start_time": "2025-06-09T13:57:44.169Z"
   },
   {
    "duration": 1363,
    "start_time": "2025-06-09T13:58:24.195Z"
   },
   {
    "duration": 9,
    "start_time": "2025-06-09T13:58:38.510Z"
   },
   {
    "duration": 9,
    "start_time": "2025-06-09T13:58:44.860Z"
   },
   {
    "duration": 4,
    "start_time": "2025-06-09T14:01:18.344Z"
   },
   {
    "duration": 21,
    "start_time": "2025-06-09T14:02:14.474Z"
   },
   {
    "duration": 5,
    "start_time": "2025-06-09T14:04:41.647Z"
   },
   {
    "duration": 32,
    "start_time": "2025-06-09T14:07:35.980Z"
   },
   {
    "duration": 11,
    "start_time": "2025-06-09T14:08:08.512Z"
   },
   {
    "duration": 19,
    "start_time": "2025-06-09T14:09:16.980Z"
   },
   {
    "duration": 1450,
    "start_time": "2025-06-09T14:12:18.096Z"
   },
   {
    "duration": 17,
    "start_time": "2025-06-09T14:12:41.664Z"
   },
   {
    "duration": 19,
    "start_time": "2025-06-09T14:12:49.665Z"
   },
   {
    "duration": 17,
    "start_time": "2025-06-09T14:13:00.524Z"
   },
   {
    "duration": 9,
    "start_time": "2025-06-09T14:13:13.404Z"
   },
   {
    "duration": 20,
    "start_time": "2025-06-09T14:13:24.442Z"
   },
   {
    "duration": 159,
    "start_time": "2025-06-09T14:13:27.628Z"
   },
   {
    "duration": 151,
    "start_time": "2025-06-09T14:14:17.741Z"
   },
   {
    "duration": 146,
    "start_time": "2025-06-09T14:14:24.682Z"
   },
   {
    "duration": 154,
    "start_time": "2025-06-09T14:14:31.020Z"
   },
   {
    "duration": 141,
    "start_time": "2025-06-09T14:15:05.623Z"
   },
   {
    "duration": 172,
    "start_time": "2025-06-09T14:15:11.048Z"
   },
   {
    "duration": 168,
    "start_time": "2025-06-09T14:16:32.459Z"
   },
   {
    "duration": 249,
    "start_time": "2025-06-09T14:17:22.819Z"
   },
   {
    "duration": 168,
    "start_time": "2025-06-09T14:17:30.829Z"
   },
   {
    "duration": 169,
    "start_time": "2025-06-09T14:17:34.748Z"
   },
   {
    "duration": 181,
    "start_time": "2025-06-09T14:19:13.472Z"
   },
   {
    "duration": 174,
    "start_time": "2025-06-09T14:19:25.797Z"
   },
   {
    "duration": 182,
    "start_time": "2025-06-09T14:20:17.957Z"
   },
   {
    "duration": 186,
    "start_time": "2025-06-09T14:26:55.184Z"
   },
   {
    "duration": 177,
    "start_time": "2025-06-09T14:27:12.883Z"
   },
   {
    "duration": 188,
    "start_time": "2025-06-09T14:27:29.484Z"
   },
   {
    "duration": 179,
    "start_time": "2025-06-09T14:28:13.034Z"
   },
   {
    "duration": 197,
    "start_time": "2025-06-09T14:28:16.874Z"
   },
   {
    "duration": 267,
    "start_time": "2025-06-09T14:28:48.924Z"
   },
   {
    "duration": 8,
    "start_time": "2025-06-09T14:37:38.401Z"
   },
   {
    "duration": 10,
    "start_time": "2025-06-09T14:37:43.956Z"
   },
   {
    "duration": 8,
    "start_time": "2025-06-09T14:37:45.877Z"
   },
   {
    "duration": 90,
    "start_time": "2025-06-09T14:41:12.503Z"
   },
   {
    "duration": 11,
    "start_time": "2025-06-09T14:41:24.039Z"
   },
   {
    "duration": 35,
    "start_time": "2025-06-09T14:41:27.614Z"
   },
   {
    "duration": 50,
    "start_time": "2025-06-09T14:41:38.234Z"
   },
   {
    "duration": 17,
    "start_time": "2025-06-09T14:41:44.975Z"
   },
   {
    "duration": 114,
    "start_time": "2025-06-09T14:42:20.274Z"
   },
   {
    "duration": 57,
    "start_time": "2025-06-09T14:42:23.399Z"
   },
   {
    "duration": 125,
    "start_time": "2025-06-09T14:42:51.287Z"
   },
   {
    "duration": 55,
    "start_time": "2025-06-09T14:42:53.488Z"
   },
   {
    "duration": 108,
    "start_time": "2025-06-09T14:43:36.928Z"
   },
   {
    "duration": 54,
    "start_time": "2025-06-09T14:43:56.983Z"
   },
   {
    "duration": 49,
    "start_time": "2025-06-09T14:44:44.070Z"
   },
   {
    "duration": 50,
    "start_time": "2025-06-09T14:44:52.283Z"
   },
   {
    "duration": 48,
    "start_time": "2025-06-09T14:45:03.008Z"
   },
   {
    "duration": 59,
    "start_time": "2025-06-09T14:45:06.244Z"
   },
   {
    "duration": 99,
    "start_time": "2025-06-09T14:45:41.008Z"
   },
   {
    "duration": 48,
    "start_time": "2025-06-09T14:45:53.028Z"
   },
   {
    "duration": 50,
    "start_time": "2025-06-09T14:46:38.206Z"
   },
   {
    "duration": 1393,
    "start_time": "2025-06-09T14:49:36.596Z"
   },
   {
    "duration": 7,
    "start_time": "2025-06-09T14:49:42.445Z"
   },
   {
    "duration": 1468,
    "start_time": "2025-06-09T14:50:09.249Z"
   },
   {
    "duration": 4,
    "start_time": "2025-06-09T14:50:24.179Z"
   },
   {
    "duration": 54,
    "start_time": "2025-06-09T14:52:53.744Z"
   },
   {
    "duration": 1185,
    "start_time": "2025-06-09T14:53:34.596Z"
   },
   {
    "duration": 2626,
    "start_time": "2025-06-09T14:53:35.782Z"
   },
   {
    "duration": 14,
    "start_time": "2025-06-09T14:53:38.410Z"
   },
   {
    "duration": 65,
    "start_time": "2025-06-09T14:53:38.426Z"
   },
   {
    "duration": 237,
    "start_time": "2025-06-09T14:53:38.492Z"
   },
   {
    "duration": 28,
    "start_time": "2025-06-09T14:53:38.730Z"
   },
   {
    "duration": 162,
    "start_time": "2025-06-09T14:53:38.760Z"
   },
   {
    "duration": 20,
    "start_time": "2025-06-09T14:53:38.924Z"
   },
   {
    "duration": 348,
    "start_time": "2025-06-09T14:53:38.946Z"
   },
   {
    "duration": 602,
    "start_time": "2025-06-09T14:53:39.297Z"
   },
   {
    "duration": 5,
    "start_time": "2025-06-09T14:53:39.900Z"
   },
   {
    "duration": 191,
    "start_time": "2025-06-09T14:53:39.907Z"
   },
   {
    "duration": 112,
    "start_time": "2025-06-09T14:53:40.100Z"
   },
   {
    "duration": 0,
    "start_time": "2025-06-09T14:53:40.215Z"
   },
   {
    "duration": 0,
    "start_time": "2025-06-09T14:53:40.216Z"
   },
   {
    "duration": 0,
    "start_time": "2025-06-09T14:53:40.217Z"
   },
   {
    "duration": 0,
    "start_time": "2025-06-09T14:53:40.218Z"
   },
   {
    "duration": 0,
    "start_time": "2025-06-09T14:53:40.219Z"
   },
   {
    "duration": 0,
    "start_time": "2025-06-09T14:53:40.220Z"
   },
   {
    "duration": 0,
    "start_time": "2025-06-09T14:53:40.221Z"
   },
   {
    "duration": 0,
    "start_time": "2025-06-09T14:53:40.222Z"
   },
   {
    "duration": 0,
    "start_time": "2025-06-09T14:53:40.223Z"
   },
   {
    "duration": 0,
    "start_time": "2025-06-09T14:53:40.224Z"
   },
   {
    "duration": 0,
    "start_time": "2025-06-09T14:53:40.225Z"
   },
   {
    "duration": 0,
    "start_time": "2025-06-09T14:53:40.226Z"
   },
   {
    "duration": 0,
    "start_time": "2025-06-09T14:53:40.227Z"
   },
   {
    "duration": 0,
    "start_time": "2025-06-09T14:53:40.228Z"
   },
   {
    "duration": 0,
    "start_time": "2025-06-09T14:53:40.258Z"
   },
   {
    "duration": 0,
    "start_time": "2025-06-09T14:53:40.259Z"
   },
   {
    "duration": 0,
    "start_time": "2025-06-09T14:53:40.260Z"
   },
   {
    "duration": 0,
    "start_time": "2025-06-09T14:53:40.261Z"
   },
   {
    "duration": 0,
    "start_time": "2025-06-09T14:53:40.262Z"
   },
   {
    "duration": 0,
    "start_time": "2025-06-09T14:53:40.263Z"
   },
   {
    "duration": 1184,
    "start_time": "2025-06-09T14:54:59.586Z"
   },
   {
    "duration": 2647,
    "start_time": "2025-06-09T14:55:00.772Z"
   },
   {
    "duration": 16,
    "start_time": "2025-06-09T14:55:03.421Z"
   },
   {
    "duration": 63,
    "start_time": "2025-06-09T14:55:03.439Z"
   },
   {
    "duration": 257,
    "start_time": "2025-06-09T14:55:03.503Z"
   },
   {
    "duration": 10,
    "start_time": "2025-06-09T14:55:03.762Z"
   },
   {
    "duration": 167,
    "start_time": "2025-06-09T14:55:03.774Z"
   },
   {
    "duration": 29,
    "start_time": "2025-06-09T14:55:03.943Z"
   },
   {
    "duration": 353,
    "start_time": "2025-06-09T14:55:03.974Z"
   },
   {
    "duration": 637,
    "start_time": "2025-06-09T14:55:04.329Z"
   },
   {
    "duration": 4,
    "start_time": "2025-06-09T14:55:04.968Z"
   },
   {
    "duration": 213,
    "start_time": "2025-06-09T14:55:04.973Z"
   },
   {
    "duration": 438,
    "start_time": "2025-06-09T14:55:05.188Z"
   },
   {
    "duration": 382,
    "start_time": "2025-06-09T14:55:05.628Z"
   },
   {
    "duration": 221,
    "start_time": "2025-06-09T14:55:06.011Z"
   },
   {
    "duration": 94,
    "start_time": "2025-06-09T14:55:06.235Z"
   },
   {
    "duration": 673,
    "start_time": "2025-06-09T14:55:06.330Z"
   },
   {
    "duration": 191,
    "start_time": "2025-06-09T14:55:07.005Z"
   },
   {
    "duration": 138,
    "start_time": "2025-06-09T14:55:07.198Z"
   },
   {
    "duration": 21,
    "start_time": "2025-06-09T14:55:07.338Z"
   },
   {
    "duration": 143,
    "start_time": "2025-06-09T14:55:07.360Z"
   },
   {
    "duration": 38,
    "start_time": "2025-06-09T14:55:07.504Z"
   },
   {
    "duration": 32,
    "start_time": "2025-06-09T14:55:07.544Z"
   },
   {
    "duration": 288,
    "start_time": "2025-06-09T14:55:07.578Z"
   },
   {
    "duration": 59,
    "start_time": "2025-06-09T14:55:07.867Z"
   },
   {
    "duration": 56,
    "start_time": "2025-06-09T14:55:07.928Z"
   },
   {
    "duration": 11,
    "start_time": "2025-06-09T14:55:07.986Z"
   },
   {
    "duration": 22,
    "start_time": "2025-06-09T14:55:08.000Z"
   },
   {
    "duration": 271,
    "start_time": "2025-06-09T14:55:08.024Z"
   },
   {
    "duration": 102,
    "start_time": "2025-06-09T14:55:08.297Z"
   },
   {
    "duration": 59,
    "start_time": "2025-06-09T14:55:08.400Z"
   },
   {
    "duration": 51,
    "start_time": "2025-06-09T14:55:08.460Z"
   },
   {
    "duration": 156,
    "start_time": "2025-06-09T14:55:08.512Z"
   },
   {
    "duration": 50,
    "start_time": "2025-06-09T14:55:23.919Z"
   },
   {
    "duration": 101,
    "start_time": "2025-06-09T14:57:08.524Z"
   },
   {
    "duration": 15,
    "start_time": "2025-06-09T14:57:47.008Z"
   },
   {
    "duration": 16,
    "start_time": "2025-06-09T14:58:23.572Z"
   },
   {
    "duration": 13,
    "start_time": "2025-06-09T15:00:05.472Z"
   },
   {
    "duration": 11,
    "start_time": "2025-06-09T15:00:36.214Z"
   },
   {
    "duration": 8,
    "start_time": "2025-06-09T15:01:19.824Z"
   },
   {
    "duration": 5,
    "start_time": "2025-06-09T15:01:54.228Z"
   },
   {
    "duration": 5,
    "start_time": "2025-06-09T15:02:10.605Z"
   },
   {
    "duration": 5,
    "start_time": "2025-06-09T15:02:17.012Z"
   },
   {
    "duration": 5,
    "start_time": "2025-06-09T15:06:28.591Z"
   },
   {
    "duration": 9,
    "start_time": "2025-06-09T15:07:02.093Z"
   },
   {
    "duration": 16,
    "start_time": "2025-06-09T15:07:58.546Z"
   },
   {
    "duration": 18,
    "start_time": "2025-06-09T15:08:07.263Z"
   },
   {
    "duration": 18,
    "start_time": "2025-06-09T15:08:28.799Z"
   },
   {
    "duration": 1582,
    "start_time": "2025-06-09T15:12:47.552Z"
   },
   {
    "duration": 16,
    "start_time": "2025-06-09T15:13:02.479Z"
   },
   {
    "duration": 28,
    "start_time": "2025-06-09T15:14:03.398Z"
   },
   {
    "duration": 24,
    "start_time": "2025-06-09T15:14:13.973Z"
   },
   {
    "duration": 26,
    "start_time": "2025-06-09T15:14:26.537Z"
   },
   {
    "duration": 15,
    "start_time": "2025-06-09T15:14:34.038Z"
   },
   {
    "duration": 13,
    "start_time": "2025-06-09T15:15:22.553Z"
   },
   {
    "duration": 14,
    "start_time": "2025-06-09T15:15:33.242Z"
   },
   {
    "duration": 52,
    "start_time": "2025-06-10T08:01:32.141Z"
   },
   {
    "duration": 1421,
    "start_time": "2025-06-10T08:01:40.142Z"
   },
   {
    "duration": 2120,
    "start_time": "2025-06-10T08:01:41.565Z"
   },
   {
    "duration": 19,
    "start_time": "2025-06-10T08:01:43.687Z"
   },
   {
    "duration": 71,
    "start_time": "2025-06-10T08:01:43.709Z"
   },
   {
    "duration": 237,
    "start_time": "2025-06-10T08:01:43.782Z"
   },
   {
    "duration": 22,
    "start_time": "2025-06-10T08:01:44.020Z"
   },
   {
    "duration": 218,
    "start_time": "2025-06-10T08:01:44.044Z"
   },
   {
    "duration": 20,
    "start_time": "2025-06-10T08:01:44.263Z"
   },
   {
    "duration": 332,
    "start_time": "2025-06-10T08:01:44.284Z"
   },
   {
    "duration": 603,
    "start_time": "2025-06-10T08:01:44.618Z"
   },
   {
    "duration": 8,
    "start_time": "2025-06-10T08:01:45.237Z"
   },
   {
    "duration": 234,
    "start_time": "2025-06-10T08:01:45.248Z"
   },
   {
    "duration": 469,
    "start_time": "2025-06-10T08:01:45.484Z"
   },
   {
    "duration": 363,
    "start_time": "2025-06-10T08:01:45.956Z"
   },
   {
    "duration": 216,
    "start_time": "2025-06-10T08:01:46.321Z"
   },
   {
    "duration": 100,
    "start_time": "2025-06-10T08:01:46.539Z"
   },
   {
    "duration": 599,
    "start_time": "2025-06-10T08:01:46.640Z"
   },
   {
    "duration": 177,
    "start_time": "2025-06-10T08:01:47.240Z"
   },
   {
    "duration": 139,
    "start_time": "2025-06-10T08:01:47.419Z"
   },
   {
    "duration": 59,
    "start_time": "2025-06-10T08:01:47.560Z"
   },
   {
    "duration": 163,
    "start_time": "2025-06-10T08:01:47.620Z"
   },
   {
    "duration": 39,
    "start_time": "2025-06-10T08:01:47.784Z"
   },
   {
    "duration": 29,
    "start_time": "2025-06-10T08:01:47.825Z"
   },
   {
    "duration": 216,
    "start_time": "2025-06-10T08:01:47.855Z"
   },
   {
    "duration": 69,
    "start_time": "2025-06-10T08:01:48.072Z"
   },
   {
    "duration": 45,
    "start_time": "2025-06-10T08:01:48.143Z"
   },
   {
    "duration": 10,
    "start_time": "2025-06-10T08:01:48.190Z"
   },
   {
    "duration": 43,
    "start_time": "2025-06-10T08:01:48.201Z"
   },
   {
    "duration": 210,
    "start_time": "2025-06-10T08:01:48.246Z"
   },
   {
    "duration": 93,
    "start_time": "2025-06-10T08:01:48.458Z"
   },
   {
    "duration": 46,
    "start_time": "2025-06-10T08:01:48.553Z"
   },
   {
    "duration": 99,
    "start_time": "2025-06-10T08:01:48.600Z"
   },
   {
    "duration": 47,
    "start_time": "2025-06-10T08:01:48.701Z"
   },
   {
    "duration": 16,
    "start_time": "2025-06-10T08:01:48.750Z"
   },
   {
    "duration": 53,
    "start_time": "2025-06-10T08:01:48.768Z"
   },
   {
    "duration": 14,
    "start_time": "2025-06-10T08:11:47.297Z"
   },
   {
    "duration": 15,
    "start_time": "2025-06-10T08:13:03.394Z"
   },
   {
    "duration": 13,
    "start_time": "2025-06-10T08:13:06.484Z"
   },
   {
    "duration": 13,
    "start_time": "2025-06-10T08:15:54.146Z"
   },
   {
    "duration": 12,
    "start_time": "2025-06-10T08:16:05.251Z"
   },
   {
    "duration": 16,
    "start_time": "2025-06-10T08:16:16.897Z"
   },
   {
    "duration": 30,
    "start_time": "2025-06-10T08:18:54.291Z"
   },
   {
    "duration": 1644,
    "start_time": "2025-06-10T08:20:46.649Z"
   },
   {
    "duration": 15,
    "start_time": "2025-06-10T08:20:59.960Z"
   },
   {
    "duration": 18,
    "start_time": "2025-06-10T08:22:42.922Z"
   },
   {
    "duration": 30,
    "start_time": "2025-06-10T08:24:14.844Z"
   },
   {
    "duration": 12,
    "start_time": "2025-06-10T08:25:52.890Z"
   },
   {
    "duration": 1442,
    "start_time": "2025-06-10T08:27:18.827Z"
   },
   {
    "duration": 1167,
    "start_time": "2025-06-10T08:27:58.811Z"
   },
   {
    "duration": 1929,
    "start_time": "2025-06-10T08:27:59.980Z"
   },
   {
    "duration": 28,
    "start_time": "2025-06-10T08:28:01.910Z"
   },
   {
    "duration": 177,
    "start_time": "2025-06-10T08:28:01.940Z"
   },
   {
    "duration": 396,
    "start_time": "2025-06-10T08:28:02.119Z"
   },
   {
    "duration": 11,
    "start_time": "2025-06-10T08:28:02.537Z"
   },
   {
    "duration": 197,
    "start_time": "2025-06-10T08:28:02.550Z"
   },
   {
    "duration": 21,
    "start_time": "2025-06-10T08:28:02.749Z"
   },
   {
    "duration": 380,
    "start_time": "2025-06-10T08:28:02.772Z"
   },
   {
    "duration": 663,
    "start_time": "2025-06-10T08:28:03.154Z"
   },
   {
    "duration": 19,
    "start_time": "2025-06-10T08:28:03.819Z"
   },
   {
    "duration": 218,
    "start_time": "2025-06-10T08:28:03.840Z"
   },
   {
    "duration": 446,
    "start_time": "2025-06-10T08:28:04.060Z"
   },
   {
    "duration": 387,
    "start_time": "2025-06-10T08:28:04.507Z"
   },
   {
    "duration": 230,
    "start_time": "2025-06-10T08:28:04.896Z"
   },
   {
    "duration": 83,
    "start_time": "2025-06-10T08:28:05.136Z"
   },
   {
    "duration": 670,
    "start_time": "2025-06-10T08:28:05.236Z"
   },
   {
    "duration": 204,
    "start_time": "2025-06-10T08:28:05.908Z"
   },
   {
    "duration": 166,
    "start_time": "2025-06-10T08:28:06.113Z"
   },
   {
    "duration": 88,
    "start_time": "2025-06-10T08:28:06.280Z"
   },
   {
    "duration": 171,
    "start_time": "2025-06-10T08:28:06.370Z"
   },
   {
    "duration": 42,
    "start_time": "2025-06-10T08:28:06.542Z"
   },
   {
    "duration": 33,
    "start_time": "2025-06-10T08:28:06.586Z"
   },
   {
    "duration": 278,
    "start_time": "2025-06-10T08:28:06.621Z"
   },
   {
    "duration": 73,
    "start_time": "2025-06-10T08:28:06.900Z"
   },
   {
    "duration": 46,
    "start_time": "2025-06-10T08:28:06.975Z"
   },
   {
    "duration": 35,
    "start_time": "2025-06-10T08:28:07.023Z"
   },
   {
    "duration": 64,
    "start_time": "2025-06-10T08:28:07.062Z"
   },
   {
    "duration": 228,
    "start_time": "2025-06-10T08:28:07.128Z"
   },
   {
    "duration": 116,
    "start_time": "2025-06-10T08:28:07.358Z"
   },
   {
    "duration": 49,
    "start_time": "2025-06-10T08:28:07.476Z"
   },
   {
    "duration": 57,
    "start_time": "2025-06-10T08:28:07.527Z"
   },
   {
    "duration": 17,
    "start_time": "2025-06-10T08:28:07.586Z"
   },
   {
    "duration": 205,
    "start_time": "2025-06-10T08:28:07.605Z"
   },
   {
    "duration": 32,
    "start_time": "2025-06-10T08:28:07.812Z"
   },
   {
    "duration": 26,
    "start_time": "2025-06-10T08:28:07.846Z"
   },
   {
    "duration": 10,
    "start_time": "2025-06-10T08:28:07.874Z"
   },
   {
    "duration": 5,
    "start_time": "2025-06-10T08:29:03.853Z"
   },
   {
    "duration": 4,
    "start_time": "2025-06-10T08:29:07.943Z"
   },
   {
    "duration": 6,
    "start_time": "2025-06-10T08:29:21.681Z"
   },
   {
    "duration": 7,
    "start_time": "2025-06-10T08:37:40.945Z"
   },
   {
    "duration": 101,
    "start_time": "2025-06-10T08:41:11.905Z"
   },
   {
    "duration": 117,
    "start_time": "2025-06-10T08:43:49.342Z"
   },
   {
    "duration": 169,
    "start_time": "2025-06-10T08:44:05.120Z"
   },
   {
    "duration": 111,
    "start_time": "2025-06-10T08:44:22.106Z"
   },
   {
    "duration": 166,
    "start_time": "2025-06-10T08:44:28.641Z"
   },
   {
    "duration": 58,
    "start_time": "2025-06-10T08:45:16.687Z"
   },
   {
    "duration": 59,
    "start_time": "2025-06-10T08:45:19.207Z"
   },
   {
    "duration": 24,
    "start_time": "2025-06-10T08:45:53.790Z"
   },
   {
    "duration": 33,
    "start_time": "2025-06-10T08:46:16.109Z"
   },
   {
    "duration": 13,
    "start_time": "2025-06-10T08:46:27.364Z"
   },
   {
    "duration": 17,
    "start_time": "2025-06-10T08:46:31.794Z"
   },
   {
    "duration": 7,
    "start_time": "2025-06-10T08:46:35.076Z"
   },
   {
    "duration": 16,
    "start_time": "2025-06-10T08:53:37.766Z"
   },
   {
    "duration": 9,
    "start_time": "2025-06-10T08:59:37.197Z"
   },
   {
    "duration": 17,
    "start_time": "2025-06-10T09:00:03.359Z"
   },
   {
    "duration": 27,
    "start_time": "2025-06-10T09:00:59.642Z"
   },
   {
    "duration": 416,
    "start_time": "2025-06-10T09:01:36.840Z"
   },
   {
    "duration": 16,
    "start_time": "2025-06-10T09:02:37.218Z"
   },
   {
    "duration": 257,
    "start_time": "2025-06-10T09:05:03.256Z"
   },
   {
    "duration": 123,
    "start_time": "2025-06-10T09:06:01.142Z"
   },
   {
    "duration": 79,
    "start_time": "2025-06-10T09:06:25.647Z"
   },
   {
    "duration": 3,
    "start_time": "2025-06-10T09:11:12.835Z"
   },
   {
    "duration": 96,
    "start_time": "2025-06-10T09:11:54.660Z"
   },
   {
    "duration": 78,
    "start_time": "2025-06-10T09:12:48.974Z"
   },
   {
    "duration": 25,
    "start_time": "2025-06-10T09:13:06.161Z"
   },
   {
    "duration": 5,
    "start_time": "2025-06-10T09:13:37.722Z"
   },
   {
    "duration": 2,
    "start_time": "2025-06-10T09:13:48.342Z"
   },
   {
    "duration": 20,
    "start_time": "2025-06-10T09:14:00.279Z"
   },
   {
    "duration": 1120,
    "start_time": "2025-06-10T09:14:11.820Z"
   },
   {
    "duration": 2354,
    "start_time": "2025-06-10T09:14:12.942Z"
   },
   {
    "duration": 14,
    "start_time": "2025-06-10T09:14:15.298Z"
   },
   {
    "duration": 82,
    "start_time": "2025-06-10T09:14:15.315Z"
   },
   {
    "duration": 219,
    "start_time": "2025-06-10T09:14:15.399Z"
   },
   {
    "duration": 22,
    "start_time": "2025-06-10T09:14:15.619Z"
   },
   {
    "duration": 166,
    "start_time": "2025-06-10T09:14:15.643Z"
   },
   {
    "duration": 28,
    "start_time": "2025-06-10T09:14:15.811Z"
   },
   {
    "duration": 326,
    "start_time": "2025-06-10T09:14:15.840Z"
   },
   {
    "duration": 616,
    "start_time": "2025-06-10T09:14:16.168Z"
   },
   {
    "duration": 5,
    "start_time": "2025-06-10T09:14:16.785Z"
   },
   {
    "duration": 207,
    "start_time": "2025-06-10T09:14:16.791Z"
   },
   {
    "duration": 396,
    "start_time": "2025-06-10T09:14:17.000Z"
   },
   {
    "duration": 346,
    "start_time": "2025-06-10T09:14:17.398Z"
   },
   {
    "duration": 206,
    "start_time": "2025-06-10T09:14:17.745Z"
   },
   {
    "duration": 69,
    "start_time": "2025-06-10T09:14:17.953Z"
   },
   {
    "duration": 572,
    "start_time": "2025-06-10T09:14:18.036Z"
   },
   {
    "duration": 163,
    "start_time": "2025-06-10T09:14:18.610Z"
   },
   {
    "duration": 138,
    "start_time": "2025-06-10T09:14:18.775Z"
   },
   {
    "duration": 11,
    "start_time": "2025-06-10T09:14:18.914Z"
   },
   {
    "duration": 160,
    "start_time": "2025-06-10T09:14:18.927Z"
   },
   {
    "duration": 37,
    "start_time": "2025-06-10T09:14:19.089Z"
   },
   {
    "duration": 23,
    "start_time": "2025-06-10T09:14:19.127Z"
   },
   {
    "duration": 212,
    "start_time": "2025-06-10T09:14:19.152Z"
   },
   {
    "duration": 55,
    "start_time": "2025-06-10T09:14:19.365Z"
   },
   {
    "duration": 53,
    "start_time": "2025-06-10T09:14:19.421Z"
   },
   {
    "duration": 14,
    "start_time": "2025-06-10T09:14:19.476Z"
   },
   {
    "duration": 22,
    "start_time": "2025-06-10T09:14:19.494Z"
   },
   {
    "duration": 319,
    "start_time": "2025-06-10T09:14:19.517Z"
   },
   {
    "duration": 167,
    "start_time": "2025-06-10T09:14:19.838Z"
   },
   {
    "duration": 75,
    "start_time": "2025-06-10T09:14:20.006Z"
   },
   {
    "duration": 68,
    "start_time": "2025-06-10T09:14:20.083Z"
   },
   {
    "duration": 23,
    "start_time": "2025-06-10T09:14:20.153Z"
   },
   {
    "duration": 58,
    "start_time": "2025-06-10T09:14:20.178Z"
   },
   {
    "duration": 13,
    "start_time": "2025-06-10T09:14:20.238Z"
   },
   {
    "duration": 16,
    "start_time": "2025-06-10T09:14:20.253Z"
   },
   {
    "duration": 22,
    "start_time": "2025-06-10T09:14:20.270Z"
   },
   {
    "duration": 24,
    "start_time": "2025-06-10T09:14:20.294Z"
   },
   {
    "duration": 15,
    "start_time": "2025-06-10T09:14:48.056Z"
   },
   {
    "duration": 70,
    "start_time": "2025-06-10T09:15:37.701Z"
   },
   {
    "duration": 75,
    "start_time": "2025-06-10T09:16:21.807Z"
   },
   {
    "duration": 72,
    "start_time": "2025-06-10T09:16:33.088Z"
   },
   {
    "duration": 164,
    "start_time": "2025-06-10T09:16:51.017Z"
   },
   {
    "duration": 71,
    "start_time": "2025-06-10T09:17:01.784Z"
   },
   {
    "duration": 14,
    "start_time": "2025-06-10T09:17:08.385Z"
   },
   {
    "duration": 1245,
    "start_time": "2025-06-10T09:17:20.105Z"
   },
   {
    "duration": 2091,
    "start_time": "2025-06-10T09:17:21.352Z"
   },
   {
    "duration": 14,
    "start_time": "2025-06-10T09:17:23.445Z"
   },
   {
    "duration": 51,
    "start_time": "2025-06-10T09:17:23.461Z"
   },
   {
    "duration": 373,
    "start_time": "2025-06-10T09:17:23.514Z"
   },
   {
    "duration": 9,
    "start_time": "2025-06-10T09:17:23.889Z"
   },
   {
    "duration": 284,
    "start_time": "2025-06-10T09:17:23.900Z"
   },
   {
    "duration": 19,
    "start_time": "2025-06-10T09:17:24.186Z"
   },
   {
    "duration": 355,
    "start_time": "2025-06-10T09:17:24.206Z"
   },
   {
    "duration": 600,
    "start_time": "2025-06-10T09:17:24.563Z"
   },
   {
    "duration": 4,
    "start_time": "2025-06-10T09:17:25.165Z"
   },
   {
    "duration": 193,
    "start_time": "2025-06-10T09:17:25.171Z"
   },
   {
    "duration": 402,
    "start_time": "2025-06-10T09:17:25.365Z"
   },
   {
    "duration": 350,
    "start_time": "2025-06-10T09:17:25.768Z"
   },
   {
    "duration": 211,
    "start_time": "2025-06-10T09:17:26.119Z"
   },
   {
    "duration": 71,
    "start_time": "2025-06-10T09:17:26.331Z"
   },
   {
    "duration": 604,
    "start_time": "2025-06-10T09:17:26.403Z"
   },
   {
    "duration": 174,
    "start_time": "2025-06-10T09:17:27.009Z"
   },
   {
    "duration": 142,
    "start_time": "2025-06-10T09:17:27.185Z"
   },
   {
    "duration": 16,
    "start_time": "2025-06-10T09:17:27.329Z"
   },
   {
    "duration": 138,
    "start_time": "2025-06-10T09:17:27.347Z"
   },
   {
    "duration": 51,
    "start_time": "2025-06-10T09:17:27.487Z"
   },
   {
    "duration": 19,
    "start_time": "2025-06-10T09:17:27.540Z"
   },
   {
    "duration": 340,
    "start_time": "2025-06-10T09:17:27.560Z"
   },
   {
    "duration": 65,
    "start_time": "2025-06-10T09:17:27.902Z"
   },
   {
    "duration": 74,
    "start_time": "2025-06-10T09:17:27.969Z"
   },
   {
    "duration": 11,
    "start_time": "2025-06-10T09:17:28.045Z"
   },
   {
    "duration": 37,
    "start_time": "2025-06-10T09:17:28.059Z"
   },
   {
    "duration": 219,
    "start_time": "2025-06-10T09:17:28.097Z"
   },
   {
    "duration": 160,
    "start_time": "2025-06-10T09:17:28.318Z"
   },
   {
    "duration": 66,
    "start_time": "2025-06-10T09:17:28.479Z"
   },
   {
    "duration": 59,
    "start_time": "2025-06-10T09:17:28.546Z"
   },
   {
    "duration": 149,
    "start_time": "2025-06-10T09:17:28.606Z"
   },
   {
    "duration": 76,
    "start_time": "2025-06-10T09:17:28.757Z"
   },
   {
    "duration": 13,
    "start_time": "2025-06-10T09:17:28.834Z"
   },
   {
    "duration": 18,
    "start_time": "2025-06-10T09:17:28.848Z"
   },
   {
    "duration": 6,
    "start_time": "2025-06-10T09:17:28.867Z"
   },
   {
    "duration": 117,
    "start_time": "2025-06-10T09:17:28.875Z"
   },
   {
    "duration": 109,
    "start_time": "2025-06-10T09:17:28.993Z"
   },
   {
    "duration": 77,
    "start_time": "2025-06-10T09:18:28.831Z"
   },
   {
    "duration": 14,
    "start_time": "2025-06-10T09:18:31.080Z"
   },
   {
    "duration": 73,
    "start_time": "2025-06-10T09:19:34.846Z"
   },
   {
    "duration": 241,
    "start_time": "2025-06-10T09:19:38.317Z"
   },
   {
    "duration": 8,
    "start_time": "2025-06-10T09:20:39.256Z"
   },
   {
    "duration": 63,
    "start_time": "2025-06-10T09:20:42.982Z"
   },
   {
    "duration": 39,
    "start_time": "2025-06-10T09:21:21.393Z"
   },
   {
    "duration": 82,
    "start_time": "2025-06-10T09:21:26.638Z"
   },
   {
    "duration": 296,
    "start_time": "2025-06-10T09:30:35.475Z"
   },
   {
    "duration": 298,
    "start_time": "2025-06-10T09:30:43.098Z"
   },
   {
    "duration": 10,
    "start_time": "2025-06-10T09:30:58.717Z"
   },
   {
    "duration": 110,
    "start_time": "2025-06-10T09:33:07.792Z"
   },
   {
    "duration": 114,
    "start_time": "2025-06-10T09:33:19.545Z"
   },
   {
    "duration": 43,
    "start_time": "2025-06-10T09:33:44.841Z"
   },
   {
    "duration": 10,
    "start_time": "2025-06-10T09:36:11.406Z"
   },
   {
    "duration": 11,
    "start_time": "2025-06-10T09:36:26.109Z"
   },
   {
    "duration": 41,
    "start_time": "2025-06-10T09:36:32.660Z"
   },
   {
    "duration": 132,
    "start_time": "2025-06-10T09:38:11.293Z"
   },
   {
    "duration": 11,
    "start_time": "2025-06-10T09:41:27.679Z"
   },
   {
    "duration": 16,
    "start_time": "2025-06-10T09:41:47.674Z"
   },
   {
    "duration": 13,
    "start_time": "2025-06-10T09:43:36.062Z"
   },
   {
    "duration": 1140,
    "start_time": "2025-06-10T09:44:22.207Z"
   },
   {
    "duration": 3944,
    "start_time": "2025-06-10T09:44:23.349Z"
   },
   {
    "duration": 14,
    "start_time": "2025-06-10T09:44:27.298Z"
   },
   {
    "duration": 65,
    "start_time": "2025-06-10T09:44:27.313Z"
   },
   {
    "duration": 272,
    "start_time": "2025-06-10T09:44:27.380Z"
   },
   {
    "duration": 10,
    "start_time": "2025-06-10T09:44:27.653Z"
   },
   {
    "duration": 249,
    "start_time": "2025-06-10T09:44:27.664Z"
   },
   {
    "duration": 26,
    "start_time": "2025-06-10T09:44:27.914Z"
   },
   {
    "duration": 417,
    "start_time": "2025-06-10T09:44:27.942Z"
   },
   {
    "duration": 614,
    "start_time": "2025-06-10T09:44:28.361Z"
   },
   {
    "duration": 5,
    "start_time": "2025-06-10T09:44:28.977Z"
   },
   {
    "duration": 192,
    "start_time": "2025-06-10T09:44:28.984Z"
   },
   {
    "duration": 413,
    "start_time": "2025-06-10T09:44:29.177Z"
   },
   {
    "duration": 355,
    "start_time": "2025-06-10T09:44:29.591Z"
   },
   {
    "duration": 213,
    "start_time": "2025-06-10T09:44:29.948Z"
   },
   {
    "duration": 85,
    "start_time": "2025-06-10T09:44:30.163Z"
   },
   {
    "duration": 598,
    "start_time": "2025-06-10T09:44:30.249Z"
   },
   {
    "duration": 172,
    "start_time": "2025-06-10T09:44:30.849Z"
   },
   {
    "duration": 133,
    "start_time": "2025-06-10T09:44:31.022Z"
   },
   {
    "duration": 11,
    "start_time": "2025-06-10T09:44:31.156Z"
   },
   {
    "duration": 158,
    "start_time": "2025-06-10T09:44:31.169Z"
   },
   {
    "duration": 45,
    "start_time": "2025-06-10T09:44:31.329Z"
   },
   {
    "duration": 23,
    "start_time": "2025-06-10T09:44:31.376Z"
   },
   {
    "duration": 220,
    "start_time": "2025-06-10T09:44:31.400Z"
   },
   {
    "duration": 65,
    "start_time": "2025-06-10T09:44:31.622Z"
   },
   {
    "duration": 60,
    "start_time": "2025-06-10T09:44:31.690Z"
   },
   {
    "duration": 102,
    "start_time": "2025-06-10T09:44:31.755Z"
   },
   {
    "duration": 39,
    "start_time": "2025-06-10T09:44:31.858Z"
   },
   {
    "duration": 326,
    "start_time": "2025-06-10T09:44:31.899Z"
   },
   {
    "duration": 170,
    "start_time": "2025-06-10T09:44:32.227Z"
   },
   {
    "duration": 9,
    "start_time": "2025-06-10T09:44:32.399Z"
   },
   {
    "duration": 172,
    "start_time": "2025-06-10T09:44:32.409Z"
   },
   {
    "duration": 64,
    "start_time": "2025-06-10T09:44:32.583Z"
   },
   {
    "duration": 58,
    "start_time": "2025-06-10T09:44:32.648Z"
   },
   {
    "duration": 36,
    "start_time": "2025-06-10T09:44:32.708Z"
   },
   {
    "duration": 66,
    "start_time": "2025-06-10T09:44:32.746Z"
   },
   {
    "duration": 107,
    "start_time": "2025-06-10T09:44:32.814Z"
   },
   {
    "duration": 23,
    "start_time": "2025-06-10T09:44:32.923Z"
   },
   {
    "duration": 13,
    "start_time": "2025-06-10T09:44:32.948Z"
   },
   {
    "duration": 82,
    "start_time": "2025-06-10T09:44:32.962Z"
   },
   {
    "duration": 60,
    "start_time": "2025-06-10T09:44:33.046Z"
   },
   {
    "duration": 311,
    "start_time": "2025-06-10T09:44:33.108Z"
   },
   {
    "duration": 115,
    "start_time": "2025-06-10T09:46:41.284Z"
   },
   {
    "duration": 94,
    "start_time": "2025-06-10T09:47:56.729Z"
   },
   {
    "duration": 1133,
    "start_time": "2025-06-10T09:48:05.099Z"
   },
   {
    "duration": 1773,
    "start_time": "2025-06-10T09:48:06.236Z"
   },
   {
    "duration": 26,
    "start_time": "2025-06-10T09:48:08.010Z"
   },
   {
    "duration": 71,
    "start_time": "2025-06-10T09:48:08.038Z"
   },
   {
    "duration": 256,
    "start_time": "2025-06-10T09:48:08.111Z"
   },
   {
    "duration": 9,
    "start_time": "2025-06-10T09:48:08.369Z"
   },
   {
    "duration": 175,
    "start_time": "2025-06-10T09:48:08.379Z"
   },
   {
    "duration": 19,
    "start_time": "2025-06-10T09:48:08.555Z"
   },
   {
    "duration": 325,
    "start_time": "2025-06-10T09:48:08.575Z"
   },
   {
    "duration": 622,
    "start_time": "2025-06-10T09:48:08.901Z"
   },
   {
    "duration": 4,
    "start_time": "2025-06-10T09:48:09.537Z"
   },
   {
    "duration": 195,
    "start_time": "2025-06-10T09:48:09.542Z"
   },
   {
    "duration": 390,
    "start_time": "2025-06-10T09:48:09.739Z"
   },
   {
    "duration": 361,
    "start_time": "2025-06-10T09:48:10.137Z"
   },
   {
    "duration": 210,
    "start_time": "2025-06-10T09:48:10.499Z"
   },
   {
    "duration": 78,
    "start_time": "2025-06-10T09:48:10.710Z"
   },
   {
    "duration": 594,
    "start_time": "2025-06-10T09:48:10.789Z"
   },
   {
    "duration": 177,
    "start_time": "2025-06-10T09:48:11.384Z"
   },
   {
    "duration": 138,
    "start_time": "2025-06-10T09:48:11.563Z"
   },
   {
    "duration": 12,
    "start_time": "2025-06-10T09:48:11.702Z"
   },
   {
    "duration": 250,
    "start_time": "2025-06-10T09:48:11.715Z"
   },
   {
    "duration": 39,
    "start_time": "2025-06-10T09:48:11.966Z"
   },
   {
    "duration": 178,
    "start_time": "2025-06-10T09:48:12.006Z"
   },
   {
    "duration": 204,
    "start_time": "2025-06-10T09:48:12.186Z"
   },
   {
    "duration": 66,
    "start_time": "2025-06-10T09:48:12.391Z"
   },
   {
    "duration": 44,
    "start_time": "2025-06-10T09:48:12.459Z"
   },
   {
    "duration": 10,
    "start_time": "2025-06-10T09:48:12.504Z"
   },
   {
    "duration": 39,
    "start_time": "2025-06-10T09:48:12.516Z"
   },
   {
    "duration": 206,
    "start_time": "2025-06-10T09:48:12.556Z"
   },
   {
    "duration": 170,
    "start_time": "2025-06-10T09:48:12.764Z"
   },
   {
    "duration": 10,
    "start_time": "2025-06-10T09:48:12.936Z"
   },
   {
    "duration": 162,
    "start_time": "2025-06-10T09:48:12.948Z"
   },
   {
    "duration": 59,
    "start_time": "2025-06-10T09:48:13.111Z"
   },
   {
    "duration": 51,
    "start_time": "2025-06-10T09:48:13.172Z"
   },
   {
    "duration": 28,
    "start_time": "2025-06-10T09:48:13.224Z"
   },
   {
    "duration": 38,
    "start_time": "2025-06-10T09:48:13.254Z"
   },
   {
    "duration": 12,
    "start_time": "2025-06-10T09:48:13.294Z"
   },
   {
    "duration": 38,
    "start_time": "2025-06-10T09:48:13.308Z"
   },
   {
    "duration": 6,
    "start_time": "2025-06-10T09:48:13.347Z"
   },
   {
    "duration": 92,
    "start_time": "2025-06-10T09:48:13.354Z"
   },
   {
    "duration": 56,
    "start_time": "2025-06-10T09:48:13.449Z"
   },
   {
    "duration": 248,
    "start_time": "2025-06-10T09:48:13.506Z"
   },
   {
    "duration": 6,
    "start_time": "2025-06-10T09:50:22.637Z"
   },
   {
    "duration": 223,
    "start_time": "2025-06-10T09:51:59.708Z"
   },
   {
    "duration": 134,
    "start_time": "2025-06-10T09:53:22.194Z"
   },
   {
    "duration": 90,
    "start_time": "2025-06-10T09:53:55.772Z"
   },
   {
    "duration": 75,
    "start_time": "2025-06-10T09:54:16.809Z"
   },
   {
    "duration": 75,
    "start_time": "2025-06-10T09:54:21.750Z"
   },
   {
    "duration": 23,
    "start_time": "2025-06-10T09:56:12.136Z"
   },
   {
    "duration": 1583,
    "start_time": "2025-06-10T11:21:07.795Z"
   },
   {
    "duration": 1277,
    "start_time": "2025-06-10T11:21:25.592Z"
   },
   {
    "duration": 2165,
    "start_time": "2025-06-10T11:21:26.871Z"
   },
   {
    "duration": 16,
    "start_time": "2025-06-10T11:21:29.038Z"
   },
   {
    "duration": 131,
    "start_time": "2025-06-10T11:21:29.058Z"
   },
   {
    "duration": 256,
    "start_time": "2025-06-10T11:21:29.191Z"
   },
   {
    "duration": 10,
    "start_time": "2025-06-10T11:21:29.449Z"
   },
   {
    "duration": 179,
    "start_time": "2025-06-10T11:21:29.461Z"
   },
   {
    "duration": 21,
    "start_time": "2025-06-10T11:21:29.642Z"
   },
   {
    "duration": 384,
    "start_time": "2025-06-10T11:21:29.665Z"
   },
   {
    "duration": 658,
    "start_time": "2025-06-10T11:21:30.052Z"
   },
   {
    "duration": 4,
    "start_time": "2025-06-10T11:21:30.712Z"
   },
   {
    "duration": 181,
    "start_time": "2025-06-10T11:21:30.737Z"
   },
   {
    "duration": 459,
    "start_time": "2025-06-10T11:21:30.920Z"
   },
   {
    "duration": 421,
    "start_time": "2025-06-10T11:21:31.381Z"
   },
   {
    "duration": 246,
    "start_time": "2025-06-10T11:21:31.804Z"
   },
   {
    "duration": 103,
    "start_time": "2025-06-10T11:21:32.052Z"
   },
   {
    "duration": 707,
    "start_time": "2025-06-10T11:21:32.157Z"
   },
   {
    "duration": 212,
    "start_time": "2025-06-10T11:21:32.865Z"
   },
   {
    "duration": 158,
    "start_time": "2025-06-10T11:21:33.079Z"
   },
   {
    "duration": 13,
    "start_time": "2025-06-10T11:21:33.239Z"
   },
   {
    "duration": 164,
    "start_time": "2025-06-10T11:21:33.253Z"
   },
   {
    "duration": 47,
    "start_time": "2025-06-10T11:21:33.419Z"
   },
   {
    "duration": 22,
    "start_time": "2025-06-10T11:21:33.468Z"
   },
   {
    "duration": 381,
    "start_time": "2025-06-10T11:21:33.492Z"
   },
   {
    "duration": 75,
    "start_time": "2025-06-10T11:21:33.876Z"
   },
   {
    "duration": 51,
    "start_time": "2025-06-10T11:21:33.953Z"
   },
   {
    "duration": 30,
    "start_time": "2025-06-10T11:21:34.006Z"
   },
   {
    "duration": 36,
    "start_time": "2025-06-10T11:21:34.040Z"
   },
   {
    "duration": 223,
    "start_time": "2025-06-10T11:21:34.078Z"
   },
   {
    "duration": 219,
    "start_time": "2025-06-10T11:21:34.303Z"
   },
   {
    "duration": 18,
    "start_time": "2025-06-10T11:21:34.525Z"
   },
   {
    "duration": 268,
    "start_time": "2025-06-10T11:21:34.545Z"
   },
   {
    "duration": 55,
    "start_time": "2025-06-10T11:21:34.815Z"
   },
   {
    "duration": 65,
    "start_time": "2025-06-10T11:21:34.872Z"
   },
   {
    "duration": 22,
    "start_time": "2025-06-10T11:21:34.939Z"
   },
   {
    "duration": 90,
    "start_time": "2025-06-10T11:21:34.963Z"
   },
   {
    "duration": 13,
    "start_time": "2025-06-10T11:21:35.054Z"
   },
   {
    "duration": 22,
    "start_time": "2025-06-10T11:21:35.069Z"
   },
   {
    "duration": 19,
    "start_time": "2025-06-10T11:21:35.093Z"
   },
   {
    "duration": 141,
    "start_time": "2025-06-10T11:21:35.113Z"
   },
   {
    "duration": 302,
    "start_time": "2025-06-10T11:21:35.256Z"
   },
   {
    "duration": 263,
    "start_time": "2025-06-10T11:21:35.560Z"
   },
   {
    "duration": 88,
    "start_time": "2025-06-10T11:21:35.825Z"
   },
   {
    "duration": 171,
    "start_time": "2025-06-10T11:21:35.915Z"
   },
   {
    "duration": 3186,
    "start_time": "2025-06-10T11:21:36.088Z"
   },
   {
    "duration": 1977,
    "start_time": "2025-06-10T11:22:28.021Z"
   },
   {
    "duration": 30,
    "start_time": "2025-06-10T11:22:43.174Z"
   },
   {
    "duration": 71,
    "start_time": "2025-06-10T11:23:40.814Z"
   },
   {
    "duration": 32,
    "start_time": "2025-06-10T11:24:10.520Z"
   },
   {
    "duration": 40,
    "start_time": "2025-06-10T11:24:33.155Z"
   },
   {
    "duration": 41,
    "start_time": "2025-06-10T11:27:33.467Z"
   },
   {
    "duration": 19,
    "start_time": "2025-06-10T11:28:44.518Z"
   },
   {
    "duration": 19,
    "start_time": "2025-06-10T11:28:50.812Z"
   },
   {
    "duration": 43,
    "start_time": "2025-06-10T11:29:47.172Z"
   },
   {
    "duration": 36,
    "start_time": "2025-06-10T11:31:50.431Z"
   },
   {
    "duration": 42,
    "start_time": "2025-06-10T11:33:15.923Z"
   },
   {
    "duration": 43,
    "start_time": "2025-06-10T11:33:30.228Z"
   },
   {
    "duration": 36,
    "start_time": "2025-06-10T11:33:55.456Z"
   },
   {
    "duration": 1300,
    "start_time": "2025-06-10T11:37:53.039Z"
   },
   {
    "duration": 2249,
    "start_time": "2025-06-10T11:37:54.343Z"
   },
   {
    "duration": 16,
    "start_time": "2025-06-10T11:37:56.594Z"
   },
   {
    "duration": 112,
    "start_time": "2025-06-10T11:37:56.612Z"
   },
   {
    "duration": 263,
    "start_time": "2025-06-10T11:37:56.726Z"
   },
   {
    "duration": 10,
    "start_time": "2025-06-10T11:37:56.990Z"
   },
   {
    "duration": 214,
    "start_time": "2025-06-10T11:37:57.002Z"
   },
   {
    "duration": 24,
    "start_time": "2025-06-10T11:37:57.218Z"
   },
   {
    "duration": 414,
    "start_time": "2025-06-10T11:37:57.244Z"
   },
   {
    "duration": 712,
    "start_time": "2025-06-10T11:37:57.661Z"
   },
   {
    "duration": 5,
    "start_time": "2025-06-10T11:37:58.375Z"
   },
   {
    "duration": 210,
    "start_time": "2025-06-10T11:37:58.382Z"
   },
   {
    "duration": 503,
    "start_time": "2025-06-10T11:37:58.594Z"
   },
   {
    "duration": 399,
    "start_time": "2025-06-10T11:37:59.099Z"
   },
   {
    "duration": 248,
    "start_time": "2025-06-10T11:37:59.500Z"
   },
   {
    "duration": 96,
    "start_time": "2025-06-10T11:37:59.749Z"
   },
   {
    "duration": 707,
    "start_time": "2025-06-10T11:37:59.848Z"
   },
   {
    "duration": 199,
    "start_time": "2025-06-10T11:38:00.557Z"
   },
   {
    "duration": 161,
    "start_time": "2025-06-10T11:38:00.758Z"
   },
   {
    "duration": 18,
    "start_time": "2025-06-10T11:38:00.921Z"
   },
   {
    "duration": 197,
    "start_time": "2025-06-10T11:38:00.941Z"
   },
   {
    "duration": 45,
    "start_time": "2025-06-10T11:38:01.140Z"
   },
   {
    "duration": 24,
    "start_time": "2025-06-10T11:38:01.187Z"
   },
   {
    "duration": 258,
    "start_time": "2025-06-10T11:38:01.213Z"
   },
   {
    "duration": 85,
    "start_time": "2025-06-10T11:38:01.473Z"
   },
   {
    "duration": 51,
    "start_time": "2025-06-10T11:38:01.560Z"
   },
   {
    "duration": 124,
    "start_time": "2025-06-10T11:38:01.613Z"
   },
   {
    "duration": 52,
    "start_time": "2025-06-10T11:38:01.742Z"
   },
   {
    "duration": 253,
    "start_time": "2025-06-10T11:38:01.796Z"
   },
   {
    "duration": 198,
    "start_time": "2025-06-10T11:38:02.051Z"
   },
   {
    "duration": 12,
    "start_time": "2025-06-10T11:38:02.251Z"
   },
   {
    "duration": 206,
    "start_time": "2025-06-10T11:38:02.264Z"
   },
   {
    "duration": 57,
    "start_time": "2025-06-10T11:38:02.471Z"
   },
   {
    "duration": 201,
    "start_time": "2025-06-10T11:38:02.536Z"
   },
   {
    "duration": 23,
    "start_time": "2025-06-10T11:38:02.739Z"
   },
   {
    "duration": 94,
    "start_time": "2025-06-10T11:38:02.764Z"
   },
   {
    "duration": 17,
    "start_time": "2025-06-10T11:38:02.860Z"
   },
   {
    "duration": 51,
    "start_time": "2025-06-10T11:38:02.879Z"
   },
   {
    "duration": 7,
    "start_time": "2025-06-10T11:38:02.932Z"
   },
   {
    "duration": 105,
    "start_time": "2025-06-10T11:38:02.941Z"
   },
   {
    "duration": 275,
    "start_time": "2025-06-10T11:38:03.047Z"
   },
   {
    "duration": 255,
    "start_time": "2025-06-10T11:38:03.323Z"
   },
   {
    "duration": 94,
    "start_time": "2025-06-10T11:38:03.580Z"
   },
   {
    "duration": 92,
    "start_time": "2025-06-10T11:38:03.676Z"
   },
   {
    "duration": 42,
    "start_time": "2025-06-10T11:38:03.770Z"
   },
   {
    "duration": 48,
    "start_time": "2025-06-10T11:38:03.813Z"
   },
   {
    "duration": 51,
    "start_time": "2025-06-10T11:38:23.006Z"
   },
   {
    "duration": 1460,
    "start_time": "2025-06-10T11:38:31.235Z"
   },
   {
    "duration": 2689,
    "start_time": "2025-06-10T11:38:32.697Z"
   },
   {
    "duration": 18,
    "start_time": "2025-06-10T11:38:35.388Z"
   },
   {
    "duration": 95,
    "start_time": "2025-06-10T11:38:35.409Z"
   },
   {
    "duration": 352,
    "start_time": "2025-06-10T11:38:35.506Z"
   },
   {
    "duration": 17,
    "start_time": "2025-06-10T11:38:35.861Z"
   },
   {
    "duration": 209,
    "start_time": "2025-06-10T11:38:35.880Z"
   },
   {
    "duration": 23,
    "start_time": "2025-06-10T11:38:36.090Z"
   },
   {
    "duration": 391,
    "start_time": "2025-06-10T11:38:36.114Z"
   },
   {
    "duration": 707,
    "start_time": "2025-06-10T11:38:36.508Z"
   },
   {
    "duration": 22,
    "start_time": "2025-06-10T11:38:37.217Z"
   },
   {
    "duration": 222,
    "start_time": "2025-06-10T11:38:37.240Z"
   },
   {
    "duration": 463,
    "start_time": "2025-06-10T11:38:37.464Z"
   },
   {
    "duration": 408,
    "start_time": "2025-06-10T11:38:37.929Z"
   },
   {
    "duration": 242,
    "start_time": "2025-06-10T11:38:38.339Z"
   },
   {
    "duration": 99,
    "start_time": "2025-06-10T11:38:38.584Z"
   },
   {
    "duration": 734,
    "start_time": "2025-06-10T11:38:38.685Z"
   },
   {
    "duration": 199,
    "start_time": "2025-06-10T11:38:39.421Z"
   },
   {
    "duration": 167,
    "start_time": "2025-06-10T11:38:39.622Z"
   },
   {
    "duration": 13,
    "start_time": "2025-06-10T11:38:39.790Z"
   },
   {
    "duration": 190,
    "start_time": "2025-06-10T11:38:39.805Z"
   },
   {
    "duration": 56,
    "start_time": "2025-06-10T11:38:39.997Z"
   },
   {
    "duration": 25,
    "start_time": "2025-06-10T11:38:40.056Z"
   },
   {
    "duration": 269,
    "start_time": "2025-06-10T11:38:40.083Z"
   },
   {
    "duration": 69,
    "start_time": "2025-06-10T11:38:40.353Z"
   },
   {
    "duration": 49,
    "start_time": "2025-06-10T11:38:40.436Z"
   },
   {
    "duration": 16,
    "start_time": "2025-06-10T11:38:40.488Z"
   },
   {
    "duration": 199,
    "start_time": "2025-06-10T11:38:40.509Z"
   },
   {
    "duration": 233,
    "start_time": "2025-06-10T11:38:40.710Z"
   },
   {
    "duration": 193,
    "start_time": "2025-06-10T11:38:40.945Z"
   },
   {
    "duration": 10,
    "start_time": "2025-06-10T11:38:41.140Z"
   },
   {
    "duration": 199,
    "start_time": "2025-06-10T11:38:41.152Z"
   },
   {
    "duration": 59,
    "start_time": "2025-06-10T11:38:41.353Z"
   },
   {
    "duration": 77,
    "start_time": "2025-06-10T11:38:41.414Z"
   },
   {
    "duration": 45,
    "start_time": "2025-06-10T11:38:41.493Z"
   },
   {
    "duration": 42,
    "start_time": "2025-06-10T11:38:41.540Z"
   },
   {
    "duration": 14,
    "start_time": "2025-06-10T11:38:41.583Z"
   },
   {
    "duration": 92,
    "start_time": "2025-06-10T11:38:41.598Z"
   },
   {
    "duration": 37,
    "start_time": "2025-06-10T11:38:41.691Z"
   },
   {
    "duration": 102,
    "start_time": "2025-06-10T11:38:41.730Z"
   },
   {
    "duration": 278,
    "start_time": "2025-06-10T11:38:41.834Z"
   },
   {
    "duration": 262,
    "start_time": "2025-06-10T11:38:42.113Z"
   },
   {
    "duration": 95,
    "start_time": "2025-06-10T11:38:42.377Z"
   },
   {
    "duration": 96,
    "start_time": "2025-06-10T11:38:42.474Z"
   },
   {
    "duration": 109,
    "start_time": "2025-06-10T11:38:42.572Z"
   },
   {
    "duration": 59,
    "start_time": "2025-06-10T11:38:42.683Z"
   },
   {
    "duration": 52,
    "start_time": "2025-06-10T11:40:33.702Z"
   },
   {
    "duration": 5,
    "start_time": "2025-06-10T11:41:19.452Z"
   },
   {
    "duration": 1366,
    "start_time": "2025-06-10T11:41:29.724Z"
   },
   {
    "duration": 3364,
    "start_time": "2025-06-10T11:41:31.092Z"
   },
   {
    "duration": 22,
    "start_time": "2025-06-10T11:41:34.459Z"
   },
   {
    "duration": 153,
    "start_time": "2025-06-10T11:41:34.485Z"
   },
   {
    "duration": 377,
    "start_time": "2025-06-10T11:41:34.640Z"
   },
   {
    "duration": 28,
    "start_time": "2025-06-10T11:41:35.018Z"
   },
   {
    "duration": 213,
    "start_time": "2025-06-10T11:41:35.049Z"
   },
   {
    "duration": 25,
    "start_time": "2025-06-10T11:41:35.265Z"
   },
   {
    "duration": 461,
    "start_time": "2025-06-10T11:41:35.292Z"
   },
   {
    "duration": 761,
    "start_time": "2025-06-10T11:41:35.756Z"
   },
   {
    "duration": 20,
    "start_time": "2025-06-10T11:41:36.519Z"
   },
   {
    "duration": 404,
    "start_time": "2025-06-10T11:41:36.540Z"
   },
   {
    "duration": 483,
    "start_time": "2025-06-10T11:41:36.946Z"
   },
   {
    "duration": 417,
    "start_time": "2025-06-10T11:41:37.431Z"
   },
   {
    "duration": 242,
    "start_time": "2025-06-10T11:41:37.850Z"
   },
   {
    "duration": 111,
    "start_time": "2025-06-10T11:41:38.094Z"
   },
   {
    "duration": 678,
    "start_time": "2025-06-10T11:41:38.207Z"
   },
   {
    "duration": 208,
    "start_time": "2025-06-10T11:41:38.887Z"
   },
   {
    "duration": 149,
    "start_time": "2025-06-10T11:41:39.097Z"
   },
   {
    "duration": 14,
    "start_time": "2025-06-10T11:41:39.248Z"
   },
   {
    "duration": 196,
    "start_time": "2025-06-10T11:41:39.264Z"
   },
   {
    "duration": 48,
    "start_time": "2025-06-10T11:41:39.462Z"
   },
   {
    "duration": 43,
    "start_time": "2025-06-10T11:41:39.512Z"
   },
   {
    "duration": 257,
    "start_time": "2025-06-10T11:41:39.557Z"
   },
   {
    "duration": 75,
    "start_time": "2025-06-10T11:41:39.816Z"
   },
   {
    "duration": 67,
    "start_time": "2025-06-10T11:41:39.893Z"
   },
   {
    "duration": 14,
    "start_time": "2025-06-10T11:41:39.962Z"
   },
   {
    "duration": 34,
    "start_time": "2025-06-10T11:41:39.981Z"
   },
   {
    "duration": 253,
    "start_time": "2025-06-10T11:41:40.017Z"
   },
   {
    "duration": 196,
    "start_time": "2025-06-10T11:41:40.272Z"
   },
   {
    "duration": 10,
    "start_time": "2025-06-10T11:41:40.470Z"
   },
   {
    "duration": 182,
    "start_time": "2025-06-10T11:41:40.481Z"
   },
   {
    "duration": 57,
    "start_time": "2025-06-10T11:41:40.665Z"
   },
   {
    "duration": 62,
    "start_time": "2025-06-10T11:41:40.737Z"
   },
   {
    "duration": 36,
    "start_time": "2025-06-10T11:41:40.801Z"
   },
   {
    "duration": 42,
    "start_time": "2025-06-10T11:41:40.839Z"
   },
   {
    "duration": 15,
    "start_time": "2025-06-10T11:41:40.883Z"
   },
   {
    "duration": 39,
    "start_time": "2025-06-10T11:41:40.900Z"
   },
   {
    "duration": 9,
    "start_time": "2025-06-10T11:41:40.941Z"
   },
   {
    "duration": 115,
    "start_time": "2025-06-10T11:41:40.952Z"
   },
   {
    "duration": 279,
    "start_time": "2025-06-10T11:41:41.068Z"
   },
   {
    "duration": 251,
    "start_time": "2025-06-10T11:41:41.349Z"
   },
   {
    "duration": 93,
    "start_time": "2025-06-10T11:41:41.601Z"
   },
   {
    "duration": 105,
    "start_time": "2025-06-10T11:41:41.695Z"
   },
   {
    "duration": 45,
    "start_time": "2025-06-10T11:41:41.802Z"
   },
   {
    "duration": 38,
    "start_time": "2025-06-10T11:41:41.849Z"
   },
   {
    "duration": 1298,
    "start_time": "2025-06-10T11:42:12.986Z"
   },
   {
    "duration": 2192,
    "start_time": "2025-06-10T11:42:14.286Z"
   },
   {
    "duration": 14,
    "start_time": "2025-06-10T11:42:16.480Z"
   },
   {
    "duration": 68,
    "start_time": "2025-06-10T11:42:16.496Z"
   },
   {
    "duration": 274,
    "start_time": "2025-06-10T11:42:16.566Z"
   },
   {
    "duration": 10,
    "start_time": "2025-06-10T11:42:16.842Z"
   },
   {
    "duration": 187,
    "start_time": "2025-06-10T11:42:16.854Z"
   },
   {
    "duration": 21,
    "start_time": "2025-06-10T11:42:17.043Z"
   },
   {
    "duration": 393,
    "start_time": "2025-06-10T11:42:17.065Z"
   },
   {
    "duration": 853,
    "start_time": "2025-06-10T11:42:17.461Z"
   },
   {
    "duration": 5,
    "start_time": "2025-06-10T11:42:18.316Z"
   },
   {
    "duration": 206,
    "start_time": "2025-06-10T11:42:18.336Z"
   },
   {
    "duration": 461,
    "start_time": "2025-06-10T11:42:18.544Z"
   },
   {
    "duration": 416,
    "start_time": "2025-06-10T11:42:19.007Z"
   },
   {
    "duration": 259,
    "start_time": "2025-06-10T11:42:19.425Z"
   },
   {
    "duration": 126,
    "start_time": "2025-06-10T11:42:19.685Z"
   },
   {
    "duration": 712,
    "start_time": "2025-06-10T11:42:19.813Z"
   },
   {
    "duration": 201,
    "start_time": "2025-06-10T11:42:20.527Z"
   },
   {
    "duration": 205,
    "start_time": "2025-06-10T11:42:20.736Z"
   },
   {
    "duration": 14,
    "start_time": "2025-06-10T11:42:20.943Z"
   },
   {
    "duration": 175,
    "start_time": "2025-06-10T11:42:20.958Z"
   },
   {
    "duration": 45,
    "start_time": "2025-06-10T11:42:21.135Z"
   },
   {
    "duration": 23,
    "start_time": "2025-06-10T11:42:21.182Z"
   },
   {
    "duration": 276,
    "start_time": "2025-06-10T11:42:21.206Z"
   },
   {
    "duration": 76,
    "start_time": "2025-06-10T11:42:21.484Z"
   },
   {
    "duration": 48,
    "start_time": "2025-06-10T11:42:21.562Z"
   },
   {
    "duration": 85,
    "start_time": "2025-06-10T11:42:21.612Z"
   },
   {
    "duration": 69,
    "start_time": "2025-06-10T11:42:21.701Z"
   },
   {
    "duration": 216,
    "start_time": "2025-06-10T11:42:21.771Z"
   },
   {
    "duration": 206,
    "start_time": "2025-06-10T11:42:21.989Z"
   },
   {
    "duration": 9,
    "start_time": "2025-06-10T11:42:22.197Z"
   },
   {
    "duration": 247,
    "start_time": "2025-06-10T11:42:22.208Z"
   },
   {
    "duration": 55,
    "start_time": "2025-06-10T11:42:22.457Z"
   },
   {
    "duration": 74,
    "start_time": "2025-06-10T11:42:22.514Z"
   },
   {
    "duration": 156,
    "start_time": "2025-06-10T11:42:22.590Z"
   },
   {
    "duration": 77,
    "start_time": "2025-06-10T11:42:22.748Z"
   },
   {
    "duration": 16,
    "start_time": "2025-06-10T11:42:22.827Z"
   },
   {
    "duration": 45,
    "start_time": "2025-06-10T11:42:22.845Z"
   },
   {
    "duration": 19,
    "start_time": "2025-06-10T11:42:22.892Z"
   },
   {
    "duration": 99,
    "start_time": "2025-06-10T11:42:22.913Z"
   },
   {
    "duration": 282,
    "start_time": "2025-06-10T11:42:23.014Z"
   },
   {
    "duration": 260,
    "start_time": "2025-06-10T11:42:23.298Z"
   },
   {
    "duration": 96,
    "start_time": "2025-06-10T11:42:23.560Z"
   },
   {
    "duration": 93,
    "start_time": "2025-06-10T11:42:23.658Z"
   },
   {
    "duration": 42,
    "start_time": "2025-06-10T11:42:23.753Z"
   },
   {
    "duration": 52,
    "start_time": "2025-06-10T11:42:23.797Z"
   },
   {
    "duration": 120,
    "start_time": "2025-06-10T11:42:37.019Z"
   },
   {
    "duration": 64,
    "start_time": "2025-06-10T11:51:24.132Z"
   },
   {
    "duration": 1389,
    "start_time": "2025-06-10T11:51:32.031Z"
   },
   {
    "duration": 2355,
    "start_time": "2025-06-10T11:51:33.422Z"
   },
   {
    "duration": 17,
    "start_time": "2025-06-10T11:51:35.780Z"
   },
   {
    "duration": 155,
    "start_time": "2025-06-10T11:51:35.799Z"
   },
   {
    "duration": 332,
    "start_time": "2025-06-10T11:51:35.957Z"
   },
   {
    "duration": 11,
    "start_time": "2025-06-10T11:51:36.291Z"
   },
   {
    "duration": 221,
    "start_time": "2025-06-10T11:51:36.304Z"
   },
   {
    "duration": 41,
    "start_time": "2025-06-10T11:51:36.527Z"
   },
   {
    "duration": 668,
    "start_time": "2025-06-10T11:51:36.570Z"
   },
   {
    "duration": 742,
    "start_time": "2025-06-10T11:51:37.243Z"
   },
   {
    "duration": 6,
    "start_time": "2025-06-10T11:51:37.988Z"
   },
   {
    "duration": 277,
    "start_time": "2025-06-10T11:51:37.995Z"
   },
   {
    "duration": 525,
    "start_time": "2025-06-10T11:51:38.274Z"
   },
   {
    "duration": 463,
    "start_time": "2025-06-10T11:51:38.801Z"
   },
   {
    "duration": 246,
    "start_time": "2025-06-10T11:51:39.266Z"
   },
   {
    "duration": 90,
    "start_time": "2025-06-10T11:51:39.513Z"
   },
   {
    "duration": 808,
    "start_time": "2025-06-10T11:51:39.605Z"
   },
   {
    "duration": 224,
    "start_time": "2025-06-10T11:51:40.415Z"
   },
   {
    "duration": 176,
    "start_time": "2025-06-10T11:51:40.641Z"
   },
   {
    "duration": 21,
    "start_time": "2025-06-10T11:51:40.818Z"
   },
   {
    "duration": 189,
    "start_time": "2025-06-10T11:51:40.841Z"
   },
   {
    "duration": 59,
    "start_time": "2025-06-10T11:51:41.036Z"
   },
   {
    "duration": 44,
    "start_time": "2025-06-10T11:51:41.097Z"
   },
   {
    "duration": 304,
    "start_time": "2025-06-10T11:51:41.144Z"
   },
   {
    "duration": 95,
    "start_time": "2025-06-10T11:51:41.449Z"
   },
   {
    "duration": 50,
    "start_time": "2025-06-10T11:51:41.546Z"
   },
   {
    "duration": 24,
    "start_time": "2025-06-10T11:51:41.598Z"
   },
   {
    "duration": 33,
    "start_time": "2025-06-10T11:51:41.638Z"
   },
   {
    "duration": 376,
    "start_time": "2025-06-10T11:51:41.673Z"
   },
   {
    "duration": 217,
    "start_time": "2025-06-10T11:51:42.052Z"
   },
   {
    "duration": 9,
    "start_time": "2025-06-10T11:51:42.271Z"
   },
   {
    "duration": 219,
    "start_time": "2025-06-10T11:51:42.281Z"
   },
   {
    "duration": 66,
    "start_time": "2025-06-10T11:51:42.502Z"
   },
   {
    "duration": 68,
    "start_time": "2025-06-10T11:51:42.570Z"
   },
   {
    "duration": 171,
    "start_time": "2025-06-10T11:51:42.640Z"
   },
   {
    "duration": 59,
    "start_time": "2025-06-10T11:51:42.812Z"
   },
   {
    "duration": 17,
    "start_time": "2025-06-10T11:51:42.873Z"
   },
   {
    "duration": 23,
    "start_time": "2025-06-10T11:51:42.892Z"
   },
   {
    "duration": 11,
    "start_time": "2025-06-10T11:51:42.936Z"
   },
   {
    "duration": 129,
    "start_time": "2025-06-10T11:51:42.951Z"
   },
   {
    "duration": 314,
    "start_time": "2025-06-10T11:51:43.082Z"
   },
   {
    "duration": 266,
    "start_time": "2025-06-10T11:51:43.398Z"
   },
   {
    "duration": 101,
    "start_time": "2025-06-10T11:51:43.665Z"
   },
   {
    "duration": 131,
    "start_time": "2025-06-10T11:51:43.768Z"
   },
   {
    "duration": 4,
    "start_time": "2025-06-10T11:51:43.901Z"
   },
   {
    "duration": 66,
    "start_time": "2025-06-10T11:51:43.906Z"
   },
   {
    "duration": 36,
    "start_time": "2025-06-10T11:51:43.974Z"
   },
   {
    "duration": 41,
    "start_time": "2025-06-10T11:55:18.074Z"
   },
   {
    "duration": 37,
    "start_time": "2025-06-10T11:57:00.541Z"
   },
   {
    "duration": 36,
    "start_time": "2025-06-10T11:57:25.669Z"
   },
   {
    "duration": 24,
    "start_time": "2025-06-10T12:05:54.905Z"
   },
   {
    "duration": 108,
    "start_time": "2025-06-10T12:06:34.469Z"
   },
   {
    "duration": 13,
    "start_time": "2025-06-10T12:07:16.520Z"
   },
   {
    "duration": 1365,
    "start_time": "2025-06-10T12:07:31.558Z"
   },
   {
    "duration": 1446,
    "start_time": "2025-06-10T12:07:53.040Z"
   },
   {
    "duration": 61,
    "start_time": "2025-06-10T12:09:03.140Z"
   },
   {
    "duration": 1328,
    "start_time": "2025-06-10T12:09:11.167Z"
   },
   {
    "duration": 2252,
    "start_time": "2025-06-10T12:09:12.497Z"
   },
   {
    "duration": 17,
    "start_time": "2025-06-10T12:09:14.751Z"
   },
   {
    "duration": 200,
    "start_time": "2025-06-10T12:09:14.770Z"
   },
   {
    "duration": 276,
    "start_time": "2025-06-10T12:09:14.972Z"
   },
   {
    "duration": 11,
    "start_time": "2025-06-10T12:09:15.250Z"
   },
   {
    "duration": 245,
    "start_time": "2025-06-10T12:09:15.263Z"
   },
   {
    "duration": 30,
    "start_time": "2025-06-10T12:09:15.510Z"
   },
   {
    "duration": 398,
    "start_time": "2025-06-10T12:09:15.542Z"
   },
   {
    "duration": 709,
    "start_time": "2025-06-10T12:09:15.943Z"
   },
   {
    "duration": 5,
    "start_time": "2025-06-10T12:09:16.654Z"
   },
   {
    "duration": 287,
    "start_time": "2025-06-10T12:09:16.661Z"
   },
   {
    "duration": 451,
    "start_time": "2025-06-10T12:09:16.949Z"
   },
   {
    "duration": 412,
    "start_time": "2025-06-10T12:09:17.402Z"
   },
   {
    "duration": 244,
    "start_time": "2025-06-10T12:09:17.816Z"
   },
   {
    "duration": 108,
    "start_time": "2025-06-10T12:09:18.062Z"
   },
   {
    "duration": 733,
    "start_time": "2025-06-10T12:09:18.172Z"
   },
   {
    "duration": 239,
    "start_time": "2025-06-10T12:09:18.907Z"
   },
   {
    "duration": 165,
    "start_time": "2025-06-10T12:09:19.148Z"
   },
   {
    "duration": 23,
    "start_time": "2025-06-10T12:09:19.315Z"
   },
   {
    "duration": 165,
    "start_time": "2025-06-10T12:09:19.339Z"
   },
   {
    "duration": 61,
    "start_time": "2025-06-10T12:09:19.506Z"
   },
   {
    "duration": 24,
    "start_time": "2025-06-10T12:09:19.569Z"
   },
   {
    "duration": 276,
    "start_time": "2025-06-10T12:09:19.594Z"
   },
   {
    "duration": 82,
    "start_time": "2025-06-10T12:09:19.872Z"
   },
   {
    "duration": 51,
    "start_time": "2025-06-10T12:09:19.955Z"
   },
   {
    "duration": 29,
    "start_time": "2025-06-10T12:09:20.008Z"
   },
   {
    "duration": 27,
    "start_time": "2025-06-10T12:09:20.040Z"
   },
   {
    "duration": 238,
    "start_time": "2025-06-10T12:09:20.069Z"
   },
   {
    "duration": 200,
    "start_time": "2025-06-10T12:09:20.309Z"
   },
   {
    "duration": 10,
    "start_time": "2025-06-10T12:09:20.511Z"
   },
   {
    "duration": 204,
    "start_time": "2025-06-10T12:09:20.522Z"
   },
   {
    "duration": 68,
    "start_time": "2025-06-10T12:09:20.727Z"
   },
   {
    "duration": 152,
    "start_time": "2025-06-10T12:09:20.797Z"
   },
   {
    "duration": 25,
    "start_time": "2025-06-10T12:09:20.951Z"
   },
   {
    "duration": 78,
    "start_time": "2025-06-10T12:09:20.978Z"
   },
   {
    "duration": 14,
    "start_time": "2025-06-10T12:09:21.058Z"
   },
   {
    "duration": 34,
    "start_time": "2025-06-10T12:09:21.074Z"
   },
   {
    "duration": 8,
    "start_time": "2025-06-10T12:09:21.110Z"
   },
   {
    "duration": 123,
    "start_time": "2025-06-10T12:09:21.120Z"
   },
   {
    "duration": 272,
    "start_time": "2025-06-10T12:09:21.245Z"
   },
   {
    "duration": 262,
    "start_time": "2025-06-10T12:09:21.519Z"
   },
   {
    "duration": 96,
    "start_time": "2025-06-10T12:09:21.783Z"
   },
   {
    "duration": 200,
    "start_time": "2025-06-10T12:09:21.881Z"
   },
   {
    "duration": 54,
    "start_time": "2025-06-10T12:09:22.083Z"
   },
   {
    "duration": 39,
    "start_time": "2025-06-10T12:09:22.139Z"
   },
   {
    "duration": 29,
    "start_time": "2025-06-10T12:09:22.180Z"
   },
   {
    "duration": 1461,
    "start_time": "2025-06-10T12:09:22.212Z"
   },
   {
    "duration": 1345,
    "start_time": "2025-06-10T12:10:26.722Z"
   },
   {
    "duration": 5727,
    "start_time": "2025-06-10T12:10:28.070Z"
   },
   {
    "duration": 14,
    "start_time": "2025-06-10T12:10:33.799Z"
   },
   {
    "duration": 179,
    "start_time": "2025-06-10T12:10:33.835Z"
   },
   {
    "duration": 264,
    "start_time": "2025-06-10T12:10:34.016Z"
   },
   {
    "duration": 12,
    "start_time": "2025-06-10T12:10:34.282Z"
   },
   {
    "duration": 320,
    "start_time": "2025-06-10T12:10:34.296Z"
   },
   {
    "duration": 28,
    "start_time": "2025-06-10T12:10:34.618Z"
   },
   {
    "duration": 426,
    "start_time": "2025-06-10T12:10:34.649Z"
   },
   {
    "duration": 716,
    "start_time": "2025-06-10T12:10:35.078Z"
   },
   {
    "duration": 5,
    "start_time": "2025-06-10T12:10:35.796Z"
   },
   {
    "duration": 343,
    "start_time": "2025-06-10T12:10:35.802Z"
   },
   {
    "duration": 469,
    "start_time": "2025-06-10T12:10:36.147Z"
   },
   {
    "duration": 420,
    "start_time": "2025-06-10T12:10:36.618Z"
   },
   {
    "duration": 247,
    "start_time": "2025-06-10T12:10:37.040Z"
   },
   {
    "duration": 105,
    "start_time": "2025-06-10T12:10:37.289Z"
   },
   {
    "duration": 728,
    "start_time": "2025-06-10T12:10:37.396Z"
   },
   {
    "duration": 204,
    "start_time": "2025-06-10T12:10:38.126Z"
   },
   {
    "duration": 165,
    "start_time": "2025-06-10T12:10:38.332Z"
   },
   {
    "duration": 14,
    "start_time": "2025-06-10T12:10:38.499Z"
   },
   {
    "duration": 173,
    "start_time": "2025-06-10T12:10:38.515Z"
   },
   {
    "duration": 51,
    "start_time": "2025-06-10T12:10:38.690Z"
   },
   {
    "duration": 190,
    "start_time": "2025-06-10T12:10:38.743Z"
   },
   {
    "duration": 286,
    "start_time": "2025-06-10T12:10:38.934Z"
   },
   {
    "duration": 74,
    "start_time": "2025-06-10T12:10:39.221Z"
   },
   {
    "duration": 59,
    "start_time": "2025-06-10T12:10:39.297Z"
   },
   {
    "duration": 49,
    "start_time": "2025-06-10T12:10:39.358Z"
   },
   {
    "duration": 27,
    "start_time": "2025-06-10T12:10:39.411Z"
   },
   {
    "duration": 230,
    "start_time": "2025-06-10T12:10:39.439Z"
   },
   {
    "duration": 200,
    "start_time": "2025-06-10T12:10:39.671Z"
   },
   {
    "duration": 11,
    "start_time": "2025-06-10T12:10:39.873Z"
   },
   {
    "duration": 225,
    "start_time": "2025-06-10T12:10:39.885Z"
   },
   {
    "duration": 61,
    "start_time": "2025-06-10T12:10:40.112Z"
   },
   {
    "duration": 65,
    "start_time": "2025-06-10T12:10:40.175Z"
   },
   {
    "duration": 24,
    "start_time": "2025-06-10T12:10:40.242Z"
   },
   {
    "duration": 137,
    "start_time": "2025-06-10T12:10:40.268Z"
   },
   {
    "duration": 14,
    "start_time": "2025-06-10T12:10:40.406Z"
   },
   {
    "duration": 41,
    "start_time": "2025-06-10T12:10:40.422Z"
   },
   {
    "duration": 7,
    "start_time": "2025-06-10T12:10:40.464Z"
   },
   {
    "duration": 106,
    "start_time": "2025-06-10T12:10:40.473Z"
   },
   {
    "duration": 275,
    "start_time": "2025-06-10T12:10:40.581Z"
   },
   {
    "duration": 251,
    "start_time": "2025-06-10T12:10:40.858Z"
   },
   {
    "duration": 99,
    "start_time": "2025-06-10T12:10:41.111Z"
   },
   {
    "duration": 96,
    "start_time": "2025-06-10T12:10:41.212Z"
   },
   {
    "duration": 55,
    "start_time": "2025-06-10T12:10:41.310Z"
   },
   {
    "duration": 39,
    "start_time": "2025-06-10T12:10:41.366Z"
   },
   {
    "duration": 50,
    "start_time": "2025-06-10T12:10:41.407Z"
   },
   {
    "duration": 1410,
    "start_time": "2025-06-10T12:10:41.459Z"
   },
   {
    "duration": 89,
    "start_time": "2025-06-10T12:10:42.871Z"
   },
   {
    "duration": 129,
    "start_time": "2025-06-10T12:11:11.416Z"
   },
   {
    "duration": 42,
    "start_time": "2025-06-10T12:11:18.737Z"
   },
   {
    "duration": 2,
    "start_time": "2025-06-10T12:11:25.691Z"
   },
   {
    "duration": 63,
    "start_time": "2025-06-10T12:14:18.383Z"
   },
   {
    "duration": 38,
    "start_time": "2025-06-10T12:14:32.254Z"
   },
   {
    "duration": 84,
    "start_time": "2025-06-10T12:14:46.753Z"
   },
   {
    "duration": 126,
    "start_time": "2025-06-10T12:14:58.130Z"
   },
   {
    "duration": 92,
    "start_time": "2025-06-10T12:16:08.736Z"
   },
   {
    "duration": 88,
    "start_time": "2025-06-10T12:16:26.903Z"
   },
   {
    "duration": 101,
    "start_time": "2025-06-10T12:16:31.395Z"
   },
   {
    "duration": 81,
    "start_time": "2025-06-10T12:16:47.472Z"
   },
   {
    "duration": 105,
    "start_time": "2025-06-10T12:18:54.466Z"
   },
   {
    "duration": 79,
    "start_time": "2025-06-10T12:19:11.068Z"
   },
   {
    "duration": 35,
    "start_time": "2025-06-10T12:20:15.542Z"
   },
   {
    "duration": 1210,
    "start_time": "2025-06-10T12:22:08.673Z"
   },
   {
    "duration": 2570,
    "start_time": "2025-06-10T12:22:09.885Z"
   },
   {
    "duration": 14,
    "start_time": "2025-06-10T12:22:12.457Z"
   },
   {
    "duration": 70,
    "start_time": "2025-06-10T12:22:12.473Z"
   },
   {
    "duration": 253,
    "start_time": "2025-06-10T12:22:12.544Z"
   },
   {
    "duration": 38,
    "start_time": "2025-06-10T12:22:12.798Z"
   },
   {
    "duration": 167,
    "start_time": "2025-06-10T12:22:12.838Z"
   },
   {
    "duration": 21,
    "start_time": "2025-06-10T12:22:13.006Z"
   },
   {
    "duration": 374,
    "start_time": "2025-06-10T12:22:13.037Z"
   },
   {
    "duration": 653,
    "start_time": "2025-06-10T12:22:13.436Z"
   },
   {
    "duration": 5,
    "start_time": "2025-06-10T12:22:14.090Z"
   },
   {
    "duration": 212,
    "start_time": "2025-06-10T12:22:14.096Z"
   },
   {
    "duration": 480,
    "start_time": "2025-06-10T12:22:14.310Z"
   },
   {
    "duration": 377,
    "start_time": "2025-06-10T12:22:14.792Z"
   },
   {
    "duration": 231,
    "start_time": "2025-06-10T12:22:15.171Z"
   },
   {
    "duration": 98,
    "start_time": "2025-06-10T12:22:15.404Z"
   },
   {
    "duration": 655,
    "start_time": "2025-06-10T12:22:15.504Z"
   },
   {
    "duration": 189,
    "start_time": "2025-06-10T12:22:16.161Z"
   },
   {
    "duration": 155,
    "start_time": "2025-06-10T12:22:16.352Z"
   },
   {
    "duration": 27,
    "start_time": "2025-06-10T12:22:16.510Z"
   },
   {
    "duration": 161,
    "start_time": "2025-06-10T12:22:16.539Z"
   },
   {
    "duration": 48,
    "start_time": "2025-06-10T12:22:16.703Z"
   },
   {
    "duration": 26,
    "start_time": "2025-06-10T12:22:16.753Z"
   },
   {
    "duration": 297,
    "start_time": "2025-06-10T12:22:16.781Z"
   },
   {
    "duration": 76,
    "start_time": "2025-06-10T12:22:17.080Z"
   },
   {
    "duration": 49,
    "start_time": "2025-06-10T12:22:17.157Z"
   },
   {
    "duration": 30,
    "start_time": "2025-06-10T12:22:17.208Z"
   },
   {
    "duration": 27,
    "start_time": "2025-06-10T12:22:17.243Z"
   },
   {
    "duration": 268,
    "start_time": "2025-06-10T12:22:17.272Z"
   },
   {
    "duration": 179,
    "start_time": "2025-06-10T12:22:17.542Z"
   },
   {
    "duration": 14,
    "start_time": "2025-06-10T12:22:17.723Z"
   },
   {
    "duration": 229,
    "start_time": "2025-06-10T12:22:17.739Z"
   },
   {
    "duration": 107,
    "start_time": "2025-06-10T12:22:17.969Z"
   },
   {
    "duration": 82,
    "start_time": "2025-06-10T12:22:18.078Z"
   },
   {
    "duration": 19,
    "start_time": "2025-06-10T12:22:18.161Z"
   },
   {
    "duration": 67,
    "start_time": "2025-06-10T12:22:18.182Z"
   },
   {
    "duration": 14,
    "start_time": "2025-06-10T12:22:18.250Z"
   },
   {
    "duration": 33,
    "start_time": "2025-06-10T12:22:18.266Z"
   },
   {
    "duration": 7,
    "start_time": "2025-06-10T12:22:18.301Z"
   },
   {
    "duration": 180,
    "start_time": "2025-06-10T12:22:18.310Z"
   },
   {
    "duration": 260,
    "start_time": "2025-06-10T12:22:18.491Z"
   },
   {
    "duration": 248,
    "start_time": "2025-06-10T12:22:18.752Z"
   },
   {
    "duration": 106,
    "start_time": "2025-06-10T12:22:19.002Z"
   },
   {
    "duration": 90,
    "start_time": "2025-06-10T12:22:19.110Z"
   },
   {
    "duration": 48,
    "start_time": "2025-06-10T12:22:19.202Z"
   },
   {
    "duration": 34,
    "start_time": "2025-06-10T12:22:19.252Z"
   },
   {
    "duration": 58,
    "start_time": "2025-06-10T12:22:19.288Z"
   },
   {
    "duration": 1313,
    "start_time": "2025-06-10T12:22:19.348Z"
   },
   {
    "duration": 73,
    "start_time": "2025-06-10T12:22:20.663Z"
   },
   {
    "duration": 75,
    "start_time": "2025-06-10T12:22:20.738Z"
   },
   {
    "duration": 145,
    "start_time": "2025-06-10T12:22:20.815Z"
   },
   {
    "duration": 9,
    "start_time": "2025-06-10T12:26:18.160Z"
   },
   {
    "duration": 9,
    "start_time": "2025-06-10T12:26:39.726Z"
   },
   {
    "duration": 10,
    "start_time": "2025-06-10T12:29:22.167Z"
   },
   {
    "duration": 1300,
    "start_time": "2025-06-10T12:30:20.508Z"
   },
   {
    "duration": 2140,
    "start_time": "2025-06-10T12:30:21.810Z"
   },
   {
    "duration": 13,
    "start_time": "2025-06-10T12:30:23.952Z"
   },
   {
    "duration": 148,
    "start_time": "2025-06-10T12:30:23.967Z"
   },
   {
    "duration": 239,
    "start_time": "2025-06-10T12:30:24.117Z"
   },
   {
    "duration": 10,
    "start_time": "2025-06-10T12:30:24.357Z"
   },
   {
    "duration": 250,
    "start_time": "2025-06-10T12:30:24.369Z"
   },
   {
    "duration": 25,
    "start_time": "2025-06-10T12:30:24.621Z"
   },
   {
    "duration": 356,
    "start_time": "2025-06-10T12:30:24.648Z"
   },
   {
    "duration": 642,
    "start_time": "2025-06-10T12:30:25.007Z"
   },
   {
    "duration": 4,
    "start_time": "2025-06-10T12:30:25.651Z"
   },
   {
    "duration": 205,
    "start_time": "2025-06-10T12:30:25.657Z"
   },
   {
    "duration": 435,
    "start_time": "2025-06-10T12:30:25.864Z"
   },
   {
    "duration": 377,
    "start_time": "2025-06-10T12:30:26.301Z"
   },
   {
    "duration": 218,
    "start_time": "2025-06-10T12:30:26.679Z"
   },
   {
    "duration": 105,
    "start_time": "2025-06-10T12:30:26.899Z"
   },
   {
    "duration": 707,
    "start_time": "2025-06-10T12:30:27.006Z"
   },
   {
    "duration": 187,
    "start_time": "2025-06-10T12:30:27.715Z"
   },
   {
    "duration": 152,
    "start_time": "2025-06-10T12:30:27.905Z"
   },
   {
    "duration": 12,
    "start_time": "2025-06-10T12:30:28.059Z"
   },
   {
    "duration": 174,
    "start_time": "2025-06-10T12:30:28.073Z"
   },
   {
    "duration": 43,
    "start_time": "2025-06-10T12:30:28.249Z"
   },
   {
    "duration": 22,
    "start_time": "2025-06-10T12:30:28.293Z"
   },
   {
    "duration": 273,
    "start_time": "2025-06-10T12:30:28.317Z"
   },
   {
    "duration": 73,
    "start_time": "2025-06-10T12:30:28.592Z"
   },
   {
    "duration": 47,
    "start_time": "2025-06-10T12:30:28.667Z"
   },
   {
    "duration": 31,
    "start_time": "2025-06-10T12:30:28.716Z"
   },
   {
    "duration": 33,
    "start_time": "2025-06-10T12:30:28.753Z"
   },
   {
    "duration": 325,
    "start_time": "2025-06-10T12:30:28.788Z"
   },
   {
    "duration": 177,
    "start_time": "2025-06-10T12:30:29.115Z"
   },
   {
    "duration": 10,
    "start_time": "2025-06-10T12:30:29.294Z"
   },
   {
    "duration": 194,
    "start_time": "2025-06-10T12:30:29.305Z"
   },
   {
    "duration": 58,
    "start_time": "2025-06-10T12:30:29.500Z"
   },
   {
    "duration": 57,
    "start_time": "2025-06-10T12:30:29.559Z"
   },
   {
    "duration": 35,
    "start_time": "2025-06-10T12:30:29.617Z"
   },
   {
    "duration": 42,
    "start_time": "2025-06-10T12:30:29.653Z"
   },
   {
    "duration": 13,
    "start_time": "2025-06-10T12:30:29.697Z"
   },
   {
    "duration": 62,
    "start_time": "2025-06-10T12:30:29.712Z"
   },
   {
    "duration": 7,
    "start_time": "2025-06-10T12:30:29.775Z"
   },
   {
    "duration": 107,
    "start_time": "2025-06-10T12:30:29.783Z"
   },
   {
    "duration": 254,
    "start_time": "2025-06-10T12:30:29.892Z"
   },
   {
    "duration": 242,
    "start_time": "2025-06-10T12:30:30.148Z"
   },
   {
    "duration": 91,
    "start_time": "2025-06-10T12:30:30.392Z"
   },
   {
    "duration": 141,
    "start_time": "2025-06-10T12:30:30.484Z"
   },
   {
    "duration": 41,
    "start_time": "2025-06-10T12:30:30.627Z"
   },
   {
    "duration": 35,
    "start_time": "2025-06-10T12:30:30.670Z"
   },
   {
    "duration": 45,
    "start_time": "2025-06-10T12:30:30.707Z"
   },
   {
    "duration": 1367,
    "start_time": "2025-06-10T12:30:30.753Z"
   },
   {
    "duration": 64,
    "start_time": "2025-06-10T12:30:32.122Z"
   },
   {
    "duration": 89,
    "start_time": "2025-06-10T12:30:32.188Z"
   },
   {
    "duration": 9,
    "start_time": "2025-06-10T12:30:32.278Z"
   },
   {
    "duration": 81,
    "start_time": "2025-06-10T12:32:03.131Z"
   },
   {
    "duration": 86,
    "start_time": "2025-06-10T13:27:57.860Z"
   },
   {
    "duration": 6,
    "start_time": "2025-06-10T13:43:23.092Z"
   },
   {
    "duration": 15,
    "start_time": "2025-06-10T13:43:50.588Z"
   },
   {
    "duration": 15,
    "start_time": "2025-06-10T13:43:58.374Z"
   },
   {
    "duration": 103,
    "start_time": "2025-06-10T13:46:06.219Z"
   },
   {
    "duration": 75,
    "start_time": "2025-06-10T13:46:13.965Z"
   },
   {
    "duration": 9,
    "start_time": "2025-06-10T13:46:46.372Z"
   },
   {
    "duration": 40,
    "start_time": "2025-06-10T13:46:51.830Z"
   },
   {
    "duration": 84,
    "start_time": "2025-06-10T13:47:05.914Z"
   },
   {
    "duration": 31,
    "start_time": "2025-06-10T13:47:18.862Z"
   },
   {
    "duration": 79,
    "start_time": "2025-06-10T13:47:20.398Z"
   },
   {
    "duration": 1435,
    "start_time": "2025-06-10T13:48:12.710Z"
   },
   {
    "duration": 1186,
    "start_time": "2025-06-10T13:48:24.285Z"
   },
   {
    "duration": 2576,
    "start_time": "2025-06-10T13:48:25.473Z"
   },
   {
    "duration": 13,
    "start_time": "2025-06-10T13:48:28.051Z"
   },
   {
    "duration": 71,
    "start_time": "2025-06-10T13:48:28.066Z"
   },
   {
    "duration": 247,
    "start_time": "2025-06-10T13:48:28.138Z"
   },
   {
    "duration": 10,
    "start_time": "2025-06-10T13:48:28.387Z"
   },
   {
    "duration": 179,
    "start_time": "2025-06-10T13:48:28.399Z"
   },
   {
    "duration": 26,
    "start_time": "2025-06-10T13:48:28.579Z"
   },
   {
    "duration": 469,
    "start_time": "2025-06-10T13:48:28.607Z"
   },
   {
    "duration": 633,
    "start_time": "2025-06-10T13:48:29.079Z"
   },
   {
    "duration": 6,
    "start_time": "2025-06-10T13:48:29.713Z"
   },
   {
    "duration": 177,
    "start_time": "2025-06-10T13:48:29.736Z"
   },
   {
    "duration": 440,
    "start_time": "2025-06-10T13:48:29.915Z"
   },
   {
    "duration": 387,
    "start_time": "2025-06-10T13:48:30.357Z"
   },
   {
    "duration": 220,
    "start_time": "2025-06-10T13:48:30.746Z"
   },
   {
    "duration": 90,
    "start_time": "2025-06-10T13:48:30.968Z"
   },
   {
    "duration": 673,
    "start_time": "2025-06-10T13:48:31.060Z"
   },
   {
    "duration": 190,
    "start_time": "2025-06-10T13:48:31.737Z"
   },
   {
    "duration": 149,
    "start_time": "2025-06-10T13:48:31.929Z"
   },
   {
    "duration": 13,
    "start_time": "2025-06-10T13:48:32.080Z"
   },
   {
    "duration": 158,
    "start_time": "2025-06-10T13:48:32.095Z"
   },
   {
    "duration": 41,
    "start_time": "2025-06-10T13:48:32.255Z"
   },
   {
    "duration": 44,
    "start_time": "2025-06-10T13:48:32.298Z"
   },
   {
    "duration": 242,
    "start_time": "2025-06-10T13:48:32.344Z"
   },
   {
    "duration": 69,
    "start_time": "2025-06-10T13:48:32.588Z"
   },
   {
    "duration": 68,
    "start_time": "2025-06-10T13:48:32.659Z"
   },
   {
    "duration": 87,
    "start_time": "2025-06-10T13:48:32.729Z"
   },
   {
    "duration": 26,
    "start_time": "2025-06-10T13:48:32.820Z"
   },
   {
    "duration": 215,
    "start_time": "2025-06-10T13:48:32.848Z"
   },
   {
    "duration": 179,
    "start_time": "2025-06-10T13:48:33.064Z"
   },
   {
    "duration": 8,
    "start_time": "2025-06-10T13:48:33.245Z"
   },
   {
    "duration": 288,
    "start_time": "2025-06-10T13:48:33.255Z"
   },
   {
    "duration": 53,
    "start_time": "2025-06-10T13:48:33.545Z"
   },
   {
    "duration": 111,
    "start_time": "2025-06-10T13:48:33.600Z"
   },
   {
    "duration": 21,
    "start_time": "2025-06-10T13:48:33.712Z"
   },
   {
    "duration": 70,
    "start_time": "2025-06-10T13:48:33.735Z"
   },
   {
    "duration": 15,
    "start_time": "2025-06-10T13:48:33.807Z"
   },
   {
    "duration": 32,
    "start_time": "2025-06-10T13:48:33.824Z"
   },
   {
    "duration": 13,
    "start_time": "2025-06-10T13:48:33.857Z"
   },
   {
    "duration": 112,
    "start_time": "2025-06-10T13:48:33.872Z"
   },
   {
    "duration": 263,
    "start_time": "2025-06-10T13:48:33.985Z"
   },
   {
    "duration": 274,
    "start_time": "2025-06-10T13:48:34.249Z"
   },
   {
    "duration": 90,
    "start_time": "2025-06-10T13:48:34.525Z"
   },
   {
    "duration": 100,
    "start_time": "2025-06-10T13:48:34.617Z"
   },
   {
    "duration": 123,
    "start_time": "2025-06-10T13:48:34.719Z"
   },
   {
    "duration": 35,
    "start_time": "2025-06-10T13:48:34.843Z"
   },
   {
    "duration": 68,
    "start_time": "2025-06-10T13:48:34.879Z"
   },
   {
    "duration": 1406,
    "start_time": "2025-06-10T13:48:34.949Z"
   },
   {
    "duration": 79,
    "start_time": "2025-06-10T13:48:36.357Z"
   },
   {
    "duration": 79,
    "start_time": "2025-06-10T13:48:36.438Z"
   },
   {
    "duration": 19,
    "start_time": "2025-06-10T13:48:36.519Z"
   },
   {
    "duration": 99,
    "start_time": "2025-06-10T13:48:36.540Z"
   },
   {
    "duration": 180,
    "start_time": "2025-06-10T13:48:36.641Z"
   },
   {
    "duration": 104,
    "start_time": "2025-06-10T13:48:36.823Z"
   },
   {
    "duration": 46,
    "start_time": "2025-06-10T13:48:46.713Z"
   },
   {
    "duration": 338,
    "start_time": "2025-06-10T13:50:31.061Z"
   },
   {
    "duration": 340,
    "start_time": "2025-06-10T13:50:37.349Z"
   },
   {
    "duration": 1395,
    "start_time": "2025-06-10T13:53:04.356Z"
   },
   {
    "duration": 9,
    "start_time": "2025-06-10T13:54:05.286Z"
   },
   {
    "duration": 299,
    "start_time": "2025-06-10T13:54:13.504Z"
   },
   {
    "duration": 409,
    "start_time": "2025-06-10T13:54:24.481Z"
   },
   {
    "duration": 1202,
    "start_time": "2025-06-10T13:59:28.876Z"
   },
   {
    "duration": 3241,
    "start_time": "2025-06-10T13:59:30.080Z"
   },
   {
    "duration": 22,
    "start_time": "2025-06-10T13:59:33.322Z"
   },
   {
    "duration": 205,
    "start_time": "2025-06-10T13:59:33.346Z"
   },
   {
    "duration": 252,
    "start_time": "2025-06-10T13:59:33.553Z"
   },
   {
    "duration": 9,
    "start_time": "2025-06-10T13:59:33.807Z"
   },
   {
    "duration": 166,
    "start_time": "2025-06-10T13:59:33.837Z"
   },
   {
    "duration": 32,
    "start_time": "2025-06-10T13:59:34.005Z"
   },
   {
    "duration": 369,
    "start_time": "2025-06-10T13:59:34.039Z"
   },
   {
    "duration": 662,
    "start_time": "2025-06-10T13:59:34.436Z"
   },
   {
    "duration": 5,
    "start_time": "2025-06-10T13:59:35.100Z"
   },
   {
    "duration": 217,
    "start_time": "2025-06-10T13:59:35.106Z"
   },
   {
    "duration": 461,
    "start_time": "2025-06-10T13:59:35.337Z"
   },
   {
    "duration": 381,
    "start_time": "2025-06-10T13:59:35.800Z"
   },
   {
    "duration": 221,
    "start_time": "2025-06-10T13:59:36.183Z"
   },
   {
    "duration": 82,
    "start_time": "2025-06-10T13:59:36.406Z"
   },
   {
    "duration": 650,
    "start_time": "2025-06-10T13:59:36.490Z"
   },
   {
    "duration": 188,
    "start_time": "2025-06-10T13:59:37.142Z"
   },
   {
    "duration": 137,
    "start_time": "2025-06-10T13:59:37.335Z"
   },
   {
    "duration": 51,
    "start_time": "2025-06-10T13:59:37.474Z"
   },
   {
    "duration": 159,
    "start_time": "2025-06-10T13:59:37.527Z"
   },
   {
    "duration": 48,
    "start_time": "2025-06-10T13:59:37.688Z"
   },
   {
    "duration": 54,
    "start_time": "2025-06-10T13:59:37.738Z"
   },
   {
    "duration": 237,
    "start_time": "2025-06-10T13:59:37.794Z"
   },
   {
    "duration": 58,
    "start_time": "2025-06-10T13:59:38.033Z"
   },
   {
    "duration": 60,
    "start_time": "2025-06-10T13:59:38.092Z"
   },
   {
    "duration": 11,
    "start_time": "2025-06-10T13:59:38.154Z"
   },
   {
    "duration": 24,
    "start_time": "2025-06-10T13:59:38.169Z"
   },
   {
    "duration": 236,
    "start_time": "2025-06-10T13:59:38.195Z"
   },
   {
    "duration": 178,
    "start_time": "2025-06-10T13:59:38.433Z"
   },
   {
    "duration": 9,
    "start_time": "2025-06-10T13:59:38.613Z"
   },
   {
    "duration": 175,
    "start_time": "2025-06-10T13:59:38.623Z"
   },
   {
    "duration": 63,
    "start_time": "2025-06-10T13:59:38.800Z"
   },
   {
    "duration": 56,
    "start_time": "2025-06-10T13:59:38.865Z"
   },
   {
    "duration": 28,
    "start_time": "2025-06-10T13:59:38.935Z"
   },
   {
    "duration": 41,
    "start_time": "2025-06-10T13:59:38.965Z"
   },
   {
    "duration": 40,
    "start_time": "2025-06-10T13:59:39.008Z"
   },
   {
    "duration": 19,
    "start_time": "2025-06-10T13:59:39.051Z"
   },
   {
    "duration": 10,
    "start_time": "2025-06-10T13:59:39.072Z"
   },
   {
    "duration": 122,
    "start_time": "2025-06-10T13:59:39.084Z"
   },
   {
    "duration": 268,
    "start_time": "2025-06-10T13:59:39.209Z"
   },
   {
    "duration": 246,
    "start_time": "2025-06-10T13:59:39.479Z"
   },
   {
    "duration": 84,
    "start_time": "2025-06-10T13:59:39.727Z"
   },
   {
    "duration": 100,
    "start_time": "2025-06-10T13:59:39.814Z"
   },
   {
    "duration": 50,
    "start_time": "2025-06-10T13:59:39.916Z"
   },
   {
    "duration": 37,
    "start_time": "2025-06-10T13:59:39.968Z"
   },
   {
    "duration": 51,
    "start_time": "2025-06-10T13:59:40.007Z"
   },
   {
    "duration": 1383,
    "start_time": "2025-06-10T13:59:40.059Z"
   },
   {
    "duration": 63,
    "start_time": "2025-06-10T13:59:41.444Z"
   },
   {
    "duration": 89,
    "start_time": "2025-06-10T13:59:41.509Z"
   },
   {
    "duration": 10,
    "start_time": "2025-06-10T13:59:41.600Z"
   },
   {
    "duration": 94,
    "start_time": "2025-06-10T13:59:41.612Z"
   },
   {
    "duration": 53,
    "start_time": "2025-06-10T13:59:41.708Z"
   },
   {
    "duration": 63,
    "start_time": "2025-06-10T13:59:41.763Z"
   },
   {
    "duration": 395,
    "start_time": "2025-06-10T13:59:41.828Z"
   },
   {
    "duration": 260,
    "start_time": "2025-06-10T14:07:16.198Z"
   },
   {
    "duration": 207,
    "start_time": "2025-06-10T14:08:00.562Z"
   },
   {
    "duration": 298,
    "start_time": "2025-06-10T14:08:09.442Z"
   },
   {
    "duration": 471,
    "start_time": "2025-06-10T14:10:31.904Z"
   },
   {
    "duration": 489,
    "start_time": "2025-06-10T14:10:52.220Z"
   },
   {
    "duration": 1254,
    "start_time": "2025-06-10T14:11:06.709Z"
   },
   {
    "duration": 2058,
    "start_time": "2025-06-10T14:11:07.965Z"
   },
   {
    "duration": 17,
    "start_time": "2025-06-10T14:11:10.025Z"
   },
   {
    "duration": 51,
    "start_time": "2025-06-10T14:11:10.044Z"
   },
   {
    "duration": 268,
    "start_time": "2025-06-10T14:11:10.097Z"
   },
   {
    "duration": 9,
    "start_time": "2025-06-10T14:11:10.367Z"
   },
   {
    "duration": 190,
    "start_time": "2025-06-10T14:11:10.378Z"
   },
   {
    "duration": 19,
    "start_time": "2025-06-10T14:11:10.570Z"
   },
   {
    "duration": 356,
    "start_time": "2025-06-10T14:11:10.591Z"
   },
   {
    "duration": 622,
    "start_time": "2025-06-10T14:11:10.949Z"
   },
   {
    "duration": 5,
    "start_time": "2025-06-10T14:11:11.572Z"
   },
   {
    "duration": 197,
    "start_time": "2025-06-10T14:11:11.578Z"
   },
   {
    "duration": 431,
    "start_time": "2025-06-10T14:11:11.776Z"
   },
   {
    "duration": 391,
    "start_time": "2025-06-10T14:11:12.208Z"
   },
   {
    "duration": 209,
    "start_time": "2025-06-10T14:11:12.601Z"
   },
   {
    "duration": 140,
    "start_time": "2025-06-10T14:11:12.812Z"
   },
   {
    "duration": 637,
    "start_time": "2025-06-10T14:11:12.954Z"
   },
   {
    "duration": 184,
    "start_time": "2025-06-10T14:11:13.592Z"
   },
   {
    "duration": 146,
    "start_time": "2025-06-10T14:11:13.778Z"
   },
   {
    "duration": 20,
    "start_time": "2025-06-10T14:11:13.926Z"
   },
   {
    "duration": 145,
    "start_time": "2025-06-10T14:11:13.947Z"
   },
   {
    "duration": 47,
    "start_time": "2025-06-10T14:11:14.094Z"
   },
   {
    "duration": 21,
    "start_time": "2025-06-10T14:11:14.142Z"
   },
   {
    "duration": 264,
    "start_time": "2025-06-10T14:11:14.165Z"
   },
   {
    "duration": 70,
    "start_time": "2025-06-10T14:11:14.435Z"
   },
   {
    "duration": 59,
    "start_time": "2025-06-10T14:11:14.507Z"
   },
   {
    "duration": 12,
    "start_time": "2025-06-10T14:11:14.567Z"
   },
   {
    "duration": 30,
    "start_time": "2025-06-10T14:11:14.582Z"
   },
   {
    "duration": 216,
    "start_time": "2025-06-10T14:11:14.614Z"
   },
   {
    "duration": 210,
    "start_time": "2025-06-10T14:11:14.832Z"
   },
   {
    "duration": 9,
    "start_time": "2025-06-10T14:11:15.043Z"
   },
   {
    "duration": 223,
    "start_time": "2025-06-10T14:11:15.053Z"
   },
   {
    "duration": 71,
    "start_time": "2025-06-10T14:11:15.278Z"
   },
   {
    "duration": 59,
    "start_time": "2025-06-10T14:11:15.351Z"
   },
   {
    "duration": 66,
    "start_time": "2025-06-10T14:11:15.412Z"
   },
   {
    "duration": 219,
    "start_time": "2025-06-10T14:11:15.480Z"
   },
   {
    "duration": 12,
    "start_time": "2025-06-10T14:11:15.701Z"
   },
   {
    "duration": 22,
    "start_time": "2025-06-10T14:11:15.714Z"
   },
   {
    "duration": 6,
    "start_time": "2025-06-10T14:11:15.738Z"
   },
   {
    "duration": 205,
    "start_time": "2025-06-10T14:11:15.746Z"
   },
   {
    "duration": 262,
    "start_time": "2025-06-10T14:11:15.953Z"
   },
   {
    "duration": 255,
    "start_time": "2025-06-10T14:11:16.217Z"
   },
   {
    "duration": 93,
    "start_time": "2025-06-10T14:11:16.473Z"
   },
   {
    "duration": 87,
    "start_time": "2025-06-10T14:11:16.568Z"
   },
   {
    "duration": 39,
    "start_time": "2025-06-10T14:11:16.657Z"
   },
   {
    "duration": 55,
    "start_time": "2025-06-10T14:11:16.698Z"
   },
   {
    "duration": 28,
    "start_time": "2025-06-10T14:11:16.755Z"
   },
   {
    "duration": 1461,
    "start_time": "2025-06-10T14:11:16.785Z"
   },
   {
    "duration": 68,
    "start_time": "2025-06-10T14:11:18.247Z"
   },
   {
    "duration": 91,
    "start_time": "2025-06-10T14:11:18.316Z"
   },
   {
    "duration": 9,
    "start_time": "2025-06-10T14:11:18.408Z"
   },
   {
    "duration": 97,
    "start_time": "2025-06-10T14:11:18.419Z"
   },
   {
    "duration": 23,
    "start_time": "2025-06-10T14:11:18.518Z"
   },
   {
    "duration": 50,
    "start_time": "2025-06-10T14:11:18.542Z"
   },
   {
    "duration": 412,
    "start_time": "2025-06-10T14:11:18.594Z"
   },
   {
    "duration": 322,
    "start_time": "2025-06-10T14:11:19.009Z"
   },
   {
    "duration": 281,
    "start_time": "2025-06-10T14:15:30.706Z"
   },
   {
    "duration": 1192,
    "start_time": "2025-06-10T14:15:50.581Z"
   },
   {
    "duration": 2121,
    "start_time": "2025-06-10T14:15:51.775Z"
   },
   {
    "duration": 15,
    "start_time": "2025-06-10T14:15:53.898Z"
   },
   {
    "duration": 63,
    "start_time": "2025-06-10T14:15:53.936Z"
   },
   {
    "duration": 267,
    "start_time": "2025-06-10T14:15:54.001Z"
   },
   {
    "duration": 9,
    "start_time": "2025-06-10T14:15:54.270Z"
   },
   {
    "duration": 228,
    "start_time": "2025-06-10T14:15:54.281Z"
   },
   {
    "duration": 27,
    "start_time": "2025-06-10T14:15:54.511Z"
   },
   {
    "duration": 370,
    "start_time": "2025-06-10T14:15:54.540Z"
   },
   {
    "duration": 728,
    "start_time": "2025-06-10T14:15:54.912Z"
   },
   {
    "duration": 7,
    "start_time": "2025-06-10T14:15:55.643Z"
   },
   {
    "duration": 222,
    "start_time": "2025-06-10T14:15:55.652Z"
   },
   {
    "duration": 461,
    "start_time": "2025-06-10T14:15:55.875Z"
   },
   {
    "duration": 414,
    "start_time": "2025-06-10T14:15:56.340Z"
   },
   {
    "duration": 229,
    "start_time": "2025-06-10T14:15:56.756Z"
   },
   {
    "duration": 99,
    "start_time": "2025-06-10T14:15:56.987Z"
   },
   {
    "duration": 760,
    "start_time": "2025-06-10T14:15:57.087Z"
   },
   {
    "duration": 188,
    "start_time": "2025-06-10T14:15:57.849Z"
   },
   {
    "duration": 154,
    "start_time": "2025-06-10T14:15:58.039Z"
   },
   {
    "duration": 12,
    "start_time": "2025-06-10T14:15:58.195Z"
   },
   {
    "duration": 185,
    "start_time": "2025-06-10T14:15:58.209Z"
   },
   {
    "duration": 46,
    "start_time": "2025-06-10T14:15:58.396Z"
   },
   {
    "duration": 35,
    "start_time": "2025-06-10T14:15:58.445Z"
   },
   {
    "duration": 255,
    "start_time": "2025-06-10T14:15:58.481Z"
   },
   {
    "duration": 63,
    "start_time": "2025-06-10T14:15:58.738Z"
   },
   {
    "duration": 59,
    "start_time": "2025-06-10T14:15:58.802Z"
   },
   {
    "duration": 47,
    "start_time": "2025-06-10T14:15:58.863Z"
   },
   {
    "duration": 26,
    "start_time": "2025-06-10T14:15:58.912Z"
   },
   {
    "duration": 239,
    "start_time": "2025-06-10T14:15:58.940Z"
   },
   {
    "duration": 194,
    "start_time": "2025-06-10T14:15:59.181Z"
   },
   {
    "duration": 9,
    "start_time": "2025-06-10T14:15:59.377Z"
   },
   {
    "duration": 312,
    "start_time": "2025-06-10T14:15:59.387Z"
   },
   {
    "duration": 58,
    "start_time": "2025-06-10T14:15:59.701Z"
   },
   {
    "duration": 56,
    "start_time": "2025-06-10T14:15:59.761Z"
   },
   {
    "duration": 95,
    "start_time": "2025-06-10T14:15:59.818Z"
   },
   {
    "duration": 55,
    "start_time": "2025-06-10T14:15:59.914Z"
   },
   {
    "duration": 13,
    "start_time": "2025-06-10T14:15:59.971Z"
   },
   {
    "duration": 18,
    "start_time": "2025-06-10T14:15:59.986Z"
   },
   {
    "duration": 32,
    "start_time": "2025-06-10T14:16:00.006Z"
   },
   {
    "duration": 129,
    "start_time": "2025-06-10T14:16:00.040Z"
   },
   {
    "duration": 271,
    "start_time": "2025-06-10T14:16:00.174Z"
   },
   {
    "duration": 253,
    "start_time": "2025-06-10T14:16:00.447Z"
   },
   {
    "duration": 93,
    "start_time": "2025-06-10T14:16:00.702Z"
   },
   {
    "duration": 93,
    "start_time": "2025-06-10T14:16:00.797Z"
   },
   {
    "duration": 75,
    "start_time": "2025-06-10T14:16:00.892Z"
   },
   {
    "duration": 36,
    "start_time": "2025-06-10T14:16:00.970Z"
   },
   {
    "duration": 46,
    "start_time": "2025-06-10T14:16:01.008Z"
   },
   {
    "duration": 1430,
    "start_time": "2025-06-10T14:16:01.056Z"
   },
   {
    "duration": 75,
    "start_time": "2025-06-10T14:16:02.488Z"
   },
   {
    "duration": 84,
    "start_time": "2025-06-10T14:16:02.565Z"
   },
   {
    "duration": 12,
    "start_time": "2025-06-10T14:16:02.650Z"
   },
   {
    "duration": 136,
    "start_time": "2025-06-10T14:16:02.664Z"
   },
   {
    "duration": 16,
    "start_time": "2025-06-10T14:16:02.802Z"
   },
   {
    "duration": 149,
    "start_time": "2025-06-10T14:16:02.820Z"
   },
   {
    "duration": 401,
    "start_time": "2025-06-10T14:16:02.971Z"
   },
   {
    "duration": 277,
    "start_time": "2025-06-10T14:16:03.374Z"
   },
   {
    "duration": 2840,
    "start_time": "2025-06-10T14:27:24.378Z"
   },
   {
    "duration": 11,
    "start_time": "2025-06-10T14:27:50.812Z"
   },
   {
    "duration": 2148,
    "start_time": "2025-06-10T14:33:30.736Z"
   },
   {
    "duration": 14,
    "start_time": "2025-06-10T14:34:37.560Z"
   },
   {
    "duration": 10,
    "start_time": "2025-06-10T14:34:39.837Z"
   },
   {
    "duration": 2402,
    "start_time": "2025-06-10T14:36:16.619Z"
   },
   {
    "duration": 4,
    "start_time": "2025-06-10T14:36:24.336Z"
   },
   {
    "duration": 1919,
    "start_time": "2025-06-10T14:36:47.934Z"
   },
   {
    "duration": 1415,
    "start_time": "2025-06-10T14:39:18.502Z"
   },
   {
    "duration": 1171,
    "start_time": "2025-06-10T14:39:30.985Z"
   },
   {
    "duration": 2271,
    "start_time": "2025-06-10T14:39:32.158Z"
   },
   {
    "duration": 22,
    "start_time": "2025-06-10T14:39:34.431Z"
   },
   {
    "duration": 88,
    "start_time": "2025-06-10T14:39:34.456Z"
   },
   {
    "duration": 262,
    "start_time": "2025-06-10T14:39:34.546Z"
   },
   {
    "duration": 29,
    "start_time": "2025-06-10T14:39:34.809Z"
   },
   {
    "duration": 212,
    "start_time": "2025-06-10T14:39:34.839Z"
   },
   {
    "duration": 21,
    "start_time": "2025-06-10T14:39:35.052Z"
   },
   {
    "duration": 372,
    "start_time": "2025-06-10T14:39:35.074Z"
   },
   {
    "duration": 660,
    "start_time": "2025-06-10T14:39:35.449Z"
   },
   {
    "duration": 4,
    "start_time": "2025-06-10T14:39:36.111Z"
   },
   {
    "duration": 197,
    "start_time": "2025-06-10T14:39:36.117Z"
   },
   {
    "duration": 450,
    "start_time": "2025-06-10T14:39:36.316Z"
   },
   {
    "duration": 363,
    "start_time": "2025-06-10T14:39:36.767Z"
   },
   {
    "duration": 226,
    "start_time": "2025-06-10T14:39:37.131Z"
   },
   {
    "duration": 95,
    "start_time": "2025-06-10T14:39:37.358Z"
   },
   {
    "duration": 666,
    "start_time": "2025-06-10T14:39:37.454Z"
   },
   {
    "duration": 171,
    "start_time": "2025-06-10T14:39:38.122Z"
   },
   {
    "duration": 148,
    "start_time": "2025-06-10T14:39:38.295Z"
   },
   {
    "duration": 12,
    "start_time": "2025-06-10T14:39:38.445Z"
   },
   {
    "duration": 153,
    "start_time": "2025-06-10T14:39:38.458Z"
   },
   {
    "duration": 50,
    "start_time": "2025-06-10T14:39:38.613Z"
   },
   {
    "duration": 22,
    "start_time": "2025-06-10T14:39:38.664Z"
   },
   {
    "duration": 239,
    "start_time": "2025-06-10T14:39:38.687Z"
   },
   {
    "duration": 80,
    "start_time": "2025-06-10T14:39:38.927Z"
   },
   {
    "duration": 120,
    "start_time": "2025-06-10T14:39:39.009Z"
   },
   {
    "duration": 10,
    "start_time": "2025-06-10T14:39:39.131Z"
   },
   {
    "duration": 29,
    "start_time": "2025-06-10T14:39:39.146Z"
   },
   {
    "duration": 217,
    "start_time": "2025-06-10T14:39:39.177Z"
   },
   {
    "duration": 186,
    "start_time": "2025-06-10T14:39:39.396Z"
   },
   {
    "duration": 8,
    "start_time": "2025-06-10T14:39:39.583Z"
   },
   {
    "duration": 176,
    "start_time": "2025-06-10T14:39:39.593Z"
   },
   {
    "duration": 65,
    "start_time": "2025-06-10T14:39:39.771Z"
   },
   {
    "duration": 55,
    "start_time": "2025-06-10T14:39:39.838Z"
   },
   {
    "duration": 21,
    "start_time": "2025-06-10T14:39:39.894Z"
   },
   {
    "duration": 54,
    "start_time": "2025-06-10T14:39:39.917Z"
   },
   {
    "duration": 106,
    "start_time": "2025-06-10T14:39:39.972Z"
   },
   {
    "duration": 28,
    "start_time": "2025-06-10T14:39:40.080Z"
   },
   {
    "duration": 19,
    "start_time": "2025-06-10T14:39:40.109Z"
   },
   {
    "duration": 93,
    "start_time": "2025-06-10T14:39:40.129Z"
   },
   {
    "duration": 261,
    "start_time": "2025-06-10T14:39:40.224Z"
   },
   {
    "duration": 252,
    "start_time": "2025-06-10T14:39:40.486Z"
   },
   {
    "duration": 81,
    "start_time": "2025-06-10T14:39:40.740Z"
   },
   {
    "duration": 95,
    "start_time": "2025-06-10T14:39:40.823Z"
   },
   {
    "duration": 50,
    "start_time": "2025-06-10T14:39:40.919Z"
   },
   {
    "duration": 90,
    "start_time": "2025-06-10T14:39:40.971Z"
   },
   {
    "duration": 27,
    "start_time": "2025-06-10T14:39:41.063Z"
   },
   {
    "duration": 1369,
    "start_time": "2025-06-10T14:39:41.091Z"
   },
   {
    "duration": 63,
    "start_time": "2025-06-10T14:39:42.461Z"
   },
   {
    "duration": 71,
    "start_time": "2025-06-10T14:39:42.537Z"
   },
   {
    "duration": 8,
    "start_time": "2025-06-10T14:39:42.610Z"
   },
   {
    "duration": 101,
    "start_time": "2025-06-10T14:39:42.620Z"
   },
   {
    "duration": 19,
    "start_time": "2025-06-10T14:39:42.723Z"
   },
   {
    "duration": 50,
    "start_time": "2025-06-10T14:39:42.744Z"
   },
   {
    "duration": 9,
    "start_time": "2025-06-10T14:39:42.796Z"
   },
   {
    "duration": 33,
    "start_time": "2025-06-10T14:39:42.807Z"
   },
   {
    "duration": 13,
    "start_time": "2025-06-10T14:39:42.842Z"
   },
   {
    "duration": 21,
    "start_time": "2025-06-10T14:39:42.856Z"
   },
   {
    "duration": 372,
    "start_time": "2025-06-10T14:39:42.878Z"
   },
   {
    "duration": 257,
    "start_time": "2025-06-10T14:39:43.252Z"
   },
   {
    "duration": 1194,
    "start_time": "2025-06-10T14:40:53.075Z"
   },
   {
    "duration": 2411,
    "start_time": "2025-06-10T14:40:54.272Z"
   },
   {
    "duration": 16,
    "start_time": "2025-06-10T14:40:56.684Z"
   },
   {
    "duration": 53,
    "start_time": "2025-06-10T14:40:56.702Z"
   },
   {
    "duration": 248,
    "start_time": "2025-06-10T14:40:56.757Z"
   },
   {
    "duration": 31,
    "start_time": "2025-06-10T14:40:57.007Z"
   },
   {
    "duration": 170,
    "start_time": "2025-06-10T14:40:57.040Z"
   },
   {
    "duration": 29,
    "start_time": "2025-06-10T14:40:57.212Z"
   },
   {
    "duration": 369,
    "start_time": "2025-06-10T14:40:57.242Z"
   },
   {
    "duration": 662,
    "start_time": "2025-06-10T14:40:57.637Z"
   },
   {
    "duration": 5,
    "start_time": "2025-06-10T14:40:58.300Z"
   },
   {
    "duration": 242,
    "start_time": "2025-06-10T14:40:58.307Z"
   },
   {
    "duration": 430,
    "start_time": "2025-06-10T14:40:58.551Z"
   },
   {
    "duration": 403,
    "start_time": "2025-06-10T14:40:58.983Z"
   },
   {
    "duration": 231,
    "start_time": "2025-06-10T14:40:59.389Z"
   },
   {
    "duration": 181,
    "start_time": "2025-06-10T14:40:59.622Z"
   },
   {
    "duration": 657,
    "start_time": "2025-06-10T14:40:59.805Z"
   },
   {
    "duration": 215,
    "start_time": "2025-06-10T14:41:00.464Z"
   },
   {
    "duration": 148,
    "start_time": "2025-06-10T14:41:00.681Z"
   },
   {
    "duration": 15,
    "start_time": "2025-06-10T14:41:00.831Z"
   },
   {
    "duration": 152,
    "start_time": "2025-06-10T14:41:00.848Z"
   },
   {
    "duration": 51,
    "start_time": "2025-06-10T14:41:01.001Z"
   },
   {
    "duration": 56,
    "start_time": "2025-06-10T14:41:01.053Z"
   },
   {
    "duration": 240,
    "start_time": "2025-06-10T14:41:01.110Z"
   },
   {
    "duration": 63,
    "start_time": "2025-06-10T14:41:01.352Z"
   },
   {
    "duration": 58,
    "start_time": "2025-06-10T14:41:01.417Z"
   },
   {
    "duration": 10,
    "start_time": "2025-06-10T14:41:01.477Z"
   },
   {
    "duration": 248,
    "start_time": "2025-06-10T14:41:01.491Z"
   },
   {
    "duration": 232,
    "start_time": "2025-06-10T14:41:01.740Z"
   },
   {
    "duration": 185,
    "start_time": "2025-06-10T14:41:01.974Z"
   },
   {
    "duration": 10,
    "start_time": "2025-06-10T14:41:02.161Z"
   },
   {
    "duration": 202,
    "start_time": "2025-06-10T14:41:02.173Z"
   },
   {
    "duration": 64,
    "start_time": "2025-06-10T14:41:02.377Z"
   },
   {
    "duration": 56,
    "start_time": "2025-06-10T14:41:02.443Z"
   },
   {
    "duration": 36,
    "start_time": "2025-06-10T14:41:02.501Z"
   },
   {
    "duration": 82,
    "start_time": "2025-06-10T14:41:02.539Z"
   },
   {
    "duration": 22,
    "start_time": "2025-06-10T14:41:02.623Z"
   },
   {
    "duration": 35,
    "start_time": "2025-06-10T14:41:02.647Z"
   },
   {
    "duration": 20,
    "start_time": "2025-06-10T14:41:02.684Z"
   },
   {
    "duration": 111,
    "start_time": "2025-06-10T14:41:02.706Z"
   },
   {
    "duration": 251,
    "start_time": "2025-06-10T14:41:02.819Z"
   },
   {
    "duration": 248,
    "start_time": "2025-06-10T14:41:03.073Z"
   },
   {
    "duration": 90,
    "start_time": "2025-06-10T14:41:03.324Z"
   },
   {
    "duration": 95,
    "start_time": "2025-06-10T14:41:03.417Z"
   },
   {
    "duration": 46,
    "start_time": "2025-06-10T14:41:03.514Z"
   },
   {
    "duration": 77,
    "start_time": "2025-06-10T14:41:03.562Z"
   },
   {
    "duration": 155,
    "start_time": "2025-06-10T14:41:03.642Z"
   },
   {
    "duration": 1370,
    "start_time": "2025-06-10T14:41:03.799Z"
   },
   {
    "duration": 79,
    "start_time": "2025-06-10T14:41:05.170Z"
   },
   {
    "duration": 84,
    "start_time": "2025-06-10T14:41:05.252Z"
   },
   {
    "duration": 10,
    "start_time": "2025-06-10T14:41:05.338Z"
   },
   {
    "duration": 142,
    "start_time": "2025-06-10T14:41:05.350Z"
   },
   {
    "duration": 14,
    "start_time": "2025-06-10T14:41:05.494Z"
   },
   {
    "duration": 185,
    "start_time": "2025-06-10T14:41:05.510Z"
   },
   {
    "duration": 86,
    "start_time": "2025-06-10T14:41:05.697Z"
   },
   {
    "duration": 41,
    "start_time": "2025-06-10T14:41:05.785Z"
   },
   {
    "duration": 402,
    "start_time": "2025-06-10T14:41:05.828Z"
   },
   {
    "duration": 13,
    "start_time": "2025-06-10T14:41:06.236Z"
   },
   {
    "duration": 35,
    "start_time": "2025-06-10T14:41:06.251Z"
   },
   {
    "duration": 286,
    "start_time": "2025-06-10T14:41:06.289Z"
   },
   {
    "duration": 1174,
    "start_time": "2025-06-10T17:32:38.287Z"
   },
   {
    "duration": 1959,
    "start_time": "2025-06-10T17:32:39.463Z"
   },
   {
    "duration": 14,
    "start_time": "2025-06-10T17:32:41.424Z"
   },
   {
    "duration": 98,
    "start_time": "2025-06-10T17:32:41.439Z"
   },
   {
    "duration": 240,
    "start_time": "2025-06-10T17:32:41.539Z"
   },
   {
    "duration": 9,
    "start_time": "2025-06-10T17:32:41.781Z"
   },
   {
    "duration": 190,
    "start_time": "2025-06-10T17:32:41.792Z"
   },
   {
    "duration": 21,
    "start_time": "2025-06-10T17:32:41.984Z"
   },
   {
    "duration": 377,
    "start_time": "2025-06-10T17:32:42.007Z"
   },
   {
    "duration": 3179,
    "start_time": "2025-06-10T17:32:42.386Z"
   },
   {
    "duration": 608,
    "start_time": "2025-06-10T17:32:45.567Z"
   },
   {
    "duration": 5,
    "start_time": "2025-06-10T17:32:46.177Z"
   },
   {
    "duration": 334,
    "start_time": "2025-06-10T17:32:46.183Z"
   },
   {
    "duration": 474,
    "start_time": "2025-06-10T17:32:46.520Z"
   },
   {
    "duration": 372,
    "start_time": "2025-06-10T17:32:46.996Z"
   },
   {
    "duration": 242,
    "start_time": "2025-06-10T17:32:47.370Z"
   },
   {
    "duration": 84,
    "start_time": "2025-06-10T17:32:47.614Z"
   },
   {
    "duration": 604,
    "start_time": "2025-06-10T17:32:47.699Z"
   },
   {
    "duration": 182,
    "start_time": "2025-06-10T17:32:48.305Z"
   },
   {
    "duration": 140,
    "start_time": "2025-06-10T17:32:48.488Z"
   },
   {
    "duration": 12,
    "start_time": "2025-06-10T17:32:48.629Z"
   },
   {
    "duration": 150,
    "start_time": "2025-06-10T17:32:48.643Z"
   },
   {
    "duration": 42,
    "start_time": "2025-06-10T17:32:48.795Z"
   },
   {
    "duration": 34,
    "start_time": "2025-06-10T17:32:48.839Z"
   },
   {
    "duration": 221,
    "start_time": "2025-06-10T17:32:48.875Z"
   },
   {
    "duration": 63,
    "start_time": "2025-06-10T17:32:49.098Z"
   },
   {
    "duration": 43,
    "start_time": "2025-06-10T17:32:49.163Z"
   },
   {
    "duration": 11,
    "start_time": "2025-06-10T17:32:49.207Z"
   },
   {
    "duration": 53,
    "start_time": "2025-06-10T17:32:49.219Z"
   },
   {
    "duration": 202,
    "start_time": "2025-06-10T17:32:49.273Z"
   },
   {
    "duration": 174,
    "start_time": "2025-06-10T17:32:49.476Z"
   },
   {
    "duration": 13,
    "start_time": "2025-06-10T17:32:49.652Z"
   },
   {
    "duration": 161,
    "start_time": "2025-06-10T17:32:49.667Z"
   },
   {
    "duration": 62,
    "start_time": "2025-06-10T17:32:49.830Z"
   },
   {
    "duration": 247,
    "start_time": "2025-06-10T17:32:49.894Z"
   },
   {
    "duration": 21,
    "start_time": "2025-06-10T17:32:50.142Z"
   },
   {
    "duration": 175,
    "start_time": "2025-06-10T17:32:50.164Z"
   },
   {
    "duration": 13,
    "start_time": "2025-06-10T17:32:50.341Z"
   },
   {
    "duration": 32,
    "start_time": "2025-06-10T17:32:50.356Z"
   },
   {
    "duration": 13,
    "start_time": "2025-06-10T17:32:50.389Z"
   },
   {
    "duration": 238,
    "start_time": "2025-06-10T17:32:50.406Z"
   },
   {
    "duration": 239,
    "start_time": "2025-06-10T17:32:50.646Z"
   },
   {
    "duration": 227,
    "start_time": "2025-06-10T17:32:50.887Z"
   },
   {
    "duration": 86,
    "start_time": "2025-06-10T17:32:51.115Z"
   },
   {
    "duration": 91,
    "start_time": "2025-06-10T17:32:51.203Z"
   },
   {
    "duration": 39,
    "start_time": "2025-06-10T17:32:51.296Z"
   },
   {
    "duration": 48,
    "start_time": "2025-06-10T17:32:51.337Z"
   },
   {
    "duration": 149,
    "start_time": "2025-06-10T17:32:51.387Z"
   },
   {
    "duration": 1283,
    "start_time": "2025-06-10T17:32:51.538Z"
   },
   {
    "duration": 70,
    "start_time": "2025-06-10T17:32:52.823Z"
   },
   {
    "duration": 72,
    "start_time": "2025-06-10T17:32:52.895Z"
   },
   {
    "duration": 9,
    "start_time": "2025-06-10T17:32:52.969Z"
   },
   {
    "duration": 2622,
    "start_time": "2025-06-10T17:32:52.979Z"
   },
   {
    "duration": 99,
    "start_time": "2025-06-10T17:32:55.603Z"
   },
   {
    "duration": 16,
    "start_time": "2025-06-10T17:32:55.704Z"
   },
   {
    "duration": 318,
    "start_time": "2025-06-10T17:32:55.722Z"
   },
   {
    "duration": 331,
    "start_time": "2025-06-10T17:32:56.042Z"
   },
   {
    "duration": 270,
    "start_time": "2025-06-10T17:32:56.375Z"
   },
   {
    "duration": 1343,
    "start_time": "2025-06-11T08:15:25.520Z"
   },
   {
    "duration": 2451,
    "start_time": "2025-06-11T08:15:26.865Z"
   },
   {
    "duration": 14,
    "start_time": "2025-06-11T08:15:29.318Z"
   },
   {
    "duration": 67,
    "start_time": "2025-06-11T08:15:29.334Z"
   },
   {
    "duration": 221,
    "start_time": "2025-06-11T08:15:29.403Z"
   },
   {
    "duration": 10,
    "start_time": "2025-06-11T08:15:29.626Z"
   },
   {
    "duration": 158,
    "start_time": "2025-06-11T08:15:29.661Z"
   },
   {
    "duration": 30,
    "start_time": "2025-06-11T08:15:29.821Z"
   },
   {
    "duration": 351,
    "start_time": "2025-06-11T08:15:29.863Z"
   },
   {
    "duration": 4185,
    "start_time": "2025-06-11T08:15:30.218Z"
   },
   {
    "duration": 595,
    "start_time": "2025-06-11T08:15:34.405Z"
   },
   {
    "duration": 6,
    "start_time": "2025-06-11T08:15:35.002Z"
   },
   {
    "duration": 211,
    "start_time": "2025-06-11T08:15:35.009Z"
   },
   {
    "duration": 387,
    "start_time": "2025-06-11T08:15:35.222Z"
   },
   {
    "duration": 355,
    "start_time": "2025-06-11T08:15:35.611Z"
   },
   {
    "duration": 205,
    "start_time": "2025-06-11T08:15:35.968Z"
   },
   {
    "duration": 91,
    "start_time": "2025-06-11T08:15:36.174Z"
   },
   {
    "duration": 571,
    "start_time": "2025-06-11T08:15:36.266Z"
   },
   {
    "duration": 171,
    "start_time": "2025-06-11T08:15:36.839Z"
   },
   {
    "duration": 139,
    "start_time": "2025-06-11T08:15:37.012Z"
   },
   {
    "duration": 16,
    "start_time": "2025-06-11T08:15:37.152Z"
   },
   {
    "duration": 156,
    "start_time": "2025-06-11T08:15:37.169Z"
   },
   {
    "duration": 42,
    "start_time": "2025-06-11T08:15:37.327Z"
   },
   {
    "duration": 30,
    "start_time": "2025-06-11T08:15:37.371Z"
   },
   {
    "duration": 220,
    "start_time": "2025-06-11T08:15:37.402Z"
   },
   {
    "duration": 65,
    "start_time": "2025-06-11T08:15:37.624Z"
   },
   {
    "duration": 41,
    "start_time": "2025-06-11T08:15:37.691Z"
   },
   {
    "duration": 25,
    "start_time": "2025-06-11T08:15:37.737Z"
   },
   {
    "duration": 23,
    "start_time": "2025-06-11T08:15:37.764Z"
   },
   {
    "duration": 256,
    "start_time": "2025-06-11T08:15:37.789Z"
   },
   {
    "duration": 166,
    "start_time": "2025-06-11T08:15:38.047Z"
   },
   {
    "duration": 10,
    "start_time": "2025-06-11T08:15:38.215Z"
   },
   {
    "duration": 169,
    "start_time": "2025-06-11T08:15:38.227Z"
   },
   {
    "duration": 71,
    "start_time": "2025-06-11T08:15:38.399Z"
   },
   {
    "duration": 49,
    "start_time": "2025-06-11T08:15:38.472Z"
   },
   {
    "duration": 19,
    "start_time": "2025-06-11T08:15:38.523Z"
   },
   {
    "duration": 34,
    "start_time": "2025-06-11T08:15:38.563Z"
   },
   {
    "duration": 12,
    "start_time": "2025-06-11T08:15:38.598Z"
   },
   {
    "duration": 19,
    "start_time": "2025-06-11T08:15:38.612Z"
   },
   {
    "duration": 6,
    "start_time": "2025-06-11T08:15:38.633Z"
   },
   {
    "duration": 97,
    "start_time": "2025-06-11T08:15:38.640Z"
   },
   {
    "duration": 238,
    "start_time": "2025-06-11T08:15:38.739Z"
   },
   {
    "duration": 228,
    "start_time": "2025-06-11T08:15:38.979Z"
   },
   {
    "duration": 80,
    "start_time": "2025-06-11T08:15:39.209Z"
   },
   {
    "duration": 81,
    "start_time": "2025-06-11T08:15:39.291Z"
   },
   {
    "duration": 42,
    "start_time": "2025-06-11T08:15:39.374Z"
   },
   {
    "duration": 44,
    "start_time": "2025-06-11T08:15:39.418Z"
   },
   {
    "duration": 22,
    "start_time": "2025-06-11T08:15:39.464Z"
   },
   {
    "duration": 1367,
    "start_time": "2025-06-11T08:15:39.488Z"
   },
   {
    "duration": 58,
    "start_time": "2025-06-11T08:15:40.857Z"
   },
   {
    "duration": 128,
    "start_time": "2025-06-11T08:15:40.917Z"
   },
   {
    "duration": 9,
    "start_time": "2025-06-11T08:15:41.046Z"
   },
   {
    "duration": 7905,
    "start_time": "2025-06-11T08:15:41.056Z"
   },
   {
    "duration": 84,
    "start_time": "2025-06-11T08:15:48.963Z"
   },
   {
    "duration": 25,
    "start_time": "2025-06-11T08:15:49.049Z"
   },
   {
    "duration": 56,
    "start_time": "2025-06-11T08:15:49.076Z"
   },
   {
    "duration": 373,
    "start_time": "2025-06-11T08:15:49.134Z"
   },
   {
    "duration": 271,
    "start_time": "2025-06-11T08:15:49.509Z"
   },
   {
    "duration": 101,
    "start_time": "2025-06-11T08:20:05.274Z"
   },
   {
    "duration": 260,
    "start_time": "2025-06-11T08:20:08.556Z"
   },
   {
    "duration": 193,
    "start_time": "2025-06-11T08:20:31.319Z"
   },
   {
    "duration": 132,
    "start_time": "2025-06-11T08:25:21.753Z"
   },
   {
    "duration": 299,
    "start_time": "2025-06-11T08:25:55.250Z"
   },
   {
    "duration": 130,
    "start_time": "2025-06-11T08:26:06.925Z"
   },
   {
    "duration": 18,
    "start_time": "2025-06-11T08:26:22.087Z"
   },
   {
    "duration": 134,
    "start_time": "2025-06-11T08:26:47.653Z"
   },
   {
    "duration": 150,
    "start_time": "2025-06-11T08:27:22.275Z"
   },
   {
    "duration": 157,
    "start_time": "2025-06-11T08:27:36.521Z"
   },
   {
    "duration": 153,
    "start_time": "2025-06-11T08:27:40.981Z"
   },
   {
    "duration": 787,
    "start_time": "2025-06-11T08:27:48.760Z"
   },
   {
    "duration": 167,
    "start_time": "2025-06-11T08:29:24.865Z"
   },
   {
    "duration": 671,
    "start_time": "2025-06-11T08:34:54.140Z"
   },
   {
    "duration": 155,
    "start_time": "2025-06-11T08:35:01.589Z"
   },
   {
    "duration": 748,
    "start_time": "2025-06-11T08:35:11.832Z"
   },
   {
    "duration": 146,
    "start_time": "2025-06-11T08:35:46.682Z"
   },
   {
    "duration": 152,
    "start_time": "2025-06-11T08:36:06.490Z"
   },
   {
    "duration": 152,
    "start_time": "2025-06-11T08:36:31.211Z"
   },
   {
    "duration": 5,
    "start_time": "2025-06-11T08:37:00.229Z"
   },
   {
    "duration": 7,
    "start_time": "2025-06-11T08:38:03.924Z"
   },
   {
    "duration": 153,
    "start_time": "2025-06-11T08:38:11.844Z"
   },
   {
    "duration": 772,
    "start_time": "2025-06-11T08:38:22.969Z"
   },
   {
    "duration": 18,
    "start_time": "2025-06-11T08:39:07.848Z"
   },
   {
    "duration": 17,
    "start_time": "2025-06-11T08:39:49.452Z"
   },
   {
    "duration": 191,
    "start_time": "2025-06-11T08:42:32.035Z"
   },
   {
    "duration": 169,
    "start_time": "2025-06-11T08:42:55.197Z"
   },
   {
    "duration": 128,
    "start_time": "2025-06-11T08:43:37.048Z"
   },
   {
    "duration": 154,
    "start_time": "2025-06-11T08:43:49.049Z"
   },
   {
    "duration": 188,
    "start_time": "2025-06-11T08:52:50.638Z"
   },
   {
    "duration": 24,
    "start_time": "2025-06-11T09:04:38.370Z"
   },
   {
    "duration": 2,
    "start_time": "2025-06-11T09:05:06.544Z"
   },
   {
    "duration": 3,
    "start_time": "2025-06-11T09:05:53.853Z"
   },
   {
    "duration": 185,
    "start_time": "2025-06-11T09:06:02.076Z"
   },
   {
    "duration": 156,
    "start_time": "2025-06-11T09:09:19.778Z"
   },
   {
    "duration": 109,
    "start_time": "2025-06-11T09:09:55.159Z"
   },
   {
    "duration": 98,
    "start_time": "2025-06-11T09:10:08.976Z"
   },
   {
    "duration": 222,
    "start_time": "2025-06-11T09:10:23.222Z"
   },
   {
    "duration": 388,
    "start_time": "2025-06-11T09:10:42.406Z"
   },
   {
    "duration": 314,
    "start_time": "2025-06-11T09:11:30.924Z"
   },
   {
    "duration": 298,
    "start_time": "2025-06-11T09:11:57.288Z"
   },
   {
    "duration": 297,
    "start_time": "2025-06-11T09:12:11.225Z"
   },
   {
    "duration": 306,
    "start_time": "2025-06-11T09:13:15.034Z"
   },
   {
    "duration": 335,
    "start_time": "2025-06-11T09:16:00.320Z"
   },
   {
    "duration": 334,
    "start_time": "2025-06-11T09:16:29.350Z"
   },
   {
    "duration": 260,
    "start_time": "2025-06-11T09:16:47.050Z"
   },
   {
    "duration": 431,
    "start_time": "2025-06-11T09:16:59.058Z"
   },
   {
    "duration": 310,
    "start_time": "2025-06-11T09:17:34.895Z"
   },
   {
    "duration": 322,
    "start_time": "2025-06-11T09:17:42.710Z"
   },
   {
    "duration": 356,
    "start_time": "2025-06-11T09:17:53.951Z"
   },
   {
    "duration": 343,
    "start_time": "2025-06-11T09:20:44.836Z"
   },
   {
    "duration": 126,
    "start_time": "2025-06-11T09:26:53.433Z"
   },
   {
    "duration": 157,
    "start_time": "2025-06-11T09:31:35.273Z"
   },
   {
    "duration": 185,
    "start_time": "2025-06-11T09:31:35.432Z"
   },
   {
    "duration": 107,
    "start_time": "2025-06-11T09:32:23.925Z"
   },
   {
    "duration": 107,
    "start_time": "2025-06-11T09:34:20.273Z"
   },
   {
    "duration": 225,
    "start_time": "2025-06-11T09:34:24.067Z"
   },
   {
    "duration": 114,
    "start_time": "2025-06-11T09:35:23.256Z"
   },
   {
    "duration": 1131,
    "start_time": "2025-06-11T09:35:58.935Z"
   },
   {
    "duration": 2872,
    "start_time": "2025-06-11T09:36:00.069Z"
   },
   {
    "duration": 20,
    "start_time": "2025-06-11T09:36:02.943Z"
   },
   {
    "duration": 41,
    "start_time": "2025-06-11T09:36:02.965Z"
   },
   {
    "duration": 219,
    "start_time": "2025-06-11T09:36:03.008Z"
   },
   {
    "duration": 8,
    "start_time": "2025-06-11T09:36:03.229Z"
   },
   {
    "duration": 236,
    "start_time": "2025-06-11T09:36:03.238Z"
   },
   {
    "duration": 19,
    "start_time": "2025-06-11T09:36:03.475Z"
   },
   {
    "duration": 305,
    "start_time": "2025-06-11T09:36:03.495Z"
   },
   {
    "duration": 2955,
    "start_time": "2025-06-11T09:36:03.803Z"
   },
   {
    "duration": 531,
    "start_time": "2025-06-11T09:36:06.760Z"
   },
   {
    "duration": 4,
    "start_time": "2025-06-11T09:36:07.292Z"
   },
   {
    "duration": 152,
    "start_time": "2025-06-11T09:36:07.297Z"
   },
   {
    "duration": 341,
    "start_time": "2025-06-11T09:36:07.462Z"
   },
   {
    "duration": 325,
    "start_time": "2025-06-11T09:36:07.804Z"
   },
   {
    "duration": 172,
    "start_time": "2025-06-11T09:36:08.130Z"
   },
   {
    "duration": 75,
    "start_time": "2025-06-11T09:36:08.303Z"
   },
   {
    "duration": 527,
    "start_time": "2025-06-11T09:36:08.380Z"
   },
   {
    "duration": 164,
    "start_time": "2025-06-11T09:36:08.909Z"
   },
   {
    "duration": 126,
    "start_time": "2025-06-11T09:36:09.075Z"
   },
   {
    "duration": 44,
    "start_time": "2025-06-11T09:36:09.203Z"
   },
   {
    "duration": 124,
    "start_time": "2025-06-11T09:36:09.249Z"
   },
   {
    "duration": 32,
    "start_time": "2025-06-11T09:36:09.375Z"
   },
   {
    "duration": 18,
    "start_time": "2025-06-11T09:36:09.408Z"
   },
   {
    "duration": 203,
    "start_time": "2025-06-11T09:36:09.428Z"
   },
   {
    "duration": 60,
    "start_time": "2025-06-11T09:36:09.632Z"
   },
   {
    "duration": 37,
    "start_time": "2025-06-11T09:36:09.694Z"
   },
   {
    "duration": 69,
    "start_time": "2025-06-11T09:36:09.736Z"
   },
   {
    "duration": 2,
    "start_time": "2025-06-11T09:36:09.807Z"
   },
   {
    "duration": 14,
    "start_time": "2025-06-11T09:36:09.811Z"
   },
   {
    "duration": 28,
    "start_time": "2025-06-11T09:36:09.826Z"
   },
   {
    "duration": 183,
    "start_time": "2025-06-11T09:36:09.856Z"
   },
   {
    "duration": 173,
    "start_time": "2025-06-11T09:36:10.041Z"
   },
   {
    "duration": 22,
    "start_time": "2025-06-11T09:36:10.216Z"
   },
   {
    "duration": 360,
    "start_time": "2025-06-11T09:36:10.239Z"
   },
   {
    "duration": 162,
    "start_time": "2025-06-11T09:36:10.601Z"
   },
   {
    "duration": 9,
    "start_time": "2025-06-11T09:36:10.765Z"
   },
   {
    "duration": 154,
    "start_time": "2025-06-11T09:36:10.775Z"
   },
   {
    "duration": 51,
    "start_time": "2025-06-11T09:36:10.931Z"
   },
   {
    "duration": 47,
    "start_time": "2025-06-11T09:36:10.983Z"
   },
   {
    "duration": 32,
    "start_time": "2025-06-11T09:36:11.031Z"
   },
   {
    "duration": 31,
    "start_time": "2025-06-11T09:36:11.064Z"
   },
   {
    "duration": 11,
    "start_time": "2025-06-11T09:36:11.096Z"
   },
   {
    "duration": 201,
    "start_time": "2025-06-11T09:36:11.108Z"
   },
   {
    "duration": 114,
    "start_time": "2025-06-11T09:36:11.311Z"
   },
   {
    "duration": 15,
    "start_time": "2025-06-11T09:36:11.426Z"
   },
   {
    "duration": 21,
    "start_time": "2025-06-11T09:36:11.442Z"
   },
   {
    "duration": 82,
    "start_time": "2025-06-11T09:36:11.465Z"
   },
   {
    "duration": 216,
    "start_time": "2025-06-11T09:36:11.548Z"
   },
   {
    "duration": 218,
    "start_time": "2025-06-11T09:36:11.766Z"
   },
   {
    "duration": 78,
    "start_time": "2025-06-11T09:36:11.986Z"
   },
   {
    "duration": 71,
    "start_time": "2025-06-11T09:36:12.066Z"
   },
   {
    "duration": 42,
    "start_time": "2025-06-11T09:36:12.139Z"
   },
   {
    "duration": 29,
    "start_time": "2025-06-11T09:36:12.183Z"
   },
   {
    "duration": 97,
    "start_time": "2025-06-11T09:36:12.213Z"
   },
   {
    "duration": 1170,
    "start_time": "2025-06-11T09:36:12.312Z"
   },
   {
    "duration": 54,
    "start_time": "2025-06-11T09:36:13.483Z"
   },
   {
    "duration": 68,
    "start_time": "2025-06-11T09:36:13.538Z"
   },
   {
    "duration": 8,
    "start_time": "2025-06-11T09:36:13.607Z"
   },
   {
    "duration": 2342,
    "start_time": "2025-06-11T09:36:13.616Z"
   },
   {
    "duration": 82,
    "start_time": "2025-06-11T09:36:15.962Z"
   },
   {
    "duration": 25,
    "start_time": "2025-06-11T09:36:16.046Z"
   },
   {
    "duration": 56,
    "start_time": "2025-06-11T09:36:16.073Z"
   },
   {
    "duration": 356,
    "start_time": "2025-06-11T09:36:16.131Z"
   },
   {
    "duration": 245,
    "start_time": "2025-06-11T09:36:16.488Z"
   },
   {
    "duration": 134,
    "start_time": "2025-06-11T09:36:43.865Z"
   },
   {
    "duration": 26,
    "start_time": "2025-06-11T09:40:15.355Z"
   },
   {
    "duration": 10,
    "start_time": "2025-06-11T09:40:31.404Z"
   },
   {
    "duration": 99,
    "start_time": "2025-06-11T09:42:48.616Z"
   },
   {
    "duration": 14,
    "start_time": "2025-06-11T09:42:53.961Z"
   },
   {
    "duration": 16,
    "start_time": "2025-06-11T09:44:20.367Z"
   },
   {
    "duration": 7,
    "start_time": "2025-06-11T09:44:25.190Z"
   },
   {
    "duration": 8,
    "start_time": "2025-06-11T09:44:37.461Z"
   },
   {
    "duration": 5,
    "start_time": "2025-06-11T09:44:41.242Z"
   },
   {
    "duration": 7,
    "start_time": "2025-06-11T09:45:34.108Z"
   },
   {
    "duration": 6,
    "start_time": "2025-06-11T09:45:41.076Z"
   },
   {
    "duration": 6,
    "start_time": "2025-06-11T09:48:08.610Z"
   },
   {
    "duration": 5,
    "start_time": "2025-06-11T09:50:22.437Z"
   },
   {
    "duration": 11,
    "start_time": "2025-06-11T09:50:28.702Z"
   },
   {
    "duration": 3,
    "start_time": "2025-06-11T09:50:59.234Z"
   },
   {
    "duration": 5,
    "start_time": "2025-06-11T09:51:04.440Z"
   },
   {
    "duration": 6,
    "start_time": "2025-06-11T09:52:01.910Z"
   },
   {
    "duration": 9,
    "start_time": "2025-06-11T09:52:08.051Z"
   },
   {
    "duration": 3,
    "start_time": "2025-06-11T09:52:21.186Z"
   },
   {
    "duration": 6,
    "start_time": "2025-06-11T09:52:25.535Z"
   },
   {
    "duration": 14,
    "start_time": "2025-06-11T09:56:16.569Z"
   },
   {
    "duration": 8,
    "start_time": "2025-06-11T10:12:57.678Z"
   },
   {
    "duration": 9,
    "start_time": "2025-06-11T10:14:15.018Z"
   },
   {
    "duration": 9,
    "start_time": "2025-06-11T10:16:28.761Z"
   },
   {
    "duration": 1084,
    "start_time": "2025-06-11T12:27:45.854Z"
   },
   {
    "duration": 6491,
    "start_time": "2025-06-11T12:27:46.939Z"
   },
   {
    "duration": 12,
    "start_time": "2025-06-11T12:27:53.431Z"
   },
   {
    "duration": 53,
    "start_time": "2025-06-11T12:27:53.445Z"
   },
   {
    "duration": 211,
    "start_time": "2025-06-11T12:27:53.500Z"
   },
   {
    "duration": 8,
    "start_time": "2025-06-11T12:27:53.713Z"
   },
   {
    "duration": 168,
    "start_time": "2025-06-11T12:27:53.722Z"
   },
   {
    "duration": 17,
    "start_time": "2025-06-11T12:27:53.891Z"
   },
   {
    "duration": 353,
    "start_time": "2025-06-11T12:27:53.909Z"
   },
   {
    "duration": 3017,
    "start_time": "2025-06-11T12:27:54.265Z"
   },
   {
    "duration": 511,
    "start_time": "2025-06-11T12:27:57.284Z"
   },
   {
    "duration": 5,
    "start_time": "2025-06-11T12:27:57.796Z"
   },
   {
    "duration": 214,
    "start_time": "2025-06-11T12:27:57.803Z"
   },
   {
    "duration": 376,
    "start_time": "2025-06-11T12:27:58.018Z"
   },
   {
    "duration": 309,
    "start_time": "2025-06-11T12:27:58.396Z"
   },
   {
    "duration": 188,
    "start_time": "2025-06-11T12:27:58.706Z"
   },
   {
    "duration": 70,
    "start_time": "2025-06-11T12:27:58.895Z"
   },
   {
    "duration": 551,
    "start_time": "2025-06-11T12:27:58.967Z"
   },
   {
    "duration": 162,
    "start_time": "2025-06-11T12:27:59.520Z"
   },
   {
    "duration": 136,
    "start_time": "2025-06-11T12:27:59.683Z"
   },
   {
    "duration": 12,
    "start_time": "2025-06-11T12:27:59.820Z"
   },
   {
    "duration": 172,
    "start_time": "2025-06-11T12:27:59.833Z"
   },
   {
    "duration": 36,
    "start_time": "2025-06-11T12:28:00.007Z"
   },
   {
    "duration": 83,
    "start_time": "2025-06-11T12:28:00.044Z"
   },
   {
    "duration": 186,
    "start_time": "2025-06-11T12:28:00.129Z"
   },
   {
    "duration": 53,
    "start_time": "2025-06-11T12:28:00.317Z"
   },
   {
    "duration": 37,
    "start_time": "2025-06-11T12:28:00.372Z"
   },
   {
    "duration": 25,
    "start_time": "2025-06-11T12:28:00.413Z"
   },
   {
    "duration": 3,
    "start_time": "2025-06-11T12:28:00.439Z"
   },
   {
    "duration": 32,
    "start_time": "2025-06-11T12:28:00.443Z"
   },
   {
    "duration": 144,
    "start_time": "2025-06-11T12:28:00.476Z"
   },
   {
    "duration": 173,
    "start_time": "2025-06-11T12:28:00.622Z"
   },
   {
    "duration": 159,
    "start_time": "2025-06-11T12:28:00.797Z"
   },
   {
    "duration": 22,
    "start_time": "2025-06-11T12:28:00.961Z"
   },
   {
    "duration": 312,
    "start_time": "2025-06-11T12:28:00.984Z"
   },
   {
    "duration": 169,
    "start_time": "2025-06-11T12:28:01.297Z"
   },
   {
    "duration": 7,
    "start_time": "2025-06-11T12:28:01.468Z"
   },
   {
    "duration": 178,
    "start_time": "2025-06-11T12:28:01.477Z"
   },
   {
    "duration": 47,
    "start_time": "2025-06-11T12:28:01.658Z"
   },
   {
    "duration": 59,
    "start_time": "2025-06-11T12:28:01.707Z"
   },
   {
    "duration": 19,
    "start_time": "2025-06-11T12:28:01.767Z"
   },
   {
    "duration": 117,
    "start_time": "2025-06-11T12:28:01.787Z"
   },
   {
    "duration": 130,
    "start_time": "2025-06-11T12:28:01.905Z"
   },
   {
    "duration": 10,
    "start_time": "2025-06-11T12:28:02.037Z"
   },
   {
    "duration": 9,
    "start_time": "2025-06-11T12:28:02.048Z"
   },
   {
    "duration": 64,
    "start_time": "2025-06-11T12:28:02.058Z"
   },
   {
    "duration": 6,
    "start_time": "2025-06-11T12:28:02.123Z"
   },
   {
    "duration": 76,
    "start_time": "2025-06-11T12:28:02.130Z"
   },
   {
    "duration": 227,
    "start_time": "2025-06-11T12:28:02.208Z"
   },
   {
    "duration": 214,
    "start_time": "2025-06-11T12:28:02.436Z"
   },
   {
    "duration": 75,
    "start_time": "2025-06-11T12:28:02.651Z"
   },
   {
    "duration": 81,
    "start_time": "2025-06-11T12:28:02.728Z"
   },
   {
    "duration": 34,
    "start_time": "2025-06-11T12:28:02.811Z"
   },
   {
    "duration": 42,
    "start_time": "2025-06-11T12:28:02.847Z"
   },
   {
    "duration": 63,
    "start_time": "2025-06-11T12:28:02.891Z"
   },
   {
    "duration": 1154,
    "start_time": "2025-06-11T12:28:02.956Z"
   },
   {
    "duration": 62,
    "start_time": "2025-06-11T12:28:04.112Z"
   },
   {
    "duration": 66,
    "start_time": "2025-06-11T12:28:04.176Z"
   },
   {
    "duration": 18,
    "start_time": "2025-06-11T12:28:04.244Z"
   },
   {
    "duration": 2346,
    "start_time": "2025-06-11T12:28:04.264Z"
   },
   {
    "duration": 88,
    "start_time": "2025-06-11T12:28:06.612Z"
   },
   {
    "duration": 13,
    "start_time": "2025-06-11T12:28:06.702Z"
   },
   {
    "duration": 69,
    "start_time": "2025-06-11T12:28:06.716Z"
   },
   {
    "duration": 99,
    "start_time": "2025-06-11T12:28:06.787Z"
   },
   {
    "duration": 0,
    "start_time": "2025-06-11T12:28:06.887Z"
   },
   {
    "duration": 0,
    "start_time": "2025-06-11T12:28:06.888Z"
   },
   {
    "duration": 152,
    "start_time": "2025-06-11T12:29:22.196Z"
   },
   {
    "duration": 96,
    "start_time": "2025-06-11T12:29:39.213Z"
   },
   {
    "duration": 97,
    "start_time": "2025-06-11T12:32:58.538Z"
   },
   {
    "duration": 840,
    "start_time": "2025-06-11T12:33:13.344Z"
   },
   {
    "duration": 100757,
    "start_time": "2025-06-11T12:33:46.398Z"
   },
   {
    "duration": 102522,
    "start_time": "2025-06-11T12:35:58.907Z"
   },
   {
    "duration": 102,
    "start_time": "2025-06-11T12:38:58.548Z"
   },
   {
    "duration": 97,
    "start_time": "2025-06-11T12:47:41.574Z"
   },
   {
    "duration": 96,
    "start_time": "2025-06-11T12:52:52.361Z"
   },
   {
    "duration": 18,
    "start_time": "2025-06-11T12:53:04.675Z"
   },
   {
    "duration": 1099,
    "start_time": "2025-06-11T12:53:19.252Z"
   },
   {
    "duration": 5058,
    "start_time": "2025-06-11T12:53:20.353Z"
   },
   {
    "duration": 14,
    "start_time": "2025-06-11T12:53:25.412Z"
   },
   {
    "duration": 65,
    "start_time": "2025-06-11T12:53:25.428Z"
   },
   {
    "duration": 207,
    "start_time": "2025-06-11T12:53:25.495Z"
   },
   {
    "duration": 8,
    "start_time": "2025-06-11T12:53:25.703Z"
   },
   {
    "duration": 155,
    "start_time": "2025-06-11T12:53:25.713Z"
   },
   {
    "duration": 19,
    "start_time": "2025-06-11T12:53:25.870Z"
   },
   {
    "duration": 338,
    "start_time": "2025-06-11T12:53:25.891Z"
   },
   {
    "duration": 2887,
    "start_time": "2025-06-11T12:53:26.232Z"
   },
   {
    "duration": 543,
    "start_time": "2025-06-11T12:53:29.120Z"
   },
   {
    "duration": 4,
    "start_time": "2025-06-11T12:53:29.664Z"
   },
   {
    "duration": 153,
    "start_time": "2025-06-11T12:53:29.670Z"
   },
   {
    "duration": 398,
    "start_time": "2025-06-11T12:53:29.824Z"
   },
   {
    "duration": 340,
    "start_time": "2025-06-11T12:53:30.223Z"
   },
   {
    "duration": 201,
    "start_time": "2025-06-11T12:53:30.564Z"
   },
   {
    "duration": 73,
    "start_time": "2025-06-11T12:53:30.766Z"
   },
   {
    "duration": 562,
    "start_time": "2025-06-11T12:53:30.862Z"
   },
   {
    "duration": 181,
    "start_time": "2025-06-11T12:53:31.426Z"
   },
   {
    "duration": 147,
    "start_time": "2025-06-11T12:53:31.609Z"
   },
   {
    "duration": 12,
    "start_time": "2025-06-11T12:53:31.757Z"
   },
   {
    "duration": 153,
    "start_time": "2025-06-11T12:53:31.770Z"
   },
   {
    "duration": 33,
    "start_time": "2025-06-11T12:53:31.925Z"
   },
   {
    "duration": 18,
    "start_time": "2025-06-11T12:53:31.962Z"
   },
   {
    "duration": 205,
    "start_time": "2025-06-11T12:53:31.981Z"
   },
   {
    "duration": 47,
    "start_time": "2025-06-11T12:53:32.188Z"
   },
   {
    "duration": 39,
    "start_time": "2025-06-11T12:53:32.237Z"
   },
   {
    "duration": 10,
    "start_time": "2025-06-11T12:53:32.280Z"
   },
   {
    "duration": 12,
    "start_time": "2025-06-11T12:53:32.292Z"
   },
   {
    "duration": 4,
    "start_time": "2025-06-11T12:53:32.306Z"
   },
   {
    "duration": 17,
    "start_time": "2025-06-11T12:53:32.311Z"
   },
   {
    "duration": 187,
    "start_time": "2025-06-11T12:53:32.330Z"
   },
   {
    "duration": 170,
    "start_time": "2025-06-11T12:53:32.519Z"
   },
   {
    "duration": 23,
    "start_time": "2025-06-11T12:53:32.691Z"
   },
   {
    "duration": 319,
    "start_time": "2025-06-11T12:53:32.716Z"
   },
   {
    "duration": 164,
    "start_time": "2025-06-11T12:53:33.036Z"
   },
   {
    "duration": 8,
    "start_time": "2025-06-11T12:53:33.201Z"
   },
   {
    "duration": 149,
    "start_time": "2025-06-11T12:53:33.211Z"
   },
   {
    "duration": 45,
    "start_time": "2025-06-11T12:53:33.362Z"
   },
   {
    "duration": 59,
    "start_time": "2025-06-11T12:53:33.409Z"
   },
   {
    "duration": 18,
    "start_time": "2025-06-11T12:53:33.469Z"
   },
   {
    "duration": 53,
    "start_time": "2025-06-11T12:53:33.489Z"
   },
   {
    "duration": 10,
    "start_time": "2025-06-11T12:53:33.544Z"
   },
   {
    "duration": 9,
    "start_time": "2025-06-11T12:53:33.555Z"
   },
   {
    "duration": 28,
    "start_time": "2025-06-11T12:53:33.566Z"
   },
   {
    "duration": 25,
    "start_time": "2025-06-11T12:53:33.596Z"
   },
   {
    "duration": 7,
    "start_time": "2025-06-11T12:53:33.623Z"
   },
   {
    "duration": 83,
    "start_time": "2025-06-11T12:53:33.631Z"
   },
   {
    "duration": 213,
    "start_time": "2025-06-11T12:53:33.717Z"
   },
   {
    "duration": 214,
    "start_time": "2025-06-11T12:53:33.931Z"
   },
   {
    "duration": 78,
    "start_time": "2025-06-11T12:53:34.147Z"
   },
   {
    "duration": 87,
    "start_time": "2025-06-11T12:53:34.226Z"
   },
   {
    "duration": 34,
    "start_time": "2025-06-11T12:53:34.314Z"
   },
   {
    "duration": 46,
    "start_time": "2025-06-11T12:53:34.349Z"
   },
   {
    "duration": 37,
    "start_time": "2025-06-11T12:53:34.397Z"
   },
   {
    "duration": 1182,
    "start_time": "2025-06-11T12:53:34.436Z"
   },
   {
    "duration": 64,
    "start_time": "2025-06-11T12:53:35.620Z"
   },
   {
    "duration": 60,
    "start_time": "2025-06-11T12:53:35.685Z"
   },
   {
    "duration": 16,
    "start_time": "2025-06-11T12:53:35.747Z"
   },
   {
    "duration": 2371,
    "start_time": "2025-06-11T12:53:35.764Z"
   },
   {
    "duration": 88,
    "start_time": "2025-06-11T12:53:38.138Z"
   },
   {
    "duration": 12,
    "start_time": "2025-06-11T12:53:38.228Z"
   },
   {
    "duration": 66,
    "start_time": "2025-06-11T12:53:38.242Z"
   },
   {
    "duration": 108,
    "start_time": "2025-06-11T12:53:38.310Z"
   },
   {
    "duration": 0,
    "start_time": "2025-06-11T12:53:38.419Z"
   },
   {
    "duration": 0,
    "start_time": "2025-06-11T12:53:38.420Z"
   },
   {
    "duration": 0,
    "start_time": "2025-06-11T12:53:38.421Z"
   },
   {
    "duration": 100538,
    "start_time": "2025-06-11T12:55:21.827Z"
   },
   {
    "duration": 99,
    "start_time": "2025-06-11T12:58:00.547Z"
   },
   {
    "duration": 100271,
    "start_time": "2025-06-11T12:58:27.820Z"
   },
   {
    "duration": 3,
    "start_time": "2025-06-11T13:00:31.251Z"
   },
   {
    "duration": 3,
    "start_time": "2025-06-11T13:00:37.632Z"
   },
   {
    "duration": 101150,
    "start_time": "2025-06-11T13:05:07.979Z"
   },
   {
    "duration": 100,
    "start_time": "2025-06-11T13:07:17.147Z"
   },
   {
    "duration": 1167,
    "start_time": "2025-06-11T13:10:19.869Z"
   },
   {
    "duration": 2414,
    "start_time": "2025-06-11T13:10:21.038Z"
   },
   {
    "duration": 12,
    "start_time": "2025-06-11T13:10:23.454Z"
   },
   {
    "duration": 42,
    "start_time": "2025-06-11T13:10:23.468Z"
   },
   {
    "duration": 230,
    "start_time": "2025-06-11T13:10:23.511Z"
   },
   {
    "duration": 24,
    "start_time": "2025-06-11T13:10:23.742Z"
   },
   {
    "duration": 146,
    "start_time": "2025-06-11T13:10:23.768Z"
   },
   {
    "duration": 18,
    "start_time": "2025-06-11T13:10:23.915Z"
   },
   {
    "duration": 329,
    "start_time": "2025-06-11T13:10:23.934Z"
   },
   {
    "duration": 2901,
    "start_time": "2025-06-11T13:10:24.266Z"
   },
   {
    "duration": 550,
    "start_time": "2025-06-11T13:10:27.168Z"
   },
   {
    "duration": 4,
    "start_time": "2025-06-11T13:10:27.720Z"
   },
   {
    "duration": 176,
    "start_time": "2025-06-11T13:10:27.725Z"
   },
   {
    "duration": 396,
    "start_time": "2025-06-11T13:10:27.902Z"
   },
   {
    "duration": 340,
    "start_time": "2025-06-11T13:10:28.299Z"
   },
   {
    "duration": 201,
    "start_time": "2025-06-11T13:10:28.641Z"
   },
   {
    "duration": 79,
    "start_time": "2025-06-11T13:10:28.844Z"
   },
   {
    "duration": 599,
    "start_time": "2025-06-11T13:10:28.925Z"
   },
   {
    "duration": 187,
    "start_time": "2025-06-11T13:10:29.526Z"
   },
   {
    "duration": 151,
    "start_time": "2025-06-11T13:10:29.715Z"
   },
   {
    "duration": 12,
    "start_time": "2025-06-11T13:10:29.868Z"
   },
   {
    "duration": 156,
    "start_time": "2025-06-11T13:10:29.883Z"
   },
   {
    "duration": 44,
    "start_time": "2025-06-11T13:10:30.041Z"
   },
   {
    "duration": 45,
    "start_time": "2025-06-11T13:10:30.087Z"
   },
   {
    "duration": 320,
    "start_time": "2025-06-11T13:10:30.133Z"
   },
   {
    "duration": 60,
    "start_time": "2025-06-11T13:10:30.455Z"
   },
   {
    "duration": 53,
    "start_time": "2025-06-11T13:10:30.517Z"
   },
   {
    "duration": 10,
    "start_time": "2025-06-11T13:10:30.574Z"
   },
   {
    "duration": 123,
    "start_time": "2025-06-11T13:10:30.586Z"
   },
   {
    "duration": 107,
    "start_time": "2025-06-11T13:10:30.711Z"
   },
   {
    "duration": 46,
    "start_time": "2025-06-11T13:10:30.820Z"
   },
   {
    "duration": 179,
    "start_time": "2025-06-11T13:10:30.868Z"
   },
   {
    "duration": 167,
    "start_time": "2025-06-11T13:10:31.049Z"
   },
   {
    "duration": 24,
    "start_time": "2025-06-11T13:10:31.218Z"
   },
   {
    "duration": 333,
    "start_time": "2025-06-11T13:10:31.244Z"
   },
   {
    "duration": 178,
    "start_time": "2025-06-11T13:10:31.579Z"
   },
   {
    "duration": 8,
    "start_time": "2025-06-11T13:10:31.761Z"
   },
   {
    "duration": 164,
    "start_time": "2025-06-11T13:10:31.771Z"
   },
   {
    "duration": 57,
    "start_time": "2025-06-11T13:10:31.936Z"
   },
   {
    "duration": 92,
    "start_time": "2025-06-11T13:10:31.994Z"
   },
   {
    "duration": 19,
    "start_time": "2025-06-11T13:10:32.087Z"
   },
   {
    "duration": 39,
    "start_time": "2025-06-11T13:10:32.108Z"
   },
   {
    "duration": 79,
    "start_time": "2025-06-11T13:10:32.149Z"
   },
   {
    "duration": 7,
    "start_time": "2025-06-11T13:10:32.229Z"
   },
   {
    "duration": 10,
    "start_time": "2025-06-11T13:10:32.237Z"
   },
   {
    "duration": 26,
    "start_time": "2025-06-11T13:10:32.248Z"
   },
   {
    "duration": 31,
    "start_time": "2025-06-11T13:10:32.276Z"
   },
   {
    "duration": 81,
    "start_time": "2025-06-11T13:10:32.308Z"
   },
   {
    "duration": 237,
    "start_time": "2025-06-11T13:10:32.390Z"
   },
   {
    "duration": 224,
    "start_time": "2025-06-11T13:10:32.629Z"
   },
   {
    "duration": 72,
    "start_time": "2025-06-11T13:10:32.855Z"
   },
   {
    "duration": 84,
    "start_time": "2025-06-11T13:10:32.929Z"
   },
   {
    "duration": 35,
    "start_time": "2025-06-11T13:10:33.015Z"
   },
   {
    "duration": 70,
    "start_time": "2025-06-11T13:10:33.051Z"
   },
   {
    "duration": 25,
    "start_time": "2025-06-11T13:10:33.122Z"
   },
   {
    "duration": 1195,
    "start_time": "2025-06-11T13:10:33.149Z"
   },
   {
    "duration": 62,
    "start_time": "2025-06-11T13:10:34.346Z"
   },
   {
    "duration": 70,
    "start_time": "2025-06-11T13:10:34.410Z"
   },
   {
    "duration": 8,
    "start_time": "2025-06-11T13:10:34.481Z"
   },
   {
    "duration": 2413,
    "start_time": "2025-06-11T13:10:34.491Z"
   },
   {
    "duration": 92,
    "start_time": "2025-06-11T13:10:36.905Z"
   },
   {
    "duration": 13,
    "start_time": "2025-06-11T13:10:36.999Z"
   },
   {
    "duration": 125,
    "start_time": "2025-06-11T13:10:37.013Z"
   },
   {
    "duration": 101851,
    "start_time": "2025-06-11T13:10:37.139Z"
   },
   {
    "duration": 104,
    "start_time": "2025-06-11T13:12:18.992Z"
   },
   {
    "duration": 2,
    "start_time": "2025-06-11T13:12:19.097Z"
   },
   {
    "duration": 25,
    "start_time": "2025-06-11T13:12:19.100Z"
   },
   {
    "duration": 1205,
    "start_time": "2025-06-11T17:28:36.201Z"
   },
   {
    "duration": 1687,
    "start_time": "2025-06-11T17:28:37.408Z"
   },
   {
    "duration": 12,
    "start_time": "2025-06-11T17:28:39.097Z"
   },
   {
    "duration": 105,
    "start_time": "2025-06-11T17:28:39.111Z"
   },
   {
    "duration": 218,
    "start_time": "2025-06-11T17:28:39.218Z"
   },
   {
    "duration": 8,
    "start_time": "2025-06-11T17:28:39.438Z"
   },
   {
    "duration": 175,
    "start_time": "2025-06-11T17:28:39.447Z"
   },
   {
    "duration": 18,
    "start_time": "2025-06-11T17:28:39.623Z"
   },
   {
    "duration": 330,
    "start_time": "2025-06-11T17:28:39.642Z"
   },
   {
    "duration": 3050,
    "start_time": "2025-06-11T17:28:39.974Z"
   },
   {
    "duration": 583,
    "start_time": "2025-06-11T17:28:43.035Z"
   },
   {
    "duration": 17,
    "start_time": "2025-06-11T17:28:43.620Z"
   },
   {
    "duration": 256,
    "start_time": "2025-06-11T17:28:43.639Z"
   },
   {
    "duration": 430,
    "start_time": "2025-06-11T17:28:43.898Z"
   },
   {
    "duration": 344,
    "start_time": "2025-06-11T17:28:44.330Z"
   },
   {
    "duration": 212,
    "start_time": "2025-06-11T17:28:44.675Z"
   },
   {
    "duration": 79,
    "start_time": "2025-06-11T17:28:44.888Z"
   },
   {
    "duration": 587,
    "start_time": "2025-06-11T17:28:44.969Z"
   },
   {
    "duration": 165,
    "start_time": "2025-06-11T17:28:45.558Z"
   },
   {
    "duration": 139,
    "start_time": "2025-06-11T17:28:45.724Z"
   },
   {
    "duration": 11,
    "start_time": "2025-06-11T17:28:45.864Z"
   },
   {
    "duration": 210,
    "start_time": "2025-06-11T17:28:45.877Z"
   },
   {
    "duration": 38,
    "start_time": "2025-06-11T17:28:46.089Z"
   },
   {
    "duration": 20,
    "start_time": "2025-06-11T17:28:46.135Z"
   },
   {
    "duration": 379,
    "start_time": "2025-06-11T17:28:46.156Z"
   },
   {
    "duration": 58,
    "start_time": "2025-06-11T17:28:46.538Z"
   },
   {
    "duration": 53,
    "start_time": "2025-06-11T17:28:46.598Z"
   },
   {
    "duration": 54,
    "start_time": "2025-06-11T17:28:46.652Z"
   },
   {
    "duration": 20,
    "start_time": "2025-06-11T17:28:46.708Z"
   },
   {
    "duration": 4,
    "start_time": "2025-06-11T17:28:46.730Z"
   },
   {
    "duration": 31,
    "start_time": "2025-06-11T17:28:46.736Z"
   },
   {
    "duration": 183,
    "start_time": "2025-06-11T17:28:46.769Z"
   },
   {
    "duration": 172,
    "start_time": "2025-06-11T17:28:46.954Z"
   },
   {
    "duration": 24,
    "start_time": "2025-06-11T17:28:47.136Z"
   },
   {
    "duration": 331,
    "start_time": "2025-06-11T17:28:47.161Z"
   },
   {
    "duration": 178,
    "start_time": "2025-06-11T17:28:47.493Z"
   },
   {
    "duration": 9,
    "start_time": "2025-06-11T17:28:47.673Z"
   },
   {
    "duration": 160,
    "start_time": "2025-06-11T17:28:47.684Z"
   },
   {
    "duration": 49,
    "start_time": "2025-06-11T17:28:47.846Z"
   },
   {
    "duration": 62,
    "start_time": "2025-06-11T17:28:47.897Z"
   },
   {
    "duration": 19,
    "start_time": "2025-06-11T17:28:47.963Z"
   },
   {
    "duration": 34,
    "start_time": "2025-06-11T17:28:47.984Z"
   },
   {
    "duration": 12,
    "start_time": "2025-06-11T17:28:48.036Z"
   },
   {
    "duration": 8,
    "start_time": "2025-06-11T17:28:48.049Z"
   },
   {
    "duration": 8,
    "start_time": "2025-06-11T17:28:48.059Z"
   },
   {
    "duration": 15,
    "start_time": "2025-06-11T17:28:48.068Z"
   },
   {
    "duration": 6,
    "start_time": "2025-06-11T17:28:48.084Z"
   },
   {
    "duration": 114,
    "start_time": "2025-06-11T17:28:48.091Z"
   },
   {
    "duration": 257,
    "start_time": "2025-06-11T17:28:48.207Z"
   },
   {
    "duration": 229,
    "start_time": "2025-06-11T17:28:48.465Z"
   },
   {
    "duration": 82,
    "start_time": "2025-06-11T17:28:48.695Z"
   },
   {
    "duration": 83,
    "start_time": "2025-06-11T17:28:48.779Z"
   },
   {
    "duration": 37,
    "start_time": "2025-06-11T17:28:48.864Z"
   },
   {
    "duration": 47,
    "start_time": "2025-06-11T17:28:48.902Z"
   },
   {
    "duration": 26,
    "start_time": "2025-06-11T17:28:48.951Z"
   },
   {
    "duration": 1279,
    "start_time": "2025-06-11T17:28:48.979Z"
   },
   {
    "duration": 61,
    "start_time": "2025-06-11T17:28:50.259Z"
   },
   {
    "duration": 97,
    "start_time": "2025-06-11T17:28:50.322Z"
   },
   {
    "duration": 9,
    "start_time": "2025-06-11T17:28:50.420Z"
   },
   {
    "duration": 7821,
    "start_time": "2025-06-11T17:28:50.430Z"
   },
   {
    "duration": 92,
    "start_time": "2025-06-11T17:28:58.253Z"
   },
   {
    "duration": 14,
    "start_time": "2025-06-11T17:28:58.347Z"
   },
   {
    "duration": 75,
    "start_time": "2025-06-11T17:28:58.363Z"
   },
   {
    "duration": 91669,
    "start_time": "2025-06-11T17:28:58.439Z"
   },
   {
    "duration": 0,
    "start_time": "2025-06-11T17:30:30.110Z"
   },
   {
    "duration": 0,
    "start_time": "2025-06-11T17:30:30.111Z"
   },
   {
    "duration": 0,
    "start_time": "2025-06-11T17:30:30.113Z"
   },
   {
    "duration": 0,
    "start_time": "2025-06-11T17:30:30.115Z"
   },
   {
    "duration": 3,
    "start_time": "2025-06-11T17:30:31.713Z"
   },
   {
    "duration": 1837,
    "start_time": "2025-06-11T17:30:31.724Z"
   },
   {
    "duration": 75,
    "start_time": "2025-06-11T17:30:33.563Z"
   },
   {
    "duration": 59,
    "start_time": "2025-06-11T17:30:33.640Z"
   },
   {
    "duration": 250,
    "start_time": "2025-06-11T17:30:33.700Z"
   },
   {
    "duration": 9,
    "start_time": "2025-06-11T17:30:33.953Z"
   },
   {
    "duration": 165,
    "start_time": "2025-06-11T17:30:33.964Z"
   },
   {
    "duration": 22,
    "start_time": "2025-06-11T17:30:34.131Z"
   },
   {
    "duration": 415,
    "start_time": "2025-06-11T17:30:34.155Z"
   },
   {
    "duration": 3377,
    "start_time": "2025-06-11T17:30:34.572Z"
   },
   {
    "duration": 607,
    "start_time": "2025-06-11T17:30:37.951Z"
   },
   {
    "duration": 5,
    "start_time": "2025-06-11T17:30:38.560Z"
   },
   {
    "duration": 284,
    "start_time": "2025-06-11T17:30:38.567Z"
   },
   {
    "duration": 440,
    "start_time": "2025-06-11T17:30:38.852Z"
   },
   {
    "duration": 362,
    "start_time": "2025-06-11T17:30:39.295Z"
   },
   {
    "duration": 218,
    "start_time": "2025-06-11T17:30:39.658Z"
   },
   {
    "duration": 83,
    "start_time": "2025-06-11T17:30:39.877Z"
   },
   {
    "duration": 613,
    "start_time": "2025-06-11T17:30:39.963Z"
   },
   {
    "duration": 167,
    "start_time": "2025-06-11T17:30:40.577Z"
   },
   {
    "duration": 140,
    "start_time": "2025-06-11T17:30:40.747Z"
   },
   {
    "duration": 13,
    "start_time": "2025-06-11T17:30:40.889Z"
   },
   {
    "duration": 154,
    "start_time": "2025-06-11T17:30:40.904Z"
   },
   {
    "duration": 36,
    "start_time": "2025-06-11T17:30:41.060Z"
   },
   {
    "duration": 37,
    "start_time": "2025-06-11T17:30:41.098Z"
   },
   {
    "duration": 257,
    "start_time": "2025-06-11T17:30:41.137Z"
   },
   {
    "duration": 62,
    "start_time": "2025-06-11T17:30:41.396Z"
   },
   {
    "duration": 73,
    "start_time": "2025-06-11T17:30:41.459Z"
   },
   {
    "duration": 10,
    "start_time": "2025-06-11T17:30:41.534Z"
   },
   {
    "duration": 3,
    "start_time": "2025-06-11T17:30:41.545Z"
   },
   {
    "duration": 5,
    "start_time": "2025-06-11T17:30:41.550Z"
   },
   {
    "duration": 22,
    "start_time": "2025-06-11T17:30:41.557Z"
   },
   {
    "duration": 212,
    "start_time": "2025-06-11T17:30:41.580Z"
   },
   {
    "duration": 181,
    "start_time": "2025-06-11T17:30:41.794Z"
   },
   {
    "duration": 28,
    "start_time": "2025-06-11T17:30:41.977Z"
   },
   {
    "duration": 454,
    "start_time": "2025-06-11T17:30:42.007Z"
   },
   {
    "duration": 210,
    "start_time": "2025-06-11T17:30:42.462Z"
   },
   {
    "duration": 9,
    "start_time": "2025-06-11T17:30:42.674Z"
   },
   {
    "duration": 165,
    "start_time": "2025-06-11T17:30:42.685Z"
   },
   {
    "duration": 51,
    "start_time": "2025-06-11T17:30:42.851Z"
   },
   {
    "duration": 75,
    "start_time": "2025-06-11T17:30:42.904Z"
   },
   {
    "duration": 22,
    "start_time": "2025-06-11T17:30:42.981Z"
   },
   {
    "duration": 57,
    "start_time": "2025-06-11T17:30:43.008Z"
   },
   {
    "duration": 14,
    "start_time": "2025-06-11T17:30:43.067Z"
   },
   {
    "duration": 15,
    "start_time": "2025-06-11T17:30:43.083Z"
   },
   {
    "duration": 20,
    "start_time": "2025-06-11T17:30:43.099Z"
   },
   {
    "duration": 77,
    "start_time": "2025-06-11T17:30:43.121Z"
   },
   {
    "duration": 7,
    "start_time": "2025-06-11T17:30:43.200Z"
   },
   {
    "duration": 8,
    "start_time": "2025-06-11T17:30:43.209Z"
   },
   {
    "duration": 85,
    "start_time": "2025-06-11T17:30:43.218Z"
   },
   {
    "duration": 264,
    "start_time": "2025-06-11T17:30:43.304Z"
   },
   {
    "duration": 222,
    "start_time": "2025-06-11T17:30:43.570Z"
   },
   {
    "duration": 87,
    "start_time": "2025-06-11T17:30:43.794Z"
   },
   {
    "duration": 87,
    "start_time": "2025-06-11T17:30:43.882Z"
   },
   {
    "duration": 39,
    "start_time": "2025-06-11T17:30:43.971Z"
   },
   {
    "duration": 44,
    "start_time": "2025-06-11T17:30:44.012Z"
   },
   {
    "duration": 51,
    "start_time": "2025-06-11T17:30:44.058Z"
   },
   {
    "duration": 1327,
    "start_time": "2025-06-11T17:30:44.111Z"
   },
   {
    "duration": 66,
    "start_time": "2025-06-11T17:30:45.440Z"
   },
   {
    "duration": 98,
    "start_time": "2025-06-11T17:30:45.507Z"
   },
   {
    "duration": 10,
    "start_time": "2025-06-11T17:30:45.607Z"
   },
   {
    "duration": 2640,
    "start_time": "2025-06-11T17:30:45.619Z"
   },
   {
    "duration": 105,
    "start_time": "2025-06-11T17:30:48.261Z"
   },
   {
    "duration": 83,
    "start_time": "2025-06-11T17:30:48.368Z"
   },
   {
    "duration": 499,
    "start_time": "2025-06-11T17:30:48.453Z"
   },
   {
    "duration": 103133,
    "start_time": "2025-06-11T17:30:48.954Z"
   },
   {
    "duration": 124,
    "start_time": "2025-06-11T17:32:32.088Z"
   },
   {
    "duration": 2,
    "start_time": "2025-06-11T17:32:32.214Z"
   },
   {
    "duration": 134,
    "start_time": "2025-06-11T17:32:32.217Z"
   },
   {
    "duration": 3,
    "start_time": "2025-06-12T12:58:02.605Z"
   },
   {
    "duration": 3,
    "start_time": "2025-06-12T12:58:09.417Z"
   },
   {
    "duration": 56,
    "start_time": "2025-06-12T13:13:13.312Z"
   },
   {
    "duration": 1311,
    "start_time": "2025-06-12T13:13:20.884Z"
   },
   {
    "duration": 1895,
    "start_time": "2025-06-12T13:13:22.198Z"
   },
   {
    "duration": 15,
    "start_time": "2025-06-12T13:13:24.095Z"
   },
   {
    "duration": 66,
    "start_time": "2025-06-12T13:13:24.112Z"
   },
   {
    "duration": 252,
    "start_time": "2025-06-12T13:13:24.179Z"
   },
   {
    "duration": 9,
    "start_time": "2025-06-12T13:13:24.432Z"
   },
   {
    "duration": 171,
    "start_time": "2025-06-12T13:13:24.442Z"
   },
   {
    "duration": 20,
    "start_time": "2025-06-12T13:13:24.615Z"
   },
   {
    "duration": 500,
    "start_time": "2025-06-12T13:13:24.638Z"
   },
   {
    "duration": 4057,
    "start_time": "2025-06-12T13:13:25.141Z"
   },
   {
    "duration": 615,
    "start_time": "2025-06-12T13:13:29.200Z"
   },
   {
    "duration": 5,
    "start_time": "2025-06-12T13:13:29.816Z"
   },
   {
    "duration": 445,
    "start_time": "2025-06-12T13:13:29.823Z"
   },
   {
    "duration": 418,
    "start_time": "2025-06-12T13:13:30.270Z"
   },
   {
    "duration": 372,
    "start_time": "2025-06-12T13:13:30.690Z"
   },
   {
    "duration": 226,
    "start_time": "2025-06-12T13:13:31.063Z"
   },
   {
    "duration": 90,
    "start_time": "2025-06-12T13:13:31.291Z"
   },
   {
    "duration": 671,
    "start_time": "2025-06-12T13:13:31.383Z"
   },
   {
    "duration": 189,
    "start_time": "2025-06-12T13:13:32.056Z"
   },
   {
    "duration": 143,
    "start_time": "2025-06-12T13:13:32.247Z"
   },
   {
    "duration": 12,
    "start_time": "2025-06-12T13:13:32.392Z"
   },
   {
    "duration": 151,
    "start_time": "2025-06-12T13:13:32.406Z"
   },
   {
    "duration": 40,
    "start_time": "2025-06-12T13:13:32.559Z"
   },
   {
    "duration": 21,
    "start_time": "2025-06-12T13:13:32.601Z"
   },
   {
    "duration": 399,
    "start_time": "2025-06-12T13:13:32.624Z"
   },
   {
    "duration": 65,
    "start_time": "2025-06-12T13:13:33.025Z"
   },
   {
    "duration": 43,
    "start_time": "2025-06-12T13:13:33.093Z"
   },
   {
    "duration": 27,
    "start_time": "2025-06-12T13:13:33.141Z"
   },
   {
    "duration": 14,
    "start_time": "2025-06-12T13:13:33.170Z"
   },
   {
    "duration": 17,
    "start_time": "2025-06-12T13:13:33.186Z"
   },
   {
    "duration": 34,
    "start_time": "2025-06-12T13:13:33.205Z"
   },
   {
    "duration": 205,
    "start_time": "2025-06-12T13:13:33.241Z"
   },
   {
    "duration": 186,
    "start_time": "2025-06-12T13:13:33.448Z"
   },
   {
    "duration": 42,
    "start_time": "2025-06-12T13:13:33.635Z"
   },
   {
    "duration": 360,
    "start_time": "2025-06-12T13:13:33.679Z"
   },
   {
    "duration": 188,
    "start_time": "2025-06-12T13:13:34.040Z"
   },
   {
    "duration": 8,
    "start_time": "2025-06-12T13:13:34.230Z"
   },
   {
    "duration": 225,
    "start_time": "2025-06-12T13:13:34.240Z"
   },
   {
    "duration": 59,
    "start_time": "2025-06-12T13:13:34.467Z"
   },
   {
    "duration": 65,
    "start_time": "2025-06-12T13:13:34.527Z"
   },
   {
    "duration": 22,
    "start_time": "2025-06-12T13:13:34.594Z"
   },
   {
    "duration": 264,
    "start_time": "2025-06-12T13:13:34.618Z"
   },
   {
    "duration": 15,
    "start_time": "2025-06-12T13:13:34.884Z"
   },
   {
    "duration": 7,
    "start_time": "2025-06-12T13:13:34.901Z"
   },
   {
    "duration": 20,
    "start_time": "2025-06-12T13:13:34.910Z"
   },
   {
    "duration": 5,
    "start_time": "2025-06-12T13:13:34.932Z"
   },
   {
    "duration": 23,
    "start_time": "2025-06-12T13:13:34.938Z"
   },
   {
    "duration": 39,
    "start_time": "2025-06-12T13:13:34.963Z"
   },
   {
    "duration": 10,
    "start_time": "2025-06-12T13:13:35.003Z"
   },
   {
    "duration": 113,
    "start_time": "2025-06-12T13:13:35.015Z"
   },
   {
    "duration": 251,
    "start_time": "2025-06-12T13:13:35.129Z"
   },
   {
    "duration": 239,
    "start_time": "2025-06-12T13:13:35.381Z"
   },
   {
    "duration": 84,
    "start_time": "2025-06-12T13:13:35.621Z"
   },
   {
    "duration": 88,
    "start_time": "2025-06-12T13:13:35.706Z"
   },
   {
    "duration": 38,
    "start_time": "2025-06-12T13:13:35.796Z"
   },
   {
    "duration": 53,
    "start_time": "2025-06-12T13:13:35.835Z"
   },
   {
    "duration": 39,
    "start_time": "2025-06-12T13:13:35.889Z"
   },
   {
    "duration": 1310,
    "start_time": "2025-06-12T13:13:35.930Z"
   },
   {
    "duration": 68,
    "start_time": "2025-06-12T13:13:37.242Z"
   },
   {
    "duration": 86,
    "start_time": "2025-06-12T13:13:37.311Z"
   },
   {
    "duration": 9,
    "start_time": "2025-06-12T13:13:37.399Z"
   },
   {
    "duration": 8009,
    "start_time": "2025-06-12T13:13:37.410Z"
   },
   {
    "duration": 105,
    "start_time": "2025-06-12T13:13:45.421Z"
   },
   {
    "duration": 119,
    "start_time": "2025-06-12T13:13:45.527Z"
   },
   {
    "duration": 81,
    "start_time": "2025-06-12T13:13:45.649Z"
   },
   {
    "duration": 108170,
    "start_time": "2025-06-12T13:13:45.731Z"
   },
   {
    "duration": 113,
    "start_time": "2025-06-12T13:15:33.902Z"
   },
   {
    "duration": 61,
    "start_time": "2025-06-12T13:15:34.017Z"
   },
   {
    "duration": 34,
    "start_time": "2025-06-12T13:15:34.079Z"
   },
   {
    "duration": 17,
    "start_time": "2025-06-12T13:19:59.357Z"
   },
   {
    "duration": 8,
    "start_time": "2025-06-12T13:20:37.417Z"
   },
   {
    "duration": 117,
    "start_time": "2025-06-12T13:23:38.404Z"
   },
   {
    "duration": 86,
    "start_time": "2025-06-12T13:24:23.022Z"
   },
   {
    "duration": 12,
    "start_time": "2025-06-12T13:25:22.528Z"
   },
   {
    "duration": 7,
    "start_time": "2025-06-12T13:26:58.175Z"
   },
   {
    "duration": 3,
    "start_time": "2025-06-12T13:32:51.705Z"
   },
   {
    "duration": 11,
    "start_time": "2025-06-12T13:37:28.296Z"
   },
   {
    "duration": 10,
    "start_time": "2025-06-12T13:39:25.925Z"
   },
   {
    "duration": 11,
    "start_time": "2025-06-12T13:39:30.694Z"
   },
   {
    "duration": 6,
    "start_time": "2025-06-12T13:40:16.608Z"
   },
   {
    "duration": 97,
    "start_time": "2025-06-12T13:40:28.848Z"
   },
   {
    "duration": 10,
    "start_time": "2025-06-12T13:40:47.304Z"
   },
   {
    "duration": 12,
    "start_time": "2025-06-12T13:41:04.198Z"
   },
   {
    "duration": 7,
    "start_time": "2025-06-12T13:41:28.131Z"
   },
   {
    "duration": 7,
    "start_time": "2025-06-12T13:41:33.556Z"
   },
   {
    "duration": 6,
    "start_time": "2025-06-12T13:41:42.003Z"
   },
   {
    "duration": 3,
    "start_time": "2025-06-12T13:45:24.123Z"
   },
   {
    "duration": 2,
    "start_time": "2025-06-12T13:45:28.323Z"
   },
   {
    "duration": 3,
    "start_time": "2025-06-12T13:45:59.693Z"
   },
   {
    "duration": 2,
    "start_time": "2025-06-12T13:46:04.717Z"
   },
   {
    "duration": 32,
    "start_time": "2025-06-12T13:46:47.002Z"
   },
   {
    "duration": 12,
    "start_time": "2025-06-12T13:47:28.574Z"
   },
   {
    "duration": 9,
    "start_time": "2025-06-12T13:47:33.804Z"
   },
   {
    "duration": 263,
    "start_time": "2025-06-12T13:47:39.106Z"
   },
   {
    "duration": 296,
    "start_time": "2025-06-12T13:48:18.897Z"
   },
   {
    "duration": 310,
    "start_time": "2025-06-12T13:48:30.937Z"
   },
   {
    "duration": 66,
    "start_time": "2025-06-12T13:48:49.179Z"
   },
   {
    "duration": 19,
    "start_time": "2025-06-12T13:49:05.111Z"
   },
   {
    "duration": 321,
    "start_time": "2025-06-12T13:50:14.102Z"
   },
   {
    "duration": 482,
    "start_time": "2025-06-12T13:50:42.541Z"
   },
   {
    "duration": 314,
    "start_time": "2025-06-12T13:51:06.859Z"
   },
   {
    "duration": 91,
    "start_time": "2025-06-12T13:52:12.366Z"
   },
   {
    "duration": 85,
    "start_time": "2025-06-12T13:52:17.851Z"
   },
   {
    "duration": 85,
    "start_time": "2025-06-12T13:52:57.742Z"
   },
   {
    "duration": 322,
    "start_time": "2025-06-12T13:53:46.149Z"
   },
   {
    "duration": 83,
    "start_time": "2025-06-12T13:53:49.492Z"
   },
   {
    "duration": 315,
    "start_time": "2025-06-12T13:55:48.427Z"
   },
   {
    "duration": 70,
    "start_time": "2025-06-12T13:55:51.756Z"
   },
   {
    "duration": 1201,
    "start_time": "2025-06-12T13:57:54.875Z"
   },
   {
    "duration": 1819,
    "start_time": "2025-06-12T13:57:56.078Z"
   },
   {
    "duration": 16,
    "start_time": "2025-06-12T13:57:57.899Z"
   },
   {
    "duration": 72,
    "start_time": "2025-06-12T13:57:57.917Z"
   },
   {
    "duration": 252,
    "start_time": "2025-06-12T13:57:57.991Z"
   },
   {
    "duration": 22,
    "start_time": "2025-06-12T13:57:58.244Z"
   },
   {
    "duration": 163,
    "start_time": "2025-06-12T13:57:58.267Z"
   },
   {
    "duration": 33,
    "start_time": "2025-06-12T13:57:58.432Z"
   },
   {
    "duration": 341,
    "start_time": "2025-06-12T13:57:58.466Z"
   },
   {
    "duration": 3297,
    "start_time": "2025-06-12T13:57:58.808Z"
   },
   {
    "duration": 626,
    "start_time": "2025-06-12T13:58:02.107Z"
   },
   {
    "duration": 5,
    "start_time": "2025-06-12T13:58:02.734Z"
   },
   {
    "duration": 376,
    "start_time": "2025-06-12T13:58:02.741Z"
   },
   {
    "duration": 417,
    "start_time": "2025-06-12T13:58:03.120Z"
   },
   {
    "duration": 376,
    "start_time": "2025-06-12T13:58:03.539Z"
   },
   {
    "duration": 228,
    "start_time": "2025-06-12T13:58:03.916Z"
   },
   {
    "duration": 85,
    "start_time": "2025-06-12T13:58:04.145Z"
   },
   {
    "duration": 641,
    "start_time": "2025-06-12T13:58:04.232Z"
   },
   {
    "duration": 194,
    "start_time": "2025-06-12T13:58:04.875Z"
   },
   {
    "duration": 139,
    "start_time": "2025-06-12T13:58:05.071Z"
   },
   {
    "duration": 11,
    "start_time": "2025-06-12T13:58:05.212Z"
   },
   {
    "duration": 161,
    "start_time": "2025-06-12T13:58:05.224Z"
   },
   {
    "duration": 44,
    "start_time": "2025-06-12T13:58:05.386Z"
   },
   {
    "duration": 41,
    "start_time": "2025-06-12T13:58:05.431Z"
   },
   {
    "duration": 210,
    "start_time": "2025-06-12T13:58:05.474Z"
   },
   {
    "duration": 86,
    "start_time": "2025-06-12T13:58:05.686Z"
   },
   {
    "duration": 47,
    "start_time": "2025-06-12T13:58:05.774Z"
   },
   {
    "duration": 229,
    "start_time": "2025-06-12T13:58:05.823Z"
   },
   {
    "duration": 17,
    "start_time": "2025-06-12T13:58:06.054Z"
   },
   {
    "duration": 12,
    "start_time": "2025-06-12T13:58:06.073Z"
   },
   {
    "duration": 27,
    "start_time": "2025-06-12T13:58:06.087Z"
   },
   {
    "duration": 207,
    "start_time": "2025-06-12T13:58:06.116Z"
   },
   {
    "duration": 181,
    "start_time": "2025-06-12T13:58:06.325Z"
   },
   {
    "duration": 24,
    "start_time": "2025-06-12T13:58:06.508Z"
   },
   {
    "duration": 404,
    "start_time": "2025-06-12T13:58:06.534Z"
   },
   {
    "duration": 182,
    "start_time": "2025-06-12T13:58:06.939Z"
   },
   {
    "duration": 9,
    "start_time": "2025-06-12T13:58:07.123Z"
   },
   {
    "duration": 196,
    "start_time": "2025-06-12T13:58:07.133Z"
   },
   {
    "duration": 56,
    "start_time": "2025-06-12T13:58:07.331Z"
   },
   {
    "duration": 55,
    "start_time": "2025-06-12T13:58:07.389Z"
   },
   {
    "duration": 29,
    "start_time": "2025-06-12T13:58:07.469Z"
   },
   {
    "duration": 43,
    "start_time": "2025-06-12T13:58:07.501Z"
   },
   {
    "duration": 25,
    "start_time": "2025-06-12T13:58:07.546Z"
   },
   {
    "duration": 19,
    "start_time": "2025-06-12T13:58:07.572Z"
   },
   {
    "duration": 27,
    "start_time": "2025-06-12T13:58:07.592Z"
   },
   {
    "duration": 3,
    "start_time": "2025-06-12T13:58:07.620Z"
   },
   {
    "duration": 4,
    "start_time": "2025-06-12T13:58:07.624Z"
   },
   {
    "duration": 18,
    "start_time": "2025-06-12T13:58:07.630Z"
   },
   {
    "duration": 27,
    "start_time": "2025-06-12T13:58:07.650Z"
   },
   {
    "duration": 15,
    "start_time": "2025-06-12T13:58:07.678Z"
   },
   {
    "duration": 97,
    "start_time": "2025-06-12T13:58:07.695Z"
   },
   {
    "duration": 327,
    "start_time": "2025-06-12T13:58:07.793Z"
   },
   {
    "duration": 240,
    "start_time": "2025-06-12T13:58:08.121Z"
   },
   {
    "duration": 140,
    "start_time": "2025-06-12T13:58:08.362Z"
   },
   {
    "duration": 82,
    "start_time": "2025-06-12T13:58:08.503Z"
   },
   {
    "duration": 35,
    "start_time": "2025-06-12T13:58:08.587Z"
   },
   {
    "duration": 44,
    "start_time": "2025-06-12T13:58:08.624Z"
   },
   {
    "duration": 25,
    "start_time": "2025-06-12T13:58:08.670Z"
   },
   {
    "duration": 1306,
    "start_time": "2025-06-12T13:58:08.697Z"
   },
   {
    "duration": 69,
    "start_time": "2025-06-12T13:58:10.005Z"
   },
   {
    "duration": 85,
    "start_time": "2025-06-12T13:58:10.076Z"
   },
   {
    "duration": 10,
    "start_time": "2025-06-12T13:58:10.163Z"
   },
   {
    "duration": 2781,
    "start_time": "2025-06-12T13:58:10.174Z"
   },
   {
    "duration": 91,
    "start_time": "2025-06-12T13:58:12.957Z"
   },
   {
    "duration": 39,
    "start_time": "2025-06-12T13:58:13.049Z"
   },
   {
    "duration": 58,
    "start_time": "2025-06-12T13:58:13.089Z"
   },
   {
    "duration": 0,
    "start_time": "2025-06-12T13:58:13.148Z"
   },
   {
    "duration": 0,
    "start_time": "2025-06-12T13:58:13.149Z"
   },
   {
    "duration": 0,
    "start_time": "2025-06-12T13:58:13.150Z"
   },
   {
    "duration": 0,
    "start_time": "2025-06-12T13:58:13.152Z"
   },
   {
    "duration": 0,
    "start_time": "2025-06-12T13:58:13.153Z"
   },
   {
    "duration": 0,
    "start_time": "2025-06-12T13:58:13.154Z"
   },
   {
    "duration": 0,
    "start_time": "2025-06-12T13:58:13.155Z"
   },
   {
    "duration": 0,
    "start_time": "2025-06-12T13:58:13.156Z"
   },
   {
    "duration": 0,
    "start_time": "2025-06-12T13:58:13.157Z"
   },
   {
    "duration": 1250,
    "start_time": "2025-06-12T13:58:34.345Z"
   },
   {
    "duration": 2274,
    "start_time": "2025-06-12T13:58:35.598Z"
   },
   {
    "duration": 15,
    "start_time": "2025-06-12T13:58:37.874Z"
   },
   {
    "duration": 83,
    "start_time": "2025-06-12T13:58:37.892Z"
   },
   {
    "duration": 237,
    "start_time": "2025-06-12T13:58:37.976Z"
   },
   {
    "duration": 9,
    "start_time": "2025-06-12T13:58:38.215Z"
   },
   {
    "duration": 174,
    "start_time": "2025-06-12T13:58:38.225Z"
   },
   {
    "duration": 20,
    "start_time": "2025-06-12T13:58:38.400Z"
   },
   {
    "duration": 354,
    "start_time": "2025-06-12T13:58:38.422Z"
   },
   {
    "duration": 3119,
    "start_time": "2025-06-12T13:58:38.778Z"
   },
   {
    "duration": 630,
    "start_time": "2025-06-12T13:58:41.900Z"
   },
   {
    "duration": 5,
    "start_time": "2025-06-12T13:58:42.531Z"
   },
   {
    "duration": 195,
    "start_time": "2025-06-12T13:58:42.537Z"
   },
   {
    "duration": 415,
    "start_time": "2025-06-12T13:58:42.733Z"
   },
   {
    "duration": 348,
    "start_time": "2025-06-12T13:58:43.150Z"
   },
   {
    "duration": 215,
    "start_time": "2025-06-12T13:58:43.499Z"
   },
   {
    "duration": 89,
    "start_time": "2025-06-12T13:58:43.715Z"
   },
   {
    "duration": 609,
    "start_time": "2025-06-12T13:58:43.806Z"
   },
   {
    "duration": 183,
    "start_time": "2025-06-12T13:58:44.417Z"
   },
   {
    "duration": 182,
    "start_time": "2025-06-12T13:58:44.602Z"
   },
   {
    "duration": 12,
    "start_time": "2025-06-12T13:58:44.786Z"
   },
   {
    "duration": 150,
    "start_time": "2025-06-12T13:58:44.800Z"
   },
   {
    "duration": 202,
    "start_time": "2025-06-12T13:58:44.951Z"
   },
   {
    "duration": 21,
    "start_time": "2025-06-12T13:58:45.155Z"
   },
   {
    "duration": 229,
    "start_time": "2025-06-12T13:58:45.178Z"
   },
   {
    "duration": 64,
    "start_time": "2025-06-12T13:58:45.408Z"
   },
   {
    "duration": 44,
    "start_time": "2025-06-12T13:58:45.473Z"
   },
   {
    "duration": 21,
    "start_time": "2025-06-12T13:58:45.521Z"
   },
   {
    "duration": 3,
    "start_time": "2025-06-12T13:58:45.543Z"
   },
   {
    "duration": 3,
    "start_time": "2025-06-12T13:58:45.560Z"
   },
   {
    "duration": 41,
    "start_time": "2025-06-12T13:58:45.565Z"
   },
   {
    "duration": 192,
    "start_time": "2025-06-12T13:58:45.608Z"
   },
   {
    "duration": 188,
    "start_time": "2025-06-12T13:58:45.802Z"
   },
   {
    "duration": 24,
    "start_time": "2025-06-12T13:58:45.992Z"
   },
   {
    "duration": 392,
    "start_time": "2025-06-12T13:58:46.018Z"
   },
   {
    "duration": 289,
    "start_time": "2025-06-12T13:58:46.412Z"
   },
   {
    "duration": 10,
    "start_time": "2025-06-12T13:58:46.705Z"
   },
   {
    "duration": 191,
    "start_time": "2025-06-12T13:58:46.717Z"
   },
   {
    "duration": 67,
    "start_time": "2025-06-12T13:58:46.909Z"
   },
   {
    "duration": 130,
    "start_time": "2025-06-12T13:58:46.978Z"
   },
   {
    "duration": 22,
    "start_time": "2025-06-12T13:58:47.110Z"
   },
   {
    "duration": 52,
    "start_time": "2025-06-12T13:58:47.136Z"
   },
   {
    "duration": 12,
    "start_time": "2025-06-12T13:58:47.189Z"
   },
   {
    "duration": 7,
    "start_time": "2025-06-12T13:58:47.203Z"
   },
   {
    "duration": 10,
    "start_time": "2025-06-12T13:58:47.212Z"
   },
   {
    "duration": 3,
    "start_time": "2025-06-12T13:58:47.224Z"
   },
   {
    "duration": 3,
    "start_time": "2025-06-12T13:58:47.261Z"
   },
   {
    "duration": 33,
    "start_time": "2025-06-12T13:58:47.266Z"
   },
   {
    "duration": 8,
    "start_time": "2025-06-12T13:58:47.302Z"
   },
   {
    "duration": 14,
    "start_time": "2025-06-12T13:58:47.312Z"
   },
   {
    "duration": 113,
    "start_time": "2025-06-12T13:58:47.328Z"
   },
   {
    "duration": 275,
    "start_time": "2025-06-12T13:58:47.443Z"
   },
   {
    "duration": 232,
    "start_time": "2025-06-12T13:58:47.720Z"
   },
   {
    "duration": 81,
    "start_time": "2025-06-12T13:58:47.954Z"
   },
   {
    "duration": 91,
    "start_time": "2025-06-12T13:58:48.036Z"
   },
   {
    "duration": 45,
    "start_time": "2025-06-12T13:58:48.129Z"
   },
   {
    "duration": 44,
    "start_time": "2025-06-12T13:58:48.176Z"
   },
   {
    "duration": 39,
    "start_time": "2025-06-12T13:58:48.222Z"
   },
   {
    "duration": 1305,
    "start_time": "2025-06-12T13:58:48.263Z"
   },
   {
    "duration": 58,
    "start_time": "2025-06-12T13:58:49.570Z"
   },
   {
    "duration": 120,
    "start_time": "2025-06-12T13:58:49.629Z"
   },
   {
    "duration": 16,
    "start_time": "2025-06-12T13:58:49.751Z"
   },
   {
    "duration": 2649,
    "start_time": "2025-06-12T13:58:49.769Z"
   },
   {
    "duration": 99,
    "start_time": "2025-06-12T13:58:52.420Z"
   },
   {
    "duration": 41,
    "start_time": "2025-06-12T13:58:52.520Z"
   },
   {
    "duration": 351,
    "start_time": "2025-06-12T13:58:52.563Z"
   },
   {
    "duration": 358,
    "start_time": "2025-06-12T13:58:52.915Z"
   },
   {
    "duration": 88,
    "start_time": "2025-06-12T13:58:53.274Z"
   },
   {
    "duration": 2,
    "start_time": "2025-06-12T13:58:53.364Z"
   },
   {
    "duration": 7,
    "start_time": "2025-06-12T13:58:53.368Z"
   },
   {
    "duration": 6,
    "start_time": "2025-06-12T13:58:53.377Z"
   },
   {
    "duration": 8,
    "start_time": "2025-06-12T13:58:53.385Z"
   },
   {
    "duration": 7,
    "start_time": "2025-06-12T13:58:53.394Z"
   },
   {
    "duration": 14,
    "start_time": "2025-06-12T13:58:53.402Z"
   },
   {
    "duration": 102,
    "start_time": "2025-06-12T14:06:48.079Z"
   },
   {
    "duration": 23,
    "start_time": "2025-06-12T14:06:59.076Z"
   },
   {
    "duration": 13,
    "start_time": "2025-06-12T14:07:09.937Z"
   },
   {
    "duration": 15,
    "start_time": "2025-06-12T14:07:14.212Z"
   },
   {
    "duration": 6,
    "start_time": "2025-06-12T14:07:45.873Z"
   },
   {
    "duration": 16,
    "start_time": "2025-06-12T14:07:47.920Z"
   },
   {
    "duration": 1416,
    "start_time": "2025-06-12T14:09:17.552Z"
   },
   {
    "duration": 8,
    "start_time": "2025-06-12T14:12:54.573Z"
   },
   {
    "duration": 15,
    "start_time": "2025-06-12T14:13:08.174Z"
   },
   {
    "duration": 43,
    "start_time": "2025-06-12T14:25:53.411Z"
   },
   {
    "duration": 69,
    "start_time": "2025-06-12T14:26:05.300Z"
   },
   {
    "duration": 26,
    "start_time": "2025-06-12T14:29:16.016Z"
   },
   {
    "duration": 36,
    "start_time": "2025-06-12T14:29:25.575Z"
   },
   {
    "duration": 8,
    "start_time": "2025-06-12T14:32:50.707Z"
   },
   {
    "duration": 5,
    "start_time": "2025-06-12T14:32:58.664Z"
   },
   {
    "duration": 1150,
    "start_time": "2025-06-12T14:33:09.303Z"
   },
   {
    "duration": 1907,
    "start_time": "2025-06-12T14:33:10.455Z"
   },
   {
    "duration": 13,
    "start_time": "2025-06-12T14:33:12.364Z"
   },
   {
    "duration": 45,
    "start_time": "2025-06-12T14:33:12.379Z"
   },
   {
    "duration": 278,
    "start_time": "2025-06-12T14:33:12.426Z"
   },
   {
    "duration": 11,
    "start_time": "2025-06-12T14:33:12.706Z"
   },
   {
    "duration": 180,
    "start_time": "2025-06-12T14:33:12.719Z"
   },
   {
    "duration": 21,
    "start_time": "2025-06-12T14:33:12.900Z"
   },
   {
    "duration": 380,
    "start_time": "2025-06-12T14:33:12.922Z"
   },
   {
    "duration": 3404,
    "start_time": "2025-06-12T14:33:13.305Z"
   },
   {
    "duration": 628,
    "start_time": "2025-06-12T14:33:16.711Z"
   },
   {
    "duration": 21,
    "start_time": "2025-06-12T14:33:17.341Z"
   },
   {
    "duration": 232,
    "start_time": "2025-06-12T14:33:17.363Z"
   },
   {
    "duration": 411,
    "start_time": "2025-06-12T14:33:17.596Z"
   },
   {
    "duration": 354,
    "start_time": "2025-06-12T14:33:18.008Z"
   },
   {
    "duration": 219,
    "start_time": "2025-06-12T14:33:18.363Z"
   },
   {
    "duration": 88,
    "start_time": "2025-06-12T14:33:18.583Z"
   },
   {
    "duration": 607,
    "start_time": "2025-06-12T14:33:18.672Z"
   },
   {
    "duration": 180,
    "start_time": "2025-06-12T14:33:19.281Z"
   },
   {
    "duration": 135,
    "start_time": "2025-06-12T14:33:19.463Z"
   },
   {
    "duration": 11,
    "start_time": "2025-06-12T14:33:19.600Z"
   },
   {
    "duration": 138,
    "start_time": "2025-06-12T14:33:19.612Z"
   },
   {
    "duration": 46,
    "start_time": "2025-06-12T14:33:19.752Z"
   },
   {
    "duration": 51,
    "start_time": "2025-06-12T14:33:19.799Z"
   },
   {
    "duration": 231,
    "start_time": "2025-06-12T14:33:19.852Z"
   },
   {
    "duration": 62,
    "start_time": "2025-06-12T14:33:20.084Z"
   },
   {
    "duration": 54,
    "start_time": "2025-06-12T14:33:20.149Z"
   },
   {
    "duration": 10,
    "start_time": "2025-06-12T14:33:20.207Z"
   },
   {
    "duration": 3,
    "start_time": "2025-06-12T14:33:20.218Z"
   },
   {
    "duration": 14,
    "start_time": "2025-06-12T14:33:20.223Z"
   },
   {
    "duration": 36,
    "start_time": "2025-06-12T14:33:20.238Z"
   },
   {
    "duration": 197,
    "start_time": "2025-06-12T14:33:20.275Z"
   },
   {
    "duration": 178,
    "start_time": "2025-06-12T14:33:20.473Z"
   },
   {
    "duration": 29,
    "start_time": "2025-06-12T14:33:20.653Z"
   },
   {
    "duration": 360,
    "start_time": "2025-06-12T14:33:20.684Z"
   },
   {
    "duration": 181,
    "start_time": "2025-06-12T14:33:21.046Z"
   },
   {
    "duration": 10,
    "start_time": "2025-06-12T14:33:21.229Z"
   },
   {
    "duration": 169,
    "start_time": "2025-06-12T14:33:21.241Z"
   },
   {
    "duration": 62,
    "start_time": "2025-06-12T14:33:21.412Z"
   },
   {
    "duration": 55,
    "start_time": "2025-06-12T14:33:21.476Z"
   },
   {
    "duration": 33,
    "start_time": "2025-06-12T14:33:21.533Z"
   },
   {
    "duration": 42,
    "start_time": "2025-06-12T14:33:21.568Z"
   },
   {
    "duration": 11,
    "start_time": "2025-06-12T14:33:21.612Z"
   },
   {
    "duration": 12,
    "start_time": "2025-06-12T14:33:21.625Z"
   },
   {
    "duration": 22,
    "start_time": "2025-06-12T14:33:21.639Z"
   },
   {
    "duration": 3,
    "start_time": "2025-06-12T14:33:21.662Z"
   },
   {
    "duration": 13,
    "start_time": "2025-06-12T14:33:21.666Z"
   },
   {
    "duration": 19,
    "start_time": "2025-06-12T14:33:21.681Z"
   },
   {
    "duration": 16,
    "start_time": "2025-06-12T14:33:21.701Z"
   },
   {
    "duration": 12,
    "start_time": "2025-06-12T14:33:21.719Z"
   },
   {
    "duration": 90,
    "start_time": "2025-06-12T14:33:21.733Z"
   },
   {
    "duration": 245,
    "start_time": "2025-06-12T14:33:21.824Z"
   },
   {
    "duration": 236,
    "start_time": "2025-06-12T14:33:22.071Z"
   },
   {
    "duration": 86,
    "start_time": "2025-06-12T14:33:22.308Z"
   },
   {
    "duration": 89,
    "start_time": "2025-06-12T14:33:22.395Z"
   },
   {
    "duration": 37,
    "start_time": "2025-06-12T14:33:22.485Z"
   },
   {
    "duration": 53,
    "start_time": "2025-06-12T14:33:22.523Z"
   },
   {
    "duration": 30,
    "start_time": "2025-06-12T14:33:22.577Z"
   },
   {
    "duration": 1327,
    "start_time": "2025-06-12T14:33:22.608Z"
   },
   {
    "duration": 67,
    "start_time": "2025-06-12T14:33:23.936Z"
   },
   {
    "duration": 80,
    "start_time": "2025-06-12T14:33:24.005Z"
   },
   {
    "duration": 8,
    "start_time": "2025-06-12T14:33:24.087Z"
   },
   {
    "duration": 2555,
    "start_time": "2025-06-12T14:33:24.096Z"
   },
   {
    "duration": 112,
    "start_time": "2025-06-12T14:33:26.653Z"
   },
   {
    "duration": 37,
    "start_time": "2025-06-12T14:33:26.767Z"
   },
   {
    "duration": 346,
    "start_time": "2025-06-12T14:33:26.806Z"
   },
   {
    "duration": 360,
    "start_time": "2025-06-12T14:33:27.154Z"
   },
   {
    "duration": 99,
    "start_time": "2025-06-12T14:33:27.517Z"
   },
   {
    "duration": 2,
    "start_time": "2025-06-12T14:33:27.618Z"
   },
   {
    "duration": 32,
    "start_time": "2025-06-12T14:33:27.621Z"
   },
   {
    "duration": 10,
    "start_time": "2025-06-12T14:33:27.655Z"
   },
   {
    "duration": 13,
    "start_time": "2025-06-12T14:33:27.667Z"
   },
   {
    "duration": 26,
    "start_time": "2025-06-12T14:33:27.682Z"
   },
   {
    "duration": 16,
    "start_time": "2025-06-12T14:33:27.710Z"
   },
   {
    "duration": 49,
    "start_time": "2025-06-12T14:33:27.728Z"
   },
   {
    "duration": 30,
    "start_time": "2025-06-12T14:33:27.779Z"
   },
   {
    "duration": 7,
    "start_time": "2025-06-12T14:33:33.419Z"
   },
   {
    "duration": 100,
    "start_time": "2025-06-12T14:34:21.391Z"
   },
   {
    "duration": 8,
    "start_time": "2025-06-12T14:34:28.766Z"
   },
   {
    "duration": 7,
    "start_time": "2025-06-12T14:35:48.630Z"
   },
   {
    "duration": 13,
    "start_time": "2025-06-12T14:36:07.614Z"
   },
   {
    "duration": 31,
    "start_time": "2025-06-12T14:36:21.955Z"
   },
   {
    "duration": 1193,
    "start_time": "2025-06-12T14:38:33.187Z"
   },
   {
    "duration": 2172,
    "start_time": "2025-06-12T14:38:34.382Z"
   },
   {
    "duration": 16,
    "start_time": "2025-06-12T14:38:36.556Z"
   },
   {
    "duration": 89,
    "start_time": "2025-06-12T14:38:36.574Z"
   },
   {
    "duration": 256,
    "start_time": "2025-06-12T14:38:36.665Z"
   },
   {
    "duration": 9,
    "start_time": "2025-06-12T14:38:36.922Z"
   },
   {
    "duration": 172,
    "start_time": "2025-06-12T14:38:36.932Z"
   },
   {
    "duration": 19,
    "start_time": "2025-06-12T14:38:37.106Z"
   },
   {
    "duration": 474,
    "start_time": "2025-06-12T14:38:37.127Z"
   },
   {
    "duration": 3186,
    "start_time": "2025-06-12T14:38:37.603Z"
   },
   {
    "duration": 604,
    "start_time": "2025-06-12T14:38:40.791Z"
   },
   {
    "duration": 5,
    "start_time": "2025-06-12T14:38:41.396Z"
   },
   {
    "duration": 186,
    "start_time": "2025-06-12T14:38:41.403Z"
   },
   {
    "duration": 406,
    "start_time": "2025-06-12T14:38:41.591Z"
   },
   {
    "duration": 362,
    "start_time": "2025-06-12T14:38:41.999Z"
   },
   {
    "duration": 223,
    "start_time": "2025-06-12T14:38:42.363Z"
   },
   {
    "duration": 81,
    "start_time": "2025-06-12T14:38:42.588Z"
   },
   {
    "duration": 615,
    "start_time": "2025-06-12T14:38:42.671Z"
   },
   {
    "duration": 178,
    "start_time": "2025-06-12T14:38:43.288Z"
   },
   {
    "duration": 142,
    "start_time": "2025-06-12T14:38:43.468Z"
   },
   {
    "duration": 12,
    "start_time": "2025-06-12T14:38:43.611Z"
   },
   {
    "duration": 154,
    "start_time": "2025-06-12T14:38:43.625Z"
   },
   {
    "duration": 39,
    "start_time": "2025-06-12T14:38:43.780Z"
   },
   {
    "duration": 19,
    "start_time": "2025-06-12T14:38:43.820Z"
   },
   {
    "duration": 220,
    "start_time": "2025-06-12T14:38:43.860Z"
   },
   {
    "duration": 65,
    "start_time": "2025-06-12T14:38:44.082Z"
   },
   {
    "duration": 45,
    "start_time": "2025-06-12T14:38:44.149Z"
   },
   {
    "duration": 10,
    "start_time": "2025-06-12T14:38:44.199Z"
   },
   {
    "duration": 3,
    "start_time": "2025-06-12T14:38:44.211Z"
   },
   {
    "duration": 7,
    "start_time": "2025-06-12T14:38:44.215Z"
   },
   {
    "duration": 43,
    "start_time": "2025-06-12T14:38:44.224Z"
   },
   {
    "duration": 200,
    "start_time": "2025-06-12T14:38:44.268Z"
   },
   {
    "duration": 177,
    "start_time": "2025-06-12T14:38:44.470Z"
   },
   {
    "duration": 30,
    "start_time": "2025-06-12T14:38:44.649Z"
   },
   {
    "duration": 369,
    "start_time": "2025-06-12T14:38:44.681Z"
   },
   {
    "duration": 190,
    "start_time": "2025-06-12T14:38:45.060Z"
   },
   {
    "duration": 16,
    "start_time": "2025-06-12T14:38:45.252Z"
   },
   {
    "duration": 330,
    "start_time": "2025-06-12T14:38:45.270Z"
   },
   {
    "duration": 51,
    "start_time": "2025-06-12T14:38:45.601Z"
   },
   {
    "duration": 52,
    "start_time": "2025-06-12T14:38:45.661Z"
   },
   {
    "duration": 22,
    "start_time": "2025-06-12T14:38:45.714Z"
   },
   {
    "duration": 68,
    "start_time": "2025-06-12T14:38:45.737Z"
   },
   {
    "duration": 12,
    "start_time": "2025-06-12T14:38:45.807Z"
   },
   {
    "duration": 7,
    "start_time": "2025-06-12T14:38:45.821Z"
   },
   {
    "duration": 8,
    "start_time": "2025-06-12T14:38:45.829Z"
   },
   {
    "duration": 2,
    "start_time": "2025-06-12T14:38:45.839Z"
   },
   {
    "duration": 19,
    "start_time": "2025-06-12T14:38:45.843Z"
   },
   {
    "duration": 16,
    "start_time": "2025-06-12T14:38:45.864Z"
   },
   {
    "duration": 6,
    "start_time": "2025-06-12T14:38:45.881Z"
   },
   {
    "duration": 7,
    "start_time": "2025-06-12T14:38:45.889Z"
   },
   {
    "duration": 94,
    "start_time": "2025-06-12T14:38:45.898Z"
   },
   {
    "duration": 256,
    "start_time": "2025-06-12T14:38:45.994Z"
   },
   {
    "duration": 231,
    "start_time": "2025-06-12T14:38:46.252Z"
   },
   {
    "duration": 86,
    "start_time": "2025-06-12T14:38:46.484Z"
   },
   {
    "duration": 78,
    "start_time": "2025-06-12T14:38:46.571Z"
   },
   {
    "duration": 49,
    "start_time": "2025-06-12T14:38:46.651Z"
   },
   {
    "duration": 35,
    "start_time": "2025-06-12T14:38:46.702Z"
   },
   {
    "duration": 27,
    "start_time": "2025-06-12T14:38:46.761Z"
   },
   {
    "duration": 1327,
    "start_time": "2025-06-12T14:38:46.790Z"
   },
   {
    "duration": 74,
    "start_time": "2025-06-12T14:38:48.118Z"
   },
   {
    "duration": 76,
    "start_time": "2025-06-12T14:38:48.193Z"
   },
   {
    "duration": 8,
    "start_time": "2025-06-12T14:38:48.271Z"
   },
   {
    "duration": 2556,
    "start_time": "2025-06-12T14:38:48.280Z"
   },
   {
    "duration": 97,
    "start_time": "2025-06-12T14:38:50.838Z"
   },
   {
    "duration": 42,
    "start_time": "2025-06-12T14:38:50.937Z"
   },
   {
    "duration": 398,
    "start_time": "2025-06-12T14:38:50.981Z"
   },
   {
    "duration": 339,
    "start_time": "2025-06-12T14:38:51.381Z"
   },
   {
    "duration": 80,
    "start_time": "2025-06-12T14:38:51.722Z"
   },
   {
    "duration": 2,
    "start_time": "2025-06-12T14:38:51.804Z"
   },
   {
    "duration": 10,
    "start_time": "2025-06-12T14:38:51.808Z"
   },
   {
    "duration": 7,
    "start_time": "2025-06-12T14:38:51.819Z"
   },
   {
    "duration": 19,
    "start_time": "2025-06-12T14:38:51.828Z"
   },
   {
    "duration": 14,
    "start_time": "2025-06-12T14:38:51.849Z"
   },
   {
    "duration": 5,
    "start_time": "2025-06-12T14:38:51.864Z"
   },
   {
    "duration": 99,
    "start_time": "2025-06-12T14:38:51.870Z"
   },
   {
    "duration": 79,
    "start_time": "2025-06-12T14:38:51.971Z"
   },
   {
    "duration": 23,
    "start_time": "2025-06-12T14:38:52.052Z"
   },
   {
    "duration": 54,
    "start_time": "2025-06-12T14:38:52.077Z"
   },
   {
    "duration": 35,
    "start_time": "2025-06-12T14:40:12.056Z"
   },
   {
    "duration": 1167,
    "start_time": "2025-06-12T14:40:33.501Z"
   },
   {
    "duration": 1746,
    "start_time": "2025-06-12T14:40:34.670Z"
   },
   {
    "duration": 14,
    "start_time": "2025-06-12T14:40:36.418Z"
   },
   {
    "duration": 176,
    "start_time": "2025-06-12T14:40:36.434Z"
   },
   {
    "duration": 251,
    "start_time": "2025-06-12T14:40:36.612Z"
   },
   {
    "duration": 10,
    "start_time": "2025-06-12T14:40:36.865Z"
   },
   {
    "duration": 178,
    "start_time": "2025-06-12T14:40:36.876Z"
   },
   {
    "duration": 19,
    "start_time": "2025-06-12T14:40:37.056Z"
   },
   {
    "duration": 329,
    "start_time": "2025-06-12T14:40:37.076Z"
   },
   {
    "duration": 3082,
    "start_time": "2025-06-12T14:40:37.408Z"
   },
   {
    "duration": 612,
    "start_time": "2025-06-12T14:40:40.491Z"
   },
   {
    "duration": 5,
    "start_time": "2025-06-12T14:40:41.105Z"
   },
   {
    "duration": 292,
    "start_time": "2025-06-12T14:40:41.111Z"
   },
   {
    "duration": 398,
    "start_time": "2025-06-12T14:40:41.404Z"
   },
   {
    "duration": 342,
    "start_time": "2025-06-12T14:40:41.803Z"
   },
   {
    "duration": 217,
    "start_time": "2025-06-12T14:40:42.146Z"
   },
   {
    "duration": 69,
    "start_time": "2025-06-12T14:40:42.364Z"
   },
   {
    "duration": 621,
    "start_time": "2025-06-12T14:40:42.434Z"
   },
   {
    "duration": 185,
    "start_time": "2025-06-12T14:40:43.060Z"
   },
   {
    "duration": 147,
    "start_time": "2025-06-12T14:40:43.246Z"
   },
   {
    "duration": 11,
    "start_time": "2025-06-12T14:40:43.395Z"
   },
   {
    "duration": 141,
    "start_time": "2025-06-12T14:40:43.407Z"
   },
   {
    "duration": 43,
    "start_time": "2025-06-12T14:40:43.549Z"
   },
   {
    "duration": 18,
    "start_time": "2025-06-12T14:40:43.594Z"
   },
   {
    "duration": 231,
    "start_time": "2025-06-12T14:40:43.613Z"
   },
   {
    "duration": 67,
    "start_time": "2025-06-12T14:40:43.845Z"
   },
   {
    "duration": 60,
    "start_time": "2025-06-12T14:40:43.914Z"
   },
   {
    "duration": 91,
    "start_time": "2025-06-12T14:40:43.978Z"
   },
   {
    "duration": 3,
    "start_time": "2025-06-12T14:40:44.070Z"
   },
   {
    "duration": 4,
    "start_time": "2025-06-12T14:40:44.074Z"
   },
   {
    "duration": 23,
    "start_time": "2025-06-12T14:40:44.079Z"
   },
   {
    "duration": 217,
    "start_time": "2025-06-12T14:40:44.103Z"
   },
   {
    "duration": 181,
    "start_time": "2025-06-12T14:40:44.322Z"
   },
   {
    "duration": 25,
    "start_time": "2025-06-12T14:40:44.504Z"
   },
   {
    "duration": 677,
    "start_time": "2025-06-12T14:40:44.530Z"
   },
   {
    "duration": 193,
    "start_time": "2025-06-12T14:40:45.209Z"
   },
   {
    "duration": 9,
    "start_time": "2025-06-12T14:40:45.403Z"
   },
   {
    "duration": 233,
    "start_time": "2025-06-12T14:40:45.413Z"
   },
   {
    "duration": 58,
    "start_time": "2025-06-12T14:40:45.648Z"
   },
   {
    "duration": 60,
    "start_time": "2025-06-12T14:40:45.707Z"
   },
   {
    "duration": 19,
    "start_time": "2025-06-12T14:40:45.769Z"
   },
   {
    "duration": 67,
    "start_time": "2025-06-12T14:40:45.789Z"
   },
   {
    "duration": 13,
    "start_time": "2025-06-12T14:40:45.857Z"
   },
   {
    "duration": 13,
    "start_time": "2025-06-12T14:40:45.872Z"
   },
   {
    "duration": 39,
    "start_time": "2025-06-12T14:40:45.886Z"
   },
   {
    "duration": 2,
    "start_time": "2025-06-12T14:40:45.927Z"
   },
   {
    "duration": 119,
    "start_time": "2025-06-12T14:40:45.931Z"
   },
   {
    "duration": 28,
    "start_time": "2025-06-12T14:40:46.052Z"
   },
   {
    "duration": 47,
    "start_time": "2025-06-12T14:40:46.082Z"
   },
   {
    "duration": 66,
    "start_time": "2025-06-12T14:40:46.131Z"
   },
   {
    "duration": 87,
    "start_time": "2025-06-12T14:40:46.198Z"
   },
   {
    "duration": 251,
    "start_time": "2025-06-12T14:40:46.287Z"
   },
   {
    "duration": 254,
    "start_time": "2025-06-12T14:40:46.540Z"
   },
   {
    "duration": 90,
    "start_time": "2025-06-12T14:40:46.796Z"
   },
   {
    "duration": 85,
    "start_time": "2025-06-12T14:40:46.888Z"
   },
   {
    "duration": 38,
    "start_time": "2025-06-12T14:40:46.975Z"
   },
   {
    "duration": 53,
    "start_time": "2025-06-12T14:40:47.015Z"
   },
   {
    "duration": 25,
    "start_time": "2025-06-12T14:40:47.070Z"
   },
   {
    "duration": 1344,
    "start_time": "2025-06-12T14:40:47.097Z"
   },
   {
    "duration": 68,
    "start_time": "2025-06-12T14:40:48.443Z"
   },
   {
    "duration": 272,
    "start_time": "2025-06-12T14:40:48.512Z"
   },
   {
    "duration": 10,
    "start_time": "2025-06-12T14:40:48.786Z"
   },
   {
    "duration": 2559,
    "start_time": "2025-06-12T14:40:48.797Z"
   },
   {
    "duration": 92,
    "start_time": "2025-06-12T14:40:51.358Z"
   },
   {
    "duration": 42,
    "start_time": "2025-06-12T14:40:51.451Z"
   },
   {
    "duration": 408,
    "start_time": "2025-06-12T14:40:51.495Z"
   },
   {
    "duration": 340,
    "start_time": "2025-06-12T14:40:51.904Z"
   },
   {
    "duration": 86,
    "start_time": "2025-06-12T14:40:52.246Z"
   },
   {
    "duration": 2,
    "start_time": "2025-06-12T14:40:52.334Z"
   },
   {
    "duration": 30,
    "start_time": "2025-06-12T14:40:52.338Z"
   },
   {
    "duration": 20,
    "start_time": "2025-06-12T14:40:52.370Z"
   },
   {
    "duration": 28,
    "start_time": "2025-06-12T14:40:52.391Z"
   },
   {
    "duration": 18,
    "start_time": "2025-06-12T14:40:52.421Z"
   },
   {
    "duration": 22,
    "start_time": "2025-06-12T14:40:52.440Z"
   },
   {
    "duration": 423,
    "start_time": "2025-06-12T14:40:52.463Z"
   },
   {
    "duration": 55,
    "start_time": "2025-06-12T14:41:50.639Z"
   },
   {
    "duration": 54,
    "start_time": "2025-06-12T14:41:59.975Z"
   },
   {
    "duration": 22,
    "start_time": "2025-06-12T14:42:23.780Z"
   },
   {
    "duration": 24,
    "start_time": "2025-06-12T14:42:45.266Z"
   },
   {
    "duration": 24,
    "start_time": "2025-06-12T14:43:29.513Z"
   },
   {
    "duration": 9,
    "start_time": "2025-06-12T15:11:19.359Z"
   },
   {
    "duration": 9,
    "start_time": "2025-06-12T15:15:02.284Z"
   },
   {
    "duration": 1214,
    "start_time": "2025-06-12T15:16:51.083Z"
   },
   {
    "duration": 1896,
    "start_time": "2025-06-12T15:16:52.299Z"
   },
   {
    "duration": 13,
    "start_time": "2025-06-12T15:16:54.197Z"
   },
   {
    "duration": 62,
    "start_time": "2025-06-12T15:16:54.212Z"
   },
   {
    "duration": 233,
    "start_time": "2025-06-12T15:16:54.275Z"
   },
   {
    "duration": 8,
    "start_time": "2025-06-12T15:16:54.510Z"
   },
   {
    "duration": 188,
    "start_time": "2025-06-12T15:16:54.520Z"
   },
   {
    "duration": 22,
    "start_time": "2025-06-12T15:16:54.710Z"
   },
   {
    "duration": 381,
    "start_time": "2025-06-12T15:16:54.734Z"
   },
   {
    "duration": 3371,
    "start_time": "2025-06-12T15:16:55.118Z"
   },
   {
    "duration": 608,
    "start_time": "2025-06-12T15:16:58.491Z"
   },
   {
    "duration": 5,
    "start_time": "2025-06-12T15:16:59.100Z"
   },
   {
    "duration": 219,
    "start_time": "2025-06-12T15:16:59.106Z"
   },
   {
    "duration": 427,
    "start_time": "2025-06-12T15:16:59.327Z"
   },
   {
    "duration": 359,
    "start_time": "2025-06-12T15:16:59.756Z"
   },
   {
    "duration": 225,
    "start_time": "2025-06-12T15:17:00.116Z"
   },
   {
    "duration": 94,
    "start_time": "2025-06-12T15:17:00.342Z"
   },
   {
    "duration": 634,
    "start_time": "2025-06-12T15:17:00.438Z"
   },
   {
    "duration": 195,
    "start_time": "2025-06-12T15:17:01.074Z"
   },
   {
    "duration": 158,
    "start_time": "2025-06-12T15:17:01.270Z"
   },
   {
    "duration": 160,
    "start_time": "2025-06-12T15:17:01.430Z"
   },
   {
    "duration": 183,
    "start_time": "2025-06-12T15:17:01.592Z"
   },
   {
    "duration": 42,
    "start_time": "2025-06-12T15:17:01.778Z"
   },
   {
    "duration": 71,
    "start_time": "2025-06-12T15:17:01.822Z"
   },
   {
    "duration": 260,
    "start_time": "2025-06-12T15:17:01.895Z"
   },
   {
    "duration": 61,
    "start_time": "2025-06-12T15:17:02.160Z"
   },
   {
    "duration": 62,
    "start_time": "2025-06-12T15:17:02.222Z"
   },
   {
    "duration": 84,
    "start_time": "2025-06-12T15:17:02.289Z"
   },
   {
    "duration": 62,
    "start_time": "2025-06-12T15:17:02.374Z"
   },
   {
    "duration": 30,
    "start_time": "2025-06-12T15:17:02.438Z"
   },
   {
    "duration": 49,
    "start_time": "2025-06-12T15:17:02.470Z"
   },
   {
    "duration": 200,
    "start_time": "2025-06-12T15:17:02.520Z"
   },
   {
    "duration": 197,
    "start_time": "2025-06-12T15:17:02.722Z"
   },
   {
    "duration": 28,
    "start_time": "2025-06-12T15:17:02.920Z"
   },
   {
    "duration": 391,
    "start_time": "2025-06-12T15:17:02.960Z"
   },
   {
    "duration": 201,
    "start_time": "2025-06-12T15:17:03.352Z"
   },
   {
    "duration": 14,
    "start_time": "2025-06-12T15:17:03.554Z"
   },
   {
    "duration": 196,
    "start_time": "2025-06-12T15:17:03.570Z"
   },
   {
    "duration": 56,
    "start_time": "2025-06-12T15:17:03.768Z"
   },
   {
    "duration": 70,
    "start_time": "2025-06-12T15:17:03.826Z"
   },
   {
    "duration": 23,
    "start_time": "2025-06-12T15:17:03.898Z"
   },
   {
    "duration": 55,
    "start_time": "2025-06-12T15:17:03.923Z"
   },
   {
    "duration": 13,
    "start_time": "2025-06-12T15:17:03.980Z"
   },
   {
    "duration": 13,
    "start_time": "2025-06-12T15:17:03.994Z"
   },
   {
    "duration": 15,
    "start_time": "2025-06-12T15:17:04.009Z"
   },
   {
    "duration": 3,
    "start_time": "2025-06-12T15:17:04.025Z"
   },
   {
    "duration": 3,
    "start_time": "2025-06-12T15:17:04.029Z"
   },
   {
    "duration": 41,
    "start_time": "2025-06-12T15:17:04.034Z"
   },
   {
    "duration": 11,
    "start_time": "2025-06-12T15:17:04.078Z"
   },
   {
    "duration": 123,
    "start_time": "2025-06-12T15:17:04.090Z"
   },
   {
    "duration": 119,
    "start_time": "2025-06-12T15:17:04.214Z"
   },
   {
    "duration": 274,
    "start_time": "2025-06-12T15:17:04.335Z"
   },
   {
    "duration": 288,
    "start_time": "2025-06-12T15:17:04.611Z"
   },
   {
    "duration": 101,
    "start_time": "2025-06-12T15:17:04.901Z"
   },
   {
    "duration": 107,
    "start_time": "2025-06-12T15:17:05.004Z"
   },
   {
    "duration": 62,
    "start_time": "2025-06-12T15:17:05.114Z"
   },
   {
    "duration": 35,
    "start_time": "2025-06-12T15:17:05.178Z"
   },
   {
    "duration": 32,
    "start_time": "2025-06-12T15:17:05.215Z"
   },
   {
    "duration": 1361,
    "start_time": "2025-06-12T15:17:05.249Z"
   },
   {
    "duration": 71,
    "start_time": "2025-06-12T15:17:06.611Z"
   },
   {
    "duration": 132,
    "start_time": "2025-06-12T15:17:06.683Z"
   },
   {
    "duration": 10,
    "start_time": "2025-06-12T15:17:06.817Z"
   },
   {
    "duration": 2619,
    "start_time": "2025-06-12T15:17:06.829Z"
   },
   {
    "duration": 105,
    "start_time": "2025-06-12T15:17:09.450Z"
   },
   {
    "duration": 36,
    "start_time": "2025-06-12T15:17:09.561Z"
   },
   {
    "duration": 368,
    "start_time": "2025-06-12T15:17:09.599Z"
   },
   {
    "duration": 362,
    "start_time": "2025-06-12T15:17:09.969Z"
   },
   {
    "duration": 81,
    "start_time": "2025-06-12T15:17:10.333Z"
   },
   {
    "duration": 2,
    "start_time": "2025-06-12T15:17:10.416Z"
   },
   {
    "duration": 25,
    "start_time": "2025-06-12T15:17:10.420Z"
   },
   {
    "duration": 14,
    "start_time": "2025-06-12T15:17:10.446Z"
   },
   {
    "duration": 16,
    "start_time": "2025-06-12T15:17:10.462Z"
   },
   {
    "duration": 15,
    "start_time": "2025-06-12T15:17:10.479Z"
   },
   {
    "duration": 5,
    "start_time": "2025-06-12T15:17:10.495Z"
   },
   {
    "duration": 85,
    "start_time": "2025-06-12T15:17:10.501Z"
   },
   {
    "duration": 57,
    "start_time": "2025-06-12T15:17:10.588Z"
   },
   {
    "duration": 63,
    "start_time": "2025-06-12T15:17:10.647Z"
   },
   {
    "duration": 54,
    "start_time": "2025-06-12T15:17:10.712Z"
   },
   {
    "duration": 12,
    "start_time": "2025-06-12T15:17:10.768Z"
   },
   {
    "duration": 112,
    "start_time": "2025-06-12T15:18:10.869Z"
   },
   {
    "duration": 4,
    "start_time": "2025-06-12T15:18:28.635Z"
   },
   {
    "duration": 5,
    "start_time": "2025-06-12T15:18:55.783Z"
   },
   {
    "duration": 63,
    "start_time": "2025-06-12T15:21:46.989Z"
   },
   {
    "duration": 21,
    "start_time": "2025-06-12T15:21:55.089Z"
   },
   {
    "duration": 13,
    "start_time": "2025-06-12T15:22:18.679Z"
   },
   {
    "duration": 141,
    "start_time": "2025-06-12T15:27:09.209Z"
   },
   {
    "duration": 9,
    "start_time": "2025-06-12T15:27:29.649Z"
   },
   {
    "duration": 123,
    "start_time": "2025-06-12T15:27:50.338Z"
   },
   {
    "duration": 127,
    "start_time": "2025-06-12T15:27:58.564Z"
   },
   {
    "duration": 278,
    "start_time": "2025-06-12T15:28:29.610Z"
   },
   {
    "duration": 147,
    "start_time": "2025-06-12T15:29:18.858Z"
   },
   {
    "duration": 154,
    "start_time": "2025-06-12T15:30:09.271Z"
   },
   {
    "duration": 155,
    "start_time": "2025-06-12T15:30:16.162Z"
   },
   {
    "duration": 159,
    "start_time": "2025-06-12T15:31:02.059Z"
   },
   {
    "duration": 278,
    "start_time": "2025-06-12T15:31:18.357Z"
   },
   {
    "duration": 1213,
    "start_time": "2025-06-12T15:32:02.671Z"
   },
   {
    "duration": 2324,
    "start_time": "2025-06-12T15:32:03.886Z"
   },
   {
    "duration": 14,
    "start_time": "2025-06-12T15:32:06.212Z"
   },
   {
    "duration": 100,
    "start_time": "2025-06-12T15:32:06.228Z"
   },
   {
    "duration": 243,
    "start_time": "2025-06-12T15:32:06.330Z"
   },
   {
    "duration": 11,
    "start_time": "2025-06-12T15:32:06.574Z"
   },
   {
    "duration": 210,
    "start_time": "2025-06-12T15:32:06.586Z"
   },
   {
    "duration": 20,
    "start_time": "2025-06-12T15:32:06.798Z"
   },
   {
    "duration": 351,
    "start_time": "2025-06-12T15:32:06.820Z"
   },
   {
    "duration": 3220,
    "start_time": "2025-06-12T15:32:07.173Z"
   },
   {
    "duration": 608,
    "start_time": "2025-06-12T15:32:10.395Z"
   },
   {
    "duration": 4,
    "start_time": "2025-06-12T15:32:11.005Z"
   },
   {
    "duration": 270,
    "start_time": "2025-06-12T15:32:11.011Z"
   },
   {
    "duration": 406,
    "start_time": "2025-06-12T15:32:11.283Z"
   },
   {
    "duration": 351,
    "start_time": "2025-06-12T15:32:11.691Z"
   },
   {
    "duration": 202,
    "start_time": "2025-06-12T15:32:12.044Z"
   },
   {
    "duration": 82,
    "start_time": "2025-06-12T15:32:12.247Z"
   },
   {
    "duration": 623,
    "start_time": "2025-06-12T15:32:12.331Z"
   },
   {
    "duration": 186,
    "start_time": "2025-06-12T15:32:12.955Z"
   },
   {
    "duration": 138,
    "start_time": "2025-06-12T15:32:13.143Z"
   },
   {
    "duration": 11,
    "start_time": "2025-06-12T15:32:13.282Z"
   },
   {
    "duration": 142,
    "start_time": "2025-06-12T15:32:13.294Z"
   },
   {
    "duration": 48,
    "start_time": "2025-06-12T15:32:13.437Z"
   },
   {
    "duration": 146,
    "start_time": "2025-06-12T15:32:13.487Z"
   },
   {
    "duration": 217,
    "start_time": "2025-06-12T15:32:13.634Z"
   },
   {
    "duration": 57,
    "start_time": "2025-06-12T15:32:13.853Z"
   },
   {
    "duration": 52,
    "start_time": "2025-06-12T15:32:13.912Z"
   },
   {
    "duration": 10,
    "start_time": "2025-06-12T15:32:13.969Z"
   },
   {
    "duration": 3,
    "start_time": "2025-06-12T15:32:13.980Z"
   },
   {
    "duration": 5,
    "start_time": "2025-06-12T15:32:13.984Z"
   },
   {
    "duration": 21,
    "start_time": "2025-06-12T15:32:13.990Z"
   },
   {
    "duration": 224,
    "start_time": "2025-06-12T15:32:14.013Z"
   },
   {
    "duration": 172,
    "start_time": "2025-06-12T15:32:14.239Z"
   },
   {
    "duration": 25,
    "start_time": "2025-06-12T15:32:14.413Z"
   },
   {
    "duration": 387,
    "start_time": "2025-06-12T15:32:14.440Z"
   },
   {
    "duration": 200,
    "start_time": "2025-06-12T15:32:14.828Z"
   },
   {
    "duration": 8,
    "start_time": "2025-06-12T15:32:15.030Z"
   },
   {
    "duration": 337,
    "start_time": "2025-06-12T15:32:15.040Z"
   },
   {
    "duration": 53,
    "start_time": "2025-06-12T15:32:15.379Z"
   },
   {
    "duration": 158,
    "start_time": "2025-06-12T15:32:15.434Z"
   },
   {
    "duration": 22,
    "start_time": "2025-06-12T15:32:15.593Z"
   },
   {
    "duration": 60,
    "start_time": "2025-06-12T15:32:15.617Z"
   },
   {
    "duration": 12,
    "start_time": "2025-06-12T15:32:15.678Z"
   },
   {
    "duration": 17,
    "start_time": "2025-06-12T15:32:15.692Z"
   },
   {
    "duration": 26,
    "start_time": "2025-06-12T15:32:15.711Z"
   },
   {
    "duration": 9,
    "start_time": "2025-06-12T15:32:15.738Z"
   },
   {
    "duration": 21,
    "start_time": "2025-06-12T15:32:15.749Z"
   },
   {
    "duration": 43,
    "start_time": "2025-06-12T15:32:15.771Z"
   },
   {
    "duration": 11,
    "start_time": "2025-06-12T15:32:15.816Z"
   },
   {
    "duration": 108,
    "start_time": "2025-06-12T15:32:15.829Z"
   },
   {
    "duration": 121,
    "start_time": "2025-06-12T15:32:15.939Z"
   },
   {
    "duration": 244,
    "start_time": "2025-06-12T15:32:16.062Z"
   },
   {
    "duration": 233,
    "start_time": "2025-06-12T15:32:16.308Z"
   },
   {
    "duration": 87,
    "start_time": "2025-06-12T15:32:16.543Z"
   },
   {
    "duration": 87,
    "start_time": "2025-06-12T15:32:16.631Z"
   },
   {
    "duration": 55,
    "start_time": "2025-06-12T15:32:16.720Z"
   },
   {
    "duration": 32,
    "start_time": "2025-06-12T15:32:16.777Z"
   },
   {
    "duration": 24,
    "start_time": "2025-06-12T15:32:16.810Z"
   },
   {
    "duration": 1326,
    "start_time": "2025-06-12T15:32:16.836Z"
   },
   {
    "duration": 58,
    "start_time": "2025-06-12T15:32:18.163Z"
   },
   {
    "duration": 136,
    "start_time": "2025-06-12T15:32:18.223Z"
   },
   {
    "duration": 9,
    "start_time": "2025-06-12T15:32:18.361Z"
   },
   {
    "duration": 2538,
    "start_time": "2025-06-12T15:32:18.372Z"
   },
   {
    "duration": 95,
    "start_time": "2025-06-12T15:32:20.912Z"
   },
   {
    "duration": 130,
    "start_time": "2025-06-12T15:32:21.010Z"
   },
   {
    "duration": 346,
    "start_time": "2025-06-12T15:32:21.141Z"
   },
   {
    "duration": 343,
    "start_time": "2025-06-12T15:32:21.489Z"
   },
   {
    "duration": 84,
    "start_time": "2025-06-12T15:32:21.834Z"
   },
   {
    "duration": 2,
    "start_time": "2025-06-12T15:32:21.920Z"
   },
   {
    "duration": 22,
    "start_time": "2025-06-12T15:32:21.924Z"
   },
   {
    "duration": 21,
    "start_time": "2025-06-12T15:32:21.948Z"
   },
   {
    "duration": 35,
    "start_time": "2025-06-12T15:32:21.971Z"
   },
   {
    "duration": 16,
    "start_time": "2025-06-12T15:32:22.008Z"
   },
   {
    "duration": 4,
    "start_time": "2025-06-12T15:32:22.025Z"
   },
   {
    "duration": 67,
    "start_time": "2025-06-12T15:32:22.031Z"
   },
   {
    "duration": 51,
    "start_time": "2025-06-12T15:32:22.100Z"
   },
   {
    "duration": 24,
    "start_time": "2025-06-12T15:32:22.160Z"
   },
   {
    "duration": 109,
    "start_time": "2025-06-12T15:32:22.185Z"
   },
   {
    "duration": 21,
    "start_time": "2025-06-12T15:32:22.296Z"
   },
   {
    "duration": 172,
    "start_time": "2025-06-12T15:32:22.319Z"
   },
   {
    "duration": 296,
    "start_time": "2025-06-12T15:32:22.493Z"
   },
   {
    "duration": 159,
    "start_time": "2025-06-12T15:32:31.387Z"
   },
   {
    "duration": 256,
    "start_time": "2025-06-12T15:33:15.486Z"
   },
   {
    "duration": 158,
    "start_time": "2025-06-12T15:33:33.190Z"
   },
   {
    "duration": 160,
    "start_time": "2025-06-12T15:34:47.434Z"
   },
   {
    "duration": 1381,
    "start_time": "2025-06-12T15:35:06.001Z"
   },
   {
    "duration": 1808,
    "start_time": "2025-06-12T15:35:16.294Z"
   },
   {
    "duration": 837,
    "start_time": "2025-06-12T15:35:20.050Z"
   },
   {
    "duration": 622,
    "start_time": "2025-06-12T15:35:38.343Z"
   },
   {
    "duration": 925,
    "start_time": "2025-06-12T15:38:06.177Z"
   },
   {
    "duration": 10,
    "start_time": "2025-06-12T15:45:21.830Z"
   },
   {
    "duration": 1433,
    "start_time": "2025-06-13T08:48:24.448Z"
   },
   {
    "duration": 3150,
    "start_time": "2025-06-13T08:48:25.883Z"
   },
   {
    "duration": 38,
    "start_time": "2025-06-13T08:48:29.034Z"
   },
   {
    "duration": 48,
    "start_time": "2025-06-13T08:48:29.076Z"
   },
   {
    "duration": 266,
    "start_time": "2025-06-13T08:48:29.126Z"
   },
   {
    "duration": 13,
    "start_time": "2025-06-13T08:48:29.394Z"
   },
   {
    "duration": 183,
    "start_time": "2025-06-13T08:48:29.408Z"
   },
   {
    "duration": 18,
    "start_time": "2025-06-13T08:48:29.593Z"
   },
   {
    "duration": 381,
    "start_time": "2025-06-13T08:48:29.613Z"
   },
   {
    "duration": 4221,
    "start_time": "2025-06-13T08:48:29.996Z"
   },
   {
    "duration": 685,
    "start_time": "2025-06-13T08:48:34.220Z"
   },
   {
    "duration": 4,
    "start_time": "2025-06-13T08:48:34.907Z"
   },
   {
    "duration": 206,
    "start_time": "2025-06-13T08:48:34.912Z"
   },
   {
    "duration": 437,
    "start_time": "2025-06-13T08:48:35.119Z"
   },
   {
    "duration": 370,
    "start_time": "2025-06-13T08:48:35.558Z"
   },
   {
    "duration": 215,
    "start_time": "2025-06-13T08:48:35.930Z"
   },
   {
    "duration": 83,
    "start_time": "2025-06-13T08:48:36.147Z"
   },
   {
    "duration": 677,
    "start_time": "2025-06-13T08:48:36.231Z"
   },
   {
    "duration": 202,
    "start_time": "2025-06-13T08:48:36.909Z"
   },
   {
    "duration": 142,
    "start_time": "2025-06-13T08:48:37.112Z"
   },
   {
    "duration": 20,
    "start_time": "2025-06-13T08:48:37.260Z"
   },
   {
    "duration": 193,
    "start_time": "2025-06-13T08:48:37.282Z"
   },
   {
    "duration": 61,
    "start_time": "2025-06-13T08:48:37.481Z"
   },
   {
    "duration": 29,
    "start_time": "2025-06-13T08:48:37.544Z"
   },
   {
    "duration": 233,
    "start_time": "2025-06-13T08:48:37.577Z"
   },
   {
    "duration": 68,
    "start_time": "2025-06-13T08:48:37.812Z"
   },
   {
    "duration": 47,
    "start_time": "2025-06-13T08:48:37.882Z"
   },
   {
    "duration": 35,
    "start_time": "2025-06-13T08:48:37.933Z"
   },
   {
    "duration": 3,
    "start_time": "2025-06-13T08:48:37.973Z"
   },
   {
    "duration": 19,
    "start_time": "2025-06-13T08:48:37.978Z"
   },
   {
    "duration": 54,
    "start_time": "2025-06-13T08:48:37.999Z"
   },
   {
    "duration": 270,
    "start_time": "2025-06-13T08:48:38.055Z"
   },
   {
    "duration": 196,
    "start_time": "2025-06-13T08:48:38.327Z"
   },
   {
    "duration": 43,
    "start_time": "2025-06-13T08:48:38.524Z"
   },
   {
    "duration": 369,
    "start_time": "2025-06-13T08:48:38.569Z"
   },
   {
    "duration": 196,
    "start_time": "2025-06-13T08:48:38.940Z"
   },
   {
    "duration": 10,
    "start_time": "2025-06-13T08:48:39.138Z"
   },
   {
    "duration": 184,
    "start_time": "2025-06-13T08:48:39.150Z"
   },
   {
    "duration": 62,
    "start_time": "2025-06-13T08:48:39.336Z"
   },
   {
    "duration": 69,
    "start_time": "2025-06-13T08:48:39.399Z"
   },
   {
    "duration": 24,
    "start_time": "2025-06-13T08:48:39.469Z"
   },
   {
    "duration": 58,
    "start_time": "2025-06-13T08:48:39.495Z"
   },
   {
    "duration": 29,
    "start_time": "2025-06-13T08:48:39.554Z"
   },
   {
    "duration": 62,
    "start_time": "2025-06-13T08:48:39.585Z"
   },
   {
    "duration": 25,
    "start_time": "2025-06-13T08:48:39.649Z"
   },
   {
    "duration": 12,
    "start_time": "2025-06-13T08:48:39.676Z"
   },
   {
    "duration": 65,
    "start_time": "2025-06-13T08:48:39.689Z"
   },
   {
    "duration": 100,
    "start_time": "2025-06-13T08:48:39.756Z"
   },
   {
    "duration": 33,
    "start_time": "2025-06-13T08:48:39.857Z"
   },
   {
    "duration": 24,
    "start_time": "2025-06-13T08:48:39.892Z"
   },
   {
    "duration": 428,
    "start_time": "2025-06-13T08:48:39.918Z"
   },
   {
    "duration": 330,
    "start_time": "2025-06-13T08:48:40.347Z"
   },
   {
    "duration": 242,
    "start_time": "2025-06-13T08:48:40.678Z"
   },
   {
    "duration": 87,
    "start_time": "2025-06-13T08:48:40.921Z"
   },
   {
    "duration": 98,
    "start_time": "2025-06-13T08:48:41.010Z"
   },
   {
    "duration": 62,
    "start_time": "2025-06-13T08:48:41.110Z"
   },
   {
    "duration": 80,
    "start_time": "2025-06-13T08:48:41.174Z"
   },
   {
    "duration": 36,
    "start_time": "2025-06-13T08:48:41.255Z"
   },
   {
    "duration": 1363,
    "start_time": "2025-06-13T08:48:41.293Z"
   },
   {
    "duration": 68,
    "start_time": "2025-06-13T08:48:42.657Z"
   },
   {
    "duration": 93,
    "start_time": "2025-06-13T08:48:42.727Z"
   },
   {
    "duration": 9,
    "start_time": "2025-06-13T08:48:42.822Z"
   },
   {
    "duration": 8669,
    "start_time": "2025-06-13T08:48:42.832Z"
   },
   {
    "duration": 107,
    "start_time": "2025-06-13T08:48:51.503Z"
   },
   {
    "duration": 33,
    "start_time": "2025-06-13T08:48:51.611Z"
   },
   {
    "duration": 385,
    "start_time": "2025-06-13T08:48:51.646Z"
   },
   {
    "duration": 356,
    "start_time": "2025-06-13T08:48:52.032Z"
   },
   {
    "duration": 95,
    "start_time": "2025-06-13T08:48:52.389Z"
   },
   {
    "duration": 2,
    "start_time": "2025-06-13T08:48:52.485Z"
   },
   {
    "duration": 9,
    "start_time": "2025-06-13T08:48:52.489Z"
   },
   {
    "duration": 10,
    "start_time": "2025-06-13T08:48:52.500Z"
   },
   {
    "duration": 8,
    "start_time": "2025-06-13T08:48:52.511Z"
   },
   {
    "duration": 15,
    "start_time": "2025-06-13T08:48:52.520Z"
   },
   {
    "duration": 5,
    "start_time": "2025-06-13T08:48:52.536Z"
   },
   {
    "duration": 214,
    "start_time": "2025-06-13T08:48:52.542Z"
   },
   {
    "duration": 72,
    "start_time": "2025-06-13T08:48:52.758Z"
   },
   {
    "duration": 24,
    "start_time": "2025-06-13T08:48:52.831Z"
   },
   {
    "duration": 35,
    "start_time": "2025-06-13T08:48:52.857Z"
   },
   {
    "duration": 10,
    "start_time": "2025-06-13T08:48:52.894Z"
   },
   {
    "duration": 188,
    "start_time": "2025-06-13T08:48:52.906Z"
   },
   {
    "duration": 176,
    "start_time": "2025-06-13T08:48:53.095Z"
   },
   {
    "duration": 22,
    "start_time": "2025-06-13T08:48:53.281Z"
   },
   {
    "duration": 6,
    "start_time": "2025-06-13T08:52:43.566Z"
   },
   {
    "duration": 104,
    "start_time": "2025-06-13T08:53:09.657Z"
   },
   {
    "duration": 5,
    "start_time": "2025-06-13T08:53:54.103Z"
   },
   {
    "duration": 59,
    "start_time": "2025-06-13T09:00:07.100Z"
   },
   {
    "duration": 71,
    "start_time": "2025-06-13T09:00:39.938Z"
   },
   {
    "duration": 51,
    "start_time": "2025-06-13T09:01:00.309Z"
   },
   {
    "duration": 48,
    "start_time": "2025-06-13T09:02:15.309Z"
   },
   {
    "duration": 35,
    "start_time": "2025-06-13T09:03:41.367Z"
   },
   {
    "duration": 6,
    "start_time": "2025-06-13T09:06:55.375Z"
   },
   {
    "duration": 14,
    "start_time": "2025-06-13T09:08:26.809Z"
   },
   {
    "duration": 6,
    "start_time": "2025-06-13T09:08:43.633Z"
   },
   {
    "duration": 1056,
    "start_time": "2025-06-13T09:09:00.179Z"
   },
   {
    "duration": 1048,
    "start_time": "2025-06-13T09:09:20.351Z"
   },
   {
    "duration": 1064,
    "start_time": "2025-06-13T09:11:03.332Z"
   },
   {
    "duration": 46,
    "start_time": "2025-06-13T09:11:32.032Z"
   },
   {
    "duration": 1238,
    "start_time": "2025-06-13T09:14:03.311Z"
   },
   {
    "duration": 2732,
    "start_time": "2025-06-13T09:14:04.551Z"
   },
   {
    "duration": 14,
    "start_time": "2025-06-13T09:14:07.287Z"
   },
   {
    "duration": 62,
    "start_time": "2025-06-13T09:14:07.303Z"
   },
   {
    "duration": 315,
    "start_time": "2025-06-13T09:14:07.367Z"
   },
   {
    "duration": 11,
    "start_time": "2025-06-13T09:14:07.687Z"
   },
   {
    "duration": 192,
    "start_time": "2025-06-13T09:14:07.699Z"
   },
   {
    "duration": 18,
    "start_time": "2025-06-13T09:14:07.893Z"
   },
   {
    "duration": 412,
    "start_time": "2025-06-13T09:14:07.913Z"
   },
   {
    "duration": 3385,
    "start_time": "2025-06-13T09:14:08.328Z"
   },
   {
    "duration": 622,
    "start_time": "2025-06-13T09:14:11.715Z"
   },
   {
    "duration": 4,
    "start_time": "2025-06-13T09:14:12.339Z"
   },
   {
    "duration": 202,
    "start_time": "2025-06-13T09:14:12.361Z"
   },
   {
    "duration": 448,
    "start_time": "2025-06-13T09:14:12.565Z"
   },
   {
    "duration": 379,
    "start_time": "2025-06-13T09:14:13.015Z"
   },
   {
    "duration": 225,
    "start_time": "2025-06-13T09:14:13.396Z"
   },
   {
    "duration": 95,
    "start_time": "2025-06-13T09:14:13.623Z"
   },
   {
    "duration": 690,
    "start_time": "2025-06-13T09:14:13.720Z"
   },
   {
    "duration": 191,
    "start_time": "2025-06-13T09:14:14.412Z"
   },
   {
    "duration": 163,
    "start_time": "2025-06-13T09:14:14.604Z"
   },
   {
    "duration": 81,
    "start_time": "2025-06-13T09:14:14.777Z"
   },
   {
    "duration": 164,
    "start_time": "2025-06-13T09:14:14.864Z"
   },
   {
    "duration": 48,
    "start_time": "2025-06-13T09:14:15.030Z"
   },
   {
    "duration": 86,
    "start_time": "2025-06-13T09:14:15.080Z"
   },
   {
    "duration": 282,
    "start_time": "2025-06-13T09:14:15.168Z"
   },
   {
    "duration": 71,
    "start_time": "2025-06-13T09:14:15.452Z"
   },
   {
    "duration": 57,
    "start_time": "2025-06-13T09:14:15.524Z"
   },
   {
    "duration": 24,
    "start_time": "2025-06-13T09:14:15.588Z"
   },
   {
    "duration": 10,
    "start_time": "2025-06-13T09:14:15.614Z"
   },
   {
    "duration": 5,
    "start_time": "2025-06-13T09:14:15.625Z"
   },
   {
    "duration": 20,
    "start_time": "2025-06-13T09:14:15.631Z"
   },
   {
    "duration": 201,
    "start_time": "2025-06-13T09:14:15.652Z"
   },
   {
    "duration": 185,
    "start_time": "2025-06-13T09:14:15.855Z"
   },
   {
    "duration": 45,
    "start_time": "2025-06-13T09:14:16.042Z"
   },
   {
    "duration": 376,
    "start_time": "2025-06-13T09:14:16.089Z"
   },
   {
    "duration": 185,
    "start_time": "2025-06-13T09:14:16.472Z"
   },
   {
    "duration": 19,
    "start_time": "2025-06-13T09:14:16.659Z"
   },
   {
    "duration": 308,
    "start_time": "2025-06-13T09:14:16.680Z"
   },
   {
    "duration": 49,
    "start_time": "2025-06-13T09:14:16.990Z"
   },
   {
    "duration": 79,
    "start_time": "2025-06-13T09:14:17.041Z"
   },
   {
    "duration": 24,
    "start_time": "2025-06-13T09:14:17.122Z"
   },
   {
    "duration": 55,
    "start_time": "2025-06-13T09:14:17.148Z"
   },
   {
    "duration": 12,
    "start_time": "2025-06-13T09:14:17.205Z"
   },
   {
    "duration": 13,
    "start_time": "2025-06-13T09:14:17.218Z"
   },
   {
    "duration": 14,
    "start_time": "2025-06-13T09:14:17.232Z"
   },
   {
    "duration": 14,
    "start_time": "2025-06-13T09:14:17.248Z"
   },
   {
    "duration": 8,
    "start_time": "2025-06-13T09:14:17.264Z"
   },
   {
    "duration": 28,
    "start_time": "2025-06-13T09:14:17.274Z"
   },
   {
    "duration": 5,
    "start_time": "2025-06-13T09:14:17.303Z"
   },
   {
    "duration": 20,
    "start_time": "2025-06-13T09:14:17.310Z"
   },
   {
    "duration": 113,
    "start_time": "2025-06-13T09:14:17.331Z"
   },
   {
    "duration": 302,
    "start_time": "2025-06-13T09:14:17.447Z"
   },
   {
    "duration": 260,
    "start_time": "2025-06-13T09:14:17.750Z"
   },
   {
    "duration": 102,
    "start_time": "2025-06-13T09:14:18.011Z"
   },
   {
    "duration": 87,
    "start_time": "2025-06-13T09:14:18.114Z"
   },
   {
    "duration": 351,
    "start_time": "2025-06-13T09:14:18.203Z"
   },
   {
    "duration": 47,
    "start_time": "2025-06-13T09:14:18.555Z"
   },
   {
    "duration": 23,
    "start_time": "2025-06-13T09:14:18.603Z"
   },
   {
    "duration": 1424,
    "start_time": "2025-06-13T09:14:18.628Z"
   },
   {
    "duration": 78,
    "start_time": "2025-06-13T09:14:20.053Z"
   },
   {
    "duration": 100,
    "start_time": "2025-06-13T09:14:20.133Z"
   },
   {
    "duration": 10,
    "start_time": "2025-06-13T09:14:20.234Z"
   },
   {
    "duration": 2889,
    "start_time": "2025-06-13T09:14:20.245Z"
   },
   {
    "duration": 109,
    "start_time": "2025-06-13T09:14:23.136Z"
   },
   {
    "duration": 34,
    "start_time": "2025-06-13T09:14:23.247Z"
   },
   {
    "duration": 356,
    "start_time": "2025-06-13T09:14:23.282Z"
   },
   {
    "duration": 380,
    "start_time": "2025-06-13T09:14:23.640Z"
   },
   {
    "duration": 95,
    "start_time": "2025-06-13T09:14:24.022Z"
   },
   {
    "duration": 2,
    "start_time": "2025-06-13T09:14:24.119Z"
   },
   {
    "duration": 25,
    "start_time": "2025-06-13T09:14:24.122Z"
   },
   {
    "duration": 30,
    "start_time": "2025-06-13T09:14:24.149Z"
   },
   {
    "duration": 6,
    "start_time": "2025-06-13T09:14:24.187Z"
   },
   {
    "duration": 8,
    "start_time": "2025-06-13T09:14:24.194Z"
   },
   {
    "duration": 6,
    "start_time": "2025-06-13T09:14:24.204Z"
   },
   {
    "duration": 99,
    "start_time": "2025-06-13T09:14:24.211Z"
   },
   {
    "duration": 96,
    "start_time": "2025-06-13T09:14:24.311Z"
   },
   {
    "duration": 21,
    "start_time": "2025-06-13T09:14:24.408Z"
   },
   {
    "duration": 124,
    "start_time": "2025-06-13T09:14:24.431Z"
   },
   {
    "duration": 35,
    "start_time": "2025-06-13T09:14:24.556Z"
   },
   {
    "duration": 199,
    "start_time": "2025-06-13T09:14:24.593Z"
   },
   {
    "duration": 184,
    "start_time": "2025-06-13T09:14:24.794Z"
   },
   {
    "duration": 36,
    "start_time": "2025-06-13T09:14:24.985Z"
   },
   {
    "duration": 14,
    "start_time": "2025-06-13T09:14:25.023Z"
   },
   {
    "duration": 9,
    "start_time": "2025-06-13T09:16:36.234Z"
   },
   {
    "duration": 8,
    "start_time": "2025-06-13T09:17:00.132Z"
   },
   {
    "duration": 144,
    "start_time": "2025-06-13T09:19:46.385Z"
   },
   {
    "duration": 4,
    "start_time": "2025-06-13T09:32:08.808Z"
   },
   {
    "duration": 6,
    "start_time": "2025-06-13T09:42:38.265Z"
   },
   {
    "duration": 4,
    "start_time": "2025-06-13T09:43:00.038Z"
   },
   {
    "duration": 5,
    "start_time": "2025-06-13T09:43:36.775Z"
   },
   {
    "duration": 31,
    "start_time": "2025-06-13T10:03:08.408Z"
   },
   {
    "duration": 16,
    "start_time": "2025-06-13T10:03:28.902Z"
   },
   {
    "duration": 4,
    "start_time": "2025-06-13T10:04:13.851Z"
   },
   {
    "duration": 15,
    "start_time": "2025-06-13T10:04:24.013Z"
   },
   {
    "duration": 120,
    "start_time": "2025-06-13T10:04:58.023Z"
   },
   {
    "duration": 103,
    "start_time": "2025-06-13T10:07:39.709Z"
   },
   {
    "duration": 11,
    "start_time": "2025-06-13T10:07:46.799Z"
   },
   {
    "duration": 9,
    "start_time": "2025-06-13T10:07:52.941Z"
   },
   {
    "duration": 14,
    "start_time": "2025-06-13T10:08:03.838Z"
   },
   {
    "duration": 14,
    "start_time": "2025-06-13T10:08:42.871Z"
   },
   {
    "duration": 13,
    "start_time": "2025-06-13T10:08:53.913Z"
   },
   {
    "duration": 7,
    "start_time": "2025-06-13T10:09:45.039Z"
   },
   {
    "duration": 6,
    "start_time": "2025-06-13T10:09:48.427Z"
   },
   {
    "duration": 11,
    "start_time": "2025-06-13T10:10:01.929Z"
   },
   {
    "duration": 7,
    "start_time": "2025-06-13T10:10:28.983Z"
   },
   {
    "duration": 13,
    "start_time": "2025-06-13T10:10:53.706Z"
   },
   {
    "duration": 15,
    "start_time": "2025-06-13T10:12:09.302Z"
   },
   {
    "duration": 14,
    "start_time": "2025-06-13T10:12:45.040Z"
   },
   {
    "duration": 15,
    "start_time": "2025-06-13T10:13:14.416Z"
   },
   {
    "duration": 21,
    "start_time": "2025-06-13T10:14:00.487Z"
   },
   {
    "duration": 17,
    "start_time": "2025-06-13T10:16:41.475Z"
   },
   {
    "duration": 1359,
    "start_time": "2025-06-13T10:17:11.143Z"
   },
   {
    "duration": 10,
    "start_time": "2025-06-13T10:17:37.077Z"
   },
   {
    "duration": 11,
    "start_time": "2025-06-13T10:17:40.107Z"
   },
   {
    "duration": 16,
    "start_time": "2025-06-13T10:18:05.701Z"
   },
   {
    "duration": 18,
    "start_time": "2025-06-13T10:18:11.127Z"
   },
   {
    "duration": 17,
    "start_time": "2025-06-13T10:18:23.714Z"
   },
   {
    "duration": 21,
    "start_time": "2025-06-13T10:18:33.858Z"
   },
   {
    "duration": 16,
    "start_time": "2025-06-13T10:18:53.432Z"
   },
   {
    "duration": 17,
    "start_time": "2025-06-13T10:24:23.671Z"
   },
   {
    "duration": 17,
    "start_time": "2025-06-13T10:25:01.133Z"
   },
   {
    "duration": 18,
    "start_time": "2025-06-13T10:25:12.756Z"
   },
   {
    "duration": 23,
    "start_time": "2025-06-13T10:26:20.651Z"
   },
   {
    "duration": 10,
    "start_time": "2025-06-13T10:27:59.791Z"
   },
   {
    "duration": 10,
    "start_time": "2025-06-13T10:28:06.271Z"
   },
   {
    "duration": 14,
    "start_time": "2025-06-13T10:29:26.790Z"
   },
   {
    "duration": 16,
    "start_time": "2025-06-13T10:29:58.310Z"
   },
   {
    "duration": 9,
    "start_time": "2025-06-13T10:30:21.815Z"
   },
   {
    "duration": 8,
    "start_time": "2025-06-13T10:31:03.000Z"
   },
   {
    "duration": 8,
    "start_time": "2025-06-13T10:31:23.294Z"
   },
   {
    "duration": 9,
    "start_time": "2025-06-13T10:32:00.025Z"
   },
   {
    "duration": 8,
    "start_time": "2025-06-13T10:32:07.150Z"
   },
   {
    "duration": 3,
    "start_time": "2025-06-13T10:34:36.709Z"
   },
   {
    "duration": 3,
    "start_time": "2025-06-13T10:35:15.313Z"
   },
   {
    "duration": 6,
    "start_time": "2025-06-13T10:35:28.196Z"
   },
   {
    "duration": 84,
    "start_time": "2025-06-13T10:39:11.305Z"
   },
   {
    "duration": 15,
    "start_time": "2025-06-13T10:39:15.866Z"
   },
   {
    "duration": 9,
    "start_time": "2025-06-13T10:39:22.983Z"
   },
   {
    "duration": 15,
    "start_time": "2025-06-13T10:40:43.952Z"
   },
   {
    "duration": 9,
    "start_time": "2025-06-13T10:41:00.630Z"
   },
   {
    "duration": 13,
    "start_time": "2025-06-13T10:42:36.629Z"
   },
   {
    "duration": 9,
    "start_time": "2025-06-13T10:45:25.038Z"
   },
   {
    "duration": 19,
    "start_time": "2025-06-13T10:46:39.155Z"
   },
   {
    "duration": 8,
    "start_time": "2025-06-13T10:48:28.651Z"
   },
   {
    "duration": 11,
    "start_time": "2025-06-13T10:48:37.967Z"
   },
   {
    "duration": 8,
    "start_time": "2025-06-13T10:49:44.173Z"
   },
   {
    "duration": 9,
    "start_time": "2025-06-13T10:50:49.811Z"
   },
   {
    "duration": 12,
    "start_time": "2025-06-13T10:54:28.955Z"
   },
   {
    "duration": 9,
    "start_time": "2025-06-13T10:54:45.077Z"
   },
   {
    "duration": 2,
    "start_time": "2025-06-13T10:57:48.225Z"
   },
   {
    "duration": 3,
    "start_time": "2025-06-13T10:58:25.458Z"
   },
   {
    "duration": 5,
    "start_time": "2025-06-13T10:58:37.910Z"
   },
   {
    "duration": 8,
    "start_time": "2025-06-13T10:59:01.368Z"
   },
   {
    "duration": 9,
    "start_time": "2025-06-13T11:01:59.464Z"
   },
   {
    "duration": 9,
    "start_time": "2025-06-13T11:03:08.159Z"
   },
   {
    "duration": 8,
    "start_time": "2025-06-13T11:20:10.419Z"
   },
   {
    "duration": 20,
    "start_time": "2025-06-13T11:20:15.508Z"
   },
   {
    "duration": 9,
    "start_time": "2025-06-13T11:20:36.093Z"
   },
   {
    "duration": 1255,
    "start_time": "2025-06-13T11:28:30.346Z"
   },
   {
    "duration": 4749,
    "start_time": "2025-06-13T11:28:31.603Z"
   },
   {
    "duration": 28,
    "start_time": "2025-06-13T11:28:36.354Z"
   },
   {
    "duration": 46,
    "start_time": "2025-06-13T11:28:36.384Z"
   },
   {
    "duration": 287,
    "start_time": "2025-06-13T11:28:36.432Z"
   },
   {
    "duration": 11,
    "start_time": "2025-06-13T11:28:36.722Z"
   },
   {
    "duration": 206,
    "start_time": "2025-06-13T11:28:36.735Z"
   },
   {
    "duration": 24,
    "start_time": "2025-06-13T11:28:36.942Z"
   },
   {
    "duration": 415,
    "start_time": "2025-06-13T11:28:36.967Z"
   },
   {
    "duration": 3428,
    "start_time": "2025-06-13T11:28:37.385Z"
   },
   {
    "duration": 636,
    "start_time": "2025-06-13T11:28:40.815Z"
   },
   {
    "duration": 20,
    "start_time": "2025-06-13T11:28:41.461Z"
   },
   {
    "duration": 206,
    "start_time": "2025-06-13T11:28:41.484Z"
   },
   {
    "duration": 430,
    "start_time": "2025-06-13T11:28:41.691Z"
   },
   {
    "duration": 397,
    "start_time": "2025-06-13T11:28:42.122Z"
   },
   {
    "duration": 235,
    "start_time": "2025-06-13T11:28:42.521Z"
   },
   {
    "duration": 81,
    "start_time": "2025-06-13T11:28:42.761Z"
   },
   {
    "duration": 676,
    "start_time": "2025-06-13T11:28:42.844Z"
   },
   {
    "duration": 188,
    "start_time": "2025-06-13T11:28:43.522Z"
   },
   {
    "duration": 156,
    "start_time": "2025-06-13T11:28:43.711Z"
   },
   {
    "duration": 13,
    "start_time": "2025-06-13T11:28:43.877Z"
   },
   {
    "duration": 143,
    "start_time": "2025-06-13T11:28:43.891Z"
   },
   {
    "duration": 48,
    "start_time": "2025-06-13T11:28:44.036Z"
   },
   {
    "duration": 20,
    "start_time": "2025-06-13T11:28:44.086Z"
   },
   {
    "duration": 270,
    "start_time": "2025-06-13T11:28:44.107Z"
   },
   {
    "duration": 58,
    "start_time": "2025-06-13T11:28:44.379Z"
   },
   {
    "duration": 61,
    "start_time": "2025-06-13T11:28:44.438Z"
   },
   {
    "duration": 9,
    "start_time": "2025-06-13T11:28:44.505Z"
   },
   {
    "duration": 3,
    "start_time": "2025-06-13T11:28:44.515Z"
   },
   {
    "duration": 4,
    "start_time": "2025-06-13T11:28:44.519Z"
   },
   {
    "duration": 44,
    "start_time": "2025-06-13T11:28:44.524Z"
   },
   {
    "duration": 229,
    "start_time": "2025-06-13T11:28:44.575Z"
   },
   {
    "duration": 206,
    "start_time": "2025-06-13T11:28:44.806Z"
   },
   {
    "duration": 25,
    "start_time": "2025-06-13T11:28:45.014Z"
   },
   {
    "duration": 473,
    "start_time": "2025-06-13T11:28:45.040Z"
   },
   {
    "duration": 208,
    "start_time": "2025-06-13T11:28:45.515Z"
   },
   {
    "duration": 10,
    "start_time": "2025-06-13T11:28:45.725Z"
   },
   {
    "duration": 185,
    "start_time": "2025-06-13T11:28:45.737Z"
   },
   {
    "duration": 74,
    "start_time": "2025-06-13T11:28:45.924Z"
   },
   {
    "duration": 52,
    "start_time": "2025-06-13T11:28:45.999Z"
   },
   {
    "duration": 28,
    "start_time": "2025-06-13T11:28:46.061Z"
   },
   {
    "duration": 47,
    "start_time": "2025-06-13T11:28:46.091Z"
   },
   {
    "duration": 25,
    "start_time": "2025-06-13T11:28:46.140Z"
   },
   {
    "duration": 21,
    "start_time": "2025-06-13T11:28:46.167Z"
   },
   {
    "duration": 13,
    "start_time": "2025-06-13T11:28:46.190Z"
   },
   {
    "duration": 2,
    "start_time": "2025-06-13T11:28:46.205Z"
   },
   {
    "duration": 39,
    "start_time": "2025-06-13T11:28:46.208Z"
   },
   {
    "duration": 30,
    "start_time": "2025-06-13T11:28:46.248Z"
   },
   {
    "duration": 8,
    "start_time": "2025-06-13T11:28:46.279Z"
   },
   {
    "duration": 19,
    "start_time": "2025-06-13T11:28:46.289Z"
   },
   {
    "duration": 107,
    "start_time": "2025-06-13T11:28:46.310Z"
   },
   {
    "duration": 251,
    "start_time": "2025-06-13T11:28:46.418Z"
   },
   {
    "duration": 262,
    "start_time": "2025-06-13T11:28:46.670Z"
   },
   {
    "duration": 98,
    "start_time": "2025-06-13T11:28:46.934Z"
   },
   {
    "duration": 93,
    "start_time": "2025-06-13T11:28:47.034Z"
   },
   {
    "duration": 54,
    "start_time": "2025-06-13T11:28:47.128Z"
   },
   {
    "duration": 34,
    "start_time": "2025-06-13T11:28:47.184Z"
   },
   {
    "duration": 52,
    "start_time": "2025-06-13T11:28:47.220Z"
   },
   {
    "duration": 1550,
    "start_time": "2025-06-13T11:28:47.275Z"
   },
   {
    "duration": 84,
    "start_time": "2025-06-13T11:28:48.826Z"
   },
   {
    "duration": 83,
    "start_time": "2025-06-13T11:28:48.912Z"
   },
   {
    "duration": 29,
    "start_time": "2025-06-13T11:28:48.997Z"
   },
   {
    "duration": 2877,
    "start_time": "2025-06-13T11:28:49.027Z"
   },
   {
    "duration": 115,
    "start_time": "2025-06-13T11:28:51.906Z"
   },
   {
    "duration": 45,
    "start_time": "2025-06-13T11:28:52.022Z"
   },
   {
    "duration": 375,
    "start_time": "2025-06-13T11:28:52.074Z"
   },
   {
    "duration": 400,
    "start_time": "2025-06-13T11:28:52.451Z"
   },
   {
    "duration": 87,
    "start_time": "2025-06-13T11:28:52.852Z"
   },
   {
    "duration": 24,
    "start_time": "2025-06-13T11:28:52.941Z"
   },
   {
    "duration": 54,
    "start_time": "2025-06-13T11:28:52.973Z"
   },
   {
    "duration": 24,
    "start_time": "2025-06-13T11:28:53.029Z"
   },
   {
    "duration": 21,
    "start_time": "2025-06-13T11:28:53.055Z"
   },
   {
    "duration": 100,
    "start_time": "2025-06-13T11:28:53.078Z"
   },
   {
    "duration": 18,
    "start_time": "2025-06-13T11:28:53.180Z"
   },
   {
    "duration": 85,
    "start_time": "2025-06-13T11:28:53.200Z"
   },
   {
    "duration": 51,
    "start_time": "2025-06-13T11:28:53.286Z"
   },
   {
    "duration": 43,
    "start_time": "2025-06-13T11:28:53.338Z"
   },
   {
    "duration": 113,
    "start_time": "2025-06-13T11:28:53.383Z"
   },
   {
    "duration": 12,
    "start_time": "2025-06-13T11:28:53.498Z"
   },
   {
    "duration": 189,
    "start_time": "2025-06-13T11:28:53.511Z"
   },
   {
    "duration": 190,
    "start_time": "2025-06-13T11:28:53.701Z"
   },
   {
    "duration": 36,
    "start_time": "2025-06-13T11:28:53.898Z"
   },
   {
    "duration": 46,
    "start_time": "2025-06-13T11:28:53.935Z"
   },
   {
    "duration": 7,
    "start_time": "2025-06-13T11:28:53.983Z"
   },
   {
    "duration": 159,
    "start_time": "2025-06-13T11:28:53.992Z"
   },
   {
    "duration": 20,
    "start_time": "2025-06-13T11:28:54.152Z"
   },
   {
    "duration": 5,
    "start_time": "2025-06-13T11:28:54.174Z"
   },
   {
    "duration": 31,
    "start_time": "2025-06-13T11:28:54.181Z"
   },
   {
    "duration": 18,
    "start_time": "2025-06-13T11:28:54.214Z"
   },
   {
    "duration": 15,
    "start_time": "2025-06-13T11:28:54.234Z"
   },
   {
    "duration": 123,
    "start_time": "2025-06-13T11:28:54.250Z"
   },
   {
    "duration": 10,
    "start_time": "2025-06-13T11:28:54.375Z"
   },
   {
    "duration": 16,
    "start_time": "2025-06-13T11:28:54.387Z"
   },
   {
    "duration": 129,
    "start_time": "2025-06-13T11:28:54.405Z"
   },
   {
    "duration": 24,
    "start_time": "2025-06-13T11:29:44.596Z"
   },
   {
    "duration": 9,
    "start_time": "2025-06-13T11:32:14.274Z"
   },
   {
    "duration": 21,
    "start_time": "2025-06-13T11:32:19.713Z"
   },
   {
    "duration": 8,
    "start_time": "2025-06-13T11:33:13.282Z"
   },
   {
    "duration": 10,
    "start_time": "2025-06-13T11:34:34.431Z"
   },
   {
    "duration": 8,
    "start_time": "2025-06-13T11:35:03.075Z"
   },
   {
    "duration": 21,
    "start_time": "2025-06-13T11:35:09.917Z"
   },
   {
    "duration": 17,
    "start_time": "2025-06-13T11:35:47.728Z"
   },
   {
    "duration": 10,
    "start_time": "2025-06-13T11:36:29.057Z"
   },
   {
    "duration": 22,
    "start_time": "2025-06-13T11:37:36.693Z"
   },
   {
    "duration": 5,
    "start_time": "2025-06-13T11:37:43.978Z"
   },
   {
    "duration": 5,
    "start_time": "2025-06-13T11:39:06.512Z"
   },
   {
    "duration": 1127,
    "start_time": "2025-06-13T11:39:26.822Z"
   },
   {
    "duration": 1806,
    "start_time": "2025-06-13T11:39:27.951Z"
   },
   {
    "duration": 14,
    "start_time": "2025-06-13T11:39:29.759Z"
   },
   {
    "duration": 42,
    "start_time": "2025-06-13T11:39:29.775Z"
   },
   {
    "duration": 253,
    "start_time": "2025-06-13T11:39:29.819Z"
   },
   {
    "duration": 9,
    "start_time": "2025-06-13T11:39:30.074Z"
   },
   {
    "duration": 183,
    "start_time": "2025-06-13T11:39:30.084Z"
   },
   {
    "duration": 20,
    "start_time": "2025-06-13T11:39:30.268Z"
   },
   {
    "duration": 376,
    "start_time": "2025-06-13T11:39:30.289Z"
   },
   {
    "duration": 3125,
    "start_time": "2025-06-13T11:39:30.668Z"
   },
   {
    "duration": 591,
    "start_time": "2025-06-13T11:39:33.796Z"
   },
   {
    "duration": 5,
    "start_time": "2025-06-13T11:39:34.389Z"
   },
   {
    "duration": 182,
    "start_time": "2025-06-13T11:39:34.395Z"
   },
   {
    "duration": 403,
    "start_time": "2025-06-13T11:39:34.579Z"
   },
   {
    "duration": 347,
    "start_time": "2025-06-13T11:39:34.983Z"
   },
   {
    "duration": 200,
    "start_time": "2025-06-13T11:39:35.331Z"
   },
   {
    "duration": 125,
    "start_time": "2025-06-13T11:39:35.533Z"
   },
   {
    "duration": 577,
    "start_time": "2025-06-13T11:39:35.660Z"
   },
   {
    "duration": 171,
    "start_time": "2025-06-13T11:39:36.238Z"
   },
   {
    "duration": 141,
    "start_time": "2025-06-13T11:39:36.411Z"
   },
   {
    "duration": 15,
    "start_time": "2025-06-13T11:39:36.554Z"
   },
   {
    "duration": 142,
    "start_time": "2025-06-13T11:39:36.571Z"
   },
   {
    "duration": 53,
    "start_time": "2025-06-13T11:39:36.714Z"
   },
   {
    "duration": 79,
    "start_time": "2025-06-13T11:39:36.769Z"
   },
   {
    "duration": 232,
    "start_time": "2025-06-13T11:39:36.849Z"
   },
   {
    "duration": 57,
    "start_time": "2025-06-13T11:39:37.083Z"
   },
   {
    "duration": 47,
    "start_time": "2025-06-13T11:39:37.142Z"
   },
   {
    "duration": 38,
    "start_time": "2025-06-13T11:39:37.194Z"
   },
   {
    "duration": 3,
    "start_time": "2025-06-13T11:39:37.234Z"
   },
   {
    "duration": 7,
    "start_time": "2025-06-13T11:39:37.239Z"
   },
   {
    "duration": 28,
    "start_time": "2025-06-13T11:39:37.247Z"
   },
   {
    "duration": 215,
    "start_time": "2025-06-13T11:39:37.277Z"
   },
   {
    "duration": 196,
    "start_time": "2025-06-13T11:39:37.494Z"
   },
   {
    "duration": 24,
    "start_time": "2025-06-13T11:39:37.692Z"
   },
   {
    "duration": 451,
    "start_time": "2025-06-13T11:39:37.718Z"
   },
   {
    "duration": 193,
    "start_time": "2025-06-13T11:39:38.171Z"
   },
   {
    "duration": 12,
    "start_time": "2025-06-13T11:39:38.366Z"
   },
   {
    "duration": 225,
    "start_time": "2025-06-13T11:39:38.380Z"
   },
   {
    "duration": 78,
    "start_time": "2025-06-13T11:39:38.607Z"
   },
   {
    "duration": 50,
    "start_time": "2025-06-13T11:39:38.687Z"
   },
   {
    "duration": 96,
    "start_time": "2025-06-13T11:39:38.738Z"
   },
   {
    "duration": 49,
    "start_time": "2025-06-13T11:39:38.836Z"
   },
   {
    "duration": 18,
    "start_time": "2025-06-13T11:39:38.886Z"
   },
   {
    "duration": 42,
    "start_time": "2025-06-13T11:39:38.905Z"
   },
   {
    "duration": 103,
    "start_time": "2025-06-13T11:39:38.948Z"
   },
   {
    "duration": 174,
    "start_time": "2025-06-13T11:39:39.052Z"
   },
   {
    "duration": 215,
    "start_time": "2025-06-13T11:39:39.227Z"
   },
   {
    "duration": 134,
    "start_time": "2025-06-13T11:39:39.444Z"
   },
   {
    "duration": 17,
    "start_time": "2025-06-13T11:39:39.579Z"
   },
   {
    "duration": 6,
    "start_time": "2025-06-13T11:39:39.597Z"
   },
   {
    "duration": 86,
    "start_time": "2025-06-13T11:39:39.604Z"
   },
   {
    "duration": 244,
    "start_time": "2025-06-13T11:39:39.692Z"
   },
   {
    "duration": 231,
    "start_time": "2025-06-13T11:39:39.938Z"
   },
   {
    "duration": 76,
    "start_time": "2025-06-13T11:39:40.170Z"
   },
   {
    "duration": 88,
    "start_time": "2025-06-13T11:39:40.248Z"
   },
   {
    "duration": 49,
    "start_time": "2025-06-13T11:39:40.338Z"
   },
   {
    "duration": 33,
    "start_time": "2025-06-13T11:39:40.388Z"
   },
   {
    "duration": 81,
    "start_time": "2025-06-13T11:39:40.423Z"
   },
   {
    "duration": 1280,
    "start_time": "2025-06-13T11:39:40.507Z"
   },
   {
    "duration": 56,
    "start_time": "2025-06-13T11:39:41.789Z"
   },
   {
    "duration": 118,
    "start_time": "2025-06-13T11:39:41.847Z"
   },
   {
    "duration": 8,
    "start_time": "2025-06-13T11:39:41.967Z"
   },
   {
    "duration": 2524,
    "start_time": "2025-06-13T11:39:41.976Z"
   },
   {
    "duration": 96,
    "start_time": "2025-06-13T11:39:44.502Z"
   },
   {
    "duration": 28,
    "start_time": "2025-06-13T11:39:44.599Z"
   },
   {
    "duration": 372,
    "start_time": "2025-06-13T11:39:44.629Z"
   },
   {
    "duration": 334,
    "start_time": "2025-06-13T11:39:45.003Z"
   },
   {
    "duration": 81,
    "start_time": "2025-06-13T11:39:45.338Z"
   },
   {
    "duration": 2,
    "start_time": "2025-06-13T11:39:45.421Z"
   },
   {
    "duration": 130,
    "start_time": "2025-06-13T11:39:45.425Z"
   },
   {
    "duration": 5,
    "start_time": "2025-06-13T11:39:45.557Z"
   },
   {
    "duration": 9,
    "start_time": "2025-06-13T11:39:45.563Z"
   },
   {
    "duration": 6,
    "start_time": "2025-06-13T11:39:45.573Z"
   },
   {
    "duration": 4,
    "start_time": "2025-06-13T11:39:45.580Z"
   },
   {
    "duration": 103,
    "start_time": "2025-06-13T11:39:45.586Z"
   },
   {
    "duration": 49,
    "start_time": "2025-06-13T11:39:45.691Z"
   },
   {
    "duration": 40,
    "start_time": "2025-06-13T11:39:45.742Z"
   },
   {
    "duration": 29,
    "start_time": "2025-06-13T11:39:45.784Z"
   },
   {
    "duration": 26,
    "start_time": "2025-06-13T11:39:45.815Z"
   },
   {
    "duration": 162,
    "start_time": "2025-06-13T11:39:45.843Z"
   },
   {
    "duration": 174,
    "start_time": "2025-06-13T11:39:46.007Z"
   },
   {
    "duration": 33,
    "start_time": "2025-06-13T11:39:46.188Z"
   },
   {
    "duration": 18,
    "start_time": "2025-06-13T11:39:46.222Z"
   },
   {
    "duration": 26,
    "start_time": "2025-06-13T11:39:46.242Z"
   },
   {
    "duration": 168,
    "start_time": "2025-06-13T11:39:46.269Z"
   },
   {
    "duration": 4,
    "start_time": "2025-06-13T11:39:46.438Z"
   },
   {
    "duration": 18,
    "start_time": "2025-06-13T11:39:46.444Z"
   },
   {
    "duration": 18,
    "start_time": "2025-06-13T11:39:46.464Z"
   },
   {
    "duration": 20,
    "start_time": "2025-06-13T11:39:46.484Z"
   },
   {
    "duration": 17,
    "start_time": "2025-06-13T11:39:46.505Z"
   },
   {
    "duration": 113,
    "start_time": "2025-06-13T11:39:46.523Z"
   },
   {
    "duration": 21,
    "start_time": "2025-06-13T11:39:46.638Z"
   },
   {
    "duration": 17,
    "start_time": "2025-06-13T11:39:46.660Z"
   },
   {
    "duration": 33,
    "start_time": "2025-06-13T11:39:46.679Z"
   },
   {
    "duration": 120,
    "start_time": "2025-06-13T11:39:46.713Z"
   },
   {
    "duration": 68,
    "start_time": "2025-06-13T11:39:46.834Z"
   },
   {
    "duration": 12,
    "start_time": "2025-06-13T11:46:29.828Z"
   },
   {
    "duration": 7,
    "start_time": "2025-06-13T11:47:27.742Z"
   },
   {
    "duration": 8,
    "start_time": "2025-06-13T11:47:36.916Z"
   },
   {
    "duration": 9,
    "start_time": "2025-06-13T11:47:57.879Z"
   },
   {
    "duration": 1162,
    "start_time": "2025-06-13T11:48:05.011Z"
   },
   {
    "duration": 1935,
    "start_time": "2025-06-13T11:48:06.175Z"
   },
   {
    "duration": 15,
    "start_time": "2025-06-13T11:48:08.111Z"
   },
   {
    "duration": 71,
    "start_time": "2025-06-13T11:48:08.128Z"
   },
   {
    "duration": 235,
    "start_time": "2025-06-13T11:48:08.201Z"
   },
   {
    "duration": 27,
    "start_time": "2025-06-13T11:48:08.439Z"
   },
   {
    "duration": 217,
    "start_time": "2025-06-13T11:48:08.468Z"
   },
   {
    "duration": 19,
    "start_time": "2025-06-13T11:48:08.686Z"
   },
   {
    "duration": 322,
    "start_time": "2025-06-13T11:48:08.707Z"
   },
   {
    "duration": 3145,
    "start_time": "2025-06-13T11:48:09.032Z"
   },
   {
    "duration": 582,
    "start_time": "2025-06-13T11:48:12.180Z"
   },
   {
    "duration": 5,
    "start_time": "2025-06-13T11:48:12.764Z"
   },
   {
    "duration": 238,
    "start_time": "2025-06-13T11:48:12.771Z"
   },
   {
    "duration": 395,
    "start_time": "2025-06-13T11:48:13.011Z"
   },
   {
    "duration": 344,
    "start_time": "2025-06-13T11:48:13.407Z"
   },
   {
    "duration": 203,
    "start_time": "2025-06-13T11:48:13.753Z"
   },
   {
    "duration": 70,
    "start_time": "2025-06-13T11:48:13.961Z"
   },
   {
    "duration": 603,
    "start_time": "2025-06-13T11:48:14.033Z"
   },
   {
    "duration": 198,
    "start_time": "2025-06-13T11:48:14.638Z"
   },
   {
    "duration": 138,
    "start_time": "2025-06-13T11:48:14.838Z"
   },
   {
    "duration": 189,
    "start_time": "2025-06-13T11:48:14.978Z"
   },
   {
    "duration": 283,
    "start_time": "2025-06-13T11:48:15.169Z"
   },
   {
    "duration": 40,
    "start_time": "2025-06-13T11:48:15.454Z"
   },
   {
    "duration": 178,
    "start_time": "2025-06-13T11:48:15.496Z"
   },
   {
    "duration": 239,
    "start_time": "2025-06-13T11:48:15.676Z"
   },
   {
    "duration": 74,
    "start_time": "2025-06-13T11:48:15.917Z"
   },
   {
    "duration": 42,
    "start_time": "2025-06-13T11:48:15.993Z"
   },
   {
    "duration": 26,
    "start_time": "2025-06-13T11:48:16.040Z"
   },
   {
    "duration": 4,
    "start_time": "2025-06-13T11:48:16.068Z"
   },
   {
    "duration": 25,
    "start_time": "2025-06-13T11:48:16.073Z"
   },
   {
    "duration": 32,
    "start_time": "2025-06-13T11:48:16.099Z"
   },
   {
    "duration": 182,
    "start_time": "2025-06-13T11:48:16.133Z"
   },
   {
    "duration": 181,
    "start_time": "2025-06-13T11:48:16.317Z"
   },
   {
    "duration": 24,
    "start_time": "2025-06-13T11:48:16.500Z"
   },
   {
    "duration": 395,
    "start_time": "2025-06-13T11:48:16.526Z"
   },
   {
    "duration": 187,
    "start_time": "2025-06-13T11:48:16.922Z"
   },
   {
    "duration": 9,
    "start_time": "2025-06-13T11:48:17.110Z"
   },
   {
    "duration": 158,
    "start_time": "2025-06-13T11:48:17.120Z"
   },
   {
    "duration": 51,
    "start_time": "2025-06-13T11:48:17.280Z"
   },
   {
    "duration": 74,
    "start_time": "2025-06-13T11:48:17.333Z"
   },
   {
    "duration": 25,
    "start_time": "2025-06-13T11:48:17.409Z"
   },
   {
    "duration": 157,
    "start_time": "2025-06-13T11:48:17.436Z"
   },
   {
    "duration": 12,
    "start_time": "2025-06-13T11:48:17.595Z"
   },
   {
    "duration": 14,
    "start_time": "2025-06-13T11:48:17.609Z"
   },
   {
    "duration": 12,
    "start_time": "2025-06-13T11:48:17.625Z"
   },
   {
    "duration": 3,
    "start_time": "2025-06-13T11:48:17.639Z"
   },
   {
    "duration": 18,
    "start_time": "2025-06-13T11:48:17.643Z"
   },
   {
    "duration": 37,
    "start_time": "2025-06-13T11:48:17.663Z"
   },
   {
    "duration": 7,
    "start_time": "2025-06-13T11:48:17.701Z"
   },
   {
    "duration": 10,
    "start_time": "2025-06-13T11:48:17.709Z"
   },
   {
    "duration": 88,
    "start_time": "2025-06-13T11:48:17.721Z"
   },
   {
    "duration": 243,
    "start_time": "2025-06-13T11:48:17.811Z"
   },
   {
    "duration": 229,
    "start_time": "2025-06-13T11:48:18.056Z"
   },
   {
    "duration": 83,
    "start_time": "2025-06-13T11:48:18.286Z"
   },
   {
    "duration": 76,
    "start_time": "2025-06-13T11:48:18.371Z"
   },
   {
    "duration": 104,
    "start_time": "2025-06-13T11:48:18.461Z"
   },
   {
    "duration": 43,
    "start_time": "2025-06-13T11:48:18.566Z"
   },
   {
    "duration": 29,
    "start_time": "2025-06-13T11:48:18.611Z"
   },
   {
    "duration": 1244,
    "start_time": "2025-06-13T11:48:18.642Z"
   },
   {
    "duration": 57,
    "start_time": "2025-06-13T11:48:19.888Z"
   },
   {
    "duration": 83,
    "start_time": "2025-06-13T11:48:19.947Z"
   },
   {
    "duration": 9,
    "start_time": "2025-06-13T11:48:20.032Z"
   },
   {
    "duration": 2578,
    "start_time": "2025-06-13T11:48:20.043Z"
   },
   {
    "duration": 94,
    "start_time": "2025-06-13T11:48:22.623Z"
   },
   {
    "duration": 42,
    "start_time": "2025-06-13T11:48:22.719Z"
   },
   {
    "duration": 401,
    "start_time": "2025-06-13T11:48:22.763Z"
   },
   {
    "duration": 345,
    "start_time": "2025-06-13T11:48:23.165Z"
   },
   {
    "duration": 83,
    "start_time": "2025-06-13T11:48:23.512Z"
   },
   {
    "duration": 3,
    "start_time": "2025-06-13T11:48:23.597Z"
   },
   {
    "duration": 5,
    "start_time": "2025-06-13T11:48:23.602Z"
   },
   {
    "duration": 6,
    "start_time": "2025-06-13T11:48:23.609Z"
   },
   {
    "duration": 5,
    "start_time": "2025-06-13T11:48:23.616Z"
   },
   {
    "duration": 4,
    "start_time": "2025-06-13T11:48:23.623Z"
   },
   {
    "duration": 3,
    "start_time": "2025-06-13T11:48:23.629Z"
   },
   {
    "duration": 46,
    "start_time": "2025-06-13T11:48:23.661Z"
   },
   {
    "duration": 68,
    "start_time": "2025-06-13T11:48:23.708Z"
   },
   {
    "duration": 23,
    "start_time": "2025-06-13T11:48:23.779Z"
   },
   {
    "duration": 44,
    "start_time": "2025-06-13T11:48:23.803Z"
   },
   {
    "duration": 23,
    "start_time": "2025-06-13T11:48:23.849Z"
   },
   {
    "duration": 159,
    "start_time": "2025-06-13T11:48:23.874Z"
   },
   {
    "duration": 176,
    "start_time": "2025-06-13T11:48:24.035Z"
   },
   {
    "duration": 43,
    "start_time": "2025-06-13T11:48:24.218Z"
   },
   {
    "duration": 55,
    "start_time": "2025-06-13T11:48:24.262Z"
   },
   {
    "duration": 13,
    "start_time": "2025-06-13T11:48:24.319Z"
   },
   {
    "duration": 143,
    "start_time": "2025-06-13T11:48:24.333Z"
   },
   {
    "duration": 4,
    "start_time": "2025-06-13T11:48:24.478Z"
   },
   {
    "duration": 30,
    "start_time": "2025-06-13T11:48:24.483Z"
   },
   {
    "duration": 11,
    "start_time": "2025-06-13T11:48:24.514Z"
   },
   {
    "duration": 22,
    "start_time": "2025-06-13T11:48:24.527Z"
   },
   {
    "duration": 119,
    "start_time": "2025-06-13T11:48:24.550Z"
   },
   {
    "duration": 16,
    "start_time": "2025-06-13T11:48:24.670Z"
   },
   {
    "duration": 10,
    "start_time": "2025-06-13T11:48:24.688Z"
   },
   {
    "duration": 18,
    "start_time": "2025-06-13T11:48:24.700Z"
   },
   {
    "duration": 43,
    "start_time": "2025-06-13T11:48:24.720Z"
   },
   {
    "duration": 42,
    "start_time": "2025-06-13T11:48:24.765Z"
   },
   {
    "duration": 67,
    "start_time": "2025-06-13T11:48:24.808Z"
   },
   {
    "duration": 3,
    "start_time": "2025-06-13T11:55:33.680Z"
   },
   {
    "duration": 34,
    "start_time": "2025-06-13T11:57:26.059Z"
   },
   {
    "duration": 1293,
    "start_time": "2025-06-13T11:59:20.846Z"
   },
   {
    "duration": 1762,
    "start_time": "2025-06-13T11:59:22.141Z"
   },
   {
    "duration": 13,
    "start_time": "2025-06-13T11:59:23.905Z"
   },
   {
    "duration": 55,
    "start_time": "2025-06-13T11:59:23.920Z"
   },
   {
    "duration": 240,
    "start_time": "2025-06-13T11:59:23.977Z"
   },
   {
    "duration": 8,
    "start_time": "2025-06-13T11:59:24.218Z"
   },
   {
    "duration": 180,
    "start_time": "2025-06-13T11:59:24.228Z"
   },
   {
    "duration": 18,
    "start_time": "2025-06-13T11:59:24.409Z"
   },
   {
    "duration": 375,
    "start_time": "2025-06-13T11:59:24.429Z"
   },
   {
    "duration": 3338,
    "start_time": "2025-06-13T11:59:24.807Z"
   },
   {
    "duration": 639,
    "start_time": "2025-06-13T11:59:28.148Z"
   },
   {
    "duration": 5,
    "start_time": "2025-06-13T11:59:28.788Z"
   },
   {
    "duration": 239,
    "start_time": "2025-06-13T11:59:28.794Z"
   },
   {
    "duration": 417,
    "start_time": "2025-06-13T11:59:29.034Z"
   },
   {
    "duration": 373,
    "start_time": "2025-06-13T11:59:29.452Z"
   },
   {
    "duration": 200,
    "start_time": "2025-06-13T11:59:29.827Z"
   },
   {
    "duration": 90,
    "start_time": "2025-06-13T11:59:30.029Z"
   },
   {
    "duration": 624,
    "start_time": "2025-06-13T11:59:30.121Z"
   },
   {
    "duration": 181,
    "start_time": "2025-06-13T11:59:30.747Z"
   },
   {
    "duration": 144,
    "start_time": "2025-06-13T11:59:30.930Z"
   },
   {
    "duration": 12,
    "start_time": "2025-06-13T11:59:31.076Z"
   },
   {
    "duration": 167,
    "start_time": "2025-06-13T11:59:31.090Z"
   },
   {
    "duration": 43,
    "start_time": "2025-06-13T11:59:31.261Z"
   },
   {
    "duration": 21,
    "start_time": "2025-06-13T11:59:31.305Z"
   },
   {
    "duration": 235,
    "start_time": "2025-06-13T11:59:31.328Z"
   },
   {
    "duration": 61,
    "start_time": "2025-06-13T11:59:31.564Z"
   },
   {
    "duration": 77,
    "start_time": "2025-06-13T11:59:31.627Z"
   },
   {
    "duration": 18,
    "start_time": "2025-06-13T11:59:31.708Z"
   },
   {
    "duration": 8,
    "start_time": "2025-06-13T11:59:31.727Z"
   },
   {
    "duration": 5,
    "start_time": "2025-06-13T11:59:31.736Z"
   },
   {
    "duration": 61,
    "start_time": "2025-06-13T11:59:31.743Z"
   },
   {
    "duration": 196,
    "start_time": "2025-06-13T11:59:31.806Z"
   },
   {
    "duration": 182,
    "start_time": "2025-06-13T11:59:32.004Z"
   },
   {
    "duration": 26,
    "start_time": "2025-06-13T11:59:32.188Z"
   },
   {
    "duration": 381,
    "start_time": "2025-06-13T11:59:32.215Z"
   },
   {
    "duration": 190,
    "start_time": "2025-06-13T11:59:32.598Z"
   },
   {
    "duration": 10,
    "start_time": "2025-06-13T11:59:32.791Z"
   },
   {
    "duration": 239,
    "start_time": "2025-06-13T11:59:32.803Z"
   },
   {
    "duration": 64,
    "start_time": "2025-06-13T11:59:33.044Z"
   },
   {
    "duration": 76,
    "start_time": "2025-06-13T11:59:33.110Z"
   },
   {
    "duration": 21,
    "start_time": "2025-06-13T11:59:33.187Z"
   },
   {
    "duration": 249,
    "start_time": "2025-06-13T11:59:33.210Z"
   },
   {
    "duration": 19,
    "start_time": "2025-06-13T11:59:33.465Z"
   },
   {
    "duration": 144,
    "start_time": "2025-06-13T11:59:33.485Z"
   },
   {
    "duration": 10,
    "start_time": "2025-06-13T11:59:33.630Z"
   },
   {
    "duration": 11,
    "start_time": "2025-06-13T11:59:33.642Z"
   },
   {
    "duration": 12,
    "start_time": "2025-06-13T11:59:33.654Z"
   },
   {
    "duration": 21,
    "start_time": "2025-06-13T11:59:33.669Z"
   },
   {
    "duration": 14,
    "start_time": "2025-06-13T11:59:33.692Z"
   },
   {
    "duration": 27,
    "start_time": "2025-06-13T11:59:33.707Z"
   },
   {
    "duration": 93,
    "start_time": "2025-06-13T11:59:33.736Z"
   },
   {
    "duration": 250,
    "start_time": "2025-06-13T11:59:33.831Z"
   },
   {
    "duration": 241,
    "start_time": "2025-06-13T11:59:34.083Z"
   },
   {
    "duration": 92,
    "start_time": "2025-06-13T11:59:34.325Z"
   },
   {
    "duration": 86,
    "start_time": "2025-06-13T11:59:34.419Z"
   },
   {
    "duration": 37,
    "start_time": "2025-06-13T11:59:34.507Z"
   },
   {
    "duration": 54,
    "start_time": "2025-06-13T11:59:34.545Z"
   },
   {
    "duration": 35,
    "start_time": "2025-06-13T11:59:34.601Z"
   },
   {
    "duration": 1444,
    "start_time": "2025-06-13T11:59:34.638Z"
   },
   {
    "duration": 59,
    "start_time": "2025-06-13T11:59:36.083Z"
   },
   {
    "duration": 159,
    "start_time": "2025-06-13T11:59:36.143Z"
   },
   {
    "duration": 38,
    "start_time": "2025-06-13T11:59:36.304Z"
   },
   {
    "duration": 2731,
    "start_time": "2025-06-13T11:59:36.344Z"
   },
   {
    "duration": 101,
    "start_time": "2025-06-13T11:59:39.077Z"
   },
   {
    "duration": 31,
    "start_time": "2025-06-13T11:59:39.180Z"
   },
   {
    "duration": 598,
    "start_time": "2025-06-13T11:59:39.212Z"
   },
   {
    "duration": 366,
    "start_time": "2025-06-13T11:59:39.812Z"
   },
   {
    "duration": 92,
    "start_time": "2025-06-13T11:59:40.179Z"
   },
   {
    "duration": 4,
    "start_time": "2025-06-13T11:59:40.274Z"
   },
   {
    "duration": 25,
    "start_time": "2025-06-13T11:59:40.280Z"
   },
   {
    "duration": 22,
    "start_time": "2025-06-13T11:59:40.307Z"
   },
   {
    "duration": 23,
    "start_time": "2025-06-13T11:59:40.330Z"
   },
   {
    "duration": 34,
    "start_time": "2025-06-13T11:59:40.355Z"
   },
   {
    "duration": 28,
    "start_time": "2025-06-13T11:59:40.391Z"
   },
   {
    "duration": 78,
    "start_time": "2025-06-13T11:59:40.420Z"
   },
   {
    "duration": 49,
    "start_time": "2025-06-13T11:59:40.500Z"
   },
   {
    "duration": 38,
    "start_time": "2025-06-13T11:59:40.551Z"
   },
   {
    "duration": 25,
    "start_time": "2025-06-13T11:59:40.591Z"
   },
   {
    "duration": 22,
    "start_time": "2025-06-13T11:59:40.617Z"
   },
   {
    "duration": 198,
    "start_time": "2025-06-13T11:59:40.641Z"
   },
   {
    "duration": 179,
    "start_time": "2025-06-13T11:59:40.840Z"
   },
   {
    "duration": 43,
    "start_time": "2025-06-13T11:59:41.025Z"
   },
   {
    "duration": 85,
    "start_time": "2025-06-13T11:59:41.070Z"
   },
   {
    "duration": 14,
    "start_time": "2025-06-13T11:59:41.156Z"
   },
   {
    "duration": 151,
    "start_time": "2025-06-13T11:59:41.173Z"
   },
   {
    "duration": 188,
    "start_time": "2025-06-13T11:59:41.326Z"
   },
   {
    "duration": 91,
    "start_time": "2025-06-13T11:59:41.515Z"
   },
   {
    "duration": 4,
    "start_time": "2025-06-13T11:59:41.608Z"
   },
   {
    "duration": 19,
    "start_time": "2025-06-13T11:59:41.613Z"
   },
   {
    "duration": 14,
    "start_time": "2025-06-13T11:59:41.633Z"
   },
   {
    "duration": 123,
    "start_time": "2025-06-13T11:59:41.648Z"
   },
   {
    "duration": 9,
    "start_time": "2025-06-13T11:59:41.774Z"
   },
   {
    "duration": 15,
    "start_time": "2025-06-13T11:59:41.784Z"
   },
   {
    "duration": 21,
    "start_time": "2025-06-13T11:59:41.801Z"
   },
   {
    "duration": 102,
    "start_time": "2025-06-13T12:00:09.060Z"
   },
   {
    "duration": 21,
    "start_time": "2025-06-13T12:00:12.746Z"
   },
   {
    "duration": 111,
    "start_time": "2025-06-13T12:00:15.088Z"
   },
   {
    "duration": 21,
    "start_time": "2025-06-13T12:00:46.207Z"
   },
   {
    "duration": 14,
    "start_time": "2025-06-13T12:00:53.504Z"
   },
   {
    "duration": 23,
    "start_time": "2025-06-13T12:00:56.528Z"
   },
   {
    "duration": 23,
    "start_time": "2025-06-13T12:01:04.788Z"
   },
   {
    "duration": 21,
    "start_time": "2025-06-13T12:01:21.827Z"
   },
   {
    "duration": 22,
    "start_time": "2025-06-13T12:01:27.928Z"
   },
   {
    "duration": 29,
    "start_time": "2025-06-13T12:01:32.375Z"
   },
   {
    "duration": 136,
    "start_time": "2025-06-13T12:02:47.904Z"
   },
   {
    "duration": 159,
    "start_time": "2025-06-13T12:03:03.916Z"
   },
   {
    "duration": 142,
    "start_time": "2025-06-13T12:03:16.109Z"
   },
   {
    "duration": 47,
    "start_time": "2025-06-13T12:05:09.247Z"
   },
   {
    "duration": 22,
    "start_time": "2025-06-13T12:05:16.928Z"
   },
   {
    "duration": 35,
    "start_time": "2025-06-13T12:05:44.270Z"
   },
   {
    "duration": 31,
    "start_time": "2025-06-13T12:06:01.963Z"
   },
   {
    "duration": 127,
    "start_time": "2025-06-13T12:06:43.427Z"
   },
   {
    "duration": 1800,
    "start_time": "2025-06-13T12:08:23.901Z"
   },
   {
    "duration": 14,
    "start_time": "2025-06-13T12:08:52.019Z"
   },
   {
    "duration": 14,
    "start_time": "2025-06-13T12:08:57.979Z"
   },
   {
    "duration": 95,
    "start_time": "2025-06-13T12:28:32.467Z"
   },
   {
    "duration": 77,
    "start_time": "2025-06-13T12:29:13.639Z"
   },
   {
    "duration": 82,
    "start_time": "2025-06-13T12:29:19.977Z"
   },
   {
    "duration": 79,
    "start_time": "2025-06-13T12:29:44.116Z"
   },
   {
    "duration": 8,
    "start_time": "2025-06-13T12:29:50.013Z"
   },
   {
    "duration": 7,
    "start_time": "2025-06-13T12:30:01.908Z"
   },
   {
    "duration": 15,
    "start_time": "2025-06-13T12:30:58.715Z"
   },
   {
    "duration": 23,
    "start_time": "2025-06-13T12:31:10.204Z"
   },
   {
    "duration": 8,
    "start_time": "2025-06-13T12:58:11.220Z"
   },
   {
    "duration": 8,
    "start_time": "2025-06-13T12:58:52.447Z"
   },
   {
    "duration": 1299,
    "start_time": "2025-06-13T13:05:30.904Z"
   },
   {
    "duration": 2544,
    "start_time": "2025-06-13T13:05:32.209Z"
   },
   {
    "duration": 33,
    "start_time": "2025-06-13T13:05:34.756Z"
   },
   {
    "duration": 129,
    "start_time": "2025-06-13T13:05:34.791Z"
   },
   {
    "duration": 297,
    "start_time": "2025-06-13T13:05:34.924Z"
   },
   {
    "duration": 9,
    "start_time": "2025-06-13T13:05:35.223Z"
   },
   {
    "duration": 272,
    "start_time": "2025-06-13T13:05:35.234Z"
   },
   {
    "duration": 20,
    "start_time": "2025-06-13T13:05:35.508Z"
   },
   {
    "duration": 492,
    "start_time": "2025-06-13T13:05:35.529Z"
   },
   {
    "duration": 3810,
    "start_time": "2025-06-13T13:05:36.023Z"
   },
   {
    "duration": 756,
    "start_time": "2025-06-13T13:05:39.835Z"
   },
   {
    "duration": 17,
    "start_time": "2025-06-13T13:05:40.592Z"
   },
   {
    "duration": 227,
    "start_time": "2025-06-13T13:05:40.612Z"
   },
   {
    "duration": 575,
    "start_time": "2025-06-13T13:05:40.842Z"
   },
   {
    "duration": 458,
    "start_time": "2025-06-13T13:05:41.420Z"
   },
   {
    "duration": 262,
    "start_time": "2025-06-13T13:05:41.888Z"
   },
   {
    "duration": 116,
    "start_time": "2025-06-13T13:05:42.151Z"
   },
   {
    "duration": 779,
    "start_time": "2025-06-13T13:05:42.270Z"
   },
   {
    "duration": 229,
    "start_time": "2025-06-13T13:05:43.051Z"
   },
   {
    "duration": 194,
    "start_time": "2025-06-13T13:05:43.289Z"
   },
   {
    "duration": 27,
    "start_time": "2025-06-13T13:05:43.486Z"
   },
   {
    "duration": 227,
    "start_time": "2025-06-13T13:05:43.516Z"
   },
   {
    "duration": 58,
    "start_time": "2025-06-13T13:05:43.744Z"
   },
   {
    "duration": 22,
    "start_time": "2025-06-13T13:05:43.809Z"
   },
   {
    "duration": 305,
    "start_time": "2025-06-13T13:05:43.832Z"
   },
   {
    "duration": 87,
    "start_time": "2025-06-13T13:05:44.138Z"
   },
   {
    "duration": 79,
    "start_time": "2025-06-13T13:05:44.226Z"
   },
   {
    "duration": 11,
    "start_time": "2025-06-13T13:05:44.307Z"
   },
   {
    "duration": 3,
    "start_time": "2025-06-13T13:05:44.320Z"
   },
   {
    "duration": 5,
    "start_time": "2025-06-13T13:05:44.324Z"
   },
   {
    "duration": 29,
    "start_time": "2025-06-13T13:05:44.330Z"
   },
   {
    "duration": 250,
    "start_time": "2025-06-13T13:05:44.360Z"
   },
   {
    "duration": 246,
    "start_time": "2025-06-13T13:05:44.612Z"
   },
   {
    "duration": 41,
    "start_time": "2025-06-13T13:05:44.871Z"
   },
   {
    "duration": 468,
    "start_time": "2025-06-13T13:05:44.924Z"
   },
   {
    "duration": 215,
    "start_time": "2025-06-13T13:05:45.398Z"
   },
   {
    "duration": 11,
    "start_time": "2025-06-13T13:05:45.614Z"
   },
   {
    "duration": 213,
    "start_time": "2025-06-13T13:05:45.626Z"
   },
   {
    "duration": 82,
    "start_time": "2025-06-13T13:05:45.840Z"
   },
   {
    "duration": 184,
    "start_time": "2025-06-13T13:05:45.924Z"
   },
   {
    "duration": 20,
    "start_time": "2025-06-13T13:05:46.113Z"
   },
   {
    "duration": 76,
    "start_time": "2025-06-13T13:05:46.135Z"
   },
   {
    "duration": 15,
    "start_time": "2025-06-13T13:05:46.212Z"
   },
   {
    "duration": 18,
    "start_time": "2025-06-13T13:05:46.229Z"
   },
   {
    "duration": 49,
    "start_time": "2025-06-13T13:05:46.248Z"
   },
   {
    "duration": 6,
    "start_time": "2025-06-13T13:05:46.298Z"
   },
   {
    "duration": 17,
    "start_time": "2025-06-13T13:05:46.306Z"
   },
   {
    "duration": 55,
    "start_time": "2025-06-13T13:05:46.325Z"
   },
   {
    "duration": 18,
    "start_time": "2025-06-13T13:05:46.381Z"
   },
   {
    "duration": 17,
    "start_time": "2025-06-13T13:05:46.403Z"
   },
   {
    "duration": 118,
    "start_time": "2025-06-13T13:05:46.422Z"
   },
   {
    "duration": 317,
    "start_time": "2025-06-13T13:05:46.542Z"
   },
   {
    "duration": 278,
    "start_time": "2025-06-13T13:05:46.860Z"
   },
   {
    "duration": 107,
    "start_time": "2025-06-13T13:05:47.139Z"
   },
   {
    "duration": 110,
    "start_time": "2025-06-13T13:05:47.248Z"
   },
   {
    "duration": 51,
    "start_time": "2025-06-13T13:05:47.382Z"
   },
   {
    "duration": 66,
    "start_time": "2025-06-13T13:05:47.434Z"
   },
   {
    "duration": 110,
    "start_time": "2025-06-13T13:05:47.502Z"
   },
   {
    "duration": 1621,
    "start_time": "2025-06-13T13:05:47.613Z"
   },
   {
    "duration": 82,
    "start_time": "2025-06-13T13:05:49.235Z"
   },
   {
    "duration": 90,
    "start_time": "2025-06-13T13:05:49.319Z"
   },
   {
    "duration": 10,
    "start_time": "2025-06-13T13:05:49.410Z"
   },
   {
    "duration": 3031,
    "start_time": "2025-06-13T13:05:49.422Z"
   },
   {
    "duration": 125,
    "start_time": "2025-06-13T13:05:52.456Z"
   },
   {
    "duration": 40,
    "start_time": "2025-06-13T13:05:52.590Z"
   },
   {
    "duration": 404,
    "start_time": "2025-06-13T13:05:52.632Z"
   },
   {
    "duration": 431,
    "start_time": "2025-06-13T13:05:53.037Z"
   },
   {
    "duration": 107,
    "start_time": "2025-06-13T13:05:53.471Z"
   },
   {
    "duration": 5,
    "start_time": "2025-06-13T13:05:53.583Z"
   },
   {
    "duration": 26,
    "start_time": "2025-06-13T13:05:53.591Z"
   },
   {
    "duration": 34,
    "start_time": "2025-06-13T13:05:53.618Z"
   },
   {
    "duration": 23,
    "start_time": "2025-06-13T13:05:53.655Z"
   },
   {
    "duration": 6,
    "start_time": "2025-06-13T13:05:53.682Z"
   },
   {
    "duration": 43,
    "start_time": "2025-06-13T13:05:53.690Z"
   },
   {
    "duration": 305,
    "start_time": "2025-06-13T13:05:53.735Z"
   },
   {
    "duration": 68,
    "start_time": "2025-06-13T13:05:54.041Z"
   },
   {
    "duration": 22,
    "start_time": "2025-06-13T13:05:54.111Z"
   },
   {
    "duration": 37,
    "start_time": "2025-06-13T13:05:54.135Z"
   },
   {
    "duration": 18,
    "start_time": "2025-06-13T13:05:54.177Z"
   },
   {
    "duration": 199,
    "start_time": "2025-06-13T13:05:54.200Z"
   },
   {
    "duration": 213,
    "start_time": "2025-06-13T13:05:54.403Z"
   },
   {
    "duration": 40,
    "start_time": "2025-06-13T13:05:54.617Z"
   },
   {
    "duration": 87,
    "start_time": "2025-06-13T13:05:54.659Z"
   },
   {
    "duration": 68,
    "start_time": "2025-06-13T13:05:54.748Z"
   },
   {
    "duration": 188,
    "start_time": "2025-06-13T13:05:54.818Z"
   },
   {
    "duration": 7,
    "start_time": "2025-06-13T13:05:55.009Z"
   },
   {
    "duration": 82,
    "start_time": "2025-06-13T13:05:55.018Z"
   },
   {
    "duration": 7,
    "start_time": "2025-06-13T13:05:55.102Z"
   },
   {
    "duration": 17,
    "start_time": "2025-06-13T13:05:55.111Z"
   },
   {
    "duration": 9,
    "start_time": "2025-06-13T13:05:55.129Z"
   },
   {
    "duration": 135,
    "start_time": "2025-06-13T13:05:55.139Z"
   },
   {
    "duration": 27,
    "start_time": "2025-06-13T13:05:55.287Z"
   },
   {
    "duration": 86,
    "start_time": "2025-06-13T13:05:55.316Z"
   },
   {
    "duration": 16,
    "start_time": "2025-06-13T13:05:55.405Z"
   },
   {
    "duration": 25,
    "start_time": "2025-06-13T13:05:55.423Z"
   },
   {
    "duration": 177,
    "start_time": "2025-06-13T13:05:55.449Z"
   },
   {
    "duration": 1149,
    "start_time": "2025-06-13T13:59:59.821Z"
   },
   {
    "duration": 6035,
    "start_time": "2025-06-13T14:00:00.972Z"
   },
   {
    "duration": 12,
    "start_time": "2025-06-13T14:00:07.009Z"
   },
   {
    "duration": 60,
    "start_time": "2025-06-13T14:00:07.022Z"
   },
   {
    "duration": 231,
    "start_time": "2025-06-13T14:00:07.084Z"
   },
   {
    "duration": 9,
    "start_time": "2025-06-13T14:00:07.317Z"
   },
   {
    "duration": 176,
    "start_time": "2025-06-13T14:00:07.328Z"
   },
   {
    "duration": 20,
    "start_time": "2025-06-13T14:00:07.505Z"
   },
   {
    "duration": 353,
    "start_time": "2025-06-13T14:00:07.527Z"
   },
   {
    "duration": 3167,
    "start_time": "2025-06-13T14:00:07.884Z"
   },
   {
    "duration": 615,
    "start_time": "2025-06-13T14:00:11.062Z"
   },
   {
    "duration": 5,
    "start_time": "2025-06-13T14:00:11.679Z"
   },
   {
    "duration": 231,
    "start_time": "2025-06-13T14:00:11.685Z"
   },
   {
    "duration": 396,
    "start_time": "2025-06-13T14:00:11.917Z"
   },
   {
    "duration": 358,
    "start_time": "2025-06-13T14:00:12.315Z"
   },
   {
    "duration": 222,
    "start_time": "2025-06-13T14:00:12.675Z"
   },
   {
    "duration": 82,
    "start_time": "2025-06-13T14:00:12.898Z"
   },
   {
    "duration": 600,
    "start_time": "2025-06-13T14:00:12.981Z"
   },
   {
    "duration": 178,
    "start_time": "2025-06-13T14:00:13.583Z"
   },
   {
    "duration": 139,
    "start_time": "2025-06-13T14:00:13.763Z"
   },
   {
    "duration": 12,
    "start_time": "2025-06-13T14:00:13.903Z"
   },
   {
    "duration": 191,
    "start_time": "2025-06-13T14:00:13.917Z"
   },
   {
    "duration": 42,
    "start_time": "2025-06-13T14:00:14.110Z"
   },
   {
    "duration": 25,
    "start_time": "2025-06-13T14:00:14.154Z"
   },
   {
    "duration": 235,
    "start_time": "2025-06-13T14:00:14.182Z"
   },
   {
    "duration": 66,
    "start_time": "2025-06-13T14:00:14.419Z"
   },
   {
    "duration": 44,
    "start_time": "2025-06-13T14:00:14.486Z"
   },
   {
    "duration": 10,
    "start_time": "2025-06-13T14:00:14.534Z"
   },
   {
    "duration": 4,
    "start_time": "2025-06-13T14:00:14.561Z"
   },
   {
    "duration": 5,
    "start_time": "2025-06-13T14:00:14.566Z"
   },
   {
    "duration": 24,
    "start_time": "2025-06-13T14:00:14.573Z"
   },
   {
    "duration": 203,
    "start_time": "2025-06-13T14:00:14.599Z"
   },
   {
    "duration": 175,
    "start_time": "2025-06-13T14:00:14.804Z"
   },
   {
    "duration": 25,
    "start_time": "2025-06-13T14:00:14.981Z"
   },
   {
    "duration": 364,
    "start_time": "2025-06-13T14:00:15.007Z"
   },
   {
    "duration": 189,
    "start_time": "2025-06-13T14:00:15.373Z"
   },
   {
    "duration": 10,
    "start_time": "2025-06-13T14:00:15.564Z"
   },
   {
    "duration": 168,
    "start_time": "2025-06-13T14:00:15.575Z"
   },
   {
    "duration": 58,
    "start_time": "2025-06-13T14:00:15.745Z"
   },
   {
    "duration": 77,
    "start_time": "2025-06-13T14:00:15.804Z"
   },
   {
    "duration": 20,
    "start_time": "2025-06-13T14:00:15.883Z"
   },
   {
    "duration": 112,
    "start_time": "2025-06-13T14:00:15.904Z"
   },
   {
    "duration": 13,
    "start_time": "2025-06-13T14:00:16.018Z"
   },
   {
    "duration": 86,
    "start_time": "2025-06-13T14:00:16.032Z"
   },
   {
    "duration": 9,
    "start_time": "2025-06-13T14:00:16.120Z"
   },
   {
    "duration": 5,
    "start_time": "2025-06-13T14:00:16.130Z"
   },
   {
    "duration": 11,
    "start_time": "2025-06-13T14:00:16.136Z"
   },
   {
    "duration": 21,
    "start_time": "2025-06-13T14:00:16.148Z"
   },
   {
    "duration": 6,
    "start_time": "2025-06-13T14:00:16.170Z"
   },
   {
    "duration": 7,
    "start_time": "2025-06-13T14:00:16.178Z"
   },
   {
    "duration": 94,
    "start_time": "2025-06-13T14:00:16.187Z"
   },
   {
    "duration": 241,
    "start_time": "2025-06-13T14:00:16.283Z"
   },
   {
    "duration": 237,
    "start_time": "2025-06-13T14:00:16.525Z"
   },
   {
    "duration": 73,
    "start_time": "2025-06-13T14:00:16.764Z"
   },
   {
    "duration": 91,
    "start_time": "2025-06-13T14:00:16.839Z"
   },
   {
    "duration": 45,
    "start_time": "2025-06-13T14:00:16.931Z"
   },
   {
    "duration": 32,
    "start_time": "2025-06-13T14:00:16.978Z"
   },
   {
    "duration": 24,
    "start_time": "2025-06-13T14:00:17.011Z"
   },
   {
    "duration": 1313,
    "start_time": "2025-06-13T14:00:17.037Z"
   },
   {
    "duration": 59,
    "start_time": "2025-06-13T14:00:18.352Z"
   },
   {
    "duration": 86,
    "start_time": "2025-06-13T14:00:18.412Z"
   },
   {
    "duration": 9,
    "start_time": "2025-06-13T14:00:18.499Z"
   },
   {
    "duration": 2500,
    "start_time": "2025-06-13T14:00:18.509Z"
   },
   {
    "duration": 98,
    "start_time": "2025-06-13T14:00:21.011Z"
   },
   {
    "duration": 34,
    "start_time": "2025-06-13T14:00:21.110Z"
   },
   {
    "duration": 354,
    "start_time": "2025-06-13T14:00:21.145Z"
   },
   {
    "duration": 337,
    "start_time": "2025-06-13T14:00:21.501Z"
   },
   {
    "duration": 81,
    "start_time": "2025-06-13T14:00:21.840Z"
   },
   {
    "duration": 3,
    "start_time": "2025-06-13T14:00:21.922Z"
   },
   {
    "duration": 51,
    "start_time": "2025-06-13T14:00:21.926Z"
   },
   {
    "duration": 15,
    "start_time": "2025-06-13T14:00:21.978Z"
   },
   {
    "duration": 16,
    "start_time": "2025-06-13T14:00:21.994Z"
   },
   {
    "duration": 3,
    "start_time": "2025-06-13T14:00:22.012Z"
   },
   {
    "duration": 5,
    "start_time": "2025-06-13T14:00:22.016Z"
   },
   {
    "duration": 63,
    "start_time": "2025-06-13T14:00:22.023Z"
   },
   {
    "duration": 72,
    "start_time": "2025-06-13T14:00:22.088Z"
   },
   {
    "duration": 23,
    "start_time": "2025-06-13T14:00:22.161Z"
   },
   {
    "duration": 26,
    "start_time": "2025-06-13T14:00:22.185Z"
   },
   {
    "duration": 11,
    "start_time": "2025-06-13T14:00:22.212Z"
   },
   {
    "duration": 180,
    "start_time": "2025-06-13T14:00:22.225Z"
   },
   {
    "duration": 161,
    "start_time": "2025-06-13T14:00:22.406Z"
   },
   {
    "duration": 34,
    "start_time": "2025-06-13T14:00:22.573Z"
   },
   {
    "duration": 18,
    "start_time": "2025-06-13T14:00:22.609Z"
   },
   {
    "duration": 33,
    "start_time": "2025-06-13T14:00:22.629Z"
   },
   {
    "duration": 140,
    "start_time": "2025-06-13T14:00:22.664Z"
   },
   {
    "duration": 4,
    "start_time": "2025-06-13T14:00:22.805Z"
   },
   {
    "duration": 7,
    "start_time": "2025-06-13T14:00:22.810Z"
   },
   {
    "duration": 11,
    "start_time": "2025-06-13T14:00:22.818Z"
   },
   {
    "duration": 116,
    "start_time": "2025-06-13T14:00:22.831Z"
   },
   {
    "duration": 0,
    "start_time": "2025-06-13T14:00:22.949Z"
   },
   {
    "duration": 0,
    "start_time": "2025-06-13T14:00:22.957Z"
   },
   {
    "duration": 0,
    "start_time": "2025-06-13T14:00:22.958Z"
   },
   {
    "duration": 0,
    "start_time": "2025-06-13T14:00:22.962Z"
   },
   {
    "duration": 0,
    "start_time": "2025-06-13T14:00:22.963Z"
   },
   {
    "duration": 0,
    "start_time": "2025-06-13T14:00:22.964Z"
   },
   {
    "duration": 0,
    "start_time": "2025-06-13T14:00:22.965Z"
   },
   {
    "duration": 0,
    "start_time": "2025-06-13T14:00:22.966Z"
   },
   {
    "duration": 10,
    "start_time": "2025-06-13T14:00:49.338Z"
   },
   {
    "duration": 5,
    "start_time": "2025-06-13T14:01:00.340Z"
   },
   {
    "duration": 14,
    "start_time": "2025-06-13T14:02:45.868Z"
   },
   {
    "duration": 8,
    "start_time": "2025-06-13T14:02:46.055Z"
   },
   {
    "duration": 16,
    "start_time": "2025-06-13T14:02:46.212Z"
   },
   {
    "duration": 16,
    "start_time": "2025-06-13T14:02:46.357Z"
   },
   {
    "duration": 10,
    "start_time": "2025-06-13T14:02:49.938Z"
   },
   {
    "duration": 17,
    "start_time": "2025-06-13T14:04:53.827Z"
   },
   {
    "duration": 23,
    "start_time": "2025-06-13T14:04:54.410Z"
   },
   {
    "duration": 224,
    "start_time": "2025-06-13T14:04:54.613Z"
   },
   {
    "duration": 52,
    "start_time": "2025-06-18T19:30:06.499Z"
   },
   {
    "duration": 1433,
    "start_time": "2025-06-18T19:30:16.031Z"
   },
   {
    "duration": 2913,
    "start_time": "2025-06-18T19:30:17.466Z"
   },
   {
    "duration": 15,
    "start_time": "2025-06-18T19:30:20.381Z"
   },
   {
    "duration": 66,
    "start_time": "2025-06-18T19:30:20.398Z"
   },
   {
    "duration": 254,
    "start_time": "2025-06-18T19:30:20.465Z"
   },
   {
    "duration": 11,
    "start_time": "2025-06-18T19:30:20.737Z"
   },
   {
    "duration": 213,
    "start_time": "2025-06-18T19:30:20.750Z"
   },
   {
    "duration": 24,
    "start_time": "2025-06-18T19:30:20.965Z"
   },
   {
    "duration": 368,
    "start_time": "2025-06-18T19:30:20.991Z"
   },
   {
    "duration": 4324,
    "start_time": "2025-06-18T19:30:21.361Z"
   },
   {
    "duration": 799,
    "start_time": "2025-06-18T19:30:25.687Z"
   },
   {
    "duration": 5,
    "start_time": "2025-06-18T19:30:26.488Z"
   },
   {
    "duration": 182,
    "start_time": "2025-06-18T19:30:26.494Z"
   },
   {
    "duration": 412,
    "start_time": "2025-06-18T19:30:26.677Z"
   },
   {
    "duration": 366,
    "start_time": "2025-06-18T19:30:27.091Z"
   },
   {
    "duration": 230,
    "start_time": "2025-06-18T19:30:27.459Z"
   },
   {
    "duration": 89,
    "start_time": "2025-06-18T19:30:27.691Z"
   },
   {
    "duration": 634,
    "start_time": "2025-06-18T19:30:27.782Z"
   },
   {
    "duration": 180,
    "start_time": "2025-06-18T19:30:28.418Z"
   },
   {
    "duration": 145,
    "start_time": "2025-06-18T19:30:28.600Z"
   },
   {
    "duration": 10,
    "start_time": "2025-06-18T19:30:28.747Z"
   },
   {
    "duration": 147,
    "start_time": "2025-06-18T19:30:28.759Z"
   },
   {
    "duration": 49,
    "start_time": "2025-06-18T19:30:28.908Z"
   },
   {
    "duration": 23,
    "start_time": "2025-06-18T19:30:28.959Z"
   },
   {
    "duration": 246,
    "start_time": "2025-06-18T19:30:28.985Z"
   },
   {
    "duration": 58,
    "start_time": "2025-06-18T19:30:29.236Z"
   },
   {
    "duration": 51,
    "start_time": "2025-06-18T19:30:29.295Z"
   },
   {
    "duration": 84,
    "start_time": "2025-06-18T19:30:29.351Z"
   },
   {
    "duration": 3,
    "start_time": "2025-06-18T19:30:29.436Z"
   },
   {
    "duration": 6,
    "start_time": "2025-06-18T19:30:29.440Z"
   },
   {
    "duration": 21,
    "start_time": "2025-06-18T19:30:29.447Z"
   },
   {
    "duration": 219,
    "start_time": "2025-06-18T19:30:29.470Z"
   },
   {
    "duration": 188,
    "start_time": "2025-06-18T19:30:29.690Z"
   },
   {
    "duration": 26,
    "start_time": "2025-06-18T19:30:29.880Z"
   },
   {
    "duration": 394,
    "start_time": "2025-06-18T19:30:29.907Z"
   },
   {
    "duration": 198,
    "start_time": "2025-06-18T19:30:30.303Z"
   },
   {
    "duration": 12,
    "start_time": "2025-06-18T19:30:30.503Z"
   },
   {
    "duration": 176,
    "start_time": "2025-06-18T19:30:30.517Z"
   },
   {
    "duration": 67,
    "start_time": "2025-06-18T19:30:30.695Z"
   },
   {
    "duration": 56,
    "start_time": "2025-06-18T19:30:30.764Z"
   },
   {
    "duration": 30,
    "start_time": "2025-06-18T19:30:30.823Z"
   },
   {
    "duration": 86,
    "start_time": "2025-06-18T19:30:30.855Z"
   },
   {
    "duration": 15,
    "start_time": "2025-06-18T19:30:30.942Z"
   },
   {
    "duration": 39,
    "start_time": "2025-06-18T19:30:30.958Z"
   },
   {
    "duration": 12,
    "start_time": "2025-06-18T19:30:30.999Z"
   },
   {
    "duration": 16,
    "start_time": "2025-06-18T19:30:31.013Z"
   },
   {
    "duration": 15,
    "start_time": "2025-06-18T19:30:31.031Z"
   },
   {
    "duration": 156,
    "start_time": "2025-06-18T19:30:31.048Z"
   },
   {
    "duration": 27,
    "start_time": "2025-06-18T19:30:31.206Z"
   },
   {
    "duration": 17,
    "start_time": "2025-06-18T19:30:31.235Z"
   },
   {
    "duration": 88,
    "start_time": "2025-06-18T19:30:31.254Z"
   },
   {
    "duration": 273,
    "start_time": "2025-06-18T19:30:31.344Z"
   },
   {
    "duration": 243,
    "start_time": "2025-06-18T19:30:31.620Z"
   },
   {
    "duration": 93,
    "start_time": "2025-06-18T19:30:31.865Z"
   },
   {
    "duration": 91,
    "start_time": "2025-06-18T19:30:31.960Z"
   },
   {
    "duration": 44,
    "start_time": "2025-06-18T19:30:32.053Z"
   },
   {
    "duration": 62,
    "start_time": "2025-06-18T19:30:32.099Z"
   },
   {
    "duration": 29,
    "start_time": "2025-06-18T19:30:32.163Z"
   },
   {
    "duration": 1376,
    "start_time": "2025-06-18T19:30:32.194Z"
   },
   {
    "duration": 71,
    "start_time": "2025-06-18T19:30:33.572Z"
   },
   {
    "duration": 79,
    "start_time": "2025-06-18T19:30:33.645Z"
   },
   {
    "duration": 21,
    "start_time": "2025-06-18T19:30:33.725Z"
   },
   {
    "duration": 8627,
    "start_time": "2025-06-18T19:30:33.747Z"
   },
   {
    "duration": 102,
    "start_time": "2025-06-18T19:30:42.376Z"
   },
   {
    "duration": 34,
    "start_time": "2025-06-18T19:30:42.480Z"
   },
   {
    "duration": 348,
    "start_time": "2025-06-18T19:30:42.515Z"
   },
   {
    "duration": 338,
    "start_time": "2025-06-18T19:30:42.864Z"
   },
   {
    "duration": 85,
    "start_time": "2025-06-18T19:30:43.203Z"
   },
   {
    "duration": 2,
    "start_time": "2025-06-18T19:30:43.289Z"
   },
   {
    "duration": 8,
    "start_time": "2025-06-18T19:30:43.293Z"
   },
   {
    "duration": 4,
    "start_time": "2025-06-18T19:30:43.302Z"
   },
   {
    "duration": 11,
    "start_time": "2025-06-18T19:30:43.308Z"
   },
   {
    "duration": 9,
    "start_time": "2025-06-18T19:30:43.320Z"
   },
   {
    "duration": 180,
    "start_time": "2025-06-18T19:30:43.337Z"
   },
   {
    "duration": 59,
    "start_time": "2025-06-18T19:30:43.519Z"
   },
   {
    "duration": 60,
    "start_time": "2025-06-18T19:30:43.580Z"
   },
   {
    "duration": 24,
    "start_time": "2025-06-18T19:30:43.642Z"
   },
   {
    "duration": 40,
    "start_time": "2025-06-18T19:30:43.668Z"
   },
   {
    "duration": 11,
    "start_time": "2025-06-18T19:30:43.711Z"
   },
   {
    "duration": 185,
    "start_time": "2025-06-18T19:30:43.724Z"
   },
   {
    "duration": 183,
    "start_time": "2025-06-18T19:30:43.910Z"
   },
   {
    "duration": 43,
    "start_time": "2025-06-18T19:30:44.099Z"
   },
   {
    "duration": 18,
    "start_time": "2025-06-18T19:30:44.144Z"
   },
   {
    "duration": 8,
    "start_time": "2025-06-18T19:30:44.164Z"
   },
   {
    "duration": 173,
    "start_time": "2025-06-18T19:30:44.174Z"
   },
   {
    "duration": 5,
    "start_time": "2025-06-18T19:30:44.349Z"
   },
   {
    "duration": 7,
    "start_time": "2025-06-18T19:30:44.356Z"
   },
   {
    "duration": 7,
    "start_time": "2025-06-18T19:30:44.365Z"
   },
   {
    "duration": 8,
    "start_time": "2025-06-18T19:30:44.373Z"
   },
   {
    "duration": 26,
    "start_time": "2025-06-18T19:30:44.383Z"
   },
   {
    "duration": 11,
    "start_time": "2025-06-18T19:30:44.436Z"
   },
   {
    "duration": 123,
    "start_time": "2025-06-18T19:30:44.449Z"
   },
   {
    "duration": 13,
    "start_time": "2025-06-18T19:30:44.574Z"
   },
   {
    "duration": 23,
    "start_time": "2025-06-18T19:30:44.588Z"
   },
   {
    "duration": 45,
    "start_time": "2025-06-18T19:30:44.613Z"
   },
   {
    "duration": 23,
    "start_time": "2025-06-18T19:30:44.660Z"
   },
   {
    "duration": 152,
    "start_time": "2025-06-18T19:30:44.684Z"
   }
  ],
  "colab": {
   "provenance": []
  },
  "kernelspec": {
   "display_name": "Python 3",
   "language": "python",
   "name": "python3"
  },
  "language_info": {
   "codemirror_mode": {
    "name": "ipython",
    "version": 3
   },
   "file_extension": ".py",
   "mimetype": "text/x-python",
   "name": "python",
   "nbconvert_exporter": "python",
   "pygments_lexer": "ipython3",
   "version": "3.8.8"
  },
  "toc": {
   "base_numbering": 1,
   "nav_menu": {},
   "number_sections": true,
   "sideBar": true,
   "skip_h1_title": true,
   "title_cell": "Table of Contents",
   "title_sidebar": "Contents",
   "toc_cell": false,
   "toc_position": {},
   "toc_section_display": true,
   "toc_window_display": false
  }
 },
 "nbformat": 4,
 "nbformat_minor": 1
}
