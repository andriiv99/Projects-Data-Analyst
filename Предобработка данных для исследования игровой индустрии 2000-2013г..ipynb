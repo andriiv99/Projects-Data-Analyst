{
 "cells": [
  {
   "cell_type": "markdown",
   "id": "e06910dd",
   "metadata": {
    "id": "e06910dd"
   },
   "source": [
    "# Предобработка данных для исследования игровой индустрии 2000-2013г.\n",
    "\n",
    "- Автор: Андриив Ирина\n",
    "- Дата: 15.05.2025"
   ]
  },
  {
   "cell_type": "markdown",
   "id": "4149134c",
   "metadata": {
    "id": "4149134c"
   },
   "source": [
    "### Цели и задачи проекта\n",
    "\n",
    "<font color='#777778'>**Цель проекта:** Подготовить данные для написания аналитической статьи о развитии игровой индустрии начала XXI века.  \n",
    "\n",
    "**Задачи проекта:**    \n",
    "\n",
    "1. Выявить возможные ошибки и неточности в полученных данных   \n",
    "2. Исправить найденные в данных ошибки и неточности  \n",
    "3. Отфильтровать данные по времени выхода игры в период с 2000 по 2013 год включительно  \n",
    "4. Выделить категории игр на основе оценок пользователей и экспертов   \n",
    "4. Выделить топ-7 платформ по количеству игр, выпущенных за весь требуемый период</font>"
   ]
  },
  {
   "cell_type": "markdown",
   "id": "728986ea",
   "metadata": {
    "id": "728986ea"
   },
   "source": [
    "### Описание данных\n",
    "\n",
    "<font color='#777778'>Данные датасета содержат информацию о продажах игр разных жанров и платформ, а также пользовательские и экспертные оценки игр"
   ]
  },
  {
   "cell_type": "markdown",
   "id": "4fecaf95",
   "metadata": {
    "id": "4fecaf95"
   },
   "source": [
    "### Содержимое проекта\n",
    "\n",
    "<font color='#777778'>1. [Загрузка данных и знакомство с ними](#1-bullet)    \n",
    "2. [Проверка ошибок в данных и их предобработка](#2-bullet)  \n",
    "3. [Фильтрация данных](#3-bullet)  \n",
    "4. [Категоризация данных](#4-bullet)  \n",
    "5. [Итоговый вывод](#5-bullet)  </font>\n",
    "\n",
    "---"
   ]
  },
  {
   "cell_type": "markdown",
   "id": "6f7d21d6",
   "metadata": {
    "id": "6f7d21d6"
   },
   "source": [
    "<a class =\"anchor\" id=\"1-bullet\"></a> \n",
    "## 1. Загрузка данных и знакомство с ними\n"
   ]
  },
  {
   "cell_type": "code",
   "execution_count": 1,
   "id": "ebb66dc5",
   "metadata": {
    "id": "ebb66dc5"
   },
   "outputs": [],
   "source": [
    "import pandas as pd "
   ]
  },
  {
   "cell_type": "code",
   "execution_count": 2,
   "id": "ce87c1db",
   "metadata": {
    "id": "ce87c1db"
   },
   "outputs": [],
   "source": [
    "df = pd.read_csv(...)"
   ]
  },
  {
   "cell_type": "code",
   "execution_count": 3,
   "id": "d7c8eb4b",
   "metadata": {
    "id": "d7c8eb4b"
   },
   "outputs": [
    {
     "data": {
      "text/html": [
       "<div>\n",
       "<style scoped>\n",
       "    .dataframe tbody tr th:only-of-type {\n",
       "        vertical-align: middle;\n",
       "    }\n",
       "\n",
       "    .dataframe tbody tr th {\n",
       "        vertical-align: top;\n",
       "    }\n",
       "\n",
       "    .dataframe thead th {\n",
       "        text-align: right;\n",
       "    }\n",
       "</style>\n",
       "<table border=\"1\" class=\"dataframe\">\n",
       "  <thead>\n",
       "    <tr style=\"text-align: right;\">\n",
       "      <th></th>\n",
       "      <th>Name</th>\n",
       "      <th>Platform</th>\n",
       "      <th>Year of Release</th>\n",
       "      <th>Genre</th>\n",
       "      <th>NA sales</th>\n",
       "      <th>EU sales</th>\n",
       "      <th>JP sales</th>\n",
       "      <th>Other sales</th>\n",
       "      <th>Critic Score</th>\n",
       "      <th>User Score</th>\n",
       "      <th>Rating</th>\n",
       "    </tr>\n",
       "  </thead>\n",
       "  <tbody>\n",
       "    <tr>\n",
       "      <th>0</th>\n",
       "      <td>Wii Sports</td>\n",
       "      <td>Wii</td>\n",
       "      <td>2006.0</td>\n",
       "      <td>Sports</td>\n",
       "      <td>41.36</td>\n",
       "      <td>28.96</td>\n",
       "      <td>3.77</td>\n",
       "      <td>8.45</td>\n",
       "      <td>76.0</td>\n",
       "      <td>8</td>\n",
       "      <td>E</td>\n",
       "    </tr>\n",
       "    <tr>\n",
       "      <th>1</th>\n",
       "      <td>Super Mario Bros.</td>\n",
       "      <td>NES</td>\n",
       "      <td>1985.0</td>\n",
       "      <td>Platform</td>\n",
       "      <td>29.08</td>\n",
       "      <td>3.58</td>\n",
       "      <td>6.81</td>\n",
       "      <td>0.77</td>\n",
       "      <td>NaN</td>\n",
       "      <td>NaN</td>\n",
       "      <td>NaN</td>\n",
       "    </tr>\n",
       "    <tr>\n",
       "      <th>2</th>\n",
       "      <td>Mario Kart Wii</td>\n",
       "      <td>Wii</td>\n",
       "      <td>2008.0</td>\n",
       "      <td>Racing</td>\n",
       "      <td>15.68</td>\n",
       "      <td>12.76</td>\n",
       "      <td>3.79</td>\n",
       "      <td>3.29</td>\n",
       "      <td>82.0</td>\n",
       "      <td>8.3</td>\n",
       "      <td>E</td>\n",
       "    </tr>\n",
       "    <tr>\n",
       "      <th>3</th>\n",
       "      <td>Wii Sports Resort</td>\n",
       "      <td>Wii</td>\n",
       "      <td>2009.0</td>\n",
       "      <td>Sports</td>\n",
       "      <td>15.61</td>\n",
       "      <td>10.93</td>\n",
       "      <td>3.28</td>\n",
       "      <td>2.95</td>\n",
       "      <td>80.0</td>\n",
       "      <td>8</td>\n",
       "      <td>E</td>\n",
       "    </tr>\n",
       "    <tr>\n",
       "      <th>4</th>\n",
       "      <td>Pokemon Red/Pokemon Blue</td>\n",
       "      <td>GB</td>\n",
       "      <td>1996.0</td>\n",
       "      <td>Role-Playing</td>\n",
       "      <td>11.27</td>\n",
       "      <td>8.89</td>\n",
       "      <td>10.22</td>\n",
       "      <td>1.00</td>\n",
       "      <td>NaN</td>\n",
       "      <td>NaN</td>\n",
       "      <td>NaN</td>\n",
       "    </tr>\n",
       "  </tbody>\n",
       "</table>\n",
       "</div>"
      ],
      "text/plain": [
       "                       Name Platform  Year of Release         Genre  NA sales  \\\n",
       "0                Wii Sports      Wii           2006.0        Sports     41.36   \n",
       "1         Super Mario Bros.      NES           1985.0      Platform     29.08   \n",
       "2            Mario Kart Wii      Wii           2008.0        Racing     15.68   \n",
       "3         Wii Sports Resort      Wii           2009.0        Sports     15.61   \n",
       "4  Pokemon Red/Pokemon Blue       GB           1996.0  Role-Playing     11.27   \n",
       "\n",
       "  EU sales JP sales  Other sales  Critic Score User Score Rating  \n",
       "0    28.96     3.77         8.45          76.0          8      E  \n",
       "1     3.58     6.81         0.77           NaN        NaN    NaN  \n",
       "2    12.76     3.79         3.29          82.0        8.3      E  \n",
       "3    10.93     3.28         2.95          80.0          8      E  \n",
       "4     8.89    10.22         1.00           NaN        NaN    NaN  "
      ]
     },
     "execution_count": 3,
     "metadata": {},
     "output_type": "execute_result"
    }
   ],
   "source": [
    "# Первые 5 строк датасета\n",
    "df.head()"
   ]
  },
  {
   "cell_type": "code",
   "execution_count": 4,
   "id": "3937acf7",
   "metadata": {
    "id": "3937acf7"
   },
   "outputs": [
    {
     "name": "stdout",
     "output_type": "stream",
     "text": [
      "<class 'pandas.core.frame.DataFrame'>\n",
      "RangeIndex: 16956 entries, 0 to 16955\n",
      "Data columns (total 11 columns):\n",
      " #   Column           Non-Null Count  Dtype  \n",
      "---  ------           --------------  -----  \n",
      " 0   Name             16954 non-null  object \n",
      " 1   Platform         16956 non-null  object \n",
      " 2   Year of Release  16681 non-null  float64\n",
      " 3   Genre            16954 non-null  object \n",
      " 4   NA sales         16956 non-null  float64\n",
      " 5   EU sales         16956 non-null  object \n",
      " 6   JP sales         16956 non-null  object \n",
      " 7   Other sales      16956 non-null  float64\n",
      " 8   Critic Score     8242 non-null   float64\n",
      " 9   User Score       10152 non-null  object \n",
      " 10  Rating           10085 non-null  object \n",
      "dtypes: float64(4), object(7)\n",
      "memory usage: 1.4+ MB\n"
     ]
    }
   ],
   "source": [
    "# Информация о данных\n",
    "df.info()"
   ]
  },
  {
   "cell_type": "code",
   "execution_count": 5,
   "id": "9106a459",
   "metadata": {},
   "outputs": [],
   "source": [
    "# Сохраним начальное число строк датафрейма в переменную\n",
    "df_lines = df.shape[0]                  "
   ]
  },
  {
   "cell_type": "markdown",
   "id": "fae7135e",
   "metadata": {
    "id": "fc561cac"
   },
   "source": [
    "**Первичный анализ данных** \n",
    "\n",
    "1.Представленный датасет содержит 16956 строк и 11 столбцов.  \n",
    "2.Содержание столбцов соответствует описанию данных и названиям столбцов.   \n",
    "3.В некоторых столбцах встречаются пропуски: Name, Year of Release, Genre, Critic Score, User Score, Rating.    \n",
    "4.В столбцах датасета представлены данные следующих типов: float64(4 столбца), object(7 столбцов). Однако в ряде столбцов тип данных определен некорректно и требует замены для дальнейшей работы с данными:   \n",
    "тип данных float64 в столбце Year of Release необходимо заменить на int64,  \n",
    "тип данных object в столбцах EU sales, JP sales, User Score,  Critic Score необходимо заменить на float64.  \n",
    "5.Названия столбцов требуется привести к единому стилю написания (предпочтительно snake case) и единому регистру."
   ]
  },
  {
   "cell_type": "markdown",
   "id": "774bf76e",
   "metadata": {
    "id": "774bf76e"
   },
   "source": [
    "---\n",
    "<a class =\"anchor\" id=\"2-bullet\"></a> \n",
    "## 2.  Проверка ошибок в данных и их предобработка\n",
    "\n",
    "\n",
    "### 2.1. Названия, или метки, столбцов датафрейма\n",
    "\n",
    "- Выведите на экран названия всех столбцов датафрейма и проверьте их стиль написания.\n",
    "- Приведите все столбцы к стилю snake case. Названия должны быть в нижнем регистре, а вместо пробелов — подчёркивания."
   ]
  },
  {
   "cell_type": "code",
   "execution_count": 6,
   "id": "b9276a2b",
   "metadata": {
    "id": "b9276a2b"
   },
   "outputs": [
    {
     "data": {
      "text/plain": [
       "Index(['Name', 'Platform', 'Year of Release', 'Genre', 'NA sales', 'EU sales',\n",
       "       'JP sales', 'Other sales', 'Critic Score', 'User Score', 'Rating'],\n",
       "      dtype='object')"
      ]
     },
     "execution_count": 6,
     "metadata": {},
     "output_type": "execute_result"
    }
   ],
   "source": [
    "# Выводим на экран названия всех столбцов датасета\n",
    "df.columns"
   ]
  },
  {
   "cell_type": "markdown",
   "id": "f8f0df6e",
   "metadata": {
    "id": "d554563c"
   },
   "source": [
    "Некоторые названия столбцов не соответствуют рекомендуемому стилю (snake case). Также все названия следует записать в ниженем регистре."
   ]
  },
  {
   "cell_type": "code",
   "execution_count": 7,
   "id": "87b573dd",
   "metadata": {
    "id": "87b573dd"
   },
   "outputs": [],
   "source": [
    "# Создаем словарь со скорректированными названиями столбцов для замены названий\n",
    "new_names = {'Name':'name', \n",
    "'Platform':'platform',\n",
    "'Year of Release':'year_of_release', \n",
    "'Genre':'genre', \n",
    "'NA sales':'na_sales', \n",
    "'EU sales':'eu_sales',\n",
    "'JP sales':'jp_sales', \n",
    "'Other sales':'other_sales', \n",
    "'Critic Score':'critic_score', \n",
    "'User Score':'user_score', \n",
    "'Rating':'rating'}"
   ]
  },
  {
   "cell_type": "code",
   "execution_count": 8,
   "id": "67507dab",
   "metadata": {},
   "outputs": [
    {
     "data": {
      "text/plain": [
       "Index(['name', 'platform', 'year_of_release', 'genre', 'na_sales', 'eu_sales',\n",
       "       'jp_sales', 'other_sales', 'critic_score', 'user_score', 'rating'],\n",
       "      dtype='object')"
      ]
     },
     "execution_count": 8,
     "metadata": {},
     "output_type": "execute_result"
    }
   ],
   "source": [
    "# Присваиваем новые названия столбцов датафрейму\n",
    "df = df.rename(columns = new_names)\n",
    "df.columns"
   ]
  },
  {
   "cell_type": "markdown",
   "id": "41bc6bf8",
   "metadata": {
    "id": "41bc6bf8"
   },
   "source": [
    "### 2.2. Типы данных\n",
    "\n",
    "- Если встречаются некорректные типы данных, предположите их причины.\n",
    "- При необходимости проведите преобразование типов данных. Помните, что столбцы с числовыми данными и пропусками нельзя преобразовать к типу `int64`. Сначала вам понадобится обработать пропуски, а затем преобразовать типы данных."
   ]
  },
  {
   "cell_type": "markdown",
   "id": "a5f37849",
   "metadata": {
    "id": "8adaac81"
   },
   "source": [
    "В следующих столбцах тип данных определен некорректно и требует замены:   \n",
    "**year_of_release** (тип данных float64 необходимо заменить на int64, в столбце присутствуют пропуски в виде нечисловых значений, в связи с этим pandas выбрал тип float64, тип данных будет преобразован после обработки пропусков),  \n",
    "**eu_sales, jp_sales, user_score** (тип данных object необходимо заменить на float64, вероятнее всего, столбце присутствуют нечисловые значения, в связи с чем pandas преобразовал столбцы к типу object)."
   ]
  },
  {
   "cell_type": "code",
   "execution_count": 9,
   "id": "8e63ec24",
   "metadata": {},
   "outputs": [
    {
     "data": {
      "text/plain": [
       "array([2006., 1985., 2008., 2009., 1996., 1989., 1984., 2005., 1999.,\n",
       "       2007., 2010., 2013., 2004., 1990., 1988., 2002., 2001., 2011.,\n",
       "       1998., 2015., 2012., 2014., 1992., 1997., 1993., 1994., 1982.,\n",
       "       2016., 2003., 1986., 2000.,   nan, 1995., 1991., 1981., 1987.,\n",
       "       1980., 1983.])"
      ]
     },
     "execution_count": 9,
     "metadata": {},
     "output_type": "execute_result"
    }
   ],
   "source": [
    "# Выведем уникальные значения столбца year_of_release для проверки типа данных\n",
    "df['year_of_release'].unique()"
   ]
  },
  {
   "cell_type": "code",
   "execution_count": 10,
   "id": "bb355f79",
   "metadata": {},
   "outputs": [
    {
     "data": {
      "text/plain": [
       "array(['28.96', '3.58', '12.76', '10.93', '8.89', '2.26', '9.14', '9.18',\n",
       "       '6.94', '0.63', '10.95', '7.47', '6.18', '8.03', '4.89', '8.49',\n",
       "       '9.09', '0.4', '3.75', '9.2', '4.46', '2.71', '3.44', '5.14',\n",
       "       '5.49', '3.9', '5.35', '3.17', '5.09', '4.24', '5.04', '5.86',\n",
       "       '3.68', '4.19', '5.73', '3.59', '4.51', '2.55', '4.02', '4.37',\n",
       "       '6.31', '3.45', '2.81', '2.85', '3.49', '0.01', '3.35', '2.04',\n",
       "       '3.07', '3.87', '3.0', '4.82', '3.64', '2.15', '3.69', '2.65',\n",
       "       '2.56', '3.11', '3.14', '1.94', '1.95', '2.47', '2.28', '3.42',\n",
       "       '3.63', '2.36', '1.71', '1.85', '2.79', '1.24', '6.12', '1.53',\n",
       "       '3.47', '2.24', '5.01', '2.01', '1.72', '2.07', '6.42', '3.86',\n",
       "       '0.45', '3.48', '1.89', '5.75', '2.17', '1.37', '2.35', '1.18',\n",
       "       '2.11', '1.88', '2.83', '2.99', '2.89', '3.27', '2.22', '2.14',\n",
       "       '1.45', '1.75', '1.04', '1.77', '3.02', '2.75', '2.16', '1.9',\n",
       "       '2.59', '2.2', '4.3', '0.93', '2.53', '2.52', '1.79', '1.3', '2.6',\n",
       "       '1.58', '1.2', '1.56', '1.34', '1.26', '0.83', '6.21', '2.8',\n",
       "       '1.59', '1.73', '4.33', '1.83', '0.0', '2.18', '1.98', '1.47',\n",
       "       '0.67', '1.55', '1.91', '0.69', '0.6', '1.93', '1.64', '0.55',\n",
       "       '2.19', '1.11', '2.29', '2.5', '0.96', '1.21', '1.12', '0.77',\n",
       "       '1.69', '1.08', '0.79', '2.37', '2.46', '0.26', '0.75', '1.25',\n",
       "       '2.43', '0.98', '0.74', '2.23', '0.61', '2.45', '1.41', '1.8',\n",
       "       '3.28', '1.16', '1.99', '1.38', '1.36', '1.17', '1.19', '0.99',\n",
       "       '1.68', '2.0', '1.33', '1.57', '1.48', '2.1', '1.27', '1.97',\n",
       "       '0.91', '1.39', '1.96', '0.24', '1.51', '0.14', '1.29', '2.39',\n",
       "       '1.03', '0.5', '0.58', '1.31', '2.02', '1.32', '1.01', '2.27',\n",
       "       '2.3', '1.82', '2.78', '0.44', '0.48', '0.27', '0.21', '2.48',\n",
       "       '0.51', '1.52', '0.04', '0.28', '1.35', '0.87', '2.13', '1.13',\n",
       "       '1.76', '0.76', '2.12', '0.66', '1.6', '1.44', '1.43', '1.7',\n",
       "       '0.47', '1.87', '0.86', '0.73', '1.28', '0.81', '1.09', '0.68',\n",
       "       '1.22', '1.4', '1.02', '1.49', '1.14', '0.49', '0.9', '0.38',\n",
       "       '1.42', '0.95', '1.62', '0.71', '1.05', '0.92', '0.33', '0.3',\n",
       "       '1.67', '1.0', '0.89', '0.1', '0.72', '0.59', '0.56', '0.16',\n",
       "       '0.97', '0.62', 'unknown', '0.85', '0.94', '0.88', '0.84', '1.06',\n",
       "       '0.2', '1.15', '0.8', '1.1', '0.7', '1.92', '0.32', '0.15', '0.53',\n",
       "       '0.09', '1.46', '0.29', '0.22', '1.23', '0.07', '0.17', '0.54',\n",
       "       '0.36', '0.31', '1.84', '0.52', '0.11', '0.64', '0.12', '2.05',\n",
       "       '1.63', '0.82', '0.08', '0.57', '1.65', '0.19', '0.02', '0.43',\n",
       "       '0.25', '1.5', '0.18', '0.39', '0.13', '1.07', '0.46', '0.41',\n",
       "       '0.06', '0.03', '0.37', '0.05', '0.23', '0.65', '0.42', '0.34',\n",
       "       '0.35', '0.78'], dtype=object)"
      ]
     },
     "execution_count": 10,
     "metadata": {},
     "output_type": "execute_result"
    }
   ],
   "source": [
    "# Выведем уникальные значения столбца eu_sales для проверки типа данных\n",
    "df['eu_sales'].unique()"
   ]
  },
  {
   "cell_type": "code",
   "execution_count": 11,
   "id": "3dbbf813",
   "metadata": {},
   "outputs": [
    {
     "data": {
      "text/plain": [
       "array(['3.77', '6.81', '3.79', '3.28', '10.22', '4.22', '6.5', '2.93',\n",
       "       '4.7', '0.28', '1.93', '4.13', '7.2', '3.6', '0.24', '2.53',\n",
       "       '0.98', '0.41', '3.54', '4.16', '6.04', '4.18', '3.84', '0.06',\n",
       "       '0.47', '5.38', '5.32', '5.65', '1.87', '0.13', '3.12', '0.36',\n",
       "       '0.11', '4.35', '0.65', '0.07', '0.08', '0.49', '0.3', '2.66',\n",
       "       '2.69', '0.48', '0.38', '5.33', '1.91', '3.96', '3.1', '1.1',\n",
       "       '1.2', '0.14', '2.54', '2.14', '0.81', '2.12', '0.44', '3.15',\n",
       "       '1.25', '0.04', '0.0', '2.47', '2.23', '1.69', '0.01', '3.0',\n",
       "       '0.02', '4.39', '1.98', '0.1', '3.81', '0.05', '2.49', '1.58',\n",
       "       '3.14', '2.73', '0.66', '0.22', '3.63', '1.45', '1.31', '2.43',\n",
       "       '0.7', '0.35', '1.4', '0.6', '2.26', '1.42', '1.28', '1.39',\n",
       "       '0.87', '0.17', '0.94', '0.19', '0.21', '1.6', '0.16', '1.03',\n",
       "       '0.25', '2.06', '1.49', '1.29', '0.09', '2.87', '0.03', '0.78',\n",
       "       '0.83', '2.33', '2.02', '1.36', '1.81', '1.97', '0.91', '0.99',\n",
       "       '0.95', '2.0', '1.01', '2.78', '2.11', '1.09', '0.2', '1.9',\n",
       "       '1.27', '3.61', '1.57', '2.2', '1.7', '1.08', '0.15', '1.11',\n",
       "       '0.29', '1.54', '0.12', '0.89', '4.87', '1.52', '1.32', '1.15',\n",
       "       '4.1', '1.46', '0.46', '1.05', '1.61', '0.26', '1.38', '0.62',\n",
       "       '0.73', '0.57', '0.31', '0.58', '1.76', '2.1', '0.9', '0.51',\n",
       "       '0.64', '2.46', '0.23', '0.37', '0.92', '1.07', '2.62', '1.12',\n",
       "       '0.54', '0.27', '0.59', '3.67', '0.55', '1.75', '3.44', '0.33',\n",
       "       '2.55', '2.32', '2.79', '0.74', '3.18', '0.82', '0.77', '0.4',\n",
       "       '2.35', '3.19', '0.8', '0.76', '3.03', '0.88', 'unknown', '0.45',\n",
       "       '1.16', '0.34', '1.19', '1.13', '2.13', '1.96', '0.71', '1.04',\n",
       "       '2.68', '0.68', '2.65', '0.96', '2.41', '0.52', '0.18', '1.34',\n",
       "       '1.48', '2.34', '1.06', '1.21', '2.29', '1.63', '2.05', '2.17',\n",
       "       '1.56', '1.35', '1.33', '0.63', '0.79', '0.75', '0.53', '1.53',\n",
       "       '1.3', '0.39', '0.69', '0.42', '0.93', '0.56', '0.84', '0.72',\n",
       "       '0.32', '1.71', '1.65', '0.61', '1.51', '1.5', '1.44', '1.24',\n",
       "       '1.18', '1.37', '1.0', '1.26', '0.85', '0.43', '0.67', '1.14',\n",
       "       '0.86', '1.17', '0.5', '1.02', '0.97'], dtype=object)"
      ]
     },
     "execution_count": 11,
     "metadata": {},
     "output_type": "execute_result"
    }
   ],
   "source": [
    "# Выведем уникальные значения столбца jp_sales для проверки типа данных\n",
    "df['jp_sales'].unique()"
   ]
  },
  {
   "cell_type": "code",
   "execution_count": 12,
   "id": "6598907b",
   "metadata": {},
   "outputs": [
    {
     "data": {
      "text/plain": [
       "array(['8', nan, '8.3', '8.5', '6.6', '8.4', '8.6', '7.7', '6.3', '7.4',\n",
       "       '8.2', '9', '7.9', '8.1', '8.7', '7.1', '3.4', '5.3', '4.8', '3.2',\n",
       "       '8.9', '6.4', '7.8', '7.5', '2.6', '7.2', '9.2', '7', '7.3', '4.3',\n",
       "       '7.6', '5.7', '5', '9.1', '6.5', 'tbd', '8.8', '6.9', '9.4', '6.8',\n",
       "       '6.1', '6.7', '5.4', '4', '4.9', '4.5', '9.3', '6.2', '4.2', '6',\n",
       "       '3.7', '4.1', '5.8', '5.6', '5.5', '4.4', '4.6', '5.9', '3.9',\n",
       "       '3.1', '2.9', '5.2', '3.3', '4.7', '5.1', '3.5', '2.5', '1.9', '3',\n",
       "       '2.7', '2.2', '2', '9.5', '2.1', '3.6', '2.8', '1.8', '3.8', '0',\n",
       "       '1.6', '9.6', '2.4', '1.7', '1.1', '0.3', '1.5', '0.7', '1.2',\n",
       "       '2.3', '0.5', '1.3', '0.2', '0.6', '1.4', '0.9', '1', '9.7'],\n",
       "      dtype=object)"
      ]
     },
     "execution_count": 12,
     "metadata": {},
     "output_type": "execute_result"
    }
   ],
   "source": [
    "# Выведем уникальные значения столбца user_score для проверки типа данных\n",
    "df['user_score'].unique()"
   ]
  },
  {
   "cell_type": "code",
   "execution_count": 13,
   "id": "b249db30",
   "metadata": {},
   "outputs": [
    {
     "data": {
      "text/plain": [
       "array([76., nan, 82., 80., 89., 58., 87., 91., 61., 97., 95., 77., 88.,\n",
       "       83., 94., 93., 85., 86., 98., 96., 90., 84., 73., 74., 78., 92.,\n",
       "       71., 72., 68., 62., 49., 67., 81., 66., 56., 79., 70., 59., 64.,\n",
       "       75., 60., 63., 69., 50., 25., 42., 44., 55., 48., 57., 29., 47.,\n",
       "       65., 54., 20., 53., 37., 38., 33., 52., 30., 32., 43., 45., 51.,\n",
       "       40., 46., 39., 34., 35., 41., 36., 28., 31., 27., 26., 19., 23.,\n",
       "       24., 21., 17., 22., 13.])"
      ]
     },
     "execution_count": 13,
     "metadata": {},
     "output_type": "execute_result"
    }
   ],
   "source": [
    "# Выведем уникальные значения столбца user_score для проверки типа данных\n",
    "df['critic_score'].unique()"
   ]
  },
  {
   "cell_type": "code",
   "execution_count": 14,
   "id": "e8412c01",
   "metadata": {
    "id": "e8412c01",
    "scrolled": true
   },
   "outputs": [],
   "source": [
    "# Преобразуем столбец eu_sales к типу данных float64\n",
    "df['eu_sales'] = pd.to_numeric(df['eu_sales'], errors='coerce')"
   ]
  },
  {
   "cell_type": "code",
   "execution_count": 15,
   "id": "96e120e5",
   "metadata": {},
   "outputs": [],
   "source": [
    "# Преобразуем столбец jp_sales к типу данных float64\n",
    "df['jp_sales'] = pd.to_numeric(df['jp_sales'], errors='coerce')"
   ]
  },
  {
   "cell_type": "code",
   "execution_count": 16,
   "id": "3f3a95ad",
   "metadata": {},
   "outputs": [],
   "source": [
    "# Преобразуем столбец user_score к типу данных float64\n",
    "df['user_score'] = pd.to_numeric(df['user_score'], errors='coerce') "
   ]
  },
  {
   "cell_type": "code",
   "execution_count": 17,
   "id": "c6ea3c49",
   "metadata": {},
   "outputs": [],
   "source": [
    "# Преобразуем столбец critec_score к типу данных float64\n",
    "df['critic_score'] = pd.to_numeric(df['critic_score'], errors='coerce') "
   ]
  },
  {
   "cell_type": "code",
   "execution_count": 18,
   "id": "76f372ac",
   "metadata": {},
   "outputs": [
    {
     "data": {
      "text/plain": [
       "eu_sales        float64\n",
       "jp_sales        float64\n",
       "user_score      float64\n",
       "critic_score    float64\n",
       "dtype: object"
      ]
     },
     "execution_count": 18,
     "metadata": {},
     "output_type": "execute_result"
    }
   ],
   "source": [
    "# Выведем типы данных преобразованных столбцов\n",
    "df[['eu_sales', 'jp_sales', 'user_score', 'critic_score']].dtypes"
   ]
  },
  {
   "cell_type": "markdown",
   "id": "6c69a186",
   "metadata": {
    "id": "9e53cff4"
   },
   "source": [
    "Столбец year_of_release будут преобразованы к соответствующим форматам ниже после удаления пропущенных значений"
   ]
  },
  {
   "cell_type": "markdown",
   "id": "b39893cb",
   "metadata": {
    "id": "b39893cb"
   },
   "source": [
    "### 2.3. Наличие пропусков в данных\n",
    "\n",
    "- Посчитайте количество пропусков в каждом столбце в абсолютных и относительных значениях.\n"
   ]
  },
  {
   "cell_type": "code",
   "execution_count": 19,
   "id": "0f1c91a8",
   "metadata": {
    "id": "0f1c91a8"
   },
   "outputs": [
    {
     "data": {
      "text/plain": [
       "name                  2\n",
       "platform              0\n",
       "year_of_release     275\n",
       "genre                 2\n",
       "na_sales              0\n",
       "eu_sales              6\n",
       "jp_sales              4\n",
       "other_sales           0\n",
       "critic_score       8714\n",
       "user_score         9268\n",
       "rating             6871\n",
       "dtype: int64"
      ]
     },
     "execution_count": 19,
     "metadata": {},
     "output_type": "execute_result"
    }
   ],
   "source": [
    "# Количество пропусков в каждом столбце в абсолютных значениях\n",
    "df.isna().sum()"
   ]
  },
  {
   "cell_type": "code",
   "execution_count": 20,
   "id": "86cd1cc1",
   "metadata": {
    "id": "86cd1cc1"
   },
   "outputs": [
    {
     "data": {
      "text/plain": [
       "name                0.011795\n",
       "platform            0.000000\n",
       "year_of_release     1.621845\n",
       "genre               0.011795\n",
       "na_sales            0.000000\n",
       "eu_sales            0.035386\n",
       "jp_sales            0.023590\n",
       "other_sales         0.000000\n",
       "critic_score       51.391838\n",
       "user_score         54.659118\n",
       "rating             40.522529\n",
       "dtype: float64"
      ]
     },
     "execution_count": 20,
     "metadata": {},
     "output_type": "execute_result"
    }
   ],
   "source": [
    "# Количество пропусков в каждом столбце в относительных значениях\n",
    "df.isna().mean()*100"
   ]
  },
  {
   "cell_type": "markdown",
   "id": "cf796f51",
   "metadata": {
    "id": "cf796f51"
   },
   "source": [
    "- Изучите данные с пропущенными значениями. Напишите промежуточный вывод: для каких столбцов характерны пропуски и сколько их. Предположите, почему пропуски могли возникнуть. Укажите, какие действия с этими данными можно сделать и почему.\n"
   ]
  },
  {
   "cell_type": "markdown",
   "id": "aec8ea44",
   "metadata": {
    "id": "bd69e642"
   },
   "source": [
    "В следующих столбцах встречаются пропуски: *name, year_of_release, genre, critic_score, user_score, rating.* Также после изменения типа данных пропуски были обнаружены в столбцах *eu_sales, jp_sales*.  \n",
    "\n",
    "Для столбцов ***name, genre, eu_sales, jp_sales*** количество пропусков в абсолютном и относительном выражении незначительно (менее 1% от общего количества записей). Скорее всего, пропуски вызваны случйными техническими ошибками в данных. В датасете есть данные, которые можно использовать для расчет средних значений по продажам в зависимости от года продажи и платформы. Рассчитанными значениями заполненим пропуски.   \n",
    "\n",
    "Для столбца ***year_of_release*** количество пропусков так же не является критическим (275 пропусков, что составляет 1,6% от общего количества записей). Эти пропуски можно удалить, так как их количество незначительно относительно всего массива данных, а год может быть важным показателем для дальнейшего анализа данных. Скорее всего, такие пропуски также вызваны случйными техническими ошибками в данных, восстановить пропущенные занчения не удастся.  \n",
    "\n",
    "Для столбцов ***critic_score, user_score, rating*** количество пропусков является критическим (51%, 55%, 40% от общего количества записей соответственно). Значения в столбцах critic_score, user_score являются числовыми, однако расчет среднего показателя на основе имеющихся в датасете данных может быть ошибочным ввиду большого количества пропусков. Отсутствующие значения в столбце rating явлюятся нечисловыми, применить расчет значния также не представляется возможным. При этом столбцы могут быть полезны в качестве источников дополнительной информации о развитии игровой индутстрии. В связи с этим, отсутствующие значения в столбцах возможно изменить на строковый индикатор, показывающий отсутствие данных (например, \"Данные отсутствуют\")."
   ]
  },
  {
   "cell_type": "markdown",
   "id": "bbbe3bda",
   "metadata": {
    "id": "bbbe3bda"
   },
   "source": [
    "- Обработайте пропущенные значения. Для каждого случая вы можете выбрать оптимальный, на ваш взгляд, вариант: заменить на определённое значение, оставить как есть или удалить.\n",
    "- Если вы решите заменить пропуски на значение-индикатор, то убедитесь, что предложенное значение не может быть использовано в данных.\n",
    "- Если вы нашли пропуски в данных с количеством проданных копий игры в том или ином регионе, их можно заменить на среднее значение в зависимости от названия платформы и года выхода игры."
   ]
  },
  {
   "cell_type": "code",
   "execution_count": 21,
   "id": "154be65d",
   "metadata": {
    "id": "154be65d"
   },
   "outputs": [],
   "source": [
    "# Заменяем пропуски в столбце rating на индикатор \"-1\" \n",
    "df['rating'] = df['rating'].fillna(-1)"
   ]
  },
  {
   "cell_type": "code",
   "execution_count": 22,
   "id": "b6cbb93e",
   "metadata": {},
   "outputs": [],
   "source": [
    "# Заменяем пропуски в столбце critic_score на индикатор \"-1\"\n",
    "df['critic_score'] = df['critic_score'].fillna(-1)"
   ]
  },
  {
   "cell_type": "code",
   "execution_count": 23,
   "id": "2f0a9c7c",
   "metadata": {},
   "outputs": [],
   "source": [
    "# Заменяем пропуски в столбце user_score на индикатор \"-1\"\n",
    "df['user_score'] = df['user_score'].fillna(-1)"
   ]
  },
  {
   "cell_type": "code",
   "execution_count": 24,
   "id": "3f42817b",
   "metadata": {
    "id": "3f42817b"
   },
   "outputs": [],
   "source": [
    "# Удаляем пропущенные значения в столбце 'year_of_release'\n",
    "df = df.dropna(subset=['year_of_release'])"
   ]
  },
  {
   "cell_type": "code",
   "execution_count": 25,
   "id": "14fc2329",
   "metadata": {},
   "outputs": [],
   "source": [
    "# Удаляем пропущенные значения в столбце 'name'\n",
    "df = df.dropna(subset=['name'])"
   ]
  },
  {
   "cell_type": "code",
   "execution_count": 26,
   "id": "a177faa4",
   "metadata": {},
   "outputs": [],
   "source": [
    "# Удаляем пропущенные значения в столбце 'genre'\n",
    "df = df.dropna(subset=['genre'])"
   ]
  },
  {
   "cell_type": "code",
   "execution_count": 27,
   "id": "2784c760",
   "metadata": {
    "id": "2784c760"
   },
   "outputs": [
    {
     "data": {
      "text/plain": [
       "dtype('int64')"
      ]
     },
     "execution_count": 27,
     "metadata": {},
     "output_type": "execute_result"
    }
   ],
   "source": [
    "# Преобразуем формат данных столбца 'year_of_release' к целочисленному\n",
    "df['year_of_release'] = df['year_of_release'].astype('int64')\n",
    "df['year_of_release'].dtypes"
   ]
  },
  {
   "cell_type": "code",
   "execution_count": 28,
   "id": "48e1da01",
   "metadata": {},
   "outputs": [],
   "source": [
    "# Напишем функцию для вычисления средних значний продаж для столбца eu_sales\n",
    "def eu_sales_mean(row):\n",
    "    if pd.isna(row['eu_sales']):\n",
    "        sales = df[(df['year_of_release'] == row['year_of_release']) & \n",
    "                   (df['platform'] == row['platform'])]\n",
    "        return sales['eu_sales'].mean()\n",
    "    else:\n",
    "        return row['eu_sales']"
   ]
  },
  {
   "cell_type": "code",
   "execution_count": 29,
   "id": "8bd483aa",
   "metadata": {},
   "outputs": [],
   "source": [
    "# Применим функцию для заполнения пропущенных значений\n",
    "df['eu_sales'] = df.apply(eu_sales_mean, axis=1)"
   ]
  },
  {
   "cell_type": "code",
   "execution_count": 30,
   "id": "fe8e0d41",
   "metadata": {},
   "outputs": [],
   "source": [
    "# Напишем функцию для вычисления средних значний продаж для столбца jp_sales\n",
    "def jp_sales_mean(row):\n",
    "    if pd.isna(row['jp_sales']):\n",
    "        sales = df[(df['year_of_release'] == row['year_of_release']) & \n",
    "                   (df['platform'] == row['platform'])]\n",
    "        return sales['jp_sales'].mean()\n",
    "    else:\n",
    "        return row['jp_sales']"
   ]
  },
  {
   "cell_type": "code",
   "execution_count": 31,
   "id": "fbef1bc4",
   "metadata": {},
   "outputs": [],
   "source": [
    "# Применим функцию для заполнения пропущенных значений\n",
    "df['jp_sales'] = df.apply(jp_sales_mean, axis=1)"
   ]
  },
  {
   "cell_type": "code",
   "execution_count": 32,
   "id": "616e2341",
   "metadata": {},
   "outputs": [
    {
     "data": {
      "text/plain": [
       "name               0\n",
       "platform           0\n",
       "year_of_release    0\n",
       "genre              0\n",
       "na_sales           0\n",
       "eu_sales           0\n",
       "jp_sales           0\n",
       "other_sales        0\n",
       "critic_score       0\n",
       "user_score         0\n",
       "rating             0\n",
       "dtype: int64"
      ]
     },
     "execution_count": 32,
     "metadata": {},
     "output_type": "execute_result"
    }
   ],
   "source": [
    "# Количество пропусков в каждом столбце в абсолютных значениях после обработки данных\n",
    "df.isna().sum()"
   ]
  },
  {
   "cell_type": "markdown",
   "id": "4609ad59",
   "metadata": {},
   "source": [
    "Таким образом, пропуски в столбцах name, genre удалены, пропуски в столбцах eu_sales, jp_sales восстановлены на основе рассчитанных средних значений, строки с пропусками в столбце year_of_release удалены, а пропуски в столбцх critic_score, user_score, rating заменены на индикатор, сообщающий об отсутствии данных ввиду невозможности их восстановления."
   ]
  },
  {
   "cell_type": "markdown",
   "id": "a63363fd",
   "metadata": {
    "id": "a63363fd"
   },
   "source": [
    "### 2.4. Явные и неявные дубликаты в данных\n",
    "\n",
    "- Изучите уникальные значения в категориальных данных, например с названиями жанра игры, платформы, рейтинга и года выпуска. Проверьте, встречаются ли среди данных неявные дубликаты, связанные с опечатками или разным способом написания.\n",
    "- При необходимости проведите нормализацию данных с текстовыми значениями. Названия или жанры игр можно привести к нижнему регистру, а названия рейтинга — к верхнему."
   ]
  },
  {
   "cell_type": "code",
   "execution_count": 33,
   "id": "36c10c02",
   "metadata": {},
   "outputs": [
    {
     "name": "stdout",
     "output_type": "stream",
     "text": [
      "['Wii' 'NES' 'GB' 'DS' 'X360' 'PS3' 'PS2' 'SNES' 'GBA' 'PS4' '3DS' 'N64'\n",
      " 'PS' 'XB' 'PC' '2600' 'PSP' 'XOne' 'WiiU' 'GC' 'GEN' 'DC' 'PSV' 'SAT'\n",
      " 'SCD' 'WS' 'NG' 'TG16' '3DO' 'GG' 'PCFX']\n"
     ]
    }
   ],
   "source": [
    "# Проверяем уникальные значения в столбце platform\n",
    "platform_uniq_values = df['platform'].unique()\n",
    "print(platform_uniq_values)"
   ]
  },
  {
   "cell_type": "markdown",
   "id": "cced5c27",
   "metadata": {},
   "source": [
    "Среди значений дубликаты не найдены"
   ]
  },
  {
   "cell_type": "code",
   "execution_count": 34,
   "id": "f6b60518",
   "metadata": {},
   "outputs": [
    {
     "name": "stdout",
     "output_type": "stream",
     "text": [
      "['Sports' 'Platform' 'Racing' 'Role-Playing' 'Puzzle' 'Misc' 'Shooter'\n",
      " 'Simulation' 'Action' 'Fighting' 'Adventure' 'Strategy' 'MISC'\n",
      " 'ROLE-PLAYING' 'RACING' 'ACTION' 'SHOOTER' 'FIGHTING' 'SPORTS' 'PLATFORM'\n",
      " 'ADVENTURE' 'SIMULATION' 'PUZZLE' 'STRATEGY']\n"
     ]
    }
   ],
   "source": [
    "# Проверяем уникальные значения в столбце genre\n",
    "genre_uniq_values = df['genre'].unique()\n",
    "print(genre_uniq_values)"
   ]
  },
  {
   "cell_type": "markdown",
   "id": "3d79ff55",
   "metadata": {},
   "source": [
    "Найдены дубликаты, названия жарнов необходимо привести к единому регистру"
   ]
  },
  {
   "cell_type": "code",
   "execution_count": 35,
   "id": "074f05f9",
   "metadata": {},
   "outputs": [],
   "source": [
    "# Прриведем названия жанров к единому регистру\n",
    "df['genre'] = df['genre'].str.lower()"
   ]
  },
  {
   "cell_type": "code",
   "execution_count": 36,
   "id": "4314142a",
   "metadata": {},
   "outputs": [
    {
     "name": "stdout",
     "output_type": "stream",
     "text": [
      "['sports' 'platform' 'racing' 'role-playing' 'puzzle' 'misc' 'shooter'\n",
      " 'simulation' 'action' 'fighting' 'adventure' 'strategy']\n"
     ]
    }
   ],
   "source": [
    "# Проверяем уникальные значения в столбце genre\n",
    "genre_uniq_values = df['genre'].unique()\n",
    "print(genre_uniq_values)"
   ]
  },
  {
   "cell_type": "code",
   "execution_count": 37,
   "id": "491c9c39",
   "metadata": {
    "id": "491c9c39"
   },
   "outputs": [
    {
     "name": "stdout",
     "output_type": "stream",
     "text": [
      "['E' -1 'M' 'T' 'E10+' 'K-A' 'AO' 'EC' 'RP']\n"
     ]
    }
   ],
   "source": [
    "# Проверяем уникальные значения в столбце rating\n",
    "rating_uniq_values = df['rating'].unique()\n",
    "print(rating_uniq_values)"
   ]
  },
  {
   "cell_type": "markdown",
   "id": "7513a9a8",
   "metadata": {
    "id": "f1627198"
   },
   "source": [
    "Среди значений дубликаты не найдены"
   ]
  },
  {
   "cell_type": "code",
   "execution_count": 38,
   "id": "fc5c91b5",
   "metadata": {
    "id": "fc5c91b5"
   },
   "outputs": [
    {
     "name": "stdout",
     "output_type": "stream",
     "text": [
      "[1980, 1981, 1982, 1983, 1984, 1985, 1986, 1987, 1988, 1989, 1990, 1991, 1992, 1993, 1994, 1995, 1996, 1997, 1998, 1999, 2000, 2001, 2002, 2003, 2004, 2005, 2006, 2007, 2008, 2009, 2010, 2011, 2012, 2013, 2014, 2015, 2016]\n"
     ]
    }
   ],
   "source": [
    "# Проверяем уникальные значения в столбце year_of_release\n",
    "year_uniq_values = df['year_of_release'].unique()\n",
    "year_uniq_values = sorted(year_uniq_values)\n",
    "print(year_uniq_values)"
   ]
  },
  {
   "cell_type": "markdown",
   "id": "1c3522ce",
   "metadata": {
    "id": "2f61e076"
   },
   "source": [
    "Среди значений года опечаток и дублей не обнаружено"
   ]
  },
  {
   "cell_type": "markdown",
   "id": "fc3d3db4",
   "metadata": {
    "id": "fc3d3db4"
   },
   "source": [
    "- После того как нормализуете данные и устраните неявные дубликаты, проверьте наличие явных дубликатов в данных."
   ]
  },
  {
   "cell_type": "code",
   "execution_count": 39,
   "id": "454ca9df",
   "metadata": {},
   "outputs": [
    {
     "name": "stdout",
     "output_type": "stream",
     "text": [
      "Количество явных дубликатов в столбцах: 235\n"
     ]
    }
   ],
   "source": [
    "# Проверим количество дубликатов в датасете\n",
    "dupl_values = df.duplicated().sum()\n",
    "print(f'Количество явных дубликатов в столбцах: {dupl_values}')"
   ]
  },
  {
   "cell_type": "code",
   "execution_count": 40,
   "id": "29e57705",
   "metadata": {
    "id": "29e57705"
   },
   "outputs": [],
   "source": [
    "# Удалим все явные дубликаты\n",
    "new_df = df.drop_duplicates(inplace = False)"
   ]
  },
  {
   "cell_type": "markdown",
   "id": "988f6a00",
   "metadata": {
    "id": "8548f894"
   },
   "source": [
    "Анализ данных на предмет дубликатов показал наличие неявних дубликатов в столбце названий жанров. Такие дубликаты устранены путем изменения регистра наваний. Также было выявлено 235 явных дубликатов по всем строкам, была создана копия датасета без дублировния названий, к которой рекомендуется обращаться в дальнейшей работе."
   ]
  },
  {
   "cell_type": "markdown",
   "id": "72645ae9",
   "metadata": {
    "id": "72645ae9"
   },
   "source": [
    "- В процессе подготовки данных вы могли что-либо удалять, например строки с пропусками или ошибками, дубликаты и прочее. В этом случае посчитайте количество удалённых строк в абсолютном и относительном значениях."
   ]
  },
  {
   "cell_type": "code",
   "execution_count": 41,
   "id": "f9d8ee19",
   "metadata": {
    "id": "f9d8ee19"
   },
   "outputs": [
    {
     "name": "stdout",
     "output_type": "stream",
     "text": [
      "Всего удалено строк: 512\n"
     ]
    }
   ],
   "source": [
    "# Выведем количество удалённых строк\n",
    "deleted_lines = df_lines - new_df.shape[0]\n",
    "print(f'Всего удалено строк: {deleted_lines}')"
   ]
  },
  {
   "cell_type": "code",
   "execution_count": 42,
   "id": "3d7a9d8e",
   "metadata": {
    "id": "3d7a9d8e"
   },
   "outputs": [
    {
     "name": "stdout",
     "output_type": "stream",
     "text": [
      "В процентном соотношении удалено 3.02%\n"
     ]
    }
   ],
   "source": [
    "# Сохраняем процент удалённых строк\n",
    "deleted_percent = round(deleted_lines / df_lines * 100, 2)\n",
    "print(f'В процентном соотношении удалено {deleted_percent}%')"
   ]
  },
  {
   "cell_type": "markdown",
   "id": "7f1ea2c9",
   "metadata": {
    "id": "5166fdf8"
   },
   "source": [
    "В ходе проведенной предобработки данных:  \n",
    "1. Был оценен объем данных: датасет состоял из 16956 строк и 11 столбцов.  \n",
    "2. Был проанализирован тип данных: в некоторых столбцах было выявлено и исправлено несоответствие типа данных (столбцы eu_sales, jp_sales, user_score, year_of_release).  \n",
    "3. Был проведен анализ пропущенных данных: в некоторых столбцах были обнаружены пропущенные данные. Для столбцов eu_sales, jp_sales данные удалось восстановить средними значениями, строки с пропусками в столбце year_of_release были удалены, пропуски в столбцах critic_score, user_score, rating были заменены индикаторами.  \n",
    "4. Был проведен анализ дубликатов: были выявлены неявные дубликаты в столбце genre, исправлены путем приведения данных к единому регистру, а также были выявлены явные дубликаты по названию игры (столбец name). Явные дубликаты были удалены.  \n",
    "\n",
    "По итогам предобработки сформирован новый датасет, включающий 16444 строк и 11 столбцов. В новый датасет не вошли 512 строк, что составило 3.02% от общего объема данных."
   ]
  },
  {
   "cell_type": "markdown",
   "id": "613f0eb0",
   "metadata": {
    "id": "613f0eb0"
   },
   "source": [
    "---\n",
    "<a class =\"anchor\" id=\"3-bullet\"></a> \n",
    "## 3. Фильтрация данных\n",
    "\n",
    "Коллеги хотят изучить историю продаж игр в начале XXI века, и их интересует период с 2000 по 2013 год включительно. Отберите данные по этому показателю. Сохраните новый срез данных в отдельном датафрейме, например `df_actual`."
   ]
  },
  {
   "cell_type": "code",
   "execution_count": 43,
   "id": "2344916d",
   "metadata": {
    "id": "2344916d"
   },
   "outputs": [],
   "source": [
    "# Фильтруем данные по годам, сохраняем копию в новый датафрейм\n",
    "df_actual = new_df[(new_df['year_of_release'] >= 2000) & (new_df['year_of_release'] <= 2013)].copy()"
   ]
  },
  {
   "cell_type": "code",
   "execution_count": 44,
   "id": "906577e8",
   "metadata": {
    "id": "906577e8"
   },
   "outputs": [
    {
     "name": "stdout",
     "output_type": "stream",
     "text": [
      "[2000, 2001, 2002, 2003, 2004, 2005, 2006, 2007, 2008, 2009, 2010, 2011, 2012, 2013]\n"
     ]
    }
   ],
   "source": [
    "# Проверим уникальные значения года в новом датафрейме\n",
    "year = df_actual['year_of_release'].unique()\n",
    "year = sorted(year)\n",
    "print(year)"
   ]
  },
  {
   "cell_type": "code",
   "execution_count": 45,
   "id": "6a5ea3b7",
   "metadata": {},
   "outputs": [
    {
     "name": "stdout",
     "output_type": "stream",
     "text": [
      "<class 'pandas.core.frame.DataFrame'>\n",
      "Int64Index: 12781 entries, 0 to 16954\n",
      "Data columns (total 11 columns):\n",
      " #   Column           Non-Null Count  Dtype  \n",
      "---  ------           --------------  -----  \n",
      " 0   name             12781 non-null  object \n",
      " 1   platform         12781 non-null  object \n",
      " 2   year_of_release  12781 non-null  int64  \n",
      " 3   genre            12781 non-null  object \n",
      " 4   na_sales         12781 non-null  float64\n",
      " 5   eu_sales         12781 non-null  float64\n",
      " 6   jp_sales         12781 non-null  float64\n",
      " 7   other_sales      12781 non-null  float64\n",
      " 8   critic_score     12781 non-null  float64\n",
      " 9   user_score       12781 non-null  float64\n",
      " 10  rating           12781 non-null  object \n",
      "dtypes: float64(6), int64(1), object(4)\n",
      "memory usage: 1.2+ MB\n"
     ]
    }
   ],
   "source": [
    "# Выведем инфо о новом датасете\n",
    "df_actual.info()"
   ]
  },
  {
   "cell_type": "code",
   "execution_count": 46,
   "id": "2590a434",
   "metadata": {},
   "outputs": [
    {
     "data": {
      "text/plain": [
       "year_of_release\n",
       "2000     350\n",
       "2001     482\n",
       "2002     829\n",
       "2003     775\n",
       "2004     762\n",
       "2005     939\n",
       "2006    1006\n",
       "2007    1197\n",
       "2008    1427\n",
       "2009    1426\n",
       "2010    1255\n",
       "2011    1136\n",
       "2012     653\n",
       "2013     544\n",
       "Name: name, dtype: int64"
      ]
     },
     "execution_count": 46,
     "metadata": {},
     "output_type": "execute_result"
    }
   ],
   "source": [
    "# Расчитаем количество игр по годам\n",
    "df_actual.groupby('year_of_release')['name'].count()"
   ]
  },
  {
   "cell_type": "markdown",
   "id": "54a462bb",
   "metadata": {},
   "source": [
    "Анализ количества выпускаемых игр по года позволяет определить развитие игровой индустрии за рассмотренный период как волнообразное: представляется возможным выявить периоды роста и спада активности в игровой индустрии. Так, периоды роста количества выпускаемых игр отмечаются с 2000 по 2002, с 2004 по 2008 годы. Периоды спада отмечаются с 2002 по 2004, с 2008 по 2013 годы."
   ]
  },
  {
   "cell_type": "markdown",
   "id": "a6f10b01",
   "metadata": {
    "id": "a6f10b01"
   },
   "source": [
    "---\n",
    "<a class =\"anchor\" id=\"4-bullet\"></a> \n",
    "## 4. Категоризация данных\n",
    "    \n",
    "Проведите категоризацию данных:\n",
    "- Разделите все игры по оценкам пользователей и выделите такие категории: высокая оценка (от 8 до 10 включительно), средняя оценка (от 3 до 8, не включая правую границу интервала) и низкая оценка (от 0 до 3, не включая правую границу интервала)."
   ]
  },
  {
   "cell_type": "code",
   "execution_count": 47,
   "id": "3db87229",
   "metadata": {
    "id": "3db87229"
   },
   "outputs": [],
   "source": [
    "# Создаем новый столбец с классификацией\n",
    "df_actual['user_category'] = pd.cut(df_actual['user_score'], bins=[-1, 0, 3, 8, 10], \n",
    "                                    labels = ['Без оценки', 'Низкая оценка', 'Средняя оценка', 'Высокая оценка'], right = False)"
   ]
  },
  {
   "cell_type": "markdown",
   "id": "f8f34b40",
   "metadata": {
    "id": "f8f34b40"
   },
   "source": [
    "- Разделите все игры по оценкам критиков и выделите такие категории: высокая оценка (от 80 до 100 включительно), средняя оценка (от 30 до 80, не включая правую границу интервала) и низкая оценка (от 0 до 30, не включая правую границу интервала)."
   ]
  },
  {
   "cell_type": "code",
   "execution_count": 48,
   "id": "548fde17",
   "metadata": {
    "id": "548fde17"
   },
   "outputs": [],
   "source": [
    "# Создаем новый столбец с классификацией\n",
    "df_actual['critic_category'] = pd.cut(df_actual['critic_score'], bins=[-1, 0, 30, 80, 100],\n",
    "                               labels = ['Без оценки', 'Низкая оценка', 'Средняя оценка', 'Высокая оценка'], right = False)"
   ]
  },
  {
   "cell_type": "code",
   "execution_count": 49,
   "id": "d136d06b",
   "metadata": {
    "id": "d136d06b"
   },
   "outputs": [
    {
     "data": {
      "text/html": [
       "<div>\n",
       "<style scoped>\n",
       "    .dataframe tbody tr th:only-of-type {\n",
       "        vertical-align: middle;\n",
       "    }\n",
       "\n",
       "    .dataframe tbody tr th {\n",
       "        vertical-align: top;\n",
       "    }\n",
       "\n",
       "    .dataframe thead th {\n",
       "        text-align: right;\n",
       "    }\n",
       "</style>\n",
       "<table border=\"1\" class=\"dataframe\">\n",
       "  <thead>\n",
       "    <tr style=\"text-align: right;\">\n",
       "      <th></th>\n",
       "      <th>name</th>\n",
       "      <th>platform</th>\n",
       "      <th>year_of_release</th>\n",
       "      <th>genre</th>\n",
       "      <th>na_sales</th>\n",
       "      <th>eu_sales</th>\n",
       "      <th>jp_sales</th>\n",
       "      <th>other_sales</th>\n",
       "      <th>critic_score</th>\n",
       "      <th>user_score</th>\n",
       "      <th>rating</th>\n",
       "      <th>user_category</th>\n",
       "      <th>critic_category</th>\n",
       "    </tr>\n",
       "  </thead>\n",
       "  <tbody>\n",
       "    <tr>\n",
       "      <th>0</th>\n",
       "      <td>Wii Sports</td>\n",
       "      <td>Wii</td>\n",
       "      <td>2006</td>\n",
       "      <td>sports</td>\n",
       "      <td>41.36</td>\n",
       "      <td>28.96</td>\n",
       "      <td>3.77</td>\n",
       "      <td>8.45</td>\n",
       "      <td>76.0</td>\n",
       "      <td>8.0</td>\n",
       "      <td>E</td>\n",
       "      <td>Высокая оценка</td>\n",
       "      <td>Средняя оценка</td>\n",
       "    </tr>\n",
       "    <tr>\n",
       "      <th>2</th>\n",
       "      <td>Mario Kart Wii</td>\n",
       "      <td>Wii</td>\n",
       "      <td>2008</td>\n",
       "      <td>racing</td>\n",
       "      <td>15.68</td>\n",
       "      <td>12.76</td>\n",
       "      <td>3.79</td>\n",
       "      <td>3.29</td>\n",
       "      <td>82.0</td>\n",
       "      <td>8.3</td>\n",
       "      <td>E</td>\n",
       "      <td>Высокая оценка</td>\n",
       "      <td>Высокая оценка</td>\n",
       "    </tr>\n",
       "    <tr>\n",
       "      <th>3</th>\n",
       "      <td>Wii Sports Resort</td>\n",
       "      <td>Wii</td>\n",
       "      <td>2009</td>\n",
       "      <td>sports</td>\n",
       "      <td>15.61</td>\n",
       "      <td>10.93</td>\n",
       "      <td>3.28</td>\n",
       "      <td>2.95</td>\n",
       "      <td>80.0</td>\n",
       "      <td>8.0</td>\n",
       "      <td>E</td>\n",
       "      <td>Высокая оценка</td>\n",
       "      <td>Высокая оценка</td>\n",
       "    </tr>\n",
       "    <tr>\n",
       "      <th>6</th>\n",
       "      <td>New Super Mario Bros.</td>\n",
       "      <td>DS</td>\n",
       "      <td>2006</td>\n",
       "      <td>platform</td>\n",
       "      <td>11.28</td>\n",
       "      <td>9.14</td>\n",
       "      <td>6.50</td>\n",
       "      <td>2.88</td>\n",
       "      <td>89.0</td>\n",
       "      <td>8.5</td>\n",
       "      <td>E</td>\n",
       "      <td>Высокая оценка</td>\n",
       "      <td>Высокая оценка</td>\n",
       "    </tr>\n",
       "    <tr>\n",
       "      <th>7</th>\n",
       "      <td>Wii Play</td>\n",
       "      <td>Wii</td>\n",
       "      <td>2006</td>\n",
       "      <td>misc</td>\n",
       "      <td>13.96</td>\n",
       "      <td>9.18</td>\n",
       "      <td>2.93</td>\n",
       "      <td>2.84</td>\n",
       "      <td>58.0</td>\n",
       "      <td>6.6</td>\n",
       "      <td>E</td>\n",
       "      <td>Средняя оценка</td>\n",
       "      <td>Средняя оценка</td>\n",
       "    </tr>\n",
       "  </tbody>\n",
       "</table>\n",
       "</div>"
      ],
      "text/plain": [
       "                    name platform  year_of_release     genre  na_sales  \\\n",
       "0             Wii Sports      Wii             2006    sports     41.36   \n",
       "2         Mario Kart Wii      Wii             2008    racing     15.68   \n",
       "3      Wii Sports Resort      Wii             2009    sports     15.61   \n",
       "6  New Super Mario Bros.       DS             2006  platform     11.28   \n",
       "7               Wii Play      Wii             2006      misc     13.96   \n",
       "\n",
       "   eu_sales  jp_sales  other_sales  critic_score  user_score rating  \\\n",
       "0     28.96      3.77         8.45          76.0         8.0      E   \n",
       "2     12.76      3.79         3.29          82.0         8.3      E   \n",
       "3     10.93      3.28         2.95          80.0         8.0      E   \n",
       "6      9.14      6.50         2.88          89.0         8.5      E   \n",
       "7      9.18      2.93         2.84          58.0         6.6      E   \n",
       "\n",
       "    user_category critic_category  \n",
       "0  Высокая оценка  Средняя оценка  \n",
       "2  Высокая оценка  Высокая оценка  \n",
       "3  Высокая оценка  Высокая оценка  \n",
       "6  Высокая оценка  Высокая оценка  \n",
       "7  Средняя оценка  Средняя оценка  "
      ]
     },
     "execution_count": 49,
     "metadata": {},
     "output_type": "execute_result"
    }
   ],
   "source": [
    "# Выведем датафрейм с новыми столбцами\n",
    "df_actual.head()"
   ]
  },
  {
   "cell_type": "markdown",
   "id": "olkTlTlAUDR9",
   "metadata": {
    "id": "olkTlTlAUDR9"
   },
   "source": [
    "- После категоризации данных проверьте результат: сгруппируйте данные по выделенным категориям и посчитайте количество игр в каждой категории."
   ]
  },
  {
   "cell_type": "code",
   "execution_count": 50,
   "id": "HW0Nsp-4UMSL",
   "metadata": {
    "id": "HW0Nsp-4UMSL"
   },
   "outputs": [
    {
     "data": {
      "text/plain": [
       "user_category\n",
       "Без оценки        6298\n",
       "Низкая оценка      116\n",
       "Средняя оценка    4081\n",
       "Высокая оценка    2286\n",
       "Name: name, dtype: int64"
      ]
     },
     "execution_count": 50,
     "metadata": {},
     "output_type": "execute_result"
    }
   ],
   "source": [
    "# Количество игр в категориях по пользовательским оценкам \n",
    "df_actual.groupby('user_category')['name'].count()"
   ]
  },
  {
   "cell_type": "code",
   "execution_count": 51,
   "id": "d0386bda",
   "metadata": {},
   "outputs": [
    {
     "data": {
      "text/plain": [
       "critic_category\n",
       "Без оценки        5612\n",
       "Низкая оценка       55\n",
       "Средняя оценка    5422\n",
       "Высокая оценка    1692\n",
       "Name: name, dtype: int64"
      ]
     },
     "execution_count": 51,
     "metadata": {},
     "output_type": "execute_result"
    }
   ],
   "source": [
    "# Количество игр в категориях по оценкам критиков\n",
    "df_actual.groupby('critic_category')['name'].count()"
   ]
  },
  {
   "cell_type": "markdown",
   "id": "6a98444c",
   "metadata": {
    "id": "6a98444c"
   },
   "source": [
    "- Выделите топ-7 платформ по количеству игр, выпущенных за весь актуальный период."
   ]
  },
  {
   "cell_type": "code",
   "execution_count": 52,
   "id": "003caa2c",
   "metadata": {
    "id": "003caa2c"
   },
   "outputs": [
    {
     "data": {
      "text/plain": [
       "platform\n",
       "PS2     2127\n",
       "DS      2120\n",
       "Wii     1275\n",
       "PSP     1180\n",
       "X360    1121\n",
       "PS3     1087\n",
       "GBA      811\n",
       "Name: name, dtype: int64"
      ]
     },
     "execution_count": 52,
     "metadata": {},
     "output_type": "execute_result"
    }
   ],
   "source": [
    "# Выведем топ-7 платформ по количеству игр\n",
    "df_actual.groupby('platform')['name'].count().sort_values(ascending = False).head(7)"
   ]
  },
  {
   "cell_type": "markdown",
   "id": "c0158881",
   "metadata": {
    "id": "c0158881"
   },
   "source": [
    "---\n",
    "<a class =\"anchor\" id=\"5-bullet\"></a> \n",
    "## 5. Итоговый вывод\n",
    "\n"
   ]
  },
  {
   "cell_type": "markdown",
   "id": "2b4d8642",
   "metadata": {},
   "source": [
    "В ходе работы был оценен объем данных: полученный в работу датасет состоял из 16956 строк и 11 столбцов. Данные датасета были проверены на предмет наличия пропущенных значений, явных и неявных дублей, соответствия типов данных содержимому столбцов. Пропущенные значения были заменены расчетными значениями, индикторами или удалены. Явные и неявные дубликаты были выявлены и удалены. Типы данных были изменены в соответствии с данными, содержащимися в столбце. По итогам предобработки был сфорирован датафрейм, включающий 16444 строк и 11 столбцов. В новый датасет не вошли 512 строк, что составило 3.02% от общего объема данных.\n",
    "\n",
    "После проведенной предобработки данных был сформирован новый датасет df_actual, содержащий данные с 2000 по 2013 годы. Всего в новом датасете осталось 12781 строка. Также в новый датасет были добавлены 2 новых столбца: user_category, critic_category с классификацией игр в соответствии с пользовтельской оценкой и оценкой критиков. В столбце user_category были выделены следующие категории: высокая оценка (от 8 до 10 включительно), средняя оценка (от 3 до 8, не включая правую границу интервала) и низкая оценка (от 0 до 3, не включая правую границу интервала). В столбце critic_category были выделены следующие категории: высокая оценка (от 80 до 100 включительно), средняя оценка (от 30 до 80, не включая правую границу интервала) и низкая оценка (от 0 до 30, не включая правую границу интервала). Всего в новом датасете 13 столбцов.  \n",
    "\n",
    "В ходе анализа также был выведен топ-7 платформ по количеству выпущенных игр за рассматриваемый период:  \n",
    "***PS2***     2127  \n",
    "***DS***      2120  \n",
    "***Wii***     1275  \n",
    "***PSP***     1180  \n",
    "***X360***    1121  \n",
    "***PS3***     1087  \n",
    "***GBA***      811   \n",
    "\n",
    "А также в ходе исследования были определены основные этапы роста и спада количества выпускаемых игр:  \n",
    "периоды роста количества выпускаемых игр отмечаются с 2000 по 2002, с 2004 по 2008 годы. Периоды спада отмечаются с 2002 по 2004, с 2008 по 2013 годы."
   ]
  },
  {
   "cell_type": "code",
   "execution_count": null,
   "id": "7d2c8cf0",
   "metadata": {},
   "outputs": [],
   "source": []
  }
 ],
 "metadata": {
  "ExecuteTimeLog": [
   {
    "duration": 103,
    "start_time": "2025-05-13T09:38:06.434Z"
   },
   {
    "duration": 76,
    "start_time": "2025-05-13T09:38:13.860Z"
   },
   {
    "duration": 46,
    "start_time": "2025-05-13T09:41:01.982Z"
   },
   {
    "duration": 6,
    "start_time": "2025-05-13T09:41:15.597Z"
   },
   {
    "duration": 5,
    "start_time": "2025-05-13T09:41:58.139Z"
   },
   {
    "duration": 7,
    "start_time": "2025-05-13T09:45:24.741Z"
   },
   {
    "duration": 6,
    "start_time": "2025-05-13T09:45:30.423Z"
   },
   {
    "duration": 81,
    "start_time": "2025-05-13T09:46:15.702Z"
   },
   {
    "duration": 7,
    "start_time": "2025-05-13T09:47:25.043Z"
   },
   {
    "duration": 7,
    "start_time": "2025-05-13T09:48:15.167Z"
   },
   {
    "duration": 467,
    "start_time": "2025-05-13T09:48:21.555Z"
   },
   {
    "duration": 33,
    "start_time": "2025-05-13T09:49:49.908Z"
   },
   {
    "duration": 7,
    "start_time": "2025-05-13T09:51:15.431Z"
   },
   {
    "duration": 3,
    "start_time": "2025-05-13T11:01:39.865Z"
   },
   {
    "duration": 47,
    "start_time": "2025-05-13T11:04:25.790Z"
   },
   {
    "duration": 41,
    "start_time": "2025-05-13T11:05:09.201Z"
   },
   {
    "duration": 2,
    "start_time": "2025-05-13T11:09:20.396Z"
   },
   {
    "duration": 3,
    "start_time": "2025-05-13T11:09:23.919Z"
   },
   {
    "duration": 38,
    "start_time": "2025-05-13T11:09:33.037Z"
   },
   {
    "duration": 3,
    "start_time": "2025-05-13T11:09:45.498Z"
   },
   {
    "duration": 46,
    "start_time": "2025-05-13T11:10:08.299Z"
   },
   {
    "duration": 48,
    "start_time": "2025-05-13T11:11:32.744Z"
   },
   {
    "duration": 52,
    "start_time": "2025-05-13T11:11:47.503Z"
   },
   {
    "duration": 3,
    "start_time": "2025-05-13T13:15:15.591Z"
   },
   {
    "duration": 7,
    "start_time": "2025-05-13T13:15:34.023Z"
   },
   {
    "duration": 99,
    "start_time": "2025-05-13T13:15:44.774Z"
   },
   {
    "duration": 181,
    "start_time": "2025-05-13T13:15:49.924Z"
   },
   {
    "duration": 17,
    "start_time": "2025-05-13T13:16:05.506Z"
   },
   {
    "duration": 16,
    "start_time": "2025-05-13T13:16:48.144Z"
   },
   {
    "duration": 22,
    "start_time": "2025-05-13T13:17:12.833Z"
   },
   {
    "duration": 11,
    "start_time": "2025-05-13T13:38:53.863Z"
   },
   {
    "duration": 28,
    "start_time": "2025-05-13T13:39:04.985Z"
   },
   {
    "duration": 12,
    "start_time": "2025-05-13T13:39:19.191Z"
   },
   {
    "duration": 19,
    "start_time": "2025-05-13T13:39:28.502Z"
   },
   {
    "duration": 10,
    "start_time": "2025-05-13T13:39:37.393Z"
   },
   {
    "duration": 12,
    "start_time": "2025-05-13T13:40:15.212Z"
   },
   {
    "duration": 12,
    "start_time": "2025-05-13T13:40:34.145Z"
   },
   {
    "duration": 10,
    "start_time": "2025-05-13T13:40:37.129Z"
   },
   {
    "duration": 13,
    "start_time": "2025-05-13T13:40:42.742Z"
   },
   {
    "duration": 10,
    "start_time": "2025-05-13T13:44:09.072Z"
   },
   {
    "duration": 11,
    "start_time": "2025-05-13T13:44:15.587Z"
   },
   {
    "duration": 11,
    "start_time": "2025-05-13T13:44:35.814Z"
   },
   {
    "duration": 14,
    "start_time": "2025-05-13T13:44:44.171Z"
   },
   {
    "duration": 11,
    "start_time": "2025-05-13T13:46:22.933Z"
   },
   {
    "duration": 10,
    "start_time": "2025-05-13T13:46:57.901Z"
   },
   {
    "duration": 11,
    "start_time": "2025-05-13T13:47:07.862Z"
   },
   {
    "duration": 9,
    "start_time": "2025-05-13T13:52:41.089Z"
   },
   {
    "duration": 12,
    "start_time": "2025-05-13T13:52:44.254Z"
   },
   {
    "duration": 9,
    "start_time": "2025-05-13T13:52:49.873Z"
   },
   {
    "duration": 10,
    "start_time": "2025-05-13T13:52:55.485Z"
   },
   {
    "duration": 10,
    "start_time": "2025-05-13T13:53:34.207Z"
   },
   {
    "duration": 9,
    "start_time": "2025-05-13T13:53:38.494Z"
   },
   {
    "duration": 3,
    "start_time": "2025-05-13T13:55:33.103Z"
   },
   {
    "duration": 114,
    "start_time": "2025-05-13T13:55:34.605Z"
   },
   {
    "duration": 10,
    "start_time": "2025-05-13T13:55:42.504Z"
   },
   {
    "duration": 10,
    "start_time": "2025-05-13T13:55:44.342Z"
   },
   {
    "duration": 47,
    "start_time": "2025-05-13T13:57:37.537Z"
   },
   {
    "duration": 427,
    "start_time": "2025-05-13T13:57:47.095Z"
   },
   {
    "duration": 88,
    "start_time": "2025-05-13T13:57:48.922Z"
   },
   {
    "duration": 20,
    "start_time": "2025-05-13T13:57:51.526Z"
   },
   {
    "duration": 15,
    "start_time": "2025-05-13T13:57:54.943Z"
   },
   {
    "duration": 12,
    "start_time": "2025-05-13T13:58:00.575Z"
   },
   {
    "duration": 13,
    "start_time": "2025-05-13T13:58:04.225Z"
   },
   {
    "duration": 14,
    "start_time": "2025-05-13T14:59:32.423Z"
   },
   {
    "duration": 16,
    "start_time": "2025-05-13T15:01:37.049Z"
   },
   {
    "duration": 15,
    "start_time": "2025-05-13T15:01:56.982Z"
   },
   {
    "duration": 5,
    "start_time": "2025-05-13T15:03:06.008Z"
   },
   {
    "duration": 22,
    "start_time": "2025-05-13T15:03:24.026Z"
   },
   {
    "duration": 3,
    "start_time": "2025-05-13T15:03:32.469Z"
   },
   {
    "duration": 27,
    "start_time": "2025-05-13T15:04:18.280Z"
   },
   {
    "duration": 4,
    "start_time": "2025-05-13T15:04:33.248Z"
   },
   {
    "duration": 3,
    "start_time": "2025-05-13T15:05:58.098Z"
   },
   {
    "duration": 4,
    "start_time": "2025-05-13T15:07:53.986Z"
   },
   {
    "duration": 2,
    "start_time": "2025-05-13T15:10:19.864Z"
   },
   {
    "duration": 3,
    "start_time": "2025-05-13T15:14:48.871Z"
   },
   {
    "duration": 5,
    "start_time": "2025-05-13T15:15:52.506Z"
   },
   {
    "duration": 14,
    "start_time": "2025-05-13T15:16:09.530Z"
   },
   {
    "duration": 5,
    "start_time": "2025-05-13T15:17:49.453Z"
   },
   {
    "duration": 8,
    "start_time": "2025-05-13T15:17:53.406Z"
   },
   {
    "duration": 14,
    "start_time": "2025-05-13T15:51:15.906Z"
   },
   {
    "duration": 13,
    "start_time": "2025-05-13T15:51:21.004Z"
   },
   {
    "duration": 11,
    "start_time": "2025-05-13T15:51:24.942Z"
   },
   {
    "duration": 13,
    "start_time": "2025-05-13T15:51:30.116Z"
   },
   {
    "duration": 12,
    "start_time": "2025-05-14T07:45:34.524Z"
   },
   {
    "duration": 63,
    "start_time": "2025-05-14T07:46:37.184Z"
   },
   {
    "duration": 413,
    "start_time": "2025-05-14T07:46:50.772Z"
   },
   {
    "duration": 128,
    "start_time": "2025-05-14T07:46:52.865Z"
   },
   {
    "duration": 3,
    "start_time": "2025-05-14T07:46:55.578Z"
   },
   {
    "duration": 107,
    "start_time": "2025-05-14T07:46:56.765Z"
   },
   {
    "duration": 29,
    "start_time": "2025-05-14T07:46:58.133Z"
   },
   {
    "duration": 26,
    "start_time": "2025-05-14T07:47:00.531Z"
   },
   {
    "duration": 36,
    "start_time": "2025-05-14T07:47:09.873Z"
   },
   {
    "duration": 1453,
    "start_time": "2025-05-14T07:48:33.162Z"
   },
   {
    "duration": 6,
    "start_time": "2025-05-14T07:48:51.453Z"
   },
   {
    "duration": 5,
    "start_time": "2025-05-14T07:48:53.970Z"
   },
   {
    "duration": 8,
    "start_time": "2025-05-14T07:48:55.386Z"
   },
   {
    "duration": 11,
    "start_time": "2025-05-14T07:48:58.632Z"
   },
   {
    "duration": 21,
    "start_time": "2025-05-14T07:49:05.147Z"
   },
   {
    "duration": 11,
    "start_time": "2025-05-14T07:49:11.440Z"
   },
   {
    "duration": 20,
    "start_time": "2025-05-14T07:49:38.598Z"
   },
   {
    "duration": 15,
    "start_time": "2025-05-14T07:54:26.368Z"
   },
   {
    "duration": 4,
    "start_time": "2025-05-14T07:54:31.270Z"
   },
   {
    "duration": 9,
    "start_time": "2025-05-14T07:55:14.630Z"
   },
   {
    "duration": 6,
    "start_time": "2025-05-14T07:57:13.721Z"
   },
   {
    "duration": 22,
    "start_time": "2025-05-14T07:58:05.099Z"
   },
   {
    "duration": 6,
    "start_time": "2025-05-14T07:59:47.521Z"
   },
   {
    "duration": 1455,
    "start_time": "2025-05-14T08:00:55.088Z"
   },
   {
    "duration": 19,
    "start_time": "2025-05-14T08:01:08.356Z"
   },
   {
    "duration": 10,
    "start_time": "2025-05-14T08:03:55.824Z"
   },
   {
    "duration": 11,
    "start_time": "2025-05-14T08:04:07.346Z"
   },
   {
    "duration": 3,
    "start_time": "2025-05-14T08:28:29.437Z"
   },
   {
    "duration": 10,
    "start_time": "2025-05-14T08:28:47.855Z"
   },
   {
    "duration": 14,
    "start_time": "2025-05-14T08:29:15.187Z"
   },
   {
    "duration": 5,
    "start_time": "2025-05-14T08:29:23.176Z"
   },
   {
    "duration": 6,
    "start_time": "2025-05-14T08:31:51.654Z"
   },
   {
    "duration": 6,
    "start_time": "2025-05-14T08:32:04.996Z"
   },
   {
    "duration": 5,
    "start_time": "2025-05-14T08:32:09.943Z"
   },
   {
    "duration": 6,
    "start_time": "2025-05-14T08:35:36.871Z"
   },
   {
    "duration": 7,
    "start_time": "2025-05-14T08:49:48.683Z"
   },
   {
    "duration": 16,
    "start_time": "2025-05-14T08:50:05.136Z"
   },
   {
    "duration": 17,
    "start_time": "2025-05-14T08:50:13.552Z"
   },
   {
    "duration": 22,
    "start_time": "2025-05-14T08:51:05.213Z"
   },
   {
    "duration": 6,
    "start_time": "2025-05-14T08:51:10.144Z"
   },
   {
    "duration": 8,
    "start_time": "2025-05-14T08:51:56.030Z"
   },
   {
    "duration": 5,
    "start_time": "2025-05-14T08:52:19.448Z"
   },
   {
    "duration": 5,
    "start_time": "2025-05-14T08:52:30.121Z"
   },
   {
    "duration": 4,
    "start_time": "2025-05-14T08:56:09.834Z"
   },
   {
    "duration": 3,
    "start_time": "2025-05-14T08:58:39.492Z"
   },
   {
    "duration": 3,
    "start_time": "2025-05-14T08:59:03.088Z"
   },
   {
    "duration": 3,
    "start_time": "2025-05-14T08:59:13.330Z"
   },
   {
    "duration": 6,
    "start_time": "2025-05-14T08:59:34.097Z"
   },
   {
    "duration": 5,
    "start_time": "2025-05-14T09:00:31.242Z"
   },
   {
    "duration": 28,
    "start_time": "2025-05-14T09:05:01.199Z"
   },
   {
    "duration": 15,
    "start_time": "2025-05-14T09:07:04.024Z"
   },
   {
    "duration": 5,
    "start_time": "2025-05-14T09:08:31.366Z"
   },
   {
    "duration": 4,
    "start_time": "2025-05-14T09:09:03.250Z"
   },
   {
    "duration": 39,
    "start_time": "2025-05-14T09:09:11.488Z"
   },
   {
    "duration": 4,
    "start_time": "2025-05-14T09:09:31.293Z"
   },
   {
    "duration": 3622,
    "start_time": "2025-05-14T09:10:10.223Z"
   },
   {
    "duration": 3,
    "start_time": "2025-05-14T09:10:23.679Z"
   },
   {
    "duration": 3460,
    "start_time": "2025-05-14T09:10:29.830Z"
   },
   {
    "duration": 3409,
    "start_time": "2025-05-14T09:10:46.921Z"
   },
   {
    "duration": 3,
    "start_time": "2025-05-14T09:14:26.127Z"
   },
   {
    "duration": 4,
    "start_time": "2025-05-14T09:14:40.523Z"
   },
   {
    "duration": 195,
    "start_time": "2025-05-14T09:14:49.075Z"
   },
   {
    "duration": 218,
    "start_time": "2025-05-14T09:16:04.930Z"
   },
   {
    "duration": 10,
    "start_time": "2025-05-14T09:17:11.401Z"
   },
   {
    "duration": 5,
    "start_time": "2025-05-14T09:17:19.203Z"
   },
   {
    "duration": 186,
    "start_time": "2025-05-14T09:17:21.208Z"
   },
   {
    "duration": 14,
    "start_time": "2025-05-14T09:17:48.053Z"
   },
   {
    "duration": 6,
    "start_time": "2025-05-14T09:21:35.716Z"
   },
   {
    "duration": 21,
    "start_time": "2025-05-14T09:21:58.282Z"
   },
   {
    "duration": 4,
    "start_time": "2025-05-14T09:22:07.746Z"
   },
   {
    "duration": 2791,
    "start_time": "2025-05-14T09:22:09.736Z"
   },
   {
    "duration": 15,
    "start_time": "2025-05-14T09:22:19.892Z"
   },
   {
    "duration": 7,
    "start_time": "2025-05-14T09:22:49.303Z"
   },
   {
    "duration": 3786,
    "start_time": "2025-05-14T09:22:50.819Z"
   },
   {
    "duration": 14,
    "start_time": "2025-05-14T09:24:56.384Z"
   },
   {
    "duration": 9,
    "start_time": "2025-05-14T09:25:35.852Z"
   },
   {
    "duration": 12,
    "start_time": "2025-05-14T09:25:47.110Z"
   },
   {
    "duration": 3,
    "start_time": "2025-05-14T09:27:59.401Z"
   },
   {
    "duration": 6,
    "start_time": "2025-05-14T09:28:25.725Z"
   },
   {
    "duration": 95,
    "start_time": "2025-05-14T09:28:25.733Z"
   },
   {
    "duration": 15,
    "start_time": "2025-05-14T09:28:25.830Z"
   },
   {
    "duration": 19,
    "start_time": "2025-05-14T09:28:25.847Z"
   },
   {
    "duration": 18,
    "start_time": "2025-05-14T09:28:25.868Z"
   },
   {
    "duration": 17,
    "start_time": "2025-05-14T09:28:25.888Z"
   },
   {
    "duration": 19,
    "start_time": "2025-05-14T09:28:25.908Z"
   },
   {
    "duration": 12,
    "start_time": "2025-05-14T09:28:25.930Z"
   },
   {
    "duration": 8,
    "start_time": "2025-05-14T09:28:25.945Z"
   },
   {
    "duration": 64,
    "start_time": "2025-05-14T09:28:25.955Z"
   },
   {
    "duration": 12,
    "start_time": "2025-05-14T09:28:26.022Z"
   },
   {
    "duration": 37,
    "start_time": "2025-05-14T09:28:26.035Z"
   },
   {
    "duration": 34,
    "start_time": "2025-05-14T09:28:26.075Z"
   },
   {
    "duration": 7,
    "start_time": "2025-05-14T09:28:26.117Z"
   },
   {
    "duration": 17,
    "start_time": "2025-05-14T09:28:26.126Z"
   },
   {
    "duration": 6,
    "start_time": "2025-05-14T09:28:26.144Z"
   },
   {
    "duration": 5,
    "start_time": "2025-05-14T09:28:26.151Z"
   },
   {
    "duration": 232,
    "start_time": "2025-05-14T09:28:26.157Z"
   },
   {
    "duration": 5,
    "start_time": "2025-05-14T09:28:26.390Z"
   },
   {
    "duration": 214,
    "start_time": "2025-05-14T09:28:26.397Z"
   },
   {
    "duration": 26,
    "start_time": "2025-05-14T09:28:26.613Z"
   },
   {
    "duration": 6,
    "start_time": "2025-05-14T09:34:08.139Z"
   },
   {
    "duration": 6,
    "start_time": "2025-05-14T09:34:10.328Z"
   },
   {
    "duration": 20,
    "start_time": "2025-05-14T09:34:15.215Z"
   },
   {
    "duration": 27,
    "start_time": "2025-05-14T09:34:42.609Z"
   },
   {
    "duration": 3,
    "start_time": "2025-05-14T09:47:59.510Z"
   },
   {
    "duration": 2,
    "start_time": "2025-05-14T09:48:08.734Z"
   },
   {
    "duration": 136,
    "start_time": "2025-05-14T09:48:08.738Z"
   },
   {
    "duration": 14,
    "start_time": "2025-05-14T09:48:08.876Z"
   },
   {
    "duration": 22,
    "start_time": "2025-05-14T09:48:08.893Z"
   },
   {
    "duration": 3,
    "start_time": "2025-05-14T09:48:08.917Z"
   },
   {
    "duration": 16,
    "start_time": "2025-05-14T09:48:08.921Z"
   },
   {
    "duration": 14,
    "start_time": "2025-05-14T09:48:08.938Z"
   },
   {
    "duration": 12,
    "start_time": "2025-05-14T09:48:08.954Z"
   },
   {
    "duration": 9,
    "start_time": "2025-05-14T09:48:08.968Z"
   },
   {
    "duration": 12,
    "start_time": "2025-05-14T09:48:08.979Z"
   },
   {
    "duration": 19,
    "start_time": "2025-05-14T09:48:08.993Z"
   },
   {
    "duration": 9,
    "start_time": "2025-05-14T09:48:09.014Z"
   },
   {
    "duration": 17,
    "start_time": "2025-05-14T09:48:09.025Z"
   },
   {
    "duration": 10,
    "start_time": "2025-05-14T09:48:09.044Z"
   },
   {
    "duration": 14,
    "start_time": "2025-05-14T09:48:09.056Z"
   },
   {
    "duration": 9,
    "start_time": "2025-05-14T09:48:09.072Z"
   },
   {
    "duration": 26,
    "start_time": "2025-05-14T09:48:09.083Z"
   },
   {
    "duration": 10,
    "start_time": "2025-05-14T09:48:09.111Z"
   },
   {
    "duration": 24,
    "start_time": "2025-05-14T09:48:09.123Z"
   },
   {
    "duration": 62,
    "start_time": "2025-05-14T09:48:09.149Z"
   },
   {
    "duration": 215,
    "start_time": "2025-05-14T09:48:09.213Z"
   },
   {
    "duration": 4,
    "start_time": "2025-05-14T09:48:09.429Z"
   },
   {
    "duration": 280,
    "start_time": "2025-05-14T09:48:09.435Z"
   },
   {
    "duration": 11,
    "start_time": "2025-05-14T09:48:09.718Z"
   },
   {
    "duration": 3,
    "start_time": "2025-05-14T09:48:53.995Z"
   },
   {
    "duration": 3,
    "start_time": "2025-05-14T09:49:01.997Z"
   },
   {
    "duration": 3,
    "start_time": "2025-05-14T09:49:37.085Z"
   },
   {
    "duration": 4,
    "start_time": "2025-05-14T09:49:48.486Z"
   },
   {
    "duration": 4,
    "start_time": "2025-05-14T09:49:57.256Z"
   },
   {
    "duration": 98,
    "start_time": "2025-05-14T09:50:32.630Z"
   },
   {
    "duration": 76,
    "start_time": "2025-05-14T09:50:41.594Z"
   },
   {
    "duration": 3,
    "start_time": "2025-05-14T09:50:49.953Z"
   },
   {
    "duration": 3,
    "start_time": "2025-05-14T09:53:19.549Z"
   },
   {
    "duration": 4,
    "start_time": "2025-05-14T09:53:22.705Z"
   },
   {
    "duration": 12,
    "start_time": "2025-05-14T12:56:54.996Z"
   },
   {
    "duration": 4,
    "start_time": "2025-05-14T12:59:45.476Z"
   },
   {
    "duration": 4,
    "start_time": "2025-05-14T12:59:58.284Z"
   },
   {
    "duration": 4,
    "start_time": "2025-05-14T13:00:18.056Z"
   },
   {
    "duration": 5,
    "start_time": "2025-05-14T13:00:50.354Z"
   },
   {
    "duration": 9,
    "start_time": "2025-05-14T13:01:14.753Z"
   },
   {
    "duration": 5,
    "start_time": "2025-05-14T13:01:29.660Z"
   },
   {
    "duration": 4,
    "start_time": "2025-05-14T13:02:21.808Z"
   },
   {
    "duration": 8,
    "start_time": "2025-05-14T13:05:40.234Z"
   },
   {
    "duration": 8,
    "start_time": "2025-05-14T13:06:55.594Z"
   },
   {
    "duration": 83,
    "start_time": "2025-05-14T13:13:01.734Z"
   },
   {
    "duration": 9,
    "start_time": "2025-05-14T13:13:11.174Z"
   },
   {
    "duration": 6,
    "start_time": "2025-05-14T13:13:30.095Z"
   },
   {
    "duration": 10,
    "start_time": "2025-05-14T13:19:42.988Z"
   },
   {
    "duration": 5,
    "start_time": "2025-05-14T13:20:55.587Z"
   },
   {
    "duration": 4,
    "start_time": "2025-05-14T13:23:05.795Z"
   },
   {
    "duration": 3,
    "start_time": "2025-05-14T13:24:51.145Z"
   },
   {
    "duration": 8,
    "start_time": "2025-05-14T13:24:56.222Z"
   },
   {
    "duration": 4,
    "start_time": "2025-05-14T13:25:08.113Z"
   },
   {
    "duration": 4,
    "start_time": "2025-05-14T13:25:11.228Z"
   },
   {
    "duration": 4,
    "start_time": "2025-05-14T13:25:31.000Z"
   },
   {
    "duration": 4,
    "start_time": "2025-05-14T13:25:37.917Z"
   },
   {
    "duration": 4,
    "start_time": "2025-05-14T13:25:41.429Z"
   },
   {
    "duration": 7,
    "start_time": "2025-05-14T13:30:36.022Z"
   },
   {
    "duration": 8,
    "start_time": "2025-05-14T13:30:45.612Z"
   },
   {
    "duration": 11,
    "start_time": "2025-05-14T13:31:52.746Z"
   },
   {
    "duration": 10,
    "start_time": "2025-05-14T13:33:22.292Z"
   },
   {
    "duration": 100,
    "start_time": "2025-05-14T13:34:16.797Z"
   },
   {
    "duration": 9,
    "start_time": "2025-05-14T13:34:24.921Z"
   },
   {
    "duration": 23,
    "start_time": "2025-05-14T13:35:35.580Z"
   },
   {
    "duration": 39,
    "start_time": "2025-05-14T13:36:57.453Z"
   },
   {
    "duration": 10,
    "start_time": "2025-05-14T13:37:16.627Z"
   },
   {
    "duration": 9,
    "start_time": "2025-05-14T13:39:49.121Z"
   },
   {
    "duration": 7,
    "start_time": "2025-05-14T13:43:51.166Z"
   },
   {
    "duration": 9,
    "start_time": "2025-05-14T13:45:07.104Z"
   },
   {
    "duration": 9,
    "start_time": "2025-05-14T13:45:22.807Z"
   },
   {
    "duration": 9,
    "start_time": "2025-05-14T13:47:19.469Z"
   },
   {
    "duration": 8,
    "start_time": "2025-05-14T13:47:37.957Z"
   },
   {
    "duration": 3,
    "start_time": "2025-05-14T13:47:47.910Z"
   },
   {
    "duration": 80,
    "start_time": "2025-05-14T13:47:47.915Z"
   },
   {
    "duration": 15,
    "start_time": "2025-05-14T13:47:47.997Z"
   },
   {
    "duration": 50,
    "start_time": "2025-05-14T13:47:48.014Z"
   },
   {
    "duration": 23,
    "start_time": "2025-05-14T13:47:48.067Z"
   },
   {
    "duration": 32,
    "start_time": "2025-05-14T13:47:48.092Z"
   },
   {
    "duration": 20,
    "start_time": "2025-05-14T13:47:48.126Z"
   },
   {
    "duration": 8,
    "start_time": "2025-05-14T13:47:48.148Z"
   },
   {
    "duration": 10,
    "start_time": "2025-05-14T13:47:48.158Z"
   },
   {
    "duration": 10,
    "start_time": "2025-05-14T13:47:48.170Z"
   },
   {
    "duration": 13,
    "start_time": "2025-05-14T13:47:48.183Z"
   },
   {
    "duration": 7,
    "start_time": "2025-05-14T13:47:48.198Z"
   },
   {
    "duration": 11,
    "start_time": "2025-05-14T13:47:48.207Z"
   },
   {
    "duration": 19,
    "start_time": "2025-05-14T13:47:48.219Z"
   },
   {
    "duration": 32,
    "start_time": "2025-05-14T13:47:48.239Z"
   },
   {
    "duration": 16,
    "start_time": "2025-05-14T13:47:48.274Z"
   },
   {
    "duration": 7,
    "start_time": "2025-05-14T13:47:48.292Z"
   },
   {
    "duration": 13,
    "start_time": "2025-05-14T13:47:48.301Z"
   },
   {
    "duration": 7,
    "start_time": "2025-05-14T13:47:48.315Z"
   },
   {
    "duration": 15,
    "start_time": "2025-05-14T13:47:48.323Z"
   },
   {
    "duration": 187,
    "start_time": "2025-05-14T13:47:48.340Z"
   },
   {
    "duration": 4,
    "start_time": "2025-05-14T13:47:48.529Z"
   },
   {
    "duration": 253,
    "start_time": "2025-05-14T13:47:48.534Z"
   },
   {
    "duration": 11,
    "start_time": "2025-05-14T13:47:48.789Z"
   },
   {
    "duration": 24,
    "start_time": "2025-05-14T13:47:48.802Z"
   },
   {
    "duration": 32,
    "start_time": "2025-05-14T13:47:48.828Z"
   },
   {
    "duration": 92,
    "start_time": "2025-05-14T13:47:48.862Z"
   },
   {
    "duration": 33,
    "start_time": "2025-05-14T13:47:48.956Z"
   },
   {
    "duration": 237,
    "start_time": "2025-05-14T13:47:48.993Z"
   },
   {
    "duration": 38,
    "start_time": "2025-05-14T13:47:49.232Z"
   },
   {
    "duration": 31,
    "start_time": "2025-05-14T13:47:49.271Z"
   },
   {
    "duration": 12,
    "start_time": "2025-05-14T13:47:49.304Z"
   },
   {
    "duration": 0,
    "start_time": "2025-05-14T13:47:49.318Z"
   },
   {
    "duration": 1,
    "start_time": "2025-05-14T13:47:49.319Z"
   },
   {
    "duration": 0,
    "start_time": "2025-05-14T13:47:49.320Z"
   },
   {
    "duration": 9,
    "start_time": "2025-05-14T13:48:21.286Z"
   },
   {
    "duration": 9,
    "start_time": "2025-05-14T13:48:25.156Z"
   },
   {
    "duration": 3,
    "start_time": "2025-05-14T13:50:37.332Z"
   },
   {
    "duration": 4,
    "start_time": "2025-05-14T13:50:50.047Z"
   },
   {
    "duration": 9,
    "start_time": "2025-05-14T13:51:50.145Z"
   },
   {
    "duration": 16,
    "start_time": "2025-05-14T13:52:06.006Z"
   },
   {
    "duration": 10,
    "start_time": "2025-05-14T13:52:25.559Z"
   },
   {
    "duration": 3,
    "start_time": "2025-05-14T13:52:32.589Z"
   },
   {
    "duration": 3,
    "start_time": "2025-05-14T13:52:50.196Z"
   },
   {
    "duration": 9,
    "start_time": "2025-05-14T13:54:26.783Z"
   },
   {
    "duration": 4,
    "start_time": "2025-05-14T13:54:35.993Z"
   },
   {
    "duration": 4,
    "start_time": "2025-05-14T13:54:39.107Z"
   },
   {
    "duration": 84,
    "start_time": "2025-05-14T13:55:12.497Z"
   },
   {
    "duration": 83,
    "start_time": "2025-05-14T13:55:16.039Z"
   },
   {
    "duration": 4,
    "start_time": "2025-05-14T13:55:19.063Z"
   },
   {
    "duration": 3,
    "start_time": "2025-05-14T13:55:23.415Z"
   },
   {
    "duration": 4,
    "start_time": "2025-05-14T13:55:27.944Z"
   },
   {
    "duration": 3,
    "start_time": "2025-05-14T13:55:48.652Z"
   },
   {
    "duration": 16,
    "start_time": "2025-05-14T13:57:07.783Z"
   },
   {
    "duration": 3,
    "start_time": "2025-05-14T13:58:24.190Z"
   },
   {
    "duration": 15,
    "start_time": "2025-05-14T14:08:59.485Z"
   },
   {
    "duration": 5,
    "start_time": "2025-05-14T14:14:16.378Z"
   },
   {
    "duration": 6,
    "start_time": "2025-05-14T14:14:24.255Z"
   },
   {
    "duration": 14,
    "start_time": "2025-05-14T14:14:38.251Z"
   },
   {
    "duration": 8,
    "start_time": "2025-05-14T14:15:14.939Z"
   },
   {
    "duration": 8,
    "start_time": "2025-05-14T14:15:47.761Z"
   },
   {
    "duration": 4,
    "start_time": "2025-05-14T14:16:00.415Z"
   },
   {
    "duration": 5,
    "start_time": "2025-05-14T14:16:11.829Z"
   },
   {
    "duration": 9,
    "start_time": "2025-05-14T14:18:16.386Z"
   },
   {
    "duration": 8,
    "start_time": "2025-05-14T14:18:52.914Z"
   },
   {
    "duration": 4,
    "start_time": "2025-05-14T14:19:12.474Z"
   },
   {
    "duration": 14,
    "start_time": "2025-05-14T14:32:31.356Z"
   },
   {
    "duration": 6,
    "start_time": "2025-05-14T14:32:51.061Z"
   },
   {
    "duration": 14,
    "start_time": "2025-05-14T14:33:03.361Z"
   },
   {
    "duration": 3,
    "start_time": "2025-05-14T14:34:54.065Z"
   },
   {
    "duration": 3,
    "start_time": "2025-05-14T14:34:59.196Z"
   },
   {
    "duration": 4,
    "start_time": "2025-05-14T14:35:07.568Z"
   },
   {
    "duration": 8,
    "start_time": "2025-05-14T14:36:11.897Z"
   },
   {
    "duration": 4,
    "start_time": "2025-05-14T14:36:19.138Z"
   },
   {
    "duration": 4,
    "start_time": "2025-05-14T14:36:56.444Z"
   },
   {
    "duration": 7,
    "start_time": "2025-05-14T14:43:28.128Z"
   },
   {
    "duration": 13,
    "start_time": "2025-05-14T14:43:31.806Z"
   },
   {
    "duration": 11,
    "start_time": "2025-05-14T14:49:26.659Z"
   },
   {
    "duration": 10,
    "start_time": "2025-05-14T14:51:52.382Z"
   },
   {
    "duration": 11,
    "start_time": "2025-05-14T14:53:19.121Z"
   },
   {
    "duration": 4,
    "start_time": "2025-05-14T14:55:21.017Z"
   },
   {
    "duration": 14,
    "start_time": "2025-05-14T14:55:46.572Z"
   },
   {
    "duration": 3,
    "start_time": "2025-05-14T14:56:25.615Z"
   },
   {
    "duration": 471,
    "start_time": "2025-05-14T14:56:25.620Z"
   },
   {
    "duration": 18,
    "start_time": "2025-05-14T14:56:26.094Z"
   },
   {
    "duration": 26,
    "start_time": "2025-05-14T14:56:26.114Z"
   },
   {
    "duration": 2,
    "start_time": "2025-05-14T14:56:26.142Z"
   },
   {
    "duration": 6,
    "start_time": "2025-05-14T14:56:26.146Z"
   },
   {
    "duration": 4,
    "start_time": "2025-05-14T14:56:26.154Z"
   },
   {
    "duration": 7,
    "start_time": "2025-05-14T14:56:26.160Z"
   },
   {
    "duration": 11,
    "start_time": "2025-05-14T14:56:26.169Z"
   },
   {
    "duration": 29,
    "start_time": "2025-05-14T14:56:26.181Z"
   },
   {
    "duration": 13,
    "start_time": "2025-05-14T14:56:26.213Z"
   },
   {
    "duration": 8,
    "start_time": "2025-05-14T14:56:26.227Z"
   },
   {
    "duration": 22,
    "start_time": "2025-05-14T14:56:26.237Z"
   },
   {
    "duration": 11,
    "start_time": "2025-05-14T14:56:26.260Z"
   },
   {
    "duration": 5,
    "start_time": "2025-05-14T14:56:26.272Z"
   },
   {
    "duration": 6,
    "start_time": "2025-05-14T14:56:26.305Z"
   },
   {
    "duration": 16,
    "start_time": "2025-05-14T14:56:26.313Z"
   },
   {
    "duration": 23,
    "start_time": "2025-05-14T14:56:26.331Z"
   },
   {
    "duration": 72,
    "start_time": "2025-05-14T14:56:26.356Z"
   },
   {
    "duration": 5,
    "start_time": "2025-05-14T14:56:26.429Z"
   },
   {
    "duration": 198,
    "start_time": "2025-05-14T14:56:26.435Z"
   },
   {
    "duration": 3,
    "start_time": "2025-05-14T14:56:26.635Z"
   },
   {
    "duration": 187,
    "start_time": "2025-05-14T14:56:26.639Z"
   },
   {
    "duration": 11,
    "start_time": "2025-05-14T14:56:26.828Z"
   },
   {
    "duration": 52,
    "start_time": "2025-05-14T14:56:26.840Z"
   },
   {
    "duration": 15,
    "start_time": "2025-05-14T14:56:26.894Z"
   },
   {
    "duration": 9,
    "start_time": "2025-05-14T14:56:26.911Z"
   },
   {
    "duration": 20,
    "start_time": "2025-05-14T14:56:26.922Z"
   },
   {
    "duration": 15,
    "start_time": "2025-05-14T14:56:26.945Z"
   },
   {
    "duration": 10,
    "start_time": "2025-05-14T14:56:26.962Z"
   },
   {
    "duration": 21,
    "start_time": "2025-05-14T14:56:26.974Z"
   },
   {
    "duration": 9,
    "start_time": "2025-05-14T14:56:26.997Z"
   },
   {
    "duration": 8,
    "start_time": "2025-05-14T14:56:27.008Z"
   },
   {
    "duration": 25,
    "start_time": "2025-05-14T14:56:27.018Z"
   },
   {
    "duration": 13,
    "start_time": "2025-05-14T14:56:27.045Z"
   },
   {
    "duration": 25,
    "start_time": "2025-05-14T14:56:27.059Z"
   },
   {
    "duration": 23,
    "start_time": "2025-05-14T14:56:27.086Z"
   },
   {
    "duration": 10,
    "start_time": "2025-05-14T14:56:27.111Z"
   },
   {
    "duration": 0,
    "start_time": "2025-05-14T14:56:27.123Z"
   },
   {
    "duration": 15,
    "start_time": "2025-05-14T14:56:35.418Z"
   },
   {
    "duration": 15,
    "start_time": "2025-05-14T14:57:57.236Z"
   },
   {
    "duration": 77,
    "start_time": "2025-05-14T14:59:14.279Z"
   },
   {
    "duration": 80,
    "start_time": "2025-05-14T14:59:22.815Z"
   },
   {
    "duration": 14,
    "start_time": "2025-05-14T14:59:37.840Z"
   },
   {
    "duration": 7,
    "start_time": "2025-05-14T15:00:48.869Z"
   },
   {
    "duration": 5,
    "start_time": "2025-05-14T15:00:59.799Z"
   },
   {
    "duration": 7,
    "start_time": "2025-05-14T15:01:16.758Z"
   },
   {
    "duration": 54,
    "start_time": "2025-05-15T09:03:28.322Z"
   },
   {
    "duration": 442,
    "start_time": "2025-05-15T09:03:41.600Z"
   },
   {
    "duration": 156,
    "start_time": "2025-05-15T09:03:42.045Z"
   },
   {
    "duration": 22,
    "start_time": "2025-05-15T09:03:42.203Z"
   },
   {
    "duration": 81,
    "start_time": "2025-05-15T09:03:42.227Z"
   },
   {
    "duration": 4,
    "start_time": "2025-05-15T09:03:42.310Z"
   },
   {
    "duration": 12,
    "start_time": "2025-05-15T09:03:42.315Z"
   },
   {
    "duration": 15,
    "start_time": "2025-05-15T09:03:42.328Z"
   },
   {
    "duration": 10,
    "start_time": "2025-05-15T09:03:42.345Z"
   },
   {
    "duration": 9,
    "start_time": "2025-05-15T09:03:42.356Z"
   },
   {
    "duration": 13,
    "start_time": "2025-05-15T09:03:42.367Z"
   },
   {
    "duration": 25,
    "start_time": "2025-05-15T09:03:42.381Z"
   },
   {
    "duration": 33,
    "start_time": "2025-05-15T09:03:42.408Z"
   },
   {
    "duration": 31,
    "start_time": "2025-05-15T09:03:42.442Z"
   },
   {
    "duration": 18,
    "start_time": "2025-05-15T09:03:42.476Z"
   },
   {
    "duration": 5,
    "start_time": "2025-05-15T09:03:42.496Z"
   },
   {
    "duration": 13,
    "start_time": "2025-05-15T09:03:42.502Z"
   },
   {
    "duration": 8,
    "start_time": "2025-05-15T09:03:42.517Z"
   },
   {
    "duration": 9,
    "start_time": "2025-05-15T09:03:42.527Z"
   },
   {
    "duration": 6,
    "start_time": "2025-05-15T09:03:42.537Z"
   },
   {
    "duration": 4,
    "start_time": "2025-05-15T09:03:42.545Z"
   },
   {
    "duration": 191,
    "start_time": "2025-05-15T09:03:42.551Z"
   },
   {
    "duration": 4,
    "start_time": "2025-05-15T09:03:42.744Z"
   },
   {
    "duration": 290,
    "start_time": "2025-05-15T09:03:42.750Z"
   },
   {
    "duration": 12,
    "start_time": "2025-05-15T09:03:43.042Z"
   },
   {
    "duration": 8,
    "start_time": "2025-05-15T09:03:43.056Z"
   },
   {
    "duration": 5,
    "start_time": "2025-05-15T09:03:43.076Z"
   },
   {
    "duration": 25,
    "start_time": "2025-05-15T09:03:43.083Z"
   },
   {
    "duration": 20,
    "start_time": "2025-05-15T09:03:43.110Z"
   },
   {
    "duration": 46,
    "start_time": "2025-05-15T09:03:43.132Z"
   },
   {
    "duration": 38,
    "start_time": "2025-05-15T09:03:43.181Z"
   },
   {
    "duration": 0,
    "start_time": "2025-05-15T09:03:43.221Z"
   },
   {
    "duration": 0,
    "start_time": "2025-05-15T09:03:43.223Z"
   },
   {
    "duration": 0,
    "start_time": "2025-05-15T09:03:43.224Z"
   },
   {
    "duration": 0,
    "start_time": "2025-05-15T09:03:43.226Z"
   },
   {
    "duration": 0,
    "start_time": "2025-05-15T09:03:43.228Z"
   },
   {
    "duration": 0,
    "start_time": "2025-05-15T09:03:43.229Z"
   },
   {
    "duration": 0,
    "start_time": "2025-05-15T09:03:43.231Z"
   },
   {
    "duration": 0,
    "start_time": "2025-05-15T09:03:43.233Z"
   },
   {
    "duration": 0,
    "start_time": "2025-05-15T09:03:43.235Z"
   },
   {
    "duration": 8,
    "start_time": "2025-05-15T09:03:46.821Z"
   },
   {
    "duration": 8,
    "start_time": "2025-05-15T09:04:24.591Z"
   },
   {
    "duration": 3,
    "start_time": "2025-05-15T09:04:29.440Z"
   },
   {
    "duration": 143,
    "start_time": "2025-05-15T09:04:29.445Z"
   },
   {
    "duration": 14,
    "start_time": "2025-05-15T09:04:29.590Z"
   },
   {
    "duration": 29,
    "start_time": "2025-05-15T09:04:29.606Z"
   },
   {
    "duration": 3,
    "start_time": "2025-05-15T09:04:29.637Z"
   },
   {
    "duration": 21,
    "start_time": "2025-05-15T09:04:29.642Z"
   },
   {
    "duration": 118,
    "start_time": "2025-05-15T09:04:29.666Z"
   },
   {
    "duration": 37,
    "start_time": "2025-05-15T09:04:29.786Z"
   },
   {
    "duration": 24,
    "start_time": "2025-05-15T09:04:29.826Z"
   },
   {
    "duration": 37,
    "start_time": "2025-05-15T09:04:29.852Z"
   },
   {
    "duration": 29,
    "start_time": "2025-05-15T09:04:29.893Z"
   },
   {
    "duration": 20,
    "start_time": "2025-05-15T09:04:29.925Z"
   },
   {
    "duration": 18,
    "start_time": "2025-05-15T09:04:29.948Z"
   },
   {
    "duration": 13,
    "start_time": "2025-05-15T09:04:29.968Z"
   },
   {
    "duration": 18,
    "start_time": "2025-05-15T09:04:29.983Z"
   },
   {
    "duration": 79,
    "start_time": "2025-05-15T09:04:30.003Z"
   },
   {
    "duration": 31,
    "start_time": "2025-05-15T09:04:30.084Z"
   },
   {
    "duration": 68,
    "start_time": "2025-05-15T09:04:30.116Z"
   },
   {
    "duration": 54,
    "start_time": "2025-05-15T09:04:30.186Z"
   },
   {
    "duration": 60,
    "start_time": "2025-05-15T09:04:30.242Z"
   },
   {
    "duration": 224,
    "start_time": "2025-05-15T09:04:30.303Z"
   },
   {
    "duration": 4,
    "start_time": "2025-05-15T09:04:30.528Z"
   },
   {
    "duration": 353,
    "start_time": "2025-05-15T09:04:30.534Z"
   },
   {
    "duration": 12,
    "start_time": "2025-05-15T09:04:30.889Z"
   },
   {
    "duration": 13,
    "start_time": "2025-05-15T09:04:30.902Z"
   },
   {
    "duration": 44,
    "start_time": "2025-05-15T09:04:30.916Z"
   },
   {
    "duration": 113,
    "start_time": "2025-05-15T09:04:30.962Z"
   },
   {
    "duration": 32,
    "start_time": "2025-05-15T09:04:31.077Z"
   },
   {
    "duration": 27,
    "start_time": "2025-05-15T09:04:31.113Z"
   },
   {
    "duration": 44,
    "start_time": "2025-05-15T09:04:31.144Z"
   },
   {
    "duration": 0,
    "start_time": "2025-05-15T09:04:31.190Z"
   },
   {
    "duration": 0,
    "start_time": "2025-05-15T09:04:31.192Z"
   },
   {
    "duration": 0,
    "start_time": "2025-05-15T09:04:31.193Z"
   },
   {
    "duration": 0,
    "start_time": "2025-05-15T09:04:31.193Z"
   },
   {
    "duration": 0,
    "start_time": "2025-05-15T09:04:31.195Z"
   },
   {
    "duration": 0,
    "start_time": "2025-05-15T09:04:31.196Z"
   },
   {
    "duration": 0,
    "start_time": "2025-05-15T09:04:31.197Z"
   },
   {
    "duration": 0,
    "start_time": "2025-05-15T09:04:31.198Z"
   },
   {
    "duration": 0,
    "start_time": "2025-05-15T09:04:31.199Z"
   },
   {
    "duration": 3,
    "start_time": "2025-05-15T09:04:53.398Z"
   },
   {
    "duration": 154,
    "start_time": "2025-05-15T09:04:53.403Z"
   },
   {
    "duration": 14,
    "start_time": "2025-05-15T09:04:53.559Z"
   },
   {
    "duration": 59,
    "start_time": "2025-05-15T09:04:53.575Z"
   },
   {
    "duration": 5,
    "start_time": "2025-05-15T09:04:53.636Z"
   },
   {
    "duration": 87,
    "start_time": "2025-05-15T09:04:53.643Z"
   },
   {
    "duration": 111,
    "start_time": "2025-05-15T09:04:53.734Z"
   },
   {
    "duration": 26,
    "start_time": "2025-05-15T09:04:53.847Z"
   },
   {
    "duration": 17,
    "start_time": "2025-05-15T09:04:53.875Z"
   },
   {
    "duration": 13,
    "start_time": "2025-05-15T09:04:53.894Z"
   },
   {
    "duration": 11,
    "start_time": "2025-05-15T09:04:53.910Z"
   },
   {
    "duration": 38,
    "start_time": "2025-05-15T09:04:53.923Z"
   },
   {
    "duration": 16,
    "start_time": "2025-05-15T09:04:53.963Z"
   },
   {
    "duration": 18,
    "start_time": "2025-05-15T09:04:53.981Z"
   },
   {
    "duration": 22,
    "start_time": "2025-05-15T09:04:54.000Z"
   },
   {
    "duration": 23,
    "start_time": "2025-05-15T09:04:54.023Z"
   },
   {
    "duration": 35,
    "start_time": "2025-05-15T09:04:54.048Z"
   },
   {
    "duration": 53,
    "start_time": "2025-05-15T09:04:54.085Z"
   },
   {
    "duration": 28,
    "start_time": "2025-05-15T09:04:54.140Z"
   },
   {
    "duration": 45,
    "start_time": "2025-05-15T09:04:54.170Z"
   },
   {
    "duration": 219,
    "start_time": "2025-05-15T09:04:54.216Z"
   },
   {
    "duration": 3,
    "start_time": "2025-05-15T09:04:54.437Z"
   },
   {
    "duration": 196,
    "start_time": "2025-05-15T09:04:54.442Z"
   },
   {
    "duration": 12,
    "start_time": "2025-05-15T09:04:54.640Z"
   },
   {
    "duration": 73,
    "start_time": "2025-05-15T09:04:54.654Z"
   },
   {
    "duration": 36,
    "start_time": "2025-05-15T09:04:54.729Z"
   },
   {
    "duration": 126,
    "start_time": "2025-05-15T09:04:54.767Z"
   },
   {
    "duration": 8,
    "start_time": "2025-05-15T09:04:54.895Z"
   },
   {
    "duration": 8,
    "start_time": "2025-05-15T09:04:54.908Z"
   },
   {
    "duration": 8,
    "start_time": "2025-05-15T09:04:54.917Z"
   },
   {
    "duration": 8,
    "start_time": "2025-05-15T09:04:54.926Z"
   },
   {
    "duration": 12,
    "start_time": "2025-05-15T09:04:54.936Z"
   },
   {
    "duration": 35,
    "start_time": "2025-05-15T09:04:54.950Z"
   },
   {
    "duration": 23,
    "start_time": "2025-05-15T09:04:54.987Z"
   },
   {
    "duration": 71,
    "start_time": "2025-05-15T09:04:55.013Z"
   },
   {
    "duration": 19,
    "start_time": "2025-05-15T09:04:55.086Z"
   },
   {
    "duration": 33,
    "start_time": "2025-05-15T09:04:55.107Z"
   },
   {
    "duration": 35,
    "start_time": "2025-05-15T09:04:55.142Z"
   },
   {
    "duration": 0,
    "start_time": "2025-05-15T09:04:55.180Z"
   },
   {
    "duration": 15,
    "start_time": "2025-05-15T09:08:09.245Z"
   },
   {
    "duration": 10,
    "start_time": "2025-05-15T09:08:34.266Z"
   },
   {
    "duration": 9,
    "start_time": "2025-05-15T09:10:56.723Z"
   },
   {
    "duration": 5,
    "start_time": "2025-05-15T09:11:00.099Z"
   },
   {
    "duration": 14,
    "start_time": "2025-05-15T09:11:04.191Z"
   },
   {
    "duration": 15,
    "start_time": "2025-05-15T09:11:10.538Z"
   },
   {
    "duration": 8,
    "start_time": "2025-05-15T09:11:21.368Z"
   },
   {
    "duration": 8,
    "start_time": "2025-05-15T09:11:25.684Z"
   },
   {
    "duration": 8,
    "start_time": "2025-05-15T09:11:35.757Z"
   },
   {
    "duration": 7,
    "start_time": "2025-05-15T09:12:49.792Z"
   },
   {
    "duration": 15,
    "start_time": "2025-05-15T09:13:19.870Z"
   },
   {
    "duration": 6,
    "start_time": "2025-05-15T09:13:59.496Z"
   },
   {
    "duration": 16,
    "start_time": "2025-05-15T09:14:05.526Z"
   },
   {
    "duration": 7,
    "start_time": "2025-05-15T09:15:14.864Z"
   },
   {
    "duration": 14,
    "start_time": "2025-05-15T09:15:18.445Z"
   },
   {
    "duration": 11,
    "start_time": "2025-05-15T09:19:06.162Z"
   },
   {
    "duration": 8,
    "start_time": "2025-05-15T09:19:10.589Z"
   },
   {
    "duration": 11,
    "start_time": "2025-05-15T09:19:12.305Z"
   },
   {
    "duration": 4,
    "start_time": "2025-05-15T09:19:17.584Z"
   },
   {
    "duration": 11,
    "start_time": "2025-05-15T09:19:20.656Z"
   },
   {
    "duration": 4,
    "start_time": "2025-05-15T09:19:30.706Z"
   },
   {
    "duration": 15,
    "start_time": "2025-05-15T09:19:43.448Z"
   },
   {
    "duration": 9,
    "start_time": "2025-05-15T09:20:16.018Z"
   },
   {
    "duration": 13,
    "start_time": "2025-05-15T09:20:18.834Z"
   },
   {
    "duration": 6,
    "start_time": "2025-05-15T09:21:01.779Z"
   },
   {
    "duration": 15,
    "start_time": "2025-05-15T09:21:20.703Z"
   },
   {
    "duration": 3,
    "start_time": "2025-05-15T09:21:29.347Z"
   },
   {
    "duration": 129,
    "start_time": "2025-05-15T09:21:29.352Z"
   },
   {
    "duration": 15,
    "start_time": "2025-05-15T09:21:29.483Z"
   },
   {
    "duration": 69,
    "start_time": "2025-05-15T09:21:29.499Z"
   },
   {
    "duration": 51,
    "start_time": "2025-05-15T09:21:29.570Z"
   },
   {
    "duration": 13,
    "start_time": "2025-05-15T09:21:29.623Z"
   },
   {
    "duration": 4,
    "start_time": "2025-05-15T09:21:29.638Z"
   },
   {
    "duration": 11,
    "start_time": "2025-05-15T09:21:29.644Z"
   },
   {
    "duration": 21,
    "start_time": "2025-05-15T09:21:29.657Z"
   },
   {
    "duration": 14,
    "start_time": "2025-05-15T09:21:29.679Z"
   },
   {
    "duration": 20,
    "start_time": "2025-05-15T09:21:29.696Z"
   },
   {
    "duration": 8,
    "start_time": "2025-05-15T09:21:29.717Z"
   },
   {
    "duration": 9,
    "start_time": "2025-05-15T09:21:29.727Z"
   },
   {
    "duration": 9,
    "start_time": "2025-05-15T09:21:29.738Z"
   },
   {
    "duration": 34,
    "start_time": "2025-05-15T09:21:29.749Z"
   },
   {
    "duration": 98,
    "start_time": "2025-05-15T09:21:29.785Z"
   },
   {
    "duration": 7,
    "start_time": "2025-05-15T09:21:29.885Z"
   },
   {
    "duration": 25,
    "start_time": "2025-05-15T09:21:29.893Z"
   },
   {
    "duration": 9,
    "start_time": "2025-05-15T09:21:29.920Z"
   },
   {
    "duration": 12,
    "start_time": "2025-05-15T09:21:29.930Z"
   },
   {
    "duration": 176,
    "start_time": "2025-05-15T09:21:29.944Z"
   },
   {
    "duration": 4,
    "start_time": "2025-05-15T09:21:30.121Z"
   },
   {
    "duration": 224,
    "start_time": "2025-05-15T09:21:30.127Z"
   },
   {
    "duration": 12,
    "start_time": "2025-05-15T09:21:30.353Z"
   },
   {
    "duration": 51,
    "start_time": "2025-05-15T09:21:30.366Z"
   },
   {
    "duration": 50,
    "start_time": "2025-05-15T09:21:30.418Z"
   },
   {
    "duration": 20,
    "start_time": "2025-05-15T09:21:30.470Z"
   },
   {
    "duration": 16,
    "start_time": "2025-05-15T09:21:30.492Z"
   },
   {
    "duration": 23,
    "start_time": "2025-05-15T09:21:30.511Z"
   },
   {
    "duration": 30,
    "start_time": "2025-05-15T09:21:30.535Z"
   },
   {
    "duration": 26,
    "start_time": "2025-05-15T09:21:30.567Z"
   },
   {
    "duration": 37,
    "start_time": "2025-05-15T09:21:30.594Z"
   },
   {
    "duration": 169,
    "start_time": "2025-05-15T09:21:30.633Z"
   },
   {
    "duration": 88,
    "start_time": "2025-05-15T09:21:30.804Z"
   },
   {
    "duration": 46,
    "start_time": "2025-05-15T09:21:30.894Z"
   },
   {
    "duration": 30,
    "start_time": "2025-05-15T09:21:30.942Z"
   },
   {
    "duration": 11,
    "start_time": "2025-05-15T09:21:30.974Z"
   },
   {
    "duration": 35,
    "start_time": "2025-05-15T09:21:30.987Z"
   },
   {
    "duration": 39,
    "start_time": "2025-05-15T09:21:31.024Z"
   },
   {
    "duration": 42,
    "start_time": "2025-05-15T09:21:31.065Z"
   },
   {
    "duration": 32,
    "start_time": "2025-05-15T09:21:31.109Z"
   },
   {
    "duration": 53,
    "start_time": "2025-05-15T09:21:31.143Z"
   },
   {
    "duration": 18,
    "start_time": "2025-05-15T09:22:08.556Z"
   },
   {
    "duration": 8,
    "start_time": "2025-05-15T09:23:51.014Z"
   },
   {
    "duration": 13,
    "start_time": "2025-05-15T09:24:01.000Z"
   },
   {
    "duration": 8,
    "start_time": "2025-05-15T09:24:19.908Z"
   },
   {
    "duration": 10,
    "start_time": "2025-05-15T09:27:34.795Z"
   },
   {
    "duration": 13,
    "start_time": "2025-05-15T09:27:53.034Z"
   },
   {
    "duration": 13,
    "start_time": "2025-05-15T09:28:42.392Z"
   },
   {
    "duration": 9,
    "start_time": "2025-05-15T09:29:03.922Z"
   },
   {
    "duration": 2,
    "start_time": "2025-05-15T09:30:31.331Z"
   },
   {
    "duration": 13,
    "start_time": "2025-05-15T09:30:48.682Z"
   },
   {
    "duration": 7,
    "start_time": "2025-05-15T09:33:07.381Z"
   },
   {
    "duration": 7,
    "start_time": "2025-05-15T09:33:19.960Z"
   },
   {
    "duration": 7,
    "start_time": "2025-05-15T09:33:39.516Z"
   },
   {
    "duration": 7,
    "start_time": "2025-05-15T09:34:04.573Z"
   },
   {
    "duration": 7,
    "start_time": "2025-05-15T09:34:10.727Z"
   },
   {
    "duration": 7,
    "start_time": "2025-05-15T09:35:54.889Z"
   },
   {
    "duration": 9,
    "start_time": "2025-05-15T09:37:56.349Z"
   },
   {
    "duration": 7,
    "start_time": "2025-05-15T09:38:05.770Z"
   },
   {
    "duration": 21,
    "start_time": "2025-05-15T09:38:22.229Z"
   },
   {
    "duration": 9,
    "start_time": "2025-05-15T09:38:31.575Z"
   },
   {
    "duration": 9,
    "start_time": "2025-05-15T09:39:11.710Z"
   },
   {
    "duration": 8,
    "start_time": "2025-05-15T09:39:28.904Z"
   },
   {
    "duration": 8,
    "start_time": "2025-05-15T09:39:42.108Z"
   },
   {
    "duration": 8,
    "start_time": "2025-05-15T09:40:10.978Z"
   },
   {
    "duration": 3,
    "start_time": "2025-05-15T09:40:49.906Z"
   },
   {
    "duration": 275,
    "start_time": "2025-05-15T09:40:49.911Z"
   },
   {
    "duration": 15,
    "start_time": "2025-05-15T09:40:50.187Z"
   },
   {
    "duration": 22,
    "start_time": "2025-05-15T09:40:50.204Z"
   },
   {
    "duration": 7,
    "start_time": "2025-05-15T09:40:50.227Z"
   },
   {
    "duration": 28,
    "start_time": "2025-05-15T09:40:50.236Z"
   },
   {
    "duration": 40,
    "start_time": "2025-05-15T09:40:50.266Z"
   },
   {
    "duration": 11,
    "start_time": "2025-05-15T09:40:50.308Z"
   },
   {
    "duration": 15,
    "start_time": "2025-05-15T09:40:50.321Z"
   },
   {
    "duration": 25,
    "start_time": "2025-05-15T09:40:50.337Z"
   },
   {
    "duration": 32,
    "start_time": "2025-05-15T09:40:50.363Z"
   },
   {
    "duration": 10,
    "start_time": "2025-05-15T09:40:50.397Z"
   },
   {
    "duration": 21,
    "start_time": "2025-05-15T09:40:50.409Z"
   },
   {
    "duration": 45,
    "start_time": "2025-05-15T09:40:50.432Z"
   },
   {
    "duration": 33,
    "start_time": "2025-05-15T09:40:50.479Z"
   },
   {
    "duration": 18,
    "start_time": "2025-05-15T09:40:50.514Z"
   },
   {
    "duration": 15,
    "start_time": "2025-05-15T09:40:50.534Z"
   },
   {
    "duration": 13,
    "start_time": "2025-05-15T09:40:50.551Z"
   },
   {
    "duration": 17,
    "start_time": "2025-05-15T09:40:50.566Z"
   },
   {
    "duration": 17,
    "start_time": "2025-05-15T09:40:50.586Z"
   },
   {
    "duration": 182,
    "start_time": "2025-05-15T09:40:50.605Z"
   },
   {
    "duration": 4,
    "start_time": "2025-05-15T09:40:50.789Z"
   },
   {
    "duration": 228,
    "start_time": "2025-05-15T09:40:50.794Z"
   },
   {
    "duration": 11,
    "start_time": "2025-05-15T09:40:51.025Z"
   },
   {
    "duration": 5,
    "start_time": "2025-05-15T09:40:51.037Z"
   },
   {
    "duration": 8,
    "start_time": "2025-05-15T09:40:51.043Z"
   },
   {
    "duration": 8,
    "start_time": "2025-05-15T09:40:51.077Z"
   },
   {
    "duration": 28,
    "start_time": "2025-05-15T09:40:51.087Z"
   },
   {
    "duration": 7,
    "start_time": "2025-05-15T09:40:51.117Z"
   },
   {
    "duration": 6,
    "start_time": "2025-05-15T09:40:51.126Z"
   },
   {
    "duration": 14,
    "start_time": "2025-05-15T09:40:51.133Z"
   },
   {
    "duration": 22,
    "start_time": "2025-05-15T09:40:51.148Z"
   },
   {
    "duration": 15,
    "start_time": "2025-05-15T09:40:51.172Z"
   },
   {
    "duration": 12,
    "start_time": "2025-05-15T09:40:51.188Z"
   },
   {
    "duration": 6,
    "start_time": "2025-05-15T09:40:51.202Z"
   },
   {
    "duration": 12,
    "start_time": "2025-05-15T09:40:51.209Z"
   },
   {
    "duration": 11,
    "start_time": "2025-05-15T09:40:51.222Z"
   },
   {
    "duration": 40,
    "start_time": "2025-05-15T09:40:51.235Z"
   },
   {
    "duration": 15,
    "start_time": "2025-05-15T09:40:51.277Z"
   },
   {
    "duration": 20,
    "start_time": "2025-05-15T09:40:51.294Z"
   },
   {
    "duration": 15,
    "start_time": "2025-05-15T09:40:51.316Z"
   },
   {
    "duration": 30,
    "start_time": "2025-05-15T09:40:51.333Z"
   },
   {
    "duration": 25,
    "start_time": "2025-05-15T09:40:51.365Z"
   },
   {
    "duration": 27,
    "start_time": "2025-05-15T09:40:51.392Z"
   },
   {
    "duration": 16,
    "start_time": "2025-05-15T09:40:51.421Z"
   },
   {
    "duration": 15,
    "start_time": "2025-05-15T09:53:54.355Z"
   },
   {
    "duration": 3,
    "start_time": "2025-05-15T10:09:53.478Z"
   },
   {
    "duration": 119,
    "start_time": "2025-05-15T10:09:53.483Z"
   },
   {
    "duration": 13,
    "start_time": "2025-05-15T10:09:53.604Z"
   },
   {
    "duration": 143,
    "start_time": "2025-05-15T10:09:53.618Z"
   },
   {
    "duration": 62,
    "start_time": "2025-05-15T10:09:53.764Z"
   },
   {
    "duration": 48,
    "start_time": "2025-05-15T10:09:53.828Z"
   },
   {
    "duration": 33,
    "start_time": "2025-05-15T10:09:53.878Z"
   },
   {
    "duration": 36,
    "start_time": "2025-05-15T10:09:53.913Z"
   },
   {
    "duration": 26,
    "start_time": "2025-05-15T10:09:53.952Z"
   },
   {
    "duration": 121,
    "start_time": "2025-05-15T10:09:53.980Z"
   },
   {
    "duration": 26,
    "start_time": "2025-05-15T10:09:54.104Z"
   },
   {
    "duration": 34,
    "start_time": "2025-05-15T10:09:54.132Z"
   },
   {
    "duration": 23,
    "start_time": "2025-05-15T10:09:54.168Z"
   },
   {
    "duration": 27,
    "start_time": "2025-05-15T10:09:54.193Z"
   },
   {
    "duration": 26,
    "start_time": "2025-05-15T10:09:54.221Z"
   },
   {
    "duration": 25,
    "start_time": "2025-05-15T10:09:54.249Z"
   },
   {
    "duration": 33,
    "start_time": "2025-05-15T10:09:54.276Z"
   },
   {
    "duration": 9,
    "start_time": "2025-05-15T10:09:54.311Z"
   },
   {
    "duration": 5,
    "start_time": "2025-05-15T10:09:54.322Z"
   },
   {
    "duration": 22,
    "start_time": "2025-05-15T10:09:54.329Z"
   },
   {
    "duration": 180,
    "start_time": "2025-05-15T10:09:54.353Z"
   },
   {
    "duration": 3,
    "start_time": "2025-05-15T10:09:54.535Z"
   },
   {
    "duration": 186,
    "start_time": "2025-05-15T10:09:54.540Z"
   },
   {
    "duration": 13,
    "start_time": "2025-05-15T10:09:54.728Z"
   },
   {
    "duration": 21,
    "start_time": "2025-05-15T10:09:54.743Z"
   },
   {
    "duration": 6,
    "start_time": "2025-05-15T10:09:54.766Z"
   },
   {
    "duration": 24,
    "start_time": "2025-05-15T10:09:54.777Z"
   },
   {
    "duration": 46,
    "start_time": "2025-05-15T10:09:54.803Z"
   },
   {
    "duration": 155,
    "start_time": "2025-05-15T10:09:54.854Z"
   },
   {
    "duration": 58,
    "start_time": "2025-05-15T10:09:55.011Z"
   },
   {
    "duration": 32,
    "start_time": "2025-05-15T10:09:55.071Z"
   },
   {
    "duration": 20,
    "start_time": "2025-05-15T10:09:55.105Z"
   },
   {
    "duration": 30,
    "start_time": "2025-05-15T10:09:55.127Z"
   },
   {
    "duration": 9,
    "start_time": "2025-05-15T10:09:55.159Z"
   },
   {
    "duration": 8,
    "start_time": "2025-05-15T10:09:55.170Z"
   },
   {
    "duration": 23,
    "start_time": "2025-05-15T10:09:55.180Z"
   },
   {
    "duration": 4,
    "start_time": "2025-05-15T10:09:55.204Z"
   },
   {
    "duration": 16,
    "start_time": "2025-05-15T10:09:55.210Z"
   },
   {
    "duration": 25,
    "start_time": "2025-05-15T10:09:55.228Z"
   },
   {
    "duration": 50,
    "start_time": "2025-05-15T10:09:55.255Z"
   },
   {
    "duration": 49,
    "start_time": "2025-05-15T10:09:55.307Z"
   },
   {
    "duration": 31,
    "start_time": "2025-05-15T10:09:55.358Z"
   },
   {
    "duration": 29,
    "start_time": "2025-05-15T10:09:55.391Z"
   },
   {
    "duration": 20,
    "start_time": "2025-05-15T10:09:55.422Z"
   },
   {
    "duration": 13,
    "start_time": "2025-05-15T10:09:55.444Z"
   },
   {
    "duration": 9,
    "start_time": "2025-05-15T10:09:55.459Z"
   },
   {
    "duration": 463,
    "start_time": "2025-05-16T06:16:35.794Z"
   },
   {
    "duration": 118,
    "start_time": "2025-05-16T06:16:36.260Z"
   },
   {
    "duration": 22,
    "start_time": "2025-05-16T06:16:36.380Z"
   },
   {
    "duration": 48,
    "start_time": "2025-05-16T06:16:36.404Z"
   },
   {
    "duration": 27,
    "start_time": "2025-05-16T06:16:36.454Z"
   },
   {
    "duration": 20,
    "start_time": "2025-05-16T06:16:36.483Z"
   },
   {
    "duration": 34,
    "start_time": "2025-05-16T06:16:36.504Z"
   },
   {
    "duration": 22,
    "start_time": "2025-05-16T06:16:36.539Z"
   },
   {
    "duration": 13,
    "start_time": "2025-05-16T06:16:36.562Z"
   },
   {
    "duration": 10,
    "start_time": "2025-05-16T06:16:36.578Z"
   },
   {
    "duration": 24,
    "start_time": "2025-05-16T06:16:36.589Z"
   },
   {
    "duration": 25,
    "start_time": "2025-05-16T06:16:36.615Z"
   },
   {
    "duration": 17,
    "start_time": "2025-05-16T06:16:36.641Z"
   },
   {
    "duration": 11,
    "start_time": "2025-05-16T06:16:36.662Z"
   },
   {
    "duration": 12,
    "start_time": "2025-05-16T06:16:36.674Z"
   },
   {
    "duration": 13,
    "start_time": "2025-05-16T06:16:36.687Z"
   },
   {
    "duration": 24,
    "start_time": "2025-05-16T06:16:36.701Z"
   },
   {
    "duration": 39,
    "start_time": "2025-05-16T06:16:36.727Z"
   },
   {
    "duration": 27,
    "start_time": "2025-05-16T06:16:36.768Z"
   },
   {
    "duration": 7,
    "start_time": "2025-05-16T06:16:36.797Z"
   },
   {
    "duration": 192,
    "start_time": "2025-05-16T06:16:36.805Z"
   },
   {
    "duration": 8,
    "start_time": "2025-05-16T06:16:36.998Z"
   },
   {
    "duration": 186,
    "start_time": "2025-05-16T06:16:37.007Z"
   },
   {
    "duration": 11,
    "start_time": "2025-05-16T06:16:37.195Z"
   },
   {
    "duration": 68,
    "start_time": "2025-05-16T06:16:37.208Z"
   },
   {
    "duration": 6,
    "start_time": "2025-05-16T06:16:37.278Z"
   },
   {
    "duration": 11,
    "start_time": "2025-05-16T06:16:37.286Z"
   },
   {
    "duration": 35,
    "start_time": "2025-05-16T06:16:37.299Z"
   },
   {
    "duration": 18,
    "start_time": "2025-05-16T06:16:37.335Z"
   },
   {
    "duration": 5,
    "start_time": "2025-05-16T06:16:37.354Z"
   },
   {
    "duration": 15,
    "start_time": "2025-05-16T06:16:37.360Z"
   },
   {
    "duration": 24,
    "start_time": "2025-05-16T06:16:37.376Z"
   },
   {
    "duration": 18,
    "start_time": "2025-05-16T06:16:37.402Z"
   },
   {
    "duration": 11,
    "start_time": "2025-05-16T06:16:37.422Z"
   },
   {
    "duration": 14,
    "start_time": "2025-05-16T06:16:37.435Z"
   },
   {
    "duration": 13,
    "start_time": "2025-05-16T06:16:37.451Z"
   },
   {
    "duration": 134,
    "start_time": "2025-05-16T06:16:37.466Z"
   },
   {
    "duration": 18,
    "start_time": "2025-05-16T06:16:37.602Z"
   },
   {
    "duration": 15,
    "start_time": "2025-05-16T06:16:37.622Z"
   },
   {
    "duration": 7,
    "start_time": "2025-05-16T06:16:37.638Z"
   },
   {
    "duration": 9,
    "start_time": "2025-05-16T06:16:37.649Z"
   },
   {
    "duration": 5,
    "start_time": "2025-05-16T06:16:37.660Z"
   },
   {
    "duration": 16,
    "start_time": "2025-05-16T06:16:37.667Z"
   },
   {
    "duration": 30,
    "start_time": "2025-05-16T06:16:37.685Z"
   },
   {
    "duration": 26,
    "start_time": "2025-05-16T06:16:37.717Z"
   },
   {
    "duration": 9,
    "start_time": "2025-05-16T06:16:37.745Z"
   },
   {
    "duration": 20,
    "start_time": "2025-05-16T06:19:24.937Z"
   },
   {
    "duration": 52,
    "start_time": "2025-05-16T09:05:28.066Z"
   },
   {
    "duration": 474,
    "start_time": "2025-05-16T09:05:36.560Z"
   },
   {
    "duration": 121,
    "start_time": "2025-05-16T09:05:37.036Z"
   },
   {
    "duration": 22,
    "start_time": "2025-05-16T09:05:37.158Z"
   },
   {
    "duration": 18,
    "start_time": "2025-05-16T09:05:37.182Z"
   },
   {
    "duration": 2,
    "start_time": "2025-05-16T09:05:37.202Z"
   },
   {
    "duration": 8,
    "start_time": "2025-05-16T09:05:37.206Z"
   },
   {
    "duration": 3,
    "start_time": "2025-05-16T09:05:37.216Z"
   },
   {
    "duration": 6,
    "start_time": "2025-05-16T09:05:37.221Z"
   },
   {
    "duration": 37,
    "start_time": "2025-05-16T09:05:37.229Z"
   },
   {
    "duration": 10,
    "start_time": "2025-05-16T09:05:37.270Z"
   },
   {
    "duration": 18,
    "start_time": "2025-05-16T09:05:37.282Z"
   },
   {
    "duration": 13,
    "start_time": "2025-05-16T09:05:37.302Z"
   },
   {
    "duration": 17,
    "start_time": "2025-05-16T09:05:37.317Z"
   },
   {
    "duration": 25,
    "start_time": "2025-05-16T09:05:37.336Z"
   },
   {
    "duration": 92,
    "start_time": "2025-05-16T09:05:37.363Z"
   },
   {
    "duration": 12,
    "start_time": "2025-05-16T09:05:37.457Z"
   },
   {
    "duration": 6,
    "start_time": "2025-05-16T09:05:37.471Z"
   },
   {
    "duration": 7,
    "start_time": "2025-05-16T09:05:37.479Z"
   },
   {
    "duration": 6,
    "start_time": "2025-05-16T09:05:37.488Z"
   },
   {
    "duration": 4,
    "start_time": "2025-05-16T09:05:37.496Z"
   },
   {
    "duration": 199,
    "start_time": "2025-05-16T09:05:37.501Z"
   },
   {
    "duration": 4,
    "start_time": "2025-05-16T09:05:37.701Z"
   },
   {
    "duration": 216,
    "start_time": "2025-05-16T09:05:37.706Z"
   },
   {
    "duration": 12,
    "start_time": "2025-05-16T09:05:37.923Z"
   },
   {
    "duration": 17,
    "start_time": "2025-05-16T09:05:37.936Z"
   },
   {
    "duration": 10,
    "start_time": "2025-05-16T09:05:37.954Z"
   },
   {
    "duration": 12,
    "start_time": "2025-05-16T09:05:37.965Z"
   },
   {
    "duration": 6,
    "start_time": "2025-05-16T09:05:37.980Z"
   },
   {
    "duration": 27,
    "start_time": "2025-05-16T09:05:37.987Z"
   },
   {
    "duration": 167,
    "start_time": "2025-05-16T09:05:38.016Z"
   },
   {
    "duration": 14,
    "start_time": "2025-05-16T09:05:38.185Z"
   },
   {
    "duration": 10,
    "start_time": "2025-05-16T09:05:38.201Z"
   },
   {
    "duration": 10,
    "start_time": "2025-05-16T09:05:38.212Z"
   },
   {
    "duration": 5,
    "start_time": "2025-05-16T09:05:38.224Z"
   },
   {
    "duration": 7,
    "start_time": "2025-05-16T09:05:38.231Z"
   },
   {
    "duration": 13,
    "start_time": "2025-05-16T09:05:38.240Z"
   },
   {
    "duration": 5,
    "start_time": "2025-05-16T09:05:38.255Z"
   },
   {
    "duration": 15,
    "start_time": "2025-05-16T09:05:38.262Z"
   },
   {
    "duration": 7,
    "start_time": "2025-05-16T09:05:38.278Z"
   },
   {
    "duration": 9,
    "start_time": "2025-05-16T09:05:38.287Z"
   },
   {
    "duration": 22,
    "start_time": "2025-05-16T09:05:38.298Z"
   },
   {
    "duration": 9,
    "start_time": "2025-05-16T09:05:38.321Z"
   },
   {
    "duration": 36,
    "start_time": "2025-05-16T09:05:38.331Z"
   },
   {
    "duration": 14,
    "start_time": "2025-05-16T09:05:38.369Z"
   },
   {
    "duration": 9,
    "start_time": "2025-05-16T09:05:38.385Z"
   },
   {
    "duration": 9,
    "start_time": "2025-05-16T09:05:38.396Z"
   },
   {
    "duration": 17,
    "start_time": "2025-05-16T09:07:18.870Z"
   },
   {
    "duration": 5,
    "start_time": "2025-05-16T09:11:13.266Z"
   },
   {
    "duration": 8,
    "start_time": "2025-05-16T09:12:02.565Z"
   },
   {
    "duration": 1414,
    "start_time": "2025-05-16T09:12:26.916Z"
   },
   {
    "duration": 1354,
    "start_time": "2025-05-16T09:12:28.554Z"
   },
   {
    "duration": 6,
    "start_time": "2025-05-16T09:12:54.210Z"
   },
   {
    "duration": 6,
    "start_time": "2025-05-16T09:12:59.181Z"
   },
   {
    "duration": 3,
    "start_time": "2025-05-16T09:13:15.691Z"
   },
   {
    "duration": 171,
    "start_time": "2025-05-16T09:13:15.697Z"
   },
   {
    "duration": 15,
    "start_time": "2025-05-16T09:13:15.871Z"
   },
   {
    "duration": 20,
    "start_time": "2025-05-16T09:13:15.887Z"
   },
   {
    "duration": 2,
    "start_time": "2025-05-16T09:13:15.910Z"
   },
   {
    "duration": 8,
    "start_time": "2025-05-16T09:13:15.914Z"
   },
   {
    "duration": 16,
    "start_time": "2025-05-16T09:13:15.924Z"
   },
   {
    "duration": 20,
    "start_time": "2025-05-16T09:13:15.942Z"
   },
   {
    "duration": 5,
    "start_time": "2025-05-16T09:13:15.964Z"
   },
   {
    "duration": 6,
    "start_time": "2025-05-16T09:13:15.971Z"
   },
   {
    "duration": 6,
    "start_time": "2025-05-16T09:13:15.980Z"
   },
   {
    "duration": 15,
    "start_time": "2025-05-16T09:13:15.988Z"
   },
   {
    "duration": 144,
    "start_time": "2025-05-16T09:13:16.005Z"
   },
   {
    "duration": 68,
    "start_time": "2025-05-16T09:13:16.151Z"
   },
   {
    "duration": 9,
    "start_time": "2025-05-16T09:13:16.221Z"
   },
   {
    "duration": 9,
    "start_time": "2025-05-16T09:13:16.231Z"
   },
   {
    "duration": 10,
    "start_time": "2025-05-16T09:13:16.241Z"
   },
   {
    "duration": 13,
    "start_time": "2025-05-16T09:13:16.252Z"
   },
   {
    "duration": 5,
    "start_time": "2025-05-16T09:13:16.266Z"
   },
   {
    "duration": 6,
    "start_time": "2025-05-16T09:13:16.273Z"
   },
   {
    "duration": 9,
    "start_time": "2025-05-16T09:13:16.280Z"
   },
   {
    "duration": 8,
    "start_time": "2025-05-16T09:13:16.291Z"
   },
   {
    "duration": 6,
    "start_time": "2025-05-16T09:13:16.300Z"
   },
   {
    "duration": 3,
    "start_time": "2025-05-16T09:13:16.308Z"
   },
   {
    "duration": 214,
    "start_time": "2025-05-16T09:13:16.313Z"
   },
   {
    "duration": 4,
    "start_time": "2025-05-16T09:13:16.529Z"
   },
   {
    "duration": 214,
    "start_time": "2025-05-16T09:13:16.534Z"
   },
   {
    "duration": 16,
    "start_time": "2025-05-16T09:13:16.750Z"
   },
   {
    "duration": 5,
    "start_time": "2025-05-16T09:13:16.769Z"
   },
   {
    "duration": 5,
    "start_time": "2025-05-16T09:13:16.776Z"
   },
   {
    "duration": 9,
    "start_time": "2025-05-16T09:13:16.783Z"
   },
   {
    "duration": 17,
    "start_time": "2025-05-16T09:13:16.794Z"
   },
   {
    "duration": 7,
    "start_time": "2025-05-16T09:13:16.813Z"
   },
   {
    "duration": 4,
    "start_time": "2025-05-16T09:13:16.822Z"
   },
   {
    "duration": 8,
    "start_time": "2025-05-16T09:13:16.860Z"
   },
   {
    "duration": 10,
    "start_time": "2025-05-16T09:13:16.870Z"
   },
   {
    "duration": 13,
    "start_time": "2025-05-16T09:13:16.881Z"
   },
   {
    "duration": 3,
    "start_time": "2025-05-16T09:13:16.896Z"
   },
   {
    "duration": 7,
    "start_time": "2025-05-16T09:13:16.901Z"
   },
   {
    "duration": 7,
    "start_time": "2025-05-16T09:13:16.909Z"
   },
   {
    "duration": 4,
    "start_time": "2025-05-16T09:13:16.918Z"
   },
   {
    "duration": 51,
    "start_time": "2025-05-16T09:13:16.923Z"
   },
   {
    "duration": 12,
    "start_time": "2025-05-16T09:13:16.976Z"
   },
   {
    "duration": 0,
    "start_time": "2025-05-16T09:13:16.990Z"
   },
   {
    "duration": 0,
    "start_time": "2025-05-16T09:13:16.992Z"
   },
   {
    "duration": 0,
    "start_time": "2025-05-16T09:13:16.992Z"
   },
   {
    "duration": 0,
    "start_time": "2025-05-16T09:13:16.993Z"
   },
   {
    "duration": 0,
    "start_time": "2025-05-16T09:13:16.995Z"
   },
   {
    "duration": 0,
    "start_time": "2025-05-16T09:13:16.996Z"
   },
   {
    "duration": 6,
    "start_time": "2025-05-16T09:15:06.342Z"
   },
   {
    "duration": 2,
    "start_time": "2025-05-16T09:17:21.610Z"
   },
   {
    "duration": 129,
    "start_time": "2025-05-16T09:17:21.614Z"
   },
   {
    "duration": 15,
    "start_time": "2025-05-16T09:17:21.745Z"
   },
   {
    "duration": 48,
    "start_time": "2025-05-16T09:17:21.761Z"
   },
   {
    "duration": 34,
    "start_time": "2025-05-16T09:17:21.812Z"
   },
   {
    "duration": 7,
    "start_time": "2025-05-16T09:17:21.848Z"
   },
   {
    "duration": 11,
    "start_time": "2025-05-16T09:17:21.857Z"
   },
   {
    "duration": 8,
    "start_time": "2025-05-16T09:17:21.870Z"
   },
   {
    "duration": 6,
    "start_time": "2025-05-16T09:17:21.880Z"
   },
   {
    "duration": 18,
    "start_time": "2025-05-16T09:17:21.888Z"
   },
   {
    "duration": 7,
    "start_time": "2025-05-16T09:17:21.908Z"
   },
   {
    "duration": 6,
    "start_time": "2025-05-16T09:17:21.917Z"
   },
   {
    "duration": 26,
    "start_time": "2025-05-16T09:17:21.925Z"
   },
   {
    "duration": 10,
    "start_time": "2025-05-16T09:17:21.960Z"
   },
   {
    "duration": 13,
    "start_time": "2025-05-16T09:17:21.972Z"
   },
   {
    "duration": 8,
    "start_time": "2025-05-16T09:17:21.987Z"
   },
   {
    "duration": 11,
    "start_time": "2025-05-16T09:17:21.997Z"
   },
   {
    "duration": 14,
    "start_time": "2025-05-16T09:17:22.010Z"
   },
   {
    "duration": 39,
    "start_time": "2025-05-16T09:17:22.026Z"
   },
   {
    "duration": 24,
    "start_time": "2025-05-16T09:17:22.067Z"
   },
   {
    "duration": 57,
    "start_time": "2025-05-16T09:17:22.093Z"
   },
   {
    "duration": 104,
    "start_time": "2025-05-16T09:17:22.153Z"
   },
   {
    "duration": 15,
    "start_time": "2025-05-16T09:17:22.259Z"
   },
   {
    "duration": 3,
    "start_time": "2025-05-16T09:17:22.276Z"
   },
   {
    "duration": 213,
    "start_time": "2025-05-16T09:17:22.281Z"
   },
   {
    "duration": 3,
    "start_time": "2025-05-16T09:17:22.496Z"
   },
   {
    "duration": 185,
    "start_time": "2025-05-16T09:17:22.501Z"
   },
   {
    "duration": 12,
    "start_time": "2025-05-16T09:17:22.688Z"
   },
   {
    "duration": 44,
    "start_time": "2025-05-16T09:17:22.702Z"
   },
   {
    "duration": 10,
    "start_time": "2025-05-16T09:17:22.748Z"
   },
   {
    "duration": 9,
    "start_time": "2025-05-16T09:17:22.760Z"
   },
   {
    "duration": 10,
    "start_time": "2025-05-16T09:17:22.771Z"
   },
   {
    "duration": 84,
    "start_time": "2025-05-16T09:17:22.783Z"
   },
   {
    "duration": 5,
    "start_time": "2025-05-16T09:17:22.869Z"
   },
   {
    "duration": 8,
    "start_time": "2025-05-16T09:17:22.876Z"
   },
   {
    "duration": 10,
    "start_time": "2025-05-16T09:17:22.886Z"
   },
   {
    "duration": 36,
    "start_time": "2025-05-16T09:17:22.898Z"
   },
   {
    "duration": 4,
    "start_time": "2025-05-16T09:17:22.936Z"
   },
   {
    "duration": 35,
    "start_time": "2025-05-16T09:17:22.942Z"
   },
   {
    "duration": 9,
    "start_time": "2025-05-16T09:17:22.980Z"
   },
   {
    "duration": 6,
    "start_time": "2025-05-16T09:17:22.993Z"
   },
   {
    "duration": 21,
    "start_time": "2025-05-16T09:17:23.002Z"
   },
   {
    "duration": 18,
    "start_time": "2025-05-16T09:17:23.025Z"
   },
   {
    "duration": 0,
    "start_time": "2025-05-16T09:17:23.045Z"
   },
   {
    "duration": 0,
    "start_time": "2025-05-16T09:17:23.047Z"
   },
   {
    "duration": 0,
    "start_time": "2025-05-16T09:17:23.061Z"
   },
   {
    "duration": 0,
    "start_time": "2025-05-16T09:17:23.062Z"
   },
   {
    "duration": 0,
    "start_time": "2025-05-16T09:17:23.064Z"
   },
   {
    "duration": 0,
    "start_time": "2025-05-16T09:17:23.065Z"
   },
   {
    "duration": 110,
    "start_time": "2025-05-16T09:18:41.681Z"
   },
   {
    "duration": 89,
    "start_time": "2025-05-16T09:19:24.474Z"
   },
   {
    "duration": 90,
    "start_time": "2025-05-16T09:19:31.406Z"
   },
   {
    "duration": 84,
    "start_time": "2025-05-16T09:20:30.053Z"
   },
   {
    "duration": 98,
    "start_time": "2025-05-16T09:20:37.860Z"
   },
   {
    "duration": 4,
    "start_time": "2025-05-16T09:23:30.881Z"
   },
   {
    "duration": 5,
    "start_time": "2025-05-16T09:23:50.538Z"
   },
   {
    "duration": 5,
    "start_time": "2025-05-16T09:24:01.364Z"
   },
   {
    "duration": 9,
    "start_time": "2025-05-16T09:35:37.511Z"
   },
   {
    "duration": 10,
    "start_time": "2025-05-16T09:35:39.314Z"
   },
   {
    "duration": 3,
    "start_time": "2025-05-16T09:36:48.391Z"
   },
   {
    "duration": 130,
    "start_time": "2025-05-16T09:36:48.396Z"
   },
   {
    "duration": 14,
    "start_time": "2025-05-16T09:36:48.527Z"
   },
   {
    "duration": 19,
    "start_time": "2025-05-16T09:36:48.544Z"
   },
   {
    "duration": 3,
    "start_time": "2025-05-16T09:36:48.564Z"
   },
   {
    "duration": 5,
    "start_time": "2025-05-16T09:36:48.569Z"
   },
   {
    "duration": 4,
    "start_time": "2025-05-16T09:36:48.575Z"
   },
   {
    "duration": 8,
    "start_time": "2025-05-16T09:36:48.580Z"
   },
   {
    "duration": 5,
    "start_time": "2025-05-16T09:36:48.591Z"
   },
   {
    "duration": 6,
    "start_time": "2025-05-16T09:36:48.598Z"
   },
   {
    "duration": 10,
    "start_time": "2025-05-16T09:36:48.605Z"
   },
   {
    "duration": 44,
    "start_time": "2025-05-16T09:36:48.617Z"
   },
   {
    "duration": 19,
    "start_time": "2025-05-16T09:36:48.663Z"
   },
   {
    "duration": 10,
    "start_time": "2025-05-16T09:36:48.684Z"
   },
   {
    "duration": 15,
    "start_time": "2025-05-16T09:36:48.697Z"
   },
   {
    "duration": 17,
    "start_time": "2025-05-16T09:36:48.714Z"
   },
   {
    "duration": 29,
    "start_time": "2025-05-16T09:36:48.733Z"
   },
   {
    "duration": 11,
    "start_time": "2025-05-16T09:36:48.764Z"
   },
   {
    "duration": 7,
    "start_time": "2025-05-16T09:36:48.778Z"
   },
   {
    "duration": 9,
    "start_time": "2025-05-16T09:36:48.787Z"
   },
   {
    "duration": 8,
    "start_time": "2025-05-16T09:36:48.797Z"
   },
   {
    "duration": 9,
    "start_time": "2025-05-16T09:36:48.807Z"
   },
   {
    "duration": 43,
    "start_time": "2025-05-16T09:36:48.818Z"
   },
   {
    "duration": 9,
    "start_time": "2025-05-16T09:36:48.866Z"
   },
   {
    "duration": 5,
    "start_time": "2025-05-16T09:36:48.877Z"
   },
   {
    "duration": 10,
    "start_time": "2025-05-16T09:36:48.884Z"
   },
   {
    "duration": 234,
    "start_time": "2025-05-16T09:36:48.895Z"
   },
   {
    "duration": 3,
    "start_time": "2025-05-16T09:36:49.131Z"
   },
   {
    "duration": 189,
    "start_time": "2025-05-16T09:36:49.136Z"
   },
   {
    "duration": 13,
    "start_time": "2025-05-16T09:36:49.327Z"
   },
   {
    "duration": 22,
    "start_time": "2025-05-16T09:36:49.342Z"
   },
   {
    "duration": 7,
    "start_time": "2025-05-16T09:36:49.367Z"
   },
   {
    "duration": 12,
    "start_time": "2025-05-16T09:36:49.377Z"
   },
   {
    "duration": 7,
    "start_time": "2025-05-16T09:36:49.391Z"
   },
   {
    "duration": 6,
    "start_time": "2025-05-16T09:36:49.400Z"
   },
   {
    "duration": 15,
    "start_time": "2025-05-16T09:36:49.407Z"
   },
   {
    "duration": 42,
    "start_time": "2025-05-16T09:36:49.423Z"
   },
   {
    "duration": 8,
    "start_time": "2025-05-16T09:36:49.467Z"
   },
   {
    "duration": 66,
    "start_time": "2025-05-16T09:36:49.476Z"
   },
   {
    "duration": 3,
    "start_time": "2025-05-16T09:36:49.544Z"
   },
   {
    "duration": 3,
    "start_time": "2025-05-16T09:36:49.549Z"
   },
   {
    "duration": 13,
    "start_time": "2025-05-16T09:36:49.554Z"
   },
   {
    "duration": 5,
    "start_time": "2025-05-16T09:36:49.568Z"
   },
   {
    "duration": 15,
    "start_time": "2025-05-16T09:36:49.574Z"
   },
   {
    "duration": 11,
    "start_time": "2025-05-16T09:36:49.590Z"
   },
   {
    "duration": 0,
    "start_time": "2025-05-16T09:36:49.603Z"
   },
   {
    "duration": 0,
    "start_time": "2025-05-16T09:36:49.604Z"
   },
   {
    "duration": 0,
    "start_time": "2025-05-16T09:36:49.605Z"
   },
   {
    "duration": 1,
    "start_time": "2025-05-16T09:36:49.606Z"
   },
   {
    "duration": 0,
    "start_time": "2025-05-16T09:36:49.608Z"
   },
   {
    "duration": 0,
    "start_time": "2025-05-16T09:36:49.609Z"
   },
   {
    "duration": 5,
    "start_time": "2025-05-16T09:38:39.481Z"
   },
   {
    "duration": 5,
    "start_time": "2025-05-16T09:38:43.280Z"
   },
   {
    "duration": 21,
    "start_time": "2025-05-16T09:40:52.477Z"
   },
   {
    "duration": 3,
    "start_time": "2025-05-16T09:41:01.161Z"
   },
   {
    "duration": 96,
    "start_time": "2025-05-16T09:41:01.166Z"
   },
   {
    "duration": 15,
    "start_time": "2025-05-16T09:41:01.264Z"
   },
   {
    "duration": 25,
    "start_time": "2025-05-16T09:41:01.281Z"
   },
   {
    "duration": 2,
    "start_time": "2025-05-16T09:41:01.309Z"
   },
   {
    "duration": 14,
    "start_time": "2025-05-16T09:41:01.313Z"
   },
   {
    "duration": 14,
    "start_time": "2025-05-16T09:41:01.329Z"
   },
   {
    "duration": 18,
    "start_time": "2025-05-16T09:41:01.345Z"
   },
   {
    "duration": 6,
    "start_time": "2025-05-16T09:41:01.365Z"
   },
   {
    "duration": 7,
    "start_time": "2025-05-16T09:41:01.373Z"
   },
   {
    "duration": 5,
    "start_time": "2025-05-16T09:41:01.384Z"
   },
   {
    "duration": 10,
    "start_time": "2025-05-16T09:41:01.391Z"
   },
   {
    "duration": 27,
    "start_time": "2025-05-16T09:41:01.403Z"
   },
   {
    "duration": 34,
    "start_time": "2025-05-16T09:41:01.432Z"
   },
   {
    "duration": 45,
    "start_time": "2025-05-16T09:41:01.467Z"
   },
   {
    "duration": 11,
    "start_time": "2025-05-16T09:41:01.515Z"
   },
   {
    "duration": 12,
    "start_time": "2025-05-16T09:41:01.528Z"
   },
   {
    "duration": 37,
    "start_time": "2025-05-16T09:41:01.543Z"
   },
   {
    "duration": 5,
    "start_time": "2025-05-16T09:41:01.581Z"
   },
   {
    "duration": 7,
    "start_time": "2025-05-16T09:41:01.588Z"
   },
   {
    "duration": 7,
    "start_time": "2025-05-16T09:41:01.597Z"
   },
   {
    "duration": 22,
    "start_time": "2025-05-16T09:41:01.605Z"
   },
   {
    "duration": 8,
    "start_time": "2025-05-16T09:41:01.629Z"
   },
   {
    "duration": 25,
    "start_time": "2025-05-16T09:41:01.639Z"
   },
   {
    "duration": 6,
    "start_time": "2025-05-16T09:41:01.666Z"
   },
   {
    "duration": 7,
    "start_time": "2025-05-16T09:41:01.674Z"
   },
   {
    "duration": 206,
    "start_time": "2025-05-16T09:41:01.682Z"
   },
   {
    "duration": 5,
    "start_time": "2025-05-16T09:41:01.890Z"
   },
   {
    "duration": 190,
    "start_time": "2025-05-16T09:41:01.899Z"
   },
   {
    "duration": 12,
    "start_time": "2025-05-16T09:41:02.091Z"
   },
   {
    "duration": 96,
    "start_time": "2025-05-16T09:41:02.105Z"
   },
   {
    "duration": 139,
    "start_time": "2025-05-16T09:41:02.203Z"
   },
   {
    "duration": 48,
    "start_time": "2025-05-16T09:41:02.345Z"
   },
   {
    "duration": 5,
    "start_time": "2025-05-16T09:41:02.395Z"
   },
   {
    "duration": 17,
    "start_time": "2025-05-16T09:41:02.402Z"
   },
   {
    "duration": 24,
    "start_time": "2025-05-16T09:41:02.421Z"
   },
   {
    "duration": 43,
    "start_time": "2025-05-16T09:41:02.447Z"
   },
   {
    "duration": 13,
    "start_time": "2025-05-16T09:41:02.491Z"
   },
   {
    "duration": 58,
    "start_time": "2025-05-16T09:41:02.506Z"
   },
   {
    "duration": 3,
    "start_time": "2025-05-16T09:41:02.566Z"
   },
   {
    "duration": 18,
    "start_time": "2025-05-16T09:41:02.571Z"
   },
   {
    "duration": 9,
    "start_time": "2025-05-16T09:41:02.591Z"
   },
   {
    "duration": 4,
    "start_time": "2025-05-16T09:41:02.602Z"
   },
   {
    "duration": 43,
    "start_time": "2025-05-16T09:41:02.608Z"
   },
   {
    "duration": 40,
    "start_time": "2025-05-16T09:41:02.654Z"
   },
   {
    "duration": 0,
    "start_time": "2025-05-16T09:41:02.696Z"
   },
   {
    "duration": 0,
    "start_time": "2025-05-16T09:41:02.698Z"
   },
   {
    "duration": 0,
    "start_time": "2025-05-16T09:41:02.699Z"
   },
   {
    "duration": 0,
    "start_time": "2025-05-16T09:41:02.701Z"
   },
   {
    "duration": 0,
    "start_time": "2025-05-16T09:41:02.702Z"
   },
   {
    "duration": 0,
    "start_time": "2025-05-16T09:41:02.704Z"
   },
   {
    "duration": 19,
    "start_time": "2025-05-16T09:41:29.109Z"
   },
   {
    "duration": 18,
    "start_time": "2025-05-16T09:41:45.962Z"
   },
   {
    "duration": 18,
    "start_time": "2025-05-16T09:42:04.610Z"
   },
   {
    "duration": 17,
    "start_time": "2025-05-16T09:43:15.307Z"
   },
   {
    "duration": 19,
    "start_time": "2025-05-16T09:44:12.023Z"
   },
   {
    "duration": 17,
    "start_time": "2025-05-16T09:44:22.460Z"
   },
   {
    "duration": 27,
    "start_time": "2025-05-16T09:44:37.231Z"
   },
   {
    "duration": 17,
    "start_time": "2025-05-16T09:45:24.562Z"
   },
   {
    "duration": 91,
    "start_time": "2025-05-16T09:46:04.036Z"
   },
   {
    "duration": 19,
    "start_time": "2025-05-16T09:47:55.045Z"
   },
   {
    "duration": 2,
    "start_time": "2025-05-16T09:48:40.172Z"
   },
   {
    "duration": 93,
    "start_time": "2025-05-16T09:48:40.176Z"
   },
   {
    "duration": 14,
    "start_time": "2025-05-16T09:48:40.271Z"
   },
   {
    "duration": 18,
    "start_time": "2025-05-16T09:48:40.287Z"
   },
   {
    "duration": 2,
    "start_time": "2025-05-16T09:48:40.308Z"
   },
   {
    "duration": 5,
    "start_time": "2025-05-16T09:48:40.312Z"
   },
   {
    "duration": 7,
    "start_time": "2025-05-16T09:48:40.319Z"
   },
   {
    "duration": 35,
    "start_time": "2025-05-16T09:48:40.327Z"
   },
   {
    "duration": 12,
    "start_time": "2025-05-16T09:48:40.363Z"
   },
   {
    "duration": 8,
    "start_time": "2025-05-16T09:48:40.377Z"
   },
   {
    "duration": 5,
    "start_time": "2025-05-16T09:48:40.388Z"
   },
   {
    "duration": 8,
    "start_time": "2025-05-16T09:48:40.395Z"
   },
   {
    "duration": 11,
    "start_time": "2025-05-16T09:48:40.405Z"
   },
   {
    "duration": 11,
    "start_time": "2025-05-16T09:48:40.417Z"
   },
   {
    "duration": 79,
    "start_time": "2025-05-16T09:48:40.430Z"
   },
   {
    "duration": 7,
    "start_time": "2025-05-16T09:48:40.510Z"
   },
   {
    "duration": 9,
    "start_time": "2025-05-16T09:48:40.519Z"
   },
   {
    "duration": 35,
    "start_time": "2025-05-16T09:48:40.530Z"
   },
   {
    "duration": 10,
    "start_time": "2025-05-16T09:48:40.567Z"
   },
   {
    "duration": 11,
    "start_time": "2025-05-16T09:48:40.579Z"
   },
   {
    "duration": 6,
    "start_time": "2025-05-16T09:48:40.592Z"
   },
   {
    "duration": 12,
    "start_time": "2025-05-16T09:48:40.600Z"
   },
   {
    "duration": 8,
    "start_time": "2025-05-16T09:48:40.614Z"
   },
   {
    "duration": 8,
    "start_time": "2025-05-16T09:48:40.624Z"
   },
   {
    "duration": 31,
    "start_time": "2025-05-16T09:48:40.634Z"
   },
   {
    "duration": 4,
    "start_time": "2025-05-16T09:48:40.666Z"
   },
   {
    "duration": 194,
    "start_time": "2025-05-16T09:48:40.672Z"
   },
   {
    "duration": 3,
    "start_time": "2025-05-16T09:48:40.868Z"
   },
   {
    "duration": 193,
    "start_time": "2025-05-16T09:48:40.875Z"
   },
   {
    "duration": 13,
    "start_time": "2025-05-16T09:48:41.070Z"
   },
   {
    "duration": 10,
    "start_time": "2025-05-16T09:48:41.084Z"
   },
   {
    "duration": 16,
    "start_time": "2025-05-16T09:48:41.095Z"
   },
   {
    "duration": 22,
    "start_time": "2025-05-16T09:48:41.113Z"
   },
   {
    "duration": 8,
    "start_time": "2025-05-16T09:48:41.137Z"
   },
   {
    "duration": 14,
    "start_time": "2025-05-16T09:48:41.147Z"
   },
   {
    "duration": 6,
    "start_time": "2025-05-16T09:48:41.163Z"
   },
   {
    "duration": 18,
    "start_time": "2025-05-16T09:48:41.171Z"
   },
   {
    "duration": 19,
    "start_time": "2025-05-16T09:48:41.191Z"
   },
   {
    "duration": 3,
    "start_time": "2025-05-16T09:48:41.212Z"
   },
   {
    "duration": 41,
    "start_time": "2025-05-16T09:48:41.217Z"
   },
   {
    "duration": 8,
    "start_time": "2025-05-16T09:48:41.260Z"
   },
   {
    "duration": 4,
    "start_time": "2025-05-16T09:48:41.270Z"
   },
   {
    "duration": 16,
    "start_time": "2025-05-16T09:48:41.275Z"
   },
   {
    "duration": 23,
    "start_time": "2025-05-16T09:48:41.293Z"
   },
   {
    "duration": 0,
    "start_time": "2025-05-16T09:48:41.318Z"
   },
   {
    "duration": 0,
    "start_time": "2025-05-16T09:48:41.320Z"
   },
   {
    "duration": 0,
    "start_time": "2025-05-16T09:48:41.321Z"
   },
   {
    "duration": 0,
    "start_time": "2025-05-16T09:48:41.323Z"
   },
   {
    "duration": 0,
    "start_time": "2025-05-16T09:48:41.325Z"
   },
   {
    "duration": 1,
    "start_time": "2025-05-16T09:48:41.326Z"
   },
   {
    "duration": 16,
    "start_time": "2025-05-16T09:51:12.439Z"
   },
   {
    "duration": 17,
    "start_time": "2025-05-16T09:52:08.245Z"
   },
   {
    "duration": 4,
    "start_time": "2025-05-16T09:52:37.744Z"
   },
   {
    "duration": 5,
    "start_time": "2025-05-16T09:52:42.887Z"
   },
   {
    "duration": 5,
    "start_time": "2025-05-16T09:52:46.642Z"
   },
   {
    "duration": 18,
    "start_time": "2025-05-16T09:52:52.670Z"
   },
   {
    "duration": 16,
    "start_time": "2025-05-16T09:52:54.838Z"
   },
   {
    "duration": 10,
    "start_time": "2025-05-16T09:54:44.393Z"
   },
   {
    "duration": 3,
    "start_time": "2025-05-16T09:54:49.378Z"
   },
   {
    "duration": 16,
    "start_time": "2025-05-16T09:54:55.569Z"
   },
   {
    "duration": 6,
    "start_time": "2025-05-16T09:56:44.892Z"
   },
   {
    "duration": 9,
    "start_time": "2025-05-16T09:58:17.360Z"
   },
   {
    "duration": 7,
    "start_time": "2025-05-16T09:59:20.387Z"
   },
   {
    "duration": 4,
    "start_time": "2025-05-16T10:01:02.948Z"
   },
   {
    "duration": 2,
    "start_time": "2025-05-16T10:01:09.370Z"
   },
   {
    "duration": 126,
    "start_time": "2025-05-16T10:01:09.377Z"
   },
   {
    "duration": 15,
    "start_time": "2025-05-16T10:01:09.505Z"
   },
   {
    "duration": 148,
    "start_time": "2025-05-16T10:01:09.522Z"
   },
   {
    "duration": 3,
    "start_time": "2025-05-16T10:01:09.672Z"
   },
   {
    "duration": 10,
    "start_time": "2025-05-16T10:01:09.677Z"
   },
   {
    "duration": 5,
    "start_time": "2025-05-16T10:01:09.688Z"
   },
   {
    "duration": 6,
    "start_time": "2025-05-16T10:01:09.695Z"
   },
   {
    "duration": 5,
    "start_time": "2025-05-16T10:01:09.703Z"
   },
   {
    "duration": 6,
    "start_time": "2025-05-16T10:01:09.709Z"
   },
   {
    "duration": 5,
    "start_time": "2025-05-16T10:01:09.717Z"
   },
   {
    "duration": 42,
    "start_time": "2025-05-16T10:01:09.724Z"
   },
   {
    "duration": 8,
    "start_time": "2025-05-16T10:01:09.767Z"
   },
   {
    "duration": 10,
    "start_time": "2025-05-16T10:01:09.777Z"
   },
   {
    "duration": 11,
    "start_time": "2025-05-16T10:01:09.790Z"
   },
   {
    "duration": 15,
    "start_time": "2025-05-16T10:01:09.803Z"
   },
   {
    "duration": 41,
    "start_time": "2025-05-16T10:01:09.819Z"
   },
   {
    "duration": 66,
    "start_time": "2025-05-16T10:01:09.862Z"
   },
   {
    "duration": 27,
    "start_time": "2025-05-16T10:01:09.930Z"
   },
   {
    "duration": 10,
    "start_time": "2025-05-16T10:01:09.959Z"
   },
   {
    "duration": 8,
    "start_time": "2025-05-16T10:01:09.971Z"
   },
   {
    "duration": 8,
    "start_time": "2025-05-16T10:01:09.981Z"
   },
   {
    "duration": 13,
    "start_time": "2025-05-16T10:01:09.990Z"
   },
   {
    "duration": 17,
    "start_time": "2025-05-16T10:01:10.005Z"
   },
   {
    "duration": 53,
    "start_time": "2025-05-16T10:01:10.024Z"
   },
   {
    "duration": 12,
    "start_time": "2025-05-16T10:01:10.079Z"
   },
   {
    "duration": 9,
    "start_time": "2025-05-16T10:01:10.093Z"
   },
   {
    "duration": 4,
    "start_time": "2025-05-16T10:01:10.104Z"
   },
   {
    "duration": 192,
    "start_time": "2025-05-16T10:01:10.109Z"
   },
   {
    "duration": 4,
    "start_time": "2025-05-16T10:01:10.303Z"
   },
   {
    "duration": 256,
    "start_time": "2025-05-16T10:01:10.308Z"
   },
   {
    "duration": 10,
    "start_time": "2025-05-16T10:01:10.566Z"
   },
   {
    "duration": 8,
    "start_time": "2025-05-16T10:01:10.578Z"
   },
   {
    "duration": 12,
    "start_time": "2025-05-16T10:01:10.588Z"
   },
   {
    "duration": 10,
    "start_time": "2025-05-16T10:01:10.602Z"
   },
   {
    "duration": 6,
    "start_time": "2025-05-16T10:01:10.613Z"
   },
   {
    "duration": 5,
    "start_time": "2025-05-16T10:01:10.621Z"
   },
   {
    "duration": 33,
    "start_time": "2025-05-16T10:01:10.627Z"
   },
   {
    "duration": 16,
    "start_time": "2025-05-16T10:01:10.662Z"
   },
   {
    "duration": 17,
    "start_time": "2025-05-16T10:01:10.680Z"
   },
   {
    "duration": 4,
    "start_time": "2025-05-16T10:01:10.698Z"
   },
   {
    "duration": 3,
    "start_time": "2025-05-16T10:01:10.706Z"
   },
   {
    "duration": 50,
    "start_time": "2025-05-16T10:01:10.711Z"
   },
   {
    "duration": 6,
    "start_time": "2025-05-16T10:01:10.763Z"
   },
   {
    "duration": 4,
    "start_time": "2025-05-16T10:01:10.771Z"
   },
   {
    "duration": 23,
    "start_time": "2025-05-16T10:01:10.777Z"
   },
   {
    "duration": 7,
    "start_time": "2025-05-16T10:01:10.801Z"
   },
   {
    "duration": 4,
    "start_time": "2025-05-16T10:01:10.810Z"
   },
   {
    "duration": 10,
    "start_time": "2025-05-16T10:01:10.815Z"
   },
   {
    "duration": 51,
    "start_time": "2025-05-16T10:01:10.826Z"
   },
   {
    "duration": 10,
    "start_time": "2025-05-16T10:01:10.878Z"
   },
   {
    "duration": 15,
    "start_time": "2025-05-16T10:01:10.889Z"
   },
   {
    "duration": 32,
    "start_time": "2025-05-16T10:01:10.905Z"
   },
   {
    "duration": 3,
    "start_time": "2025-05-16T10:05:59.124Z"
   },
   {
    "duration": 7,
    "start_time": "2025-05-16T10:06:01.515Z"
   },
   {
    "duration": 3,
    "start_time": "2025-05-16T10:07:16.538Z"
   },
   {
    "duration": 87,
    "start_time": "2025-05-16T10:07:16.543Z"
   },
   {
    "duration": 14,
    "start_time": "2025-05-16T10:07:16.632Z"
   },
   {
    "duration": 21,
    "start_time": "2025-05-16T10:07:16.648Z"
   },
   {
    "duration": 2,
    "start_time": "2025-05-16T10:07:16.671Z"
   },
   {
    "duration": 21,
    "start_time": "2025-05-16T10:07:16.675Z"
   },
   {
    "duration": 5,
    "start_time": "2025-05-16T10:07:16.698Z"
   },
   {
    "duration": 8,
    "start_time": "2025-05-16T10:07:16.705Z"
   },
   {
    "duration": 6,
    "start_time": "2025-05-16T10:07:16.717Z"
   },
   {
    "duration": 7,
    "start_time": "2025-05-16T10:07:16.725Z"
   },
   {
    "duration": 7,
    "start_time": "2025-05-16T10:07:16.761Z"
   },
   {
    "duration": 5,
    "start_time": "2025-05-16T10:07:16.771Z"
   },
   {
    "duration": 7,
    "start_time": "2025-05-16T10:07:16.778Z"
   },
   {
    "duration": 14,
    "start_time": "2025-05-16T10:07:16.787Z"
   },
   {
    "duration": 9,
    "start_time": "2025-05-16T10:07:16.803Z"
   },
   {
    "duration": 14,
    "start_time": "2025-05-16T10:07:16.814Z"
   },
   {
    "duration": 12,
    "start_time": "2025-05-16T10:07:16.861Z"
   },
   {
    "duration": 5,
    "start_time": "2025-05-16T10:07:16.875Z"
   },
   {
    "duration": 11,
    "start_time": "2025-05-16T10:07:16.881Z"
   },
   {
    "duration": 15,
    "start_time": "2025-05-16T10:07:16.894Z"
   },
   {
    "duration": 13,
    "start_time": "2025-05-16T10:07:16.911Z"
   },
   {
    "duration": 8,
    "start_time": "2025-05-16T10:07:16.926Z"
   },
   {
    "duration": 25,
    "start_time": "2025-05-16T10:07:16.935Z"
   },
   {
    "duration": 5,
    "start_time": "2025-05-16T10:07:16.964Z"
   },
   {
    "duration": 14,
    "start_time": "2025-05-16T10:07:16.970Z"
   },
   {
    "duration": 4,
    "start_time": "2025-05-16T10:07:16.986Z"
   },
   {
    "duration": 10,
    "start_time": "2025-05-16T10:07:16.991Z"
   },
   {
    "duration": 4,
    "start_time": "2025-05-16T10:07:17.002Z"
   },
   {
    "duration": 214,
    "start_time": "2025-05-16T10:07:17.008Z"
   },
   {
    "duration": 3,
    "start_time": "2025-05-16T10:07:17.224Z"
   },
   {
    "duration": 190,
    "start_time": "2025-05-16T10:07:17.229Z"
   },
   {
    "duration": 10,
    "start_time": "2025-05-16T10:07:17.421Z"
   },
   {
    "duration": 5,
    "start_time": "2025-05-16T10:07:17.433Z"
   },
   {
    "duration": 22,
    "start_time": "2025-05-16T10:07:17.439Z"
   },
   {
    "duration": 10,
    "start_time": "2025-05-16T10:07:17.463Z"
   },
   {
    "duration": 12,
    "start_time": "2025-05-16T10:07:17.475Z"
   },
   {
    "duration": 5,
    "start_time": "2025-05-16T10:07:17.489Z"
   },
   {
    "duration": 14,
    "start_time": "2025-05-16T10:07:17.495Z"
   },
   {
    "duration": 22,
    "start_time": "2025-05-16T10:07:17.511Z"
   },
   {
    "duration": 37,
    "start_time": "2025-05-16T10:07:17.536Z"
   },
   {
    "duration": 22,
    "start_time": "2025-05-16T10:07:17.575Z"
   },
   {
    "duration": 14,
    "start_time": "2025-05-16T10:07:17.599Z"
   },
   {
    "duration": 16,
    "start_time": "2025-05-16T10:07:17.615Z"
   },
   {
    "duration": 6,
    "start_time": "2025-05-16T10:07:17.633Z"
   },
   {
    "duration": 9,
    "start_time": "2025-05-16T10:07:17.641Z"
   },
   {
    "duration": 22,
    "start_time": "2025-05-16T10:07:17.651Z"
   },
   {
    "duration": 19,
    "start_time": "2025-05-16T10:07:17.675Z"
   },
   {
    "duration": 7,
    "start_time": "2025-05-16T10:07:17.696Z"
   },
   {
    "duration": 6,
    "start_time": "2025-05-16T10:07:17.705Z"
   },
   {
    "duration": 20,
    "start_time": "2025-05-16T10:07:17.713Z"
   },
   {
    "duration": 27,
    "start_time": "2025-05-16T10:07:17.735Z"
   },
   {
    "duration": 9,
    "start_time": "2025-05-16T10:07:17.763Z"
   },
   {
    "duration": 8,
    "start_time": "2025-05-16T10:07:17.774Z"
   },
   {
    "duration": 8,
    "start_time": "2025-05-16T10:09:47.696Z"
   },
   {
    "duration": 6,
    "start_time": "2025-05-16T10:18:13.338Z"
   },
   {
    "duration": 7,
    "start_time": "2025-05-16T10:20:05.806Z"
   },
   {
    "duration": 3,
    "start_time": "2025-05-16T10:22:51.177Z"
   },
   {
    "duration": 4,
    "start_time": "2025-05-16T10:23:02.678Z"
   },
   {
    "duration": 340,
    "start_time": "2025-05-16T10:24:51.377Z"
   },
   {
    "duration": 13,
    "start_time": "2025-05-16T10:25:32.891Z"
   },
   {
    "duration": 6,
    "start_time": "2025-05-16T10:28:11.882Z"
   },
   {
    "duration": 5,
    "start_time": "2025-05-16T10:28:24.738Z"
   },
   {
    "duration": 7,
    "start_time": "2025-05-16T10:29:40.179Z"
   },
   {
    "duration": 7,
    "start_time": "2025-05-16T10:29:43.862Z"
   },
   {
    "duration": 89,
    "start_time": "2025-05-16T10:30:14.861Z"
   },
   {
    "duration": 92,
    "start_time": "2025-05-16T10:30:51.667Z"
   },
   {
    "duration": 90,
    "start_time": "2025-05-16T10:31:52.327Z"
   },
   {
    "duration": 83,
    "start_time": "2025-05-16T10:32:02.829Z"
   },
   {
    "duration": 96,
    "start_time": "2025-05-16T12:08:56.604Z"
   },
   {
    "duration": 116,
    "start_time": "2025-05-16T12:09:06.316Z"
   },
   {
    "duration": 93,
    "start_time": "2025-05-16T12:10:36.613Z"
   },
   {
    "duration": 6,
    "start_time": "2025-05-16T12:14:28.020Z"
   },
   {
    "duration": 7,
    "start_time": "2025-05-16T12:14:33.608Z"
   },
   {
    "duration": 3,
    "start_time": "2025-05-16T12:16:00.597Z"
   },
   {
    "duration": 347,
    "start_time": "2025-05-16T12:16:00.602Z"
   },
   {
    "duration": 16,
    "start_time": "2025-05-16T12:16:00.951Z"
   },
   {
    "duration": 23,
    "start_time": "2025-05-16T12:16:00.969Z"
   },
   {
    "duration": 3,
    "start_time": "2025-05-16T12:16:00.995Z"
   },
   {
    "duration": 12,
    "start_time": "2025-05-16T12:16:01.000Z"
   },
   {
    "duration": 16,
    "start_time": "2025-05-16T12:16:01.013Z"
   },
   {
    "duration": 12,
    "start_time": "2025-05-16T12:16:01.031Z"
   },
   {
    "duration": 16,
    "start_time": "2025-05-16T12:16:01.045Z"
   },
   {
    "duration": 6,
    "start_time": "2025-05-16T12:16:01.064Z"
   },
   {
    "duration": 15,
    "start_time": "2025-05-16T12:16:01.073Z"
   },
   {
    "duration": 5,
    "start_time": "2025-05-16T12:16:01.090Z"
   },
   {
    "duration": 24,
    "start_time": "2025-05-16T12:16:01.097Z"
   },
   {
    "duration": 19,
    "start_time": "2025-05-16T12:16:01.123Z"
   },
   {
    "duration": 26,
    "start_time": "2025-05-16T12:16:01.144Z"
   },
   {
    "duration": 28,
    "start_time": "2025-05-16T12:16:01.172Z"
   },
   {
    "duration": 21,
    "start_time": "2025-05-16T12:16:01.202Z"
   },
   {
    "duration": 11,
    "start_time": "2025-05-16T12:16:01.227Z"
   },
   {
    "duration": 7,
    "start_time": "2025-05-16T12:16:01.240Z"
   },
   {
    "duration": 19,
    "start_time": "2025-05-16T12:16:01.248Z"
   },
   {
    "duration": 12,
    "start_time": "2025-05-16T12:16:01.269Z"
   },
   {
    "duration": 7,
    "start_time": "2025-05-16T12:16:01.284Z"
   },
   {
    "duration": 7,
    "start_time": "2025-05-16T12:16:01.293Z"
   },
   {
    "duration": 17,
    "start_time": "2025-05-16T12:16:01.302Z"
   },
   {
    "duration": 10,
    "start_time": "2025-05-16T12:16:01.320Z"
   },
   {
    "duration": 10,
    "start_time": "2025-05-16T12:16:01.332Z"
   },
   {
    "duration": 27,
    "start_time": "2025-05-16T12:16:01.344Z"
   },
   {
    "duration": 5,
    "start_time": "2025-05-16T12:16:01.374Z"
   },
   {
    "duration": 234,
    "start_time": "2025-05-16T12:16:01.384Z"
   },
   {
    "duration": 7,
    "start_time": "2025-05-16T12:16:01.620Z"
   },
   {
    "duration": 222,
    "start_time": "2025-05-16T12:16:01.629Z"
   },
   {
    "duration": 12,
    "start_time": "2025-05-16T12:16:01.853Z"
   },
   {
    "duration": 11,
    "start_time": "2025-05-16T12:16:01.867Z"
   },
   {
    "duration": 5,
    "start_time": "2025-05-16T12:16:01.880Z"
   },
   {
    "duration": 9,
    "start_time": "2025-05-16T12:16:01.887Z"
   },
   {
    "duration": 5,
    "start_time": "2025-05-16T12:16:01.898Z"
   },
   {
    "duration": 16,
    "start_time": "2025-05-16T12:16:01.904Z"
   },
   {
    "duration": 70,
    "start_time": "2025-05-16T12:16:01.929Z"
   },
   {
    "duration": 33,
    "start_time": "2025-05-16T12:16:02.001Z"
   },
   {
    "duration": 22,
    "start_time": "2025-05-16T12:16:02.036Z"
   },
   {
    "duration": 19,
    "start_time": "2025-05-16T12:16:02.059Z"
   },
   {
    "duration": 5,
    "start_time": "2025-05-16T12:16:02.079Z"
   },
   {
    "duration": 7,
    "start_time": "2025-05-16T12:16:02.086Z"
   },
   {
    "duration": 5,
    "start_time": "2025-05-16T12:16:02.094Z"
   },
   {
    "duration": 15,
    "start_time": "2025-05-16T12:16:02.100Z"
   },
   {
    "duration": 20,
    "start_time": "2025-05-16T12:16:02.117Z"
   },
   {
    "duration": 23,
    "start_time": "2025-05-16T12:16:02.139Z"
   },
   {
    "duration": 18,
    "start_time": "2025-05-16T12:16:02.172Z"
   },
   {
    "duration": 17,
    "start_time": "2025-05-16T12:16:02.192Z"
   },
   {
    "duration": 27,
    "start_time": "2025-05-16T12:16:02.211Z"
   },
   {
    "duration": 8,
    "start_time": "2025-05-16T12:16:02.239Z"
   },
   {
    "duration": 32,
    "start_time": "2025-05-16T12:16:02.249Z"
   },
   {
    "duration": 2,
    "start_time": "2025-05-16T12:27:55.357Z"
   },
   {
    "duration": 135,
    "start_time": "2025-05-16T12:27:55.361Z"
   },
   {
    "duration": 15,
    "start_time": "2025-05-16T12:27:55.498Z"
   },
   {
    "duration": 17,
    "start_time": "2025-05-16T12:27:55.514Z"
   },
   {
    "duration": 27,
    "start_time": "2025-05-16T12:27:55.534Z"
   },
   {
    "duration": 13,
    "start_time": "2025-05-16T12:27:55.563Z"
   },
   {
    "duration": 4,
    "start_time": "2025-05-16T12:27:55.578Z"
   },
   {
    "duration": 7,
    "start_time": "2025-05-16T12:27:55.584Z"
   },
   {
    "duration": 5,
    "start_time": "2025-05-16T12:27:55.593Z"
   },
   {
    "duration": 6,
    "start_time": "2025-05-16T12:27:55.600Z"
   },
   {
    "duration": 7,
    "start_time": "2025-05-16T12:27:55.609Z"
   },
   {
    "duration": 44,
    "start_time": "2025-05-16T12:27:55.618Z"
   },
   {
    "duration": 7,
    "start_time": "2025-05-16T12:27:55.664Z"
   },
   {
    "duration": 11,
    "start_time": "2025-05-16T12:27:55.673Z"
   },
   {
    "duration": 9,
    "start_time": "2025-05-16T12:27:55.685Z"
   },
   {
    "duration": 11,
    "start_time": "2025-05-16T12:27:55.696Z"
   },
   {
    "duration": 57,
    "start_time": "2025-05-16T12:27:55.709Z"
   },
   {
    "duration": 8,
    "start_time": "2025-05-16T12:27:55.768Z"
   },
   {
    "duration": 6,
    "start_time": "2025-05-16T12:27:55.778Z"
   },
   {
    "duration": 9,
    "start_time": "2025-05-16T12:27:55.786Z"
   },
   {
    "duration": 10,
    "start_time": "2025-05-16T12:27:55.798Z"
   },
   {
    "duration": 20,
    "start_time": "2025-05-16T12:27:55.811Z"
   },
   {
    "duration": 33,
    "start_time": "2025-05-16T12:27:55.833Z"
   },
   {
    "duration": 4,
    "start_time": "2025-05-16T12:27:55.868Z"
   },
   {
    "duration": 19,
    "start_time": "2025-05-16T12:27:55.874Z"
   },
   {
    "duration": 3,
    "start_time": "2025-05-16T12:27:55.895Z"
   },
   {
    "duration": 9,
    "start_time": "2025-05-16T12:27:55.900Z"
   },
   {
    "duration": 4,
    "start_time": "2025-05-16T12:27:55.910Z"
   },
   {
    "duration": 212,
    "start_time": "2025-05-16T12:27:55.917Z"
   },
   {
    "duration": 3,
    "start_time": "2025-05-16T12:27:56.131Z"
   },
   {
    "duration": 184,
    "start_time": "2025-05-16T12:27:56.137Z"
   },
   {
    "duration": 10,
    "start_time": "2025-05-16T12:27:56.323Z"
   },
   {
    "duration": 7,
    "start_time": "2025-05-16T12:27:56.335Z"
   },
   {
    "duration": 6,
    "start_time": "2025-05-16T12:27:56.360Z"
   },
   {
    "duration": 57,
    "start_time": "2025-05-16T12:27:56.368Z"
   },
   {
    "duration": 5,
    "start_time": "2025-05-16T12:27:56.427Z"
   },
   {
    "duration": 5,
    "start_time": "2025-05-16T12:27:56.434Z"
   },
   {
    "duration": 4,
    "start_time": "2025-05-16T12:27:56.441Z"
   },
   {
    "duration": 35,
    "start_time": "2025-05-16T12:27:56.447Z"
   },
   {
    "duration": 17,
    "start_time": "2025-05-16T12:27:56.484Z"
   },
   {
    "duration": 9,
    "start_time": "2025-05-16T12:27:56.503Z"
   },
   {
    "duration": 5,
    "start_time": "2025-05-16T12:27:56.514Z"
   },
   {
    "duration": 7,
    "start_time": "2025-05-16T12:27:56.520Z"
   },
   {
    "duration": 4,
    "start_time": "2025-05-16T12:27:56.529Z"
   },
   {
    "duration": 37,
    "start_time": "2025-05-16T12:27:56.535Z"
   },
   {
    "duration": 7,
    "start_time": "2025-05-16T12:27:56.573Z"
   },
   {
    "duration": 6,
    "start_time": "2025-05-16T12:27:56.582Z"
   },
   {
    "duration": 6,
    "start_time": "2025-05-16T12:27:56.590Z"
   },
   {
    "duration": 16,
    "start_time": "2025-05-16T12:27:56.598Z"
   },
   {
    "duration": 9,
    "start_time": "2025-05-16T12:27:56.616Z"
   },
   {
    "duration": 41,
    "start_time": "2025-05-16T12:27:56.627Z"
   },
   {
    "duration": 8,
    "start_time": "2025-05-16T12:27:56.670Z"
   },
   {
    "duration": 10,
    "start_time": "2025-05-16T12:30:14.119Z"
   },
   {
    "duration": 3,
    "start_time": "2025-05-16T12:32:31.645Z"
   },
   {
    "duration": 4,
    "start_time": "2025-05-16T12:32:48.317Z"
   },
   {
    "duration": 10,
    "start_time": "2025-05-16T12:32:55.411Z"
   },
   {
    "duration": 2,
    "start_time": "2025-05-16T12:33:06.736Z"
   },
   {
    "duration": 231,
    "start_time": "2025-05-16T12:33:06.741Z"
   },
   {
    "duration": 17,
    "start_time": "2025-05-16T12:33:06.974Z"
   },
   {
    "duration": 29,
    "start_time": "2025-05-16T12:33:06.993Z"
   },
   {
    "duration": 3,
    "start_time": "2025-05-16T12:33:07.024Z"
   },
   {
    "duration": 11,
    "start_time": "2025-05-16T12:33:07.028Z"
   },
   {
    "duration": 23,
    "start_time": "2025-05-16T12:33:07.041Z"
   },
   {
    "duration": 7,
    "start_time": "2025-05-16T12:33:07.066Z"
   },
   {
    "duration": 6,
    "start_time": "2025-05-16T12:33:07.074Z"
   },
   {
    "duration": 8,
    "start_time": "2025-05-16T12:33:07.082Z"
   },
   {
    "duration": 6,
    "start_time": "2025-05-16T12:33:07.093Z"
   },
   {
    "duration": 29,
    "start_time": "2025-05-16T12:33:07.100Z"
   },
   {
    "duration": 11,
    "start_time": "2025-05-16T12:33:07.130Z"
   },
   {
    "duration": 25,
    "start_time": "2025-05-16T12:33:07.143Z"
   },
   {
    "duration": 15,
    "start_time": "2025-05-16T12:33:07.170Z"
   },
   {
    "duration": 14,
    "start_time": "2025-05-16T12:33:07.186Z"
   },
   {
    "duration": 13,
    "start_time": "2025-05-16T12:33:07.201Z"
   },
   {
    "duration": 11,
    "start_time": "2025-05-16T12:33:07.216Z"
   },
   {
    "duration": 8,
    "start_time": "2025-05-16T12:33:07.228Z"
   },
   {
    "duration": 24,
    "start_time": "2025-05-16T12:33:07.237Z"
   },
   {
    "duration": 10,
    "start_time": "2025-05-16T12:33:07.263Z"
   },
   {
    "duration": 13,
    "start_time": "2025-05-16T12:33:07.275Z"
   },
   {
    "duration": 57,
    "start_time": "2025-05-16T12:33:07.290Z"
   },
   {
    "duration": 22,
    "start_time": "2025-05-16T12:33:07.349Z"
   },
   {
    "duration": 20,
    "start_time": "2025-05-16T12:33:07.373Z"
   },
   {
    "duration": 10,
    "start_time": "2025-05-16T12:33:07.395Z"
   },
   {
    "duration": 15,
    "start_time": "2025-05-16T12:33:07.406Z"
   },
   {
    "duration": 3,
    "start_time": "2025-05-16T12:33:07.423Z"
   },
   {
    "duration": 230,
    "start_time": "2025-05-16T12:33:07.430Z"
   },
   {
    "duration": 4,
    "start_time": "2025-05-16T12:33:07.662Z"
   },
   {
    "duration": 192,
    "start_time": "2025-05-16T12:33:07.668Z"
   },
   {
    "duration": 10,
    "start_time": "2025-05-16T12:33:07.862Z"
   },
   {
    "duration": 6,
    "start_time": "2025-05-16T12:33:07.873Z"
   },
   {
    "duration": 7,
    "start_time": "2025-05-16T12:33:07.880Z"
   },
   {
    "duration": 11,
    "start_time": "2025-05-16T12:33:07.889Z"
   },
   {
    "duration": 8,
    "start_time": "2025-05-16T12:33:07.902Z"
   },
   {
    "duration": 5,
    "start_time": "2025-05-16T12:33:07.912Z"
   },
   {
    "duration": 5,
    "start_time": "2025-05-16T12:33:07.918Z"
   },
   {
    "duration": 16,
    "start_time": "2025-05-16T12:33:07.961Z"
   },
   {
    "duration": 91,
    "start_time": "2025-05-16T12:33:07.979Z"
   },
   {
    "duration": 4,
    "start_time": "2025-05-16T12:33:08.072Z"
   },
   {
    "duration": 5,
    "start_time": "2025-05-16T12:33:08.078Z"
   },
   {
    "duration": 16,
    "start_time": "2025-05-16T12:33:08.084Z"
   },
   {
    "duration": 11,
    "start_time": "2025-05-16T12:33:08.102Z"
   },
   {
    "duration": 34,
    "start_time": "2025-05-16T12:33:08.115Z"
   },
   {
    "duration": 8,
    "start_time": "2025-05-16T12:33:08.151Z"
   },
   {
    "duration": 6,
    "start_time": "2025-05-16T12:33:08.161Z"
   },
   {
    "duration": 6,
    "start_time": "2025-05-16T12:33:08.169Z"
   },
   {
    "duration": 17,
    "start_time": "2025-05-16T12:33:08.177Z"
   },
   {
    "duration": 9,
    "start_time": "2025-05-16T12:33:08.196Z"
   },
   {
    "duration": 7,
    "start_time": "2025-05-16T12:33:08.206Z"
   },
   {
    "duration": 9,
    "start_time": "2025-05-16T12:33:08.215Z"
   },
   {
    "duration": 424,
    "start_time": "2025-05-16T12:35:58.294Z"
   },
   {
    "duration": 108,
    "start_time": "2025-05-16T12:35:58.720Z"
   },
   {
    "duration": 22,
    "start_time": "2025-05-16T12:35:58.830Z"
   },
   {
    "duration": 80,
    "start_time": "2025-05-16T12:35:58.854Z"
   },
   {
    "duration": 6,
    "start_time": "2025-05-16T12:35:58.936Z"
   },
   {
    "duration": 7,
    "start_time": "2025-05-16T12:35:58.944Z"
   },
   {
    "duration": 8,
    "start_time": "2025-05-16T12:35:58.953Z"
   },
   {
    "duration": 14,
    "start_time": "2025-05-16T12:35:58.963Z"
   },
   {
    "duration": 10,
    "start_time": "2025-05-16T12:35:58.980Z"
   },
   {
    "duration": 8,
    "start_time": "2025-05-16T12:35:58.993Z"
   },
   {
    "duration": 29,
    "start_time": "2025-05-16T12:35:59.003Z"
   },
   {
    "duration": 8,
    "start_time": "2025-05-16T12:35:59.034Z"
   },
   {
    "duration": 18,
    "start_time": "2025-05-16T12:35:59.044Z"
   },
   {
    "duration": 11,
    "start_time": "2025-05-16T12:35:59.064Z"
   },
   {
    "duration": 11,
    "start_time": "2025-05-16T12:35:59.077Z"
   },
   {
    "duration": 11,
    "start_time": "2025-05-16T12:35:59.090Z"
   },
   {
    "duration": 13,
    "start_time": "2025-05-16T12:35:59.103Z"
   },
   {
    "duration": 5,
    "start_time": "2025-05-16T12:35:59.118Z"
   },
   {
    "duration": 7,
    "start_time": "2025-05-16T12:35:59.161Z"
   },
   {
    "duration": 5,
    "start_time": "2025-05-16T12:35:59.170Z"
   },
   {
    "duration": 19,
    "start_time": "2025-05-16T12:35:59.176Z"
   },
   {
    "duration": 7,
    "start_time": "2025-05-16T12:35:59.197Z"
   },
   {
    "duration": 7,
    "start_time": "2025-05-16T12:35:59.206Z"
   },
   {
    "duration": 8,
    "start_time": "2025-05-16T12:35:59.214Z"
   },
   {
    "duration": 12,
    "start_time": "2025-05-16T12:35:59.224Z"
   },
   {
    "duration": 25,
    "start_time": "2025-05-16T12:35:59.237Z"
   },
   {
    "duration": 9,
    "start_time": "2025-05-16T12:35:59.264Z"
   },
   {
    "duration": 4,
    "start_time": "2025-05-16T12:35:59.277Z"
   },
   {
    "duration": 200,
    "start_time": "2025-05-16T12:35:59.282Z"
   },
   {
    "duration": 3,
    "start_time": "2025-05-16T12:35:59.484Z"
   },
   {
    "duration": 184,
    "start_time": "2025-05-16T12:35:59.489Z"
   },
   {
    "duration": 11,
    "start_time": "2025-05-16T12:35:59.675Z"
   },
   {
    "duration": 5,
    "start_time": "2025-05-16T12:35:59.688Z"
   },
   {
    "duration": 8,
    "start_time": "2025-05-16T12:35:59.695Z"
   },
   {
    "duration": 8,
    "start_time": "2025-05-16T12:35:59.705Z"
   },
   {
    "duration": 9,
    "start_time": "2025-05-16T12:35:59.715Z"
   },
   {
    "duration": 4,
    "start_time": "2025-05-16T12:35:59.761Z"
   },
   {
    "duration": 16,
    "start_time": "2025-05-16T12:35:59.767Z"
   },
   {
    "duration": 15,
    "start_time": "2025-05-16T12:35:59.785Z"
   },
   {
    "duration": 15,
    "start_time": "2025-05-16T12:35:59.801Z"
   },
   {
    "duration": 3,
    "start_time": "2025-05-16T12:35:59.818Z"
   },
   {
    "duration": 8,
    "start_time": "2025-05-16T12:35:59.823Z"
   },
   {
    "duration": 30,
    "start_time": "2025-05-16T12:35:59.832Z"
   },
   {
    "duration": 5,
    "start_time": "2025-05-16T12:35:59.864Z"
   },
   {
    "duration": 18,
    "start_time": "2025-05-16T12:35:59.870Z"
   },
   {
    "duration": 7,
    "start_time": "2025-05-16T12:35:59.889Z"
   },
   {
    "duration": 7,
    "start_time": "2025-05-16T12:35:59.898Z"
   },
   {
    "duration": 6,
    "start_time": "2025-05-16T12:35:59.907Z"
   },
   {
    "duration": 16,
    "start_time": "2025-05-16T12:35:59.915Z"
   },
   {
    "duration": 7,
    "start_time": "2025-05-16T12:35:59.933Z"
   },
   {
    "duration": 19,
    "start_time": "2025-05-16T12:35:59.941Z"
   },
   {
    "duration": 8,
    "start_time": "2025-05-16T12:35:59.962Z"
   },
   {
    "duration": 457,
    "start_time": "2025-05-16T12:44:27.148Z"
   },
   {
    "duration": 84,
    "start_time": "2025-05-16T12:44:27.607Z"
   },
   {
    "duration": 20,
    "start_time": "2025-05-16T12:44:27.692Z"
   },
   {
    "duration": 40,
    "start_time": "2025-05-16T12:44:27.714Z"
   },
   {
    "duration": 4,
    "start_time": "2025-05-16T12:44:27.756Z"
   },
   {
    "duration": 12,
    "start_time": "2025-05-16T12:44:27.762Z"
   },
   {
    "duration": 9,
    "start_time": "2025-05-16T12:44:27.776Z"
   },
   {
    "duration": 37,
    "start_time": "2025-05-16T12:44:27.786Z"
   },
   {
    "duration": 37,
    "start_time": "2025-05-16T12:44:27.824Z"
   },
   {
    "duration": 6,
    "start_time": "2025-05-16T12:44:27.863Z"
   },
   {
    "duration": 172,
    "start_time": "2025-05-16T12:44:27.871Z"
   },
   {
    "duration": 26,
    "start_time": "2025-05-16T12:44:28.045Z"
   },
   {
    "duration": 20,
    "start_time": "2025-05-16T12:44:28.073Z"
   },
   {
    "duration": 12,
    "start_time": "2025-05-16T12:44:28.097Z"
   },
   {
    "duration": 33,
    "start_time": "2025-05-16T12:44:28.111Z"
   },
   {
    "duration": 20,
    "start_time": "2025-05-16T12:44:28.146Z"
   },
   {
    "duration": 24,
    "start_time": "2025-05-16T12:44:28.168Z"
   },
   {
    "duration": 5,
    "start_time": "2025-05-16T12:44:28.194Z"
   },
   {
    "duration": 44,
    "start_time": "2025-05-16T12:44:28.201Z"
   },
   {
    "duration": 5,
    "start_time": "2025-05-16T12:44:28.247Z"
   },
   {
    "duration": 36,
    "start_time": "2025-05-16T12:44:28.253Z"
   },
   {
    "duration": 24,
    "start_time": "2025-05-16T12:44:28.291Z"
   },
   {
    "duration": 43,
    "start_time": "2025-05-16T12:44:28.317Z"
   },
   {
    "duration": 5,
    "start_time": "2025-05-16T12:44:28.362Z"
   },
   {
    "duration": 13,
    "start_time": "2025-05-16T12:44:28.369Z"
   },
   {
    "duration": 7,
    "start_time": "2025-05-16T12:44:28.384Z"
   },
   {
    "duration": 27,
    "start_time": "2025-05-16T12:44:28.393Z"
   },
   {
    "duration": 8,
    "start_time": "2025-05-16T12:44:28.423Z"
   },
   {
    "duration": 199,
    "start_time": "2025-05-16T12:44:28.432Z"
   },
   {
    "duration": 3,
    "start_time": "2025-05-16T12:44:28.633Z"
   },
   {
    "duration": 185,
    "start_time": "2025-05-16T12:44:28.638Z"
   },
   {
    "duration": 9,
    "start_time": "2025-05-16T12:44:28.825Z"
   },
   {
    "duration": 19,
    "start_time": "2025-05-16T12:44:28.835Z"
   },
   {
    "duration": 18,
    "start_time": "2025-05-16T12:44:28.856Z"
   },
   {
    "duration": 19,
    "start_time": "2025-05-16T12:44:28.876Z"
   },
   {
    "duration": 9,
    "start_time": "2025-05-16T12:44:28.897Z"
   },
   {
    "duration": 30,
    "start_time": "2025-05-16T12:44:28.908Z"
   },
   {
    "duration": 29,
    "start_time": "2025-05-16T12:44:28.940Z"
   },
   {
    "duration": 48,
    "start_time": "2025-05-16T12:44:28.971Z"
   },
   {
    "duration": 19,
    "start_time": "2025-05-16T12:44:29.021Z"
   },
   {
    "duration": 4,
    "start_time": "2025-05-16T12:44:29.045Z"
   },
   {
    "duration": 6,
    "start_time": "2025-05-16T12:44:29.051Z"
   },
   {
    "duration": 7,
    "start_time": "2025-05-16T12:44:29.058Z"
   },
   {
    "duration": 11,
    "start_time": "2025-05-16T12:44:29.067Z"
   },
   {
    "duration": 19,
    "start_time": "2025-05-16T12:44:29.079Z"
   },
   {
    "duration": 7,
    "start_time": "2025-05-16T12:44:29.099Z"
   },
   {
    "duration": 8,
    "start_time": "2025-05-16T12:44:29.107Z"
   },
   {
    "duration": 6,
    "start_time": "2025-05-16T12:44:29.117Z"
   },
   {
    "duration": 41,
    "start_time": "2025-05-16T12:44:29.124Z"
   },
   {
    "duration": 17,
    "start_time": "2025-05-16T12:44:29.167Z"
   },
   {
    "duration": 170,
    "start_time": "2025-05-16T12:44:29.186Z"
   },
   {
    "duration": 12,
    "start_time": "2025-05-16T12:44:29.358Z"
   },
   {
    "duration": 493,
    "start_time": "2025-05-16T12:51:19.539Z"
   },
   {
    "duration": 92,
    "start_time": "2025-05-16T12:51:20.034Z"
   },
   {
    "duration": 22,
    "start_time": "2025-05-16T12:51:20.129Z"
   },
   {
    "duration": 27,
    "start_time": "2025-05-16T12:51:20.153Z"
   },
   {
    "duration": 12,
    "start_time": "2025-05-16T12:51:20.182Z"
   },
   {
    "duration": 7,
    "start_time": "2025-05-16T12:51:20.196Z"
   },
   {
    "duration": 4,
    "start_time": "2025-05-16T12:51:20.204Z"
   },
   {
    "duration": 15,
    "start_time": "2025-05-16T12:51:20.210Z"
   },
   {
    "duration": 8,
    "start_time": "2025-05-16T12:51:20.227Z"
   },
   {
    "duration": 58,
    "start_time": "2025-05-16T12:51:20.237Z"
   },
   {
    "duration": 65,
    "start_time": "2025-05-16T12:51:20.297Z"
   },
   {
    "duration": 15,
    "start_time": "2025-05-16T12:51:20.364Z"
   },
   {
    "duration": 21,
    "start_time": "2025-05-16T12:51:20.380Z"
   },
   {
    "duration": 9,
    "start_time": "2025-05-16T12:51:20.404Z"
   },
   {
    "duration": 27,
    "start_time": "2025-05-16T12:51:20.414Z"
   },
   {
    "duration": 24,
    "start_time": "2025-05-16T12:51:20.443Z"
   },
   {
    "duration": 49,
    "start_time": "2025-05-16T12:51:20.470Z"
   },
   {
    "duration": 166,
    "start_time": "2025-05-16T12:51:20.521Z"
   },
   {
    "duration": 17,
    "start_time": "2025-05-16T12:51:20.689Z"
   },
   {
    "duration": 13,
    "start_time": "2025-05-16T12:51:20.707Z"
   },
   {
    "duration": 9,
    "start_time": "2025-05-16T12:51:20.722Z"
   },
   {
    "duration": 9,
    "start_time": "2025-05-16T12:51:20.732Z"
   },
   {
    "duration": 58,
    "start_time": "2025-05-16T12:51:20.742Z"
   },
   {
    "duration": 76,
    "start_time": "2025-05-16T12:51:20.802Z"
   },
   {
    "duration": 106,
    "start_time": "2025-05-16T12:51:20.879Z"
   },
   {
    "duration": 33,
    "start_time": "2025-05-16T12:51:20.986Z"
   },
   {
    "duration": 23,
    "start_time": "2025-05-16T12:51:21.021Z"
   },
   {
    "duration": 52,
    "start_time": "2025-05-16T12:51:21.046Z"
   },
   {
    "duration": 190,
    "start_time": "2025-05-16T12:51:21.099Z"
   },
   {
    "duration": 4,
    "start_time": "2025-05-16T12:51:21.290Z"
   },
   {
    "duration": 283,
    "start_time": "2025-05-16T12:51:21.296Z"
   },
   {
    "duration": 10,
    "start_time": "2025-05-16T12:51:21.581Z"
   },
   {
    "duration": 164,
    "start_time": "2025-05-16T12:51:21.592Z"
   },
   {
    "duration": 30,
    "start_time": "2025-05-16T12:51:21.758Z"
   },
   {
    "duration": 12,
    "start_time": "2025-05-16T12:51:21.789Z"
   },
   {
    "duration": 13,
    "start_time": "2025-05-16T12:51:21.802Z"
   },
   {
    "duration": 28,
    "start_time": "2025-05-16T12:51:21.817Z"
   },
   {
    "duration": 33,
    "start_time": "2025-05-16T12:51:21.847Z"
   },
   {
    "duration": 31,
    "start_time": "2025-05-16T12:51:21.882Z"
   },
   {
    "duration": 187,
    "start_time": "2025-05-16T12:51:21.915Z"
   },
   {
    "duration": 10,
    "start_time": "2025-05-16T12:51:22.106Z"
   },
   {
    "duration": 40,
    "start_time": "2025-05-16T12:51:22.117Z"
   },
   {
    "duration": 26,
    "start_time": "2025-05-16T12:51:22.159Z"
   },
   {
    "duration": 29,
    "start_time": "2025-05-16T12:51:22.187Z"
   },
   {
    "duration": 71,
    "start_time": "2025-05-16T12:51:22.219Z"
   },
   {
    "duration": 9,
    "start_time": "2025-05-16T12:51:22.292Z"
   },
   {
    "duration": 34,
    "start_time": "2025-05-16T12:51:22.303Z"
   },
   {
    "duration": 38,
    "start_time": "2025-05-16T12:51:22.340Z"
   },
   {
    "duration": 57,
    "start_time": "2025-05-16T12:51:22.380Z"
   },
   {
    "duration": 10,
    "start_time": "2025-05-16T12:51:22.439Z"
   },
   {
    "duration": 49,
    "start_time": "2025-05-16T12:51:22.451Z"
   },
   {
    "duration": 137,
    "start_time": "2025-05-16T12:51:22.502Z"
   },
   {
    "duration": 466,
    "start_time": "2025-05-16T12:51:48.141Z"
   },
   {
    "duration": 91,
    "start_time": "2025-05-16T12:51:48.609Z"
   },
   {
    "duration": 83,
    "start_time": "2025-05-16T12:51:48.702Z"
   },
   {
    "duration": 358,
    "start_time": "2025-05-16T12:51:48.788Z"
   },
   {
    "duration": 23,
    "start_time": "2025-05-16T12:51:49.148Z"
   },
   {
    "duration": 29,
    "start_time": "2025-05-16T12:51:49.172Z"
   },
   {
    "duration": 10,
    "start_time": "2025-05-16T12:51:49.203Z"
   },
   {
    "duration": 9,
    "start_time": "2025-05-16T12:51:49.215Z"
   },
   {
    "duration": 10,
    "start_time": "2025-05-16T12:51:49.226Z"
   },
   {
    "duration": 10,
    "start_time": "2025-05-16T12:51:49.240Z"
   },
   {
    "duration": 15,
    "start_time": "2025-05-16T12:51:49.252Z"
   },
   {
    "duration": 33,
    "start_time": "2025-05-16T12:51:49.269Z"
   },
   {
    "duration": 24,
    "start_time": "2025-05-16T12:51:49.303Z"
   },
   {
    "duration": 8,
    "start_time": "2025-05-16T12:51:49.329Z"
   },
   {
    "duration": 11,
    "start_time": "2025-05-16T12:51:49.339Z"
   },
   {
    "duration": 34,
    "start_time": "2025-05-16T12:51:49.351Z"
   },
   {
    "duration": 18,
    "start_time": "2025-05-16T12:51:49.387Z"
   },
   {
    "duration": 23,
    "start_time": "2025-05-16T12:51:49.407Z"
   },
   {
    "duration": 49,
    "start_time": "2025-05-16T12:51:49.432Z"
   },
   {
    "duration": 17,
    "start_time": "2025-05-16T12:51:49.483Z"
   },
   {
    "duration": 22,
    "start_time": "2025-05-16T12:51:49.502Z"
   },
   {
    "duration": 7,
    "start_time": "2025-05-16T12:51:49.526Z"
   },
   {
    "duration": 164,
    "start_time": "2025-05-16T12:51:49.534Z"
   },
   {
    "duration": 75,
    "start_time": "2025-05-16T12:51:49.699Z"
   },
   {
    "duration": 69,
    "start_time": "2025-05-16T12:51:49.776Z"
   },
   {
    "duration": 68,
    "start_time": "2025-05-16T12:51:49.846Z"
   },
   {
    "duration": 176,
    "start_time": "2025-05-16T12:51:49.916Z"
   },
   {
    "duration": 6,
    "start_time": "2025-05-16T12:51:50.096Z"
   },
   {
    "duration": 193,
    "start_time": "2025-05-16T12:51:50.104Z"
   },
   {
    "duration": 3,
    "start_time": "2025-05-16T12:51:50.299Z"
   },
   {
    "duration": 217,
    "start_time": "2025-05-16T12:51:50.304Z"
   },
   {
    "duration": 12,
    "start_time": "2025-05-16T12:51:50.523Z"
   },
   {
    "duration": 163,
    "start_time": "2025-05-16T12:51:50.537Z"
   },
   {
    "duration": 17,
    "start_time": "2025-05-16T12:51:50.703Z"
   },
   {
    "duration": 56,
    "start_time": "2025-05-16T12:51:50.722Z"
   },
   {
    "duration": 22,
    "start_time": "2025-05-16T12:51:50.780Z"
   },
   {
    "duration": 333,
    "start_time": "2025-05-16T12:51:50.804Z"
   },
   {
    "duration": 57,
    "start_time": "2025-05-16T12:51:51.139Z"
   },
   {
    "duration": 144,
    "start_time": "2025-05-16T12:51:51.197Z"
   },
   {
    "duration": 136,
    "start_time": "2025-05-16T12:51:51.343Z"
   },
   {
    "duration": 25,
    "start_time": "2025-05-16T12:51:51.482Z"
   },
   {
    "duration": 104,
    "start_time": "2025-05-16T12:51:51.509Z"
   },
   {
    "duration": 125,
    "start_time": "2025-05-16T12:51:51.616Z"
   },
   {
    "duration": 287,
    "start_time": "2025-05-16T12:51:51.743Z"
   },
   {
    "duration": 116,
    "start_time": "2025-05-16T12:51:52.031Z"
   },
   {
    "duration": 45,
    "start_time": "2025-05-16T12:51:52.149Z"
   },
   {
    "duration": 13,
    "start_time": "2025-05-16T12:51:52.195Z"
   },
   {
    "duration": 10,
    "start_time": "2025-05-16T12:51:52.210Z"
   },
   {
    "duration": 36,
    "start_time": "2025-05-16T12:51:52.222Z"
   },
   {
    "duration": 20,
    "start_time": "2025-05-16T12:51:52.260Z"
   },
   {
    "duration": 52,
    "start_time": "2025-05-16T12:51:52.282Z"
   },
   {
    "duration": 57,
    "start_time": "2025-05-16T12:51:52.335Z"
   },
   {
    "duration": 444,
    "start_time": "2025-05-16T12:55:46.379Z"
   },
   {
    "duration": 128,
    "start_time": "2025-05-16T12:55:46.825Z"
   },
   {
    "duration": 33,
    "start_time": "2025-05-16T12:55:46.955Z"
   },
   {
    "duration": 41,
    "start_time": "2025-05-16T12:55:46.990Z"
   },
   {
    "duration": 30,
    "start_time": "2025-05-16T12:55:47.034Z"
   },
   {
    "duration": 37,
    "start_time": "2025-05-16T12:55:47.066Z"
   },
   {
    "duration": 21,
    "start_time": "2025-05-16T12:55:47.105Z"
   },
   {
    "duration": 8,
    "start_time": "2025-05-16T12:55:47.128Z"
   },
   {
    "duration": 5,
    "start_time": "2025-05-16T12:55:47.137Z"
   },
   {
    "duration": 11,
    "start_time": "2025-05-16T12:55:47.144Z"
   },
   {
    "duration": 6,
    "start_time": "2025-05-16T12:55:47.157Z"
   },
   {
    "duration": 19,
    "start_time": "2025-05-16T12:55:47.167Z"
   },
   {
    "duration": 18,
    "start_time": "2025-05-16T12:55:47.188Z"
   },
   {
    "duration": 18,
    "start_time": "2025-05-16T12:55:47.208Z"
   },
   {
    "duration": 12,
    "start_time": "2025-05-16T12:55:47.228Z"
   },
   {
    "duration": 32,
    "start_time": "2025-05-16T12:55:47.241Z"
   },
   {
    "duration": 134,
    "start_time": "2025-05-16T12:55:47.274Z"
   },
   {
    "duration": 36,
    "start_time": "2025-05-16T12:55:47.409Z"
   },
   {
    "duration": 7,
    "start_time": "2025-05-16T12:55:47.448Z"
   },
   {
    "duration": 63,
    "start_time": "2025-05-16T12:55:47.457Z"
   },
   {
    "duration": 25,
    "start_time": "2025-05-16T12:55:47.523Z"
   },
   {
    "duration": 130,
    "start_time": "2025-05-16T12:55:47.550Z"
   },
   {
    "duration": 47,
    "start_time": "2025-05-16T12:55:47.688Z"
   },
   {
    "duration": 20,
    "start_time": "2025-05-16T12:55:47.737Z"
   },
   {
    "duration": 30,
    "start_time": "2025-05-16T12:55:47.759Z"
   },
   {
    "duration": 53,
    "start_time": "2025-05-16T12:55:47.791Z"
   },
   {
    "duration": 65,
    "start_time": "2025-05-16T12:55:47.846Z"
   },
   {
    "duration": 186,
    "start_time": "2025-05-16T12:55:47.913Z"
   },
   {
    "duration": 205,
    "start_time": "2025-05-16T12:55:48.103Z"
   },
   {
    "duration": 4,
    "start_time": "2025-05-16T12:55:48.309Z"
   },
   {
    "duration": 240,
    "start_time": "2025-05-16T12:55:48.314Z"
   },
   {
    "duration": 19,
    "start_time": "2025-05-16T12:55:48.555Z"
   },
   {
    "duration": 105,
    "start_time": "2025-05-16T12:55:48.575Z"
   },
   {
    "duration": 43,
    "start_time": "2025-05-16T12:55:48.681Z"
   },
   {
    "duration": 36,
    "start_time": "2025-05-16T12:55:48.726Z"
   },
   {
    "duration": 15,
    "start_time": "2025-05-16T12:55:48.766Z"
   },
   {
    "duration": 46,
    "start_time": "2025-05-16T12:55:48.783Z"
   },
   {
    "duration": 19,
    "start_time": "2025-05-16T12:55:48.830Z"
   },
   {
    "duration": 254,
    "start_time": "2025-05-16T12:55:48.850Z"
   },
   {
    "duration": 337,
    "start_time": "2025-05-16T12:55:49.107Z"
   },
   {
    "duration": 24,
    "start_time": "2025-05-16T12:55:49.448Z"
   },
   {
    "duration": 15,
    "start_time": "2025-05-16T12:55:49.473Z"
   },
   {
    "duration": 18,
    "start_time": "2025-05-16T12:55:49.490Z"
   },
   {
    "duration": 11,
    "start_time": "2025-05-16T12:55:49.509Z"
   },
   {
    "duration": 22,
    "start_time": "2025-05-16T12:55:49.522Z"
   },
   {
    "duration": 99,
    "start_time": "2025-05-16T12:55:49.546Z"
   },
   {
    "duration": 49,
    "start_time": "2025-05-16T12:55:49.647Z"
   },
   {
    "duration": 25,
    "start_time": "2025-05-16T12:55:49.697Z"
   },
   {
    "duration": 128,
    "start_time": "2025-05-16T12:55:49.723Z"
   },
   {
    "duration": 266,
    "start_time": "2025-05-16T12:55:49.853Z"
   },
   {
    "duration": 151,
    "start_time": "2025-05-16T12:55:50.121Z"
   },
   {
    "duration": 33,
    "start_time": "2025-05-16T12:55:50.274Z"
   },
   {
    "duration": 395,
    "start_time": "2025-05-16T12:56:14.011Z"
   },
   {
    "duration": 91,
    "start_time": "2025-05-16T12:56:14.408Z"
   },
   {
    "duration": 23,
    "start_time": "2025-05-16T12:56:14.500Z"
   },
   {
    "duration": 145,
    "start_time": "2025-05-16T12:56:14.525Z"
   },
   {
    "duration": 21,
    "start_time": "2025-05-16T12:56:14.672Z"
   },
   {
    "duration": 18,
    "start_time": "2025-05-16T12:56:14.695Z"
   },
   {
    "duration": 5,
    "start_time": "2025-05-16T12:56:14.715Z"
   },
   {
    "duration": 64,
    "start_time": "2025-05-16T12:56:14.722Z"
   },
   {
    "duration": 48,
    "start_time": "2025-05-16T12:56:14.789Z"
   },
   {
    "duration": 47,
    "start_time": "2025-05-16T12:56:14.840Z"
   },
   {
    "duration": 16,
    "start_time": "2025-05-16T12:56:14.889Z"
   },
   {
    "duration": 35,
    "start_time": "2025-05-16T12:56:14.906Z"
   },
   {
    "duration": 30,
    "start_time": "2025-05-16T12:56:14.943Z"
   },
   {
    "duration": 28,
    "start_time": "2025-05-16T12:56:14.974Z"
   },
   {
    "duration": 127,
    "start_time": "2025-05-16T12:56:15.003Z"
   },
   {
    "duration": 50,
    "start_time": "2025-05-16T12:56:15.133Z"
   },
   {
    "duration": 26,
    "start_time": "2025-05-16T12:56:15.187Z"
   },
   {
    "duration": 31,
    "start_time": "2025-05-16T12:56:15.216Z"
   },
   {
    "duration": 220,
    "start_time": "2025-05-16T12:56:15.249Z"
   },
   {
    "duration": 196,
    "start_time": "2025-05-16T12:56:15.474Z"
   },
   {
    "duration": 51,
    "start_time": "2025-05-16T12:56:15.672Z"
   },
   {
    "duration": 24,
    "start_time": "2025-05-16T12:56:15.725Z"
   },
   {
    "duration": 19,
    "start_time": "2025-05-16T12:56:15.751Z"
   },
   {
    "duration": 12,
    "start_time": "2025-05-16T12:56:15.774Z"
   },
   {
    "duration": 20,
    "start_time": "2025-05-16T12:56:15.787Z"
   },
   {
    "duration": 15,
    "start_time": "2025-05-16T12:56:15.809Z"
   },
   {
    "duration": 20,
    "start_time": "2025-05-16T12:56:15.826Z"
   },
   {
    "duration": 39,
    "start_time": "2025-05-16T12:56:15.850Z"
   },
   {
    "duration": 197,
    "start_time": "2025-05-16T12:56:15.891Z"
   },
   {
    "duration": 3,
    "start_time": "2025-05-16T12:56:16.090Z"
   },
   {
    "duration": 255,
    "start_time": "2025-05-16T12:56:16.095Z"
   },
   {
    "duration": 24,
    "start_time": "2025-05-16T12:56:16.352Z"
   },
   {
    "duration": 11,
    "start_time": "2025-05-16T12:56:16.377Z"
   },
   {
    "duration": 7,
    "start_time": "2025-05-16T12:56:16.392Z"
   },
   {
    "duration": 17,
    "start_time": "2025-05-16T12:56:16.400Z"
   },
   {
    "duration": 15,
    "start_time": "2025-05-16T12:56:16.419Z"
   },
   {
    "duration": 13,
    "start_time": "2025-05-16T12:56:16.436Z"
   },
   {
    "duration": 8,
    "start_time": "2025-05-16T12:56:16.450Z"
   },
   {
    "duration": 32,
    "start_time": "2025-05-16T12:56:16.459Z"
   },
   {
    "duration": 18,
    "start_time": "2025-05-16T12:56:16.493Z"
   },
   {
    "duration": 3,
    "start_time": "2025-05-16T12:56:16.513Z"
   },
   {
    "duration": 70,
    "start_time": "2025-05-16T12:56:16.517Z"
   },
   {
    "duration": 87,
    "start_time": "2025-05-16T12:56:16.589Z"
   },
   {
    "duration": 57,
    "start_time": "2025-05-16T12:56:16.678Z"
   },
   {
    "duration": 38,
    "start_time": "2025-05-16T12:56:16.737Z"
   },
   {
    "duration": 14,
    "start_time": "2025-05-16T12:56:16.780Z"
   },
   {
    "duration": 35,
    "start_time": "2025-05-16T12:56:16.796Z"
   },
   {
    "duration": 17,
    "start_time": "2025-05-16T12:56:16.833Z"
   },
   {
    "duration": 243,
    "start_time": "2025-05-16T12:56:16.851Z"
   },
   {
    "duration": 6,
    "start_time": "2025-05-16T12:56:17.096Z"
   },
   {
    "duration": 8,
    "start_time": "2025-05-16T12:56:17.104Z"
   },
   {
    "duration": 12,
    "start_time": "2025-05-16T12:56:17.113Z"
   },
   {
    "duration": 3,
    "start_time": "2025-05-16T13:06:12.943Z"
   },
   {
    "duration": 110,
    "start_time": "2025-05-16T13:06:12.948Z"
   },
   {
    "duration": 15,
    "start_time": "2025-05-16T13:06:13.060Z"
   },
   {
    "duration": 18,
    "start_time": "2025-05-16T13:06:13.076Z"
   },
   {
    "duration": 3,
    "start_time": "2025-05-16T13:06:13.097Z"
   },
   {
    "duration": 7,
    "start_time": "2025-05-16T13:06:13.101Z"
   },
   {
    "duration": 4,
    "start_time": "2025-05-16T13:06:13.110Z"
   },
   {
    "duration": 47,
    "start_time": "2025-05-16T13:06:13.115Z"
   },
   {
    "duration": 5,
    "start_time": "2025-05-16T13:06:13.164Z"
   },
   {
    "duration": 7,
    "start_time": "2025-05-16T13:06:13.170Z"
   },
   {
    "duration": 7,
    "start_time": "2025-05-16T13:06:13.180Z"
   },
   {
    "duration": 16,
    "start_time": "2025-05-16T13:06:13.189Z"
   },
   {
    "duration": 8,
    "start_time": "2025-05-16T13:06:13.207Z"
   },
   {
    "duration": 54,
    "start_time": "2025-05-16T13:06:13.217Z"
   },
   {
    "duration": 16,
    "start_time": "2025-05-16T13:06:13.273Z"
   },
   {
    "duration": 14,
    "start_time": "2025-05-16T13:06:13.291Z"
   },
   {
    "duration": 12,
    "start_time": "2025-05-16T13:06:13.306Z"
   },
   {
    "duration": 7,
    "start_time": "2025-05-16T13:06:13.319Z"
   },
   {
    "duration": 5,
    "start_time": "2025-05-16T13:06:13.328Z"
   },
   {
    "duration": 29,
    "start_time": "2025-05-16T13:06:13.335Z"
   },
   {
    "duration": 21,
    "start_time": "2025-05-16T13:06:13.367Z"
   },
   {
    "duration": 3,
    "start_time": "2025-05-16T13:06:13.390Z"
   },
   {
    "duration": 7,
    "start_time": "2025-05-16T13:06:13.395Z"
   },
   {
    "duration": 7,
    "start_time": "2025-05-16T13:06:13.404Z"
   },
   {
    "duration": 6,
    "start_time": "2025-05-16T13:06:13.413Z"
   },
   {
    "duration": 4,
    "start_time": "2025-05-16T13:06:13.421Z"
   },
   {
    "duration": 41,
    "start_time": "2025-05-16T13:06:13.427Z"
   },
   {
    "duration": 5,
    "start_time": "2025-05-16T13:06:13.472Z"
   },
   {
    "duration": 198,
    "start_time": "2025-05-16T13:06:13.481Z"
   },
   {
    "duration": 4,
    "start_time": "2025-05-16T13:06:13.680Z"
   },
   {
    "duration": 210,
    "start_time": "2025-05-16T13:06:13.686Z"
   },
   {
    "duration": 11,
    "start_time": "2025-05-16T13:06:13.898Z"
   },
   {
    "duration": 5,
    "start_time": "2025-05-16T13:06:13.910Z"
   },
   {
    "duration": 5,
    "start_time": "2025-05-16T13:06:13.917Z"
   },
   {
    "duration": 44,
    "start_time": "2025-05-16T13:06:13.924Z"
   },
   {
    "duration": 13,
    "start_time": "2025-05-16T13:06:13.971Z"
   },
   {
    "duration": 6,
    "start_time": "2025-05-16T13:06:13.986Z"
   },
   {
    "duration": 5,
    "start_time": "2025-05-16T13:06:13.994Z"
   },
   {
    "duration": 15,
    "start_time": "2025-05-16T13:06:14.001Z"
   },
   {
    "duration": 54,
    "start_time": "2025-05-16T13:06:14.018Z"
   },
   {
    "duration": 5,
    "start_time": "2025-05-16T13:06:14.075Z"
   },
   {
    "duration": 59,
    "start_time": "2025-05-16T13:06:14.092Z"
   },
   {
    "duration": 18,
    "start_time": "2025-05-16T13:06:14.153Z"
   },
   {
    "duration": 5,
    "start_time": "2025-05-16T13:06:14.173Z"
   },
   {
    "duration": 17,
    "start_time": "2025-05-16T13:06:14.180Z"
   },
   {
    "duration": 7,
    "start_time": "2025-05-16T13:06:14.199Z"
   },
   {
    "duration": 7,
    "start_time": "2025-05-16T13:06:14.208Z"
   },
   {
    "duration": 6,
    "start_time": "2025-05-16T13:06:14.217Z"
   },
   {
    "duration": 46,
    "start_time": "2025-05-16T13:06:14.225Z"
   },
   {
    "duration": 18,
    "start_time": "2025-05-16T13:06:14.274Z"
   },
   {
    "duration": 16,
    "start_time": "2025-05-16T13:06:14.294Z"
   },
   {
    "duration": 18,
    "start_time": "2025-05-16T13:06:14.312Z"
   },
   {
    "duration": 3,
    "start_time": "2025-05-16T13:10:26.132Z"
   },
   {
    "duration": 119,
    "start_time": "2025-05-16T13:10:26.137Z"
   },
   {
    "duration": 22,
    "start_time": "2025-05-16T13:10:26.258Z"
   },
   {
    "duration": 18,
    "start_time": "2025-05-16T13:10:26.282Z"
   },
   {
    "duration": 3,
    "start_time": "2025-05-16T13:10:26.302Z"
   },
   {
    "duration": 5,
    "start_time": "2025-05-16T13:10:26.307Z"
   },
   {
    "duration": 4,
    "start_time": "2025-05-16T13:10:26.314Z"
   },
   {
    "duration": 55,
    "start_time": "2025-05-16T13:10:26.320Z"
   },
   {
    "duration": 6,
    "start_time": "2025-05-16T13:10:26.377Z"
   },
   {
    "duration": 6,
    "start_time": "2025-05-16T13:10:26.385Z"
   },
   {
    "duration": 6,
    "start_time": "2025-05-16T13:10:26.394Z"
   },
   {
    "duration": 5,
    "start_time": "2025-05-16T13:10:26.402Z"
   },
   {
    "duration": 11,
    "start_time": "2025-05-16T13:10:26.409Z"
   },
   {
    "duration": 52,
    "start_time": "2025-05-16T13:10:26.421Z"
   },
   {
    "duration": 10,
    "start_time": "2025-05-16T13:10:26.475Z"
   },
   {
    "duration": 10,
    "start_time": "2025-05-16T13:10:26.487Z"
   },
   {
    "duration": 4,
    "start_time": "2025-05-16T13:10:26.499Z"
   },
   {
    "duration": 11,
    "start_time": "2025-05-16T13:10:26.506Z"
   },
   {
    "duration": 108,
    "start_time": "2025-05-16T13:10:26.519Z"
   },
   {
    "duration": 8,
    "start_time": "2025-05-16T13:10:26.629Z"
   },
   {
    "duration": 18,
    "start_time": "2025-05-16T13:10:26.639Z"
   },
   {
    "duration": 11,
    "start_time": "2025-05-16T13:10:26.659Z"
   },
   {
    "duration": 11,
    "start_time": "2025-05-16T13:10:26.671Z"
   },
   {
    "duration": 8,
    "start_time": "2025-05-16T13:10:26.690Z"
   },
   {
    "duration": 8,
    "start_time": "2025-05-16T13:10:26.700Z"
   },
   {
    "duration": 8,
    "start_time": "2025-05-16T13:10:26.710Z"
   },
   {
    "duration": 20,
    "start_time": "2025-05-16T13:10:26.720Z"
   },
   {
    "duration": 27,
    "start_time": "2025-05-16T13:10:26.741Z"
   },
   {
    "duration": 204,
    "start_time": "2025-05-16T13:10:26.774Z"
   },
   {
    "duration": 4,
    "start_time": "2025-05-16T13:10:26.980Z"
   },
   {
    "duration": 265,
    "start_time": "2025-05-16T13:10:26.986Z"
   },
   {
    "duration": 12,
    "start_time": "2025-05-16T13:10:27.253Z"
   },
   {
    "duration": 28,
    "start_time": "2025-05-16T13:10:27.267Z"
   },
   {
    "duration": 5,
    "start_time": "2025-05-16T13:10:27.297Z"
   },
   {
    "duration": 9,
    "start_time": "2025-05-16T13:10:27.304Z"
   },
   {
    "duration": 6,
    "start_time": "2025-05-16T13:10:27.314Z"
   },
   {
    "duration": 11,
    "start_time": "2025-05-16T13:10:27.322Z"
   },
   {
    "duration": 5,
    "start_time": "2025-05-16T13:10:27.335Z"
   },
   {
    "duration": 50,
    "start_time": "2025-05-16T13:10:27.342Z"
   },
   {
    "duration": 17,
    "start_time": "2025-05-16T13:10:27.395Z"
   },
   {
    "duration": 4,
    "start_time": "2025-05-16T13:10:27.414Z"
   },
   {
    "duration": 14,
    "start_time": "2025-05-16T13:10:27.420Z"
   },
   {
    "duration": 26,
    "start_time": "2025-05-16T13:10:27.437Z"
   },
   {
    "duration": 6,
    "start_time": "2025-05-16T13:10:27.466Z"
   },
   {
    "duration": 24,
    "start_time": "2025-05-16T13:10:27.474Z"
   },
   {
    "duration": 22,
    "start_time": "2025-05-16T13:10:27.500Z"
   },
   {
    "duration": 7,
    "start_time": "2025-05-16T13:10:27.524Z"
   },
   {
    "duration": 7,
    "start_time": "2025-05-16T13:10:27.532Z"
   },
   {
    "duration": 38,
    "start_time": "2025-05-16T13:10:27.540Z"
   },
   {
    "duration": 7,
    "start_time": "2025-05-16T13:10:27.579Z"
   },
   {
    "duration": 7,
    "start_time": "2025-05-16T13:10:27.588Z"
   },
   {
    "duration": 8,
    "start_time": "2025-05-16T13:10:27.597Z"
   },
   {
    "duration": 8,
    "start_time": "2025-05-16T13:12:33.875Z"
   },
   {
    "duration": 72,
    "start_time": "2025-05-16T13:13:29.503Z"
   },
   {
    "duration": 5,
    "start_time": "2025-05-16T13:13:34.058Z"
   },
   {
    "duration": 415,
    "start_time": "2025-05-16T13:28:03.479Z"
   },
   {
    "duration": 111,
    "start_time": "2025-05-16T13:28:03.895Z"
   },
   {
    "duration": 23,
    "start_time": "2025-05-16T13:28:04.008Z"
   },
   {
    "duration": 51,
    "start_time": "2025-05-16T13:28:04.033Z"
   },
   {
    "duration": 19,
    "start_time": "2025-05-16T13:28:04.086Z"
   },
   {
    "duration": 227,
    "start_time": "2025-05-16T13:28:04.107Z"
   },
   {
    "duration": 52,
    "start_time": "2025-05-16T13:28:04.336Z"
   },
   {
    "duration": 41,
    "start_time": "2025-05-16T13:28:04.390Z"
   },
   {
    "duration": 14,
    "start_time": "2025-05-16T13:28:04.433Z"
   },
   {
    "duration": 40,
    "start_time": "2025-05-16T13:28:04.449Z"
   },
   {
    "duration": 38,
    "start_time": "2025-05-16T13:28:04.491Z"
   },
   {
    "duration": 47,
    "start_time": "2025-05-16T13:28:04.531Z"
   },
   {
    "duration": 9,
    "start_time": "2025-05-16T13:28:04.580Z"
   },
   {
    "duration": 21,
    "start_time": "2025-05-16T13:28:04.592Z"
   },
   {
    "duration": 144,
    "start_time": "2025-05-16T13:28:04.614Z"
   },
   {
    "duration": 28,
    "start_time": "2025-05-16T13:28:04.760Z"
   },
   {
    "duration": 43,
    "start_time": "2025-05-16T13:28:04.789Z"
   },
   {
    "duration": 53,
    "start_time": "2025-05-16T13:28:04.834Z"
   },
   {
    "duration": 39,
    "start_time": "2025-05-16T13:28:04.889Z"
   },
   {
    "duration": 55,
    "start_time": "2025-05-16T13:28:04.930Z"
   },
   {
    "duration": 35,
    "start_time": "2025-05-16T13:28:04.987Z"
   },
   {
    "duration": 14,
    "start_time": "2025-05-16T13:28:05.024Z"
   },
   {
    "duration": 36,
    "start_time": "2025-05-16T13:28:05.040Z"
   },
   {
    "duration": 7,
    "start_time": "2025-05-16T13:28:05.078Z"
   },
   {
    "duration": 37,
    "start_time": "2025-05-16T13:28:05.087Z"
   },
   {
    "duration": 146,
    "start_time": "2025-05-16T13:28:05.126Z"
   },
   {
    "duration": 70,
    "start_time": "2025-05-16T13:28:05.275Z"
   },
   {
    "duration": 61,
    "start_time": "2025-05-16T13:28:05.347Z"
   },
   {
    "duration": 600,
    "start_time": "2025-05-16T13:28:05.409Z"
   },
   {
    "duration": 4,
    "start_time": "2025-05-16T13:28:06.011Z"
   },
   {
    "duration": 227,
    "start_time": "2025-05-16T13:28:06.017Z"
   },
   {
    "duration": 16,
    "start_time": "2025-05-16T13:28:06.246Z"
   },
   {
    "duration": 82,
    "start_time": "2025-05-16T13:28:06.264Z"
   },
   {
    "duration": 32,
    "start_time": "2025-05-16T13:28:06.348Z"
   },
   {
    "duration": 50,
    "start_time": "2025-05-16T13:28:06.382Z"
   },
   {
    "duration": 32,
    "start_time": "2025-05-16T13:28:06.434Z"
   },
   {
    "duration": 170,
    "start_time": "2025-05-16T13:28:06.474Z"
   },
   {
    "duration": 134,
    "start_time": "2025-05-16T13:28:06.646Z"
   },
   {
    "duration": 40,
    "start_time": "2025-05-16T13:28:06.782Z"
   },
   {
    "duration": 13,
    "start_time": "2025-05-16T13:28:06.824Z"
   },
   {
    "duration": 3,
    "start_time": "2025-05-16T13:28:06.841Z"
   },
   {
    "duration": 30,
    "start_time": "2025-05-16T13:28:06.845Z"
   },
   {
    "duration": 10,
    "start_time": "2025-05-16T13:28:06.877Z"
   },
   {
    "duration": 8,
    "start_time": "2025-05-16T13:28:06.889Z"
   },
   {
    "duration": 77,
    "start_time": "2025-05-16T13:28:06.899Z"
   },
   {
    "duration": 37,
    "start_time": "2025-05-16T13:28:06.979Z"
   },
   {
    "duration": 9,
    "start_time": "2025-05-16T13:28:07.018Z"
   },
   {
    "duration": 59,
    "start_time": "2025-05-16T13:28:07.030Z"
   },
   {
    "duration": 44,
    "start_time": "2025-05-16T13:28:07.091Z"
   },
   {
    "duration": 39,
    "start_time": "2025-05-16T13:28:07.137Z"
   },
   {
    "duration": 27,
    "start_time": "2025-05-16T13:28:07.177Z"
   },
   {
    "duration": 19,
    "start_time": "2025-05-16T13:28:07.205Z"
   }
  ],
  "colab": {
   "provenance": []
  },
  "kernelspec": {
   "display_name": "Python 3",
   "language": "python",
   "name": "python3"
  },
  "language_info": {
   "codemirror_mode": {
    "name": "ipython",
    "version": 3
   },
   "file_extension": ".py",
   "mimetype": "text/x-python",
   "name": "python",
   "nbconvert_exporter": "python",
   "pygments_lexer": "ipython3",
   "version": "3.8.8"
  },
  "toc": {
   "base_numbering": 1,
   "nav_menu": {},
   "number_sections": true,
   "sideBar": true,
   "skip_h1_title": true,
   "title_cell": "Table of Contents",
   "title_sidebar": "Contents",
   "toc_cell": false,
   "toc_position": {
    "height": "calc(100% - 180px)",
    "left": "10px",
    "top": "150px",
    "width": "176.597px"
   },
   "toc_section_display": true,
   "toc_window_display": true
  }
 },
 "nbformat": 4,
 "nbformat_minor": 5
}
